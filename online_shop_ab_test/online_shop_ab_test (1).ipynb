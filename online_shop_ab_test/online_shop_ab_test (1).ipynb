{
 "cells": [
  {
   "cell_type": "markdown",
   "metadata": {},
   "source": [
    "# Анализ результатов А/В теста\n"
   ]
  },
  {
   "cell_type": "markdown",
   "metadata": {},
   "source": [
    "1. [Введение](#start)\n",
    "2. [Приоритизация гипотез](#hypothesis)\n",
    "3. [Анализ A/B-теста](#test)\n",
    "    * [Анализ кумулятивных метрик](#cumulate)\n",
    "    * [Анализ выбросов](#abnorm)\n",
    "    * [Расчет статистической значимости](#stat)\n",
    "4. [Результат теста](#result)\n",
    "5. [Общий вывод](#concl)"
   ]
  },
  {
   "cell_type": "markdown",
   "metadata": {},
   "source": [
    "# Введение <a id=\"start\"></a>"
   ]
  },
  {
   "cell_type": "markdown",
   "metadata": {},
   "source": [
    "В данной работе мы сначала приоритезируем гипотезы, используя методы ICE и RICE. Далее проведем анализ результатов А/В теста.  \n",
    "Для анализа результатов мы построим графики кумулятивной выручки, среднего чека и конверсии. Проанализируем относительные изменения групп по этим показателям. Выявим аномалии в данных. Посчитаем статистическую значимость различий конверсии и среднего чека по группам по \"сыпым\" и \"очищенным\" данным.  \n",
    "Сделаем выводы о необходимости дальнейшего продолжения теста и об его успешности."
   ]
  },
  {
   "cell_type": "code",
   "execution_count": 1,
   "metadata": {},
   "outputs": [],
   "source": [
    "import pandas as pd\n",
    "import datetime as dt\n",
    "import numpy as np\n",
    "import matplotlib.pyplot as plt\n",
    "import scipy.stats as stats\n",
    "from pandas.plotting import register_matplotlib_converters"
   ]
  },
  {
   "cell_type": "code",
   "execution_count": 2,
   "metadata": {},
   "outputs": [],
   "source": [
    "data = pd.read_csv('hypothesis.csv')\n",
    "orders = pd.read_csv('orders.csv')\n",
    "visitors = pd.read_csv('visitors.csv')\n",
    "pd.set_option('display.max_columns', None)\n",
    "pd.options.display.max_colwidth = 150"
   ]
  },
  {
   "cell_type": "markdown",
   "metadata": {},
   "source": [
    "# Приоритизация гипотез <a id=\"hypothesis\"></a>"
   ]
  },
  {
   "cell_type": "markdown",
   "metadata": {},
   "source": [
    "Посмотрим сначала на гипотезы, изучим оцененные параметры."
   ]
  },
  {
   "cell_type": "code",
   "execution_count": 3,
   "metadata": {},
   "outputs": [
    {
     "data": {
      "text/html": [
       "<div>\n",
       "<style scoped>\n",
       "    .dataframe tbody tr th:only-of-type {\n",
       "        vertical-align: middle;\n",
       "    }\n",
       "\n",
       "    .dataframe tbody tr th {\n",
       "        vertical-align: top;\n",
       "    }\n",
       "\n",
       "    .dataframe thead th {\n",
       "        text-align: right;\n",
       "    }\n",
       "</style>\n",
       "<table border=\"1\" class=\"dataframe\">\n",
       "  <thead>\n",
       "    <tr style=\"text-align: right;\">\n",
       "      <th></th>\n",
       "      <th>Hypothesis</th>\n",
       "      <th>Reach</th>\n",
       "      <th>Impact</th>\n",
       "      <th>Confidence</th>\n",
       "      <th>Efforts</th>\n",
       "    </tr>\n",
       "  </thead>\n",
       "  <tbody>\n",
       "    <tr>\n",
       "      <th>0</th>\n",
       "      <td>Добавить два новых канала привлечения трафика, что позволит привлекать на 30% больше пользователей</td>\n",
       "      <td>3</td>\n",
       "      <td>10</td>\n",
       "      <td>8</td>\n",
       "      <td>6</td>\n",
       "    </tr>\n",
       "    <tr>\n",
       "      <th>1</th>\n",
       "      <td>Запустить собственную службу доставки, что сократит срок доставки заказов</td>\n",
       "      <td>2</td>\n",
       "      <td>5</td>\n",
       "      <td>4</td>\n",
       "      <td>10</td>\n",
       "    </tr>\n",
       "    <tr>\n",
       "      <th>2</th>\n",
       "      <td>Добавить блоки рекомендаций товаров на сайт интернет магазина, чтобы повысить конверсию и средний чек заказа</td>\n",
       "      <td>8</td>\n",
       "      <td>3</td>\n",
       "      <td>7</td>\n",
       "      <td>3</td>\n",
       "    </tr>\n",
       "    <tr>\n",
       "      <th>3</th>\n",
       "      <td>Изменить структура категорий, что увеличит конверсию, т.к. пользователи быстрее найдут нужный товар</td>\n",
       "      <td>8</td>\n",
       "      <td>3</td>\n",
       "      <td>3</td>\n",
       "      <td>8</td>\n",
       "    </tr>\n",
       "    <tr>\n",
       "      <th>4</th>\n",
       "      <td>Изменить цвет фона главной страницы, чтобы увеличить вовлеченность пользователей</td>\n",
       "      <td>3</td>\n",
       "      <td>1</td>\n",
       "      <td>1</td>\n",
       "      <td>1</td>\n",
       "    </tr>\n",
       "    <tr>\n",
       "      <th>5</th>\n",
       "      <td>Добавить страницу отзывов клиентов о магазине, что позволит увеличить количество заказов</td>\n",
       "      <td>3</td>\n",
       "      <td>2</td>\n",
       "      <td>2</td>\n",
       "      <td>3</td>\n",
       "    </tr>\n",
       "    <tr>\n",
       "      <th>6</th>\n",
       "      <td>Показать на главной странице баннеры с актуальными акциями и распродажами, чтобы увеличить конверсию</td>\n",
       "      <td>5</td>\n",
       "      <td>3</td>\n",
       "      <td>8</td>\n",
       "      <td>3</td>\n",
       "    </tr>\n",
       "    <tr>\n",
       "      <th>7</th>\n",
       "      <td>Добавить форму подписки на все основные страницы, чтобы собрать базу клиентов для email-рассылок</td>\n",
       "      <td>10</td>\n",
       "      <td>7</td>\n",
       "      <td>8</td>\n",
       "      <td>5</td>\n",
       "    </tr>\n",
       "    <tr>\n",
       "      <th>8</th>\n",
       "      <td>Запустить акцию, дающую скидку на товар в день рождения</td>\n",
       "      <td>1</td>\n",
       "      <td>9</td>\n",
       "      <td>9</td>\n",
       "      <td>5</td>\n",
       "    </tr>\n",
       "  </tbody>\n",
       "</table>\n",
       "</div>"
      ],
      "text/plain": [
       "                                                                                                     Hypothesis  \\\n",
       "0            Добавить два новых канала привлечения трафика, что позволит привлекать на 30% больше пользователей   \n",
       "1                                     Запустить собственную службу доставки, что сократит срок доставки заказов   \n",
       "2  Добавить блоки рекомендаций товаров на сайт интернет магазина, чтобы повысить конверсию и средний чек заказа   \n",
       "3           Изменить структура категорий, что увеличит конверсию, т.к. пользователи быстрее найдут нужный товар   \n",
       "4                              Изменить цвет фона главной страницы, чтобы увеличить вовлеченность пользователей   \n",
       "5                      Добавить страницу отзывов клиентов о магазине, что позволит увеличить количество заказов   \n",
       "6          Показать на главной странице баннеры с актуальными акциями и распродажами, чтобы увеличить конверсию   \n",
       "7              Добавить форму подписки на все основные страницы, чтобы собрать базу клиентов для email-рассылок   \n",
       "8                                                       Запустить акцию, дающую скидку на товар в день рождения   \n",
       "\n",
       "   Reach  Impact  Confidence  Efforts  \n",
       "0      3      10           8        6  \n",
       "1      2       5           4       10  \n",
       "2      8       3           7        3  \n",
       "3      8       3           3        8  \n",
       "4      3       1           1        1  \n",
       "5      3       2           2        3  \n",
       "6      5       3           8        3  \n",
       "7     10       7           8        5  \n",
       "8      1       9           9        5  "
      ]
     },
     "execution_count": 3,
     "metadata": {},
     "output_type": "execute_result"
    }
   ],
   "source": [
    "data"
   ]
  },
  {
   "cell_type": "code",
   "execution_count": 4,
   "metadata": {},
   "outputs": [
    {
     "data": {
      "text/html": [
       "<div>\n",
       "<style scoped>\n",
       "    .dataframe tbody tr th:only-of-type {\n",
       "        vertical-align: middle;\n",
       "    }\n",
       "\n",
       "    .dataframe tbody tr th {\n",
       "        vertical-align: top;\n",
       "    }\n",
       "\n",
       "    .dataframe thead th {\n",
       "        text-align: right;\n",
       "    }\n",
       "</style>\n",
       "<table border=\"1\" class=\"dataframe\">\n",
       "  <thead>\n",
       "    <tr style=\"text-align: right;\">\n",
       "      <th></th>\n",
       "      <th>Hypothesis</th>\n",
       "      <th>Reach</th>\n",
       "      <th>Impact</th>\n",
       "      <th>Confidence</th>\n",
       "      <th>Efforts</th>\n",
       "    </tr>\n",
       "  </thead>\n",
       "  <tbody>\n",
       "    <tr>\n",
       "      <th>1</th>\n",
       "      <td>Запустить собственную службу доставки, что сократит срок доставки заказов</td>\n",
       "      <td>2</td>\n",
       "      <td>5</td>\n",
       "      <td>4</td>\n",
       "      <td>10</td>\n",
       "    </tr>\n",
       "    <tr>\n",
       "      <th>3</th>\n",
       "      <td>Изменить структура категорий, что увеличит конверсию, т.к. пользователи быстрее найдут нужный товар</td>\n",
       "      <td>8</td>\n",
       "      <td>3</td>\n",
       "      <td>3</td>\n",
       "      <td>8</td>\n",
       "    </tr>\n",
       "    <tr>\n",
       "      <th>0</th>\n",
       "      <td>Добавить два новых канала привлечения трафика, что позволит привлекать на 30% больше пользователей</td>\n",
       "      <td>3</td>\n",
       "      <td>10</td>\n",
       "      <td>8</td>\n",
       "      <td>6</td>\n",
       "    </tr>\n",
       "    <tr>\n",
       "      <th>7</th>\n",
       "      <td>Добавить форму подписки на все основные страницы, чтобы собрать базу клиентов для email-рассылок</td>\n",
       "      <td>10</td>\n",
       "      <td>7</td>\n",
       "      <td>8</td>\n",
       "      <td>5</td>\n",
       "    </tr>\n",
       "    <tr>\n",
       "      <th>8</th>\n",
       "      <td>Запустить акцию, дающую скидку на товар в день рождения</td>\n",
       "      <td>1</td>\n",
       "      <td>9</td>\n",
       "      <td>9</td>\n",
       "      <td>5</td>\n",
       "    </tr>\n",
       "    <tr>\n",
       "      <th>2</th>\n",
       "      <td>Добавить блоки рекомендаций товаров на сайт интернет магазина, чтобы повысить конверсию и средний чек заказа</td>\n",
       "      <td>8</td>\n",
       "      <td>3</td>\n",
       "      <td>7</td>\n",
       "      <td>3</td>\n",
       "    </tr>\n",
       "    <tr>\n",
       "      <th>5</th>\n",
       "      <td>Добавить страницу отзывов клиентов о магазине, что позволит увеличить количество заказов</td>\n",
       "      <td>3</td>\n",
       "      <td>2</td>\n",
       "      <td>2</td>\n",
       "      <td>3</td>\n",
       "    </tr>\n",
       "    <tr>\n",
       "      <th>6</th>\n",
       "      <td>Показать на главной странице баннеры с актуальными акциями и распродажами, чтобы увеличить конверсию</td>\n",
       "      <td>5</td>\n",
       "      <td>3</td>\n",
       "      <td>8</td>\n",
       "      <td>3</td>\n",
       "    </tr>\n",
       "    <tr>\n",
       "      <th>4</th>\n",
       "      <td>Изменить цвет фона главной страницы, чтобы увеличить вовлеченность пользователей</td>\n",
       "      <td>3</td>\n",
       "      <td>1</td>\n",
       "      <td>1</td>\n",
       "      <td>1</td>\n",
       "    </tr>\n",
       "  </tbody>\n",
       "</table>\n",
       "</div>"
      ],
      "text/plain": [
       "                                                                                                     Hypothesis  \\\n",
       "1                                     Запустить собственную службу доставки, что сократит срок доставки заказов   \n",
       "3           Изменить структура категорий, что увеличит конверсию, т.к. пользователи быстрее найдут нужный товар   \n",
       "0            Добавить два новых канала привлечения трафика, что позволит привлекать на 30% больше пользователей   \n",
       "7              Добавить форму подписки на все основные страницы, чтобы собрать базу клиентов для email-рассылок   \n",
       "8                                                       Запустить акцию, дающую скидку на товар в день рождения   \n",
       "2  Добавить блоки рекомендаций товаров на сайт интернет магазина, чтобы повысить конверсию и средний чек заказа   \n",
       "5                      Добавить страницу отзывов клиентов о магазине, что позволит увеличить количество заказов   \n",
       "6          Показать на главной странице баннеры с актуальными акциями и распродажами, чтобы увеличить конверсию   \n",
       "4                              Изменить цвет фона главной страницы, чтобы увеличить вовлеченность пользователей   \n",
       "\n",
       "   Reach  Impact  Confidence  Efforts  \n",
       "1      2       5           4       10  \n",
       "3      8       3           3        8  \n",
       "0      3      10           8        6  \n",
       "7     10       7           8        5  \n",
       "8      1       9           9        5  \n",
       "2      8       3           7        3  \n",
       "5      3       2           2        3  \n",
       "6      5       3           8        3  \n",
       "4      3       1           1        1  "
      ]
     },
     "execution_count": 4,
     "metadata": {},
     "output_type": "execute_result"
    }
   ],
   "source": [
    "data.sort_values(by='Efforts', ascending=False)"
   ]
  },
  {
   "cell_type": "markdown",
   "metadata": {},
   "source": [
    "Самой большой охват пользователей у восьмой гипотезы, первая гипотеза предположительно больше всего повлияет на охваченных пользователей, вторая гипотеза оценена как самая сложная для проверки. "
   ]
  },
  {
   "cell_type": "markdown",
   "metadata": {},
   "source": [
    "Применим фреймворк ICE для приоритизации гипотез. Отсортируем их по убыванию приоритета."
   ]
  },
  {
   "cell_type": "code",
   "execution_count": 5,
   "metadata": {},
   "outputs": [
    {
     "data": {
      "text/html": [
       "<div>\n",
       "<style scoped>\n",
       "    .dataframe tbody tr th:only-of-type {\n",
       "        vertical-align: middle;\n",
       "    }\n",
       "\n",
       "    .dataframe tbody tr th {\n",
       "        vertical-align: top;\n",
       "    }\n",
       "\n",
       "    .dataframe thead th {\n",
       "        text-align: right;\n",
       "    }\n",
       "</style>\n",
       "<table border=\"1\" class=\"dataframe\">\n",
       "  <thead>\n",
       "    <tr style=\"text-align: right;\">\n",
       "      <th></th>\n",
       "      <th>Hypothesis</th>\n",
       "      <th>ICE</th>\n",
       "    </tr>\n",
       "  </thead>\n",
       "  <tbody>\n",
       "    <tr>\n",
       "      <th>8</th>\n",
       "      <td>Запустить акцию, дающую скидку на товар в день рождения</td>\n",
       "      <td>16.20</td>\n",
       "    </tr>\n",
       "    <tr>\n",
       "      <th>0</th>\n",
       "      <td>Добавить два новых канала привлечения трафика, что позволит привлекать на 30% больше пользователей</td>\n",
       "      <td>13.33</td>\n",
       "    </tr>\n",
       "    <tr>\n",
       "      <th>7</th>\n",
       "      <td>Добавить форму подписки на все основные страницы, чтобы собрать базу клиентов для email-рассылок</td>\n",
       "      <td>11.20</td>\n",
       "    </tr>\n",
       "    <tr>\n",
       "      <th>6</th>\n",
       "      <td>Показать на главной странице баннеры с актуальными акциями и распродажами, чтобы увеличить конверсию</td>\n",
       "      <td>8.00</td>\n",
       "    </tr>\n",
       "    <tr>\n",
       "      <th>2</th>\n",
       "      <td>Добавить блоки рекомендаций товаров на сайт интернет магазина, чтобы повысить конверсию и средний чек заказа</td>\n",
       "      <td>7.00</td>\n",
       "    </tr>\n",
       "    <tr>\n",
       "      <th>1</th>\n",
       "      <td>Запустить собственную службу доставки, что сократит срок доставки заказов</td>\n",
       "      <td>2.00</td>\n",
       "    </tr>\n",
       "    <tr>\n",
       "      <th>5</th>\n",
       "      <td>Добавить страницу отзывов клиентов о магазине, что позволит увеличить количество заказов</td>\n",
       "      <td>1.33</td>\n",
       "    </tr>\n",
       "    <tr>\n",
       "      <th>3</th>\n",
       "      <td>Изменить структура категорий, что увеличит конверсию, т.к. пользователи быстрее найдут нужный товар</td>\n",
       "      <td>1.12</td>\n",
       "    </tr>\n",
       "    <tr>\n",
       "      <th>4</th>\n",
       "      <td>Изменить цвет фона главной страницы, чтобы увеличить вовлеченность пользователей</td>\n",
       "      <td>1.00</td>\n",
       "    </tr>\n",
       "  </tbody>\n",
       "</table>\n",
       "</div>"
      ],
      "text/plain": [
       "                                                                                                     Hypothesis  \\\n",
       "8                                                       Запустить акцию, дающую скидку на товар в день рождения   \n",
       "0            Добавить два новых канала привлечения трафика, что позволит привлекать на 30% больше пользователей   \n",
       "7              Добавить форму подписки на все основные страницы, чтобы собрать базу клиентов для email-рассылок   \n",
       "6          Показать на главной странице баннеры с актуальными акциями и распродажами, чтобы увеличить конверсию   \n",
       "2  Добавить блоки рекомендаций товаров на сайт интернет магазина, чтобы повысить конверсию и средний чек заказа   \n",
       "1                                     Запустить собственную службу доставки, что сократит срок доставки заказов   \n",
       "5                      Добавить страницу отзывов клиентов о магазине, что позволит увеличить количество заказов   \n",
       "3           Изменить структура категорий, что увеличит конверсию, т.к. пользователи быстрее найдут нужный товар   \n",
       "4                              Изменить цвет фона главной страницы, чтобы увеличить вовлеченность пользователей   \n",
       "\n",
       "     ICE  \n",
       "8  16.20  \n",
       "0  13.33  \n",
       "7  11.20  \n",
       "6   8.00  \n",
       "2   7.00  \n",
       "1   2.00  \n",
       "5   1.33  \n",
       "3   1.12  \n",
       "4   1.00  "
      ]
     },
     "execution_count": 5,
     "metadata": {},
     "output_type": "execute_result"
    }
   ],
   "source": [
    "data['ICE'] = round(((data['Impact'] * data['Confidence']) / data['Efforts']), 2)\n",
    "data[['Hypothesis', 'ICE']].sort_values(by='ICE', ascending=False)"
   ]
  },
  {
   "cell_type": "markdown",
   "metadata": {},
   "source": [
    "Теперь применим фреймворк RICE и так же отсортируем гипотезы по убыванию приоритета."
   ]
  },
  {
   "cell_type": "code",
   "execution_count": 6,
   "metadata": {
    "scrolled": true
   },
   "outputs": [
    {
     "data": {
      "text/html": [
       "<div>\n",
       "<style scoped>\n",
       "    .dataframe tbody tr th:only-of-type {\n",
       "        vertical-align: middle;\n",
       "    }\n",
       "\n",
       "    .dataframe tbody tr th {\n",
       "        vertical-align: top;\n",
       "    }\n",
       "\n",
       "    .dataframe thead th {\n",
       "        text-align: right;\n",
       "    }\n",
       "</style>\n",
       "<table border=\"1\" class=\"dataframe\">\n",
       "  <thead>\n",
       "    <tr style=\"text-align: right;\">\n",
       "      <th></th>\n",
       "      <th>Hypothesis</th>\n",
       "      <th>RICE</th>\n",
       "    </tr>\n",
       "  </thead>\n",
       "  <tbody>\n",
       "    <tr>\n",
       "      <th>7</th>\n",
       "      <td>Добавить форму подписки на все основные страницы, чтобы собрать базу клиентов для email-рассылок</td>\n",
       "      <td>112.0</td>\n",
       "    </tr>\n",
       "    <tr>\n",
       "      <th>2</th>\n",
       "      <td>Добавить блоки рекомендаций товаров на сайт интернет магазина, чтобы повысить конверсию и средний чек заказа</td>\n",
       "      <td>56.0</td>\n",
       "    </tr>\n",
       "    <tr>\n",
       "      <th>0</th>\n",
       "      <td>Добавить два новых канала привлечения трафика, что позволит привлекать на 30% больше пользователей</td>\n",
       "      <td>40.0</td>\n",
       "    </tr>\n",
       "    <tr>\n",
       "      <th>6</th>\n",
       "      <td>Показать на главной странице баннеры с актуальными акциями и распродажами, чтобы увеличить конверсию</td>\n",
       "      <td>40.0</td>\n",
       "    </tr>\n",
       "    <tr>\n",
       "      <th>8</th>\n",
       "      <td>Запустить акцию, дающую скидку на товар в день рождения</td>\n",
       "      <td>16.2</td>\n",
       "    </tr>\n",
       "    <tr>\n",
       "      <th>3</th>\n",
       "      <td>Изменить структура категорий, что увеличит конверсию, т.к. пользователи быстрее найдут нужный товар</td>\n",
       "      <td>9.0</td>\n",
       "    </tr>\n",
       "    <tr>\n",
       "      <th>1</th>\n",
       "      <td>Запустить собственную службу доставки, что сократит срок доставки заказов</td>\n",
       "      <td>4.0</td>\n",
       "    </tr>\n",
       "    <tr>\n",
       "      <th>5</th>\n",
       "      <td>Добавить страницу отзывов клиентов о магазине, что позволит увеличить количество заказов</td>\n",
       "      <td>4.0</td>\n",
       "    </tr>\n",
       "    <tr>\n",
       "      <th>4</th>\n",
       "      <td>Изменить цвет фона главной страницы, чтобы увеличить вовлеченность пользователей</td>\n",
       "      <td>3.0</td>\n",
       "    </tr>\n",
       "  </tbody>\n",
       "</table>\n",
       "</div>"
      ],
      "text/plain": [
       "                                                                                                     Hypothesis  \\\n",
       "7              Добавить форму подписки на все основные страницы, чтобы собрать базу клиентов для email-рассылок   \n",
       "2  Добавить блоки рекомендаций товаров на сайт интернет магазина, чтобы повысить конверсию и средний чек заказа   \n",
       "0            Добавить два новых канала привлечения трафика, что позволит привлекать на 30% больше пользователей   \n",
       "6          Показать на главной странице баннеры с актуальными акциями и распродажами, чтобы увеличить конверсию   \n",
       "8                                                       Запустить акцию, дающую скидку на товар в день рождения   \n",
       "3           Изменить структура категорий, что увеличит конверсию, т.к. пользователи быстрее найдут нужный товар   \n",
       "1                                     Запустить собственную службу доставки, что сократит срок доставки заказов   \n",
       "5                      Добавить страницу отзывов клиентов о магазине, что позволит увеличить количество заказов   \n",
       "4                              Изменить цвет фона главной страницы, чтобы увеличить вовлеченность пользователей   \n",
       "\n",
       "    RICE  \n",
       "7  112.0  \n",
       "2   56.0  \n",
       "0   40.0  \n",
       "6   40.0  \n",
       "8   16.2  \n",
       "3    9.0  \n",
       "1    4.0  \n",
       "5    4.0  \n",
       "4    3.0  "
      ]
     },
     "execution_count": 6,
     "metadata": {},
     "output_type": "execute_result"
    }
   ],
   "source": [
    "data['RICE'] = round(((data['Reach'] * data['Impact'] * data['Confidence']) / data['Efforts']), 2)\n",
    "data[['Hypothesis', 'RICE']].sort_values(by='RICE', ascending=False)"
   ]
  },
  {
   "cell_type": "code",
   "execution_count": 7,
   "metadata": {},
   "outputs": [
    {
     "data": {
      "text/html": [
       "<style type=\"text/css\">\n",
       "#T_ff4a4_row6_col2, #T_ff4a4_row7_col1, #T_ff4a4_row8_col0 {\n",
       "  background-color: green;\n",
       "}\n",
       "</style>\n",
       "<table id=\"T_ff4a4_\">\n",
       "  <thead>\n",
       "    <tr>\n",
       "      <th class=\"blank level0\" >&nbsp;</th>\n",
       "      <th class=\"col_heading level0 col0\" >ICE</th>\n",
       "      <th class=\"col_heading level0 col1\" >RICE</th>\n",
       "      <th class=\"col_heading level0 col2\" >Hypothesis</th>\n",
       "    </tr>\n",
       "  </thead>\n",
       "  <tbody>\n",
       "    <tr>\n",
       "      <th id=\"T_ff4a4_level0_row0\" class=\"row_heading level0 row0\" >0</th>\n",
       "      <td id=\"T_ff4a4_row0_col0\" class=\"data row0 col0\" >13.330000</td>\n",
       "      <td id=\"T_ff4a4_row0_col1\" class=\"data row0 col1\" >40.000000</td>\n",
       "      <td id=\"T_ff4a4_row0_col2\" class=\"data row0 col2\" >Добавить два новых канала привлечения трафика, что позволит привлекать на 30% больше пользователей</td>\n",
       "    </tr>\n",
       "    <tr>\n",
       "      <th id=\"T_ff4a4_level0_row1\" class=\"row_heading level0 row1\" >1</th>\n",
       "      <td id=\"T_ff4a4_row1_col0\" class=\"data row1 col0\" >2.000000</td>\n",
       "      <td id=\"T_ff4a4_row1_col1\" class=\"data row1 col1\" >4.000000</td>\n",
       "      <td id=\"T_ff4a4_row1_col2\" class=\"data row1 col2\" >Запустить собственную службу доставки, что сократит срок доставки заказов</td>\n",
       "    </tr>\n",
       "    <tr>\n",
       "      <th id=\"T_ff4a4_level0_row2\" class=\"row_heading level0 row2\" >2</th>\n",
       "      <td id=\"T_ff4a4_row2_col0\" class=\"data row2 col0\" >7.000000</td>\n",
       "      <td id=\"T_ff4a4_row2_col1\" class=\"data row2 col1\" >56.000000</td>\n",
       "      <td id=\"T_ff4a4_row2_col2\" class=\"data row2 col2\" >Добавить блоки рекомендаций товаров на сайт интернет магазина, чтобы повысить конверсию и средний чек заказа</td>\n",
       "    </tr>\n",
       "    <tr>\n",
       "      <th id=\"T_ff4a4_level0_row3\" class=\"row_heading level0 row3\" >3</th>\n",
       "      <td id=\"T_ff4a4_row3_col0\" class=\"data row3 col0\" >1.120000</td>\n",
       "      <td id=\"T_ff4a4_row3_col1\" class=\"data row3 col1\" >9.000000</td>\n",
       "      <td id=\"T_ff4a4_row3_col2\" class=\"data row3 col2\" >Изменить структура категорий, что увеличит конверсию, т.к. пользователи быстрее найдут нужный товар</td>\n",
       "    </tr>\n",
       "    <tr>\n",
       "      <th id=\"T_ff4a4_level0_row4\" class=\"row_heading level0 row4\" >4</th>\n",
       "      <td id=\"T_ff4a4_row4_col0\" class=\"data row4 col0\" >1.000000</td>\n",
       "      <td id=\"T_ff4a4_row4_col1\" class=\"data row4 col1\" >3.000000</td>\n",
       "      <td id=\"T_ff4a4_row4_col2\" class=\"data row4 col2\" >Изменить цвет фона главной страницы, чтобы увеличить вовлеченность пользователей</td>\n",
       "    </tr>\n",
       "    <tr>\n",
       "      <th id=\"T_ff4a4_level0_row5\" class=\"row_heading level0 row5\" >5</th>\n",
       "      <td id=\"T_ff4a4_row5_col0\" class=\"data row5 col0\" >1.330000</td>\n",
       "      <td id=\"T_ff4a4_row5_col1\" class=\"data row5 col1\" >4.000000</td>\n",
       "      <td id=\"T_ff4a4_row5_col2\" class=\"data row5 col2\" >Добавить страницу отзывов клиентов о магазине, что позволит увеличить количество заказов</td>\n",
       "    </tr>\n",
       "    <tr>\n",
       "      <th id=\"T_ff4a4_level0_row6\" class=\"row_heading level0 row6\" >6</th>\n",
       "      <td id=\"T_ff4a4_row6_col0\" class=\"data row6 col0\" >8.000000</td>\n",
       "      <td id=\"T_ff4a4_row6_col1\" class=\"data row6 col1\" >40.000000</td>\n",
       "      <td id=\"T_ff4a4_row6_col2\" class=\"data row6 col2\" >Показать на главной странице баннеры с актуальными акциями и распродажами, чтобы увеличить конверсию</td>\n",
       "    </tr>\n",
       "    <tr>\n",
       "      <th id=\"T_ff4a4_level0_row7\" class=\"row_heading level0 row7\" >7</th>\n",
       "      <td id=\"T_ff4a4_row7_col0\" class=\"data row7 col0\" >11.200000</td>\n",
       "      <td id=\"T_ff4a4_row7_col1\" class=\"data row7 col1\" >112.000000</td>\n",
       "      <td id=\"T_ff4a4_row7_col2\" class=\"data row7 col2\" >Добавить форму подписки на все основные страницы, чтобы собрать базу клиентов для email-рассылок</td>\n",
       "    </tr>\n",
       "    <tr>\n",
       "      <th id=\"T_ff4a4_level0_row8\" class=\"row_heading level0 row8\" >8</th>\n",
       "      <td id=\"T_ff4a4_row8_col0\" class=\"data row8 col0\" >16.200000</td>\n",
       "      <td id=\"T_ff4a4_row8_col1\" class=\"data row8 col1\" >16.200000</td>\n",
       "      <td id=\"T_ff4a4_row8_col2\" class=\"data row8 col2\" >Запустить акцию, дающую скидку на товар в день рождения</td>\n",
       "    </tr>\n",
       "  </tbody>\n",
       "</table>\n"
      ],
      "text/plain": [
       "<pandas.io.formats.style.Styler at 0x1d13b31ebb0>"
      ]
     },
     "execution_count": 7,
     "metadata": {},
     "output_type": "execute_result"
    }
   ],
   "source": [
    "data[['ICE', 'RICE', 'Hypothesis']].style.highlight_max(color='green')"
   ]
  },
  {
   "cell_type": "markdown",
   "metadata": {},
   "source": [
    "После применении метода RICE изменился приоритет гипотез по сравнению c ICE. Восьмая гипотеза (\"запустить акцию, дающую скидку на товар в день рождения\") упала на пятое место, так как у нее самая низкая оценка показателя Reach. А седьмая гипотеза (\"добавить форму подписки на все основные страницы, чтобы собрать базу клиентов для email-рассылок\") вышла на первое место, так как у нее охват оценен макисмально. Вторая гипотеза (\"добавить блоки рекомендаций товаров на сайт интернет магазина, чтобы повысить конверсию и средний чек заказа\") вышла на второе место, так как у нее достаточно высокий охват и при этом Effort оценен всего на три балла.\n",
    "По результатам применения двух методов гипотезы номер 0 (\"добавить два новых канала привлечения трафика, что позволит привлекать на 30% больше пользователей\")  и  7 (\"добавить форму подписки на все основные страницы, чтобы собрать базу клиентов для email-рассылок\") оказались в тройке лидеров."
   ]
  },
  {
   "cell_type": "markdown",
   "metadata": {},
   "source": [
    "# Анализ A/B-теста <a id=\"test\"></a>"
   ]
  },
  {
   "cell_type": "markdown",
   "metadata": {},
   "source": [
    "Для анализа результатов теста сначала посмотрим на имеющиеся данные. Приведем данные к нужному виду. Проверим на наличие дубликатов и ошибок."
   ]
  },
  {
   "cell_type": "code",
   "execution_count": 8,
   "metadata": {},
   "outputs": [
    {
     "data": {
      "text/html": [
       "<div>\n",
       "<style scoped>\n",
       "    .dataframe tbody tr th:only-of-type {\n",
       "        vertical-align: middle;\n",
       "    }\n",
       "\n",
       "    .dataframe tbody tr th {\n",
       "        vertical-align: top;\n",
       "    }\n",
       "\n",
       "    .dataframe thead th {\n",
       "        text-align: right;\n",
       "    }\n",
       "</style>\n",
       "<table border=\"1\" class=\"dataframe\">\n",
       "  <thead>\n",
       "    <tr style=\"text-align: right;\">\n",
       "      <th></th>\n",
       "      <th>transactionId</th>\n",
       "      <th>visitorId</th>\n",
       "      <th>date</th>\n",
       "      <th>revenue</th>\n",
       "      <th>group</th>\n",
       "    </tr>\n",
       "  </thead>\n",
       "  <tbody>\n",
       "    <tr>\n",
       "      <th>0</th>\n",
       "      <td>3667963787</td>\n",
       "      <td>3312258926</td>\n",
       "      <td>2019-08-15</td>\n",
       "      <td>1650</td>\n",
       "      <td>B</td>\n",
       "    </tr>\n",
       "    <tr>\n",
       "      <th>1</th>\n",
       "      <td>2804400009</td>\n",
       "      <td>3642806036</td>\n",
       "      <td>2019-08-15</td>\n",
       "      <td>730</td>\n",
       "      <td>B</td>\n",
       "    </tr>\n",
       "    <tr>\n",
       "      <th>2</th>\n",
       "      <td>2961555356</td>\n",
       "      <td>4069496402</td>\n",
       "      <td>2019-08-15</td>\n",
       "      <td>400</td>\n",
       "      <td>A</td>\n",
       "    </tr>\n",
       "    <tr>\n",
       "      <th>3</th>\n",
       "      <td>3797467345</td>\n",
       "      <td>1196621759</td>\n",
       "      <td>2019-08-15</td>\n",
       "      <td>9759</td>\n",
       "      <td>B</td>\n",
       "    </tr>\n",
       "    <tr>\n",
       "      <th>4</th>\n",
       "      <td>2282983706</td>\n",
       "      <td>2322279887</td>\n",
       "      <td>2019-08-15</td>\n",
       "      <td>2308</td>\n",
       "      <td>B</td>\n",
       "    </tr>\n",
       "    <tr>\n",
       "      <th>...</th>\n",
       "      <td>...</td>\n",
       "      <td>...</td>\n",
       "      <td>...</td>\n",
       "      <td>...</td>\n",
       "      <td>...</td>\n",
       "    </tr>\n",
       "    <tr>\n",
       "      <th>1192</th>\n",
       "      <td>2662137336</td>\n",
       "      <td>3733762160</td>\n",
       "      <td>2019-08-14</td>\n",
       "      <td>6490</td>\n",
       "      <td>B</td>\n",
       "    </tr>\n",
       "    <tr>\n",
       "      <th>1193</th>\n",
       "      <td>2203539145</td>\n",
       "      <td>370388673</td>\n",
       "      <td>2019-08-14</td>\n",
       "      <td>3190</td>\n",
       "      <td>A</td>\n",
       "    </tr>\n",
       "    <tr>\n",
       "      <th>1194</th>\n",
       "      <td>1807773912</td>\n",
       "      <td>573423106</td>\n",
       "      <td>2019-08-14</td>\n",
       "      <td>10550</td>\n",
       "      <td>A</td>\n",
       "    </tr>\n",
       "    <tr>\n",
       "      <th>1195</th>\n",
       "      <td>1947021204</td>\n",
       "      <td>1614305549</td>\n",
       "      <td>2019-08-14</td>\n",
       "      <td>100</td>\n",
       "      <td>A</td>\n",
       "    </tr>\n",
       "    <tr>\n",
       "      <th>1196</th>\n",
       "      <td>3936777065</td>\n",
       "      <td>2108080724</td>\n",
       "      <td>2019-08-15</td>\n",
       "      <td>202740</td>\n",
       "      <td>B</td>\n",
       "    </tr>\n",
       "  </tbody>\n",
       "</table>\n",
       "<p>1197 rows × 5 columns</p>\n",
       "</div>"
      ],
      "text/plain": [
       "      transactionId   visitorId        date  revenue group\n",
       "0        3667963787  3312258926  2019-08-15     1650     B\n",
       "1        2804400009  3642806036  2019-08-15      730     B\n",
       "2        2961555356  4069496402  2019-08-15      400     A\n",
       "3        3797467345  1196621759  2019-08-15     9759     B\n",
       "4        2282983706  2322279887  2019-08-15     2308     B\n",
       "...             ...         ...         ...      ...   ...\n",
       "1192     2662137336  3733762160  2019-08-14     6490     B\n",
       "1193     2203539145   370388673  2019-08-14     3190     A\n",
       "1194     1807773912   573423106  2019-08-14    10550     A\n",
       "1195     1947021204  1614305549  2019-08-14      100     A\n",
       "1196     3936777065  2108080724  2019-08-15   202740     B\n",
       "\n",
       "[1197 rows x 5 columns]"
      ]
     },
     "execution_count": 8,
     "metadata": {},
     "output_type": "execute_result"
    }
   ],
   "source": [
    "orders"
   ]
  },
  {
   "cell_type": "markdown",
   "metadata": {},
   "source": [
    "Исправим названия столбцов для удобства. Исправим тип данных в столбце с датой заказа."
   ]
  },
  {
   "cell_type": "code",
   "execution_count": 9,
   "metadata": {},
   "outputs": [
    {
     "name": "stdout",
     "output_type": "stream",
     "text": [
      "<class 'pandas.core.frame.DataFrame'>\n",
      "RangeIndex: 1197 entries, 0 to 1196\n",
      "Data columns (total 5 columns):\n",
      " #   Column          Non-Null Count  Dtype \n",
      "---  ------          --------------  ----- \n",
      " 0   transaction_id  1197 non-null   int64 \n",
      " 1   visitor_id      1197 non-null   int64 \n",
      " 2   date            1197 non-null   object\n",
      " 3   revenue         1197 non-null   int64 \n",
      " 4   group           1197 non-null   object\n",
      "dtypes: int64(3), object(2)\n",
      "memory usage: 46.9+ KB\n"
     ]
    }
   ],
   "source": [
    "orders = orders.rename(columns={'transactionId':'transaction_id', 'visitorId':'visitor_id'})\n",
    "orders.info()"
   ]
  },
  {
   "cell_type": "code",
   "execution_count": 10,
   "metadata": {},
   "outputs": [
    {
     "name": "stdout",
     "output_type": "stream",
     "text": [
      "<class 'pandas.core.frame.DataFrame'>\n",
      "RangeIndex: 1197 entries, 0 to 1196\n",
      "Data columns (total 5 columns):\n",
      " #   Column          Non-Null Count  Dtype \n",
      "---  ------          --------------  ----- \n",
      " 0   transaction_id  1197 non-null   int64 \n",
      " 1   visitor_id      1197 non-null   int64 \n",
      " 2   date            1197 non-null   object\n",
      " 3   revenue         1197 non-null   int64 \n",
      " 4   group           1197 non-null   object\n",
      "dtypes: int64(3), object(2)\n",
      "memory usage: 46.9+ KB\n"
     ]
    }
   ],
   "source": [
    "orders.info()"
   ]
  },
  {
   "cell_type": "code",
   "execution_count": 11,
   "metadata": {},
   "outputs": [
    {
     "name": "stdout",
     "output_type": "stream",
     "text": [
      "<class 'pandas.core.frame.DataFrame'>\n",
      "RangeIndex: 1197 entries, 0 to 1196\n",
      "Data columns (total 5 columns):\n",
      " #   Column          Non-Null Count  Dtype         \n",
      "---  ------          --------------  -----         \n",
      " 0   transaction_id  1197 non-null   int64         \n",
      " 1   visitor_id      1197 non-null   int64         \n",
      " 2   date            1197 non-null   datetime64[ns]\n",
      " 3   revenue         1197 non-null   int64         \n",
      " 4   group           1197 non-null   object        \n",
      "dtypes: datetime64[ns](1), int64(3), object(1)\n",
      "memory usage: 46.9+ KB\n"
     ]
    }
   ],
   "source": [
    "orders['date'] = orders['date'].astype('datetime64')\n",
    "orders.info()"
   ]
  },
  {
   "cell_type": "markdown",
   "metadata": {},
   "source": [
    "Проверим идентификаторы пользователей, посмотрим не попали ли одни и те же пользователи в обе группы."
   ]
  },
  {
   "cell_type": "code",
   "execution_count": 12,
   "metadata": {},
   "outputs": [],
   "source": [
    "visitors_a = orders.query('group==\"A\"')['visitor_id']"
   ]
  },
  {
   "cell_type": "code",
   "execution_count": 13,
   "metadata": {},
   "outputs": [
    {
     "data": {
      "text/plain": [
       "58"
      ]
     },
     "execution_count": 13,
     "metadata": {},
     "output_type": "execute_result"
    }
   ],
   "source": [
    "double_visitors = orders.query('group==\"B\" and (visitor_id in @visitors_a)')\n",
    "double_visitors['visitor_id'].nunique()"
   ]
  },
  {
   "cell_type": "markdown",
   "metadata": {},
   "source": [
    "Нашлось 58 пользователей, которые попали в обе группы. Узнаем какую часть от всех пользователей они составляют."
   ]
  },
  {
   "cell_type": "code",
   "execution_count": 14,
   "metadata": {},
   "outputs": [
    {
     "data": {
      "text/plain": [
       "5.625606207565471"
      ]
     },
     "execution_count": 14,
     "metadata": {},
     "output_type": "execute_result"
    }
   ],
   "source": [
    "(58/orders['visitor_id'].nunique())*100"
   ]
  },
  {
   "cell_type": "markdown",
   "metadata": {},
   "source": [
    "В результате анализа мы увидели, что 58 посетителей попали в обе группы. Это около 6% от всех посетителей. Можно было бы убрать этих пользователей из анализа результатов, но эти пользователи так же уже, вероятно, учтены в данных по количеству посетителей на каждый день. Убрать оттуда мы их не сможем. Поэтому оставим их и в таблице с заказами."
   ]
  },
  {
   "cell_type": "markdown",
   "metadata": {},
   "source": [
    "Теперь посмотрим на таблицу с заказами. "
   ]
  },
  {
   "cell_type": "code",
   "execution_count": 15,
   "metadata": {},
   "outputs": [
    {
     "data": {
      "text/plain": [
       "0"
      ]
     },
     "execution_count": 15,
     "metadata": {},
     "output_type": "execute_result"
    }
   ],
   "source": [
    "orders.duplicated().sum()"
   ]
  },
  {
   "cell_type": "code",
   "execution_count": 16,
   "metadata": {},
   "outputs": [
    {
     "data": {
      "text/html": [
       "<div>\n",
       "<style scoped>\n",
       "    .dataframe tbody tr th:only-of-type {\n",
       "        vertical-align: middle;\n",
       "    }\n",
       "\n",
       "    .dataframe tbody tr th {\n",
       "        vertical-align: top;\n",
       "    }\n",
       "\n",
       "    .dataframe thead th {\n",
       "        text-align: right;\n",
       "    }\n",
       "</style>\n",
       "<table border=\"1\" class=\"dataframe\">\n",
       "  <thead>\n",
       "    <tr style=\"text-align: right;\">\n",
       "      <th></th>\n",
       "      <th>date</th>\n",
       "      <th>group</th>\n",
       "      <th>visitors</th>\n",
       "    </tr>\n",
       "  </thead>\n",
       "  <tbody>\n",
       "    <tr>\n",
       "      <th>0</th>\n",
       "      <td>2019-08-01</td>\n",
       "      <td>A</td>\n",
       "      <td>719</td>\n",
       "    </tr>\n",
       "    <tr>\n",
       "      <th>1</th>\n",
       "      <td>2019-08-02</td>\n",
       "      <td>A</td>\n",
       "      <td>619</td>\n",
       "    </tr>\n",
       "    <tr>\n",
       "      <th>2</th>\n",
       "      <td>2019-08-03</td>\n",
       "      <td>A</td>\n",
       "      <td>507</td>\n",
       "    </tr>\n",
       "    <tr>\n",
       "      <th>3</th>\n",
       "      <td>2019-08-04</td>\n",
       "      <td>A</td>\n",
       "      <td>717</td>\n",
       "    </tr>\n",
       "    <tr>\n",
       "      <th>4</th>\n",
       "      <td>2019-08-05</td>\n",
       "      <td>A</td>\n",
       "      <td>756</td>\n",
       "    </tr>\n",
       "    <tr>\n",
       "      <th>...</th>\n",
       "      <td>...</td>\n",
       "      <td>...</td>\n",
       "      <td>...</td>\n",
       "    </tr>\n",
       "    <tr>\n",
       "      <th>57</th>\n",
       "      <td>2019-08-27</td>\n",
       "      <td>B</td>\n",
       "      <td>720</td>\n",
       "    </tr>\n",
       "    <tr>\n",
       "      <th>58</th>\n",
       "      <td>2019-08-28</td>\n",
       "      <td>B</td>\n",
       "      <td>654</td>\n",
       "    </tr>\n",
       "    <tr>\n",
       "      <th>59</th>\n",
       "      <td>2019-08-29</td>\n",
       "      <td>B</td>\n",
       "      <td>531</td>\n",
       "    </tr>\n",
       "    <tr>\n",
       "      <th>60</th>\n",
       "      <td>2019-08-30</td>\n",
       "      <td>B</td>\n",
       "      <td>490</td>\n",
       "    </tr>\n",
       "    <tr>\n",
       "      <th>61</th>\n",
       "      <td>2019-08-31</td>\n",
       "      <td>B</td>\n",
       "      <td>718</td>\n",
       "    </tr>\n",
       "  </tbody>\n",
       "</table>\n",
       "<p>62 rows × 3 columns</p>\n",
       "</div>"
      ],
      "text/plain": [
       "          date group  visitors\n",
       "0   2019-08-01     A       719\n",
       "1   2019-08-02     A       619\n",
       "2   2019-08-03     A       507\n",
       "3   2019-08-04     A       717\n",
       "4   2019-08-05     A       756\n",
       "..         ...   ...       ...\n",
       "57  2019-08-27     B       720\n",
       "58  2019-08-28     B       654\n",
       "59  2019-08-29     B       531\n",
       "60  2019-08-30     B       490\n",
       "61  2019-08-31     B       718\n",
       "\n",
       "[62 rows x 3 columns]"
      ]
     },
     "execution_count": 16,
     "metadata": {},
     "output_type": "execute_result"
    }
   ],
   "source": [
    "visitors"
   ]
  },
  {
   "cell_type": "code",
   "execution_count": 17,
   "metadata": {
    "scrolled": false
   },
   "outputs": [
    {
     "name": "stdout",
     "output_type": "stream",
     "text": [
      "<class 'pandas.core.frame.DataFrame'>\n",
      "RangeIndex: 62 entries, 0 to 61\n",
      "Data columns (total 3 columns):\n",
      " #   Column    Non-Null Count  Dtype         \n",
      "---  ------    --------------  -----         \n",
      " 0   date      62 non-null     datetime64[ns]\n",
      " 1   group     62 non-null     object        \n",
      " 2   visitors  62 non-null     int64         \n",
      "dtypes: datetime64[ns](1), int64(1), object(1)\n",
      "memory usage: 1.6+ KB\n"
     ]
    }
   ],
   "source": [
    "visitors['date'] = visitors['date'].astype('datetime64')\n",
    "visitors.info()"
   ]
  },
  {
   "cell_type": "code",
   "execution_count": 18,
   "metadata": {},
   "outputs": [
    {
     "data": {
      "text/plain": [
       "0"
      ]
     },
     "execution_count": 18,
     "metadata": {},
     "output_type": "execute_result"
    }
   ],
   "source": [
    "visitors.duplicated().sum()"
   ]
  },
  {
   "cell_type": "markdown",
   "metadata": {},
   "source": [
    "В результате изучения данных обнаружена одна проблема с повторяющимися идентификаторами посетителей в разных группах. На данный момент эту ошибку корректно мы исправить не можем, так как эти посетители учтены и в другой таблице.\n",
    "В остальном, данные без пропуской и дубликатов. Даты в таблицах приведены к нужному типу."
   ]
  },
  {
   "cell_type": "markdown",
   "metadata": {},
   "source": [
    "## Анализ кумулятивных метрик <a id=\"cumulate\"></a>"
   ]
  },
  {
   "cell_type": "markdown",
   "metadata": {},
   "source": [
    "Построим график кумулятивной выручки по группам. Для этого сначала соберем данные уникальных пар значений дат и групп теста. Соберем кумулятивные данные по заказам и визитам, объеденим их в одну таблицу и переименуем колонки в понятные названия."
   ]
  },
  {
   "cell_type": "code",
   "execution_count": 19,
   "metadata": {},
   "outputs": [
    {
     "data": {
      "text/html": [
       "<div>\n",
       "<style scoped>\n",
       "    .dataframe tbody tr th:only-of-type {\n",
       "        vertical-align: middle;\n",
       "    }\n",
       "\n",
       "    .dataframe tbody tr th {\n",
       "        vertical-align: top;\n",
       "    }\n",
       "\n",
       "    .dataframe thead th {\n",
       "        text-align: right;\n",
       "    }\n",
       "</style>\n",
       "<table border=\"1\" class=\"dataframe\">\n",
       "  <thead>\n",
       "    <tr style=\"text-align: right;\">\n",
       "      <th></th>\n",
       "      <th>date</th>\n",
       "      <th>group</th>\n",
       "      <th>orders</th>\n",
       "      <th>buyers</th>\n",
       "      <th>revenue</th>\n",
       "      <th>visitors</th>\n",
       "    </tr>\n",
       "  </thead>\n",
       "  <tbody>\n",
       "    <tr>\n",
       "      <th>0</th>\n",
       "      <td>2019-08-01</td>\n",
       "      <td>A</td>\n",
       "      <td>24</td>\n",
       "      <td>20</td>\n",
       "      <td>148579</td>\n",
       "      <td>719</td>\n",
       "    </tr>\n",
       "    <tr>\n",
       "      <th>1</th>\n",
       "      <td>2019-08-01</td>\n",
       "      <td>B</td>\n",
       "      <td>21</td>\n",
       "      <td>20</td>\n",
       "      <td>101217</td>\n",
       "      <td>713</td>\n",
       "    </tr>\n",
       "    <tr>\n",
       "      <th>2</th>\n",
       "      <td>2019-08-02</td>\n",
       "      <td>A</td>\n",
       "      <td>44</td>\n",
       "      <td>38</td>\n",
       "      <td>242401</td>\n",
       "      <td>1338</td>\n",
       "    </tr>\n",
       "    <tr>\n",
       "      <th>3</th>\n",
       "      <td>2019-08-02</td>\n",
       "      <td>B</td>\n",
       "      <td>45</td>\n",
       "      <td>43</td>\n",
       "      <td>266748</td>\n",
       "      <td>1294</td>\n",
       "    </tr>\n",
       "    <tr>\n",
       "      <th>4</th>\n",
       "      <td>2019-08-03</td>\n",
       "      <td>A</td>\n",
       "      <td>68</td>\n",
       "      <td>62</td>\n",
       "      <td>354874</td>\n",
       "      <td>1845</td>\n",
       "    </tr>\n",
       "    <tr>\n",
       "      <th>...</th>\n",
       "      <td>...</td>\n",
       "      <td>...</td>\n",
       "      <td>...</td>\n",
       "      <td>...</td>\n",
       "      <td>...</td>\n",
       "      <td>...</td>\n",
       "    </tr>\n",
       "    <tr>\n",
       "      <th>57</th>\n",
       "      <td>2019-08-29</td>\n",
       "      <td>B</td>\n",
       "      <td>596</td>\n",
       "      <td>544</td>\n",
       "      <td>5559398</td>\n",
       "      <td>17708</td>\n",
       "    </tr>\n",
       "    <tr>\n",
       "      <th>58</th>\n",
       "      <td>2019-08-30</td>\n",
       "      <td>A</td>\n",
       "      <td>545</td>\n",
       "      <td>493</td>\n",
       "      <td>4022970</td>\n",
       "      <td>18037</td>\n",
       "    </tr>\n",
       "    <tr>\n",
       "      <th>59</th>\n",
       "      <td>2019-08-30</td>\n",
       "      <td>B</td>\n",
       "      <td>620</td>\n",
       "      <td>567</td>\n",
       "      <td>5774631</td>\n",
       "      <td>18198</td>\n",
       "    </tr>\n",
       "    <tr>\n",
       "      <th>60</th>\n",
       "      <td>2019-08-31</td>\n",
       "      <td>A</td>\n",
       "      <td>557</td>\n",
       "      <td>503</td>\n",
       "      <td>4084803</td>\n",
       "      <td>18736</td>\n",
       "    </tr>\n",
       "    <tr>\n",
       "      <th>61</th>\n",
       "      <td>2019-08-31</td>\n",
       "      <td>B</td>\n",
       "      <td>640</td>\n",
       "      <td>586</td>\n",
       "      <td>5907760</td>\n",
       "      <td>18916</td>\n",
       "    </tr>\n",
       "  </tbody>\n",
       "</table>\n",
       "<p>62 rows × 6 columns</p>\n",
       "</div>"
      ],
      "text/plain": [
       "         date group  orders  buyers  revenue  visitors\n",
       "0  2019-08-01     A      24      20   148579       719\n",
       "1  2019-08-01     B      21      20   101217       713\n",
       "2  2019-08-02     A      44      38   242401      1338\n",
       "3  2019-08-02     B      45      43   266748      1294\n",
       "4  2019-08-03     A      68      62   354874      1845\n",
       "..        ...   ...     ...     ...      ...       ...\n",
       "57 2019-08-29     B     596     544  5559398     17708\n",
       "58 2019-08-30     A     545     493  4022970     18037\n",
       "59 2019-08-30     B     620     567  5774631     18198\n",
       "60 2019-08-31     A     557     503  4084803     18736\n",
       "61 2019-08-31     B     640     586  5907760     18916\n",
       "\n",
       "[62 rows x 6 columns]"
      ]
     },
     "execution_count": 19,
     "metadata": {},
     "output_type": "execute_result"
    }
   ],
   "source": [
    "group_by_date = orders[['date','group']].drop_duplicates()\n",
    "\n",
    "#куммулятивные данные по заказам\n",
    "orders_grouped = group_by_date.apply(\n",
    "    lambda x: orders[np.logical_and(orders['date'] <= x['date'], orders['group'] == x['group'])].agg(\n",
    "        {'date':'max', 'group':'max', 'transaction_id':'nunique', 'visitor_id':'nunique', 'revenue':'sum'}), axis=1).sort_values(\n",
    "    by=['date','group'])\n",
    "\n",
    "#куммулятивные данные по визитам\n",
    "visitors_grouped = group_by_date.apply(lambda x: visitors[np.logical_and(\n",
    "    visitors['date'] <= x['date'], visitors['group'] == x['group'])].agg({\n",
    "    'date' : 'max', 'group' : 'max', 'visitors' : 'sum'}), axis=1).sort_values(by=['date','group'])\n",
    "\n",
    "#объединение данных в одной таблице\n",
    "cumulative_data = orders_grouped.merge(\n",
    "    visitors_grouped, left_on=['date', 'group'], right_on=['date', 'group'])\n",
    "cumulative_data.columns = ['date', 'group', 'orders', 'buyers', 'revenue', 'visitors']\n",
    "cumulative_data"
   ]
  },
  {
   "cell_type": "markdown",
   "metadata": {},
   "source": [
    "Теперь соберем два датафрейма с кумулятивным количеством заказов и выручкой по дням в каждой группе. И построим график для каждой группы."
   ]
  },
  {
   "cell_type": "code",
   "execution_count": 20,
   "metadata": {},
   "outputs": [
    {
     "data": {
      "image/png": "[encoded data removed]",
      "text/plain": [
       "<Figure size 792x432 with 1 Axes>"
      ]
     },
     "metadata": {
      "needs_background": "light"
     },
     "output_type": "display_data"
    }
   ],
   "source": [
    "cumulative_revenue_A = cumulative_data[cumulative_data['group']=='A'][['date','revenue', 'orders']]\n",
    "cumulative_revenue_B = cumulative_data[cumulative_data['group']=='B'][['date','revenue', 'orders']]\n",
    "register_matplotlib_converters()\n",
    "plt.figure(figsize=(11,6))\n",
    "plt.plot(cumulative_revenue_A['date'], cumulative_revenue_A['revenue'], label='A')\n",
    "plt.plot(cumulative_revenue_B['date'], cumulative_revenue_B['revenue'], label='B')\n",
    "plt.legend()\n",
    "plt.annotate('скачок', xy=('2019-08-17', 2800000), xytext=('2019-08-10', 3500000),\n",
    "            arrowprops=dict(facecolor='g'))\n",
    "plt.annotate('отрыв', xy=('2019-08-05', 800000), xytext=('2019-08-05', 2000000),\n",
    "            arrowprops=dict(facecolor='g'))\n",
    "plt.title('Кумулятивная выручка по группам')\n",
    "plt.xlabel('Дата')\n",
    "plt.ylabel('Выручка')\n",
    "plt.show()"
   ]
  },
  {
   "cell_type": "markdown",
   "metadata": {},
   "source": [
    "У группы А выручка почти равномерно увеличиватеся в течение всего теста. Но у группы В есть видно резкое увеличение выручки после 17 августа - возможно был какой-то очень дорогой заказ, либо резко увеличилось число заказов."
   ]
  },
  {
   "cell_type": "markdown",
   "metadata": {},
   "source": [
    "Теперь построим графики кумулятивного среднего чека по группам. Для этого резделим кумулятивную выручку на кумулятивное количество заказов."
   ]
  },
  {
   "cell_type": "code",
   "execution_count": 21,
   "metadata": {},
   "outputs": [
    {
     "data": {
      "image/png": "[encoded data removed]",
      "text/plain": [
       "<Figure size 792x432 with 1 Axes>"
      ]
     },
     "metadata": {
      "needs_background": "light"
     },
     "output_type": "display_data"
    }
   ],
   "source": [
    "plt.figure(figsize=(11,6))\n",
    "plt.plot(cumulative_revenue_A['date'], cumulative_revenue_A['revenue']/cumulative_revenue_A['orders'], label='A')\n",
    "plt.plot(cumulative_revenue_B['date'], cumulative_revenue_B['revenue']/cumulative_revenue_B['orders'], label='B')\n",
    "plt.legend()\n",
    "plt.title('Кумулятивный средний чек по группам')\n",
    "plt.xlabel('Дата')\n",
    "plt.ylabel('Выручка')\n",
    "plt.show()"
   ]
  },
  {
   "cell_type": "markdown",
   "metadata": {},
   "source": [
    "Средний чек группы становится более равномерным уже во второй половине месяца. Средний чек группы вырос почти в два раза после 17 августа и далее начал незначительно снижаться. Необходимо проверить заказы в этой группе на аномалии."
   ]
  },
  {
   "cell_type": "markdown",
   "metadata": {},
   "source": [
    "Построим график относитльного изменения кумулятивного среднего чека группы В к группе А. Сначала соберем данные по двум группам в один датафрейм, после построим отношение средних чеков. Добавим ось Х на график для наглядного отображения."
   ]
  },
  {
   "cell_type": "code",
   "execution_count": 22,
   "metadata": {},
   "outputs": [
    {
     "data": {
      "image/png": "[encoded data removed]",
      "text/plain": [
       "<Figure size 792x432 with 1 Axes>"
      ]
     },
     "metadata": {
      "needs_background": "light"
     },
     "output_type": "display_data"
    }
   ],
   "source": [
    "cumulative_revenue_merged = cumulative_revenue_A.merge(\n",
    "    cumulative_revenue_B, left_on='date', right_on='date', how='left', suffixes=['A', 'B'])\n",
    "plt.figure(figsize=(11,6))\n",
    "plt.plot(cumulative_revenue_merged['date'], (\n",
    "    cumulative_revenue_merged['revenueB']/cumulative_revenue_merged['ordersB'])/(\n",
    "    cumulative_revenue_merged['revenueA']/cumulative_revenue_merged['ordersA'])-1)\n",
    "plt.axhline(y=0, color='red', linestyle='--')\n",
    "plt.title('Относительный кумулятивный средний чек группы B к группе А')\n",
    "plt.xlabel('Дата')\n",
    "plt.ylabel('Выручка')\n",
    "plt.show()"
   ]
  },
  {
   "cell_type": "markdown",
   "metadata": {},
   "source": [
    "Опять же видим, что после 17 августа средний чек группы В резко увеличился относительно среднего чека группы А, хотя до этого момента было значительное падение. "
   ]
  },
  {
   "cell_type": "markdown",
   "metadata": {},
   "source": [
    "Проанализируем график кумулятивной конверсии по группам."
   ]
  },
  {
   "cell_type": "code",
   "execution_count": 23,
   "metadata": {},
   "outputs": [
    {
     "data": {
      "image/png": "[encoded data removed]",
      "text/plain": [
       "<Figure size 792x432 with 1 Axes>"
      ]
     },
     "metadata": {
      "needs_background": "light"
     },
     "output_type": "display_data"
    }
   ],
   "source": [
    "cumulative_data['conversion'] = cumulative_data['orders']/cumulative_data['visitors']\n",
    "cumulative_data_A = cumulative_data[cumulative_data['group']=='A']\n",
    "cumulative_data_B = cumulative_data[cumulative_data['group']=='B']\n",
    "plt.figure(figsize=(11,6))\n",
    "plt.plot(cumulative_data_A['date'], cumulative_data_A['conversion'], label='A')\n",
    "plt.plot(cumulative_data_B['date'], cumulative_data_B['conversion'], label='B')\n",
    "plt.legend()\n",
    "plt.axis([\"2019-08-01\", '2019-08-31', 0, 0.05])\n",
    "plt.title('Кумулятивная конверсия по группам')\n",
    "plt.xlabel('Дата')\n",
    "plt.ylabel('Конверсия')\n",
    "plt.show()"
   ]
  },
  {
   "cell_type": "markdown",
   "metadata": {},
   "source": [
    "В самом начале заметны колебания конверсии, но уже после пятого числа конверсия группы превысила группа А, и далее конверсии по двум группам стабилизоровались.  \n",
    "Посмотрим на график относительного изменения кумулятивной конверсии группы В к группе А."
   ]
  },
  {
   "cell_type": "code",
   "execution_count": 24,
   "metadata": {},
   "outputs": [
    {
     "data": {
      "image/png": "[encoded data removed]",
      "text/plain": [
       "<Figure size 792x432 with 1 Axes>"
      ]
     },
     "metadata": {
      "needs_background": "light"
     },
     "output_type": "display_data"
    }
   ],
   "source": [
    "cumulative_conversions_merged = cumulative_data_A[\n",
    "    ['date','conversion']].merge(cumulative_data_B[\n",
    "    ['date','conversion']], left_on='date', right_on='date', how='left', suffixes=['A', 'B'])\n",
    "plt.figure(figsize=(11,6))\n",
    "plt.plot(cumulative_conversions_merged['date'], \n",
    "         cumulative_conversions_merged['conversionB']/cumulative_conversions_merged['conversionA']-1)\n",
    "plt.axis([\"2019-08-01\", '2019-08-31', -0.5, 0.5])\n",
    "plt.title('Относительная кумулятивная конверсия группы В к группе А')\n",
    "plt.xlabel('Дата')\n",
    "plt.ylabel('Конверсия')\n",
    "plt.axhline(y=0, color='blue', linestyle='--')\n",
    "plt.show()"
   ]
  },
  {
   "cell_type": "markdown",
   "metadata": {},
   "source": [
    "Первые несколько дней теста конверсия группы А была выше группы В. Но после пятого числа группа В по конверсии вышла вперед и во второй половине месяца отношений конверский стабилизировалось."
   ]
  },
  {
   "cell_type": "markdown",
   "metadata": {},
   "source": [
    "Мы проанализировали данные по всем имеющимся заказам. У группы В лучшие показатели и по конверсии и по выручке. Но при этом, если по конверсии группы к концу мемяца стабилизировались, по выручке и средним чекам такого нельзя сказать из-за резкого роста во второй половине месяца.  \n",
    "Далее проанализируем данные на аномалии."
   ]
  },
  {
   "cell_type": "markdown",
   "metadata": {},
   "source": [
    "## Анализ выбросов <a id=\"abnorm\"></a>"
   ]
  },
  {
   "cell_type": "markdown",
   "metadata": {},
   "source": [
    "Построим точечный график количества заказов по пользователям."
   ]
  },
  {
   "cell_type": "code",
   "execution_count": 25,
   "metadata": {},
   "outputs": [
    {
     "data": {
      "image/png": "[encoded data removed]",
      "text/plain": [
       "<Figure size 792x432 with 1 Axes>"
      ]
     },
     "metadata": {
      "needs_background": "light"
     },
     "output_type": "display_data"
    }
   ],
   "source": [
    "transactions = orders.groupby('visitor_id').agg({'transaction_id': 'count'}).reset_index()\n",
    "transactions.columns = ['visitors', 'transactions']\n",
    "x_values = pd.Series(range(0,len(transactions)))\n",
    "plt.figure(figsize=(11,6))\n",
    "plt.scatter(x_values, transactions['transactions'])\n",
    "plt.title('Количество заказов по пользователям')\n",
    "plt.xlabel('Пользователи')\n",
    "plt.ylabel('Количество заказов')\n",
    "plt.show()"
   ]
  },
  {
   "cell_type": "markdown",
   "metadata": {},
   "source": [
    "На графике видно, что много пользователей с 2-5 закзами.\n",
    "Посчитаем 95-й и 99-й перецентили количество заказов и выберем границу для определения аномальных пользователей."
   ]
  },
  {
   "cell_type": "code",
   "execution_count": 26,
   "metadata": {},
   "outputs": [
    {
     "name": "stdout",
     "output_type": "stream",
     "text": [
      "[2. 4.]\n"
     ]
    }
   ],
   "source": [
    "print(np.percentile(transactions['transactions'], [95, 99])) "
   ]
  },
  {
   "cell_type": "markdown",
   "metadata": {},
   "source": [
    "Менее 5% пользователей с заказами больше двух, и менее 1% с количеством заказов больше четырех.\n",
    "Будем считать аномальным количество заказов больше трех."
   ]
  },
  {
   "cell_type": "markdown",
   "metadata": {},
   "source": [
    "Теперь построим точечный график стоимости заказов, вычеслим аномалии для их дальнейшего исключения."
   ]
  },
  {
   "cell_type": "code",
   "execution_count": 27,
   "metadata": {},
   "outputs": [
    {
     "data": {
      "image/png": "[encoded data removed]",
      "text/plain": [
       "<Figure size 792x432 with 1 Axes>"
      ]
     },
     "metadata": {
      "needs_background": "light"
     },
     "output_type": "display_data"
    }
   ],
   "source": [
    "x_values = pd.Series(range(0,len(orders['revenue'])))\n",
    "plt.figure(figsize=(11,6))\n",
    "plt.scatter(x_values, orders['revenue']) \n",
    "plt.title('Распределение стоимости заказов')\n",
    "plt.xlabel('Заказы')\n",
    "plt.ylabel('Стоимость')\n",
    "plt.show()"
   ]
  },
  {
   "cell_type": "markdown",
   "metadata": {},
   "source": [
    "Из-за совсем аномального заказа стоимостью более миллиона, шкала по оси у растянулась и сложно судить об остальных заказах. Посмтроим еще один график, указав границы оси у."
   ]
  },
  {
   "cell_type": "code",
   "execution_count": 28,
   "metadata": {},
   "outputs": [
    {
     "data": {
      "image/png": "[encoded data removed]",
      "text/plain": [
       "<Figure size 792x432 with 1 Axes>"
      ]
     },
     "metadata": {
      "needs_background": "light"
     },
     "output_type": "display_data"
    }
   ],
   "source": [
    "plt.figure(figsize=(11,6))\n",
    "plt.scatter(x_values, orders['revenue']) \n",
    "plt.title('Распределение стоимости заказов')\n",
    "plt.ylim(0, 150000)\n",
    "plt.xlabel('Заказы')\n",
    "plt.ylabel('Стоимость')\n",
    "plt.show()"
   ]
  },
  {
   "cell_type": "markdown",
   "metadata": {},
   "source": [
    "Теперь графике уже видно, что большая часть заказов до 20000. Посчитаем 95-й и 99-й перецентили."
   ]
  },
  {
   "cell_type": "code",
   "execution_count": 29,
   "metadata": {},
   "outputs": [
    {
     "name": "stdout",
     "output_type": "stream",
     "text": [
      "[28000.  58233.2]\n"
     ]
    }
   ],
   "source": [
    "print(np.percentile(orders['revenue'], [95, 99])) "
   ]
  },
  {
   "cell_type": "markdown",
   "metadata": {},
   "source": [
    "Менее 5% заказов стоимостью выше 28000, и менее 1% заказов дороже 58300. Будем считать аномальными заказы дороже 30000."
   ]
  },
  {
   "cell_type": "markdown",
   "metadata": {},
   "source": [
    "## Расчет статистической значимости <a id=\"stat\"></a>"
   ]
  },
  {
   "cell_type": "markdown",
   "metadata": {},
   "source": [
    "Теперь, когда мы нашли аномалии в данных, посчитаем статистичечкую значимость рзличий в конверсии и средем чеке между группами сначала по \"сырым\" данным,а после - по \"очищенным\".  \n",
    "Создадим таблицу, сгруппированную по дате, где будут данные по количеству посещений, заказов и сумме выручки по каждой группе на определенную дату и кумулятивные данные по этим же показателям."
   ]
  },
  {
   "cell_type": "code",
   "execution_count": 30,
   "metadata": {},
   "outputs": [
    {
     "data": {
      "text/html": [
       "<div>\n",
       "<style scoped>\n",
       "    .dataframe tbody tr th:only-of-type {\n",
       "        vertical-align: middle;\n",
       "    }\n",
       "\n",
       "    .dataframe tbody tr th {\n",
       "        vertical-align: top;\n",
       "    }\n",
       "\n",
       "    .dataframe thead th {\n",
       "        text-align: right;\n",
       "    }\n",
       "</style>\n",
       "<table border=\"1\" class=\"dataframe\">\n",
       "  <thead>\n",
       "    <tr style=\"text-align: right;\">\n",
       "      <th></th>\n",
       "      <th>date</th>\n",
       "      <th>orders_per_date_A</th>\n",
       "      <th>revenue_per_date_A</th>\n",
       "      <th>orders_per_date_B</th>\n",
       "      <th>revenue_per_date_B</th>\n",
       "      <th>orders_cummulative_A</th>\n",
       "      <th>revenue_cummulative_A</th>\n",
       "      <th>orders_cummulative_B</th>\n",
       "      <th>revenue_cummulative_B</th>\n",
       "      <th>visitors_per_date_A</th>\n",
       "      <th>visitors_per_date_B</th>\n",
       "      <th>visitors_cummulative_A</th>\n",
       "      <th>visitors_cummulative_B</th>\n",
       "    </tr>\n",
       "  </thead>\n",
       "  <tbody>\n",
       "    <tr>\n",
       "      <th>0</th>\n",
       "      <td>2019-08-01</td>\n",
       "      <td>24</td>\n",
       "      <td>148579</td>\n",
       "      <td>21</td>\n",
       "      <td>101217</td>\n",
       "      <td>24</td>\n",
       "      <td>148579</td>\n",
       "      <td>21</td>\n",
       "      <td>101217</td>\n",
       "      <td>719</td>\n",
       "      <td>713</td>\n",
       "      <td>719</td>\n",
       "      <td>713</td>\n",
       "    </tr>\n",
       "    <tr>\n",
       "      <th>1</th>\n",
       "      <td>2019-08-02</td>\n",
       "      <td>20</td>\n",
       "      <td>93822</td>\n",
       "      <td>24</td>\n",
       "      <td>165531</td>\n",
       "      <td>44</td>\n",
       "      <td>242401</td>\n",
       "      <td>45</td>\n",
       "      <td>266748</td>\n",
       "      <td>619</td>\n",
       "      <td>581</td>\n",
       "      <td>1338</td>\n",
       "      <td>1294</td>\n",
       "    </tr>\n",
       "    <tr>\n",
       "      <th>2</th>\n",
       "      <td>2019-08-03</td>\n",
       "      <td>24</td>\n",
       "      <td>112473</td>\n",
       "      <td>16</td>\n",
       "      <td>114248</td>\n",
       "      <td>68</td>\n",
       "      <td>354874</td>\n",
       "      <td>61</td>\n",
       "      <td>380996</td>\n",
       "      <td>507</td>\n",
       "      <td>509</td>\n",
       "      <td>1845</td>\n",
       "      <td>1803</td>\n",
       "    </tr>\n",
       "    <tr>\n",
       "      <th>3</th>\n",
       "      <td>2019-08-04</td>\n",
       "      <td>16</td>\n",
       "      <td>70825</td>\n",
       "      <td>17</td>\n",
       "      <td>108571</td>\n",
       "      <td>84</td>\n",
       "      <td>425699</td>\n",
       "      <td>78</td>\n",
       "      <td>489567</td>\n",
       "      <td>717</td>\n",
       "      <td>770</td>\n",
       "      <td>2562</td>\n",
       "      <td>2573</td>\n",
       "    </tr>\n",
       "    <tr>\n",
       "      <th>4</th>\n",
       "      <td>2019-08-05</td>\n",
       "      <td>25</td>\n",
       "      <td>124218</td>\n",
       "      <td>23</td>\n",
       "      <td>92428</td>\n",
       "      <td>109</td>\n",
       "      <td>549917</td>\n",
       "      <td>101</td>\n",
       "      <td>581995</td>\n",
       "      <td>756</td>\n",
       "      <td>707</td>\n",
       "      <td>3318</td>\n",
       "      <td>3280</td>\n",
       "    </tr>\n",
       "  </tbody>\n",
       "</table>\n",
       "</div>"
      ],
      "text/plain": [
       "        date  orders_per_date_A  revenue_per_date_A  orders_per_date_B  \\\n",
       "0 2019-08-01                 24              148579                 21   \n",
       "1 2019-08-02                 20               93822                 24   \n",
       "2 2019-08-03                 24              112473                 16   \n",
       "3 2019-08-04                 16               70825                 17   \n",
       "4 2019-08-05                 25              124218                 23   \n",
       "\n",
       "   revenue_per_date_B  orders_cummulative_A  revenue_cummulative_A  \\\n",
       "0              101217                    24                 148579   \n",
       "1              165531                    44                 242401   \n",
       "2              114248                    68                 354874   \n",
       "3              108571                    84                 425699   \n",
       "4               92428                   109                 549917   \n",
       "\n",
       "   orders_cummulative_B  revenue_cummulative_B  visitors_per_date_A  \\\n",
       "0                    21                 101217                  719   \n",
       "1                    45                 266748                  619   \n",
       "2                    61                 380996                  507   \n",
       "3                    78                 489567                  717   \n",
       "4                   101                 581995                  756   \n",
       "\n",
       "   visitors_per_date_B  visitors_cummulative_A  visitors_cummulative_B  \n",
       "0                  713                     719                     713  \n",
       "1                  581                    1338                    1294  \n",
       "2                  509                    1845                    1803  \n",
       "3                  770                    2562                    2573  \n",
       "4                  707                    3318                    3280  "
      ]
     },
     "execution_count": 30,
     "metadata": {},
     "output_type": "execute_result"
    }
   ],
   "source": [
    "#количество посещений на дату в группе А\n",
    "visitors_daily_A = visitors[visitors['group'] == 'A'][['date', 'visitors']]\n",
    "visitors_daily_A.columns = ['date', 'visitors_per_date_A']\n",
    "\n",
    "#кумулятивное количество посещений на дату в группе А\n",
    "visitors_cummulative_A = visitors_daily_A.apply(\n",
    "    lambda x: visitors_daily_A[visitors_daily_A['date'] <= x['date']].agg(\n",
    "        {'date': 'max', 'visitors_per_date_A': 'sum'}), axis=1)\n",
    "visitors_cummulative_A.columns = ['date', 'visitors_cummulative_A']\n",
    "\n",
    "#количество посещений на дату в группе В\n",
    "visitors_daily_B = visitors[visitors['group'] == 'B'][['date', 'visitors']]\n",
    "visitors_daily_B.columns = ['date', 'visitors_per_date_B']\n",
    "\n",
    "#кумулятивное количество посещений на дату в группе В\n",
    "visitors_cummulative_B = visitors_daily_B.apply(\n",
    "    lambda x: visitors_daily_B[visitors_daily_B['date'] <= x['date']].agg(\n",
    "        {'date': 'max', 'visitors_per_date_B': 'sum'}), axis=1)\n",
    "visitors_cummulative_B.columns = ['date', 'visitors_cummulative_B']\n",
    "\n",
    "#данные по количеству заказов и выручке в группе А\n",
    "orders_daily_A = (\n",
    "    orders[orders['group'] == 'A'][['date', 'transaction_id', 'visitor_id', 'revenue']]\n",
    "    .groupby('date', as_index=False)\n",
    "    .agg({'transaction_id': 'count', 'revenue': 'sum'}))\n",
    "orders_daily_A.columns = ['date', 'orders_per_date_A', 'revenue_per_date_A']\n",
    "\n",
    "#кумулятивные данные по количеству заказов и выручке в группе А\n",
    "orders_cummulative_A = orders_daily_A.apply(\n",
    "    lambda x: orders_daily_A[orders_daily_A['date'] <= x['date']].agg(\n",
    "        {'date': 'max', 'orders_per_date_A': 'sum', 'revenue_per_date_A': 'sum'}\n",
    "    ), axis=1).sort_values(by=['date'])\n",
    "orders_cummulative_A.columns = ['date', 'orders_cummulative_A','revenue_cummulative_A']\n",
    "\n",
    "#данные по количеству заказов и выручке в группе В\n",
    "orders_daily_B = (\n",
    "    orders[orders['group'] == 'B'][['date', 'transaction_id', 'visitor_id', 'revenue']]\n",
    "    .groupby('date', as_index=False)\n",
    "    .agg({'transaction_id': 'count', 'revenue': 'sum'})\n",
    ")\n",
    "orders_daily_B.columns = ['date', 'orders_per_date_B', 'revenue_per_date_B']\n",
    "\n",
    "#кумулятивные данные по количеству заказов и выручке в группе В\n",
    "orders_cummulative_B = orders_daily_B.apply(\n",
    "    lambda x: orders_daily_B[orders_daily_B['date'] <= x['date']].agg(\n",
    "        {'date': 'max', 'orders_per_date_B': 'sum', 'revenue_per_date_B': 'sum'}\n",
    "    ), axis=1).sort_values(by=['date'])\n",
    "orders_cummulative_B.columns = ['date', 'orders_cummulative_B', 'revenue_cummulative_B']\n",
    "\n",
    "#объединение всех данных в одну таблицу\n",
    "raw_data = (\n",
    "    orders_daily_A.merge(orders_daily_B, left_on='date', right_on='date', how='left')\n",
    "    .merge(orders_cummulative_A, left_on='date', right_on='date', how='left')\n",
    "    .merge(orders_cummulative_B, left_on='date', right_on='date', how='left')\n",
    "    .merge(visitors_daily_A, left_on='date', right_on='date', how='left')\n",
    "    .merge(visitors_daily_B, left_on='date', right_on='date', how='left')\n",
    "    .merge(visitors_cummulative_A, left_on='date', right_on='date', how='left')\n",
    "    .merge(visitors_cummulative_B, left_on='date', right_on='date', how='left'))\n",
    "\n",
    "raw_data.head()"
   ]
  },
  {
   "cell_type": "markdown",
   "metadata": {},
   "source": [
    "Создадим таблицы с количеством заказов на каждого пользователя по группам."
   ]
  },
  {
   "cell_type": "code",
   "execution_count": 31,
   "metadata": {},
   "outputs": [],
   "source": [
    "orders_by_users_A = (\n",
    "    orders[orders['group'] == 'A'].groupby('visitor_id', as_index=False).agg(\n",
    "        {'transaction_id':'count'}))\n",
    "orders_by_users_A.columns = ['visitor_id', 'orders']\n",
    "\n",
    "orders_by_users_B = (\n",
    "    orders[orders['group'] == 'B'].groupby('visitor_id', as_index=False).agg(\n",
    "        {'transaction_id': 'count'}))\n",
    "orders_by_users_B.columns = ['visitor_id', 'orders'] "
   ]
  },
  {
   "cell_type": "markdown",
   "metadata": {},
   "source": [
    "Сформулируем нулевую и альтернативную гипотезы.  \n",
    "<b>H<sub>0</sub>:</b> Средняя конверсия группы А равна конверсии группы В.  \n",
    "<b>H<sub>1</sub>:</b> Средняя конверсия группы А отличается от конверсии группы В."
   ]
  },
  {
   "cell_type": "markdown",
   "metadata": {},
   "source": [
    "Объявим переменные, в которых пользователям из каждой группы будет соответствовать количество заказов. Расчитаем колиство пользователей, которые ничего не заказали и простиавим им нули."
   ]
  },
  {
   "cell_type": "code",
   "execution_count": 32,
   "metadata": {},
   "outputs": [],
   "source": [
    "sample_A = pd.concat([orders_by_users_A['orders'], pd.Series(\n",
    "    0, index=np.arange(raw_data['visitors_per_date_A'].sum() - len(orders_by_users_A['orders'])\n",
    "            ), name='orders')], axis=0)\n",
    "sample_B = pd.concat([orders_by_users_B['orders'], pd.Series(\n",
    "    0, index=np.arange(raw_data['visitors_per_date_B'].sum() - len(orders_by_users_B['orders'])\n",
    "            ), name='orders')], axis=0)"
   ]
  },
  {
   "cell_type": "code",
   "execution_count": 33,
   "metadata": {},
   "outputs": [
    {
     "name": "stdout",
     "output_type": "stream",
     "text": [
      "0.017\n",
      "0.138\n"
     ]
    }
   ],
   "source": [
    "print(\"{0:.3f}\".format(stats.mannwhitneyu(sample_A, sample_B, alternative='two-sided')[1]))#расчет p-value\n",
    "print(\"{0:.3f}\".format(sample_B.mean() / sample_A.mean() - 1))#рачет отношения средних чеков групп"
   ]
  },
  {
   "cell_type": "markdown",
   "metadata": {},
   "source": [
    "Результам p-value получился меньше уровня значимости 0.05, значит отвергаем нулевую гипотезу, по \"сырым\" данным конверсия группы А и группы В отличается.  \n",
    "Средняя конверсия группы В выше средней конверсии группы А почти на 14%."
   ]
  },
  {
   "cell_type": "markdown",
   "metadata": {},
   "source": [
    "Посчитаем так же по сырым данным статистическую значимость различий в среднем чеке.  \n",
    "Сформулируем гипотезы:  \n",
    "<b>H<sub>0</sub>:</b> Средний чек группы А равен среднему чеку группы В.  \n",
    "<b>H<sub>1</sub>:</b> Средний чек группы А отличается от среднего чека группы В."
   ]
  },
  {
   "cell_type": "code",
   "execution_count": 34,
   "metadata": {},
   "outputs": [
    {
     "name": "stdout",
     "output_type": "stream",
     "text": [
      "0.729\n",
      "0.259\n"
     ]
    }
   ],
   "source": [
    "#расчет p-value\n",
    "print('{0:.3f}'.format(stats.mannwhitneyu(\n",
    "    orders[orders['group']=='A']['revenue'], orders[orders['group']=='B']['revenue'], \n",
    "    alternative='two-sided')[1]))\n",
    "#расчет отношения средних чеков\n",
    "print('{0:.3f}'.format(orders[orders['group']=='B']['revenue'].mean()\n",
    "                       /orders[orders['group']=='A']['revenue'].mean()-1))"
   ]
  },
  {
   "cell_type": "markdown",
   "metadata": {},
   "source": [
    "P-value получился значительно больше 0.05. Нет причин отвергать нулевую гипотезу и считать, что средний чек по группам отличается.  \n",
    "Однако в соотношении срений чек группы В на 26% выше среднего чека группы А."
   ]
  },
  {
   "cell_type": "markdown",
   "metadata": {},
   "source": [
    "Теперь расчитаем статистическую значимость различий в конверсии и среднем чеке по \"очищенным\" данным. Мы приняли за аномалии заказы от трех штук и по сумме выше 30 000.  \n",
    "Сделаем срез по таким заказам и объединим таких пользователей в одну группу. Посмотрим сколько их всего."
   ]
  },
  {
   "cell_type": "code",
   "execution_count": 35,
   "metadata": {},
   "outputs": [
    {
     "name": "stdout",
     "output_type": "stream",
     "text": [
      "(57,)\n"
     ]
    }
   ],
   "source": [
    "many_orders = pd.concat([orders_by_users_A[orders_by_users_A['orders'] > 3]['visitor_id'],\n",
    "        orders_by_users_B[orders_by_users_B['orders'] > 3]['visitor_id']], axis=0)\n",
    "\n",
    "expensive_orders = orders[orders['revenue'] > 30000]['visitor_id']\n",
    "\n",
    "abnormal_users = pd.concat([many_orders, expensive_orders], axis=0).drop_duplicates().sort_values()\n",
    "\n",
    "print(abnormal_users.shape) "
   ]
  },
  {
   "cell_type": "markdown",
   "metadata": {},
   "source": [
    "Всего таких пользователей 57 человек.  \n",
    "Посмотрим, как эти пользователи повлияли на результаты теста. Подготовим выборки количества заказов по пользователям по группам теста и посчитаем статистическую значимость различий в конверсии между группами.  \n",
    "Сформулируем гипотезы.  \n",
    "<b>H<sub>0</sub>:</b> Средняя конверсия группы А равна конверсии группы В.  \n",
    "<b>H<sub>1</sub>:</b> Средняя конверсия группы А отличается от конверсии группы В."
   ]
  },
  {
   "cell_type": "code",
   "execution_count": 36,
   "metadata": {},
   "outputs": [
    {
     "name": "stdout",
     "output_type": "stream",
     "text": [
      "0.018\n",
      "0.148\n"
     ]
    }
   ],
   "source": [
    "filtered_sample_A = pd.concat(\n",
    "    [orders_by_users_A[np.logical_not(orders_by_users_A['visitor_id'].isin(\n",
    "        abnormal_users))]['orders'],pd.Series(\n",
    "        0, index=np.arange(raw_data['visitors_per_date_A'].sum() - len(\n",
    "            orders_by_users_A['orders'])), name='orders')], axis=0)\n",
    "\n",
    "filtered_sample_B = pd.concat([orders_by_users_B[np.logical_not(\n",
    "    orders_by_users_B['visitor_id'].isin(abnormal_users))]['orders'],\n",
    "    pd.Series(0, index=np.arange(raw_data['visitors_per_date_B'].sum() - len(\n",
    "        orders_by_users_B['orders'])), name='orders')], axis=0)\n",
    "\n",
    "print('{0:.3f}'.format(stats.mannwhitneyu(filtered_sample_A, filtered_sample_B, \n",
    "                                          alternative='two-sided')[1]))\n",
    "print('{0:.3f}'.format(filtered_sample_B.mean()/filtered_sample_A.mean()-1)) "
   ]
  },
  {
   "cell_type": "markdown",
   "metadata": {},
   "source": [
    "Результаты практически не изменились.  \n",
    "Посмотрим на различия в среднем чеке.  \n",
    "<b>H<sub>0</sub>:</b> Средний чек группы А равен среднему чеку группы В.  \n",
    "<b>H<sub>1</sub>:</b> Средний чек группы А отличается от среднего чека группы В."
   ]
  },
  {
   "cell_type": "code",
   "execution_count": 37,
   "metadata": {},
   "outputs": [
    {
     "name": "stdout",
     "output_type": "stream",
     "text": [
      "0.958\n",
      "-0.020\n"
     ]
    }
   ],
   "source": [
    "print('{0:.3f}'.format(stats.mannwhitneyu(\n",
    "    orders[np.logical_and(orders['group'] == 'A',\n",
    "                          np.logical_not(orders['visitor_id'].isin(abnormal_users)))]['revenue'],\n",
    "            orders[np.logical_and(orders['group'] == 'B',\n",
    "                    np.logical_not(orders['visitor_id'].isin(abnormal_users)))]['revenue'], \n",
    "    alternative='two-sided')[1]))\n",
    "\n",
    "print(\"{0:.3f}\".format(\n",
    "    orders[np.logical_and(orders['group'] == 'B', \n",
    "                          np.logical_not(orders['visitor_id'].isin(abnormal_users)))]['revenue'].mean()\n",
    "        / orders[np.logical_and(orders['group'] == 'A',np.logical_not(\n",
    "            orders['visitor_id'].isin(abnormal_users)))]['revenue'].mean() - 1)) "
   ]
  },
  {
   "cell_type": "markdown",
   "metadata": {},
   "source": [
    "По-прежнему, нет причин считать, что средние чеки по группам отличаются, p-value увеличился. Но при этом, по относильному показателю видно, как сильно изменился средний чек группы В после удаления анамальных заказов и, хоть и не значительно, но проиграл среднему чеку группы А."
   ]
  },
  {
   "cell_type": "markdown",
   "metadata": {},
   "source": [
    "# Результат теста <a id=\"result\"></a>"
   ]
  },
  {
   "cell_type": "markdown",
   "metadata": {},
   "source": [
    "Анализ результатов теста показал следующее:\n",
    " - Между группам наблюдается статистически значимое отличие по конверсии, как по \"сырым\" данным, так и по отфильтрованным.\n",
    " - При этом по среднему чеку между группами нет статистически значимого отличия, ни по \"сырым\", ни по очещенным данным.\n",
    " - Кумулятивная конверсия группы В почти на 20% лучше группы А и это приемущество стабилизировалось.\n",
    " - График различий по среднему чеку показывает резкий провал и подъем в середине месяца группы В относительно группы А, но по большей части графика все же у группы В преимущество.\n",
    " \n",
    "По имеющимся данным тест можно остановить и признать успешным."
   ]
  },
  {
   "cell_type": "markdown",
   "metadata": {},
   "source": [
    "# Общий вывод <a id=\"concl\"></a>"
   ]
  },
  {
   "cell_type": "markdown",
   "metadata": {},
   "source": [
    "В текущей работе мы приоритизировали гипотезы и провели анализ А/В-теста.  \n",
    "Для начала мы зугрузили необходимые данные. Ознакомились с гипотезами и приоритизировали их двумя методами - ICE и RICE. По результату выделили наиболее приоритетные гипотезы.  \n",
    "Далее ознакомились с данными по результатам А/В-теста. Выявили, что в данных по посетителям есть 58 человек, которые попали в обе группы.  \n",
    "Далее мы изучили кумулятивные метрики по группам и их относительное изменение. Так, графики показали, что кумулятиваная выручка группы В практически сразу превысила выручку группы А. На графике кумулятивного среднего чека увидели, что во второй половине месяца средний чек группы резко вырос относительно среднего чека группы А, хотя до этого показывал падение. График изменения кумулятивной конверсии показал, что конверсия группы В выше конверсии группы А почти с самого начала теста.  \n",
    "После этого мы изучили выбросы в данных по заказам и определили границы для их определения. Посчитали статистическую значимость различий конверсии и среднего чека между группами по \"сырым\" данным и очищенным от выбросов. Результаты показали, что конверсия группы В лучше конверсии группы А в обоих случаях. При это средние чеки групп не показали статистически значимых отличий так же ни по \"сырым\" данным, ни по отфильтрованным. Однако после удаления выбросов, мы увидели, что в соотношении средних чеков двух групп отличий действительно нет.  \n",
    "По итогу анализа мы приняли решение остановить тест и признать его успешным. Конверсия группы В значильно выше группы А, а средний чек хоть и не увиличился, но и не изменился в меньшую сторону.\n"
   ]
  },
  {
   "cell_type": "code",
   "execution_count": null,
   "metadata": {},
   "outputs": [],
   "source": []
  }
 ],
 "metadata": {
  "ExecuteTimeLog": [
   {
    "duration": 576,
    "start_time": "2022-01-07T13:28:00.390Z"
   },
   {
    "duration": 27,
    "start_time": "2022-01-07T13:29:20.576Z"
   },
   {
    "duration": 20,
    "start_time": "2022-01-07T13:29:52.931Z"
   },
   {
    "duration": 19,
    "start_time": "2022-01-07T13:30:01.509Z"
   },
   {
    "duration": 529,
    "start_time": "2022-01-07T13:31:04.296Z"
   },
   {
    "duration": 21,
    "start_time": "2022-01-07T13:31:15.624Z"
   },
   {
    "duration": 21,
    "start_time": "2022-01-07T13:31:31.031Z"
   },
   {
    "duration": 118,
    "start_time": "2022-01-07T13:43:18.020Z"
   },
   {
    "duration": 108,
    "start_time": "2022-01-07T13:43:52.830Z"
   },
   {
    "duration": 11,
    "start_time": "2022-01-07T13:44:06.353Z"
   },
   {
    "duration": 334,
    "start_time": "2022-01-07T13:45:11.712Z"
   },
   {
    "duration": 7,
    "start_time": "2022-01-07T13:45:34.149Z"
   },
   {
    "duration": 375,
    "start_time": "2022-01-07T15:45:35.550Z"
   },
   {
    "duration": 773,
    "start_time": "2022-01-07T15:45:43.180Z"
   },
   {
    "duration": 40,
    "start_time": "2022-01-07T15:59:03.323Z"
   },
   {
    "duration": 7,
    "start_time": "2022-01-07T15:59:06.238Z"
   },
   {
    "duration": 332,
    "start_time": "2022-01-07T16:01:30.663Z"
   },
   {
    "duration": 8,
    "start_time": "2022-01-07T16:01:48.612Z"
   },
   {
    "duration": 7,
    "start_time": "2022-01-07T16:02:07.072Z"
   },
   {
    "duration": 25,
    "start_time": "2022-01-07T16:03:07.556Z"
   },
   {
    "duration": 273,
    "start_time": "2022-01-07T16:05:44.446Z"
   },
   {
    "duration": 7,
    "start_time": "2022-01-07T16:06:04.244Z"
   },
   {
    "duration": 6,
    "start_time": "2022-01-07T16:06:34.659Z"
   },
   {
    "duration": 5,
    "start_time": "2022-01-07T16:06:43.802Z"
   },
   {
    "duration": 7,
    "start_time": "2022-01-07T16:06:54.102Z"
   },
   {
    "duration": 312,
    "start_time": "2022-01-07T16:07:03.312Z"
   },
   {
    "duration": 8,
    "start_time": "2022-01-07T16:07:20.903Z"
   },
   {
    "duration": 9,
    "start_time": "2022-01-07T16:07:38.862Z"
   },
   {
    "duration": 2565,
    "start_time": "2022-01-07T16:32:18.982Z"
   },
   {
    "duration": 60,
    "start_time": "2022-01-07T16:32:42.052Z"
   },
   {
    "duration": 12,
    "start_time": "2022-01-07T16:32:51.184Z"
   },
   {
    "duration": 24,
    "start_time": "2022-01-07T16:32:58.575Z"
   },
   {
    "duration": 15,
    "start_time": "2022-01-07T16:33:17.714Z"
   },
   {
    "duration": 180,
    "start_time": "2022-01-07T16:35:41.421Z"
   },
   {
    "duration": 160,
    "start_time": "2022-01-07T16:35:53.930Z"
   },
   {
    "duration": 122,
    "start_time": "2022-01-07T16:36:12.013Z"
   },
   {
    "duration": 91,
    "start_time": "2022-01-07T16:36:28.823Z"
   },
   {
    "duration": 7,
    "start_time": "2022-01-07T16:38:24.597Z"
   },
   {
    "duration": 21,
    "start_time": "2022-01-07T16:38:34.407Z"
   },
   {
    "duration": 11,
    "start_time": "2022-01-07T16:38:48.981Z"
   },
   {
    "duration": 12,
    "start_time": "2022-01-07T18:43:36.866Z"
   },
   {
    "duration": 4121,
    "start_time": "2022-01-07T18:43:47.945Z"
   },
   {
    "duration": 291,
    "start_time": "2022-01-07T18:44:53.372Z"
   },
   {
    "duration": 162,
    "start_time": "2022-01-07T18:45:19.454Z"
   },
   {
    "duration": 285,
    "start_time": "2022-01-07T18:45:24.654Z"
   },
   {
    "duration": 3605,
    "start_time": "2022-01-07T18:45:34.586Z"
   },
   {
    "duration": 3539,
    "start_time": "2022-01-07T18:45:38.570Z"
   },
   {
    "duration": 3575,
    "start_time": "2022-01-07T18:47:45.123Z"
   },
   {
    "duration": 295,
    "start_time": "2022-01-07T18:50:00.428Z"
   },
   {
    "duration": 3519,
    "start_time": "2022-01-07T18:50:21.661Z"
   },
   {
    "duration": 3579,
    "start_time": "2022-01-07T18:51:01.811Z"
   },
   {
    "duration": 90,
    "start_time": "2022-01-07T18:51:39.327Z"
   },
   {
    "duration": 1481,
    "start_time": "2022-01-07T18:51:48.361Z"
   },
   {
    "duration": 1616,
    "start_time": "2022-01-07T18:53:14.719Z"
   },
   {
    "duration": 8,
    "start_time": "2022-01-07T18:54:54.532Z"
   },
   {
    "duration": 877,
    "start_time": "2022-01-07T18:55:07.656Z"
   },
   {
    "duration": 61,
    "start_time": "2022-01-07T18:55:08.535Z"
   },
   {
    "duration": 19,
    "start_time": "2022-01-07T18:55:08.599Z"
   },
   {
    "duration": 15,
    "start_time": "2022-01-07T18:55:08.622Z"
   },
   {
    "duration": 30,
    "start_time": "2022-01-07T18:55:08.640Z"
   },
   {
    "duration": 24,
    "start_time": "2022-01-07T18:55:08.673Z"
   },
   {
    "duration": 14,
    "start_time": "2022-01-07T18:55:08.699Z"
   },
   {
    "duration": 33,
    "start_time": "2022-01-07T18:55:08.717Z"
   },
   {
    "duration": 24,
    "start_time": "2022-01-07T18:55:08.753Z"
   },
   {
    "duration": 11,
    "start_time": "2022-01-07T18:55:08.780Z"
   },
   {
    "duration": 16,
    "start_time": "2022-01-07T18:55:08.794Z"
   },
   {
    "duration": 4,
    "start_time": "2022-01-07T18:55:08.812Z"
   },
   {
    "duration": 9,
    "start_time": "2022-01-07T18:55:33.543Z"
   },
   {
    "duration": 19,
    "start_time": "2022-01-07T18:57:10.751Z"
   },
   {
    "duration": 679,
    "start_time": "2022-01-07T19:01:09.882Z"
   },
   {
    "duration": 330,
    "start_time": "2022-01-07T19:01:19.532Z"
   },
   {
    "duration": 549,
    "start_time": "2022-01-07T19:03:14.529Z"
   },
   {
    "duration": 785,
    "start_time": "2022-01-07T19:04:48.751Z"
   },
   {
    "duration": 459,
    "start_time": "2022-01-07T19:08:05.719Z"
   },
   {
    "duration": 15,
    "start_time": "2022-01-07T19:14:04.331Z"
   },
   {
    "duration": 15,
    "start_time": "2022-01-07T19:14:19.706Z"
   },
   {
    "duration": 17,
    "start_time": "2022-01-07T19:14:34.692Z"
   },
   {
    "duration": 11,
    "start_time": "2022-01-07T19:15:21.540Z"
   },
   {
    "duration": 606,
    "start_time": "2022-01-07T19:15:32.141Z"
   },
   {
    "duration": 333,
    "start_time": "2022-01-07T19:15:38.860Z"
   },
   {
    "duration": 493,
    "start_time": "2022-01-07T19:16:00.698Z"
   },
   {
    "duration": 638,
    "start_time": "2022-01-07T19:18:11.236Z"
   },
   {
    "duration": 342,
    "start_time": "2022-01-07T19:18:39.573Z"
   },
   {
    "duration": 332,
    "start_time": "2022-01-07T19:23:16.235Z"
   },
   {
    "duration": 331,
    "start_time": "2022-01-07T19:23:40.937Z"
   },
   {
    "duration": 353,
    "start_time": "2022-01-07T19:24:04.254Z"
   },
   {
    "duration": 350,
    "start_time": "2022-01-07T19:25:11.683Z"
   },
   {
    "duration": 317,
    "start_time": "2022-01-07T19:29:04.110Z"
   },
   {
    "duration": 831,
    "start_time": "2022-01-07T19:34:58.004Z"
   },
   {
    "duration": 577,
    "start_time": "2022-01-07T19:35:21.975Z"
   },
   {
    "duration": 347,
    "start_time": "2022-01-07T19:43:52.415Z"
   },
   {
    "duration": 343,
    "start_time": "2022-01-07T19:45:12.012Z"
   },
   {
    "duration": 539,
    "start_time": "2022-01-07T19:49:59.886Z"
   },
   {
    "duration": 428,
    "start_time": "2022-01-07T19:50:08.498Z"
   },
   {
    "duration": 14,
    "start_time": "2022-01-07T19:55:14.888Z"
   },
   {
    "duration": 351,
    "start_time": "2022-01-07T19:55:50.291Z"
   },
   {
    "duration": 685,
    "start_time": "2022-01-07T19:59:49.797Z"
   },
   {
    "duration": 580,
    "start_time": "2022-01-07T19:59:58.391Z"
   },
   {
    "duration": 324,
    "start_time": "2022-01-07T20:00:44.860Z"
   },
   {
    "duration": 376,
    "start_time": "2022-01-07T20:02:05.485Z"
   },
   {
    "duration": 525,
    "start_time": "2022-01-07T20:06:30.672Z"
   },
   {
    "duration": 524,
    "start_time": "2022-01-07T20:06:30.677Z"
   },
   {
    "duration": 12,
    "start_time": "2022-01-07T20:09:57.754Z"
   },
   {
    "duration": 14,
    "start_time": "2022-01-07T20:11:10.793Z"
   },
   {
    "duration": 509,
    "start_time": "2022-01-07T20:11:52.013Z"
   },
   {
    "duration": 426,
    "start_time": "2022-01-07T20:12:02.384Z"
   },
   {
    "duration": 570,
    "start_time": "2022-01-07T20:12:13.613Z"
   },
   {
    "duration": 369,
    "start_time": "2022-01-07T20:13:31.788Z"
   },
   {
    "duration": 642,
    "start_time": "2022-01-08T09:21:05.660Z"
   },
   {
    "duration": 66,
    "start_time": "2022-01-08T09:21:06.303Z"
   },
   {
    "duration": 9,
    "start_time": "2022-01-08T09:21:06.371Z"
   },
   {
    "duration": 7,
    "start_time": "2022-01-08T09:21:06.382Z"
   },
   {
    "duration": 6,
    "start_time": "2022-01-08T09:21:06.391Z"
   },
   {
    "duration": 8,
    "start_time": "2022-01-08T09:21:06.398Z"
   },
   {
    "duration": 12,
    "start_time": "2022-01-08T09:21:06.408Z"
   },
   {
    "duration": 12,
    "start_time": "2022-01-08T09:21:06.421Z"
   },
   {
    "duration": 9,
    "start_time": "2022-01-08T09:21:06.435Z"
   },
   {
    "duration": 5,
    "start_time": "2022-01-08T09:21:06.445Z"
   },
   {
    "duration": 9,
    "start_time": "2022-01-08T09:21:06.451Z"
   },
   {
    "duration": 6,
    "start_time": "2022-01-08T09:21:06.462Z"
   },
   {
    "duration": 316,
    "start_time": "2022-01-08T09:21:06.469Z"
   },
   {
    "duration": 186,
    "start_time": "2022-01-08T09:21:06.786Z"
   },
   {
    "duration": 177,
    "start_time": "2022-01-08T09:21:06.973Z"
   },
   {
    "duration": 275,
    "start_time": "2022-01-08T09:21:07.152Z"
   },
   {
    "duration": 218,
    "start_time": "2022-01-08T09:21:07.429Z"
   },
   {
    "duration": 269,
    "start_time": "2022-01-08T09:21:07.649Z"
   },
   {
    "duration": 274,
    "start_time": "2022-01-08T09:21:07.920Z"
   },
   {
    "duration": 6,
    "start_time": "2022-01-08T09:21:25.608Z"
   },
   {
    "duration": 13,
    "start_time": "2022-01-08T09:21:30.950Z"
   },
   {
    "duration": 9,
    "start_time": "2022-01-08T09:21:49.789Z"
   },
   {
    "duration": 98,
    "start_time": "2022-01-08T09:29:45.506Z"
   },
   {
    "duration": 95,
    "start_time": "2022-01-08T09:29:58.586Z"
   },
   {
    "duration": 106,
    "start_time": "2022-01-08T09:30:20.422Z"
   },
   {
    "duration": 345,
    "start_time": "2022-01-08T09:33:04.439Z"
   },
   {
    "duration": 253,
    "start_time": "2022-01-08T09:34:57.539Z"
   },
   {
    "duration": 213,
    "start_time": "2022-01-08T09:35:16.787Z"
   },
   {
    "duration": 9314,
    "start_time": "2022-01-08T09:37:35.353Z"
   },
   {
    "duration": 274,
    "start_time": "2022-01-08T09:38:17.653Z"
   },
   {
    "duration": 5,
    "start_time": "2022-01-08T09:38:39.360Z"
   },
   {
    "duration": 697,
    "start_time": "2022-01-08T09:53:33.192Z"
   },
   {
    "duration": 61,
    "start_time": "2022-01-08T09:53:33.891Z"
   },
   {
    "duration": 11,
    "start_time": "2022-01-08T09:53:33.953Z"
   },
   {
    "duration": 9,
    "start_time": "2022-01-08T09:53:33.965Z"
   },
   {
    "duration": 7,
    "start_time": "2022-01-08T09:53:33.975Z"
   },
   {
    "duration": 11,
    "start_time": "2022-01-08T09:53:33.983Z"
   },
   {
    "duration": 7,
    "start_time": "2022-01-08T09:53:33.995Z"
   },
   {
    "duration": 13,
    "start_time": "2022-01-08T09:53:34.004Z"
   },
   {
    "duration": 12,
    "start_time": "2022-01-08T09:53:34.018Z"
   },
   {
    "duration": 10,
    "start_time": "2022-01-08T09:53:34.031Z"
   },
   {
    "duration": 15,
    "start_time": "2022-01-08T09:53:34.042Z"
   },
   {
    "duration": 9,
    "start_time": "2022-01-08T09:53:34.058Z"
   },
   {
    "duration": 311,
    "start_time": "2022-01-08T09:53:34.069Z"
   },
   {
    "duration": 191,
    "start_time": "2022-01-08T09:53:34.381Z"
   },
   {
    "duration": 178,
    "start_time": "2022-01-08T09:53:34.574Z"
   },
   {
    "duration": 287,
    "start_time": "2022-01-08T09:53:34.753Z"
   },
   {
    "duration": 221,
    "start_time": "2022-01-08T09:53:35.042Z"
   },
   {
    "duration": 263,
    "start_time": "2022-01-08T09:53:35.265Z"
   },
   {
    "duration": 263,
    "start_time": "2022-01-08T09:53:35.529Z"
   },
   {
    "duration": 4,
    "start_time": "2022-01-08T09:53:35.793Z"
   },
   {
    "duration": 301,
    "start_time": "2022-01-08T09:53:35.798Z"
   },
   {
    "duration": 262,
    "start_time": "2022-01-08T09:54:13.373Z"
   },
   {
    "duration": 3,
    "start_time": "2022-01-08T09:55:36.892Z"
   },
   {
    "duration": 234,
    "start_time": "2022-01-08T10:22:23.247Z"
   },
   {
    "duration": 592,
    "start_time": "2022-01-08T11:13:05.278Z"
   },
   {
    "duration": 63,
    "start_time": "2022-01-08T11:13:05.872Z"
   },
   {
    "duration": 9,
    "start_time": "2022-01-08T11:13:05.938Z"
   },
   {
    "duration": 9,
    "start_time": "2022-01-08T11:13:05.948Z"
   },
   {
    "duration": 8,
    "start_time": "2022-01-08T11:13:05.958Z"
   },
   {
    "duration": 8,
    "start_time": "2022-01-08T11:13:05.967Z"
   },
   {
    "duration": 6,
    "start_time": "2022-01-08T11:13:05.978Z"
   },
   {
    "duration": 10,
    "start_time": "2022-01-08T11:13:05.986Z"
   },
   {
    "duration": 31,
    "start_time": "2022-01-08T11:13:05.998Z"
   },
   {
    "duration": 7,
    "start_time": "2022-01-08T11:13:06.030Z"
   },
   {
    "duration": 10,
    "start_time": "2022-01-08T11:13:06.038Z"
   },
   {
    "duration": 5,
    "start_time": "2022-01-08T11:13:06.050Z"
   },
   {
    "duration": 323,
    "start_time": "2022-01-08T11:13:06.056Z"
   },
   {
    "duration": 286,
    "start_time": "2022-01-08T11:13:06.380Z"
   },
   {
    "duration": 177,
    "start_time": "2022-01-08T11:13:06.668Z"
   },
   {
    "duration": 273,
    "start_time": "2022-01-08T11:13:06.847Z"
   },
   {
    "duration": 226,
    "start_time": "2022-01-08T11:13:07.122Z"
   },
   {
    "duration": 270,
    "start_time": "2022-01-08T11:13:07.349Z"
   },
   {
    "duration": 270,
    "start_time": "2022-01-08T11:13:07.620Z"
   },
   {
    "duration": 3,
    "start_time": "2022-01-08T11:13:07.892Z"
   },
   {
    "duration": 298,
    "start_time": "2022-01-08T11:13:07.897Z"
   },
   {
    "duration": 3,
    "start_time": "2022-01-08T11:13:08.198Z"
   },
   {
    "duration": 245,
    "start_time": "2022-01-08T11:13:08.203Z"
   },
   {
    "duration": 618,
    "start_time": "2022-01-08T11:27:34.035Z"
   },
   {
    "duration": 65,
    "start_time": "2022-01-08T11:27:34.655Z"
   },
   {
    "duration": 9,
    "start_time": "2022-01-08T11:27:34.721Z"
   },
   {
    "duration": 7,
    "start_time": "2022-01-08T11:27:34.732Z"
   },
   {
    "duration": 7,
    "start_time": "2022-01-08T11:27:34.740Z"
   },
   {
    "duration": 10,
    "start_time": "2022-01-08T11:27:34.748Z"
   },
   {
    "duration": 6,
    "start_time": "2022-01-08T11:27:34.759Z"
   },
   {
    "duration": 11,
    "start_time": "2022-01-08T11:27:34.767Z"
   },
   {
    "duration": 6,
    "start_time": "2022-01-08T11:27:34.780Z"
   },
   {
    "duration": 5,
    "start_time": "2022-01-08T11:27:34.787Z"
   },
   {
    "duration": 38,
    "start_time": "2022-01-08T11:27:34.793Z"
   },
   {
    "duration": 11,
    "start_time": "2022-01-08T11:27:34.832Z"
   },
   {
    "duration": 305,
    "start_time": "2022-01-08T11:27:34.845Z"
   },
   {
    "duration": 193,
    "start_time": "2022-01-08T11:27:35.152Z"
   },
   {
    "duration": 182,
    "start_time": "2022-01-08T11:27:35.347Z"
   },
   {
    "duration": 310,
    "start_time": "2022-01-08T11:27:35.530Z"
   },
   {
    "duration": 219,
    "start_time": "2022-01-08T11:27:35.841Z"
   },
   {
    "duration": 282,
    "start_time": "2022-01-08T11:27:36.061Z"
   },
   {
    "duration": 282,
    "start_time": "2022-01-08T11:27:36.345Z"
   },
   {
    "duration": 4,
    "start_time": "2022-01-08T11:27:36.628Z"
   },
   {
    "duration": 296,
    "start_time": "2022-01-08T11:27:36.633Z"
   },
   {
    "duration": 4,
    "start_time": "2022-01-08T11:27:36.930Z"
   },
   {
    "duration": 247,
    "start_time": "2022-01-08T11:27:36.935Z"
   },
   {
    "duration": 387,
    "start_time": "2022-01-08T11:27:37.183Z"
   },
   {
    "duration": 446,
    "start_time": "2022-01-08T11:28:14.809Z"
   },
   {
    "duration": 10,
    "start_time": "2022-01-08T11:29:25.613Z"
   },
   {
    "duration": 5,
    "start_time": "2022-01-08T11:37:58.860Z"
   },
   {
    "duration": 365,
    "start_time": "2022-01-08T14:07:02.169Z"
   },
   {
    "duration": 353,
    "start_time": "2022-01-08T14:07:34.894Z"
   },
   {
    "duration": 11,
    "start_time": "2022-01-08T14:07:41.383Z"
   },
   {
    "duration": 7,
    "start_time": "2022-01-08T14:10:44.587Z"
   },
   {
    "duration": 110,
    "start_time": "2022-01-08T14:26:23.396Z"
   },
   {
    "duration": 11,
    "start_time": "2022-01-08T14:26:42.960Z"
   },
   {
    "duration": 756,
    "start_time": "2022-01-08T14:32:24.354Z"
   },
   {
    "duration": 9008,
    "start_time": "2022-01-08T14:32:57.630Z"
   },
   {
    "duration": 8276,
    "start_time": "2022-01-08T14:33:40.965Z"
   },
   {
    "duration": 11,
    "start_time": "2022-01-08T14:34:14.156Z"
   },
   {
    "duration": 739,
    "start_time": "2022-01-08T14:37:18.903Z"
   },
   {
    "duration": 753,
    "start_time": "2022-01-08T14:37:41.078Z"
   },
   {
    "duration": 12,
    "start_time": "2022-01-08T14:37:56.962Z"
   },
   {
    "duration": 7,
    "start_time": "2022-01-08T14:42:16.155Z"
   },
   {
    "duration": 9394,
    "start_time": "2022-01-08T14:42:38.401Z"
   },
   {
    "duration": 14,
    "start_time": "2022-01-08T14:42:49.419Z"
   },
   {
    "duration": 6,
    "start_time": "2022-01-08T14:43:53.028Z"
   },
   {
    "duration": 4,
    "start_time": "2022-01-08T14:44:09.105Z"
   },
   {
    "duration": 4,
    "start_time": "2022-01-08T14:44:17.231Z"
   },
   {
    "duration": 4,
    "start_time": "2022-01-08T14:44:23.873Z"
   },
   {
    "duration": 4,
    "start_time": "2022-01-08T14:44:33.302Z"
   },
   {
    "duration": 4,
    "start_time": "2022-01-08T14:44:40.625Z"
   },
   {
    "duration": 418,
    "start_time": "2022-01-14T20:38:54.280Z"
   },
   {
    "duration": 1333,
    "start_time": "2022-01-14T20:39:05.173Z"
   },
   {
    "duration": 65,
    "start_time": "2022-01-14T20:39:08.423Z"
   },
   {
    "duration": 16,
    "start_time": "2022-01-14T20:39:12.883Z"
   },
   {
    "duration": 13,
    "start_time": "2022-01-14T20:39:16.542Z"
   },
   {
    "duration": 9,
    "start_time": "2022-01-14T20:39:35.536Z"
   },
   {
    "duration": 18,
    "start_time": "2022-01-14T20:39:42.323Z"
   },
   {
    "duration": 14,
    "start_time": "2022-01-14T20:40:51.148Z"
   },
   {
    "duration": 18,
    "start_time": "2022-01-14T21:02:26.667Z"
   },
   {
    "duration": 12,
    "start_time": "2022-01-14T21:02:32.217Z"
   },
   {
    "duration": 8,
    "start_time": "2022-01-14T21:02:36.797Z"
   },
   {
    "duration": 12,
    "start_time": "2022-01-14T21:02:49.750Z"
   },
   {
    "duration": 9,
    "start_time": "2022-01-14T21:03:10.770Z"
   },
   {
    "duration": 8,
    "start_time": "2022-01-14T21:03:34.964Z"
   },
   {
    "duration": 6,
    "start_time": "2022-01-14T21:03:43.339Z"
   },
   {
    "duration": 6,
    "start_time": "2022-01-14T21:03:59.908Z"
   },
   {
    "duration": 28,
    "start_time": "2022-01-14T21:04:58.815Z"
   },
   {
    "duration": 437,
    "start_time": "2022-01-14T21:06:40.187Z"
   },
   {
    "duration": 413,
    "start_time": "2022-01-14T21:06:57.096Z"
   },
   {
    "duration": -16,
    "start_time": "2022-01-14T21:07:21.227Z"
   },
   {
    "duration": 9171,
    "start_time": "2022-01-14T21:07:33.087Z"
   },
   {
    "duration": 362,
    "start_time": "2022-01-14T21:07:57.084Z"
   },
   {
    "duration": 12,
    "start_time": "2022-01-14T21:08:07.867Z"
   },
   {
    "duration": 9,
    "start_time": "2022-01-14T21:08:21.507Z"
   },
   {
    "duration": 11,
    "start_time": "2022-01-14T21:08:48.213Z"
   },
   {
    "duration": 10,
    "start_time": "2022-01-14T21:11:37.207Z"
   },
   {
    "duration": 11,
    "start_time": "2022-01-14T21:11:37.806Z"
   },
   {
    "duration": 8,
    "start_time": "2022-01-14T21:12:32.781Z"
   },
   {
    "duration": 7,
    "start_time": "2022-01-14T21:12:40.434Z"
   },
   {
    "duration": 10,
    "start_time": "2022-01-14T21:13:51.550Z"
   },
   {
    "duration": 10,
    "start_time": "2022-01-14T21:14:08.312Z"
   },
   {
    "duration": 398,
    "start_time": "2022-01-14T21:15:34.571Z"
   },
   {
    "duration": 398,
    "start_time": "2022-01-14T21:17:39.232Z"
   },
   {
    "duration": 20,
    "start_time": "2022-01-14T21:17:57.287Z"
   },
   {
    "duration": 21,
    "start_time": "2022-01-14T21:19:23.773Z"
   },
   {
    "duration": 23,
    "start_time": "2022-01-14T21:21:08.826Z"
   },
   {
    "duration": 11,
    "start_time": "2022-01-14T21:21:29.610Z"
   },
   {
    "duration": 8,
    "start_time": "2022-01-14T21:21:37.529Z"
   },
   {
    "duration": 12,
    "start_time": "2022-01-14T21:21:49.812Z"
   },
   {
    "duration": 4801,
    "start_time": "2022-01-14T21:22:12.667Z"
   },
   {
    "duration": 160,
    "start_time": "2022-01-14T21:22:44.772Z"
   },
   {
    "duration": 352,
    "start_time": "2022-01-14T21:25:17.535Z"
   },
   {
    "duration": 363,
    "start_time": "2022-01-14T21:25:26.337Z"
   },
   {
    "duration": 24,
    "start_time": "2022-01-14T21:25:43.231Z"
   },
   {
    "duration": 21,
    "start_time": "2022-01-14T21:25:49.202Z"
   },
   {
    "duration": 19,
    "start_time": "2022-01-14T21:25:53.092Z"
   },
   {
    "duration": 1093,
    "start_time": "2022-01-14T21:36:05.389Z"
   },
   {
    "duration": 401,
    "start_time": "2022-01-14T21:36:34.186Z"
   },
   {
    "duration": 10,
    "start_time": "2022-01-14T21:37:31.498Z"
   },
   {
    "duration": 23,
    "start_time": "2022-01-14T21:38:59.675Z"
   },
   {
    "duration": 11,
    "start_time": "2022-01-14T21:39:22.377Z"
   },
   {
    "duration": 14,
    "start_time": "2022-01-14T21:40:07.809Z"
   },
   {
    "duration": 6,
    "start_time": "2022-01-14T21:41:49.866Z"
   },
   {
    "duration": 6,
    "start_time": "2022-01-14T21:42:03.306Z"
   },
   {
    "duration": 1051,
    "start_time": "2022-01-15T07:13:15.399Z"
   },
   {
    "duration": 91,
    "start_time": "2022-01-15T07:13:16.453Z"
   },
   {
    "duration": 11,
    "start_time": "2022-01-15T07:13:19.676Z"
   },
   {
    "duration": 9,
    "start_time": "2022-01-15T07:13:21.583Z"
   },
   {
    "duration": 6,
    "start_time": "2022-01-15T07:13:22.518Z"
   },
   {
    "duration": 16,
    "start_time": "2022-01-15T07:13:27.296Z"
   },
   {
    "duration": 9,
    "start_time": "2022-01-15T07:13:30.580Z"
   },
   {
    "duration": 14,
    "start_time": "2022-01-15T07:13:42.594Z"
   },
   {
    "duration": 8,
    "start_time": "2022-01-15T07:13:49.308Z"
   },
   {
    "duration": 9,
    "start_time": "2022-01-15T07:13:49.318Z"
   },
   {
    "duration": 9,
    "start_time": "2022-01-15T07:13:51.788Z"
   },
   {
    "duration": 6,
    "start_time": "2022-01-15T07:14:01.196Z"
   },
   {
    "duration": 8,
    "start_time": "2022-01-15T07:14:03.216Z"
   },
   {
    "duration": 5,
    "start_time": "2022-01-15T07:14:05.353Z"
   },
   {
    "duration": 1436,
    "start_time": "2022-01-15T07:45:26.929Z"
   },
   {
    "duration": 8,
    "start_time": "2022-01-15T07:45:36.315Z"
   },
   {
    "duration": 346,
    "start_time": "2022-01-15T07:45:38.972Z"
   },
   {
    "duration": 376,
    "start_time": "2022-01-15T07:45:53.627Z"
   },
   {
    "duration": 363,
    "start_time": "2022-01-15T07:46:10.253Z"
   },
   {
    "duration": 257,
    "start_time": "2022-01-15T07:48:25.735Z"
   },
   {
    "duration": 384,
    "start_time": "2022-01-15T08:01:21.581Z"
   },
   {
    "duration": 378,
    "start_time": "2022-01-15T08:01:41.302Z"
   },
   {
    "duration": 362,
    "start_time": "2022-01-15T08:02:22.723Z"
   },
   {
    "duration": 234,
    "start_time": "2022-01-15T08:03:22.801Z"
   },
   {
    "duration": 259,
    "start_time": "2022-01-15T08:14:06.313Z"
   },
   {
    "duration": 254,
    "start_time": "2022-01-15T08:14:16.260Z"
   },
   {
    "duration": 308,
    "start_time": "2022-01-15T08:14:26.809Z"
   },
   {
    "duration": 320,
    "start_time": "2022-01-15T08:18:11.390Z"
   },
   {
    "duration": 207,
    "start_time": "2022-01-15T08:18:11.712Z"
   },
   {
    "duration": 333,
    "start_time": "2022-01-15T08:25:10.806Z"
   },
   {
    "duration": 233,
    "start_time": "2022-01-15T08:28:10.068Z"
   },
   {
    "duration": 358,
    "start_time": "2022-01-15T08:36:22.317Z"
   },
   {
    "duration": 387,
    "start_time": "2022-01-15T08:37:11.856Z"
   },
   {
    "duration": 356,
    "start_time": "2022-01-15T08:37:47.719Z"
   },
   {
    "duration": 351,
    "start_time": "2022-01-15T08:38:51.368Z"
   },
   {
    "duration": 337,
    "start_time": "2022-01-15T08:46:32.516Z"
   },
   {
    "duration": 332,
    "start_time": "2022-01-15T08:46:45.688Z"
   },
   {
    "duration": 418,
    "start_time": "2022-01-15T08:46:54.943Z"
   },
   {
    "duration": 315,
    "start_time": "2022-01-15T08:47:05.297Z"
   },
   {
    "duration": 331,
    "start_time": "2022-01-15T08:57:28.894Z"
   },
   {
    "duration": 526,
    "start_time": "2022-01-15T09:01:13.097Z"
   },
   {
    "duration": 355,
    "start_time": "2022-01-15T09:01:32.323Z"
   },
   {
    "duration": 6,
    "start_time": "2022-01-15T09:05:26.657Z"
   },
   {
    "duration": 256,
    "start_time": "2022-01-15T09:08:55.986Z"
   },
   {
    "duration": 326,
    "start_time": "2022-01-15T09:09:02.100Z"
   },
   {
    "duration": 471,
    "start_time": "2022-01-15T09:11:57.869Z"
   },
   {
    "duration": 329,
    "start_time": "2022-01-15T09:16:02.992Z"
   },
   {
    "duration": 322,
    "start_time": "2022-01-15T09:16:26.089Z"
   },
   {
    "duration": 387,
    "start_time": "2022-01-15T09:18:10.538Z"
   },
   {
    "duration": 5,
    "start_time": "2022-01-15T09:19:25.571Z"
   },
   {
    "duration": 20,
    "start_time": "2022-01-15T09:45:36.621Z"
   },
   {
    "duration": 13,
    "start_time": "2022-01-15T09:47:03.893Z"
   },
   {
    "duration": 281,
    "start_time": "2022-01-15T09:52:43.167Z"
   },
   {
    "duration": 263,
    "start_time": "2022-01-15T09:52:49.913Z"
   },
   {
    "duration": 11,
    "start_time": "2022-01-15T09:52:53.417Z"
   },
   {
    "duration": 6,
    "start_time": "2022-01-15T09:52:58.832Z"
   },
   {
    "duration": 8,
    "start_time": "2022-01-15T09:53:24.539Z"
   },
   {
    "duration": 11,
    "start_time": "2022-01-15T10:06:45.996Z"
   },
   {
    "duration": 7,
    "start_time": "2022-01-15T10:06:50.855Z"
   },
   {
    "duration": 9,
    "start_time": "2022-01-15T10:13:17.120Z"
   },
   {
    "duration": 10,
    "start_time": "2022-01-15T10:14:41.984Z"
   },
   {
    "duration": 10,
    "start_time": "2022-01-15T10:14:59.254Z"
   },
   {
    "duration": 10,
    "start_time": "2022-01-15T10:15:10.095Z"
   },
   {
    "duration": 13,
    "start_time": "2022-01-15T10:17:59.485Z"
   },
   {
    "duration": 9,
    "start_time": "2022-01-15T10:19:51.918Z"
   },
   {
    "duration": 923,
    "start_time": "2022-01-15T10:21:23.118Z"
   },
   {
    "duration": 6503,
    "start_time": "2022-01-15T10:21:39.509Z"
   },
   {
    "duration": 9,
    "start_time": "2022-01-15T10:22:01.236Z"
   },
   {
    "duration": 7,
    "start_time": "2022-01-15T10:22:53.858Z"
   },
   {
    "duration": 80,
    "start_time": "2022-01-15T10:26:00.288Z"
   },
   {
    "duration": 7,
    "start_time": "2022-01-15T10:32:47.596Z"
   },
   {
    "duration": 6,
    "start_time": "2022-01-15T10:33:06.951Z"
   },
   {
    "duration": 7,
    "start_time": "2022-01-15T10:33:20.483Z"
   },
   {
    "duration": 8,
    "start_time": "2022-01-15T10:33:31.444Z"
   },
   {
    "duration": 261,
    "start_time": "2022-01-15T10:39:07.919Z"
   },
   {
    "duration": 267,
    "start_time": "2022-01-15T10:39:26.503Z"
   },
   {
    "duration": 6446,
    "start_time": "2022-01-15T11:02:36.402Z"
   },
   {
    "duration": 7,
    "start_time": "2022-01-15T11:03:10.557Z"
   },
   {
    "duration": 6,
    "start_time": "2022-01-15T11:03:33.272Z"
   },
   {
    "duration": 1169,
    "start_time": "2022-01-15T11:31:47.987Z"
   },
   {
    "duration": 61,
    "start_time": "2022-01-15T11:31:49.159Z"
   },
   {
    "duration": 12,
    "start_time": "2022-01-15T11:31:49.222Z"
   },
   {
    "duration": 11,
    "start_time": "2022-01-15T11:31:49.236Z"
   },
   {
    "duration": 8,
    "start_time": "2022-01-15T11:31:49.249Z"
   },
   {
    "duration": 10,
    "start_time": "2022-01-15T11:31:49.259Z"
   },
   {
    "duration": 7,
    "start_time": "2022-01-15T11:31:49.271Z"
   },
   {
    "duration": 14,
    "start_time": "2022-01-15T11:31:49.281Z"
   },
   {
    "duration": 8,
    "start_time": "2022-01-15T11:31:49.297Z"
   },
   {
    "duration": 10,
    "start_time": "2022-01-15T11:31:49.306Z"
   },
   {
    "duration": 11,
    "start_time": "2022-01-15T11:31:49.318Z"
   },
   {
    "duration": 7,
    "start_time": "2022-01-15T11:31:49.331Z"
   },
   {
    "duration": 27,
    "start_time": "2022-01-15T11:31:49.339Z"
   },
   {
    "duration": 7,
    "start_time": "2022-01-15T11:31:49.368Z"
   },
   {
    "duration": 11,
    "start_time": "2022-01-15T11:31:49.377Z"
   },
   {
    "duration": 8,
    "start_time": "2022-01-15T11:31:49.389Z"
   },
   {
    "duration": 346,
    "start_time": "2022-01-15T11:31:49.398Z"
   },
   {
    "duration": 258,
    "start_time": "2022-01-15T11:31:49.746Z"
   },
   {
    "duration": 259,
    "start_time": "2022-01-15T11:31:50.006Z"
   },
   {
    "duration": 360,
    "start_time": "2022-01-15T11:31:50.266Z"
   },
   {
    "duration": 240,
    "start_time": "2022-01-15T11:31:50.628Z"
   },
   {
    "duration": 356,
    "start_time": "2022-01-15T11:31:50.870Z"
   },
   {
    "duration": 86,
    "start_time": "2022-01-15T11:31:51.230Z"
   },
   {
    "duration": 1151,
    "start_time": "2022-01-15T11:31:50.167Z"
   },
   {
    "duration": 1149,
    "start_time": "2022-01-15T11:31:50.171Z"
   },
   {
    "duration": 1147,
    "start_time": "2022-01-15T11:31:50.174Z"
   },
   {
    "duration": 1146,
    "start_time": "2022-01-15T11:31:50.177Z"
   },
   {
    "duration": 1142,
    "start_time": "2022-01-15T11:31:50.182Z"
   },
   {
    "duration": 1139,
    "start_time": "2022-01-15T11:31:50.187Z"
   },
   {
    "duration": 1136,
    "start_time": "2022-01-15T11:31:50.191Z"
   },
   {
    "duration": 1135,
    "start_time": "2022-01-15T11:31:50.194Z"
   },
   {
    "duration": 1133,
    "start_time": "2022-01-15T11:31:50.197Z"
   },
   {
    "duration": 1127,
    "start_time": "2022-01-15T11:31:50.205Z"
   },
   {
    "duration": 1125,
    "start_time": "2022-01-15T11:31:50.208Z"
   },
   {
    "duration": 1123,
    "start_time": "2022-01-15T11:31:50.211Z"
   },
   {
    "duration": 1121,
    "start_time": "2022-01-15T11:31:50.215Z"
   },
   {
    "duration": 1330,
    "start_time": "2022-01-15T11:32:35.936Z"
   },
   {
    "duration": 63,
    "start_time": "2022-01-15T11:32:37.268Z"
   },
   {
    "duration": 12,
    "start_time": "2022-01-15T11:32:37.334Z"
   },
   {
    "duration": 11,
    "start_time": "2022-01-15T11:32:37.348Z"
   },
   {
    "duration": 10,
    "start_time": "2022-01-15T11:32:37.362Z"
   },
   {
    "duration": 10,
    "start_time": "2022-01-15T11:32:37.374Z"
   },
   {
    "duration": 10,
    "start_time": "2022-01-15T11:32:37.386Z"
   },
   {
    "duration": 15,
    "start_time": "2022-01-15T11:32:37.398Z"
   },
   {
    "duration": 8,
    "start_time": "2022-01-15T11:32:37.416Z"
   },
   {
    "duration": 7,
    "start_time": "2022-01-15T11:32:37.426Z"
   },
   {
    "duration": 33,
    "start_time": "2022-01-15T11:32:37.435Z"
   },
   {
    "duration": 7,
    "start_time": "2022-01-15T11:32:37.470Z"
   },
   {
    "duration": 9,
    "start_time": "2022-01-15T11:32:37.479Z"
   },
   {
    "duration": 4,
    "start_time": "2022-01-15T11:32:37.490Z"
   },
   {
    "duration": 11,
    "start_time": "2022-01-15T11:32:37.496Z"
   },
   {
    "duration": 8,
    "start_time": "2022-01-15T11:32:37.508Z"
   },
   {
    "duration": 372,
    "start_time": "2022-01-15T11:32:37.518Z"
   },
   {
    "duration": 276,
    "start_time": "2022-01-15T11:32:37.892Z"
   },
   {
    "duration": 262,
    "start_time": "2022-01-15T11:32:38.170Z"
   },
   {
    "duration": 404,
    "start_time": "2022-01-15T11:32:38.434Z"
   },
   {
    "duration": 246,
    "start_time": "2022-01-15T11:32:38.839Z"
   },
   {
    "duration": 358,
    "start_time": "2022-01-15T11:32:39.086Z"
   },
   {
    "duration": 214,
    "start_time": "2022-01-15T11:32:39.447Z"
   },
   {
    "duration": 1133,
    "start_time": "2022-01-15T11:32:38.531Z"
   },
   {
    "duration": 1127,
    "start_time": "2022-01-15T11:32:38.538Z"
   },
   {
    "duration": 1121,
    "start_time": "2022-01-15T11:32:38.545Z"
   },
   {
    "duration": 1115,
    "start_time": "2022-01-15T11:32:38.552Z"
   },
   {
    "duration": 1110,
    "start_time": "2022-01-15T11:32:38.559Z"
   },
   {
    "duration": 1103,
    "start_time": "2022-01-15T11:32:38.567Z"
   },
   {
    "duration": 1086,
    "start_time": "2022-01-15T11:32:38.585Z"
   },
   {
    "duration": 1080,
    "start_time": "2022-01-15T11:32:38.592Z"
   },
   {
    "duration": 1073,
    "start_time": "2022-01-15T11:32:38.600Z"
   },
   {
    "duration": 1067,
    "start_time": "2022-01-15T11:32:38.607Z"
   },
   {
    "duration": 1062,
    "start_time": "2022-01-15T11:32:38.614Z"
   },
   {
    "duration": 1056,
    "start_time": "2022-01-15T11:32:38.621Z"
   },
   {
    "duration": 1050,
    "start_time": "2022-01-15T11:32:38.628Z"
   },
   {
    "duration": 1123,
    "start_time": "2022-01-15T11:33:14.727Z"
   },
   {
    "duration": 63,
    "start_time": "2022-01-15T11:33:15.852Z"
   },
   {
    "duration": 13,
    "start_time": "2022-01-15T11:33:15.918Z"
   },
   {
    "duration": 10,
    "start_time": "2022-01-15T11:33:15.933Z"
   },
   {
    "duration": 7,
    "start_time": "2022-01-15T11:33:15.945Z"
   },
   {
    "duration": 15,
    "start_time": "2022-01-15T11:33:15.954Z"
   },
   {
    "duration": 10,
    "start_time": "2022-01-15T11:33:15.970Z"
   },
   {
    "duration": 14,
    "start_time": "2022-01-15T11:33:15.982Z"
   },
   {
    "duration": 9,
    "start_time": "2022-01-15T11:33:15.998Z"
   },
   {
    "duration": 7,
    "start_time": "2022-01-15T11:33:16.009Z"
   },
   {
    "duration": 9,
    "start_time": "2022-01-15T11:33:16.018Z"
   },
   {
    "duration": 10,
    "start_time": "2022-01-15T11:33:16.028Z"
   },
   {
    "duration": 8,
    "start_time": "2022-01-15T11:33:16.061Z"
   },
   {
    "duration": 10,
    "start_time": "2022-01-15T11:33:16.071Z"
   },
   {
    "duration": 21,
    "start_time": "2022-01-15T11:33:16.082Z"
   },
   {
    "duration": 9,
    "start_time": "2022-01-15T11:33:16.105Z"
   },
   {
    "duration": 360,
    "start_time": "2022-01-15T11:33:16.116Z"
   },
   {
    "duration": 253,
    "start_time": "2022-01-15T11:33:16.478Z"
   },
   {
    "duration": 252,
    "start_time": "2022-01-15T11:33:16.733Z"
   },
   {
    "duration": 337,
    "start_time": "2022-01-15T11:33:16.987Z"
   },
   {
    "duration": 241,
    "start_time": "2022-01-15T11:33:17.326Z"
   },
   {
    "duration": 331,
    "start_time": "2022-01-15T11:33:17.569Z"
   },
   {
    "duration": 312,
    "start_time": "2022-01-15T11:33:17.902Z"
   },
   {
    "duration": 4,
    "start_time": "2022-01-15T11:33:18.216Z"
   },
   {
    "duration": 378,
    "start_time": "2022-01-15T11:33:18.222Z"
   },
   {
    "duration": 326,
    "start_time": "2022-01-15T11:33:18.602Z"
   },
   {
    "duration": 4,
    "start_time": "2022-01-15T11:33:18.933Z"
   },
   {
    "duration": 279,
    "start_time": "2022-01-15T11:33:18.939Z"
   },
   {
    "duration": 10,
    "start_time": "2022-01-15T11:33:19.220Z"
   },
   {
    "duration": 5,
    "start_time": "2022-01-15T11:33:19.232Z"
   },
   {
    "duration": 21,
    "start_time": "2022-01-15T11:33:19.239Z"
   },
   {
    "duration": 7,
    "start_time": "2022-01-15T11:33:19.262Z"
   },
   {
    "duration": 12,
    "start_time": "2022-01-15T11:33:19.271Z"
   },
   {
    "duration": 15,
    "start_time": "2022-01-15T11:33:19.284Z"
   },
   {
    "duration": 9,
    "start_time": "2022-01-15T11:33:19.301Z"
   },
   {
    "duration": 1189,
    "start_time": "2022-01-15T11:55:08.471Z"
   },
   {
    "duration": 64,
    "start_time": "2022-01-15T11:55:09.663Z"
   },
   {
    "duration": 14,
    "start_time": "2022-01-15T11:55:09.729Z"
   },
   {
    "duration": 14,
    "start_time": "2022-01-15T11:55:09.746Z"
   },
   {
    "duration": 9,
    "start_time": "2022-01-15T11:55:09.762Z"
   },
   {
    "duration": 11,
    "start_time": "2022-01-15T11:55:09.773Z"
   },
   {
    "duration": 9,
    "start_time": "2022-01-15T11:55:09.786Z"
   },
   {
    "duration": 14,
    "start_time": "2022-01-15T11:55:09.798Z"
   },
   {
    "duration": 8,
    "start_time": "2022-01-15T11:55:09.814Z"
   },
   {
    "duration": 9,
    "start_time": "2022-01-15T11:55:09.824Z"
   },
   {
    "duration": 37,
    "start_time": "2022-01-15T11:55:09.835Z"
   },
   {
    "duration": 7,
    "start_time": "2022-01-15T11:55:09.874Z"
   },
   {
    "duration": 10,
    "start_time": "2022-01-15T11:55:09.882Z"
   },
   {
    "duration": 5,
    "start_time": "2022-01-15T11:55:09.894Z"
   },
   {
    "duration": 10,
    "start_time": "2022-01-15T11:55:09.901Z"
   },
   {
    "duration": 9,
    "start_time": "2022-01-15T11:55:09.913Z"
   },
   {
    "duration": 398,
    "start_time": "2022-01-15T11:55:09.924Z"
   },
   {
    "duration": 278,
    "start_time": "2022-01-15T11:55:10.324Z"
   },
   {
    "duration": 277,
    "start_time": "2022-01-15T11:55:10.605Z"
   },
   {
    "duration": 364,
    "start_time": "2022-01-15T11:55:10.884Z"
   },
   {
    "duration": 266,
    "start_time": "2022-01-15T11:55:11.250Z"
   },
   {
    "duration": 356,
    "start_time": "2022-01-15T11:55:11.518Z"
   },
   {
    "duration": 340,
    "start_time": "2022-01-15T11:55:11.877Z"
   },
   {
    "duration": 4,
    "start_time": "2022-01-15T11:55:12.219Z"
   },
   {
    "duration": 376,
    "start_time": "2022-01-15T11:55:12.224Z"
   },
   {
    "duration": 399,
    "start_time": "2022-01-15T11:55:12.601Z"
   },
   {
    "duration": 4,
    "start_time": "2022-01-15T11:55:13.002Z"
   },
   {
    "duration": 310,
    "start_time": "2022-01-15T11:55:13.009Z"
   },
   {
    "duration": 10,
    "start_time": "2022-01-15T11:55:13.321Z"
   },
   {
    "duration": 6,
    "start_time": "2022-01-15T11:55:13.332Z"
   },
   {
    "duration": 26,
    "start_time": "2022-01-15T11:55:13.340Z"
   },
   {
    "duration": 16,
    "start_time": "2022-01-15T11:55:13.368Z"
   },
   {
    "duration": 25,
    "start_time": "2022-01-15T11:55:13.386Z"
   },
   {
    "duration": 65,
    "start_time": "2022-01-15T11:55:13.413Z"
   },
   {
    "duration": 24,
    "start_time": "2022-01-15T11:55:13.480Z"
   },
   {
    "duration": 1083,
    "start_time": "2022-01-15T11:57:27.672Z"
   },
   {
    "duration": 62,
    "start_time": "2022-01-15T11:57:28.761Z"
   },
   {
    "duration": 12,
    "start_time": "2022-01-15T11:57:28.825Z"
   },
   {
    "duration": 11,
    "start_time": "2022-01-15T11:57:28.839Z"
   },
   {
    "duration": 7,
    "start_time": "2022-01-15T11:57:28.852Z"
   },
   {
    "duration": 21,
    "start_time": "2022-01-15T11:57:28.861Z"
   },
   {
    "duration": 9,
    "start_time": "2022-01-15T11:57:28.883Z"
   },
   {
    "duration": 12,
    "start_time": "2022-01-15T11:57:28.895Z"
   },
   {
    "duration": 12,
    "start_time": "2022-01-15T11:57:28.910Z"
   },
   {
    "duration": 6,
    "start_time": "2022-01-15T11:57:28.924Z"
   },
   {
    "duration": 13,
    "start_time": "2022-01-15T11:57:28.932Z"
   },
   {
    "duration": 6,
    "start_time": "2022-01-15T11:57:28.961Z"
   },
   {
    "duration": 12,
    "start_time": "2022-01-15T11:57:28.968Z"
   },
   {
    "duration": 6,
    "start_time": "2022-01-15T11:57:28.981Z"
   },
   {
    "duration": 10,
    "start_time": "2022-01-15T11:57:28.989Z"
   },
   {
    "duration": 9,
    "start_time": "2022-01-15T11:57:29.001Z"
   },
   {
    "duration": 371,
    "start_time": "2022-01-15T11:57:29.012Z"
   },
   {
    "duration": 277,
    "start_time": "2022-01-15T11:57:29.385Z"
   },
   {
    "duration": 254,
    "start_time": "2022-01-15T11:57:29.665Z"
   },
   {
    "duration": 355,
    "start_time": "2022-01-15T11:57:29.920Z"
   },
   {
    "duration": 247,
    "start_time": "2022-01-15T11:57:30.277Z"
   },
   {
    "duration": 361,
    "start_time": "2022-01-15T11:57:30.525Z"
   },
   {
    "duration": 311,
    "start_time": "2022-01-15T11:57:30.889Z"
   },
   {
    "duration": 5,
    "start_time": "2022-01-15T11:57:31.202Z"
   },
   {
    "duration": 337,
    "start_time": "2022-01-15T11:57:31.209Z"
   },
   {
    "duration": 386,
    "start_time": "2022-01-15T11:57:31.548Z"
   },
   {
    "duration": 5,
    "start_time": "2022-01-15T11:57:31.937Z"
   },
   {
    "duration": 278,
    "start_time": "2022-01-15T11:57:31.944Z"
   },
   {
    "duration": 11,
    "start_time": "2022-01-15T11:57:32.224Z"
   },
   {
    "duration": 23,
    "start_time": "2022-01-15T11:57:32.237Z"
   },
   {
    "duration": 8,
    "start_time": "2022-01-15T11:57:32.262Z"
   },
   {
    "duration": 6,
    "start_time": "2022-01-15T11:57:32.272Z"
   },
   {
    "duration": 10,
    "start_time": "2022-01-15T11:57:32.280Z"
   },
   {
    "duration": 22,
    "start_time": "2022-01-15T11:57:32.291Z"
   },
   {
    "duration": 9,
    "start_time": "2022-01-15T11:57:32.315Z"
   },
   {
    "duration": 968,
    "start_time": "2022-01-15T16:58:35.410Z"
   },
   {
    "duration": 49,
    "start_time": "2022-01-15T16:58:36.380Z"
   },
   {
    "duration": 9,
    "start_time": "2022-01-15T16:58:36.431Z"
   },
   {
    "duration": 8,
    "start_time": "2022-01-15T16:58:36.442Z"
   },
   {
    "duration": 8,
    "start_time": "2022-01-15T16:58:36.451Z"
   },
   {
    "duration": 8,
    "start_time": "2022-01-15T16:58:36.460Z"
   },
   {
    "duration": 8,
    "start_time": "2022-01-15T16:58:36.469Z"
   },
   {
    "duration": 12,
    "start_time": "2022-01-15T16:58:36.479Z"
   },
   {
    "duration": 23,
    "start_time": "2022-01-15T16:58:36.493Z"
   },
   {
    "duration": 7,
    "start_time": "2022-01-15T16:58:36.518Z"
   },
   {
    "duration": 8,
    "start_time": "2022-01-15T16:58:36.526Z"
   },
   {
    "duration": 5,
    "start_time": "2022-01-15T16:58:36.535Z"
   },
   {
    "duration": 24,
    "start_time": "2022-01-15T16:58:36.541Z"
   },
   {
    "duration": 6,
    "start_time": "2022-01-15T16:58:36.566Z"
   },
   {
    "duration": 10,
    "start_time": "2022-01-15T16:58:36.573Z"
   },
   {
    "duration": 7,
    "start_time": "2022-01-15T16:58:36.584Z"
   },
   {
    "duration": 334,
    "start_time": "2022-01-15T16:58:36.593Z"
   },
   {
    "duration": 247,
    "start_time": "2022-01-15T16:58:36.928Z"
   },
   {
    "duration": 217,
    "start_time": "2022-01-15T16:58:37.176Z"
   },
   {
    "duration": 352,
    "start_time": "2022-01-15T16:58:37.395Z"
   },
   {
    "duration": 212,
    "start_time": "2022-01-15T16:58:37.748Z"
   },
   {
    "duration": 293,
    "start_time": "2022-01-15T16:58:37.961Z"
   },
   {
    "duration": 295,
    "start_time": "2022-01-15T16:58:38.257Z"
   },
   {
    "duration": 4,
    "start_time": "2022-01-15T16:58:38.553Z"
   },
   {
    "duration": 298,
    "start_time": "2022-01-15T16:58:38.559Z"
   },
   {
    "duration": 305,
    "start_time": "2022-01-15T16:58:38.858Z"
   },
   {
    "duration": 3,
    "start_time": "2022-01-15T16:58:39.165Z"
   },
   {
    "duration": 259,
    "start_time": "2022-01-15T16:58:39.169Z"
   },
   {
    "duration": 9,
    "start_time": "2022-01-15T16:58:39.429Z"
   },
   {
    "duration": 4,
    "start_time": "2022-01-15T16:58:39.440Z"
   },
   {
    "duration": 7,
    "start_time": "2022-01-15T16:58:39.446Z"
   },
   {
    "duration": 6,
    "start_time": "2022-01-15T16:58:39.455Z"
   },
   {
    "duration": 8,
    "start_time": "2022-01-15T16:58:39.462Z"
   },
   {
    "duration": 43,
    "start_time": "2022-01-15T16:58:39.472Z"
   },
   {
    "duration": 8,
    "start_time": "2022-01-15T16:58:39.517Z"
   },
   {
    "duration": 1026,
    "start_time": "2022-01-15T16:59:22.940Z"
   },
   {
    "duration": 52,
    "start_time": "2022-01-15T16:59:23.967Z"
   },
   {
    "duration": 9,
    "start_time": "2022-01-15T16:59:24.020Z"
   },
   {
    "duration": 8,
    "start_time": "2022-01-15T16:59:24.031Z"
   },
   {
    "duration": 11,
    "start_time": "2022-01-15T16:59:24.040Z"
   },
   {
    "duration": 8,
    "start_time": "2022-01-15T16:59:24.053Z"
   },
   {
    "duration": 8,
    "start_time": "2022-01-15T16:59:24.062Z"
   },
   {
    "duration": 10,
    "start_time": "2022-01-15T16:59:24.072Z"
   },
   {
    "duration": 6,
    "start_time": "2022-01-15T16:59:24.084Z"
   },
   {
    "duration": 4,
    "start_time": "2022-01-15T16:59:24.112Z"
   },
   {
    "duration": 8,
    "start_time": "2022-01-15T16:59:24.118Z"
   },
   {
    "duration": 6,
    "start_time": "2022-01-15T16:59:24.127Z"
   },
   {
    "duration": 7,
    "start_time": "2022-01-15T16:59:24.134Z"
   },
   {
    "duration": 5,
    "start_time": "2022-01-15T16:59:24.143Z"
   },
   {
    "duration": 8,
    "start_time": "2022-01-15T16:59:24.150Z"
   },
   {
    "duration": 7,
    "start_time": "2022-01-15T16:59:24.159Z"
   },
   {
    "duration": 334,
    "start_time": "2022-01-15T16:59:24.167Z"
   },
   {
    "duration": 242,
    "start_time": "2022-01-15T16:59:24.502Z"
   },
   {
    "duration": 225,
    "start_time": "2022-01-15T16:59:24.746Z"
   },
   {
    "duration": 323,
    "start_time": "2022-01-15T16:59:24.972Z"
   },
   {
    "duration": 230,
    "start_time": "2022-01-15T16:59:25.296Z"
   },
   {
    "duration": 312,
    "start_time": "2022-01-15T16:59:25.527Z"
   },
   {
    "duration": 305,
    "start_time": "2022-01-15T16:59:25.841Z"
   },
   {
    "duration": 3,
    "start_time": "2022-01-15T16:59:26.148Z"
   },
   {
    "duration": 309,
    "start_time": "2022-01-15T16:59:26.153Z"
   },
   {
    "duration": 306,
    "start_time": "2022-01-15T16:59:26.463Z"
   },
   {
    "duration": 4,
    "start_time": "2022-01-15T16:59:26.770Z"
   },
   {
    "duration": 252,
    "start_time": "2022-01-15T16:59:26.775Z"
   },
   {
    "duration": 11,
    "start_time": "2022-01-15T16:59:27.029Z"
   },
   {
    "duration": 5,
    "start_time": "2022-01-15T16:59:27.041Z"
   },
   {
    "duration": 11,
    "start_time": "2022-01-15T16:59:27.047Z"
   },
   {
    "duration": 6,
    "start_time": "2022-01-15T16:59:27.059Z"
   },
   {
    "duration": 7,
    "start_time": "2022-01-15T16:59:27.066Z"
   },
   {
    "duration": 42,
    "start_time": "2022-01-15T16:59:27.075Z"
   },
   {
    "duration": 7,
    "start_time": "2022-01-15T16:59:27.119Z"
   },
   {
    "duration": 458,
    "start_time": "2022-01-15T17:45:17.912Z"
   },
   {
    "duration": 1511,
    "start_time": "2022-01-15T17:45:24.341Z"
   },
   {
    "duration": 73,
    "start_time": "2022-01-15T17:45:28.603Z"
   },
   {
    "duration": 550,
    "start_time": "2022-01-15T17:45:32.642Z"
   },
   {
    "duration": 72,
    "start_time": "2022-01-15T17:47:19.193Z"
   },
   {
    "duration": 19,
    "start_time": "2022-01-15T17:47:39.914Z"
   },
   {
    "duration": 69,
    "start_time": "2022-01-15T17:47:57.345Z"
   },
   {
    "duration": 11,
    "start_time": "2022-01-15T17:47:59.826Z"
   },
   {
    "duration": 13,
    "start_time": "2022-01-15T17:48:36.869Z"
   },
   {
    "duration": 135,
    "start_time": "2022-01-15T17:49:28.384Z"
   },
   {
    "duration": 129,
    "start_time": "2022-01-15T17:50:27.025Z"
   },
   {
    "duration": 129,
    "start_time": "2022-01-15T17:50:33.326Z"
   },
   {
    "duration": 122,
    "start_time": "2022-01-15T17:50:42.865Z"
   },
   {
    "duration": 152,
    "start_time": "2022-01-15T17:50:50.885Z"
   },
   {
    "duration": 21,
    "start_time": "2022-01-15T17:50:59.717Z"
   },
   {
    "duration": 16,
    "start_time": "2022-01-15T17:51:51.215Z"
   },
   {
    "duration": 13,
    "start_time": "2022-01-15T17:52:36.062Z"
   },
   {
    "duration": 16,
    "start_time": "2022-01-15T17:52:44.018Z"
   },
   {
    "duration": 16,
    "start_time": "2022-01-15T17:56:18.167Z"
   },
   {
    "duration": 14,
    "start_time": "2022-01-15T17:56:43.225Z"
   },
   {
    "duration": 752,
    "start_time": "2022-01-15T17:58:42.685Z"
   },
   {
    "duration": 15,
    "start_time": "2022-01-15T17:59:00.036Z"
   },
   {
    "duration": 542,
    "start_time": "2022-01-15T18:08:33.735Z"
   },
   {
    "duration": 368,
    "start_time": "2022-01-15T18:09:27.877Z"
   },
   {
    "duration": 39,
    "start_time": "2022-01-15T18:09:59.429Z"
   },
   {
    "duration": 37,
    "start_time": "2022-01-15T18:10:39.060Z"
   },
   {
    "duration": 37,
    "start_time": "2022-01-15T18:11:03.344Z"
   },
   {
    "duration": 37,
    "start_time": "2022-01-15T18:11:16.148Z"
   },
   {
    "duration": 388,
    "start_time": "2022-01-15T18:12:11.024Z"
   },
   {
    "duration": 383,
    "start_time": "2022-01-15T18:13:06.241Z"
   },
   {
    "duration": 384,
    "start_time": "2022-01-15T18:13:14.009Z"
   },
   {
    "duration": 24,
    "start_time": "2022-01-15T18:15:31.074Z"
   },
   {
    "duration": 4,
    "start_time": "2022-01-15T18:17:31.096Z"
   },
   {
    "duration": 381,
    "start_time": "2022-01-15T18:18:43.371Z"
   },
   {
    "duration": 439,
    "start_time": "2022-01-15T18:19:01.058Z"
   },
   {
    "duration": 384,
    "start_time": "2022-01-15T18:19:56.814Z"
   },
   {
    "duration": 27,
    "start_time": "2022-01-15T18:21:15.422Z"
   },
   {
    "duration": 8,
    "start_time": "2022-01-15T18:33:04.344Z"
   },
   {
    "duration": 8,
    "start_time": "2022-01-15T18:34:10.104Z"
   },
   {
    "duration": 11,
    "start_time": "2022-01-15T18:35:00.210Z"
   },
   {
    "duration": 9,
    "start_time": "2022-01-15T18:35:20.895Z"
   },
   {
    "duration": 5,
    "start_time": "2022-01-15T18:51:03.799Z"
   },
   {
    "duration": 404,
    "start_time": "2022-01-15T18:53:02.371Z"
   },
   {
    "duration": 14,
    "start_time": "2022-01-15T18:53:11.790Z"
   },
   {
    "duration": 7,
    "start_time": "2022-01-15T18:53:12.740Z"
   },
   {
    "duration": 10733,
    "start_time": "2022-01-15T18:53:16.050Z"
   },
   {
    "duration": 4,
    "start_time": "2022-01-15T18:53:44.266Z"
   },
   {
    "duration": 71,
    "start_time": "2022-01-15T18:53:45.358Z"
   },
   {
    "duration": 12,
    "start_time": "2022-01-15T18:53:49.836Z"
   },
   {
    "duration": 13,
    "start_time": "2022-01-15T18:53:52.734Z"
   },
   {
    "duration": 16,
    "start_time": "2022-01-15T18:53:57.487Z"
   },
   {
    "duration": 17,
    "start_time": "2022-01-15T18:54:00.930Z"
   },
   {
    "duration": 16,
    "start_time": "2022-01-15T18:54:05.985Z"
   },
   {
    "duration": 24,
    "start_time": "2022-01-15T18:54:08.588Z"
   },
   {
    "duration": 28,
    "start_time": "2022-01-15T18:54:13.108Z"
   },
   {
    "duration": 10,
    "start_time": "2022-01-15T18:54:17.735Z"
   },
   {
    "duration": 9,
    "start_time": "2022-01-15T18:54:20.304Z"
   },
   {
    "duration": 13,
    "start_time": "2022-01-15T18:54:24.162Z"
   },
   {
    "duration": 8,
    "start_time": "2022-01-15T18:54:26.933Z"
   },
   {
    "duration": 11,
    "start_time": "2022-01-15T18:54:29.250Z"
   },
   {
    "duration": 7,
    "start_time": "2022-01-15T18:54:31.398Z"
   },
   {
    "duration": 9,
    "start_time": "2022-01-15T18:54:33.755Z"
   },
   {
    "duration": 14,
    "start_time": "2022-01-15T18:54:35.694Z"
   },
   {
    "duration": 11,
    "start_time": "2022-01-15T18:54:38.592Z"
   },
   {
    "duration": 7,
    "start_time": "2022-01-15T18:54:42.906Z"
   },
   {
    "duration": 599,
    "start_time": "2022-01-15T18:54:46.408Z"
   },
   {
    "duration": 425,
    "start_time": "2022-01-15T18:54:53.936Z"
   },
   {
    "duration": 785,
    "start_time": "2022-01-15T18:57:26.010Z"
   },
   {
    "duration": 505,
    "start_time": "2022-01-15T19:08:40.175Z"
   },
   {
    "duration": 454,
    "start_time": "2022-01-15T19:08:46.418Z"
   },
   {
    "duration": 17,
    "start_time": "2022-01-15T19:08:50.766Z"
   },
   {
    "duration": 14,
    "start_time": "2022-01-15T19:08:54.546Z"
   },
   {
    "duration": 11,
    "start_time": "2022-01-15T19:09:34.895Z"
   },
   {
    "duration": 9,
    "start_time": "2022-01-15T19:13:25.686Z"
   },
   {
    "duration": 11,
    "start_time": "2022-01-15T19:15:24.536Z"
   },
   {
    "duration": 19,
    "start_time": "2022-01-15T19:20:56.009Z"
   },
   {
    "duration": 1538,
    "start_time": "2022-01-15T19:50:20.736Z"
   },
   {
    "duration": 73,
    "start_time": "2022-01-15T19:50:22.276Z"
   },
   {
    "duration": 20,
    "start_time": "2022-01-15T19:50:22.353Z"
   },
   {
    "duration": 14,
    "start_time": "2022-01-15T19:50:22.377Z"
   },
   {
    "duration": 17,
    "start_time": "2022-01-15T19:50:22.394Z"
   },
   {
    "duration": 16,
    "start_time": "2022-01-15T19:50:22.414Z"
   },
   {
    "duration": 1432,
    "start_time": "2022-01-15T19:50:22.433Z"
   },
   {
    "duration": 31,
    "start_time": "2022-01-15T19:50:23.871Z"
   },
   {
    "duration": 14,
    "start_time": "2022-01-15T19:50:23.905Z"
   },
   {
    "duration": 17,
    "start_time": "2022-01-15T19:50:23.922Z"
   },
   {
    "duration": 59,
    "start_time": "2022-01-15T19:50:23.943Z"
   },
   {
    "duration": 10,
    "start_time": "2022-01-15T19:50:24.005Z"
   },
   {
    "duration": 12,
    "start_time": "2022-01-15T19:50:24.018Z"
   },
   {
    "duration": 8,
    "start_time": "2022-01-15T19:50:24.033Z"
   },
   {
    "duration": 10,
    "start_time": "2022-01-15T19:50:24.043Z"
   },
   {
    "duration": 56,
    "start_time": "2022-01-15T19:50:24.057Z"
   },
   {
    "duration": 35,
    "start_time": "2022-01-15T19:50:24.116Z"
   },
   {
    "duration": 8,
    "start_time": "2022-01-15T19:50:24.155Z"
   },
   {
    "duration": 674,
    "start_time": "2022-01-15T19:50:24.166Z"
   },
   {
    "duration": 563,
    "start_time": "2022-01-15T19:50:24.843Z"
   },
   {
    "duration": 575,
    "start_time": "2022-01-15T19:50:25.408Z"
   },
   {
    "duration": 802,
    "start_time": "2022-01-15T19:50:25.986Z"
   },
   {
    "duration": 414,
    "start_time": "2022-01-15T19:50:26.794Z"
   },
   {
    "duration": 478,
    "start_time": "2022-01-15T19:50:27.211Z"
   },
   {
    "duration": 476,
    "start_time": "2022-01-15T19:50:27.691Z"
   },
   {
    "duration": 5,
    "start_time": "2022-01-15T19:50:28.170Z"
   },
   {
    "duration": 596,
    "start_time": "2022-01-15T19:50:28.178Z"
   },
   {
    "duration": 515,
    "start_time": "2022-01-15T19:50:28.776Z"
   },
   {
    "duration": 10,
    "start_time": "2022-01-15T19:50:29.294Z"
   },
   {
    "duration": 465,
    "start_time": "2022-01-15T19:50:29.306Z"
   },
   {
    "duration": 33,
    "start_time": "2022-01-15T19:50:29.773Z"
   },
   {
    "duration": 9,
    "start_time": "2022-01-15T19:50:29.809Z"
   },
   {
    "duration": 10,
    "start_time": "2022-01-15T19:50:29.820Z"
   },
   {
    "duration": 14,
    "start_time": "2022-01-15T19:50:29.833Z"
   },
   {
    "duration": 13,
    "start_time": "2022-01-15T19:50:29.850Z"
   },
   {
    "duration": 21,
    "start_time": "2022-01-15T19:50:29.902Z"
   },
   {
    "duration": 16,
    "start_time": "2022-01-15T19:50:29.926Z"
   },
   {
    "duration": 13,
    "start_time": "2022-01-15T19:51:50.169Z"
   },
   {
    "duration": 18,
    "start_time": "2022-01-15T19:54:01.269Z"
   },
   {
    "duration": 9859,
    "start_time": "2022-01-15T19:56:24.686Z"
   },
   {
    "duration": 20,
    "start_time": "2022-01-15T19:57:11.427Z"
   },
   {
    "duration": 10,
    "start_time": "2022-01-15T20:03:21.859Z"
   },
   {
    "duration": 14,
    "start_time": "2022-01-15T20:04:21.254Z"
   },
   {
    "duration": 15,
    "start_time": "2022-01-15T20:04:37.057Z"
   },
   {
    "duration": 17,
    "start_time": "2022-01-15T20:05:07.543Z"
   },
   {
    "duration": 30,
    "start_time": "2022-01-15T20:07:28.804Z"
   },
   {
    "duration": 1542,
    "start_time": "2022-01-15T20:40:38.280Z"
   },
   {
    "duration": 95,
    "start_time": "2022-01-15T20:40:39.826Z"
   },
   {
    "duration": 18,
    "start_time": "2022-01-15T20:40:39.925Z"
   },
   {
    "duration": 13,
    "start_time": "2022-01-15T20:40:39.947Z"
   },
   {
    "duration": 17,
    "start_time": "2022-01-15T20:40:39.963Z"
   },
   {
    "duration": 30,
    "start_time": "2022-01-15T20:40:39.983Z"
   },
   {
    "duration": 1066,
    "start_time": "2022-01-15T20:40:40.017Z"
   },
   {
    "duration": 36,
    "start_time": "2022-01-15T20:40:41.088Z"
   },
   {
    "duration": 12,
    "start_time": "2022-01-15T20:40:41.128Z"
   },
   {
    "duration": 12,
    "start_time": "2022-01-15T20:40:41.143Z"
   },
   {
    "duration": 48,
    "start_time": "2022-01-15T20:40:41.157Z"
   },
   {
    "duration": 11,
    "start_time": "2022-01-15T20:40:41.208Z"
   },
   {
    "duration": 15,
    "start_time": "2022-01-15T20:40:41.222Z"
   },
   {
    "duration": 9,
    "start_time": "2022-01-15T20:40:41.240Z"
   },
   {
    "duration": 58,
    "start_time": "2022-01-15T20:40:41.251Z"
   },
   {
    "duration": 16,
    "start_time": "2022-01-15T20:40:41.314Z"
   },
   {
    "duration": 14,
    "start_time": "2022-01-15T20:40:41.332Z"
   },
   {
    "duration": 8,
    "start_time": "2022-01-15T20:40:41.349Z"
   },
   {
    "duration": 688,
    "start_time": "2022-01-15T20:40:41.359Z"
   },
   {
    "duration": 593,
    "start_time": "2022-01-15T20:40:42.049Z"
   },
   {
    "duration": 450,
    "start_time": "2022-01-15T20:40:42.644Z"
   },
   {
    "duration": 600,
    "start_time": "2022-01-15T20:40:43.097Z"
   },
   {
    "duration": 577,
    "start_time": "2022-01-15T20:40:43.709Z"
   },
   {
    "duration": 547,
    "start_time": "2022-01-15T20:40:44.290Z"
   },
   {
    "duration": 516,
    "start_time": "2022-01-15T20:40:44.840Z"
   },
   {
    "duration": 7,
    "start_time": "2022-01-15T20:40:45.358Z"
   },
   {
    "duration": 633,
    "start_time": "2022-01-15T20:40:45.367Z"
   },
   {
    "duration": 551,
    "start_time": "2022-01-15T20:40:46.003Z"
   },
   {
    "duration": 6,
    "start_time": "2022-01-15T20:40:46.556Z"
   },
   {
    "duration": 495,
    "start_time": "2022-01-15T20:40:46.565Z"
   },
   {
    "duration": 17,
    "start_time": "2022-01-15T20:40:47.063Z"
   },
   {
    "duration": 20,
    "start_time": "2022-01-15T20:40:47.083Z"
   },
   {
    "duration": 26,
    "start_time": "2022-01-15T20:40:47.107Z"
   },
   {
    "duration": 20,
    "start_time": "2022-01-15T20:40:47.138Z"
   },
   {
    "duration": 48,
    "start_time": "2022-01-15T20:40:47.160Z"
   },
   {
    "duration": 28,
    "start_time": "2022-01-15T20:40:47.212Z"
   },
   {
    "duration": 57,
    "start_time": "2022-01-15T20:40:47.243Z"
   }
  ],
  "kernelspec": {
   "display_name": "Python 3 (ipykernel)",
   "language": "python",
   "name": "python3"
  },
  "language_info": {
   "codemirror_mode": {
    "name": "ipython",
    "version": 3
   },
   "file_extension": ".py",
   "mimetype": "text/x-python",
   "name": "python",
   "nbconvert_exporter": "python",
   "pygments_lexer": "ipython3",
   "version": "3.9.7"
  },
  "toc": {
   "base_numbering": "1",
   "nav_menu": {},
   "number_sections": true,
   "sideBar": true,
   "skip_h1_title": true,
   "title_cell": "Table of Contents",
   "title_sidebar": "Contents",
   "toc_cell": false,
   "toc_position": {},
   "toc_section_display": true,
   "toc_window_display": false
  }
 },
 "nbformat": 4,
 "nbformat_minor": 2
}
