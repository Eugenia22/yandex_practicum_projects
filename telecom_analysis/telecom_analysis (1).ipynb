{
 "cells": [
  {
   "cell_type": "markdown",
   "metadata": {},
   "source": [
    "<h1>Содержание<span class=\"tocSkip\"></span></h1>\n",
    "<div class=\"toc\"><ul class=\"toc-item\">\n",
    "    <li><span><a href=\"#Изучение-данных-из-файла\" data-toc-modified-id=\"Изучение-данных-из-файла-1\"><span class=\"toc-item-num\">1&nbsp;&nbsp;</span>Изучение данных из файла</a></span><ul class=\"toc-item\"><li><span><a href=\"#Вывод\" data-toc-modified-id=\"Вывод-1.1\"><span class=\"toc-item-num\">1.1&nbsp;&nbsp;</span>Вывод</a></span></li></ul></li>\n",
    "    <li><span><a href=\"#Подготовка-данных\" data-toc-modified-id=\"Подготовка-данных-2\"><span class=\"toc-item-num\">2&nbsp;&nbsp;</span>Подготовка данных</a></span></li><li><span><a href=\"#Проведение-расчетов\" data-toc-modified-id=\"Проведение-расчетов-3\"><span class=\"toc-item-num\">3&nbsp;&nbsp;</span>Проведение расчетов</a></span></li><li><span><a href=\"#Анализ-данных\" data-toc-modified-id=\"Анализ-данных-4\"><span class=\"toc-item-num\">4&nbsp;&nbsp;</span>Анализ данных</a></span></li>\n",
    "    <li><span><a href=\"#Проверка-гипотез\" data-toc-modified-id=\"Проверка-гипотез-5\"><span class=\"toc-item-num\">5&nbsp;&nbsp;</span>Проверка гипотез</a></span><ul class=\"toc-item\"><li><span><a href=\"#Первая-гипотеза\" data-toc-modified-id=\"Первая-гипотеза-5.1\"><span class=\"toc-item-num\">5.1&nbsp;&nbsp;</span>Первая гипотеза</a></span></li></ul><ul class=\"toc-item\"><li><span><a href=\"#Вторая-гипотеза\" data-toc-modified-id=\"Вторая-гипотеза-5.2\"><span class=\"toc-item-num\">5.2&nbsp;&nbsp;</span>Вторая гипотеза</a></span></li></ul></li><li><span><a href=\"#Общий-вывод\" data-toc-modified-id=\"Общий-вывод-6\"><span class=\"toc-item-num\">6&nbsp;&nbsp;</span>Общий вывод</a></span></li></ul></div>"
   ]
  },
  {
   "cell_type": "markdown",
   "metadata": {},
   "source": [
    "В данной работе мы будем проводить анализ тарифов оператора сотовой связи Мегалайн. У нас есть данные 500 абонентов компании, использующих интересующие нас тарифы - Ультра и Смарт.  \n",
    "Нам будет необходимо проверить, отличается ли средняя выручка от пользователей разных тарифов, а так же есть ли отличия между средней выручкой от абонентов в Москве и от абонентов из других городов.\n",
    "Данные представлены в пяти таблицах. Три таблицы содержат информацию по совершенным звонкам, отправленным сообщениям, объему использованного интернета. В одной таблице содержатся данные по стоимости и наполненности тафрифов. И пятая таблица содержит данные по абонентам - их персональные данные, город проживания, время подключения тарифа.  \n",
    "Сначала мы подробно ознакомимся с каждой таблицей. Приведем данные в порядок. Соберем в общую таблицу. Проведем необходимые для анализы расчеты и добавим их в таблицу. После этого проведем анализ полученных данных и проверим наши гипотезы."
   ]
  },
  {
   "cell_type": "code",
   "execution_count": 1,
   "metadata": {},
   "outputs": [],
   "source": [
    "from scipy import stats as st\n",
    "import numpy as np\n",
    "import pandas as pd\n",
    "import matplotlib.pyplot as plt\n",
    "from scipy.stats import mannwhitneyu as mwu"
   ]
  },
  {
   "cell_type": "markdown",
   "metadata": {},
   "source": [
    "## Изучение данных из файла"
   ]
  },
  {
   "cell_type": "code",
   "execution_count": 2,
   "metadata": {},
   "outputs": [],
   "source": [
    "calls = pd.read_csv('calls.csv')\n",
    "internet = pd.read_csv('internet.csv')\n",
    "messages = pd.read_csv('messages.csv')\n",
    "tariffs = pd.read_csv('tariffs.csv')\n",
    "users = pd.read_csv('users.csv')"
   ]
  },
  {
   "cell_type": "code",
   "execution_count": 3,
   "metadata": {},
   "outputs": [
    {
     "name": "stdout",
     "output_type": "stream",
     "text": [
      "<class 'pandas.core.frame.DataFrame'>\n",
      "RangeIndex: 202607 entries, 0 to 202606\n",
      "Data columns (total 4 columns):\n",
      " #   Column     Non-Null Count   Dtype  \n",
      "---  ------     --------------   -----  \n",
      " 0   id         202607 non-null  object \n",
      " 1   call_date  202607 non-null  object \n",
      " 2   duration   202607 non-null  float64\n",
      " 3   user_id    202607 non-null  int64  \n",
      "dtypes: float64(1), int64(1), object(2)\n",
      "memory usage: 6.2+ MB\n"
     ]
    }
   ],
   "source": [
    "calls.info()"
   ]
  },
  {
   "cell_type": "code",
   "execution_count": 4,
   "metadata": {},
   "outputs": [
    {
     "data": {
      "text/html": [
       "<div>\n",
       "<style scoped>\n",
       "    .dataframe tbody tr th:only-of-type {\n",
       "        vertical-align: middle;\n",
       "    }\n",
       "\n",
       "    .dataframe tbody tr th {\n",
       "        vertical-align: top;\n",
       "    }\n",
       "\n",
       "    .dataframe thead th {\n",
       "        text-align: right;\n",
       "    }\n",
       "</style>\n",
       "<table border=\"1\" class=\"dataframe\">\n",
       "  <thead>\n",
       "    <tr style=\"text-align: right;\">\n",
       "      <th></th>\n",
       "      <th>id</th>\n",
       "      <th>call_date</th>\n",
       "      <th>duration</th>\n",
       "      <th>user_id</th>\n",
       "    </tr>\n",
       "  </thead>\n",
       "  <tbody>\n",
       "    <tr>\n",
       "      <th>0</th>\n",
       "      <td>1000_0</td>\n",
       "      <td>2018-07-25</td>\n",
       "      <td>0.00</td>\n",
       "      <td>1000</td>\n",
       "    </tr>\n",
       "    <tr>\n",
       "      <th>1</th>\n",
       "      <td>1000_1</td>\n",
       "      <td>2018-08-17</td>\n",
       "      <td>0.00</td>\n",
       "      <td>1000</td>\n",
       "    </tr>\n",
       "    <tr>\n",
       "      <th>2</th>\n",
       "      <td>1000_2</td>\n",
       "      <td>2018-06-11</td>\n",
       "      <td>2.85</td>\n",
       "      <td>1000</td>\n",
       "    </tr>\n",
       "    <tr>\n",
       "      <th>3</th>\n",
       "      <td>1000_3</td>\n",
       "      <td>2018-09-21</td>\n",
       "      <td>13.80</td>\n",
       "      <td>1000</td>\n",
       "    </tr>\n",
       "    <tr>\n",
       "      <th>4</th>\n",
       "      <td>1000_4</td>\n",
       "      <td>2018-12-15</td>\n",
       "      <td>5.18</td>\n",
       "      <td>1000</td>\n",
       "    </tr>\n",
       "    <tr>\n",
       "      <th>5</th>\n",
       "      <td>1000_5</td>\n",
       "      <td>2018-11-02</td>\n",
       "      <td>0.00</td>\n",
       "      <td>1000</td>\n",
       "    </tr>\n",
       "    <tr>\n",
       "      <th>6</th>\n",
       "      <td>1000_6</td>\n",
       "      <td>2018-10-18</td>\n",
       "      <td>0.00</td>\n",
       "      <td>1000</td>\n",
       "    </tr>\n",
       "    <tr>\n",
       "      <th>7</th>\n",
       "      <td>1000_7</td>\n",
       "      <td>2018-08-22</td>\n",
       "      <td>18.31</td>\n",
       "      <td>1000</td>\n",
       "    </tr>\n",
       "    <tr>\n",
       "      <th>8</th>\n",
       "      <td>1000_8</td>\n",
       "      <td>2018-09-15</td>\n",
       "      <td>18.44</td>\n",
       "      <td>1000</td>\n",
       "    </tr>\n",
       "    <tr>\n",
       "      <th>9</th>\n",
       "      <td>1000_9</td>\n",
       "      <td>2018-08-15</td>\n",
       "      <td>0.00</td>\n",
       "      <td>1000</td>\n",
       "    </tr>\n",
       "  </tbody>\n",
       "</table>\n",
       "</div>"
      ],
      "text/plain": [
       "       id   call_date  duration  user_id\n",
       "0  1000_0  2018-07-25      0.00     1000\n",
       "1  1000_1  2018-08-17      0.00     1000\n",
       "2  1000_2  2018-06-11      2.85     1000\n",
       "3  1000_3  2018-09-21     13.80     1000\n",
       "4  1000_4  2018-12-15      5.18     1000\n",
       "5  1000_5  2018-11-02      0.00     1000\n",
       "6  1000_6  2018-10-18      0.00     1000\n",
       "7  1000_7  2018-08-22     18.31     1000\n",
       "8  1000_8  2018-09-15     18.44     1000\n",
       "9  1000_9  2018-08-15      0.00     1000"
      ]
     },
     "execution_count": 4,
     "metadata": {},
     "output_type": "execute_result"
    }
   ],
   "source": [
    "calls.head(10)"
   ]
  },
  {
   "cell_type": "code",
   "execution_count": 5,
   "metadata": {},
   "outputs": [
    {
     "name": "stdout",
     "output_type": "stream",
     "text": [
      "<class 'pandas.core.frame.DataFrame'>\n",
      "RangeIndex: 149396 entries, 0 to 149395\n",
      "Data columns (total 5 columns):\n",
      " #   Column        Non-Null Count   Dtype  \n",
      "---  ------        --------------   -----  \n",
      " 0   Unnamed: 0    149396 non-null  int64  \n",
      " 1   id            149396 non-null  object \n",
      " 2   mb_used       149396 non-null  float64\n",
      " 3   session_date  149396 non-null  object \n",
      " 4   user_id       149396 non-null  int64  \n",
      "dtypes: float64(1), int64(2), object(2)\n",
      "memory usage: 5.7+ MB\n"
     ]
    },
    {
     "data": {
      "text/html": [
       "<div>\n",
       "<style scoped>\n",
       "    .dataframe tbody tr th:only-of-type {\n",
       "        vertical-align: middle;\n",
       "    }\n",
       "\n",
       "    .dataframe tbody tr th {\n",
       "        vertical-align: top;\n",
       "    }\n",
       "\n",
       "    .dataframe thead th {\n",
       "        text-align: right;\n",
       "    }\n",
       "</style>\n",
       "<table border=\"1\" class=\"dataframe\">\n",
       "  <thead>\n",
       "    <tr style=\"text-align: right;\">\n",
       "      <th></th>\n",
       "      <th>Unnamed: 0</th>\n",
       "      <th>id</th>\n",
       "      <th>mb_used</th>\n",
       "      <th>session_date</th>\n",
       "      <th>user_id</th>\n",
       "    </tr>\n",
       "  </thead>\n",
       "  <tbody>\n",
       "    <tr>\n",
       "      <th>0</th>\n",
       "      <td>0</td>\n",
       "      <td>1000_0</td>\n",
       "      <td>112.95</td>\n",
       "      <td>2018-11-25</td>\n",
       "      <td>1000</td>\n",
       "    </tr>\n",
       "    <tr>\n",
       "      <th>1</th>\n",
       "      <td>1</td>\n",
       "      <td>1000_1</td>\n",
       "      <td>1052.81</td>\n",
       "      <td>2018-09-07</td>\n",
       "      <td>1000</td>\n",
       "    </tr>\n",
       "    <tr>\n",
       "      <th>2</th>\n",
       "      <td>2</td>\n",
       "      <td>1000_2</td>\n",
       "      <td>1197.26</td>\n",
       "      <td>2018-06-25</td>\n",
       "      <td>1000</td>\n",
       "    </tr>\n",
       "    <tr>\n",
       "      <th>3</th>\n",
       "      <td>3</td>\n",
       "      <td>1000_3</td>\n",
       "      <td>550.27</td>\n",
       "      <td>2018-08-22</td>\n",
       "      <td>1000</td>\n",
       "    </tr>\n",
       "    <tr>\n",
       "      <th>4</th>\n",
       "      <td>4</td>\n",
       "      <td>1000_4</td>\n",
       "      <td>302.56</td>\n",
       "      <td>2018-09-24</td>\n",
       "      <td>1000</td>\n",
       "    </tr>\n",
       "  </tbody>\n",
       "</table>\n",
       "</div>"
      ],
      "text/plain": [
       "   Unnamed: 0      id  mb_used session_date  user_id\n",
       "0           0  1000_0   112.95   2018-11-25     1000\n",
       "1           1  1000_1  1052.81   2018-09-07     1000\n",
       "2           2  1000_2  1197.26   2018-06-25     1000\n",
       "3           3  1000_3   550.27   2018-08-22     1000\n",
       "4           4  1000_4   302.56   2018-09-24     1000"
      ]
     },
     "execution_count": 5,
     "metadata": {},
     "output_type": "execute_result"
    }
   ],
   "source": [
    "internet.info()\n",
    "internet.head()"
   ]
  },
  {
   "cell_type": "code",
   "execution_count": 6,
   "metadata": {},
   "outputs": [
    {
     "name": "stdout",
     "output_type": "stream",
     "text": [
      "<class 'pandas.core.frame.DataFrame'>\n",
      "RangeIndex: 123036 entries, 0 to 123035\n",
      "Data columns (total 3 columns):\n",
      " #   Column        Non-Null Count   Dtype \n",
      "---  ------        --------------   ----- \n",
      " 0   id            123036 non-null  object\n",
      " 1   message_date  123036 non-null  object\n",
      " 2   user_id       123036 non-null  int64 \n",
      "dtypes: int64(1), object(2)\n",
      "memory usage: 2.8+ MB\n"
     ]
    },
    {
     "data": {
      "text/html": [
       "<div>\n",
       "<style scoped>\n",
       "    .dataframe tbody tr th:only-of-type {\n",
       "        vertical-align: middle;\n",
       "    }\n",
       "\n",
       "    .dataframe tbody tr th {\n",
       "        vertical-align: top;\n",
       "    }\n",
       "\n",
       "    .dataframe thead th {\n",
       "        text-align: right;\n",
       "    }\n",
       "</style>\n",
       "<table border=\"1\" class=\"dataframe\">\n",
       "  <thead>\n",
       "    <tr style=\"text-align: right;\">\n",
       "      <th></th>\n",
       "      <th>id</th>\n",
       "      <th>message_date</th>\n",
       "      <th>user_id</th>\n",
       "    </tr>\n",
       "  </thead>\n",
       "  <tbody>\n",
       "    <tr>\n",
       "      <th>0</th>\n",
       "      <td>1000_0</td>\n",
       "      <td>2018-06-27</td>\n",
       "      <td>1000</td>\n",
       "    </tr>\n",
       "    <tr>\n",
       "      <th>1</th>\n",
       "      <td>1000_1</td>\n",
       "      <td>2018-10-08</td>\n",
       "      <td>1000</td>\n",
       "    </tr>\n",
       "    <tr>\n",
       "      <th>2</th>\n",
       "      <td>1000_2</td>\n",
       "      <td>2018-08-04</td>\n",
       "      <td>1000</td>\n",
       "    </tr>\n",
       "    <tr>\n",
       "      <th>3</th>\n",
       "      <td>1000_3</td>\n",
       "      <td>2018-06-16</td>\n",
       "      <td>1000</td>\n",
       "    </tr>\n",
       "    <tr>\n",
       "      <th>4</th>\n",
       "      <td>1000_4</td>\n",
       "      <td>2018-12-05</td>\n",
       "      <td>1000</td>\n",
       "    </tr>\n",
       "  </tbody>\n",
       "</table>\n",
       "</div>"
      ],
      "text/plain": [
       "       id message_date  user_id\n",
       "0  1000_0   2018-06-27     1000\n",
       "1  1000_1   2018-10-08     1000\n",
       "2  1000_2   2018-08-04     1000\n",
       "3  1000_3   2018-06-16     1000\n",
       "4  1000_4   2018-12-05     1000"
      ]
     },
     "execution_count": 6,
     "metadata": {},
     "output_type": "execute_result"
    }
   ],
   "source": [
    "messages.info()\n",
    "messages.head()"
   ]
  },
  {
   "cell_type": "code",
   "execution_count": 7,
   "metadata": {},
   "outputs": [
    {
     "data": {
      "text/html": [
       "<div>\n",
       "<style scoped>\n",
       "    .dataframe tbody tr th:only-of-type {\n",
       "        vertical-align: middle;\n",
       "    }\n",
       "\n",
       "    .dataframe tbody tr th {\n",
       "        vertical-align: top;\n",
       "    }\n",
       "\n",
       "    .dataframe thead th {\n",
       "        text-align: right;\n",
       "    }\n",
       "</style>\n",
       "<table border=\"1\" class=\"dataframe\">\n",
       "  <thead>\n",
       "    <tr style=\"text-align: right;\">\n",
       "      <th></th>\n",
       "      <th>messages_included</th>\n",
       "      <th>mb_per_month_included</th>\n",
       "      <th>minutes_included</th>\n",
       "      <th>rub_monthly_fee</th>\n",
       "      <th>rub_per_gb</th>\n",
       "      <th>rub_per_message</th>\n",
       "      <th>rub_per_minute</th>\n",
       "      <th>tariff_name</th>\n",
       "    </tr>\n",
       "  </thead>\n",
       "  <tbody>\n",
       "    <tr>\n",
       "      <th>0</th>\n",
       "      <td>50</td>\n",
       "      <td>15360</td>\n",
       "      <td>500</td>\n",
       "      <td>550</td>\n",
       "      <td>200</td>\n",
       "      <td>3</td>\n",
       "      <td>3</td>\n",
       "      <td>smart</td>\n",
       "    </tr>\n",
       "    <tr>\n",
       "      <th>1</th>\n",
       "      <td>1000</td>\n",
       "      <td>30720</td>\n",
       "      <td>3000</td>\n",
       "      <td>1950</td>\n",
       "      <td>150</td>\n",
       "      <td>1</td>\n",
       "      <td>1</td>\n",
       "      <td>ultra</td>\n",
       "    </tr>\n",
       "  </tbody>\n",
       "</table>\n",
       "</div>"
      ],
      "text/plain": [
       "   messages_included  mb_per_month_included  minutes_included  \\\n",
       "0                 50                  15360               500   \n",
       "1               1000                  30720              3000   \n",
       "\n",
       "   rub_monthly_fee  rub_per_gb  rub_per_message  rub_per_minute tariff_name  \n",
       "0              550         200                3               3       smart  \n",
       "1             1950         150                1               1       ultra  "
      ]
     },
     "execution_count": 7,
     "metadata": {},
     "output_type": "execute_result"
    }
   ],
   "source": [
    "tariffs.head()"
   ]
  },
  {
   "cell_type": "code",
   "execution_count": 8,
   "metadata": {},
   "outputs": [
    {
     "name": "stdout",
     "output_type": "stream",
     "text": [
      "<class 'pandas.core.frame.DataFrame'>\n",
      "RangeIndex: 500 entries, 0 to 499\n",
      "Data columns (total 8 columns):\n",
      " #   Column      Non-Null Count  Dtype \n",
      "---  ------      --------------  ----- \n",
      " 0   user_id     500 non-null    int64 \n",
      " 1   age         500 non-null    int64 \n",
      " 2   churn_date  38 non-null     object\n",
      " 3   city        500 non-null    object\n",
      " 4   first_name  500 non-null    object\n",
      " 5   last_name   500 non-null    object\n",
      " 6   reg_date    500 non-null    object\n",
      " 7   tariff      500 non-null    object\n",
      "dtypes: int64(2), object(6)\n",
      "memory usage: 31.4+ KB\n"
     ]
    },
    {
     "data": {
      "text/html": [
       "<div>\n",
       "<style scoped>\n",
       "    .dataframe tbody tr th:only-of-type {\n",
       "        vertical-align: middle;\n",
       "    }\n",
       "\n",
       "    .dataframe tbody tr th {\n",
       "        vertical-align: top;\n",
       "    }\n",
       "\n",
       "    .dataframe thead th {\n",
       "        text-align: right;\n",
       "    }\n",
       "</style>\n",
       "<table border=\"1\" class=\"dataframe\">\n",
       "  <thead>\n",
       "    <tr style=\"text-align: right;\">\n",
       "      <th></th>\n",
       "      <th>user_id</th>\n",
       "      <th>age</th>\n",
       "      <th>churn_date</th>\n",
       "      <th>city</th>\n",
       "      <th>first_name</th>\n",
       "      <th>last_name</th>\n",
       "      <th>reg_date</th>\n",
       "      <th>tariff</th>\n",
       "    </tr>\n",
       "  </thead>\n",
       "  <tbody>\n",
       "    <tr>\n",
       "      <th>0</th>\n",
       "      <td>1000</td>\n",
       "      <td>52</td>\n",
       "      <td>NaN</td>\n",
       "      <td>Краснодар</td>\n",
       "      <td>Рафаил</td>\n",
       "      <td>Верещагин</td>\n",
       "      <td>2018-05-25</td>\n",
       "      <td>ultra</td>\n",
       "    </tr>\n",
       "    <tr>\n",
       "      <th>1</th>\n",
       "      <td>1001</td>\n",
       "      <td>41</td>\n",
       "      <td>NaN</td>\n",
       "      <td>Москва</td>\n",
       "      <td>Иван</td>\n",
       "      <td>Ежов</td>\n",
       "      <td>2018-11-01</td>\n",
       "      <td>smart</td>\n",
       "    </tr>\n",
       "    <tr>\n",
       "      <th>2</th>\n",
       "      <td>1002</td>\n",
       "      <td>59</td>\n",
       "      <td>NaN</td>\n",
       "      <td>Стерлитамак</td>\n",
       "      <td>Евгений</td>\n",
       "      <td>Абрамович</td>\n",
       "      <td>2018-06-17</td>\n",
       "      <td>smart</td>\n",
       "    </tr>\n",
       "    <tr>\n",
       "      <th>3</th>\n",
       "      <td>1003</td>\n",
       "      <td>23</td>\n",
       "      <td>NaN</td>\n",
       "      <td>Москва</td>\n",
       "      <td>Белла</td>\n",
       "      <td>Белякова</td>\n",
       "      <td>2018-08-17</td>\n",
       "      <td>ultra</td>\n",
       "    </tr>\n",
       "    <tr>\n",
       "      <th>4</th>\n",
       "      <td>1004</td>\n",
       "      <td>68</td>\n",
       "      <td>NaN</td>\n",
       "      <td>Новокузнецк</td>\n",
       "      <td>Татьяна</td>\n",
       "      <td>Авдеенко</td>\n",
       "      <td>2018-05-14</td>\n",
       "      <td>ultra</td>\n",
       "    </tr>\n",
       "  </tbody>\n",
       "</table>\n",
       "</div>"
      ],
      "text/plain": [
       "   user_id  age churn_date         city first_name  last_name    reg_date  \\\n",
       "0     1000   52        NaN    Краснодар     Рафаил  Верещагин  2018-05-25   \n",
       "1     1001   41        NaN       Москва       Иван       Ежов  2018-11-01   \n",
       "2     1002   59        NaN  Стерлитамак    Евгений  Абрамович  2018-06-17   \n",
       "3     1003   23        NaN       Москва      Белла   Белякова  2018-08-17   \n",
       "4     1004   68        NaN  Новокузнецк    Татьяна   Авдеенко  2018-05-14   \n",
       "\n",
       "  tariff  \n",
       "0  ultra  \n",
       "1  smart  \n",
       "2  smart  \n",
       "3  ultra  \n",
       "4  ultra  "
      ]
     },
     "execution_count": 8,
     "metadata": {},
     "output_type": "execute_result"
    }
   ],
   "source": [
    "users.info()\n",
    "users.head()"
   ]
  },
  {
   "cell_type": "markdown",
   "metadata": {},
   "source": [
    "### Вывод"
   ]
  },
  {
   "cell_type": "markdown",
   "metadata": {},
   "source": [
    "Загрузили и изучили данные. Четыре таблицы содержат данные по абонентам и объемам используемых услуг связи. В пятой таблице информация по двум тарифам.  \n",
    "Есть небольшое количество пустых значений, которое можно заполнить. Так же можно привести ряд данных к более удобным для нас типам. И необходимо разобраться со странным столбцом в данных об интернет сессиях."
   ]
  },
  {
   "cell_type": "markdown",
   "metadata": {},
   "source": [
    "## Подготовка данных"
   ]
  },
  {
   "cell_type": "code",
   "execution_count": 9,
   "metadata": {},
   "outputs": [],
   "source": [
    "calls['call_date'] = pd.to_datetime(calls['call_date'], format='%Y-%m-%d')\n",
    "internet['session_date'] = pd.to_datetime(internet['session_date'], format='%Y-%m-%d')\n",
    "messages['message_date'] = pd.to_datetime(messages['message_date'], format='%Y-%m-%d')"
   ]
  },
  {
   "cell_type": "markdown",
   "metadata": {},
   "source": [
    "Изменили столбцы с датой в нужный формат."
   ]
  },
  {
   "cell_type": "code",
   "execution_count": 10,
   "metadata": {},
   "outputs": [],
   "source": [
    "users['churn_date'] = users['churn_date'].fillna(2018-12-31) \n",
    "\n",
    "users['churn_date'] = pd.to_datetime(users['churn_date'], format='%Y-%m-%d')\n",
    "users['reg_date'] = pd.to_datetime(users['reg_date'], format='%Y-%m-%d')"
   ]
  },
  {
   "cell_type": "markdown",
   "metadata": {},
   "source": [
    "В описании проекта указано, что если в столбце о дате смены тарифа ничего не указано, значит тариф на момент выгрузки еще действовал. А так как данные у нас за 2018 года, заполнили пустые значения в этом столбце на 31 декабря 2018 года.  \n",
    "И исправили тип данных с датами."
   ]
  },
  {
   "cell_type": "code",
   "execution_count": 10,
   "metadata": {},
   "outputs": [],
   "source": [
    "internet = internet.drop('Unnamed: 0', axis = 1)"
   ]
  },
  {
   "cell_type": "markdown",
   "metadata": {},
   "source": [
    "Удалили лишний столбец в данных по интернет сессиям."
   ]
  },
  {
   "cell_type": "code",
   "execution_count": 11,
   "metadata": {},
   "outputs": [],
   "source": [
    "tariffs = tariffs.rename(columns = {'tariff_name' : 'tariff'})"
   ]
  },
  {
   "cell_type": "markdown",
   "metadata": {},
   "source": [
    "Переименовали столбец в тарифах."
   ]
  },
  {
   "cell_type": "code",
   "execution_count": 12,
   "metadata": {},
   "outputs": [
    {
     "name": "stdout",
     "output_type": "stream",
     "text": [
      "<class 'pandas.core.frame.DataFrame'>\n",
      "RangeIndex: 500 entries, 0 to 499\n",
      "Data columns (total 8 columns):\n",
      " #   Column      Non-Null Count  Dtype \n",
      "---  ------      --------------  ----- \n",
      " 0   user_id     500 non-null    int64 \n",
      " 1   age         500 non-null    int64 \n",
      " 2   churn_date  38 non-null     object\n",
      " 3   city        500 non-null    object\n",
      " 4   first_name  500 non-null    object\n",
      " 5   last_name   500 non-null    object\n",
      " 6   reg_date    500 non-null    object\n",
      " 7   tariff      500 non-null    object\n",
      "dtypes: int64(2), object(6)\n",
      "memory usage: 31.4+ KB\n"
     ]
    }
   ],
   "source": [
    "users.info()"
   ]
  },
  {
   "cell_type": "code",
   "execution_count": 13,
   "metadata": {},
   "outputs": [
    {
     "name": "stdout",
     "output_type": "stream",
     "text": [
      "<class 'pandas.core.frame.DataFrame'>\n",
      "RangeIndex: 202607 entries, 0 to 202606\n",
      "Data columns (total 4 columns):\n",
      " #   Column     Non-Null Count   Dtype         \n",
      "---  ------     --------------   -----         \n",
      " 0   id         202607 non-null  object        \n",
      " 1   call_date  202607 non-null  datetime64[ns]\n",
      " 2   duration   202607 non-null  float64       \n",
      " 3   user_id    202607 non-null  int64         \n",
      "dtypes: datetime64[ns](1), float64(1), int64(1), object(1)\n",
      "memory usage: 6.2+ MB\n"
     ]
    }
   ],
   "source": [
    "calls.info()"
   ]
  },
  {
   "cell_type": "code",
   "execution_count": 14,
   "metadata": {},
   "outputs": [
    {
     "name": "stdout",
     "output_type": "stream",
     "text": [
      "<class 'pandas.core.frame.DataFrame'>\n",
      "RangeIndex: 123036 entries, 0 to 123035\n",
      "Data columns (total 3 columns):\n",
      " #   Column        Non-Null Count   Dtype         \n",
      "---  ------        --------------   -----         \n",
      " 0   id            123036 non-null  object        \n",
      " 1   message_date  123036 non-null  datetime64[ns]\n",
      " 2   user_id       123036 non-null  int64         \n",
      "dtypes: datetime64[ns](1), int64(1), object(1)\n",
      "memory usage: 2.8+ MB\n"
     ]
    }
   ],
   "source": [
    "messages.info()"
   ]
  },
  {
   "cell_type": "code",
   "execution_count": 15,
   "metadata": {},
   "outputs": [
    {
     "name": "stdout",
     "output_type": "stream",
     "text": [
      "<class 'pandas.core.frame.DataFrame'>\n",
      "RangeIndex: 149396 entries, 0 to 149395\n",
      "Data columns (total 4 columns):\n",
      " #   Column        Non-Null Count   Dtype         \n",
      "---  ------        --------------   -----         \n",
      " 0   id            149396 non-null  object        \n",
      " 1   mb_used       149396 non-null  float64       \n",
      " 2   session_date  149396 non-null  datetime64[ns]\n",
      " 3   user_id       149396 non-null  int64         \n",
      "dtypes: datetime64[ns](1), float64(1), int64(1), object(1)\n",
      "memory usage: 4.6+ MB\n"
     ]
    }
   ],
   "source": [
    "internet.info()"
   ]
  },
  {
   "cell_type": "code",
   "execution_count": 16,
   "metadata": {},
   "outputs": [
    {
     "data": {
      "text/html": [
       "<div>\n",
       "<style scoped>\n",
       "    .dataframe tbody tr th:only-of-type {\n",
       "        vertical-align: middle;\n",
       "    }\n",
       "\n",
       "    .dataframe tbody tr th {\n",
       "        vertical-align: top;\n",
       "    }\n",
       "\n",
       "    .dataframe thead th {\n",
       "        text-align: right;\n",
       "    }\n",
       "</style>\n",
       "<table border=\"1\" class=\"dataframe\">\n",
       "  <thead>\n",
       "    <tr style=\"text-align: right;\">\n",
       "      <th></th>\n",
       "      <th>messages_included</th>\n",
       "      <th>mb_per_month_included</th>\n",
       "      <th>minutes_included</th>\n",
       "      <th>rub_monthly_fee</th>\n",
       "      <th>rub_per_gb</th>\n",
       "      <th>rub_per_message</th>\n",
       "      <th>rub_per_minute</th>\n",
       "      <th>tariff</th>\n",
       "    </tr>\n",
       "  </thead>\n",
       "  <tbody>\n",
       "    <tr>\n",
       "      <th>0</th>\n",
       "      <td>50</td>\n",
       "      <td>15360</td>\n",
       "      <td>500</td>\n",
       "      <td>550</td>\n",
       "      <td>200</td>\n",
       "      <td>3</td>\n",
       "      <td>3</td>\n",
       "      <td>smart</td>\n",
       "    </tr>\n",
       "    <tr>\n",
       "      <th>1</th>\n",
       "      <td>1000</td>\n",
       "      <td>30720</td>\n",
       "      <td>3000</td>\n",
       "      <td>1950</td>\n",
       "      <td>150</td>\n",
       "      <td>1</td>\n",
       "      <td>1</td>\n",
       "      <td>ultra</td>\n",
       "    </tr>\n",
       "  </tbody>\n",
       "</table>\n",
       "</div>"
      ],
      "text/plain": [
       "   messages_included  mb_per_month_included  minutes_included  \\\n",
       "0                 50                  15360               500   \n",
       "1               1000                  30720              3000   \n",
       "\n",
       "   rub_monthly_fee  rub_per_gb  rub_per_message  rub_per_minute tariff  \n",
       "0              550         200                3               3  smart  \n",
       "1             1950         150                1               1  ultra  "
      ]
     },
     "execution_count": 16,
     "metadata": {},
     "output_type": "execute_result"
    }
   ],
   "source": [
    "tariffs"
   ]
  },
  {
   "cell_type": "markdown",
   "metadata": {},
   "source": [
    "## Проведение расчетов"
   ]
  },
  {
   "cell_type": "code",
   "execution_count": 17,
   "metadata": {},
   "outputs": [],
   "source": [
    "calls['month'] = calls['call_date'].dt.month\n",
    "\n",
    "messages['month'] = messages['message_date'].dt.month\n",
    "\n",
    "internet['month'] = internet['session_date'].dt.month"
   ]
  },
  {
   "cell_type": "markdown",
   "metadata": {},
   "source": [
    "Для дальнейших расчетов добавили столбцы с месяцами."
   ]
  },
  {
   "cell_type": "code",
   "execution_count": 18,
   "metadata": {},
   "outputs": [],
   "source": [
    "calls['duration'] = np.ceil(calls['duration'])"
   ]
  },
  {
   "cell_type": "code",
   "execution_count": 19,
   "metadata": {},
   "outputs": [
    {
     "data": {
      "text/html": [
       "<div>\n",
       "<style scoped>\n",
       "    .dataframe tbody tr th:only-of-type {\n",
       "        vertical-align: middle;\n",
       "    }\n",
       "\n",
       "    .dataframe tbody tr th {\n",
       "        vertical-align: top;\n",
       "    }\n",
       "\n",
       "    .dataframe thead th {\n",
       "        text-align: right;\n",
       "    }\n",
       "</style>\n",
       "<table border=\"1\" class=\"dataframe\">\n",
       "  <thead>\n",
       "    <tr style=\"text-align: right;\">\n",
       "      <th></th>\n",
       "      <th>user_id</th>\n",
       "      <th>month</th>\n",
       "      <th>calls</th>\n",
       "      <th>calls_duration</th>\n",
       "    </tr>\n",
       "  </thead>\n",
       "  <tbody>\n",
       "    <tr>\n",
       "      <th>0</th>\n",
       "      <td>1000</td>\n",
       "      <td>5</td>\n",
       "      <td>22</td>\n",
       "      <td>159.0</td>\n",
       "    </tr>\n",
       "    <tr>\n",
       "      <th>1</th>\n",
       "      <td>1000</td>\n",
       "      <td>6</td>\n",
       "      <td>43</td>\n",
       "      <td>172.0</td>\n",
       "    </tr>\n",
       "    <tr>\n",
       "      <th>2</th>\n",
       "      <td>1000</td>\n",
       "      <td>7</td>\n",
       "      <td>47</td>\n",
       "      <td>340.0</td>\n",
       "    </tr>\n",
       "    <tr>\n",
       "      <th>3</th>\n",
       "      <td>1000</td>\n",
       "      <td>8</td>\n",
       "      <td>52</td>\n",
       "      <td>408.0</td>\n",
       "    </tr>\n",
       "    <tr>\n",
       "      <th>4</th>\n",
       "      <td>1000</td>\n",
       "      <td>9</td>\n",
       "      <td>58</td>\n",
       "      <td>466.0</td>\n",
       "    </tr>\n",
       "    <tr>\n",
       "      <th>...</th>\n",
       "      <td>...</td>\n",
       "      <td>...</td>\n",
       "      <td>...</td>\n",
       "      <td>...</td>\n",
       "    </tr>\n",
       "    <tr>\n",
       "      <th>3169</th>\n",
       "      <td>1498</td>\n",
       "      <td>10</td>\n",
       "      <td>41</td>\n",
       "      <td>247.0</td>\n",
       "    </tr>\n",
       "    <tr>\n",
       "      <th>3170</th>\n",
       "      <td>1499</td>\n",
       "      <td>9</td>\n",
       "      <td>9</td>\n",
       "      <td>70.0</td>\n",
       "    </tr>\n",
       "    <tr>\n",
       "      <th>3171</th>\n",
       "      <td>1499</td>\n",
       "      <td>10</td>\n",
       "      <td>68</td>\n",
       "      <td>449.0</td>\n",
       "    </tr>\n",
       "    <tr>\n",
       "      <th>3172</th>\n",
       "      <td>1499</td>\n",
       "      <td>11</td>\n",
       "      <td>74</td>\n",
       "      <td>612.0</td>\n",
       "    </tr>\n",
       "    <tr>\n",
       "      <th>3173</th>\n",
       "      <td>1499</td>\n",
       "      <td>12</td>\n",
       "      <td>69</td>\n",
       "      <td>492.0</td>\n",
       "    </tr>\n",
       "  </tbody>\n",
       "</table>\n",
       "<p>3174 rows × 4 columns</p>\n",
       "</div>"
      ],
      "text/plain": [
       "      user_id  month  calls  calls_duration\n",
       "0        1000      5     22           159.0\n",
       "1        1000      6     43           172.0\n",
       "2        1000      7     47           340.0\n",
       "3        1000      8     52           408.0\n",
       "4        1000      9     58           466.0\n",
       "...       ...    ...    ...             ...\n",
       "3169     1498     10     41           247.0\n",
       "3170     1499      9      9            70.0\n",
       "3171     1499     10     68           449.0\n",
       "3172     1499     11     74           612.0\n",
       "3173     1499     12     69           492.0\n",
       "\n",
       "[3174 rows x 4 columns]"
      ]
     },
     "execution_count": 19,
     "metadata": {},
     "output_type": "execute_result"
    }
   ],
   "source": [
    "calls_count = calls.groupby(\n",
    "    ['user_id', 'month']).agg({'id' : 'count', 'duration' : 'sum'}).reset_index()\n",
    "\n",
    "calls_count = calls_count.rename(columns = {'id':'calls', 'duration': 'calls_duration'})\n",
    "\n",
    "calls_count"
   ]
  },
  {
   "cell_type": "code",
   "execution_count": 20,
   "metadata": {},
   "outputs": [
    {
     "name": "stdout",
     "output_type": "stream",
     "text": [
      "<class 'pandas.core.frame.DataFrame'>\n",
      "RangeIndex: 3174 entries, 0 to 3173\n",
      "Data columns (total 4 columns):\n",
      " #   Column          Non-Null Count  Dtype  \n",
      "---  ------          --------------  -----  \n",
      " 0   user_id         3174 non-null   int64  \n",
      " 1   month           3174 non-null   int64  \n",
      " 2   calls           3174 non-null   int64  \n",
      " 3   calls_duration  3174 non-null   float64\n",
      "dtypes: float64(1), int64(3)\n",
      "memory usage: 99.3 KB\n"
     ]
    }
   ],
   "source": [
    "calls_count.info()"
   ]
  },
  {
   "cell_type": "markdown",
   "metadata": {},
   "source": [
    "В таблице с данными по звонкам округлили длительность каждого звонка в большую сторону, согласно условию тарифакации оператора.  \n",
    "Создали новую таблицу, сгруппировав данные по пользователям и месяцам."
   ]
  },
  {
   "cell_type": "code",
   "execution_count": 21,
   "metadata": {},
   "outputs": [
    {
     "data": {
      "text/html": [
       "<div>\n",
       "<style scoped>\n",
       "    .dataframe tbody tr th:only-of-type {\n",
       "        vertical-align: middle;\n",
       "    }\n",
       "\n",
       "    .dataframe tbody tr th {\n",
       "        vertical-align: top;\n",
       "    }\n",
       "\n",
       "    .dataframe thead th {\n",
       "        text-align: right;\n",
       "    }\n",
       "</style>\n",
       "<table border=\"1\" class=\"dataframe\">\n",
       "  <thead>\n",
       "    <tr style=\"text-align: right;\">\n",
       "      <th></th>\n",
       "      <th>user_id</th>\n",
       "      <th>month</th>\n",
       "      <th>messages</th>\n",
       "    </tr>\n",
       "  </thead>\n",
       "  <tbody>\n",
       "    <tr>\n",
       "      <th>0</th>\n",
       "      <td>1000</td>\n",
       "      <td>5</td>\n",
       "      <td>22</td>\n",
       "    </tr>\n",
       "    <tr>\n",
       "      <th>1</th>\n",
       "      <td>1000</td>\n",
       "      <td>6</td>\n",
       "      <td>60</td>\n",
       "    </tr>\n",
       "    <tr>\n",
       "      <th>2</th>\n",
       "      <td>1000</td>\n",
       "      <td>7</td>\n",
       "      <td>75</td>\n",
       "    </tr>\n",
       "    <tr>\n",
       "      <th>3</th>\n",
       "      <td>1000</td>\n",
       "      <td>8</td>\n",
       "      <td>81</td>\n",
       "    </tr>\n",
       "    <tr>\n",
       "      <th>4</th>\n",
       "      <td>1000</td>\n",
       "      <td>9</td>\n",
       "      <td>57</td>\n",
       "    </tr>\n",
       "    <tr>\n",
       "      <th>5</th>\n",
       "      <td>1000</td>\n",
       "      <td>10</td>\n",
       "      <td>73</td>\n",
       "    </tr>\n",
       "    <tr>\n",
       "      <th>6</th>\n",
       "      <td>1000</td>\n",
       "      <td>11</td>\n",
       "      <td>58</td>\n",
       "    </tr>\n",
       "    <tr>\n",
       "      <th>7</th>\n",
       "      <td>1000</td>\n",
       "      <td>12</td>\n",
       "      <td>70</td>\n",
       "    </tr>\n",
       "    <tr>\n",
       "      <th>8</th>\n",
       "      <td>1002</td>\n",
       "      <td>6</td>\n",
       "      <td>4</td>\n",
       "    </tr>\n",
       "    <tr>\n",
       "      <th>9</th>\n",
       "      <td>1002</td>\n",
       "      <td>7</td>\n",
       "      <td>11</td>\n",
       "    </tr>\n",
       "    <tr>\n",
       "      <th>10</th>\n",
       "      <td>1002</td>\n",
       "      <td>8</td>\n",
       "      <td>13</td>\n",
       "    </tr>\n",
       "    <tr>\n",
       "      <th>11</th>\n",
       "      <td>1002</td>\n",
       "      <td>9</td>\n",
       "      <td>4</td>\n",
       "    </tr>\n",
       "    <tr>\n",
       "      <th>12</th>\n",
       "      <td>1002</td>\n",
       "      <td>10</td>\n",
       "      <td>10</td>\n",
       "    </tr>\n",
       "    <tr>\n",
       "      <th>13</th>\n",
       "      <td>1002</td>\n",
       "      <td>11</td>\n",
       "      <td>16</td>\n",
       "    </tr>\n",
       "    <tr>\n",
       "      <th>14</th>\n",
       "      <td>1002</td>\n",
       "      <td>12</td>\n",
       "      <td>12</td>\n",
       "    </tr>\n",
       "  </tbody>\n",
       "</table>\n",
       "</div>"
      ],
      "text/plain": [
       "    user_id  month  messages\n",
       "0      1000      5        22\n",
       "1      1000      6        60\n",
       "2      1000      7        75\n",
       "3      1000      8        81\n",
       "4      1000      9        57\n",
       "5      1000     10        73\n",
       "6      1000     11        58\n",
       "7      1000     12        70\n",
       "8      1002      6         4\n",
       "9      1002      7        11\n",
       "10     1002      8        13\n",
       "11     1002      9         4\n",
       "12     1002     10        10\n",
       "13     1002     11        16\n",
       "14     1002     12        12"
      ]
     },
     "execution_count": 21,
     "metadata": {},
     "output_type": "execute_result"
    }
   ],
   "source": [
    "messages_count = messages.groupby(\n",
    "    ['user_id', 'month'])['id'].count().reset_index()\n",
    "\n",
    "messages_count = messages_count.rename(columns = {'id' : 'messages'})\n",
    "\n",
    "messages_count.head(15)"
   ]
  },
  {
   "cell_type": "code",
   "execution_count": 22,
   "metadata": {},
   "outputs": [
    {
     "data": {
      "text/html": [
       "<div>\n",
       "<style scoped>\n",
       "    .dataframe tbody tr th:only-of-type {\n",
       "        vertical-align: middle;\n",
       "    }\n",
       "\n",
       "    .dataframe tbody tr th {\n",
       "        vertical-align: top;\n",
       "    }\n",
       "\n",
       "    .dataframe thead th {\n",
       "        text-align: right;\n",
       "    }\n",
       "</style>\n",
       "<table border=\"1\" class=\"dataframe\">\n",
       "  <thead>\n",
       "    <tr style=\"text-align: right;\">\n",
       "      <th></th>\n",
       "      <th>user_id</th>\n",
       "      <th>month</th>\n",
       "      <th>mb_used</th>\n",
       "    </tr>\n",
       "  </thead>\n",
       "  <tbody>\n",
       "    <tr>\n",
       "      <th>0</th>\n",
       "      <td>1000</td>\n",
       "      <td>5</td>\n",
       "      <td>2253.49</td>\n",
       "    </tr>\n",
       "    <tr>\n",
       "      <th>1</th>\n",
       "      <td>1000</td>\n",
       "      <td>6</td>\n",
       "      <td>23233.77</td>\n",
       "    </tr>\n",
       "    <tr>\n",
       "      <th>2</th>\n",
       "      <td>1000</td>\n",
       "      <td>7</td>\n",
       "      <td>14003.64</td>\n",
       "    </tr>\n",
       "    <tr>\n",
       "      <th>3</th>\n",
       "      <td>1000</td>\n",
       "      <td>8</td>\n",
       "      <td>14055.93</td>\n",
       "    </tr>\n",
       "    <tr>\n",
       "      <th>4</th>\n",
       "      <td>1000</td>\n",
       "      <td>9</td>\n",
       "      <td>14568.91</td>\n",
       "    </tr>\n",
       "    <tr>\n",
       "      <th>...</th>\n",
       "      <td>...</td>\n",
       "      <td>...</td>\n",
       "      <td>...</td>\n",
       "    </tr>\n",
       "    <tr>\n",
       "      <th>3198</th>\n",
       "      <td>1498</td>\n",
       "      <td>10</td>\n",
       "      <td>20579.36</td>\n",
       "    </tr>\n",
       "    <tr>\n",
       "      <th>3199</th>\n",
       "      <td>1499</td>\n",
       "      <td>9</td>\n",
       "      <td>1845.75</td>\n",
       "    </tr>\n",
       "    <tr>\n",
       "      <th>3200</th>\n",
       "      <td>1499</td>\n",
       "      <td>10</td>\n",
       "      <td>17788.51</td>\n",
       "    </tr>\n",
       "    <tr>\n",
       "      <th>3201</th>\n",
       "      <td>1499</td>\n",
       "      <td>11</td>\n",
       "      <td>17963.31</td>\n",
       "    </tr>\n",
       "    <tr>\n",
       "      <th>3202</th>\n",
       "      <td>1499</td>\n",
       "      <td>12</td>\n",
       "      <td>13055.58</td>\n",
       "    </tr>\n",
       "  </tbody>\n",
       "</table>\n",
       "<p>3203 rows × 3 columns</p>\n",
       "</div>"
      ],
      "text/plain": [
       "      user_id  month   mb_used\n",
       "0        1000      5   2253.49\n",
       "1        1000      6  23233.77\n",
       "2        1000      7  14003.64\n",
       "3        1000      8  14055.93\n",
       "4        1000      9  14568.91\n",
       "...       ...    ...       ...\n",
       "3198     1498     10  20579.36\n",
       "3199     1499      9   1845.75\n",
       "3200     1499     10  17788.51\n",
       "3201     1499     11  17963.31\n",
       "3202     1499     12  13055.58\n",
       "\n",
       "[3203 rows x 3 columns]"
      ]
     },
     "execution_count": 22,
     "metadata": {},
     "output_type": "execute_result"
    }
   ],
   "source": [
    "internet_count = internet.groupby(\n",
    "    ['user_id', 'month'])['mb_used'].sum().reset_index()\n",
    "\n",
    "internet_count"
   ]
  },
  {
   "cell_type": "markdown",
   "metadata": {},
   "source": [
    "Создали так же две сгруппированные таблицы для данных по количеству отправляемых сообщений и по объему интернет сессий."
   ]
  },
  {
   "cell_type": "code",
   "execution_count": 23,
   "metadata": {},
   "outputs": [
    {
     "data": {
      "text/html": [
       "<div>\n",
       "<style scoped>\n",
       "    .dataframe tbody tr th:only-of-type {\n",
       "        vertical-align: middle;\n",
       "    }\n",
       "\n",
       "    .dataframe tbody tr th {\n",
       "        vertical-align: top;\n",
       "    }\n",
       "\n",
       "    .dataframe thead th {\n",
       "        text-align: right;\n",
       "    }\n",
       "</style>\n",
       "<table border=\"1\" class=\"dataframe\">\n",
       "  <thead>\n",
       "    <tr style=\"text-align: right;\">\n",
       "      <th></th>\n",
       "      <th>user_id</th>\n",
       "      <th>month</th>\n",
       "      <th>gb_used</th>\n",
       "    </tr>\n",
       "  </thead>\n",
       "  <tbody>\n",
       "    <tr>\n",
       "      <th>0</th>\n",
       "      <td>1000</td>\n",
       "      <td>5</td>\n",
       "      <td>3.0</td>\n",
       "    </tr>\n",
       "    <tr>\n",
       "      <th>1</th>\n",
       "      <td>1000</td>\n",
       "      <td>6</td>\n",
       "      <td>23.0</td>\n",
       "    </tr>\n",
       "    <tr>\n",
       "      <th>2</th>\n",
       "      <td>1000</td>\n",
       "      <td>7</td>\n",
       "      <td>14.0</td>\n",
       "    </tr>\n",
       "    <tr>\n",
       "      <th>3</th>\n",
       "      <td>1000</td>\n",
       "      <td>8</td>\n",
       "      <td>14.0</td>\n",
       "    </tr>\n",
       "    <tr>\n",
       "      <th>4</th>\n",
       "      <td>1000</td>\n",
       "      <td>9</td>\n",
       "      <td>15.0</td>\n",
       "    </tr>\n",
       "    <tr>\n",
       "      <th>5</th>\n",
       "      <td>1000</td>\n",
       "      <td>10</td>\n",
       "      <td>15.0</td>\n",
       "    </tr>\n",
       "    <tr>\n",
       "      <th>6</th>\n",
       "      <td>1000</td>\n",
       "      <td>11</td>\n",
       "      <td>15.0</td>\n",
       "    </tr>\n",
       "    <tr>\n",
       "      <th>7</th>\n",
       "      <td>1000</td>\n",
       "      <td>12</td>\n",
       "      <td>10.0</td>\n",
       "    </tr>\n",
       "    <tr>\n",
       "      <th>8</th>\n",
       "      <td>1001</td>\n",
       "      <td>11</td>\n",
       "      <td>18.0</td>\n",
       "    </tr>\n",
       "    <tr>\n",
       "      <th>9</th>\n",
       "      <td>1001</td>\n",
       "      <td>12</td>\n",
       "      <td>14.0</td>\n",
       "    </tr>\n",
       "  </tbody>\n",
       "</table>\n",
       "</div>"
      ],
      "text/plain": [
       "   user_id  month  gb_used\n",
       "0     1000      5      3.0\n",
       "1     1000      6     23.0\n",
       "2     1000      7     14.0\n",
       "3     1000      8     14.0\n",
       "4     1000      9     15.0\n",
       "5     1000     10     15.0\n",
       "6     1000     11     15.0\n",
       "7     1000     12     10.0\n",
       "8     1001     11     18.0\n",
       "9     1001     12     14.0"
      ]
     },
     "execution_count": 23,
     "metadata": {},
     "output_type": "execute_result"
    }
   ],
   "source": [
    "internet_count['gb_used'] = internet_count['mb_used'] / 1024\n",
    "\n",
    "internet_count['gb_used'] = internet_count['gb_used'].apply(np.ceil)\n",
    "\n",
    "internet_count = internet_count.drop('mb_used', axis=1)\n",
    "\n",
    "internet_count.head(10)     "
   ]
  },
  {
   "cell_type": "markdown",
   "metadata": {},
   "source": [
    "По условиям тарифов за используемый сверх пакета интернет оплата идет за каждый гигабайт. Для удобства дальнейших расчетов расчитали объем потраченного интернета в гигабайтах и округлили до верхнего значения, так как этого требуют условия тарификации.  \n",
    "Столбец с мегабайтами удалили."
   ]
  },
  {
   "cell_type": "code",
   "execution_count": 24,
   "metadata": {},
   "outputs": [],
   "source": [
    "calls_messages = calls_count.merge(messages_count, on = ['user_id', 'month'], how = 'outer')\n",
    "\n",
    "internet_calls_messages = calls_messages.merge(internet_count, on = ['user_id', 'month'], how = 'outer')"
   ]
  },
  {
   "cell_type": "code",
   "execution_count": 25,
   "metadata": {},
   "outputs": [
    {
     "name": "stdout",
     "output_type": "stream",
     "text": [
      "<class 'pandas.core.frame.DataFrame'>\n",
      "Int64Index: 3214 entries, 0 to 3213\n",
      "Data columns (total 6 columns):\n",
      " #   Column          Non-Null Count  Dtype  \n",
      "---  ------          --------------  -----  \n",
      " 0   user_id         3214 non-null   int64  \n",
      " 1   month           3214 non-null   int64  \n",
      " 2   calls           3174 non-null   float64\n",
      " 3   calls_duration  3174 non-null   float64\n",
      " 4   messages        2717 non-null   float64\n",
      " 5   gb_used         3203 non-null   float64\n",
      "dtypes: float64(4), int64(2)\n",
      "memory usage: 175.8 KB\n"
     ]
    }
   ],
   "source": [
    "internet_calls_messages.head(10)\n",
    "\n",
    "internet_calls_messages.info()"
   ]
  },
  {
   "cell_type": "code",
   "execution_count": 26,
   "metadata": {},
   "outputs": [
    {
     "data": {
      "text/plain": [
       "True"
      ]
     },
     "execution_count": 26,
     "metadata": {},
     "output_type": "execute_result"
    }
   ],
   "source": [
    "calls_count['calls'].sum() == internet_calls_messages['calls'].sum()"
   ]
  },
  {
   "cell_type": "code",
   "execution_count": 27,
   "metadata": {},
   "outputs": [
    {
     "data": {
      "text/plain": [
       "True"
      ]
     },
     "execution_count": 27,
     "metadata": {},
     "output_type": "execute_result"
    }
   ],
   "source": [
    "calls_count['calls_duration'].sum() == internet_calls_messages['calls_duration'].sum()"
   ]
  },
  {
   "cell_type": "code",
   "execution_count": 28,
   "metadata": {},
   "outputs": [
    {
     "data": {
      "text/plain": [
       "True"
      ]
     },
     "execution_count": 28,
     "metadata": {},
     "output_type": "execute_result"
    }
   ],
   "source": [
    "messages_count['messages'].sum() == internet_calls_messages['messages'].sum()"
   ]
  },
  {
   "cell_type": "code",
   "execution_count": 29,
   "metadata": {},
   "outputs": [
    {
     "data": {
      "text/plain": [
       "True"
      ]
     },
     "execution_count": 29,
     "metadata": {},
     "output_type": "execute_result"
    }
   ],
   "source": [
    "internet_count['gb_used'].sum() == internet_calls_messages['gb_used'].sum()"
   ]
  },
  {
   "cell_type": "code",
   "execution_count": 30,
   "metadata": {},
   "outputs": [
    {
     "name": "stdout",
     "output_type": "stream",
     "text": [
      "<class 'pandas.core.frame.DataFrame'>\n",
      "Int64Index: 3214 entries, 0 to 3213\n",
      "Data columns (total 6 columns):\n",
      " #   Column          Non-Null Count  Dtype  \n",
      "---  ------          --------------  -----  \n",
      " 0   user_id         3214 non-null   int64  \n",
      " 1   month           3214 non-null   int64  \n",
      " 2   calls           3214 non-null   float64\n",
      " 3   calls_duration  3214 non-null   float64\n",
      " 4   messages        3214 non-null   float64\n",
      " 5   gb_used         3214 non-null   float64\n",
      "dtypes: float64(4), int64(2)\n",
      "memory usage: 175.8 KB\n"
     ]
    }
   ],
   "source": [
    "internet_calls_messages = internet_calls_messages.fillna(0)\n",
    "internet_calls_messages.info()"
   ]
  },
  {
   "cell_type": "markdown",
   "metadata": {},
   "source": [
    "Объеденили три таблицы в одну по user_id. У нас получилось немного пустых значений. Заполнили их нулями, так как в данном случае пустые знаяения означают, что конкретных абонент не пользовался этим видом связи в указанный период."
   ]
  },
  {
   "cell_type": "code",
   "execution_count": 31,
   "metadata": {},
   "outputs": [
    {
     "data": {
      "text/html": [
       "<div>\n",
       "<style scoped>\n",
       "    .dataframe tbody tr th:only-of-type {\n",
       "        vertical-align: middle;\n",
       "    }\n",
       "\n",
       "    .dataframe tbody tr th {\n",
       "        vertical-align: top;\n",
       "    }\n",
       "\n",
       "    .dataframe thead th {\n",
       "        text-align: right;\n",
       "    }\n",
       "</style>\n",
       "<table border=\"1\" class=\"dataframe\">\n",
       "  <thead>\n",
       "    <tr style=\"text-align: right;\">\n",
       "      <th></th>\n",
       "      <th>user_id</th>\n",
       "      <th>city</th>\n",
       "      <th>tariff</th>\n",
       "    </tr>\n",
       "  </thead>\n",
       "  <tbody>\n",
       "    <tr>\n",
       "      <th>0</th>\n",
       "      <td>1000</td>\n",
       "      <td>Краснодар</td>\n",
       "      <td>ultra</td>\n",
       "    </tr>\n",
       "    <tr>\n",
       "      <th>1</th>\n",
       "      <td>1001</td>\n",
       "      <td>Москва</td>\n",
       "      <td>smart</td>\n",
       "    </tr>\n",
       "    <tr>\n",
       "      <th>2</th>\n",
       "      <td>1002</td>\n",
       "      <td>Стерлитамак</td>\n",
       "      <td>smart</td>\n",
       "    </tr>\n",
       "    <tr>\n",
       "      <th>3</th>\n",
       "      <td>1003</td>\n",
       "      <td>Москва</td>\n",
       "      <td>ultra</td>\n",
       "    </tr>\n",
       "    <tr>\n",
       "      <th>4</th>\n",
       "      <td>1004</td>\n",
       "      <td>Новокузнецк</td>\n",
       "      <td>ultra</td>\n",
       "    </tr>\n",
       "    <tr>\n",
       "      <th>...</th>\n",
       "      <td>...</td>\n",
       "      <td>...</td>\n",
       "      <td>...</td>\n",
       "    </tr>\n",
       "    <tr>\n",
       "      <th>495</th>\n",
       "      <td>1495</td>\n",
       "      <td>Иркутск</td>\n",
       "      <td>ultra</td>\n",
       "    </tr>\n",
       "    <tr>\n",
       "      <th>496</th>\n",
       "      <td>1496</td>\n",
       "      <td>Вологда</td>\n",
       "      <td>smart</td>\n",
       "    </tr>\n",
       "    <tr>\n",
       "      <th>497</th>\n",
       "      <td>1497</td>\n",
       "      <td>Челябинск</td>\n",
       "      <td>smart</td>\n",
       "    </tr>\n",
       "    <tr>\n",
       "      <th>498</th>\n",
       "      <td>1498</td>\n",
       "      <td>Владикавказ</td>\n",
       "      <td>smart</td>\n",
       "    </tr>\n",
       "    <tr>\n",
       "      <th>499</th>\n",
       "      <td>1499</td>\n",
       "      <td>Пермь</td>\n",
       "      <td>smart</td>\n",
       "    </tr>\n",
       "  </tbody>\n",
       "</table>\n",
       "<p>500 rows × 3 columns</p>\n",
       "</div>"
      ],
      "text/plain": [
       "     user_id         city tariff\n",
       "0       1000    Краснодар  ultra\n",
       "1       1001       Москва  smart\n",
       "2       1002  Стерлитамак  smart\n",
       "3       1003       Москва  ultra\n",
       "4       1004  Новокузнецк  ultra\n",
       "..       ...          ...    ...\n",
       "495     1495      Иркутск  ultra\n",
       "496     1496      Вологда  smart\n",
       "497     1497    Челябинск  smart\n",
       "498     1498  Владикавказ  smart\n",
       "499     1499        Пермь  smart\n",
       "\n",
       "[500 rows x 3 columns]"
      ]
     },
     "execution_count": 31,
     "metadata": {},
     "output_type": "execute_result"
    }
   ],
   "source": [
    "users_city_tariff_info = users[['user_id', 'city', 'tariff']]\n",
    "\n",
    "users_city_tariff_info"
   ]
  },
  {
   "cell_type": "code",
   "execution_count": 32,
   "metadata": {},
   "outputs": [
    {
     "data": {
      "text/html": [
       "<div>\n",
       "<style scoped>\n",
       "    .dataframe tbody tr th:only-of-type {\n",
       "        vertical-align: middle;\n",
       "    }\n",
       "\n",
       "    .dataframe tbody tr th {\n",
       "        vertical-align: top;\n",
       "    }\n",
       "\n",
       "    .dataframe thead th {\n",
       "        text-align: right;\n",
       "    }\n",
       "</style>\n",
       "<table border=\"1\" class=\"dataframe\">\n",
       "  <thead>\n",
       "    <tr style=\"text-align: right;\">\n",
       "      <th></th>\n",
       "      <th>user_id</th>\n",
       "      <th>month</th>\n",
       "      <th>calls</th>\n",
       "      <th>calls_duration</th>\n",
       "      <th>messages</th>\n",
       "      <th>gb_used</th>\n",
       "      <th>city</th>\n",
       "      <th>tariff</th>\n",
       "    </tr>\n",
       "  </thead>\n",
       "  <tbody>\n",
       "    <tr>\n",
       "      <th>0</th>\n",
       "      <td>1000</td>\n",
       "      <td>5.0</td>\n",
       "      <td>22.0</td>\n",
       "      <td>159.0</td>\n",
       "      <td>22.0</td>\n",
       "      <td>3.0</td>\n",
       "      <td>Краснодар</td>\n",
       "      <td>ultra</td>\n",
       "    </tr>\n",
       "    <tr>\n",
       "      <th>1</th>\n",
       "      <td>1000</td>\n",
       "      <td>6.0</td>\n",
       "      <td>43.0</td>\n",
       "      <td>172.0</td>\n",
       "      <td>60.0</td>\n",
       "      <td>23.0</td>\n",
       "      <td>Краснодар</td>\n",
       "      <td>ultra</td>\n",
       "    </tr>\n",
       "    <tr>\n",
       "      <th>2</th>\n",
       "      <td>1000</td>\n",
       "      <td>7.0</td>\n",
       "      <td>47.0</td>\n",
       "      <td>340.0</td>\n",
       "      <td>75.0</td>\n",
       "      <td>14.0</td>\n",
       "      <td>Краснодар</td>\n",
       "      <td>ultra</td>\n",
       "    </tr>\n",
       "    <tr>\n",
       "      <th>3</th>\n",
       "      <td>1000</td>\n",
       "      <td>8.0</td>\n",
       "      <td>52.0</td>\n",
       "      <td>408.0</td>\n",
       "      <td>81.0</td>\n",
       "      <td>14.0</td>\n",
       "      <td>Краснодар</td>\n",
       "      <td>ultra</td>\n",
       "    </tr>\n",
       "    <tr>\n",
       "      <th>4</th>\n",
       "      <td>1000</td>\n",
       "      <td>9.0</td>\n",
       "      <td>58.0</td>\n",
       "      <td>466.0</td>\n",
       "      <td>57.0</td>\n",
       "      <td>15.0</td>\n",
       "      <td>Краснодар</td>\n",
       "      <td>ultra</td>\n",
       "    </tr>\n",
       "  </tbody>\n",
       "</table>\n",
       "</div>"
      ],
      "text/plain": [
       "   user_id  month  calls  calls_duration  messages  gb_used       city tariff\n",
       "0     1000    5.0   22.0           159.0      22.0      3.0  Краснодар  ultra\n",
       "1     1000    6.0   43.0           172.0      60.0     23.0  Краснодар  ultra\n",
       "2     1000    7.0   47.0           340.0      75.0     14.0  Краснодар  ultra\n",
       "3     1000    8.0   52.0           408.0      81.0     14.0  Краснодар  ultra\n",
       "4     1000    9.0   58.0           466.0      57.0     15.0  Краснодар  ultra"
      ]
     },
     "execution_count": 32,
     "metadata": {},
     "output_type": "execute_result"
    }
   ],
   "source": [
    "total_tab = internet_calls_messages.merge(users_city_tariff_info, on = 'user_id', how ='outer')\n",
    "total_tab.head()"
   ]
  },
  {
   "cell_type": "code",
   "execution_count": 33,
   "metadata": {},
   "outputs": [
    {
     "data": {
      "text/plain": [
       "500"
      ]
     },
     "execution_count": 33,
     "metadata": {},
     "output_type": "execute_result"
    }
   ],
   "source": [
    "total_tab.user_id.nunique()"
   ]
  },
  {
   "cell_type": "code",
   "execution_count": 34,
   "metadata": {},
   "outputs": [],
   "source": [
    "total_tab_user_zero = total_tab.fillna(0)"
   ]
  },
  {
   "cell_type": "code",
   "execution_count": 35,
   "metadata": {},
   "outputs": [
    {
     "data": {
      "text/html": [
       "<div>\n",
       "<style scoped>\n",
       "    .dataframe tbody tr th:only-of-type {\n",
       "        vertical-align: middle;\n",
       "    }\n",
       "\n",
       "    .dataframe tbody tr th {\n",
       "        vertical-align: top;\n",
       "    }\n",
       "\n",
       "    .dataframe thead th {\n",
       "        text-align: right;\n",
       "    }\n",
       "</style>\n",
       "<table border=\"1\" class=\"dataframe\">\n",
       "  <thead>\n",
       "    <tr style=\"text-align: right;\">\n",
       "      <th></th>\n",
       "      <th>user_id</th>\n",
       "      <th>month</th>\n",
       "      <th>calls</th>\n",
       "      <th>calls_duration</th>\n",
       "      <th>messages</th>\n",
       "      <th>gb_used</th>\n",
       "      <th>city</th>\n",
       "      <th>tariff</th>\n",
       "    </tr>\n",
       "  </thead>\n",
       "  <tbody>\n",
       "    <tr>\n",
       "      <th>3214</th>\n",
       "      <td>1128</td>\n",
       "      <td>0.0</td>\n",
       "      <td>0.0</td>\n",
       "      <td>0.0</td>\n",
       "      <td>0.0</td>\n",
       "      <td>0.0</td>\n",
       "      <td>Волжский</td>\n",
       "      <td>ultra</td>\n",
       "    </tr>\n",
       "    <tr>\n",
       "      <th>3215</th>\n",
       "      <td>1371</td>\n",
       "      <td>0.0</td>\n",
       "      <td>0.0</td>\n",
       "      <td>0.0</td>\n",
       "      <td>0.0</td>\n",
       "      <td>0.0</td>\n",
       "      <td>Омск</td>\n",
       "      <td>smart</td>\n",
       "    </tr>\n",
       "  </tbody>\n",
       "</table>\n",
       "</div>"
      ],
      "text/plain": [
       "      user_id  month  calls  calls_duration  messages  gb_used      city  \\\n",
       "3214     1128    0.0    0.0             0.0       0.0      0.0  Волжский   \n",
       "3215     1371    0.0    0.0             0.0       0.0      0.0      Омск   \n",
       "\n",
       "     tariff  \n",
       "3214  ultra  \n",
       "3215  smart  "
      ]
     },
     "execution_count": 35,
     "metadata": {},
     "output_type": "execute_result"
    }
   ],
   "source": [
    "total_tab_user_zero.query('month == 0 and calls == 0 and messages == 0 and gb_used == 0')"
   ]
  },
  {
   "cell_type": "code",
   "execution_count": 36,
   "metadata": {},
   "outputs": [
    {
     "data": {
      "text/html": [
       "<div>\n",
       "<style scoped>\n",
       "    .dataframe tbody tr th:only-of-type {\n",
       "        vertical-align: middle;\n",
       "    }\n",
       "\n",
       "    .dataframe tbody tr th {\n",
       "        vertical-align: top;\n",
       "    }\n",
       "\n",
       "    .dataframe thead th {\n",
       "        text-align: right;\n",
       "    }\n",
       "</style>\n",
       "<table border=\"1\" class=\"dataframe\">\n",
       "  <thead>\n",
       "    <tr style=\"text-align: right;\">\n",
       "      <th></th>\n",
       "      <th>user_id</th>\n",
       "      <th>age</th>\n",
       "      <th>churn_date</th>\n",
       "      <th>city</th>\n",
       "      <th>first_name</th>\n",
       "      <th>last_name</th>\n",
       "      <th>reg_date</th>\n",
       "      <th>tariff</th>\n",
       "    </tr>\n",
       "  </thead>\n",
       "  <tbody>\n",
       "    <tr>\n",
       "      <th>128</th>\n",
       "      <td>1128</td>\n",
       "      <td>51</td>\n",
       "      <td>2018-12-23</td>\n",
       "      <td>Волжский</td>\n",
       "      <td>Ксения</td>\n",
       "      <td>Агаева</td>\n",
       "      <td>2018-12-15</td>\n",
       "      <td>ultra</td>\n",
       "    </tr>\n",
       "  </tbody>\n",
       "</table>\n",
       "</div>"
      ],
      "text/plain": [
       "     user_id  age  churn_date      city first_name last_name    reg_date  \\\n",
       "128     1128   51  2018-12-23  Волжский     Ксения    Агаева  2018-12-15   \n",
       "\n",
       "    tariff  \n",
       "128  ultra  "
      ]
     },
     "execution_count": 36,
     "metadata": {},
     "output_type": "execute_result"
    }
   ],
   "source": [
    "users[users['user_id'] == 1128]"
   ]
  },
  {
   "cell_type": "code",
   "execution_count": 37,
   "metadata": {},
   "outputs": [
    {
     "data": {
      "text/html": [
       "<div>\n",
       "<style scoped>\n",
       "    .dataframe tbody tr th:only-of-type {\n",
       "        vertical-align: middle;\n",
       "    }\n",
       "\n",
       "    .dataframe tbody tr th {\n",
       "        vertical-align: top;\n",
       "    }\n",
       "\n",
       "    .dataframe thead th {\n",
       "        text-align: right;\n",
       "    }\n",
       "</style>\n",
       "<table border=\"1\" class=\"dataframe\">\n",
       "  <thead>\n",
       "    <tr style=\"text-align: right;\">\n",
       "      <th></th>\n",
       "      <th>user_id</th>\n",
       "      <th>age</th>\n",
       "      <th>churn_date</th>\n",
       "      <th>city</th>\n",
       "      <th>first_name</th>\n",
       "      <th>last_name</th>\n",
       "      <th>reg_date</th>\n",
       "      <th>tariff</th>\n",
       "    </tr>\n",
       "  </thead>\n",
       "  <tbody>\n",
       "    <tr>\n",
       "      <th>371</th>\n",
       "      <td>1371</td>\n",
       "      <td>50</td>\n",
       "      <td>2018-12-30</td>\n",
       "      <td>Омск</td>\n",
       "      <td>Ириней</td>\n",
       "      <td>Трофимов</td>\n",
       "      <td>2018-12-25</td>\n",
       "      <td>smart</td>\n",
       "    </tr>\n",
       "  </tbody>\n",
       "</table>\n",
       "</div>"
      ],
      "text/plain": [
       "     user_id  age  churn_date  city first_name last_name    reg_date tariff\n",
       "371     1371   50  2018-12-30  Омск     Ириней  Трофимов  2018-12-25  smart"
      ]
     },
     "execution_count": 37,
     "metadata": {},
     "output_type": "execute_result"
    }
   ],
   "source": [
    "users[users['user_id'] == 1371]"
   ]
  },
  {
   "cell_type": "code",
   "execution_count": 38,
   "metadata": {},
   "outputs": [
    {
     "name": "stdout",
     "output_type": "stream",
     "text": [
      "<class 'pandas.core.frame.DataFrame'>\n",
      "Int64Index: 3216 entries, 0 to 3215\n",
      "Data columns (total 8 columns):\n",
      " #   Column          Non-Null Count  Dtype  \n",
      "---  ------          --------------  -----  \n",
      " 0   user_id         3216 non-null   int64  \n",
      " 1   month           3214 non-null   float64\n",
      " 2   calls           3214 non-null   float64\n",
      " 3   calls_duration  3214 non-null   float64\n",
      " 4   messages        3214 non-null   float64\n",
      " 5   gb_used         3214 non-null   float64\n",
      " 6   city            3216 non-null   object \n",
      " 7   tariff          3216 non-null   object \n",
      "dtypes: float64(5), int64(1), object(2)\n",
      "memory usage: 226.1+ KB\n"
     ]
    }
   ],
   "source": [
    "total_tab.info()"
   ]
  },
  {
   "cell_type": "code",
   "execution_count": 39,
   "metadata": {},
   "outputs": [
    {
     "name": "stdout",
     "output_type": "stream",
     "text": [
      "<class 'pandas.core.frame.DataFrame'>\n",
      "Int64Index: 3214 entries, 0 to 3213\n",
      "Data columns (total 8 columns):\n",
      " #   Column          Non-Null Count  Dtype  \n",
      "---  ------          --------------  -----  \n",
      " 0   user_id         3214 non-null   int64  \n",
      " 1   month           3214 non-null   float64\n",
      " 2   calls           3214 non-null   float64\n",
      " 3   calls_duration  3214 non-null   float64\n",
      " 4   messages        3214 non-null   float64\n",
      " 5   gb_used         3214 non-null   float64\n",
      " 6   city            3214 non-null   object \n",
      " 7   tariff          3214 non-null   object \n",
      "dtypes: float64(5), int64(1), object(2)\n",
      "memory usage: 226.0+ KB\n"
     ]
    }
   ],
   "source": [
    "total_tab = total_tab.dropna()\n",
    "\n",
    "total_tab.info()"
   ]
  },
  {
   "cell_type": "code",
   "execution_count": 40,
   "metadata": {},
   "outputs": [
    {
     "name": "stdout",
     "output_type": "stream",
     "text": [
      "<class 'pandas.core.frame.DataFrame'>\n",
      "Int64Index: 3214 entries, 0 to 3213\n",
      "Data columns (total 8 columns):\n",
      " #   Column          Non-Null Count  Dtype \n",
      "---  ------          --------------  ----- \n",
      " 0   user_id         3214 non-null   int64 \n",
      " 1   month           3214 non-null   int32 \n",
      " 2   calls           3214 non-null   int32 \n",
      " 3   calls_duration  3214 non-null   int32 \n",
      " 4   messages        3214 non-null   int32 \n",
      " 5   gb_used         3214 non-null   int32 \n",
      " 6   city            3214 non-null   object\n",
      " 7   tariff          3214 non-null   object\n",
      "dtypes: int32(5), int64(1), object(2)\n",
      "memory usage: 163.2+ KB\n"
     ]
    }
   ],
   "source": [
    "types = {'month': int, 'calls' : int, 'calls_duration' : int, 'messages' : int, 'gb_used' : int}\n",
    "total_tab = total_tab.astype(types)\n",
    "\n",
    "total_tab.info()"
   ]
  },
  {
   "cell_type": "markdown",
   "metadata": {},
   "source": [
    "Для добавления информации по тарифам и городам абонентов, выделили эти данные в отдельную таблицу из таблицы users и добавили в общую таблицу.  \n",
    "После добавления, у нас появилось два абонента, которые тарифом не пользовались вообще. Удалили их из данных.  \n",
    "И привели данные в столбцах к нужному нам формату."
   ]
  },
  {
   "cell_type": "code",
   "execution_count": 41,
   "metadata": {},
   "outputs": [
    {
     "data": {
      "text/html": [
       "<div>\n",
       "<style scoped>\n",
       "    .dataframe tbody tr th:only-of-type {\n",
       "        vertical-align: middle;\n",
       "    }\n",
       "\n",
       "    .dataframe tbody tr th {\n",
       "        vertical-align: top;\n",
       "    }\n",
       "\n",
       "    .dataframe thead th {\n",
       "        text-align: right;\n",
       "    }\n",
       "</style>\n",
       "<table border=\"1\" class=\"dataframe\">\n",
       "  <thead>\n",
       "    <tr style=\"text-align: right;\">\n",
       "      <th></th>\n",
       "      <th>0</th>\n",
       "      <th>1</th>\n",
       "      <th>2</th>\n",
       "      <th>3</th>\n",
       "      <th>4</th>\n",
       "      <th>5</th>\n",
       "      <th>6</th>\n",
       "      <th>7</th>\n",
       "      <th>8</th>\n",
       "      <th>9</th>\n",
       "    </tr>\n",
       "  </thead>\n",
       "  <tbody>\n",
       "    <tr>\n",
       "      <th>user_id</th>\n",
       "      <td>1000</td>\n",
       "      <td>1000</td>\n",
       "      <td>1000</td>\n",
       "      <td>1000</td>\n",
       "      <td>1000</td>\n",
       "      <td>1000</td>\n",
       "      <td>1000</td>\n",
       "      <td>1000</td>\n",
       "      <td>1003</td>\n",
       "      <td>1003</td>\n",
       "    </tr>\n",
       "    <tr>\n",
       "      <th>month</th>\n",
       "      <td>5</td>\n",
       "      <td>6</td>\n",
       "      <td>7</td>\n",
       "      <td>8</td>\n",
       "      <td>9</td>\n",
       "      <td>10</td>\n",
       "      <td>11</td>\n",
       "      <td>12</td>\n",
       "      <td>8</td>\n",
       "      <td>9</td>\n",
       "    </tr>\n",
       "    <tr>\n",
       "      <th>calls</th>\n",
       "      <td>22</td>\n",
       "      <td>43</td>\n",
       "      <td>47</td>\n",
       "      <td>52</td>\n",
       "      <td>58</td>\n",
       "      <td>57</td>\n",
       "      <td>43</td>\n",
       "      <td>46</td>\n",
       "      <td>55</td>\n",
       "      <td>134</td>\n",
       "    </tr>\n",
       "    <tr>\n",
       "      <th>calls_duration</th>\n",
       "      <td>159</td>\n",
       "      <td>172</td>\n",
       "      <td>340</td>\n",
       "      <td>408</td>\n",
       "      <td>466</td>\n",
       "      <td>350</td>\n",
       "      <td>338</td>\n",
       "      <td>333</td>\n",
       "      <td>380</td>\n",
       "      <td>961</td>\n",
       "    </tr>\n",
       "    <tr>\n",
       "      <th>messages</th>\n",
       "      <td>22</td>\n",
       "      <td>60</td>\n",
       "      <td>75</td>\n",
       "      <td>81</td>\n",
       "      <td>57</td>\n",
       "      <td>73</td>\n",
       "      <td>58</td>\n",
       "      <td>70</td>\n",
       "      <td>37</td>\n",
       "      <td>91</td>\n",
       "    </tr>\n",
       "    <tr>\n",
       "      <th>gb_used</th>\n",
       "      <td>3</td>\n",
       "      <td>23</td>\n",
       "      <td>14</td>\n",
       "      <td>14</td>\n",
       "      <td>15</td>\n",
       "      <td>15</td>\n",
       "      <td>15</td>\n",
       "      <td>10</td>\n",
       "      <td>9</td>\n",
       "      <td>13</td>\n",
       "    </tr>\n",
       "    <tr>\n",
       "      <th>city</th>\n",
       "      <td>Краснодар</td>\n",
       "      <td>Краснодар</td>\n",
       "      <td>Краснодар</td>\n",
       "      <td>Краснодар</td>\n",
       "      <td>Краснодар</td>\n",
       "      <td>Краснодар</td>\n",
       "      <td>Краснодар</td>\n",
       "      <td>Краснодар</td>\n",
       "      <td>Москва</td>\n",
       "      <td>Москва</td>\n",
       "    </tr>\n",
       "    <tr>\n",
       "      <th>tariff</th>\n",
       "      <td>ultra</td>\n",
       "      <td>ultra</td>\n",
       "      <td>ultra</td>\n",
       "      <td>ultra</td>\n",
       "      <td>ultra</td>\n",
       "      <td>ultra</td>\n",
       "      <td>ultra</td>\n",
       "      <td>ultra</td>\n",
       "      <td>ultra</td>\n",
       "      <td>ultra</td>\n",
       "    </tr>\n",
       "    <tr>\n",
       "      <th>messages_included</th>\n",
       "      <td>1000</td>\n",
       "      <td>1000</td>\n",
       "      <td>1000</td>\n",
       "      <td>1000</td>\n",
       "      <td>1000</td>\n",
       "      <td>1000</td>\n",
       "      <td>1000</td>\n",
       "      <td>1000</td>\n",
       "      <td>1000</td>\n",
       "      <td>1000</td>\n",
       "    </tr>\n",
       "    <tr>\n",
       "      <th>mb_per_month_included</th>\n",
       "      <td>30720</td>\n",
       "      <td>30720</td>\n",
       "      <td>30720</td>\n",
       "      <td>30720</td>\n",
       "      <td>30720</td>\n",
       "      <td>30720</td>\n",
       "      <td>30720</td>\n",
       "      <td>30720</td>\n",
       "      <td>30720</td>\n",
       "      <td>30720</td>\n",
       "    </tr>\n",
       "    <tr>\n",
       "      <th>minutes_included</th>\n",
       "      <td>3000</td>\n",
       "      <td>3000</td>\n",
       "      <td>3000</td>\n",
       "      <td>3000</td>\n",
       "      <td>3000</td>\n",
       "      <td>3000</td>\n",
       "      <td>3000</td>\n",
       "      <td>3000</td>\n",
       "      <td>3000</td>\n",
       "      <td>3000</td>\n",
       "    </tr>\n",
       "    <tr>\n",
       "      <th>rub_monthly_fee</th>\n",
       "      <td>1950</td>\n",
       "      <td>1950</td>\n",
       "      <td>1950</td>\n",
       "      <td>1950</td>\n",
       "      <td>1950</td>\n",
       "      <td>1950</td>\n",
       "      <td>1950</td>\n",
       "      <td>1950</td>\n",
       "      <td>1950</td>\n",
       "      <td>1950</td>\n",
       "    </tr>\n",
       "    <tr>\n",
       "      <th>rub_per_gb</th>\n",
       "      <td>150</td>\n",
       "      <td>150</td>\n",
       "      <td>150</td>\n",
       "      <td>150</td>\n",
       "      <td>150</td>\n",
       "      <td>150</td>\n",
       "      <td>150</td>\n",
       "      <td>150</td>\n",
       "      <td>150</td>\n",
       "      <td>150</td>\n",
       "    </tr>\n",
       "    <tr>\n",
       "      <th>rub_per_message</th>\n",
       "      <td>1</td>\n",
       "      <td>1</td>\n",
       "      <td>1</td>\n",
       "      <td>1</td>\n",
       "      <td>1</td>\n",
       "      <td>1</td>\n",
       "      <td>1</td>\n",
       "      <td>1</td>\n",
       "      <td>1</td>\n",
       "      <td>1</td>\n",
       "    </tr>\n",
       "    <tr>\n",
       "      <th>rub_per_minute</th>\n",
       "      <td>1</td>\n",
       "      <td>1</td>\n",
       "      <td>1</td>\n",
       "      <td>1</td>\n",
       "      <td>1</td>\n",
       "      <td>1</td>\n",
       "      <td>1</td>\n",
       "      <td>1</td>\n",
       "      <td>1</td>\n",
       "      <td>1</td>\n",
       "    </tr>\n",
       "  </tbody>\n",
       "</table>\n",
       "</div>"
      ],
      "text/plain": [
       "                               0          1          2          3          4  \\\n",
       "user_id                     1000       1000       1000       1000       1000   \n",
       "month                          5          6          7          8          9   \n",
       "calls                         22         43         47         52         58   \n",
       "calls_duration               159        172        340        408        466   \n",
       "messages                      22         60         75         81         57   \n",
       "gb_used                        3         23         14         14         15   \n",
       "city                   Краснодар  Краснодар  Краснодар  Краснодар  Краснодар   \n",
       "tariff                     ultra      ultra      ultra      ultra      ultra   \n",
       "messages_included           1000       1000       1000       1000       1000   \n",
       "mb_per_month_included      30720      30720      30720      30720      30720   \n",
       "minutes_included            3000       3000       3000       3000       3000   \n",
       "rub_monthly_fee             1950       1950       1950       1950       1950   \n",
       "rub_per_gb                   150        150        150        150        150   \n",
       "rub_per_message                1          1          1          1          1   \n",
       "rub_per_minute                 1          1          1          1          1   \n",
       "\n",
       "                               5          6          7       8       9  \n",
       "user_id                     1000       1000       1000    1003    1003  \n",
       "month                         10         11         12       8       9  \n",
       "calls                         57         43         46      55     134  \n",
       "calls_duration               350        338        333     380     961  \n",
       "messages                      73         58         70      37      91  \n",
       "gb_used                       15         15         10       9      13  \n",
       "city                   Краснодар  Краснодар  Краснодар  Москва  Москва  \n",
       "tariff                     ultra      ultra      ultra   ultra   ultra  \n",
       "messages_included           1000       1000       1000    1000    1000  \n",
       "mb_per_month_included      30720      30720      30720   30720   30720  \n",
       "minutes_included            3000       3000       3000    3000    3000  \n",
       "rub_monthly_fee             1950       1950       1950    1950    1950  \n",
       "rub_per_gb                   150        150        150     150     150  \n",
       "rub_per_message                1          1          1       1       1  \n",
       "rub_per_minute                 1          1          1       1       1  "
      ]
     },
     "execution_count": 41,
     "metadata": {},
     "output_type": "execute_result"
    }
   ],
   "source": [
    "users_tariff = total_tab.merge(tariffs, on = 'tariff', how = 'outer')\n",
    "\n",
    "users_tariff.head(10).T"
   ]
  },
  {
   "cell_type": "code",
   "execution_count": 42,
   "metadata": {},
   "outputs": [
    {
     "name": "stdout",
     "output_type": "stream",
     "text": [
      "<class 'pandas.core.frame.DataFrame'>\n",
      "Int64Index: 3214 entries, 0 to 3213\n",
      "Data columns (total 15 columns):\n",
      " #   Column                 Non-Null Count  Dtype \n",
      "---  ------                 --------------  ----- \n",
      " 0   user_id                3214 non-null   int64 \n",
      " 1   month                  3214 non-null   int32 \n",
      " 2   calls                  3214 non-null   int32 \n",
      " 3   calls_duration         3214 non-null   int32 \n",
      " 4   messages               3214 non-null   int32 \n",
      " 5   gb_used                3214 non-null   int32 \n",
      " 6   city                   3214 non-null   object\n",
      " 7   tariff                 3214 non-null   object\n",
      " 8   messages_included      3214 non-null   int64 \n",
      " 9   mb_per_month_included  3214 non-null   int64 \n",
      " 10  minutes_included       3214 non-null   int64 \n",
      " 11  rub_monthly_fee        3214 non-null   int64 \n",
      " 12  rub_per_gb             3214 non-null   int64 \n",
      " 13  rub_per_message        3214 non-null   int64 \n",
      " 14  rub_per_minute         3214 non-null   int64 \n",
      "dtypes: int32(5), int64(8), object(2)\n",
      "memory usage: 339.0+ KB\n"
     ]
    }
   ],
   "source": [
    "users_tariff.info()"
   ]
  },
  {
   "cell_type": "markdown",
   "metadata": {},
   "source": [
    "Добавили данные с условиями тарифа и тарификацией за расходы сверх пакеты в общую таблицу."
   ]
  },
  {
   "cell_type": "code",
   "execution_count": 43,
   "metadata": {},
   "outputs": [],
   "source": [
    "users_tariff['mb_per_month_included'] = users_tariff['mb_per_month_included'] / 1024\n",
    "\n",
    "users_tariff['mb_per_month_included'] = users_tariff['mb_per_month_included'].astype(int)\n",
    "\n",
    "users_tariff = users_tariff.rename(columns = {'mb_per_month_included' : 'gb_per_month_included'})"
   ]
  },
  {
   "cell_type": "markdown",
   "metadata": {},
   "source": [
    "Переделали мегабайты в гигабайты в таблице для дальнейших расчетов."
   ]
  },
  {
   "cell_type": "code",
   "execution_count": 44,
   "metadata": {},
   "outputs": [],
   "source": [
    "users_tariff['calls_income'] = (\n",
    "    users_tariff['calls_duration'] - users_tariff['minutes_included']) * users_tariff['rub_per_minute']\n",
    "\n",
    "users_tariff['messages_income'] = (\n",
    "    users_tariff['messages'] - users_tariff['messages_included']) * users_tariff['rub_per_message']\n",
    "\n",
    "users_tariff['internet_income'] = (\n",
    "    users_tariff['gb_used'] - users_tariff['gb_per_month_included']) * users_tariff['rub_per_gb']"
   ]
  },
  {
   "cell_type": "code",
   "execution_count": 46,
   "metadata": {},
   "outputs": [],
   "source": [
    "def replace_zero(data):\n",
    "    if data <= 0:\n",
    "        return 0\n",
    "    else:\n",
    "        return data\n",
    "    \n",
    "users_tariff['calls_income'] = users_tariff['calls_income'].apply(replace_zero)\n",
    "\n",
    "users_tariff['messages_income'] = users_tariff['messages_income'].apply(replace_zero)\n",
    "\n",
    "users_tariff['internet_income'] = users_tariff['internet_income'].apply(replace_zero)"
   ]
  },
  {
   "cell_type": "code",
   "execution_count": 45,
   "metadata": {
    "scrolled": true
   },
   "outputs": [
    {
     "data": {
      "text/html": [
       "<div>\n",
       "<style scoped>\n",
       "    .dataframe tbody tr th:only-of-type {\n",
       "        vertical-align: middle;\n",
       "    }\n",
       "\n",
       "    .dataframe tbody tr th {\n",
       "        vertical-align: top;\n",
       "    }\n",
       "\n",
       "    .dataframe thead th {\n",
       "        text-align: right;\n",
       "    }\n",
       "</style>\n",
       "<table border=\"1\" class=\"dataframe\">\n",
       "  <thead>\n",
       "    <tr style=\"text-align: right;\">\n",
       "      <th></th>\n",
       "      <th>3204</th>\n",
       "      <th>3205</th>\n",
       "      <th>3206</th>\n",
       "      <th>3207</th>\n",
       "      <th>3208</th>\n",
       "      <th>3209</th>\n",
       "      <th>3210</th>\n",
       "      <th>3211</th>\n",
       "      <th>3212</th>\n",
       "      <th>3213</th>\n",
       "    </tr>\n",
       "  </thead>\n",
       "  <tbody>\n",
       "    <tr>\n",
       "      <th>user_id</th>\n",
       "      <td>1498</td>\n",
       "      <td>1499</td>\n",
       "      <td>1499</td>\n",
       "      <td>1499</td>\n",
       "      <td>1499</td>\n",
       "      <td>1489</td>\n",
       "      <td>1489</td>\n",
       "      <td>1489</td>\n",
       "      <td>1489</td>\n",
       "      <td>1489</td>\n",
       "    </tr>\n",
       "    <tr>\n",
       "      <th>month</th>\n",
       "      <td>10</td>\n",
       "      <td>9</td>\n",
       "      <td>10</td>\n",
       "      <td>11</td>\n",
       "      <td>12</td>\n",
       "      <td>8</td>\n",
       "      <td>9</td>\n",
       "      <td>10</td>\n",
       "      <td>11</td>\n",
       "      <td>12</td>\n",
       "    </tr>\n",
       "    <tr>\n",
       "      <th>calls</th>\n",
       "      <td>41</td>\n",
       "      <td>9</td>\n",
       "      <td>68</td>\n",
       "      <td>74</td>\n",
       "      <td>69</td>\n",
       "      <td>0</td>\n",
       "      <td>0</td>\n",
       "      <td>0</td>\n",
       "      <td>0</td>\n",
       "      <td>0</td>\n",
       "    </tr>\n",
       "    <tr>\n",
       "      <th>calls_duration</th>\n",
       "      <td>247</td>\n",
       "      <td>70</td>\n",
       "      <td>449</td>\n",
       "      <td>612</td>\n",
       "      <td>492</td>\n",
       "      <td>0</td>\n",
       "      <td>0</td>\n",
       "      <td>0</td>\n",
       "      <td>0</td>\n",
       "      <td>0</td>\n",
       "    </tr>\n",
       "    <tr>\n",
       "      <th>messages</th>\n",
       "      <td>42</td>\n",
       "      <td>11</td>\n",
       "      <td>48</td>\n",
       "      <td>59</td>\n",
       "      <td>66</td>\n",
       "      <td>17</td>\n",
       "      <td>32</td>\n",
       "      <td>21</td>\n",
       "      <td>20</td>\n",
       "      <td>35</td>\n",
       "    </tr>\n",
       "    <tr>\n",
       "      <th>gb_used</th>\n",
       "      <td>21</td>\n",
       "      <td>2</td>\n",
       "      <td>18</td>\n",
       "      <td>18</td>\n",
       "      <td>13</td>\n",
       "      <td>11</td>\n",
       "      <td>17</td>\n",
       "      <td>20</td>\n",
       "      <td>18</td>\n",
       "      <td>17</td>\n",
       "    </tr>\n",
       "    <tr>\n",
       "      <th>city</th>\n",
       "      <td>Владикавказ</td>\n",
       "      <td>Пермь</td>\n",
       "      <td>Пермь</td>\n",
       "      <td>Пермь</td>\n",
       "      <td>Пермь</td>\n",
       "      <td>Санкт-Петербург</td>\n",
       "      <td>Санкт-Петербург</td>\n",
       "      <td>Санкт-Петербург</td>\n",
       "      <td>Санкт-Петербург</td>\n",
       "      <td>Санкт-Петербург</td>\n",
       "    </tr>\n",
       "    <tr>\n",
       "      <th>tariff</th>\n",
       "      <td>smart</td>\n",
       "      <td>smart</td>\n",
       "      <td>smart</td>\n",
       "      <td>smart</td>\n",
       "      <td>smart</td>\n",
       "      <td>smart</td>\n",
       "      <td>smart</td>\n",
       "      <td>smart</td>\n",
       "      <td>smart</td>\n",
       "      <td>smart</td>\n",
       "    </tr>\n",
       "    <tr>\n",
       "      <th>messages_included</th>\n",
       "      <td>50</td>\n",
       "      <td>50</td>\n",
       "      <td>50</td>\n",
       "      <td>50</td>\n",
       "      <td>50</td>\n",
       "      <td>50</td>\n",
       "      <td>50</td>\n",
       "      <td>50</td>\n",
       "      <td>50</td>\n",
       "      <td>50</td>\n",
       "    </tr>\n",
       "    <tr>\n",
       "      <th>gb_per_month_included</th>\n",
       "      <td>15</td>\n",
       "      <td>15</td>\n",
       "      <td>15</td>\n",
       "      <td>15</td>\n",
       "      <td>15</td>\n",
       "      <td>15</td>\n",
       "      <td>15</td>\n",
       "      <td>15</td>\n",
       "      <td>15</td>\n",
       "      <td>15</td>\n",
       "    </tr>\n",
       "    <tr>\n",
       "      <th>minutes_included</th>\n",
       "      <td>500</td>\n",
       "      <td>500</td>\n",
       "      <td>500</td>\n",
       "      <td>500</td>\n",
       "      <td>500</td>\n",
       "      <td>500</td>\n",
       "      <td>500</td>\n",
       "      <td>500</td>\n",
       "      <td>500</td>\n",
       "      <td>500</td>\n",
       "    </tr>\n",
       "    <tr>\n",
       "      <th>rub_monthly_fee</th>\n",
       "      <td>550</td>\n",
       "      <td>550</td>\n",
       "      <td>550</td>\n",
       "      <td>550</td>\n",
       "      <td>550</td>\n",
       "      <td>550</td>\n",
       "      <td>550</td>\n",
       "      <td>550</td>\n",
       "      <td>550</td>\n",
       "      <td>550</td>\n",
       "    </tr>\n",
       "    <tr>\n",
       "      <th>rub_per_gb</th>\n",
       "      <td>200</td>\n",
       "      <td>200</td>\n",
       "      <td>200</td>\n",
       "      <td>200</td>\n",
       "      <td>200</td>\n",
       "      <td>200</td>\n",
       "      <td>200</td>\n",
       "      <td>200</td>\n",
       "      <td>200</td>\n",
       "      <td>200</td>\n",
       "    </tr>\n",
       "    <tr>\n",
       "      <th>rub_per_message</th>\n",
       "      <td>3</td>\n",
       "      <td>3</td>\n",
       "      <td>3</td>\n",
       "      <td>3</td>\n",
       "      <td>3</td>\n",
       "      <td>3</td>\n",
       "      <td>3</td>\n",
       "      <td>3</td>\n",
       "      <td>3</td>\n",
       "      <td>3</td>\n",
       "    </tr>\n",
       "    <tr>\n",
       "      <th>rub_per_minute</th>\n",
       "      <td>3</td>\n",
       "      <td>3</td>\n",
       "      <td>3</td>\n",
       "      <td>3</td>\n",
       "      <td>3</td>\n",
       "      <td>3</td>\n",
       "      <td>3</td>\n",
       "      <td>3</td>\n",
       "      <td>3</td>\n",
       "      <td>3</td>\n",
       "    </tr>\n",
       "    <tr>\n",
       "      <th>calls_income</th>\n",
       "      <td>-759</td>\n",
       "      <td>-1290</td>\n",
       "      <td>-153</td>\n",
       "      <td>336</td>\n",
       "      <td>-24</td>\n",
       "      <td>-1500</td>\n",
       "      <td>-1500</td>\n",
       "      <td>-1500</td>\n",
       "      <td>-1500</td>\n",
       "      <td>-1500</td>\n",
       "    </tr>\n",
       "    <tr>\n",
       "      <th>messages_income</th>\n",
       "      <td>-24</td>\n",
       "      <td>-117</td>\n",
       "      <td>-6</td>\n",
       "      <td>27</td>\n",
       "      <td>48</td>\n",
       "      <td>-99</td>\n",
       "      <td>-54</td>\n",
       "      <td>-87</td>\n",
       "      <td>-90</td>\n",
       "      <td>-45</td>\n",
       "    </tr>\n",
       "    <tr>\n",
       "      <th>internet_income</th>\n",
       "      <td>1200</td>\n",
       "      <td>-2600</td>\n",
       "      <td>600</td>\n",
       "      <td>600</td>\n",
       "      <td>-400</td>\n",
       "      <td>-800</td>\n",
       "      <td>400</td>\n",
       "      <td>1000</td>\n",
       "      <td>600</td>\n",
       "      <td>400</td>\n",
       "    </tr>\n",
       "  </tbody>\n",
       "</table>\n",
       "</div>"
      ],
      "text/plain": [
       "                              3204   3205   3206   3207   3208  \\\n",
       "user_id                       1498   1499   1499   1499   1499   \n",
       "month                           10      9     10     11     12   \n",
       "calls                           41      9     68     74     69   \n",
       "calls_duration                 247     70    449    612    492   \n",
       "messages                        42     11     48     59     66   \n",
       "gb_used                         21      2     18     18     13   \n",
       "city                   Владикавказ  Пермь  Пермь  Пермь  Пермь   \n",
       "tariff                       smart  smart  smart  smart  smart   \n",
       "messages_included               50     50     50     50     50   \n",
       "gb_per_month_included           15     15     15     15     15   \n",
       "minutes_included               500    500    500    500    500   \n",
       "rub_monthly_fee                550    550    550    550    550   \n",
       "rub_per_gb                     200    200    200    200    200   \n",
       "rub_per_message                  3      3      3      3      3   \n",
       "rub_per_minute                   3      3      3      3      3   \n",
       "calls_income                  -759  -1290   -153    336    -24   \n",
       "messages_income                -24   -117     -6     27     48   \n",
       "internet_income               1200  -2600    600    600   -400   \n",
       "\n",
       "                                  3209             3210             3211  \\\n",
       "user_id                           1489             1489             1489   \n",
       "month                                8                9               10   \n",
       "calls                                0                0                0   \n",
       "calls_duration                       0                0                0   \n",
       "messages                            17               32               21   \n",
       "gb_used                             11               17               20   \n",
       "city                   Санкт-Петербург  Санкт-Петербург  Санкт-Петербург   \n",
       "tariff                           smart            smart            smart   \n",
       "messages_included                   50               50               50   \n",
       "gb_per_month_included               15               15               15   \n",
       "minutes_included                   500              500              500   \n",
       "rub_monthly_fee                    550              550              550   \n",
       "rub_per_gb                         200              200              200   \n",
       "rub_per_message                      3                3                3   \n",
       "rub_per_minute                       3                3                3   \n",
       "calls_income                     -1500            -1500            -1500   \n",
       "messages_income                    -99              -54              -87   \n",
       "internet_income                   -800              400             1000   \n",
       "\n",
       "                                  3212             3213  \n",
       "user_id                           1489             1489  \n",
       "month                               11               12  \n",
       "calls                                0                0  \n",
       "calls_duration                       0                0  \n",
       "messages                            20               35  \n",
       "gb_used                             18               17  \n",
       "city                   Санкт-Петербург  Санкт-Петербург  \n",
       "tariff                           smart            smart  \n",
       "messages_included                   50               50  \n",
       "gb_per_month_included               15               15  \n",
       "minutes_included                   500              500  \n",
       "rub_monthly_fee                    550              550  \n",
       "rub_per_gb                         200              200  \n",
       "rub_per_message                      3                3  \n",
       "rub_per_minute                       3                3  \n",
       "calls_income                     -1500            -1500  \n",
       "messages_income                    -90              -45  \n",
       "internet_income                    600              400  "
      ]
     },
     "execution_count": 45,
     "metadata": {},
     "output_type": "execute_result"
    }
   ],
   "source": [
    "users_tariff.tail(10).T"
   ]
  },
  {
   "cell_type": "code",
   "execution_count": 46,
   "metadata": {},
   "outputs": [],
   "source": [
    "users_tariff['total_income'] = users_tariff['calls_income'] + users_tariff['messages_income'] + users_tariff['internet_income'] + users_tariff['rub_monthly_fee']"
   ]
  },
  {
   "cell_type": "code",
   "execution_count": 47,
   "metadata": {},
   "outputs": [
    {
     "data": {
      "text/plain": [
       "count    3214.000000\n",
       "mean     -574.247978\n",
       "std      2226.662702\n",
       "min     -6534.000000\n",
       "25%     -2225.000000\n",
       "50%       -58.000000\n",
       "75%      1050.500000\n",
       "max      6770.000000\n",
       "Name: total_income, dtype: float64"
      ]
     },
     "execution_count": 47,
     "metadata": {},
     "output_type": "execute_result"
    }
   ],
   "source": [
    "users_tariff['total_income'].describe()"
   ]
  },
  {
   "cell_type": "code",
   "execution_count": 48,
   "metadata": {},
   "outputs": [
    {
     "data": {
      "text/html": [
       "<div>\n",
       "<style scoped>\n",
       "    .dataframe tbody tr th:only-of-type {\n",
       "        vertical-align: middle;\n",
       "    }\n",
       "\n",
       "    .dataframe tbody tr th {\n",
       "        vertical-align: top;\n",
       "    }\n",
       "\n",
       "    .dataframe thead th {\n",
       "        text-align: right;\n",
       "    }\n",
       "</style>\n",
       "<table border=\"1\" class=\"dataframe\">\n",
       "  <thead>\n",
       "    <tr style=\"text-align: right;\">\n",
       "      <th></th>\n",
       "      <th>0</th>\n",
       "      <th>1</th>\n",
       "      <th>2</th>\n",
       "      <th>3</th>\n",
       "      <th>4</th>\n",
       "      <th>5</th>\n",
       "      <th>6</th>\n",
       "      <th>7</th>\n",
       "      <th>8</th>\n",
       "      <th>9</th>\n",
       "      <th>...</th>\n",
       "      <th>3204</th>\n",
       "      <th>3205</th>\n",
       "      <th>3206</th>\n",
       "      <th>3207</th>\n",
       "      <th>3208</th>\n",
       "      <th>3209</th>\n",
       "      <th>3210</th>\n",
       "      <th>3211</th>\n",
       "      <th>3212</th>\n",
       "      <th>3213</th>\n",
       "    </tr>\n",
       "  </thead>\n",
       "  <tbody>\n",
       "    <tr>\n",
       "      <th>user_id</th>\n",
       "      <td>1000</td>\n",
       "      <td>1000</td>\n",
       "      <td>1000</td>\n",
       "      <td>1000</td>\n",
       "      <td>1000</td>\n",
       "      <td>1000</td>\n",
       "      <td>1000</td>\n",
       "      <td>1000</td>\n",
       "      <td>1003</td>\n",
       "      <td>1003</td>\n",
       "      <td>...</td>\n",
       "      <td>1498</td>\n",
       "      <td>1499</td>\n",
       "      <td>1499</td>\n",
       "      <td>1499</td>\n",
       "      <td>1499</td>\n",
       "      <td>1489</td>\n",
       "      <td>1489</td>\n",
       "      <td>1489</td>\n",
       "      <td>1489</td>\n",
       "      <td>1489</td>\n",
       "    </tr>\n",
       "    <tr>\n",
       "      <th>month</th>\n",
       "      <td>5</td>\n",
       "      <td>6</td>\n",
       "      <td>7</td>\n",
       "      <td>8</td>\n",
       "      <td>9</td>\n",
       "      <td>10</td>\n",
       "      <td>11</td>\n",
       "      <td>12</td>\n",
       "      <td>8</td>\n",
       "      <td>9</td>\n",
       "      <td>...</td>\n",
       "      <td>10</td>\n",
       "      <td>9</td>\n",
       "      <td>10</td>\n",
       "      <td>11</td>\n",
       "      <td>12</td>\n",
       "      <td>8</td>\n",
       "      <td>9</td>\n",
       "      <td>10</td>\n",
       "      <td>11</td>\n",
       "      <td>12</td>\n",
       "    </tr>\n",
       "    <tr>\n",
       "      <th>calls</th>\n",
       "      <td>22</td>\n",
       "      <td>43</td>\n",
       "      <td>47</td>\n",
       "      <td>52</td>\n",
       "      <td>58</td>\n",
       "      <td>57</td>\n",
       "      <td>43</td>\n",
       "      <td>46</td>\n",
       "      <td>55</td>\n",
       "      <td>134</td>\n",
       "      <td>...</td>\n",
       "      <td>41</td>\n",
       "      <td>9</td>\n",
       "      <td>68</td>\n",
       "      <td>74</td>\n",
       "      <td>69</td>\n",
       "      <td>0</td>\n",
       "      <td>0</td>\n",
       "      <td>0</td>\n",
       "      <td>0</td>\n",
       "      <td>0</td>\n",
       "    </tr>\n",
       "    <tr>\n",
       "      <th>calls_duration</th>\n",
       "      <td>159</td>\n",
       "      <td>172</td>\n",
       "      <td>340</td>\n",
       "      <td>408</td>\n",
       "      <td>466</td>\n",
       "      <td>350</td>\n",
       "      <td>338</td>\n",
       "      <td>333</td>\n",
       "      <td>380</td>\n",
       "      <td>961</td>\n",
       "      <td>...</td>\n",
       "      <td>247</td>\n",
       "      <td>70</td>\n",
       "      <td>449</td>\n",
       "      <td>612</td>\n",
       "      <td>492</td>\n",
       "      <td>0</td>\n",
       "      <td>0</td>\n",
       "      <td>0</td>\n",
       "      <td>0</td>\n",
       "      <td>0</td>\n",
       "    </tr>\n",
       "    <tr>\n",
       "      <th>messages</th>\n",
       "      <td>22</td>\n",
       "      <td>60</td>\n",
       "      <td>75</td>\n",
       "      <td>81</td>\n",
       "      <td>57</td>\n",
       "      <td>73</td>\n",
       "      <td>58</td>\n",
       "      <td>70</td>\n",
       "      <td>37</td>\n",
       "      <td>91</td>\n",
       "      <td>...</td>\n",
       "      <td>42</td>\n",
       "      <td>11</td>\n",
       "      <td>48</td>\n",
       "      <td>59</td>\n",
       "      <td>66</td>\n",
       "      <td>17</td>\n",
       "      <td>32</td>\n",
       "      <td>21</td>\n",
       "      <td>20</td>\n",
       "      <td>35</td>\n",
       "    </tr>\n",
       "    <tr>\n",
       "      <th>gb_used</th>\n",
       "      <td>3</td>\n",
       "      <td>23</td>\n",
       "      <td>14</td>\n",
       "      <td>14</td>\n",
       "      <td>15</td>\n",
       "      <td>15</td>\n",
       "      <td>15</td>\n",
       "      <td>10</td>\n",
       "      <td>9</td>\n",
       "      <td>13</td>\n",
       "      <td>...</td>\n",
       "      <td>21</td>\n",
       "      <td>2</td>\n",
       "      <td>18</td>\n",
       "      <td>18</td>\n",
       "      <td>13</td>\n",
       "      <td>11</td>\n",
       "      <td>17</td>\n",
       "      <td>20</td>\n",
       "      <td>18</td>\n",
       "      <td>17</td>\n",
       "    </tr>\n",
       "    <tr>\n",
       "      <th>city</th>\n",
       "      <td>Краснодар</td>\n",
       "      <td>Краснодар</td>\n",
       "      <td>Краснодар</td>\n",
       "      <td>Краснодар</td>\n",
       "      <td>Краснодар</td>\n",
       "      <td>Краснодар</td>\n",
       "      <td>Краснодар</td>\n",
       "      <td>Краснодар</td>\n",
       "      <td>Москва</td>\n",
       "      <td>Москва</td>\n",
       "      <td>...</td>\n",
       "      <td>Владикавказ</td>\n",
       "      <td>Пермь</td>\n",
       "      <td>Пермь</td>\n",
       "      <td>Пермь</td>\n",
       "      <td>Пермь</td>\n",
       "      <td>Санкт-Петербург</td>\n",
       "      <td>Санкт-Петербург</td>\n",
       "      <td>Санкт-Петербург</td>\n",
       "      <td>Санкт-Петербург</td>\n",
       "      <td>Санкт-Петербург</td>\n",
       "    </tr>\n",
       "    <tr>\n",
       "      <th>tariff</th>\n",
       "      <td>ultra</td>\n",
       "      <td>ultra</td>\n",
       "      <td>ultra</td>\n",
       "      <td>ultra</td>\n",
       "      <td>ultra</td>\n",
       "      <td>ultra</td>\n",
       "      <td>ultra</td>\n",
       "      <td>ultra</td>\n",
       "      <td>ultra</td>\n",
       "      <td>ultra</td>\n",
       "      <td>...</td>\n",
       "      <td>smart</td>\n",
       "      <td>smart</td>\n",
       "      <td>smart</td>\n",
       "      <td>smart</td>\n",
       "      <td>smart</td>\n",
       "      <td>smart</td>\n",
       "      <td>smart</td>\n",
       "      <td>smart</td>\n",
       "      <td>smart</td>\n",
       "      <td>smart</td>\n",
       "    </tr>\n",
       "    <tr>\n",
       "      <th>messages_included</th>\n",
       "      <td>1000</td>\n",
       "      <td>1000</td>\n",
       "      <td>1000</td>\n",
       "      <td>1000</td>\n",
       "      <td>1000</td>\n",
       "      <td>1000</td>\n",
       "      <td>1000</td>\n",
       "      <td>1000</td>\n",
       "      <td>1000</td>\n",
       "      <td>1000</td>\n",
       "      <td>...</td>\n",
       "      <td>50</td>\n",
       "      <td>50</td>\n",
       "      <td>50</td>\n",
       "      <td>50</td>\n",
       "      <td>50</td>\n",
       "      <td>50</td>\n",
       "      <td>50</td>\n",
       "      <td>50</td>\n",
       "      <td>50</td>\n",
       "      <td>50</td>\n",
       "    </tr>\n",
       "    <tr>\n",
       "      <th>gb_per_month_included</th>\n",
       "      <td>30</td>\n",
       "      <td>30</td>\n",
       "      <td>30</td>\n",
       "      <td>30</td>\n",
       "      <td>30</td>\n",
       "      <td>30</td>\n",
       "      <td>30</td>\n",
       "      <td>30</td>\n",
       "      <td>30</td>\n",
       "      <td>30</td>\n",
       "      <td>...</td>\n",
       "      <td>15</td>\n",
       "      <td>15</td>\n",
       "      <td>15</td>\n",
       "      <td>15</td>\n",
       "      <td>15</td>\n",
       "      <td>15</td>\n",
       "      <td>15</td>\n",
       "      <td>15</td>\n",
       "      <td>15</td>\n",
       "      <td>15</td>\n",
       "    </tr>\n",
       "    <tr>\n",
       "      <th>minutes_included</th>\n",
       "      <td>3000</td>\n",
       "      <td>3000</td>\n",
       "      <td>3000</td>\n",
       "      <td>3000</td>\n",
       "      <td>3000</td>\n",
       "      <td>3000</td>\n",
       "      <td>3000</td>\n",
       "      <td>3000</td>\n",
       "      <td>3000</td>\n",
       "      <td>3000</td>\n",
       "      <td>...</td>\n",
       "      <td>500</td>\n",
       "      <td>500</td>\n",
       "      <td>500</td>\n",
       "      <td>500</td>\n",
       "      <td>500</td>\n",
       "      <td>500</td>\n",
       "      <td>500</td>\n",
       "      <td>500</td>\n",
       "      <td>500</td>\n",
       "      <td>500</td>\n",
       "    </tr>\n",
       "    <tr>\n",
       "      <th>rub_monthly_fee</th>\n",
       "      <td>1950</td>\n",
       "      <td>1950</td>\n",
       "      <td>1950</td>\n",
       "      <td>1950</td>\n",
       "      <td>1950</td>\n",
       "      <td>1950</td>\n",
       "      <td>1950</td>\n",
       "      <td>1950</td>\n",
       "      <td>1950</td>\n",
       "      <td>1950</td>\n",
       "      <td>...</td>\n",
       "      <td>550</td>\n",
       "      <td>550</td>\n",
       "      <td>550</td>\n",
       "      <td>550</td>\n",
       "      <td>550</td>\n",
       "      <td>550</td>\n",
       "      <td>550</td>\n",
       "      <td>550</td>\n",
       "      <td>550</td>\n",
       "      <td>550</td>\n",
       "    </tr>\n",
       "    <tr>\n",
       "      <th>rub_per_gb</th>\n",
       "      <td>150</td>\n",
       "      <td>150</td>\n",
       "      <td>150</td>\n",
       "      <td>150</td>\n",
       "      <td>150</td>\n",
       "      <td>150</td>\n",
       "      <td>150</td>\n",
       "      <td>150</td>\n",
       "      <td>150</td>\n",
       "      <td>150</td>\n",
       "      <td>...</td>\n",
       "      <td>200</td>\n",
       "      <td>200</td>\n",
       "      <td>200</td>\n",
       "      <td>200</td>\n",
       "      <td>200</td>\n",
       "      <td>200</td>\n",
       "      <td>200</td>\n",
       "      <td>200</td>\n",
       "      <td>200</td>\n",
       "      <td>200</td>\n",
       "    </tr>\n",
       "    <tr>\n",
       "      <th>rub_per_message</th>\n",
       "      <td>1</td>\n",
       "      <td>1</td>\n",
       "      <td>1</td>\n",
       "      <td>1</td>\n",
       "      <td>1</td>\n",
       "      <td>1</td>\n",
       "      <td>1</td>\n",
       "      <td>1</td>\n",
       "      <td>1</td>\n",
       "      <td>1</td>\n",
       "      <td>...</td>\n",
       "      <td>3</td>\n",
       "      <td>3</td>\n",
       "      <td>3</td>\n",
       "      <td>3</td>\n",
       "      <td>3</td>\n",
       "      <td>3</td>\n",
       "      <td>3</td>\n",
       "      <td>3</td>\n",
       "      <td>3</td>\n",
       "      <td>3</td>\n",
       "    </tr>\n",
       "    <tr>\n",
       "      <th>rub_per_minute</th>\n",
       "      <td>1</td>\n",
       "      <td>1</td>\n",
       "      <td>1</td>\n",
       "      <td>1</td>\n",
       "      <td>1</td>\n",
       "      <td>1</td>\n",
       "      <td>1</td>\n",
       "      <td>1</td>\n",
       "      <td>1</td>\n",
       "      <td>1</td>\n",
       "      <td>...</td>\n",
       "      <td>3</td>\n",
       "      <td>3</td>\n",
       "      <td>3</td>\n",
       "      <td>3</td>\n",
       "      <td>3</td>\n",
       "      <td>3</td>\n",
       "      <td>3</td>\n",
       "      <td>3</td>\n",
       "      <td>3</td>\n",
       "      <td>3</td>\n",
       "    </tr>\n",
       "    <tr>\n",
       "      <th>calls_income</th>\n",
       "      <td>-2841</td>\n",
       "      <td>-2828</td>\n",
       "      <td>-2660</td>\n",
       "      <td>-2592</td>\n",
       "      <td>-2534</td>\n",
       "      <td>-2650</td>\n",
       "      <td>-2662</td>\n",
       "      <td>-2667</td>\n",
       "      <td>-2620</td>\n",
       "      <td>-2039</td>\n",
       "      <td>...</td>\n",
       "      <td>-759</td>\n",
       "      <td>-1290</td>\n",
       "      <td>-153</td>\n",
       "      <td>336</td>\n",
       "      <td>-24</td>\n",
       "      <td>-1500</td>\n",
       "      <td>-1500</td>\n",
       "      <td>-1500</td>\n",
       "      <td>-1500</td>\n",
       "      <td>-1500</td>\n",
       "    </tr>\n",
       "    <tr>\n",
       "      <th>messages_income</th>\n",
       "      <td>-978</td>\n",
       "      <td>-940</td>\n",
       "      <td>-925</td>\n",
       "      <td>-919</td>\n",
       "      <td>-943</td>\n",
       "      <td>-927</td>\n",
       "      <td>-942</td>\n",
       "      <td>-930</td>\n",
       "      <td>-963</td>\n",
       "      <td>-909</td>\n",
       "      <td>...</td>\n",
       "      <td>-24</td>\n",
       "      <td>-117</td>\n",
       "      <td>-6</td>\n",
       "      <td>27</td>\n",
       "      <td>48</td>\n",
       "      <td>-99</td>\n",
       "      <td>-54</td>\n",
       "      <td>-87</td>\n",
       "      <td>-90</td>\n",
       "      <td>-45</td>\n",
       "    </tr>\n",
       "    <tr>\n",
       "      <th>internet_income</th>\n",
       "      <td>-4050</td>\n",
       "      <td>-1050</td>\n",
       "      <td>-2400</td>\n",
       "      <td>-2400</td>\n",
       "      <td>-2250</td>\n",
       "      <td>-2250</td>\n",
       "      <td>-2250</td>\n",
       "      <td>-3000</td>\n",
       "      <td>-3150</td>\n",
       "      <td>-2550</td>\n",
       "      <td>...</td>\n",
       "      <td>1200</td>\n",
       "      <td>-2600</td>\n",
       "      <td>600</td>\n",
       "      <td>600</td>\n",
       "      <td>-400</td>\n",
       "      <td>-800</td>\n",
       "      <td>400</td>\n",
       "      <td>1000</td>\n",
       "      <td>600</td>\n",
       "      <td>400</td>\n",
       "    </tr>\n",
       "    <tr>\n",
       "      <th>total_income</th>\n",
       "      <td>-5919</td>\n",
       "      <td>-2868</td>\n",
       "      <td>-4035</td>\n",
       "      <td>-3961</td>\n",
       "      <td>-3777</td>\n",
       "      <td>-3877</td>\n",
       "      <td>-3904</td>\n",
       "      <td>-4647</td>\n",
       "      <td>-4783</td>\n",
       "      <td>-3548</td>\n",
       "      <td>...</td>\n",
       "      <td>967</td>\n",
       "      <td>-3457</td>\n",
       "      <td>991</td>\n",
       "      <td>1513</td>\n",
       "      <td>174</td>\n",
       "      <td>-1849</td>\n",
       "      <td>-604</td>\n",
       "      <td>-37</td>\n",
       "      <td>-440</td>\n",
       "      <td>-595</td>\n",
       "    </tr>\n",
       "  </tbody>\n",
       "</table>\n",
       "<p>19 rows × 3214 columns</p>\n",
       "</div>"
      ],
      "text/plain": [
       "                            0          1          2          3          4     \\\n",
       "user_id                     1000       1000       1000       1000       1000   \n",
       "month                          5          6          7          8          9   \n",
       "calls                         22         43         47         52         58   \n",
       "calls_duration               159        172        340        408        466   \n",
       "messages                      22         60         75         81         57   \n",
       "gb_used                        3         23         14         14         15   \n",
       "city                   Краснодар  Краснодар  Краснодар  Краснодар  Краснодар   \n",
       "tariff                     ultra      ultra      ultra      ultra      ultra   \n",
       "messages_included           1000       1000       1000       1000       1000   \n",
       "gb_per_month_included         30         30         30         30         30   \n",
       "minutes_included            3000       3000       3000       3000       3000   \n",
       "rub_monthly_fee             1950       1950       1950       1950       1950   \n",
       "rub_per_gb                   150        150        150        150        150   \n",
       "rub_per_message                1          1          1          1          1   \n",
       "rub_per_minute                 1          1          1          1          1   \n",
       "calls_income               -2841      -2828      -2660      -2592      -2534   \n",
       "messages_income             -978       -940       -925       -919       -943   \n",
       "internet_income            -4050      -1050      -2400      -2400      -2250   \n",
       "total_income               -5919      -2868      -4035      -3961      -3777   \n",
       "\n",
       "                            5          6          7       8       9     ...  \\\n",
       "user_id                     1000       1000       1000    1003    1003  ...   \n",
       "month                         10         11         12       8       9  ...   \n",
       "calls                         57         43         46      55     134  ...   \n",
       "calls_duration               350        338        333     380     961  ...   \n",
       "messages                      73         58         70      37      91  ...   \n",
       "gb_used                       15         15         10       9      13  ...   \n",
       "city                   Краснодар  Краснодар  Краснодар  Москва  Москва  ...   \n",
       "tariff                     ultra      ultra      ultra   ultra   ultra  ...   \n",
       "messages_included           1000       1000       1000    1000    1000  ...   \n",
       "gb_per_month_included         30         30         30      30      30  ...   \n",
       "minutes_included            3000       3000       3000    3000    3000  ...   \n",
       "rub_monthly_fee             1950       1950       1950    1950    1950  ...   \n",
       "rub_per_gb                   150        150        150     150     150  ...   \n",
       "rub_per_message                1          1          1       1       1  ...   \n",
       "rub_per_minute                 1          1          1       1       1  ...   \n",
       "calls_income               -2650      -2662      -2667   -2620   -2039  ...   \n",
       "messages_income             -927       -942       -930    -963    -909  ...   \n",
       "internet_income            -2250      -2250      -3000   -3150   -2550  ...   \n",
       "total_income               -3877      -3904      -4647   -4783   -3548  ...   \n",
       "\n",
       "                              3204   3205   3206   3207   3208  \\\n",
       "user_id                       1498   1499   1499   1499   1499   \n",
       "month                           10      9     10     11     12   \n",
       "calls                           41      9     68     74     69   \n",
       "calls_duration                 247     70    449    612    492   \n",
       "messages                        42     11     48     59     66   \n",
       "gb_used                         21      2     18     18     13   \n",
       "city                   Владикавказ  Пермь  Пермь  Пермь  Пермь   \n",
       "tariff                       smart  smart  smart  smart  smart   \n",
       "messages_included               50     50     50     50     50   \n",
       "gb_per_month_included           15     15     15     15     15   \n",
       "minutes_included               500    500    500    500    500   \n",
       "rub_monthly_fee                550    550    550    550    550   \n",
       "rub_per_gb                     200    200    200    200    200   \n",
       "rub_per_message                  3      3      3      3      3   \n",
       "rub_per_minute                   3      3      3      3      3   \n",
       "calls_income                  -759  -1290   -153    336    -24   \n",
       "messages_income                -24   -117     -6     27     48   \n",
       "internet_income               1200  -2600    600    600   -400   \n",
       "total_income                   967  -3457    991   1513    174   \n",
       "\n",
       "                                  3209             3210             3211  \\\n",
       "user_id                           1489             1489             1489   \n",
       "month                                8                9               10   \n",
       "calls                                0                0                0   \n",
       "calls_duration                       0                0                0   \n",
       "messages                            17               32               21   \n",
       "gb_used                             11               17               20   \n",
       "city                   Санкт-Петербург  Санкт-Петербург  Санкт-Петербург   \n",
       "tariff                           smart            smart            smart   \n",
       "messages_included                   50               50               50   \n",
       "gb_per_month_included               15               15               15   \n",
       "minutes_included                   500              500              500   \n",
       "rub_monthly_fee                    550              550              550   \n",
       "rub_per_gb                         200              200              200   \n",
       "rub_per_message                      3                3                3   \n",
       "rub_per_minute                       3                3                3   \n",
       "calls_income                     -1500            -1500            -1500   \n",
       "messages_income                    -99              -54              -87   \n",
       "internet_income                   -800              400             1000   \n",
       "total_income                     -1849             -604              -37   \n",
       "\n",
       "                                  3212             3213  \n",
       "user_id                           1489             1489  \n",
       "month                               11               12  \n",
       "calls                                0                0  \n",
       "calls_duration                       0                0  \n",
       "messages                            20               35  \n",
       "gb_used                             18               17  \n",
       "city                   Санкт-Петербург  Санкт-Петербург  \n",
       "tariff                           smart            smart  \n",
       "messages_included                   50               50  \n",
       "gb_per_month_included               15               15  \n",
       "minutes_included                   500              500  \n",
       "rub_monthly_fee                    550              550  \n",
       "rub_per_gb                         200              200  \n",
       "rub_per_message                      3                3  \n",
       "rub_per_minute                       3                3  \n",
       "calls_income                     -1500            -1500  \n",
       "messages_income                    -90              -45  \n",
       "internet_income                    600              400  \n",
       "total_income                      -440             -595  \n",
       "\n",
       "[19 rows x 3214 columns]"
      ]
     },
     "execution_count": 48,
     "metadata": {},
     "output_type": "execute_result"
    }
   ],
   "source": [
    "users_tariff.T"
   ]
  },
  {
   "cell_type": "markdown",
   "metadata": {},
   "source": [
    "Провели все необходимые расчеты для каждого пользователя по месяцам:  \n",
    "- Посчитали выручку за потребление услуг связи сверх пакета;  \n",
    "- Обнулили данные там, где в результате расчетов были получкны отрицательные значения, так как в этом случае пакет не был израсходован и дополнительной выручки абонент не принес;  \n",
    "- Создали новый столбец с общей вырчкой. Там, где не было расходов сверх пакета, выручка равна абонентской плате за тариф."
   ]
  },
  {
   "cell_type": "markdown",
   "metadata": {},
   "source": [
    "## Анализ данных"
   ]
  },
  {
   "cell_type": "code",
   "execution_count": 49,
   "metadata": {
    "scrolled": true
   },
   "outputs": [
    {
     "data": {
      "text/html": [
       "<div>\n",
       "<style scoped>\n",
       "    .dataframe tbody tr th:only-of-type {\n",
       "        vertical-align: middle;\n",
       "    }\n",
       "\n",
       "    .dataframe tbody tr th {\n",
       "        vertical-align: top;\n",
       "    }\n",
       "\n",
       "    .dataframe thead th {\n",
       "        text-align: right;\n",
       "    }\n",
       "</style>\n",
       "<table border=\"1\" class=\"dataframe\">\n",
       "  <thead>\n",
       "    <tr style=\"text-align: right;\">\n",
       "      <th></th>\n",
       "      <th>user_id</th>\n",
       "      <th>month</th>\n",
       "      <th>calls</th>\n",
       "      <th>calls_duration</th>\n",
       "      <th>messages</th>\n",
       "      <th>gb_used</th>\n",
       "      <th>city</th>\n",
       "      <th>tariff</th>\n",
       "      <th>messages_included</th>\n",
       "      <th>gb_per_month_included</th>\n",
       "      <th>minutes_included</th>\n",
       "      <th>rub_monthly_fee</th>\n",
       "      <th>rub_per_gb</th>\n",
       "      <th>rub_per_message</th>\n",
       "      <th>rub_per_minute</th>\n",
       "      <th>calls_income</th>\n",
       "      <th>messages_income</th>\n",
       "      <th>internet_income</th>\n",
       "      <th>total_income</th>\n",
       "    </tr>\n",
       "  </thead>\n",
       "  <tbody>\n",
       "    <tr>\n",
       "      <th>0</th>\n",
       "      <td>1000</td>\n",
       "      <td>5</td>\n",
       "      <td>22</td>\n",
       "      <td>159</td>\n",
       "      <td>22</td>\n",
       "      <td>3</td>\n",
       "      <td>Краснодар</td>\n",
       "      <td>ultra</td>\n",
       "      <td>1000</td>\n",
       "      <td>30</td>\n",
       "      <td>3000</td>\n",
       "      <td>1950</td>\n",
       "      <td>150</td>\n",
       "      <td>1</td>\n",
       "      <td>1</td>\n",
       "      <td>-2841</td>\n",
       "      <td>-978</td>\n",
       "      <td>-4050</td>\n",
       "      <td>-5919</td>\n",
       "    </tr>\n",
       "    <tr>\n",
       "      <th>1</th>\n",
       "      <td>1000</td>\n",
       "      <td>6</td>\n",
       "      <td>43</td>\n",
       "      <td>172</td>\n",
       "      <td>60</td>\n",
       "      <td>23</td>\n",
       "      <td>Краснодар</td>\n",
       "      <td>ultra</td>\n",
       "      <td>1000</td>\n",
       "      <td>30</td>\n",
       "      <td>3000</td>\n",
       "      <td>1950</td>\n",
       "      <td>150</td>\n",
       "      <td>1</td>\n",
       "      <td>1</td>\n",
       "      <td>-2828</td>\n",
       "      <td>-940</td>\n",
       "      <td>-1050</td>\n",
       "      <td>-2868</td>\n",
       "    </tr>\n",
       "    <tr>\n",
       "      <th>2</th>\n",
       "      <td>1000</td>\n",
       "      <td>7</td>\n",
       "      <td>47</td>\n",
       "      <td>340</td>\n",
       "      <td>75</td>\n",
       "      <td>14</td>\n",
       "      <td>Краснодар</td>\n",
       "      <td>ultra</td>\n",
       "      <td>1000</td>\n",
       "      <td>30</td>\n",
       "      <td>3000</td>\n",
       "      <td>1950</td>\n",
       "      <td>150</td>\n",
       "      <td>1</td>\n",
       "      <td>1</td>\n",
       "      <td>-2660</td>\n",
       "      <td>-925</td>\n",
       "      <td>-2400</td>\n",
       "      <td>-4035</td>\n",
       "    </tr>\n",
       "    <tr>\n",
       "      <th>3</th>\n",
       "      <td>1000</td>\n",
       "      <td>8</td>\n",
       "      <td>52</td>\n",
       "      <td>408</td>\n",
       "      <td>81</td>\n",
       "      <td>14</td>\n",
       "      <td>Краснодар</td>\n",
       "      <td>ultra</td>\n",
       "      <td>1000</td>\n",
       "      <td>30</td>\n",
       "      <td>3000</td>\n",
       "      <td>1950</td>\n",
       "      <td>150</td>\n",
       "      <td>1</td>\n",
       "      <td>1</td>\n",
       "      <td>-2592</td>\n",
       "      <td>-919</td>\n",
       "      <td>-2400</td>\n",
       "      <td>-3961</td>\n",
       "    </tr>\n",
       "    <tr>\n",
       "      <th>4</th>\n",
       "      <td>1000</td>\n",
       "      <td>9</td>\n",
       "      <td>58</td>\n",
       "      <td>466</td>\n",
       "      <td>57</td>\n",
       "      <td>15</td>\n",
       "      <td>Краснодар</td>\n",
       "      <td>ultra</td>\n",
       "      <td>1000</td>\n",
       "      <td>30</td>\n",
       "      <td>3000</td>\n",
       "      <td>1950</td>\n",
       "      <td>150</td>\n",
       "      <td>1</td>\n",
       "      <td>1</td>\n",
       "      <td>-2534</td>\n",
       "      <td>-943</td>\n",
       "      <td>-2250</td>\n",
       "      <td>-3777</td>\n",
       "    </tr>\n",
       "    <tr>\n",
       "      <th>...</th>\n",
       "      <td>...</td>\n",
       "      <td>...</td>\n",
       "      <td>...</td>\n",
       "      <td>...</td>\n",
       "      <td>...</td>\n",
       "      <td>...</td>\n",
       "      <td>...</td>\n",
       "      <td>...</td>\n",
       "      <td>...</td>\n",
       "      <td>...</td>\n",
       "      <td>...</td>\n",
       "      <td>...</td>\n",
       "      <td>...</td>\n",
       "      <td>...</td>\n",
       "      <td>...</td>\n",
       "      <td>...</td>\n",
       "      <td>...</td>\n",
       "      <td>...</td>\n",
       "      <td>...</td>\n",
       "    </tr>\n",
       "    <tr>\n",
       "      <th>3209</th>\n",
       "      <td>1489</td>\n",
       "      <td>8</td>\n",
       "      <td>0</td>\n",
       "      <td>0</td>\n",
       "      <td>17</td>\n",
       "      <td>11</td>\n",
       "      <td>Санкт-Петербург</td>\n",
       "      <td>smart</td>\n",
       "      <td>50</td>\n",
       "      <td>15</td>\n",
       "      <td>500</td>\n",
       "      <td>550</td>\n",
       "      <td>200</td>\n",
       "      <td>3</td>\n",
       "      <td>3</td>\n",
       "      <td>-1500</td>\n",
       "      <td>-99</td>\n",
       "      <td>-800</td>\n",
       "      <td>-1849</td>\n",
       "    </tr>\n",
       "    <tr>\n",
       "      <th>3210</th>\n",
       "      <td>1489</td>\n",
       "      <td>9</td>\n",
       "      <td>0</td>\n",
       "      <td>0</td>\n",
       "      <td>32</td>\n",
       "      <td>17</td>\n",
       "      <td>Санкт-Петербург</td>\n",
       "      <td>smart</td>\n",
       "      <td>50</td>\n",
       "      <td>15</td>\n",
       "      <td>500</td>\n",
       "      <td>550</td>\n",
       "      <td>200</td>\n",
       "      <td>3</td>\n",
       "      <td>3</td>\n",
       "      <td>-1500</td>\n",
       "      <td>-54</td>\n",
       "      <td>400</td>\n",
       "      <td>-604</td>\n",
       "    </tr>\n",
       "    <tr>\n",
       "      <th>3211</th>\n",
       "      <td>1489</td>\n",
       "      <td>10</td>\n",
       "      <td>0</td>\n",
       "      <td>0</td>\n",
       "      <td>21</td>\n",
       "      <td>20</td>\n",
       "      <td>Санкт-Петербург</td>\n",
       "      <td>smart</td>\n",
       "      <td>50</td>\n",
       "      <td>15</td>\n",
       "      <td>500</td>\n",
       "      <td>550</td>\n",
       "      <td>200</td>\n",
       "      <td>3</td>\n",
       "      <td>3</td>\n",
       "      <td>-1500</td>\n",
       "      <td>-87</td>\n",
       "      <td>1000</td>\n",
       "      <td>-37</td>\n",
       "    </tr>\n",
       "    <tr>\n",
       "      <th>3212</th>\n",
       "      <td>1489</td>\n",
       "      <td>11</td>\n",
       "      <td>0</td>\n",
       "      <td>0</td>\n",
       "      <td>20</td>\n",
       "      <td>18</td>\n",
       "      <td>Санкт-Петербург</td>\n",
       "      <td>smart</td>\n",
       "      <td>50</td>\n",
       "      <td>15</td>\n",
       "      <td>500</td>\n",
       "      <td>550</td>\n",
       "      <td>200</td>\n",
       "      <td>3</td>\n",
       "      <td>3</td>\n",
       "      <td>-1500</td>\n",
       "      <td>-90</td>\n",
       "      <td>600</td>\n",
       "      <td>-440</td>\n",
       "    </tr>\n",
       "    <tr>\n",
       "      <th>3213</th>\n",
       "      <td>1489</td>\n",
       "      <td>12</td>\n",
       "      <td>0</td>\n",
       "      <td>0</td>\n",
       "      <td>35</td>\n",
       "      <td>17</td>\n",
       "      <td>Санкт-Петербург</td>\n",
       "      <td>smart</td>\n",
       "      <td>50</td>\n",
       "      <td>15</td>\n",
       "      <td>500</td>\n",
       "      <td>550</td>\n",
       "      <td>200</td>\n",
       "      <td>3</td>\n",
       "      <td>3</td>\n",
       "      <td>-1500</td>\n",
       "      <td>-45</td>\n",
       "      <td>400</td>\n",
       "      <td>-595</td>\n",
       "    </tr>\n",
       "  </tbody>\n",
       "</table>\n",
       "<p>3214 rows × 19 columns</p>\n",
       "</div>"
      ],
      "text/plain": [
       "      user_id  month  calls  calls_duration  messages  gb_used  \\\n",
       "0        1000      5     22             159        22        3   \n",
       "1        1000      6     43             172        60       23   \n",
       "2        1000      7     47             340        75       14   \n",
       "3        1000      8     52             408        81       14   \n",
       "4        1000      9     58             466        57       15   \n",
       "...       ...    ...    ...             ...       ...      ...   \n",
       "3209     1489      8      0               0        17       11   \n",
       "3210     1489      9      0               0        32       17   \n",
       "3211     1489     10      0               0        21       20   \n",
       "3212     1489     11      0               0        20       18   \n",
       "3213     1489     12      0               0        35       17   \n",
       "\n",
       "                 city tariff  messages_included  gb_per_month_included  \\\n",
       "0           Краснодар  ultra               1000                     30   \n",
       "1           Краснодар  ultra               1000                     30   \n",
       "2           Краснодар  ultra               1000                     30   \n",
       "3           Краснодар  ultra               1000                     30   \n",
       "4           Краснодар  ultra               1000                     30   \n",
       "...               ...    ...                ...                    ...   \n",
       "3209  Санкт-Петербург  smart                 50                     15   \n",
       "3210  Санкт-Петербург  smart                 50                     15   \n",
       "3211  Санкт-Петербург  smart                 50                     15   \n",
       "3212  Санкт-Петербург  smart                 50                     15   \n",
       "3213  Санкт-Петербург  smart                 50                     15   \n",
       "\n",
       "      minutes_included  rub_monthly_fee  rub_per_gb  rub_per_message  \\\n",
       "0                 3000             1950         150                1   \n",
       "1                 3000             1950         150                1   \n",
       "2                 3000             1950         150                1   \n",
       "3                 3000             1950         150                1   \n",
       "4                 3000             1950         150                1   \n",
       "...                ...              ...         ...              ...   \n",
       "3209               500              550         200                3   \n",
       "3210               500              550         200                3   \n",
       "3211               500              550         200                3   \n",
       "3212               500              550         200                3   \n",
       "3213               500              550         200                3   \n",
       "\n",
       "      rub_per_minute  calls_income  messages_income  internet_income  \\\n",
       "0                  1         -2841             -978            -4050   \n",
       "1                  1         -2828             -940            -1050   \n",
       "2                  1         -2660             -925            -2400   \n",
       "3                  1         -2592             -919            -2400   \n",
       "4                  1         -2534             -943            -2250   \n",
       "...              ...           ...              ...              ...   \n",
       "3209               3         -1500              -99             -800   \n",
       "3210               3         -1500              -54              400   \n",
       "3211               3         -1500              -87             1000   \n",
       "3212               3         -1500              -90              600   \n",
       "3213               3         -1500              -45              400   \n",
       "\n",
       "      total_income  \n",
       "0            -5919  \n",
       "1            -2868  \n",
       "2            -4035  \n",
       "3            -3961  \n",
       "4            -3777  \n",
       "...            ...  \n",
       "3209         -1849  \n",
       "3210          -604  \n",
       "3211           -37  \n",
       "3212          -440  \n",
       "3213          -595  \n",
       "\n",
       "[3214 rows x 19 columns]"
      ]
     },
     "execution_count": 49,
     "metadata": {},
     "output_type": "execute_result"
    }
   ],
   "source": [
    "users_tariff"
   ]
  },
  {
   "cell_type": "code",
   "execution_count": 50,
   "metadata": {},
   "outputs": [
    {
     "data": {
      "image/png": "[encoded data removed]",
      "text/plain": [
       "<Figure size 432x288 with 1 Axes>"
      ]
     },
     "metadata": {},
     "output_type": "display_data"
    }
   ],
   "source": [
    "users_tariff.groupby('tariff')['user_id'].count().plot(\n",
    "    kind = 'pie', title = 'Соотношение тарифов')\n",
    "plt.ylabel('Количество абнентов')\n",
    "plt.show()"
   ]
  },
  {
   "cell_type": "code",
   "execution_count": 51,
   "metadata": {},
   "outputs": [],
   "source": [
    "users_tariff_smart = users_tariff.query('tariff == \"smart\"')\n",
    "\n",
    "users_tariff_ultra = users_tariff.query('tariff == \"ultra\"')"
   ]
  },
  {
   "cell_type": "markdown",
   "metadata": {},
   "source": [
    "На круговой диаграмме видно соотношение абонентов разных тарифов.  \n",
    "Выделили две таблицы по тарифам."
   ]
  },
  {
   "cell_type": "code",
   "execution_count": 52,
   "metadata": {},
   "outputs": [],
   "source": [
    "def visual(data, name, kind, x, y):\n",
    "    data.plot(kind = kind)\n",
    "    plt.title(name)\n",
    "    plt.ylabel(y)\n",
    "    plt.xlabel(x)\n",
    "    return plt.show()"
   ]
  },
  {
   "cell_type": "code",
   "execution_count": 55,
   "metadata": {},
   "outputs": [
    {
     "data": {
      "image/png": "[encoded data removed]",
      "text/plain": [
       "<Figure size 432x288 with 1 Axes>"
      ]
     },
     "metadata": {
      "needs_background": "light"
     },
     "output_type": "display_data"
    },
    {
     "data": {
      "image/png": "[encoded data removed]",
      "text/plain": [
       "<Figure size 432x288 with 1 Axes>"
      ]
     },
     "metadata": {
      "needs_background": "light"
     },
     "output_type": "display_data"
    }
   ],
   "source": [
    "visual(\n",
    "    users_tariff_smart.groupby('month')['user_id'].count(), \n",
    "    'Рост количества абонентов по месяцам на тарифе Смарт', \n",
    "    'bar', 'Месяц', 'Количество абонентов')\n",
    "\n",
    "visual(\n",
    "    users_tariff_ultra.groupby('month')['user_id'].count(), \n",
    "    'Рост количества абонентов по месяцам на тарифе Ультра', \n",
    "    'bar', 'Месяц', 'Количество абонентов')"
   ]
  },
  {
   "cell_type": "markdown",
   "metadata": {},
   "source": [
    "На графиках видно, что количество абонентов по каждому тарифу увеличивалось с каждым месяцем."
   ]
  },
  {
   "cell_type": "code",
   "execution_count": 53,
   "metadata": {},
   "outputs": [
    {
     "data": {
      "image/png": "[encoded data removed]",
      "text/plain": [
       "<Figure size 432x288 with 1 Axes>"
      ]
     },
     "metadata": {
      "needs_background": "light"
     },
     "output_type": "display_data"
    },
    {
     "data": {
      "image/png": "[encoded data removed]",
      "text/plain": [
       "<Figure size 432x288 with 1 Axes>"
      ]
     },
     "metadata": {
      "needs_background": "light"
     },
     "output_type": "display_data"
    }
   ],
   "source": [
    "visual(\n",
    "    users_tariff_smart['calls_duration'], \n",
    "    'Распределение длительности звонков на тарифе Смарт, мин', \n",
    "    'hist', 'Длительность звонков', 'Количество абонентов')\n",
    "\n",
    "visual(\n",
    "    users_tariff_ultra['calls_duration'], \n",
    "    'Распределение длительности звонков на тарифе Ультра, мин', \n",
    "    'hist', 'Длительность звонков', 'Количество абонентов', )"
   ]
  },
  {
   "cell_type": "code",
   "execution_count": 54,
   "metadata": {},
   "outputs": [
    {
     "data": {
      "text/html": [
       "<div>\n",
       "<style scoped>\n",
       "    .dataframe tbody tr th:only-of-type {\n",
       "        vertical-align: middle;\n",
       "    }\n",
       "\n",
       "    .dataframe tbody tr th {\n",
       "        vertical-align: top;\n",
       "    }\n",
       "\n",
       "    .dataframe thead th {\n",
       "        text-align: right;\n",
       "    }\n",
       "</style>\n",
       "<table border=\"1\" class=\"dataframe\">\n",
       "  <thead>\n",
       "    <tr style=\"text-align: right;\">\n",
       "      <th>month</th>\n",
       "      <th>1</th>\n",
       "      <th>2</th>\n",
       "      <th>3</th>\n",
       "      <th>4</th>\n",
       "      <th>5</th>\n",
       "      <th>6</th>\n",
       "      <th>7</th>\n",
       "      <th>8</th>\n",
       "      <th>9</th>\n",
       "      <th>10</th>\n",
       "      <th>11</th>\n",
       "      <th>12</th>\n",
       "    </tr>\n",
       "  </thead>\n",
       "  <tbody>\n",
       "    <tr>\n",
       "      <th>count</th>\n",
       "      <td>34.000000</td>\n",
       "      <td>58.000000</td>\n",
       "      <td>77.000000</td>\n",
       "      <td>112.000000</td>\n",
       "      <td>141.000000</td>\n",
       "      <td>164.000000</td>\n",
       "      <td>201.000000</td>\n",
       "      <td>235.000000</td>\n",
       "      <td>260.000000</td>\n",
       "      <td>294.000000</td>\n",
       "      <td>316.000000</td>\n",
       "      <td>337.000000</td>\n",
       "    </tr>\n",
       "    <tr>\n",
       "      <th>mean</th>\n",
       "      <td>203.852941</td>\n",
       "      <td>298.689655</td>\n",
       "      <td>390.051948</td>\n",
       "      <td>367.133929</td>\n",
       "      <td>387.361702</td>\n",
       "      <td>395.640244</td>\n",
       "      <td>408.353234</td>\n",
       "      <td>421.468085</td>\n",
       "      <td>428.611538</td>\n",
       "      <td>426.136054</td>\n",
       "      <td>435.265823</td>\n",
       "      <td>478.560831</td>\n",
       "    </tr>\n",
       "    <tr>\n",
       "      <th>std</th>\n",
       "      <td>154.231454</td>\n",
       "      <td>190.820041</td>\n",
       "      <td>191.893604</td>\n",
       "      <td>186.489161</td>\n",
       "      <td>186.601343</td>\n",
       "      <td>175.336587</td>\n",
       "      <td>179.583601</td>\n",
       "      <td>186.530382</td>\n",
       "      <td>183.126576</td>\n",
       "      <td>188.128510</td>\n",
       "      <td>177.778618</td>\n",
       "      <td>199.245131</td>\n",
       "    </tr>\n",
       "    <tr>\n",
       "      <th>min</th>\n",
       "      <td>0.000000</td>\n",
       "      <td>2.000000</td>\n",
       "      <td>13.000000</td>\n",
       "      <td>0.000000</td>\n",
       "      <td>2.000000</td>\n",
       "      <td>0.000000</td>\n",
       "      <td>2.000000</td>\n",
       "      <td>0.000000</td>\n",
       "      <td>0.000000</td>\n",
       "      <td>0.000000</td>\n",
       "      <td>0.000000</td>\n",
       "      <td>0.000000</td>\n",
       "    </tr>\n",
       "    <tr>\n",
       "      <th>25%</th>\n",
       "      <td>78.250000</td>\n",
       "      <td>137.000000</td>\n",
       "      <td>234.000000</td>\n",
       "      <td>222.000000</td>\n",
       "      <td>213.000000</td>\n",
       "      <td>272.750000</td>\n",
       "      <td>281.000000</td>\n",
       "      <td>287.500000</td>\n",
       "      <td>297.250000</td>\n",
       "      <td>296.250000</td>\n",
       "      <td>310.750000</td>\n",
       "      <td>340.000000</td>\n",
       "    </tr>\n",
       "    <tr>\n",
       "      <th>50%</th>\n",
       "      <td>162.500000</td>\n",
       "      <td>258.000000</td>\n",
       "      <td>409.000000</td>\n",
       "      <td>368.500000</td>\n",
       "      <td>433.000000</td>\n",
       "      <td>400.000000</td>\n",
       "      <td>414.000000</td>\n",
       "      <td>432.000000</td>\n",
       "      <td>435.000000</td>\n",
       "      <td>427.500000</td>\n",
       "      <td>428.500000</td>\n",
       "      <td>471.000000</td>\n",
       "    </tr>\n",
       "    <tr>\n",
       "      <th>75%</th>\n",
       "      <td>325.250000</td>\n",
       "      <td>457.500000</td>\n",
       "      <td>530.000000</td>\n",
       "      <td>493.500000</td>\n",
       "      <td>512.000000</td>\n",
       "      <td>521.000000</td>\n",
       "      <td>535.000000</td>\n",
       "      <td>537.500000</td>\n",
       "      <td>549.000000</td>\n",
       "      <td>549.000000</td>\n",
       "      <td>554.250000</td>\n",
       "      <td>600.000000</td>\n",
       "    </tr>\n",
       "    <tr>\n",
       "      <th>max</th>\n",
       "      <td>551.000000</td>\n",
       "      <td>747.000000</td>\n",
       "      <td>822.000000</td>\n",
       "      <td>785.000000</td>\n",
       "      <td>820.000000</td>\n",
       "      <td>875.000000</td>\n",
       "      <td>839.000000</td>\n",
       "      <td>1000.000000</td>\n",
       "      <td>843.000000</td>\n",
       "      <td>1005.000000</td>\n",
       "      <td>954.000000</td>\n",
       "      <td>1435.000000</td>\n",
       "    </tr>\n",
       "  </tbody>\n",
       "</table>\n",
       "</div>"
      ],
      "text/plain": [
       "month          1           2           3           4           5           6   \\\n",
       "count   34.000000   58.000000   77.000000  112.000000  141.000000  164.000000   \n",
       "mean   203.852941  298.689655  390.051948  367.133929  387.361702  395.640244   \n",
       "std    154.231454  190.820041  191.893604  186.489161  186.601343  175.336587   \n",
       "min      0.000000    2.000000   13.000000    0.000000    2.000000    0.000000   \n",
       "25%     78.250000  137.000000  234.000000  222.000000  213.000000  272.750000   \n",
       "50%    162.500000  258.000000  409.000000  368.500000  433.000000  400.000000   \n",
       "75%    325.250000  457.500000  530.000000  493.500000  512.000000  521.000000   \n",
       "max    551.000000  747.000000  822.000000  785.000000  820.000000  875.000000   \n",
       "\n",
       "month          7            8           9            10          11  \\\n",
       "count  201.000000   235.000000  260.000000   294.000000  316.000000   \n",
       "mean   408.353234   421.468085  428.611538   426.136054  435.265823   \n",
       "std    179.583601   186.530382  183.126576   188.128510  177.778618   \n",
       "min      2.000000     0.000000    0.000000     0.000000    0.000000   \n",
       "25%    281.000000   287.500000  297.250000   296.250000  310.750000   \n",
       "50%    414.000000   432.000000  435.000000   427.500000  428.500000   \n",
       "75%    535.000000   537.500000  549.000000   549.000000  554.250000   \n",
       "max    839.000000  1000.000000  843.000000  1005.000000  954.000000   \n",
       "\n",
       "month           12  \n",
       "count   337.000000  \n",
       "mean    478.560831  \n",
       "std     199.245131  \n",
       "min       0.000000  \n",
       "25%     340.000000  \n",
       "50%     471.000000  \n",
       "75%     600.000000  \n",
       "max    1435.000000  "
      ]
     },
     "execution_count": 54,
     "metadata": {},
     "output_type": "execute_result"
    }
   ],
   "source": [
    "users_tariff_smart.groupby('month')['calls_duration'].describe().T"
   ]
  },
  {
   "cell_type": "code",
   "execution_count": 55,
   "metadata": {},
   "outputs": [
    {
     "data": {
      "text/html": [
       "<div>\n",
       "<style scoped>\n",
       "    .dataframe tbody tr th:only-of-type {\n",
       "        vertical-align: middle;\n",
       "    }\n",
       "\n",
       "    .dataframe tbody tr th {\n",
       "        vertical-align: top;\n",
       "    }\n",
       "\n",
       "    .dataframe thead th {\n",
       "        text-align: right;\n",
       "    }\n",
       "</style>\n",
       "<table border=\"1\" class=\"dataframe\">\n",
       "  <thead>\n",
       "    <tr style=\"text-align: right;\">\n",
       "      <th>month</th>\n",
       "      <th>1</th>\n",
       "      <th>2</th>\n",
       "      <th>3</th>\n",
       "      <th>4</th>\n",
       "      <th>5</th>\n",
       "      <th>6</th>\n",
       "      <th>7</th>\n",
       "      <th>8</th>\n",
       "      <th>9</th>\n",
       "      <th>10</th>\n",
       "      <th>11</th>\n",
       "      <th>12</th>\n",
       "    </tr>\n",
       "  </thead>\n",
       "  <tbody>\n",
       "    <tr>\n",
       "      <th>count</th>\n",
       "      <td>9.000000</td>\n",
       "      <td>24.000000</td>\n",
       "      <td>37.000000</td>\n",
       "      <td>55.000000</td>\n",
       "      <td>67.000000</td>\n",
       "      <td>84.000000</td>\n",
       "      <td>91.000000</td>\n",
       "      <td>107.000000</td>\n",
       "      <td>115.000000</td>\n",
       "      <td>123.000000</td>\n",
       "      <td>134.000000</td>\n",
       "      <td>139.000000</td>\n",
       "    </tr>\n",
       "    <tr>\n",
       "      <th>mean</th>\n",
       "      <td>428.111111</td>\n",
       "      <td>297.125000</td>\n",
       "      <td>489.648649</td>\n",
       "      <td>458.018182</td>\n",
       "      <td>510.328358</td>\n",
       "      <td>479.702381</td>\n",
       "      <td>545.791209</td>\n",
       "      <td>510.775701</td>\n",
       "      <td>539.443478</td>\n",
       "      <td>558.081301</td>\n",
       "      <td>541.380597</td>\n",
       "      <td>592.805755</td>\n",
       "    </tr>\n",
       "    <tr>\n",
       "      <th>std</th>\n",
       "      <td>269.757968</td>\n",
       "      <td>296.512528</td>\n",
       "      <td>333.743765</td>\n",
       "      <td>267.682405</td>\n",
       "      <td>289.603511</td>\n",
       "      <td>302.549081</td>\n",
       "      <td>307.119322</td>\n",
       "      <td>312.980026</td>\n",
       "      <td>325.141162</td>\n",
       "      <td>326.289110</td>\n",
       "      <td>310.757232</td>\n",
       "      <td>342.456321</td>\n",
       "    </tr>\n",
       "    <tr>\n",
       "      <th>min</th>\n",
       "      <td>55.000000</td>\n",
       "      <td>0.000000</td>\n",
       "      <td>92.000000</td>\n",
       "      <td>0.000000</td>\n",
       "      <td>0.000000</td>\n",
       "      <td>0.000000</td>\n",
       "      <td>0.000000</td>\n",
       "      <td>0.000000</td>\n",
       "      <td>0.000000</td>\n",
       "      <td>0.000000</td>\n",
       "      <td>0.000000</td>\n",
       "      <td>0.000000</td>\n",
       "    </tr>\n",
       "    <tr>\n",
       "      <th>25%</th>\n",
       "      <td>272.000000</td>\n",
       "      <td>59.500000</td>\n",
       "      <td>256.000000</td>\n",
       "      <td>278.000000</td>\n",
       "      <td>315.500000</td>\n",
       "      <td>233.250000</td>\n",
       "      <td>309.000000</td>\n",
       "      <td>278.500000</td>\n",
       "      <td>291.000000</td>\n",
       "      <td>328.000000</td>\n",
       "      <td>306.250000</td>\n",
       "      <td>333.000000</td>\n",
       "    </tr>\n",
       "    <tr>\n",
       "      <th>50%</th>\n",
       "      <td>382.000000</td>\n",
       "      <td>168.000000</td>\n",
       "      <td>403.000000</td>\n",
       "      <td>453.000000</td>\n",
       "      <td>519.000000</td>\n",
       "      <td>479.000000</td>\n",
       "      <td>542.000000</td>\n",
       "      <td>500.000000</td>\n",
       "      <td>520.000000</td>\n",
       "      <td>533.000000</td>\n",
       "      <td>546.000000</td>\n",
       "      <td>584.000000</td>\n",
       "    </tr>\n",
       "    <tr>\n",
       "      <th>75%</th>\n",
       "      <td>466.000000</td>\n",
       "      <td>516.750000</td>\n",
       "      <td>626.000000</td>\n",
       "      <td>632.500000</td>\n",
       "      <td>692.000000</td>\n",
       "      <td>692.750000</td>\n",
       "      <td>766.000000</td>\n",
       "      <td>738.000000</td>\n",
       "      <td>784.500000</td>\n",
       "      <td>804.500000</td>\n",
       "      <td>721.750000</td>\n",
       "      <td>821.500000</td>\n",
       "    </tr>\n",
       "    <tr>\n",
       "      <th>max</th>\n",
       "      <td>861.000000</td>\n",
       "      <td>919.000000</td>\n",
       "      <td>1609.000000</td>\n",
       "      <td>1096.000000</td>\n",
       "      <td>1232.000000</td>\n",
       "      <td>1410.000000</td>\n",
       "      <td>1311.000000</td>\n",
       "      <td>1321.000000</td>\n",
       "      <td>1297.000000</td>\n",
       "      <td>1401.000000</td>\n",
       "      <td>1257.000000</td>\n",
       "      <td>1673.000000</td>\n",
       "    </tr>\n",
       "  </tbody>\n",
       "</table>\n",
       "</div>"
      ],
      "text/plain": [
       "month          1           2            3            4            5   \\\n",
       "count    9.000000   24.000000    37.000000    55.000000    67.000000   \n",
       "mean   428.111111  297.125000   489.648649   458.018182   510.328358   \n",
       "std    269.757968  296.512528   333.743765   267.682405   289.603511   \n",
       "min     55.000000    0.000000    92.000000     0.000000     0.000000   \n",
       "25%    272.000000   59.500000   256.000000   278.000000   315.500000   \n",
       "50%    382.000000  168.000000   403.000000   453.000000   519.000000   \n",
       "75%    466.000000  516.750000   626.000000   632.500000   692.000000   \n",
       "max    861.000000  919.000000  1609.000000  1096.000000  1232.000000   \n",
       "\n",
       "month           6            7            8            9            10  \\\n",
       "count    84.000000    91.000000   107.000000   115.000000   123.000000   \n",
       "mean    479.702381   545.791209   510.775701   539.443478   558.081301   \n",
       "std     302.549081   307.119322   312.980026   325.141162   326.289110   \n",
       "min       0.000000     0.000000     0.000000     0.000000     0.000000   \n",
       "25%     233.250000   309.000000   278.500000   291.000000   328.000000   \n",
       "50%     479.000000   542.000000   500.000000   520.000000   533.000000   \n",
       "75%     692.750000   766.000000   738.000000   784.500000   804.500000   \n",
       "max    1410.000000  1311.000000  1321.000000  1297.000000  1401.000000   \n",
       "\n",
       "month           11           12  \n",
       "count   134.000000   139.000000  \n",
       "mean    541.380597   592.805755  \n",
       "std     310.757232   342.456321  \n",
       "min       0.000000     0.000000  \n",
       "25%     306.250000   333.000000  \n",
       "50%     546.000000   584.000000  \n",
       "75%     721.750000   821.500000  \n",
       "max    1257.000000  1673.000000  "
      ]
     },
     "execution_count": 55,
     "metadata": {},
     "output_type": "execute_result"
    }
   ],
   "source": [
    "users_tariff_ultra.groupby('month')['calls_duration'].describe().T"
   ]
  },
  {
   "cell_type": "code",
   "execution_count": 56,
   "metadata": {},
   "outputs": [
    {
     "data": {
      "image/png": "[encoded data removed]",
      "text/plain": [
       "<Figure size 432x288 with 1 Axes>"
      ]
     },
     "metadata": {
      "needs_background": "light"
     },
     "output_type": "display_data"
    },
    {
     "data": {
      "image/png": "[encoded data removed]",
      "text/plain": [
       "<Figure size 432x288 with 1 Axes>"
      ]
     },
     "metadata": {
      "needs_background": "light"
     },
     "output_type": "display_data"
    }
   ],
   "source": [
    "visual(\n",
    "    users_tariff_smart.pivot_table(\n",
    "    index = 'month', values = 'calls_duration'), \n",
    "    'Средняя продолжительность звонков по месяцам на тарифе Смарт, мин', \n",
    "    'bar', 'Месяц', 'Длительность звонков')\n",
    "\n",
    "visual(\n",
    "    users_tariff_ultra.pivot_table(\n",
    "    index = 'month', values = 'calls_duration'), \n",
    "    'Средняя продолжительность звонков по месяцам на тарифе Ультра, мин', \n",
    "    'bar', 'Месяц', 'Длительность звонков')"
   ]
  },
  {
   "cell_type": "markdown",
   "metadata": {},
   "source": [
    "Распределение длительности звонков на двух тарифах стремится к нормальному.  \n",
    "Абоненты с тарифом Смарт чаще проговаривуют около 450 минут в месяц. Совсем редко тратят больше 800 минут в месяц. Абоненты с тарифом Ультра чаще проговаривают чуть больше 550 минут.\n",
    "От месяца к месяцу среднее количтво использованных минут растет на обоих тарифах."
   ]
  },
  {
   "cell_type": "code",
   "execution_count": 57,
   "metadata": {},
   "outputs": [
    {
     "data": {
      "image/png": "[encoded data removed]",
      "text/plain": [
       "<Figure size 432x288 with 1 Axes>"
      ]
     },
     "metadata": {
      "needs_background": "light"
     },
     "output_type": "display_data"
    },
    {
     "data": {
      "image/png": "[encoded data removed]",
      "text/plain": [
       "<Figure size 432x288 with 1 Axes>"
      ]
     },
     "metadata": {
      "needs_background": "light"
     },
     "output_type": "display_data"
    }
   ],
   "source": [
    "visual(\n",
    "    users_tariff_smart['messages'], \n",
    "    'Количество сообщений на тарифе Смарт, шт', \n",
    "    'hist', 'Количество сообщений', 'Количество абонентов')\n",
    "\n",
    "visual(\n",
    "    users_tariff_ultra['messages'], \n",
    "    'Количество сообщений на тарифе Ультра, шт', \n",
    "    'hist', 'Количество сообщений', 'Количество абонентов')"
   ]
  },
  {
   "cell_type": "code",
   "execution_count": 61,
   "metadata": {},
   "outputs": [
    {
     "data": {
      "image/png": "[encoded data removed]",
      "text/plain": [
       "<Figure size 432x288 with 1 Axes>"
      ]
     },
     "metadata": {
      "needs_background": "light"
     },
     "output_type": "display_data"
    },
    {
     "data": {
      "image/png": "[encoded data removed]",
      "text/plain": [
       "<Figure size 432x288 with 1 Axes>"
      ]
     },
     "metadata": {
      "needs_background": "light"
     },
     "output_type": "display_data"
    }
   ],
   "source": [
    "visual(\n",
    "    users_tariff_smart[users_tariff_smart['messages'] > 0]['messages'], \n",
    "    'Количество сообщений на тарифе Смарт, шт', \n",
    "    'hist', 'Количество сообщений', 'Количество абонентов')\n",
    "\n",
    "visual(\n",
    "    users_tariff_ultra[users_tariff_ultra['messages'] > 0]['messages'], \n",
    "    'Количество сообщений на тарифе Ультра, шт', \n",
    "    'hist', 'Количество сообщений', 'Количество абонентов')"
   ]
  },
  {
   "cell_type": "code",
   "execution_count": 58,
   "metadata": {},
   "outputs": [
    {
     "data": {
      "text/html": [
       "<div>\n",
       "<style scoped>\n",
       "    .dataframe tbody tr th:only-of-type {\n",
       "        vertical-align: middle;\n",
       "    }\n",
       "\n",
       "    .dataframe tbody tr th {\n",
       "        vertical-align: top;\n",
       "    }\n",
       "\n",
       "    .dataframe thead th {\n",
       "        text-align: right;\n",
       "    }\n",
       "</style>\n",
       "<table border=\"1\" class=\"dataframe\">\n",
       "  <thead>\n",
       "    <tr style=\"text-align: right;\">\n",
       "      <th>month</th>\n",
       "      <th>1</th>\n",
       "      <th>2</th>\n",
       "      <th>3</th>\n",
       "      <th>4</th>\n",
       "      <th>5</th>\n",
       "      <th>6</th>\n",
       "      <th>7</th>\n",
       "      <th>8</th>\n",
       "      <th>9</th>\n",
       "      <th>10</th>\n",
       "      <th>11</th>\n",
       "      <th>12</th>\n",
       "    </tr>\n",
       "  </thead>\n",
       "  <tbody>\n",
       "    <tr>\n",
       "      <th>count</th>\n",
       "      <td>34.000000</td>\n",
       "      <td>58.000000</td>\n",
       "      <td>77.000000</td>\n",
       "      <td>112.000000</td>\n",
       "      <td>141.000000</td>\n",
       "      <td>164.000000</td>\n",
       "      <td>201.000000</td>\n",
       "      <td>235.000000</td>\n",
       "      <td>260.000000</td>\n",
       "      <td>294.000000</td>\n",
       "      <td>316.000000</td>\n",
       "      <td>337.000000</td>\n",
       "    </tr>\n",
       "    <tr>\n",
       "      <th>mean</th>\n",
       "      <td>18.235294</td>\n",
       "      <td>24.086207</td>\n",
       "      <td>31.857143</td>\n",
       "      <td>30.741071</td>\n",
       "      <td>33.773050</td>\n",
       "      <td>33.402439</td>\n",
       "      <td>33.751244</td>\n",
       "      <td>33.638298</td>\n",
       "      <td>33.638462</td>\n",
       "      <td>33.765306</td>\n",
       "      <td>34.075949</td>\n",
       "      <td>35.994065</td>\n",
       "    </tr>\n",
       "    <tr>\n",
       "      <th>std</th>\n",
       "      <td>16.197753</td>\n",
       "      <td>21.750809</td>\n",
       "      <td>26.804710</td>\n",
       "      <td>24.538532</td>\n",
       "      <td>27.036845</td>\n",
       "      <td>28.404337</td>\n",
       "      <td>28.282288</td>\n",
       "      <td>28.952677</td>\n",
       "      <td>28.117927</td>\n",
       "      <td>28.567673</td>\n",
       "      <td>28.389031</td>\n",
       "      <td>30.576990</td>\n",
       "    </tr>\n",
       "    <tr>\n",
       "      <th>min</th>\n",
       "      <td>0.000000</td>\n",
       "      <td>0.000000</td>\n",
       "      <td>0.000000</td>\n",
       "      <td>0.000000</td>\n",
       "      <td>0.000000</td>\n",
       "      <td>0.000000</td>\n",
       "      <td>0.000000</td>\n",
       "      <td>0.000000</td>\n",
       "      <td>0.000000</td>\n",
       "      <td>0.000000</td>\n",
       "      <td>0.000000</td>\n",
       "      <td>0.000000</td>\n",
       "    </tr>\n",
       "    <tr>\n",
       "      <th>25%</th>\n",
       "      <td>6.250000</td>\n",
       "      <td>6.000000</td>\n",
       "      <td>11.000000</td>\n",
       "      <td>9.750000</td>\n",
       "      <td>11.000000</td>\n",
       "      <td>9.750000</td>\n",
       "      <td>10.000000</td>\n",
       "      <td>11.000000</td>\n",
       "      <td>10.000000</td>\n",
       "      <td>10.000000</td>\n",
       "      <td>11.000000</td>\n",
       "      <td>11.000000</td>\n",
       "    </tr>\n",
       "    <tr>\n",
       "      <th>50%</th>\n",
       "      <td>15.000000</td>\n",
       "      <td>20.000000</td>\n",
       "      <td>23.000000</td>\n",
       "      <td>28.000000</td>\n",
       "      <td>30.000000</td>\n",
       "      <td>28.000000</td>\n",
       "      <td>29.000000</td>\n",
       "      <td>27.000000</td>\n",
       "      <td>30.000000</td>\n",
       "      <td>30.000000</td>\n",
       "      <td>28.000000</td>\n",
       "      <td>29.000000</td>\n",
       "    </tr>\n",
       "    <tr>\n",
       "      <th>75%</th>\n",
       "      <td>28.000000</td>\n",
       "      <td>38.000000</td>\n",
       "      <td>48.000000</td>\n",
       "      <td>47.000000</td>\n",
       "      <td>50.000000</td>\n",
       "      <td>51.000000</td>\n",
       "      <td>52.000000</td>\n",
       "      <td>51.000000</td>\n",
       "      <td>50.250000</td>\n",
       "      <td>51.000000</td>\n",
       "      <td>51.250000</td>\n",
       "      <td>55.000000</td>\n",
       "    </tr>\n",
       "    <tr>\n",
       "      <th>max</th>\n",
       "      <td>74.000000</td>\n",
       "      <td>85.000000</td>\n",
       "      <td>110.000000</td>\n",
       "      <td>105.000000</td>\n",
       "      <td>103.000000</td>\n",
       "      <td>134.000000</td>\n",
       "      <td>137.000000</td>\n",
       "      <td>134.000000</td>\n",
       "      <td>136.000000</td>\n",
       "      <td>139.000000</td>\n",
       "      <td>124.000000</td>\n",
       "      <td>143.000000</td>\n",
       "    </tr>\n",
       "  </tbody>\n",
       "</table>\n",
       "</div>"
      ],
      "text/plain": [
       "month         1          2           3           4           5           6   \\\n",
       "count  34.000000  58.000000   77.000000  112.000000  141.000000  164.000000   \n",
       "mean   18.235294  24.086207   31.857143   30.741071   33.773050   33.402439   \n",
       "std    16.197753  21.750809   26.804710   24.538532   27.036845   28.404337   \n",
       "min     0.000000   0.000000    0.000000    0.000000    0.000000    0.000000   \n",
       "25%     6.250000   6.000000   11.000000    9.750000   11.000000    9.750000   \n",
       "50%    15.000000  20.000000   23.000000   28.000000   30.000000   28.000000   \n",
       "75%    28.000000  38.000000   48.000000   47.000000   50.000000   51.000000   \n",
       "max    74.000000  85.000000  110.000000  105.000000  103.000000  134.000000   \n",
       "\n",
       "month          7           8           9           10          11          12  \n",
       "count  201.000000  235.000000  260.000000  294.000000  316.000000  337.000000  \n",
       "mean    33.751244   33.638298   33.638462   33.765306   34.075949   35.994065  \n",
       "std     28.282288   28.952677   28.117927   28.567673   28.389031   30.576990  \n",
       "min      0.000000    0.000000    0.000000    0.000000    0.000000    0.000000  \n",
       "25%     10.000000   11.000000   10.000000   10.000000   11.000000   11.000000  \n",
       "50%     29.000000   27.000000   30.000000   30.000000   28.000000   29.000000  \n",
       "75%     52.000000   51.000000   50.250000   51.000000   51.250000   55.000000  \n",
       "max    137.000000  134.000000  136.000000  139.000000  124.000000  143.000000  "
      ]
     },
     "execution_count": 58,
     "metadata": {},
     "output_type": "execute_result"
    }
   ],
   "source": [
    "users_tariff_smart.groupby('month')['messages'].describe().T"
   ]
  },
  {
   "cell_type": "code",
   "execution_count": 59,
   "metadata": {},
   "outputs": [
    {
     "data": {
      "text/html": [
       "<div>\n",
       "<style scoped>\n",
       "    .dataframe tbody tr th:only-of-type {\n",
       "        vertical-align: middle;\n",
       "    }\n",
       "\n",
       "    .dataframe tbody tr th {\n",
       "        vertical-align: top;\n",
       "    }\n",
       "\n",
       "    .dataframe thead th {\n",
       "        text-align: right;\n",
       "    }\n",
       "</style>\n",
       "<table border=\"1\" class=\"dataframe\">\n",
       "  <thead>\n",
       "    <tr style=\"text-align: right;\">\n",
       "      <th>month</th>\n",
       "      <th>1</th>\n",
       "      <th>2</th>\n",
       "      <th>3</th>\n",
       "      <th>4</th>\n",
       "      <th>5</th>\n",
       "      <th>6</th>\n",
       "      <th>7</th>\n",
       "      <th>8</th>\n",
       "      <th>9</th>\n",
       "      <th>10</th>\n",
       "      <th>11</th>\n",
       "      <th>12</th>\n",
       "    </tr>\n",
       "  </thead>\n",
       "  <tbody>\n",
       "    <tr>\n",
       "      <th>count</th>\n",
       "      <td>9.000000</td>\n",
       "      <td>24.000000</td>\n",
       "      <td>37.000000</td>\n",
       "      <td>55.000000</td>\n",
       "      <td>67.000000</td>\n",
       "      <td>84.000000</td>\n",
       "      <td>91.000000</td>\n",
       "      <td>107.000000</td>\n",
       "      <td>115.000000</td>\n",
       "      <td>123.000000</td>\n",
       "      <td>134.000000</td>\n",
       "      <td>139.000000</td>\n",
       "    </tr>\n",
       "    <tr>\n",
       "      <th>mean</th>\n",
       "      <td>33.777778</td>\n",
       "      <td>21.958333</td>\n",
       "      <td>32.297297</td>\n",
       "      <td>31.563636</td>\n",
       "      <td>37.850746</td>\n",
       "      <td>41.726190</td>\n",
       "      <td>49.846154</td>\n",
       "      <td>48.439252</td>\n",
       "      <td>52.286957</td>\n",
       "      <td>58.430894</td>\n",
       "      <td>55.791045</td>\n",
       "      <td>60.611511</td>\n",
       "    </tr>\n",
       "    <tr>\n",
       "      <th>std</th>\n",
       "      <td>30.670742</td>\n",
       "      <td>26.773574</td>\n",
       "      <td>41.621886</td>\n",
       "      <td>37.513831</td>\n",
       "      <td>40.306874</td>\n",
       "      <td>44.567899</td>\n",
       "      <td>48.703621</td>\n",
       "      <td>46.601923</td>\n",
       "      <td>46.398874</td>\n",
       "      <td>51.934398</td>\n",
       "      <td>49.768951</td>\n",
       "      <td>51.787821</td>\n",
       "    </tr>\n",
       "    <tr>\n",
       "      <th>min</th>\n",
       "      <td>0.000000</td>\n",
       "      <td>0.000000</td>\n",
       "      <td>0.000000</td>\n",
       "      <td>0.000000</td>\n",
       "      <td>0.000000</td>\n",
       "      <td>0.000000</td>\n",
       "      <td>0.000000</td>\n",
       "      <td>0.000000</td>\n",
       "      <td>0.000000</td>\n",
       "      <td>0.000000</td>\n",
       "      <td>0.000000</td>\n",
       "      <td>0.000000</td>\n",
       "    </tr>\n",
       "    <tr>\n",
       "      <th>25%</th>\n",
       "      <td>4.000000</td>\n",
       "      <td>0.000000</td>\n",
       "      <td>0.000000</td>\n",
       "      <td>0.000000</td>\n",
       "      <td>2.000000</td>\n",
       "      <td>5.500000</td>\n",
       "      <td>4.500000</td>\n",
       "      <td>6.500000</td>\n",
       "      <td>11.000000</td>\n",
       "      <td>11.000000</td>\n",
       "      <td>14.250000</td>\n",
       "      <td>20.000000</td>\n",
       "    </tr>\n",
       "    <tr>\n",
       "      <th>50%</th>\n",
       "      <td>32.000000</td>\n",
       "      <td>5.500000</td>\n",
       "      <td>20.000000</td>\n",
       "      <td>17.000000</td>\n",
       "      <td>25.000000</td>\n",
       "      <td>27.500000</td>\n",
       "      <td>38.000000</td>\n",
       "      <td>40.000000</td>\n",
       "      <td>43.000000</td>\n",
       "      <td>49.000000</td>\n",
       "      <td>43.000000</td>\n",
       "      <td>51.000000</td>\n",
       "    </tr>\n",
       "    <tr>\n",
       "      <th>75%</th>\n",
       "      <td>57.000000</td>\n",
       "      <td>45.500000</td>\n",
       "      <td>54.000000</td>\n",
       "      <td>53.000000</td>\n",
       "      <td>55.000000</td>\n",
       "      <td>62.000000</td>\n",
       "      <td>75.000000</td>\n",
       "      <td>78.000000</td>\n",
       "      <td>82.000000</td>\n",
       "      <td>94.000000</td>\n",
       "      <td>86.500000</td>\n",
       "      <td>87.000000</td>\n",
       "    </tr>\n",
       "    <tr>\n",
       "      <th>max</th>\n",
       "      <td>75.000000</td>\n",
       "      <td>90.000000</td>\n",
       "      <td>155.000000</td>\n",
       "      <td>143.000000</td>\n",
       "      <td>148.000000</td>\n",
       "      <td>201.000000</td>\n",
       "      <td>211.000000</td>\n",
       "      <td>180.000000</td>\n",
       "      <td>188.000000</td>\n",
       "      <td>223.000000</td>\n",
       "      <td>197.000000</td>\n",
       "      <td>224.000000</td>\n",
       "    </tr>\n",
       "  </tbody>\n",
       "</table>\n",
       "</div>"
      ],
      "text/plain": [
       "month         1          2           3           4           5           6   \\\n",
       "count   9.000000  24.000000   37.000000   55.000000   67.000000   84.000000   \n",
       "mean   33.777778  21.958333   32.297297   31.563636   37.850746   41.726190   \n",
       "std    30.670742  26.773574   41.621886   37.513831   40.306874   44.567899   \n",
       "min     0.000000   0.000000    0.000000    0.000000    0.000000    0.000000   \n",
       "25%     4.000000   0.000000    0.000000    0.000000    2.000000    5.500000   \n",
       "50%    32.000000   5.500000   20.000000   17.000000   25.000000   27.500000   \n",
       "75%    57.000000  45.500000   54.000000   53.000000   55.000000   62.000000   \n",
       "max    75.000000  90.000000  155.000000  143.000000  148.000000  201.000000   \n",
       "\n",
       "month          7           8           9           10          11          12  \n",
       "count   91.000000  107.000000  115.000000  123.000000  134.000000  139.000000  \n",
       "mean    49.846154   48.439252   52.286957   58.430894   55.791045   60.611511  \n",
       "std     48.703621   46.601923   46.398874   51.934398   49.768951   51.787821  \n",
       "min      0.000000    0.000000    0.000000    0.000000    0.000000    0.000000  \n",
       "25%      4.500000    6.500000   11.000000   11.000000   14.250000   20.000000  \n",
       "50%     38.000000   40.000000   43.000000   49.000000   43.000000   51.000000  \n",
       "75%     75.000000   78.000000   82.000000   94.000000   86.500000   87.000000  \n",
       "max    211.000000  180.000000  188.000000  223.000000  197.000000  224.000000  "
      ]
     },
     "execution_count": 59,
     "metadata": {},
     "output_type": "execute_result"
    }
   ],
   "source": [
    "users_tariff_ultra.groupby('month')['messages'].describe().T"
   ]
  },
  {
   "cell_type": "code",
   "execution_count": 60,
   "metadata": {},
   "outputs": [
    {
     "data": {
      "image/png": "[encoded data removed]",
      "text/plain": [
       "<Figure size 432x288 with 1 Axes>"
      ]
     },
     "metadata": {
      "needs_background": "light"
     },
     "output_type": "display_data"
    },
    {
     "data": {
      "image/png": "[encoded data removed]",
      "text/plain": [
       "<Figure size 432x288 with 1 Axes>"
      ]
     },
     "metadata": {
      "needs_background": "light"
     },
     "output_type": "display_data"
    }
   ],
   "source": [
    "visual(\n",
    "    users_tariff_smart.pivot_table(\n",
    "    index = 'month', values = 'messages'), \n",
    "    'Количество сообщений по месяцам на тарифе Смарт, шт', \n",
    "    'bar', 'Месяц', 'Количество сообщений')\n",
    "\n",
    "visual(\n",
    "    users_tariff_ultra.pivot_table(\n",
    "    index = 'month', values = 'messages'), \n",
    "    'Количество сообщений по месяцам на тарифе Ультра, мин', \n",
    "    'bar', 'Месяц', 'Количество сообщений')"
   ]
  },
  {
   "cell_type": "markdown",
   "metadata": {},
   "source": [
    "Среди абонентов каждого тарифа есть те, кто вообще не пользуется текстовыми сообщениями. На тарифе Смарт чаще используют в месяц около 20-30 сообщений, на тарифе Ультра - около 40-50.  \n",
    "По месяцам в среднем количство сообщений на тарифе Смарт почти не меняется с мая, значительный рост есть только в декабре.  \n",
    "На тарифе Ульра среднее значение растет с небольшими колебаниями. "
   ]
  },
  {
   "cell_type": "code",
   "execution_count": 61,
   "metadata": {},
   "outputs": [
    {
     "data": {
      "image/png": "[encoded data removed]",
      "text/plain": [
       "<Figure size 432x288 with 1 Axes>"
      ]
     },
     "metadata": {
      "needs_background": "light"
     },
     "output_type": "display_data"
    },
    {
     "data": {
      "image/png": "[encoded data removed]",
      "text/plain": [
       "<Figure size 432x288 with 1 Axes>"
      ]
     },
     "metadata": {
      "needs_background": "light"
     },
     "output_type": "display_data"
    }
   ],
   "source": [
    "visual(\n",
    "    users_tariff_smart['gb_used'], \n",
    "    'Использование интернета на тарифе Смарт, Гб', \n",
    "    'hist', 'Объем трафика', 'Количество абонентов')\n",
    "\n",
    "visual(\n",
    "    users_tariff_ultra['gb_used'], \n",
    "    'Использование интернета на тарифе Ультра, Гб', \n",
    "    'hist', 'Объем трафика', 'Количество абонентов')"
   ]
  },
  {
   "cell_type": "code",
   "execution_count": 62,
   "metadata": {},
   "outputs": [
    {
     "data": {
      "text/html": [
       "<div>\n",
       "<style scoped>\n",
       "    .dataframe tbody tr th:only-of-type {\n",
       "        vertical-align: middle;\n",
       "    }\n",
       "\n",
       "    .dataframe tbody tr th {\n",
       "        vertical-align: top;\n",
       "    }\n",
       "\n",
       "    .dataframe thead th {\n",
       "        text-align: right;\n",
       "    }\n",
       "</style>\n",
       "<table border=\"1\" class=\"dataframe\">\n",
       "  <thead>\n",
       "    <tr style=\"text-align: right;\">\n",
       "      <th>month</th>\n",
       "      <th>1</th>\n",
       "      <th>2</th>\n",
       "      <th>3</th>\n",
       "      <th>4</th>\n",
       "      <th>5</th>\n",
       "      <th>6</th>\n",
       "      <th>7</th>\n",
       "      <th>8</th>\n",
       "      <th>9</th>\n",
       "      <th>10</th>\n",
       "      <th>11</th>\n",
       "      <th>12</th>\n",
       "    </tr>\n",
       "  </thead>\n",
       "  <tbody>\n",
       "    <tr>\n",
       "      <th>count</th>\n",
       "      <td>34.000000</td>\n",
       "      <td>58.000000</td>\n",
       "      <td>77.000000</td>\n",
       "      <td>112.0000</td>\n",
       "      <td>141.000000</td>\n",
       "      <td>164.000000</td>\n",
       "      <td>201.000000</td>\n",
       "      <td>235.000000</td>\n",
       "      <td>260.000000</td>\n",
       "      <td>294.000000</td>\n",
       "      <td>316.000000</td>\n",
       "      <td>337.000000</td>\n",
       "    </tr>\n",
       "    <tr>\n",
       "      <th>mean</th>\n",
       "      <td>8.735294</td>\n",
       "      <td>11.844828</td>\n",
       "      <td>15.233766</td>\n",
       "      <td>13.6250</td>\n",
       "      <td>15.907801</td>\n",
       "      <td>15.951220</td>\n",
       "      <td>15.875622</td>\n",
       "      <td>16.736170</td>\n",
       "      <td>16.392308</td>\n",
       "      <td>16.880952</td>\n",
       "      <td>17.000000</td>\n",
       "      <td>18.201780</td>\n",
       "    </tr>\n",
       "    <tr>\n",
       "      <th>std</th>\n",
       "      <td>6.277950</td>\n",
       "      <td>6.095157</td>\n",
       "      <td>5.705252</td>\n",
       "      <td>5.5946</td>\n",
       "      <td>5.862594</td>\n",
       "      <td>5.649046</td>\n",
       "      <td>5.780956</td>\n",
       "      <td>5.480986</td>\n",
       "      <td>5.087643</td>\n",
       "      <td>5.735594</td>\n",
       "      <td>5.213535</td>\n",
       "      <td>5.457705</td>\n",
       "    </tr>\n",
       "    <tr>\n",
       "      <th>min</th>\n",
       "      <td>1.000000</td>\n",
       "      <td>1.000000</td>\n",
       "      <td>2.000000</td>\n",
       "      <td>1.0000</td>\n",
       "      <td>1.000000</td>\n",
       "      <td>1.000000</td>\n",
       "      <td>1.000000</td>\n",
       "      <td>0.000000</td>\n",
       "      <td>1.000000</td>\n",
       "      <td>0.000000</td>\n",
       "      <td>1.000000</td>\n",
       "      <td>5.000000</td>\n",
       "    </tr>\n",
       "    <tr>\n",
       "      <th>25%</th>\n",
       "      <td>3.250000</td>\n",
       "      <td>8.000000</td>\n",
       "      <td>11.000000</td>\n",
       "      <td>9.7500</td>\n",
       "      <td>13.000000</td>\n",
       "      <td>12.750000</td>\n",
       "      <td>12.000000</td>\n",
       "      <td>13.500000</td>\n",
       "      <td>13.000000</td>\n",
       "      <td>14.000000</td>\n",
       "      <td>14.000000</td>\n",
       "      <td>15.000000</td>\n",
       "    </tr>\n",
       "    <tr>\n",
       "      <th>50%</th>\n",
       "      <td>7.000000</td>\n",
       "      <td>13.000000</td>\n",
       "      <td>16.000000</td>\n",
       "      <td>14.0000</td>\n",
       "      <td>16.000000</td>\n",
       "      <td>16.000000</td>\n",
       "      <td>16.000000</td>\n",
       "      <td>17.000000</td>\n",
       "      <td>16.000000</td>\n",
       "      <td>17.000000</td>\n",
       "      <td>17.000000</td>\n",
       "      <td>18.000000</td>\n",
       "    </tr>\n",
       "    <tr>\n",
       "      <th>75%</th>\n",
       "      <td>11.750000</td>\n",
       "      <td>15.000000</td>\n",
       "      <td>20.000000</td>\n",
       "      <td>18.0000</td>\n",
       "      <td>20.000000</td>\n",
       "      <td>20.000000</td>\n",
       "      <td>20.000000</td>\n",
       "      <td>20.000000</td>\n",
       "      <td>20.000000</td>\n",
       "      <td>21.000000</td>\n",
       "      <td>20.000000</td>\n",
       "      <td>22.000000</td>\n",
       "    </tr>\n",
       "    <tr>\n",
       "      <th>max</th>\n",
       "      <td>24.000000</td>\n",
       "      <td>28.000000</td>\n",
       "      <td>25.000000</td>\n",
       "      <td>27.0000</td>\n",
       "      <td>30.000000</td>\n",
       "      <td>34.000000</td>\n",
       "      <td>29.000000</td>\n",
       "      <td>31.000000</td>\n",
       "      <td>31.000000</td>\n",
       "      <td>32.000000</td>\n",
       "      <td>36.000000</td>\n",
       "      <td>38.000000</td>\n",
       "    </tr>\n",
       "  </tbody>\n",
       "</table>\n",
       "</div>"
      ],
      "text/plain": [
       "month         1          2          3         4           5           6   \\\n",
       "count  34.000000  58.000000  77.000000  112.0000  141.000000  164.000000   \n",
       "mean    8.735294  11.844828  15.233766   13.6250   15.907801   15.951220   \n",
       "std     6.277950   6.095157   5.705252    5.5946    5.862594    5.649046   \n",
       "min     1.000000   1.000000   2.000000    1.0000    1.000000    1.000000   \n",
       "25%     3.250000   8.000000  11.000000    9.7500   13.000000   12.750000   \n",
       "50%     7.000000  13.000000  16.000000   14.0000   16.000000   16.000000   \n",
       "75%    11.750000  15.000000  20.000000   18.0000   20.000000   20.000000   \n",
       "max    24.000000  28.000000  25.000000   27.0000   30.000000   34.000000   \n",
       "\n",
       "month          7           8           9           10          11          12  \n",
       "count  201.000000  235.000000  260.000000  294.000000  316.000000  337.000000  \n",
       "mean    15.875622   16.736170   16.392308   16.880952   17.000000   18.201780  \n",
       "std      5.780956    5.480986    5.087643    5.735594    5.213535    5.457705  \n",
       "min      1.000000    0.000000    1.000000    0.000000    1.000000    5.000000  \n",
       "25%     12.000000   13.500000   13.000000   14.000000   14.000000   15.000000  \n",
       "50%     16.000000   17.000000   16.000000   17.000000   17.000000   18.000000  \n",
       "75%     20.000000   20.000000   20.000000   21.000000   20.000000   22.000000  \n",
       "max     29.000000   31.000000   31.000000   32.000000   36.000000   38.000000  "
      ]
     },
     "execution_count": 62,
     "metadata": {},
     "output_type": "execute_result"
    }
   ],
   "source": [
    "users_tariff_smart.groupby('month')['gb_used'].describe().T"
   ]
  },
  {
   "cell_type": "code",
   "execution_count": 63,
   "metadata": {},
   "outputs": [
    {
     "data": {
      "text/html": [
       "<div>\n",
       "<style scoped>\n",
       "    .dataframe tbody tr th:only-of-type {\n",
       "        vertical-align: middle;\n",
       "    }\n",
       "\n",
       "    .dataframe tbody tr th {\n",
       "        vertical-align: top;\n",
       "    }\n",
       "\n",
       "    .dataframe thead th {\n",
       "        text-align: right;\n",
       "    }\n",
       "</style>\n",
       "<table border=\"1\" class=\"dataframe\">\n",
       "  <thead>\n",
       "    <tr style=\"text-align: right;\">\n",
       "      <th>month</th>\n",
       "      <th>1</th>\n",
       "      <th>2</th>\n",
       "      <th>3</th>\n",
       "      <th>4</th>\n",
       "      <th>5</th>\n",
       "      <th>6</th>\n",
       "      <th>7</th>\n",
       "      <th>8</th>\n",
       "      <th>9</th>\n",
       "      <th>10</th>\n",
       "      <th>11</th>\n",
       "      <th>12</th>\n",
       "    </tr>\n",
       "  </thead>\n",
       "  <tbody>\n",
       "    <tr>\n",
       "      <th>count</th>\n",
       "      <td>9.000000</td>\n",
       "      <td>24.000000</td>\n",
       "      <td>37.000000</td>\n",
       "      <td>55.000000</td>\n",
       "      <td>67.000000</td>\n",
       "      <td>84.000000</td>\n",
       "      <td>91.000000</td>\n",
       "      <td>107.000000</td>\n",
       "      <td>115.000000</td>\n",
       "      <td>123.000000</td>\n",
       "      <td>134.000000</td>\n",
       "      <td>139.000000</td>\n",
       "    </tr>\n",
       "    <tr>\n",
       "      <th>mean</th>\n",
       "      <td>13.222222</td>\n",
       "      <td>12.000000</td>\n",
       "      <td>17.648649</td>\n",
       "      <td>16.963636</td>\n",
       "      <td>19.373134</td>\n",
       "      <td>18.940476</td>\n",
       "      <td>20.505495</td>\n",
       "      <td>19.598131</td>\n",
       "      <td>19.243478</td>\n",
       "      <td>20.065041</td>\n",
       "      <td>19.805970</td>\n",
       "      <td>21.741007</td>\n",
       "    </tr>\n",
       "    <tr>\n",
       "      <th>std</th>\n",
       "      <td>6.666667</td>\n",
       "      <td>10.446551</td>\n",
       "      <td>10.693238</td>\n",
       "      <td>9.457436</td>\n",
       "      <td>9.779130</td>\n",
       "      <td>9.077114</td>\n",
       "      <td>9.819905</td>\n",
       "      <td>10.254184</td>\n",
       "      <td>9.287410</td>\n",
       "      <td>9.552907</td>\n",
       "      <td>9.684867</td>\n",
       "      <td>10.160550</td>\n",
       "    </tr>\n",
       "    <tr>\n",
       "      <th>min</th>\n",
       "      <td>1.000000</td>\n",
       "      <td>0.000000</td>\n",
       "      <td>3.000000</td>\n",
       "      <td>1.000000</td>\n",
       "      <td>0.000000</td>\n",
       "      <td>0.000000</td>\n",
       "      <td>0.000000</td>\n",
       "      <td>0.000000</td>\n",
       "      <td>0.000000</td>\n",
       "      <td>0.000000</td>\n",
       "      <td>0.000000</td>\n",
       "      <td>0.000000</td>\n",
       "    </tr>\n",
       "    <tr>\n",
       "      <th>25%</th>\n",
       "      <td>8.000000</td>\n",
       "      <td>2.750000</td>\n",
       "      <td>7.000000</td>\n",
       "      <td>10.500000</td>\n",
       "      <td>12.500000</td>\n",
       "      <td>12.000000</td>\n",
       "      <td>14.000000</td>\n",
       "      <td>12.000000</td>\n",
       "      <td>12.000000</td>\n",
       "      <td>14.000000</td>\n",
       "      <td>12.250000</td>\n",
       "      <td>15.000000</td>\n",
       "    </tr>\n",
       "    <tr>\n",
       "      <th>50%</th>\n",
       "      <td>15.000000</td>\n",
       "      <td>7.500000</td>\n",
       "      <td>18.000000</td>\n",
       "      <td>17.000000</td>\n",
       "      <td>19.000000</td>\n",
       "      <td>19.500000</td>\n",
       "      <td>20.000000</td>\n",
       "      <td>19.000000</td>\n",
       "      <td>20.000000</td>\n",
       "      <td>20.000000</td>\n",
       "      <td>18.500000</td>\n",
       "      <td>22.000000</td>\n",
       "    </tr>\n",
       "    <tr>\n",
       "      <th>75%</th>\n",
       "      <td>19.000000</td>\n",
       "      <td>20.250000</td>\n",
       "      <td>28.000000</td>\n",
       "      <td>23.000000</td>\n",
       "      <td>27.000000</td>\n",
       "      <td>25.000000</td>\n",
       "      <td>27.000000</td>\n",
       "      <td>28.000000</td>\n",
       "      <td>26.500000</td>\n",
       "      <td>26.000000</td>\n",
       "      <td>27.000000</td>\n",
       "      <td>28.000000</td>\n",
       "    </tr>\n",
       "    <tr>\n",
       "      <th>max</th>\n",
       "      <td>20.000000</td>\n",
       "      <td>32.000000</td>\n",
       "      <td>37.000000</td>\n",
       "      <td>37.000000</td>\n",
       "      <td>43.000000</td>\n",
       "      <td>42.000000</td>\n",
       "      <td>45.000000</td>\n",
       "      <td>48.000000</td>\n",
       "      <td>42.000000</td>\n",
       "      <td>49.000000</td>\n",
       "      <td>44.000000</td>\n",
       "      <td>43.000000</td>\n",
       "    </tr>\n",
       "  </tbody>\n",
       "</table>\n",
       "</div>"
      ],
      "text/plain": [
       "month         1          2          3          4          5          6   \\\n",
       "count   9.000000  24.000000  37.000000  55.000000  67.000000  84.000000   \n",
       "mean   13.222222  12.000000  17.648649  16.963636  19.373134  18.940476   \n",
       "std     6.666667  10.446551  10.693238   9.457436   9.779130   9.077114   \n",
       "min     1.000000   0.000000   3.000000   1.000000   0.000000   0.000000   \n",
       "25%     8.000000   2.750000   7.000000  10.500000  12.500000  12.000000   \n",
       "50%    15.000000   7.500000  18.000000  17.000000  19.000000  19.500000   \n",
       "75%    19.000000  20.250000  28.000000  23.000000  27.000000  25.000000   \n",
       "max    20.000000  32.000000  37.000000  37.000000  43.000000  42.000000   \n",
       "\n",
       "month         7           8           9           10          11          12  \n",
       "count  91.000000  107.000000  115.000000  123.000000  134.000000  139.000000  \n",
       "mean   20.505495   19.598131   19.243478   20.065041   19.805970   21.741007  \n",
       "std     9.819905   10.254184    9.287410    9.552907    9.684867   10.160550  \n",
       "min     0.000000    0.000000    0.000000    0.000000    0.000000    0.000000  \n",
       "25%    14.000000   12.000000   12.000000   14.000000   12.250000   15.000000  \n",
       "50%    20.000000   19.000000   20.000000   20.000000   18.500000   22.000000  \n",
       "75%    27.000000   28.000000   26.500000   26.000000   27.000000   28.000000  \n",
       "max    45.000000   48.000000   42.000000   49.000000   44.000000   43.000000  "
      ]
     },
     "execution_count": 63,
     "metadata": {},
     "output_type": "execute_result"
    }
   ],
   "source": [
    "users_tariff_ultra.groupby('month')['gb_used'].describe().T"
   ]
  },
  {
   "cell_type": "code",
   "execution_count": 64,
   "metadata": {},
   "outputs": [
    {
     "data": {
      "image/png": "[encoded data removed]",
      "text/plain": [
       "<Figure size 432x288 with 1 Axes>"
      ]
     },
     "metadata": {
      "needs_background": "light"
     },
     "output_type": "display_data"
    },
    {
     "data": {
      "image/png": "[encoded data removed]",
      "text/plain": [
       "<Figure size 432x288 with 1 Axes>"
      ]
     },
     "metadata": {
      "needs_background": "light"
     },
     "output_type": "display_data"
    }
   ],
   "source": [
    "visual(\n",
    "    users_tariff_smart.pivot_table(\n",
    "    index = 'month', values = 'gb_used'), \n",
    "    'Использование интернета по месяцам на тарифе Смарт, шт', \n",
    "    'bar', 'Месяц', 'Объем трафика')\n",
    "\n",
    "visual(\n",
    "    users_tariff_ultra.pivot_table(\n",
    "    index = 'month', values = 'gb_used'), \n",
    "    'Использование интернета по месяцам на тарифе Ультра, мин', \n",
    "    'bar', 'Месяц', 'Объем трафика')"
   ]
  },
  {
   "cell_type": "markdown",
   "metadata": {},
   "source": [
    "Распреление использования интернета так же стремится к нормальному. На тарифе Смарт в среднем используют от 12 до 23 Гб в месяц, на тарифе Ультра - от 15 до 25.  \n",
    "От месяца к месяцу средний объем трафика увеличивается.\n",
    "\n"
   ]
  },
  {
   "cell_type": "code",
   "execution_count": 65,
   "metadata": {},
   "outputs": [
    {
     "name": "stdout",
     "output_type": "stream",
     "text": [
      "Дисперсия равна: 36219.315784344246\n",
      "Стандартное отклонение равно: 190.3137298892128\n"
     ]
    }
   ],
   "source": [
    "var_calls_smart = np.var(users_tariff_smart['calls_duration'], ddof = 1)\n",
    "\n",
    "std_calls_smart = np.sqrt(var_calls_smart)\n",
    "\n",
    "print('Дисперсия равна:', var_calls_smart)\n",
    "print('Стандартное отклонение равно:', std_calls_smart)"
   ]
  },
  {
   "cell_type": "code",
   "execution_count": 66,
   "metadata": {},
   "outputs": [
    {
     "name": "stdout",
     "output_type": "stream",
     "text": [
      "Дисперсия равна: 100873.63339730089\n",
      "Стандартное отклонение равно: 317.60609785912624\n"
     ]
    }
   ],
   "source": [
    "var_calls_ultra = np.var(users_tariff_ultra['calls_duration'], ddof = 1)\n",
    "\n",
    "std_calls_ultra = np.sqrt(var_calls_ultra)\n",
    "\n",
    "print('Дисперсия равна:', var_calls_ultra)\n",
    "print('Стандартное отклонение равно:', std_calls_ultra)"
   ]
  },
  {
   "cell_type": "code",
   "execution_count": 68,
   "metadata": {},
   "outputs": [
    {
     "name": "stdout",
     "output_type": "stream",
     "text": [
      "Дисперсия равна: 796.8129584480083\n",
      "Стандартное отклонение равно: 28.22787555676141\n"
     ]
    }
   ],
   "source": [
    "var_messages_smart = np.var(users_tariff_smart['messages'], ddof = 1)\n",
    "\n",
    "std_messages_smart = np.sqrt(var_messages_smart)\n",
    "\n",
    "print('Дисперсия равна:', var_messages_smart)\n",
    "print('Стандартное отклонение равно:', std_messages_smart)"
   ]
  },
  {
   "cell_type": "code",
   "execution_count": 69,
   "metadata": {},
   "outputs": [
    {
     "name": "stdout",
     "output_type": "stream",
     "text": [
      "Дисперсия равна: 2285.2661425446827\n",
      "Стандартное отклонение равно: 47.804457350174815\n"
     ]
    }
   ],
   "source": [
    "var_messages_ultra = np.var(users_tariff_ultra['messages'], ddof = 1)\n",
    "\n",
    "std_messages_ultra = np.sqrt(var_messages_ultra)\n",
    "\n",
    "print('Дисперсия равна:', var_messages_ultra)\n",
    "print('Стандартное отклонение равно:', std_messages_ultra)"
   ]
  },
  {
   "cell_type": "code",
   "execution_count": 70,
   "metadata": {},
   "outputs": [
    {
     "name": "stdout",
     "output_type": "stream",
     "text": [
      "Дисперсия равна: 33.02870517811158\n",
      "Стандартное отклонение равно: 5.747060568509052\n"
     ]
    }
   ],
   "source": [
    "var_internet_smart = np.var(users_tariff_smart['gb_used'], ddof = 1)\n",
    "\n",
    "std_internet_smart = np.sqrt(var_internet_smart)\n",
    "\n",
    "print('Дисперсия равна:', var_internet_smart)\n",
    "print('Стандартное отклонение равно:', std_internet_smart)"
   ]
  },
  {
   "cell_type": "code",
   "execution_count": 71,
   "metadata": {
    "scrolled": true
   },
   "outputs": [
    {
     "name": "stdout",
     "output_type": "stream",
     "text": [
      "Дисперсия равна: 97.09168626965472\n",
      "Стандартное отклонение равно: 9.8535113675103\n"
     ]
    }
   ],
   "source": [
    "var_internet_ultra = np.var(users_tariff_ultra['gb_used'], ddof = 1)\n",
    "std_internet_ultra = np.sqrt(var_internet_ultra)\n",
    "\n",
    "print('Дисперсия равна:', var_internet_ultra)\n",
    "print('Стандартное отклонение равно:', std_internet_ultra)"
   ]
  },
  {
   "cell_type": "code",
   "execution_count": 72,
   "metadata": {},
   "outputs": [
    {
     "data": {
      "text/html": [
       "<div>\n",
       "<style scoped>\n",
       "    .dataframe tbody tr th:only-of-type {\n",
       "        vertical-align: middle;\n",
       "    }\n",
       "\n",
       "    .dataframe tbody tr th {\n",
       "        vertical-align: top;\n",
       "    }\n",
       "\n",
       "    .dataframe thead tr th {\n",
       "        text-align: left;\n",
       "    }\n",
       "\n",
       "    .dataframe thead tr:last-of-type th {\n",
       "        text-align: right;\n",
       "    }\n",
       "</style>\n",
       "<table border=\"1\" class=\"dataframe\">\n",
       "  <thead>\n",
       "    <tr>\n",
       "      <th></th>\n",
       "      <th colspan=\"3\" halign=\"left\">var</th>\n",
       "      <th colspan=\"3\" halign=\"left\">std</th>\n",
       "    </tr>\n",
       "    <tr>\n",
       "      <th></th>\n",
       "      <th>calls_duration</th>\n",
       "      <th>gb_used</th>\n",
       "      <th>messages</th>\n",
       "      <th>calls_duration</th>\n",
       "      <th>gb_used</th>\n",
       "      <th>messages</th>\n",
       "    </tr>\n",
       "    <tr>\n",
       "      <th>month</th>\n",
       "      <th></th>\n",
       "      <th></th>\n",
       "      <th></th>\n",
       "      <th></th>\n",
       "      <th></th>\n",
       "      <th></th>\n",
       "    </tr>\n",
       "  </thead>\n",
       "  <tbody>\n",
       "    <tr>\n",
       "      <th>1</th>\n",
       "      <td>72769.361111</td>\n",
       "      <td>44.444444</td>\n",
       "      <td>940.694444</td>\n",
       "      <td>269.757968</td>\n",
       "      <td>6.666667</td>\n",
       "      <td>30.670742</td>\n",
       "    </tr>\n",
       "    <tr>\n",
       "      <th>2</th>\n",
       "      <td>87919.679348</td>\n",
       "      <td>109.130435</td>\n",
       "      <td>716.824275</td>\n",
       "      <td>296.512528</td>\n",
       "      <td>10.446551</td>\n",
       "      <td>26.773574</td>\n",
       "    </tr>\n",
       "    <tr>\n",
       "      <th>3</th>\n",
       "      <td>111384.900901</td>\n",
       "      <td>114.345345</td>\n",
       "      <td>1732.381381</td>\n",
       "      <td>333.743765</td>\n",
       "      <td>10.693238</td>\n",
       "      <td>41.621886</td>\n",
       "    </tr>\n",
       "    <tr>\n",
       "      <th>4</th>\n",
       "      <td>71653.870034</td>\n",
       "      <td>89.443098</td>\n",
       "      <td>1407.287542</td>\n",
       "      <td>267.682405</td>\n",
       "      <td>9.457436</td>\n",
       "      <td>37.513831</td>\n",
       "    </tr>\n",
       "    <tr>\n",
       "      <th>5</th>\n",
       "      <td>83870.193578</td>\n",
       "      <td>95.631389</td>\n",
       "      <td>1624.644052</td>\n",
       "      <td>289.603511</td>\n",
       "      <td>9.779130</td>\n",
       "      <td>40.306874</td>\n",
       "    </tr>\n",
       "    <tr>\n",
       "      <th>6</th>\n",
       "      <td>91535.946500</td>\n",
       "      <td>82.394005</td>\n",
       "      <td>1986.297619</td>\n",
       "      <td>302.549081</td>\n",
       "      <td>9.077114</td>\n",
       "      <td>44.567899</td>\n",
       "    </tr>\n",
       "    <tr>\n",
       "      <th>7</th>\n",
       "      <td>94322.278144</td>\n",
       "      <td>96.430525</td>\n",
       "      <td>2372.042735</td>\n",
       "      <td>307.119322</td>\n",
       "      <td>9.819905</td>\n",
       "      <td>48.703621</td>\n",
       "    </tr>\n",
       "    <tr>\n",
       "      <th>8</th>\n",
       "      <td>97956.496385</td>\n",
       "      <td>105.148298</td>\n",
       "      <td>2171.739199</td>\n",
       "      <td>312.980026</td>\n",
       "      <td>10.254184</td>\n",
       "      <td>46.601923</td>\n",
       "    </tr>\n",
       "    <tr>\n",
       "      <th>9</th>\n",
       "      <td>105716.775286</td>\n",
       "      <td>86.255988</td>\n",
       "      <td>2152.855530</td>\n",
       "      <td>325.141162</td>\n",
       "      <td>9.287410</td>\n",
       "      <td>46.398874</td>\n",
       "    </tr>\n",
       "    <tr>\n",
       "      <th>10</th>\n",
       "      <td>106464.583500</td>\n",
       "      <td>91.258030</td>\n",
       "      <td>2697.181661</td>\n",
       "      <td>326.289110</td>\n",
       "      <td>9.552907</td>\n",
       "      <td>51.934398</td>\n",
       "    </tr>\n",
       "    <tr>\n",
       "      <th>11</th>\n",
       "      <td>96570.057064</td>\n",
       "      <td>93.796656</td>\n",
       "      <td>2476.948491</td>\n",
       "      <td>310.757232</td>\n",
       "      <td>9.684867</td>\n",
       "      <td>49.768951</td>\n",
       "    </tr>\n",
       "    <tr>\n",
       "      <th>12</th>\n",
       "      <td>117276.331561</td>\n",
       "      <td>103.236784</td>\n",
       "      <td>2681.978417</td>\n",
       "      <td>342.456321</td>\n",
       "      <td>10.160550</td>\n",
       "      <td>51.787821</td>\n",
       "    </tr>\n",
       "  </tbody>\n",
       "</table>\n",
       "</div>"
      ],
      "text/plain": [
       "                 var                                     std             \\\n",
       "      calls_duration     gb_used     messages calls_duration    gb_used   \n",
       "month                                                                     \n",
       "1       72769.361111   44.444444   940.694444     269.757968   6.666667   \n",
       "2       87919.679348  109.130435   716.824275     296.512528  10.446551   \n",
       "3      111384.900901  114.345345  1732.381381     333.743765  10.693238   \n",
       "4       71653.870034   89.443098  1407.287542     267.682405   9.457436   \n",
       "5       83870.193578   95.631389  1624.644052     289.603511   9.779130   \n",
       "6       91535.946500   82.394005  1986.297619     302.549081   9.077114   \n",
       "7       94322.278144   96.430525  2372.042735     307.119322   9.819905   \n",
       "8       97956.496385  105.148298  2171.739199     312.980026  10.254184   \n",
       "9      105716.775286   86.255988  2152.855530     325.141162   9.287410   \n",
       "10     106464.583500   91.258030  2697.181661     326.289110   9.552907   \n",
       "11      96570.057064   93.796656  2476.948491     310.757232   9.684867   \n",
       "12     117276.331561  103.236784  2681.978417     342.456321  10.160550   \n",
       "\n",
       "                  \n",
       "        messages  \n",
       "month             \n",
       "1      30.670742  \n",
       "2      26.773574  \n",
       "3      41.621886  \n",
       "4      37.513831  \n",
       "5      40.306874  \n",
       "6      44.567899  \n",
       "7      48.703621  \n",
       "8      46.601923  \n",
       "9      46.398874  \n",
       "10     51.934398  \n",
       "11     49.768951  \n",
       "12     51.787821  "
      ]
     },
     "execution_count": 72,
     "metadata": {},
     "output_type": "execute_result"
    }
   ],
   "source": [
    "users_tariff_ultra.pivot_table(\n",
    "    index='month', values = ['calls_duration', 'messages', 'gb_used'], aggfunc = [np.var, np.std])"
   ]
  },
  {
   "cell_type": "code",
   "execution_count": 76,
   "metadata": {},
   "outputs": [
    {
     "data": {
      "text/html": [
       "<div>\n",
       "<style scoped>\n",
       "    .dataframe tbody tr th:only-of-type {\n",
       "        vertical-align: middle;\n",
       "    }\n",
       "\n",
       "    .dataframe tbody tr th {\n",
       "        vertical-align: top;\n",
       "    }\n",
       "\n",
       "    .dataframe thead tr th {\n",
       "        text-align: left;\n",
       "    }\n",
       "\n",
       "    .dataframe thead tr:last-of-type th {\n",
       "        text-align: right;\n",
       "    }\n",
       "</style>\n",
       "<table border=\"1\" class=\"dataframe\">\n",
       "  <thead>\n",
       "    <tr>\n",
       "      <th></th>\n",
       "      <th colspan=\"3\" halign=\"left\">var</th>\n",
       "      <th colspan=\"3\" halign=\"left\">std</th>\n",
       "    </tr>\n",
       "    <tr>\n",
       "      <th></th>\n",
       "      <th>calls_duration</th>\n",
       "      <th>gb_used</th>\n",
       "      <th>messages</th>\n",
       "      <th>calls_duration</th>\n",
       "      <th>gb_used</th>\n",
       "      <th>messages</th>\n",
       "    </tr>\n",
       "    <tr>\n",
       "      <th>month</th>\n",
       "      <th></th>\n",
       "      <th></th>\n",
       "      <th></th>\n",
       "      <th></th>\n",
       "      <th></th>\n",
       "      <th></th>\n",
       "    </tr>\n",
       "  </thead>\n",
       "  <tbody>\n",
       "    <tr>\n",
       "      <td>1</td>\n",
       "      <td>23787.341355</td>\n",
       "      <td>39.412656</td>\n",
       "      <td>262.367201</td>\n",
       "      <td>154.231454</td>\n",
       "      <td>6.277950</td>\n",
       "      <td>16.197753</td>\n",
       "    </tr>\n",
       "    <tr>\n",
       "      <td>2</td>\n",
       "      <td>36412.287961</td>\n",
       "      <td>37.150938</td>\n",
       "      <td>473.097701</td>\n",
       "      <td>190.820041</td>\n",
       "      <td>6.095157</td>\n",
       "      <td>21.750809</td>\n",
       "    </tr>\n",
       "    <tr>\n",
       "      <td>3</td>\n",
       "      <td>36823.155161</td>\n",
       "      <td>32.549897</td>\n",
       "      <td>718.492481</td>\n",
       "      <td>191.893604</td>\n",
       "      <td>5.705252</td>\n",
       "      <td>26.804710</td>\n",
       "    </tr>\n",
       "    <tr>\n",
       "      <td>4</td>\n",
       "      <td>34778.207127</td>\n",
       "      <td>31.299550</td>\n",
       "      <td>602.139559</td>\n",
       "      <td>186.489161</td>\n",
       "      <td>5.594600</td>\n",
       "      <td>24.538532</td>\n",
       "    </tr>\n",
       "    <tr>\n",
       "      <td>5</td>\n",
       "      <td>34820.061094</td>\n",
       "      <td>34.370010</td>\n",
       "      <td>730.990983</td>\n",
       "      <td>186.601343</td>\n",
       "      <td>5.862594</td>\n",
       "      <td>27.036845</td>\n",
       "    </tr>\n",
       "    <tr>\n",
       "      <td>6</td>\n",
       "      <td>30742.918861</td>\n",
       "      <td>31.911716</td>\n",
       "      <td>806.806374</td>\n",
       "      <td>175.336587</td>\n",
       "      <td>5.649046</td>\n",
       "      <td>28.404337</td>\n",
       "    </tr>\n",
       "    <tr>\n",
       "      <td>7</td>\n",
       "      <td>32250.269602</td>\n",
       "      <td>33.419453</td>\n",
       "      <td>799.887811</td>\n",
       "      <td>179.583601</td>\n",
       "      <td>5.780956</td>\n",
       "      <td>28.282288</td>\n",
       "    </tr>\n",
       "    <tr>\n",
       "      <td>8</td>\n",
       "      <td>34793.583379</td>\n",
       "      <td>30.041207</td>\n",
       "      <td>838.257501</td>\n",
       "      <td>186.530382</td>\n",
       "      <td>5.480986</td>\n",
       "      <td>28.952677</td>\n",
       "    </tr>\n",
       "    <tr>\n",
       "      <td>9</td>\n",
       "      <td>33535.342723</td>\n",
       "      <td>25.884110</td>\n",
       "      <td>790.617820</td>\n",
       "      <td>183.126576</td>\n",
       "      <td>5.087643</td>\n",
       "      <td>28.117927</td>\n",
       "    </tr>\n",
       "    <tr>\n",
       "      <td>10</td>\n",
       "      <td>35392.336375</td>\n",
       "      <td>32.897042</td>\n",
       "      <td>816.111966</td>\n",
       "      <td>188.128510</td>\n",
       "      <td>5.735594</td>\n",
       "      <td>28.567673</td>\n",
       "    </tr>\n",
       "    <tr>\n",
       "      <td>11</td>\n",
       "      <td>31605.237050</td>\n",
       "      <td>27.180952</td>\n",
       "      <td>805.937071</td>\n",
       "      <td>177.778618</td>\n",
       "      <td>5.213535</td>\n",
       "      <td>28.389031</td>\n",
       "    </tr>\n",
       "    <tr>\n",
       "      <td>12</td>\n",
       "      <td>39698.622033</td>\n",
       "      <td>29.786544</td>\n",
       "      <td>934.952346</td>\n",
       "      <td>199.245131</td>\n",
       "      <td>5.457705</td>\n",
       "      <td>30.576990</td>\n",
       "    </tr>\n",
       "  </tbody>\n",
       "</table>\n",
       "</div>"
      ],
      "text/plain": [
       "                 var                                   std            \\\n",
       "      calls_duration    gb_used    messages calls_duration   gb_used   \n",
       "month                                                                  \n",
       "1       23787.341355  39.412656  262.367201     154.231454  6.277950   \n",
       "2       36412.287961  37.150938  473.097701     190.820041  6.095157   \n",
       "3       36823.155161  32.549897  718.492481     191.893604  5.705252   \n",
       "4       34778.207127  31.299550  602.139559     186.489161  5.594600   \n",
       "5       34820.061094  34.370010  730.990983     186.601343  5.862594   \n",
       "6       30742.918861  31.911716  806.806374     175.336587  5.649046   \n",
       "7       32250.269602  33.419453  799.887811     179.583601  5.780956   \n",
       "8       34793.583379  30.041207  838.257501     186.530382  5.480986   \n",
       "9       33535.342723  25.884110  790.617820     183.126576  5.087643   \n",
       "10      35392.336375  32.897042  816.111966     188.128510  5.735594   \n",
       "11      31605.237050  27.180952  805.937071     177.778618  5.213535   \n",
       "12      39698.622033  29.786544  934.952346     199.245131  5.457705   \n",
       "\n",
       "                  \n",
       "        messages  \n",
       "month             \n",
       "1      16.197753  \n",
       "2      21.750809  \n",
       "3      26.804710  \n",
       "4      24.538532  \n",
       "5      27.036845  \n",
       "6      28.404337  \n",
       "7      28.282288  \n",
       "8      28.952677  \n",
       "9      28.117927  \n",
       "10     28.567673  \n",
       "11     28.389031  \n",
       "12     30.576990  "
      ]
     },
     "execution_count": 76,
     "metadata": {},
     "output_type": "execute_result"
    }
   ],
   "source": [
    "users_tariff_smart.pivot_table(\n",
    "    index='month', values = ['calls_duration', 'messages', 'gb_used'], aggfunc = [np.var, np.std])"
   ]
  },
  {
   "cell_type": "markdown",
   "metadata": {},
   "source": [
    "Расчитали дисперсию и стандартное отклонение для каждого вида услуг по каждому тарифу по всем данным."
   ]
  },
  {
   "cell_type": "markdown",
   "metadata": {},
   "source": [
    "## Проверка гипотез"
   ]
  },
  {
   "cell_type": "markdown",
   "metadata": {},
   "source": [
    "### Первая гипотеза"
   ]
  },
  {
   "cell_type": "markdown",
   "metadata": {},
   "source": [
    "<b>H<sub>0</sub>:</b> средняя выручка пользователей тарифов Ультра равна средней выручке пользователей тарифов Смарт.  \n",
    "<b>H<sub>1</sub>:</b> средняя выручка пользователей тарифов Ультра не равна (больше или меньше) средней выручке пользователей тарифов Смарт."
   ]
  },
  {
   "cell_type": "code",
   "execution_count": 73,
   "metadata": {},
   "outputs": [],
   "source": [
    "income_smart = users_tariff_smart['total_income']\n",
    "income_ultra = users_tariff_ultra['total_income']"
   ]
  },
  {
   "cell_type": "code",
   "execution_count": 74,
   "metadata": {},
   "outputs": [
    {
     "data": {
      "text/plain": [
       "2146461.870374227"
      ]
     },
     "execution_count": 74,
     "metadata": {},
     "output_type": "execute_result"
    }
   ],
   "source": [
    "income_smart_var = np.var(users_tariff_smart['total_income'])\n",
    "income_smart_var"
   ]
  },
  {
   "cell_type": "code",
   "execution_count": 75,
   "metadata": {},
   "outputs": [
    {
     "data": {
      "text/plain": [
       "2478552.6853420604"
      ]
     },
     "execution_count": 75,
     "metadata": {},
     "output_type": "execute_result"
    }
   ],
   "source": [
    "income_ultra_var = np.var(users_tariff_ultra['total_income'])\n",
    "income_ultra_var"
   ]
  },
  {
   "cell_type": "code",
   "execution_count": 76,
   "metadata": {},
   "outputs": [
    {
     "data": {
      "image/png": "[encoded data removed]",
      "text/plain": [
       "<Figure size 432x288 with 1 Axes>"
      ]
     },
     "metadata": {
      "needs_background": "light"
     },
     "output_type": "display_data"
    }
   ],
   "source": [
    "income_smart.plot(kind = 'hist', bins = 30, title = 'Распределение выручки на тарифе Смарт')\n",
    "plt.ylabel('Количество')\n",
    "plt.xlabel('Выручка')\n",
    "plt.show()"
   ]
  },
  {
   "cell_type": "code",
   "execution_count": 77,
   "metadata": {},
   "outputs": [
    {
     "data": {
      "image/png": "[encoded data removed]",
      "text/plain": [
       "<Figure size 432x288 with 1 Axes>"
      ]
     },
     "metadata": {
      "needs_background": "light"
     },
     "output_type": "display_data"
    }
   ],
   "source": [
    "income_ultra.plot(kind = 'hist', bins = 30, title = 'Распределение выручки на тарифе Ультра')\n",
    "plt.ylabel('Количество')\n",
    "plt.xlabel('Выручка')\n",
    "plt.show()"
   ]
  },
  {
   "cell_type": "code",
   "execution_count": 78,
   "metadata": {},
   "outputs": [
    {
     "name": "stdout",
     "output_type": "stream",
     "text": [
      "p-значение: 0.0\n",
      "Отвергаем нулевую гипотезу\n"
     ]
    }
   ],
   "source": [
    "alpha = 0.05\n",
    "\n",
    "total_result_tariffs = st.ttest_ind(income_smart, income_ultra, equal_var = False)\n",
    "\n",
    "print('p-значение:', total_result_tariffs.pvalue)\n",
    "\n",
    "if total_result_tariffs.pvalue < alpha:\n",
    "    print(\"Отвергаем нулевую гипотезу\")\n",
    "else:\n",
    "    print(\"Не получилось отвергнуть нулевую гипотезу\")"
   ]
  },
  {
   "cell_type": "code",
   "execution_count": 79,
   "metadata": {},
   "outputs": [
    {
     "name": "stdout",
     "output_type": "stream",
     "text": [
      "p-значение: 0.0\n",
      "Отвергаем нулевую гипотезу\n"
     ]
    }
   ],
   "source": [
    "stat, p = mwu(income_smart, income_ultra)\n",
    "\n",
    "print('p-значение:', p)\n",
    "\n",
    "if p < alpha:\n",
    "    print(\"Отвергаем нулевую гипотезу\")\n",
    "else:\n",
    "    print(\"Не получилось отвергнуть нулевую гипотезу\")"
   ]
  },
  {
   "cell_type": "markdown",
   "metadata": {},
   "source": [
    "Для проверки гипотез сформировали две совокупности данных по среднему доходу от пользователей на каждом тарифе.  \n",
    "Сформулировали нулевую и альтернативную гипотезы. Критерий значимости выбрали равным 5%.  \n",
    "В результате проверки нулевой гипотезы p-value получилось очень маленьким, соответственно мы отвергли нулевую гипотезу.  \n",
    "Вероятность того, что средняя вырочка от пользователей разных тарифов будет равна  - слишком мала. "
   ]
  },
  {
   "cell_type": "markdown",
   "metadata": {},
   "source": [
    "### Вторая гипотеза"
   ]
  },
  {
   "cell_type": "markdown",
   "metadata": {},
   "source": [
    "<b>H<sub>0</sub>:</b> средняя выручка пользователей из Москвы равна средней выручке пользователей из других регионов.  \n",
    "<b>H<sub>1</sub>:</b> средняя выручка пользователей из Москвы не равна (больше или меньше) средней выручке пользователей из других регионов."
   ]
  },
  {
   "cell_type": "code",
   "execution_count": 80,
   "metadata": {},
   "outputs": [],
   "source": [
    "income_moscow = users_tariff.query('city == \"Москва\"')['total_income']\n",
    "income_other = users_tariff.query('city != \"Москва\"')['total_income']"
   ]
  },
  {
   "cell_type": "code",
   "execution_count": 82,
   "metadata": {},
   "outputs": [
    {
     "data": {
      "image/png": "[encoded data removed]",
      "text/plain": [
       "<Figure size 432x288 with 1 Axes>"
      ]
     },
     "metadata": {
      "needs_background": "light"
     },
     "output_type": "display_data"
    }
   ],
   "source": [
    "income_moscow.plot(kind = 'hist', title = 'Распределение выручки, Москва')\n",
    "plt.ylabel('Количество')\n",
    "plt.xlabel('Выручка')\n",
    "plt.show()"
   ]
  },
  {
   "cell_type": "code",
   "execution_count": 83,
   "metadata": {},
   "outputs": [
    {
     "data": {
      "image/png": "[encoded data removed]",
      "text/plain": [
       "<Figure size 432x288 with 1 Axes>"
      ]
     },
     "metadata": {
      "needs_background": "light"
     },
     "output_type": "display_data"
    }
   ],
   "source": [
    "income_other.plot(kind = 'hist', bins = 50, title = 'Распределение выручки, другие города')\n",
    "plt.ylabel('Количество')\n",
    "plt.xlabel('Выручка')\n",
    "plt.show()"
   ]
  },
  {
   "cell_type": "code",
   "execution_count": 84,
   "metadata": {},
   "outputs": [
    {
     "name": "stdout",
     "output_type": "stream",
     "text": [
      "p-значение: 0.08358183312790388\n",
      "Не получилось отвергнуть нулевую гипотезу\n"
     ]
    }
   ],
   "source": [
    "alpha = 0.05\n",
    "\n",
    "total_result_cities = st.ttest_ind(income_moscow, income_other)\n",
    "\n",
    "print('p-значение:', total_result_cities.pvalue)\n",
    "\n",
    "if total_result_cities.pvalue < alpha:\n",
    "    print(\"Отвергаем нулевую гипотезу\")\n",
    "else:\n",
    "    print(\"Не получилось отвергнуть нулевую гипотезу\")"
   ]
  },
  {
   "cell_type": "code",
   "execution_count": 85,
   "metadata": {},
   "outputs": [
    {
     "name": "stdout",
     "output_type": "stream",
     "text": [
      "p-значение: 0.019037294064061874\n",
      "Отвергаем нулевую гипотезу\n"
     ]
    }
   ],
   "source": [
    "stat, p = mwu(income_moscow, income_other)\n",
    "\n",
    "print('p-значение:', p)\n",
    "\n",
    "if p < alpha:\n",
    "    print(\"Отвергаем нулевую гипотезу\")\n",
    "else:\n",
    "    print(\"Не получилось отвергнуть нулевую гипотезу\")"
   ]
  },
  {
   "cell_type": "markdown",
   "metadata": {},
   "source": [
    "Для проверки второй гипотезы сфромировали две совокупности данных без разделения по тарифам - выручка от абонентов из Москвы и выручка от абонентов из других городов.  \n",
    "Сформировали нулевую и альтернативную гипотезы.  \n",
    "В результате проверки p-value получсился очень большим. Мы не можем с уверенностью утверждать, что средняя выручка от абонентов Москвы и абонентов других городов отличается, в 36 случаях из 100 средняя выручка может быть примерно равной."
   ]
  },
  {
   "cell_type": "markdown",
   "metadata": {},
   "source": [
    "## Общий вывод"
   ]
  },
  {
   "cell_type": "markdown",
   "metadata": {},
   "source": [
    "Мы провели анализ выборки из 498 абонентов Мегалайн, использующих интересующие нас тарифы. Около 30% из выборки пользуются тарифом Ультра, остальные Смарт. Пользователи тарифа Смарт в среднем пользуется меньшим объемом услуг, но чаще выходят за рамки своего пакета. Стандартные отклонения используемых объемов услуг достаточно большие в каждом тарифе.  \n",
    "\n",
    "В результате анализа мы проверили две гипотезы.  \n",
    "В первом случае мы сравнивали среднюю выручку по разным тарифам. Нулевая гипотеза в данном случае была, что средняя выручка пользователей обоих тарифов равна. Эта гипотеза не подтердилась. С очень большой вероятностью мы можем предположить, что выручка по тарифам отличается.  \n",
    "Во втором случае мы сравнивали среднюю выручку по населенным пунктам. В этом случае нулевая гипотеза предполагала, что средняя выручка от абонетов, проживающих в Москве, равна средней выручке абонентов из других городов. Вероятность этого оказалась достаточно высокой, соответственно средняя выручка по абонентам разных регионов может не отличаться.\n"
   ]
  },
  {
   "cell_type": "code",
   "execution_count": null,
   "metadata": {},
   "outputs": [],
   "source": []
  }
 ],
 "metadata": {
  "ExecuteTimeLog": [
   {
    "duration": 785,
    "start_time": "2021-10-16T16:33:21.249Z"
   },
   {
    "duration": 3,
    "start_time": "2021-10-16T16:35:25.351Z"
   },
   {
    "duration": 162,
    "start_time": "2021-10-16T16:35:28.078Z"
   },
   {
    "duration": 132,
    "start_time": "2021-10-16T16:37:42.357Z"
   },
   {
    "duration": 87,
    "start_time": "2021-10-16T16:38:09.329Z"
   },
   {
    "duration": 22,
    "start_time": "2021-10-16T16:38:40.713Z"
   },
   {
    "duration": 44,
    "start_time": "2021-10-16T16:38:57.789Z"
   },
   {
    "duration": 122,
    "start_time": "2021-10-16T17:39:40.343Z"
   },
   {
    "duration": 155,
    "start_time": "2021-10-16T17:39:44.469Z"
   },
   {
    "duration": 164,
    "start_time": "2021-10-16T17:40:24.626Z"
   },
   {
    "duration": 188,
    "start_time": "2021-10-16T17:40:59.628Z"
   },
   {
    "duration": 182,
    "start_time": "2021-10-16T17:41:42.202Z"
   },
   {
    "duration": 124,
    "start_time": "2021-10-16T17:43:34.269Z"
   },
   {
    "duration": 138,
    "start_time": "2021-10-16T17:44:22.503Z"
   },
   {
    "duration": 113,
    "start_time": "2021-10-16T17:44:46.109Z"
   },
   {
    "duration": 5070,
    "start_time": "2021-10-16T17:45:44.158Z"
   },
   {
    "duration": 7293,
    "start_time": "2021-10-16T17:46:05.223Z"
   },
   {
    "duration": 153,
    "start_time": "2021-10-16T17:46:18.733Z"
   },
   {
    "duration": 90,
    "start_time": "2021-10-16T17:46:45.821Z"
   },
   {
    "duration": 37,
    "start_time": "2021-10-16T17:47:12.579Z"
   },
   {
    "duration": 157,
    "start_time": "2021-10-16T18:20:52.492Z"
   },
   {
    "duration": 152,
    "start_time": "2021-10-16T18:21:07.204Z"
   },
   {
    "duration": 410,
    "start_time": "2021-10-16T18:21:49.972Z"
   },
   {
    "duration": 360,
    "start_time": "2021-10-16T18:22:18.808Z"
   },
   {
    "duration": 160,
    "start_time": "2021-10-16T18:22:55.379Z"
   },
   {
    "duration": 148,
    "start_time": "2021-10-16T18:23:53.757Z"
   },
   {
    "duration": 162,
    "start_time": "2021-10-16T18:27:03.052Z"
   },
   {
    "duration": 8,
    "start_time": "2021-10-16T18:27:21.886Z"
   },
   {
    "duration": 52,
    "start_time": "2021-10-16T18:32:51.211Z"
   },
   {
    "duration": 27,
    "start_time": "2021-10-16T18:33:13.829Z"
   },
   {
    "duration": 194,
    "start_time": "2021-10-16T18:33:30.978Z"
   },
   {
    "duration": 25,
    "start_time": "2021-10-16T18:33:40.532Z"
   },
   {
    "duration": 186,
    "start_time": "2021-10-16T18:35:04.177Z"
   },
   {
    "duration": 611,
    "start_time": "2021-10-16T18:36:41.994Z"
   },
   {
    "duration": 22,
    "start_time": "2021-10-16T18:37:05.846Z"
   },
   {
    "duration": 139,
    "start_time": "2021-10-16T18:39:34.533Z"
   },
   {
    "duration": 20,
    "start_time": "2021-10-16T18:39:48.133Z"
   },
   {
    "duration": 4595,
    "start_time": "2021-10-16T18:39:52.698Z"
   },
   {
    "duration": 22,
    "start_time": "2021-10-16T18:40:12.150Z"
   },
   {
    "duration": 92,
    "start_time": "2021-10-16T18:40:12.174Z"
   },
   {
    "duration": 17,
    "start_time": "2021-10-16T18:40:24.493Z"
   },
   {
    "duration": 97,
    "start_time": "2021-10-16T18:40:41.974Z"
   },
   {
    "duration": 97,
    "start_time": "2021-10-16T18:40:57.364Z"
   },
   {
    "duration": 169,
    "start_time": "2021-10-16T18:42:24.420Z"
   },
   {
    "duration": 24,
    "start_time": "2021-10-16T18:43:00.893Z"
   },
   {
    "duration": 34,
    "start_time": "2021-10-16T18:47:03.407Z"
   },
   {
    "duration": 7,
    "start_time": "2021-10-16T18:48:52.780Z"
   },
   {
    "duration": 57,
    "start_time": "2021-10-16T18:51:47.254Z"
   },
   {
    "duration": 178,
    "start_time": "2021-10-16T18:52:15.758Z"
   },
   {
    "duration": 59,
    "start_time": "2021-10-16T18:53:11.603Z"
   },
   {
    "duration": 8,
    "start_time": "2021-10-16T18:53:18.920Z"
   },
   {
    "duration": 15,
    "start_time": "2021-10-16T18:54:57.851Z"
   },
   {
    "duration": 4,
    "start_time": "2021-10-16T18:57:35.858Z"
   },
   {
    "duration": 5,
    "start_time": "2021-10-16T18:58:07.198Z"
   },
   {
    "duration": 8,
    "start_time": "2021-10-16T18:59:17.228Z"
   },
   {
    "duration": 869,
    "start_time": "2021-10-16T18:59:50.268Z"
   },
   {
    "duration": 156,
    "start_time": "2021-10-16T18:59:51.794Z"
   },
   {
    "duration": 15,
    "start_time": "2021-10-16T18:59:52.986Z"
   },
   {
    "duration": 40,
    "start_time": "2021-10-16T18:59:55.595Z"
   },
   {
    "duration": 141,
    "start_time": "2021-10-16T18:59:56.588Z"
   },
   {
    "duration": 23,
    "start_time": "2021-10-16T18:59:58.673Z"
   },
   {
    "duration": 34,
    "start_time": "2021-10-16T19:00:00.792Z"
   },
   {
    "duration": 103,
    "start_time": "2021-10-16T19:00:03.349Z"
   },
   {
    "duration": 26,
    "start_time": "2021-10-16T19:00:05.988Z"
   },
   {
    "duration": 21,
    "start_time": "2021-10-16T19:00:09.586Z"
   },
   {
    "duration": 61,
    "start_time": "2021-10-16T19:00:16.148Z"
   },
   {
    "duration": 7,
    "start_time": "2021-10-16T19:00:33.028Z"
   },
   {
    "duration": 259,
    "start_time": "2021-10-16T19:00:44.944Z"
   },
   {
    "duration": 5,
    "start_time": "2021-10-16T19:00:56.588Z"
   },
   {
    "duration": 194,
    "start_time": "2021-10-16T19:01:39.523Z"
   },
   {
    "duration": 190,
    "start_time": "2021-10-16T19:01:47.002Z"
   },
   {
    "duration": 7,
    "start_time": "2021-10-16T19:01:58.082Z"
   },
   {
    "duration": 9,
    "start_time": "2021-10-16T19:02:24.238Z"
   },
   {
    "duration": 6,
    "start_time": "2021-10-16T19:05:57.567Z"
   },
   {
    "duration": 6,
    "start_time": "2021-10-16T19:06:06.645Z"
   },
   {
    "duration": 30,
    "start_time": "2021-10-16T19:07:25.362Z"
   },
   {
    "duration": 160,
    "start_time": "2021-10-16T19:07:53.628Z"
   },
   {
    "duration": 6,
    "start_time": "2021-10-16T19:09:29.060Z"
   },
   {
    "duration": 5,
    "start_time": "2021-10-16T19:09:49.900Z"
   },
   {
    "duration": 13,
    "start_time": "2021-10-16T19:10:26.822Z"
   },
   {
    "duration": 15,
    "start_time": "2021-10-16T19:10:53.604Z"
   },
   {
    "duration": 13,
    "start_time": "2021-10-16T19:11:40.112Z"
   },
   {
    "duration": 9,
    "start_time": "2021-10-16T19:26:39.456Z"
   },
   {
    "duration": 191,
    "start_time": "2021-10-16T19:27:18.988Z"
   },
   {
    "duration": 182,
    "start_time": "2021-10-16T19:27:50.848Z"
   },
   {
    "duration": 163,
    "start_time": "2021-10-16T19:28:53.389Z"
   },
   {
    "duration": 853,
    "start_time": "2021-10-16T19:29:25.517Z"
   },
   {
    "duration": 162,
    "start_time": "2021-10-16T19:29:26.371Z"
   },
   {
    "duration": 14,
    "start_time": "2021-10-16T19:29:26.535Z"
   },
   {
    "duration": 53,
    "start_time": "2021-10-16T19:29:26.551Z"
   },
   {
    "duration": 146,
    "start_time": "2021-10-16T19:29:26.605Z"
   },
   {
    "duration": 20,
    "start_time": "2021-10-16T19:29:26.753Z"
   },
   {
    "duration": 44,
    "start_time": "2021-10-16T19:29:26.775Z"
   },
   {
    "duration": 104,
    "start_time": "2021-10-16T19:29:26.821Z"
   },
   {
    "duration": 24,
    "start_time": "2021-10-16T19:29:26.927Z"
   },
   {
    "duration": 19,
    "start_time": "2021-10-16T19:29:26.953Z"
   },
   {
    "duration": 46,
    "start_time": "2021-10-16T19:29:26.973Z"
   },
   {
    "duration": 4,
    "start_time": "2021-10-16T19:29:27.020Z"
   },
   {
    "duration": 8,
    "start_time": "2021-10-16T19:29:27.025Z"
   },
   {
    "duration": 8,
    "start_time": "2021-10-16T19:29:27.035Z"
   },
   {
    "duration": 9,
    "start_time": "2021-10-16T19:29:27.044Z"
   },
   {
    "duration": 24,
    "start_time": "2021-10-16T19:29:27.054Z"
   },
   {
    "duration": 12,
    "start_time": "2021-10-16T19:30:12.282Z"
   },
   {
    "duration": 837,
    "start_time": "2021-10-16T19:30:40.608Z"
   },
   {
    "duration": 165,
    "start_time": "2021-10-16T19:30:41.447Z"
   },
   {
    "duration": 13,
    "start_time": "2021-10-16T19:30:41.614Z"
   },
   {
    "duration": 40,
    "start_time": "2021-10-16T19:30:41.629Z"
   },
   {
    "duration": 151,
    "start_time": "2021-10-16T19:30:41.671Z"
   },
   {
    "duration": 20,
    "start_time": "2021-10-16T19:30:41.824Z"
   },
   {
    "duration": 49,
    "start_time": "2021-10-16T19:30:41.845Z"
   },
   {
    "duration": 101,
    "start_time": "2021-10-16T19:30:41.895Z"
   },
   {
    "duration": 25,
    "start_time": "2021-10-16T19:30:41.999Z"
   },
   {
    "duration": 20,
    "start_time": "2021-10-16T19:30:42.026Z"
   },
   {
    "duration": 1204,
    "start_time": "2021-10-16T19:30:42.048Z"
   },
   {
    "duration": 3,
    "start_time": "2021-10-16T19:30:43.254Z"
   },
   {
    "duration": 7,
    "start_time": "2021-10-16T19:30:43.259Z"
   },
   {
    "duration": 8,
    "start_time": "2021-10-16T19:30:43.268Z"
   },
   {
    "duration": 9,
    "start_time": "2021-10-16T19:30:43.277Z"
   },
   {
    "duration": 272,
    "start_time": "2021-10-16T19:32:22.247Z"
   },
   {
    "duration": 34,
    "start_time": "2021-10-16T19:32:29.890Z"
   },
   {
    "duration": 1046,
    "start_time": "2021-10-16T19:37:25.476Z"
   },
   {
    "duration": 40,
    "start_time": "2021-10-16T19:37:44.069Z"
   },
   {
    "duration": 38,
    "start_time": "2021-10-16T19:38:06.359Z"
   },
   {
    "duration": 169,
    "start_time": "2021-10-16T19:38:53.907Z"
   },
   {
    "duration": 11,
    "start_time": "2021-10-16T19:39:13.800Z"
   },
   {
    "duration": 37,
    "start_time": "2021-10-16T19:39:20.420Z"
   },
   {
    "duration": 9,
    "start_time": "2021-10-16T19:42:27.026Z"
   },
   {
    "duration": 7,
    "start_time": "2021-10-16T19:44:11.996Z"
   },
   {
    "duration": 65,
    "start_time": "2021-10-16T19:44:18.184Z"
   },
   {
    "duration": 468,
    "start_time": "2021-10-16T19:45:24.719Z"
   },
   {
    "duration": 77,
    "start_time": "2021-10-16T19:45:53.762Z"
   },
   {
    "duration": 847,
    "start_time": "2021-10-16T19:47:26.585Z"
   },
   {
    "duration": 159,
    "start_time": "2021-10-16T19:47:27.434Z"
   },
   {
    "duration": 13,
    "start_time": "2021-10-16T19:47:27.595Z"
   },
   {
    "duration": 40,
    "start_time": "2021-10-16T19:47:27.609Z"
   },
   {
    "duration": 148,
    "start_time": "2021-10-16T19:47:27.651Z"
   },
   {
    "duration": 20,
    "start_time": "2021-10-16T19:47:27.801Z"
   },
   {
    "duration": 31,
    "start_time": "2021-10-16T19:47:27.822Z"
   },
   {
    "duration": 115,
    "start_time": "2021-10-16T19:47:27.855Z"
   },
   {
    "duration": 33,
    "start_time": "2021-10-16T19:47:27.972Z"
   },
   {
    "duration": 21,
    "start_time": "2021-10-16T19:47:28.006Z"
   },
   {
    "duration": 71,
    "start_time": "2021-10-16T19:47:28.029Z"
   },
   {
    "duration": 4,
    "start_time": "2021-10-16T19:47:28.102Z"
   },
   {
    "duration": 8,
    "start_time": "2021-10-16T19:47:28.108Z"
   },
   {
    "duration": 7,
    "start_time": "2021-10-16T19:47:28.118Z"
   },
   {
    "duration": 10,
    "start_time": "2021-10-16T19:47:28.127Z"
   },
   {
    "duration": 88,
    "start_time": "2021-10-16T19:47:28.138Z"
   },
   {
    "duration": 431,
    "start_time": "2021-10-16T19:53:30.743Z"
   },
   {
    "duration": 25,
    "start_time": "2021-10-16T19:53:45.182Z"
   },
   {
    "duration": 4,
    "start_time": "2021-10-16T19:53:59.794Z"
   },
   {
    "duration": 5,
    "start_time": "2021-10-16T19:54:12.057Z"
   },
   {
    "duration": 61,
    "start_time": "2021-10-16T19:58:38.185Z"
   },
   {
    "duration": 53,
    "start_time": "2021-10-16T19:58:47.430Z"
   },
   {
    "duration": 55,
    "start_time": "2021-10-16T19:59:01.619Z"
   },
   {
    "duration": 32,
    "start_time": "2021-10-16T19:59:27.961Z"
   },
   {
    "duration": 332,
    "start_time": "2021-10-17T19:16:25.688Z"
   },
   {
    "duration": 1229,
    "start_time": "2021-10-17T19:16:38.594Z"
   },
   {
    "duration": 234,
    "start_time": "2021-10-17T19:16:39.827Z"
   },
   {
    "duration": 22,
    "start_time": "2021-10-17T19:16:40.065Z"
   },
   {
    "duration": 82,
    "start_time": "2021-10-17T19:16:40.089Z"
   },
   {
    "duration": 208,
    "start_time": "2021-10-17T19:16:40.173Z"
   },
   {
    "duration": 40,
    "start_time": "2021-10-17T19:16:40.384Z"
   },
   {
    "duration": 49,
    "start_time": "2021-10-17T19:16:40.427Z"
   },
   {
    "duration": 161,
    "start_time": "2021-10-17T19:16:40.479Z"
   },
   {
    "duration": 34,
    "start_time": "2021-10-17T19:16:40.644Z"
   },
   {
    "duration": 27,
    "start_time": "2021-10-17T19:16:40.681Z"
   },
   {
    "duration": 48,
    "start_time": "2021-10-17T19:16:40.722Z"
   },
   {
    "duration": 5,
    "start_time": "2021-10-17T19:16:40.772Z"
   },
   {
    "duration": 10,
    "start_time": "2021-10-17T19:16:40.779Z"
   },
   {
    "duration": 10,
    "start_time": "2021-10-17T19:16:40.792Z"
   },
   {
    "duration": 30,
    "start_time": "2021-10-17T19:16:40.804Z"
   },
   {
    "duration": 122,
    "start_time": "2021-10-17T19:16:40.839Z"
   },
   {
    "duration": 118,
    "start_time": "2021-10-17T19:16:40.963Z"
   },
   {
    "duration": 82,
    "start_time": "2021-10-17T19:17:10.330Z"
   },
   {
    "duration": 82,
    "start_time": "2021-10-17T19:17:24.905Z"
   },
   {
    "duration": 84,
    "start_time": "2021-10-17T19:17:42.166Z"
   },
   {
    "duration": 79,
    "start_time": "2021-10-17T19:17:51.806Z"
   },
   {
    "duration": 84,
    "start_time": "2021-10-17T19:18:45.853Z"
   },
   {
    "duration": 81,
    "start_time": "2021-10-17T19:19:19.544Z"
   },
   {
    "duration": 422,
    "start_time": "2021-10-17T19:22:48.567Z"
   },
   {
    "duration": 270,
    "start_time": "2021-10-17T19:23:10.791Z"
   },
   {
    "duration": 1210,
    "start_time": "2021-10-17T19:23:37.386Z"
   },
   {
    "duration": 231,
    "start_time": "2021-10-17T19:23:38.599Z"
   },
   {
    "duration": 24,
    "start_time": "2021-10-17T19:23:38.833Z"
   },
   {
    "duration": 103,
    "start_time": "2021-10-17T19:23:38.860Z"
   },
   {
    "duration": 221,
    "start_time": "2021-10-17T19:23:38.965Z"
   },
   {
    "duration": 45,
    "start_time": "2021-10-17T19:23:39.189Z"
   },
   {
    "duration": 48,
    "start_time": "2021-10-17T19:23:39.238Z"
   },
   {
    "duration": 189,
    "start_time": "2021-10-17T19:23:39.289Z"
   },
   {
    "duration": 53,
    "start_time": "2021-10-17T19:23:39.482Z"
   },
   {
    "duration": 30,
    "start_time": "2021-10-17T19:23:39.539Z"
   },
   {
    "duration": 61,
    "start_time": "2021-10-17T19:23:39.572Z"
   },
   {
    "duration": 7,
    "start_time": "2021-10-17T19:23:39.636Z"
   },
   {
    "duration": 24,
    "start_time": "2021-10-17T19:23:39.647Z"
   },
   {
    "duration": 16,
    "start_time": "2021-10-17T19:23:39.674Z"
   },
   {
    "duration": 35,
    "start_time": "2021-10-17T19:23:39.693Z"
   },
   {
    "duration": 123,
    "start_time": "2021-10-17T19:23:39.731Z"
   },
   {
    "duration": 610,
    "start_time": "2021-10-17T19:23:39.860Z"
   },
   {
    "duration": 85,
    "start_time": "2021-10-17T19:24:49.812Z"
   },
   {
    "duration": 67,
    "start_time": "2021-10-17T19:27:23.830Z"
   },
   {
    "duration": 65,
    "start_time": "2021-10-17T19:29:05.772Z"
   },
   {
    "duration": 64,
    "start_time": "2021-10-17T19:29:17.050Z"
   },
   {
    "duration": 64,
    "start_time": "2021-10-17T19:31:40.243Z"
   },
   {
    "duration": 1260,
    "start_time": "2021-10-18T19:25:42.172Z"
   },
   {
    "duration": 257,
    "start_time": "2021-10-18T19:25:43.435Z"
   },
   {
    "duration": 23,
    "start_time": "2021-10-18T19:25:43.695Z"
   },
   {
    "duration": 103,
    "start_time": "2021-10-18T19:25:43.721Z"
   },
   {
    "duration": 226,
    "start_time": "2021-10-18T19:25:43.827Z"
   },
   {
    "duration": 50,
    "start_time": "2021-10-18T19:25:44.055Z"
   },
   {
    "duration": 77,
    "start_time": "2021-10-18T19:25:44.108Z"
   },
   {
    "duration": 154,
    "start_time": "2021-10-18T19:25:44.190Z"
   },
   {
    "duration": 61,
    "start_time": "2021-10-18T19:25:44.348Z"
   },
   {
    "duration": 25,
    "start_time": "2021-10-18T19:25:44.412Z"
   },
   {
    "duration": 61,
    "start_time": "2021-10-18T19:25:44.440Z"
   },
   {
    "duration": 6,
    "start_time": "2021-10-18T19:25:44.505Z"
   },
   {
    "duration": 13,
    "start_time": "2021-10-18T19:25:44.514Z"
   },
   {
    "duration": 51,
    "start_time": "2021-10-18T19:25:44.529Z"
   },
   {
    "duration": 18,
    "start_time": "2021-10-18T19:25:44.583Z"
   },
   {
    "duration": 122,
    "start_time": "2021-10-18T19:25:44.604Z"
   },
   {
    "duration": 919,
    "start_time": "2021-10-18T19:25:44.728Z"
   },
   {
    "duration": 61,
    "start_time": "2021-10-18T19:26:27.389Z"
   },
   {
    "duration": 68,
    "start_time": "2021-10-18T19:29:03.396Z"
   },
   {
    "duration": 62,
    "start_time": "2021-10-18T19:29:13.303Z"
   },
   {
    "duration": 73,
    "start_time": "2021-10-18T19:30:44.135Z"
   },
   {
    "duration": 291,
    "start_time": "2021-10-18T19:31:24.729Z"
   },
   {
    "duration": 973,
    "start_time": "2021-10-18T19:32:07.280Z"
   },
   {
    "duration": 81,
    "start_time": "2021-10-18T19:32:21.537Z"
   },
   {
    "duration": 415,
    "start_time": "2021-10-18T19:33:21.500Z"
   },
   {
    "duration": 258,
    "start_time": "2021-10-18T19:33:33.021Z"
   },
   {
    "duration": 891,
    "start_time": "2021-10-18T19:34:21.014Z"
   },
   {
    "duration": 49,
    "start_time": "2021-10-18T19:34:32.124Z"
   },
   {
    "duration": 320,
    "start_time": "2021-10-18T19:38:13.189Z"
   },
   {
    "duration": 1284,
    "start_time": "2021-10-18T19:38:25.225Z"
   },
   {
    "duration": 251,
    "start_time": "2021-10-18T19:38:26.512Z"
   },
   {
    "duration": 30,
    "start_time": "2021-10-18T19:38:26.769Z"
   },
   {
    "duration": 86,
    "start_time": "2021-10-18T19:38:26.803Z"
   },
   {
    "duration": 239,
    "start_time": "2021-10-18T19:38:26.891Z"
   },
   {
    "duration": 44,
    "start_time": "2021-10-18T19:38:27.132Z"
   },
   {
    "duration": 54,
    "start_time": "2021-10-18T19:38:27.180Z"
   },
   {
    "duration": 193,
    "start_time": "2021-10-18T19:38:27.238Z"
   },
   {
    "duration": 64,
    "start_time": "2021-10-18T19:38:27.435Z"
   },
   {
    "duration": 25,
    "start_time": "2021-10-18T19:38:27.501Z"
   },
   {
    "duration": 73,
    "start_time": "2021-10-18T19:38:27.529Z"
   },
   {
    "duration": 6,
    "start_time": "2021-10-18T19:38:27.605Z"
   },
   {
    "duration": 14,
    "start_time": "2021-10-18T19:38:27.614Z"
   },
   {
    "duration": 39,
    "start_time": "2021-10-18T19:38:27.631Z"
   },
   {
    "duration": 22,
    "start_time": "2021-10-18T19:38:27.674Z"
   },
   {
    "duration": 124,
    "start_time": "2021-10-18T19:38:27.700Z"
   },
   {
    "duration": 1333,
    "start_time": "2021-10-18T19:38:50.912Z"
   },
   {
    "duration": 281,
    "start_time": "2021-10-18T19:38:52.248Z"
   },
   {
    "duration": 39,
    "start_time": "2021-10-18T19:38:52.532Z"
   },
   {
    "duration": 70,
    "start_time": "2021-10-18T19:38:52.575Z"
   },
   {
    "duration": 255,
    "start_time": "2021-10-18T19:38:52.648Z"
   },
   {
    "duration": 34,
    "start_time": "2021-10-18T19:38:52.906Z"
   },
   {
    "duration": 86,
    "start_time": "2021-10-18T19:38:52.943Z"
   },
   {
    "duration": 184,
    "start_time": "2021-10-18T19:38:53.034Z"
   },
   {
    "duration": 67,
    "start_time": "2021-10-18T19:38:53.220Z"
   },
   {
    "duration": 26,
    "start_time": "2021-10-18T19:38:53.290Z"
   },
   {
    "duration": 74,
    "start_time": "2021-10-18T19:38:53.318Z"
   },
   {
    "duration": 6,
    "start_time": "2021-10-18T19:38:53.395Z"
   },
   {
    "duration": 14,
    "start_time": "2021-10-18T19:38:53.404Z"
   },
   {
    "duration": 16,
    "start_time": "2021-10-18T19:38:53.421Z"
   },
   {
    "duration": 36,
    "start_time": "2021-10-18T19:38:53.441Z"
   },
   {
    "duration": 167,
    "start_time": "2021-10-18T19:38:53.480Z"
   },
   {
    "duration": 1256,
    "start_time": "2021-10-18T19:39:19.739Z"
   },
   {
    "duration": 258,
    "start_time": "2021-10-18T19:39:20.999Z"
   },
   {
    "duration": 39,
    "start_time": "2021-10-18T19:39:21.260Z"
   },
   {
    "duration": 84,
    "start_time": "2021-10-18T19:39:21.302Z"
   },
   {
    "duration": 252,
    "start_time": "2021-10-18T19:39:21.389Z"
   },
   {
    "duration": 57,
    "start_time": "2021-10-18T19:39:21.644Z"
   },
   {
    "duration": 74,
    "start_time": "2021-10-18T19:39:21.704Z"
   },
   {
    "duration": 155,
    "start_time": "2021-10-18T19:39:21.783Z"
   },
   {
    "duration": 56,
    "start_time": "2021-10-18T19:39:21.940Z"
   },
   {
    "duration": 30,
    "start_time": "2021-10-18T19:39:21.998Z"
   },
   {
    "duration": 61,
    "start_time": "2021-10-18T19:39:22.031Z"
   },
   {
    "duration": 5,
    "start_time": "2021-10-18T19:39:22.096Z"
   },
   {
    "duration": 19,
    "start_time": "2021-10-18T19:39:22.104Z"
   },
   {
    "duration": 15,
    "start_time": "2021-10-18T19:39:22.125Z"
   },
   {
    "duration": 36,
    "start_time": "2021-10-18T19:39:22.143Z"
   },
   {
    "duration": 123,
    "start_time": "2021-10-18T19:39:22.183Z"
   },
   {
    "duration": 94,
    "start_time": "2021-10-18T19:39:22.309Z"
   },
   {
    "duration": 60,
    "start_time": "2021-10-18T19:42:31.676Z"
   },
   {
    "duration": 378,
    "start_time": "2021-10-18T19:53:41.744Z"
   },
   {
    "duration": 478,
    "start_time": "2021-10-18T19:57:26.153Z"
   },
   {
    "duration": 1586,
    "start_time": "2021-10-18T19:57:44.879Z"
   },
   {
    "duration": 335,
    "start_time": "2021-10-18T19:57:46.468Z"
   },
   {
    "duration": 33,
    "start_time": "2021-10-18T19:57:46.807Z"
   },
   {
    "duration": 102,
    "start_time": "2021-10-18T19:57:46.843Z"
   },
   {
    "duration": 319,
    "start_time": "2021-10-18T19:57:46.948Z"
   },
   {
    "duration": 37,
    "start_time": "2021-10-18T19:57:47.273Z"
   },
   {
    "duration": 78,
    "start_time": "2021-10-18T19:57:47.312Z"
   },
   {
    "duration": 159,
    "start_time": "2021-10-18T19:57:47.393Z"
   },
   {
    "duration": 54,
    "start_time": "2021-10-18T19:57:47.554Z"
   },
   {
    "duration": 24,
    "start_time": "2021-10-18T19:57:47.610Z"
   },
   {
    "duration": 60,
    "start_time": "2021-10-18T19:57:47.636Z"
   },
   {
    "duration": 5,
    "start_time": "2021-10-18T19:57:47.699Z"
   },
   {
    "duration": 12,
    "start_time": "2021-10-18T19:57:47.706Z"
   },
   {
    "duration": 11,
    "start_time": "2021-10-18T19:57:47.721Z"
   },
   {
    "duration": 46,
    "start_time": "2021-10-18T19:57:47.735Z"
   },
   {
    "duration": 123,
    "start_time": "2021-10-18T19:57:47.784Z"
   },
   {
    "duration": 399,
    "start_time": "2021-10-18T19:57:47.909Z"
   },
   {
    "duration": 277,
    "start_time": "2021-10-18T19:58:30.039Z"
   },
   {
    "duration": 327,
    "start_time": "2021-10-18T19:59:19.829Z"
   },
   {
    "duration": 119,
    "start_time": "2021-10-18T19:59:32.561Z"
   },
   {
    "duration": 237,
    "start_time": "2021-10-18T19:59:50.076Z"
   },
   {
    "duration": 276,
    "start_time": "2021-10-18T20:01:11.385Z"
   },
   {
    "duration": 63,
    "start_time": "2021-10-18T20:01:29.908Z"
   },
   {
    "duration": 889,
    "start_time": "2021-10-18T20:01:42.091Z"
   },
   {
    "duration": 77,
    "start_time": "2021-10-18T20:02:01.698Z"
   },
   {
    "duration": 69,
    "start_time": "2021-10-18T20:02:12.345Z"
   },
   {
    "duration": 77,
    "start_time": "2021-10-18T20:03:14.688Z"
   },
   {
    "duration": 73,
    "start_time": "2021-10-18T20:03:26.908Z"
   },
   {
    "duration": 68,
    "start_time": "2021-10-18T20:04:01.983Z"
   },
   {
    "duration": 73,
    "start_time": "2021-10-18T20:05:21.960Z"
   },
   {
    "duration": 74,
    "start_time": "2021-10-18T20:05:41.937Z"
   },
   {
    "duration": 72,
    "start_time": "2021-10-18T20:06:19.588Z"
   },
   {
    "duration": 77,
    "start_time": "2021-10-18T20:06:30.504Z"
   },
   {
    "duration": 66,
    "start_time": "2021-10-18T20:06:40.798Z"
   },
   {
    "duration": 97,
    "start_time": "2021-10-18T20:11:07.233Z"
   },
   {
    "duration": 869,
    "start_time": "2021-10-18T20:11:37.233Z"
   },
   {
    "duration": 4806,
    "start_time": "2021-10-18T20:11:49.676Z"
   },
   {
    "duration": 54,
    "start_time": "2021-10-18T20:12:11.588Z"
   },
   {
    "duration": 401,
    "start_time": "2021-10-18T20:13:28.276Z"
   },
   {
    "duration": 297,
    "start_time": "2021-10-18T20:13:38.964Z"
   },
   {
    "duration": 60,
    "start_time": "2021-10-18T20:14:13.520Z"
   },
   {
    "duration": 263,
    "start_time": "2021-10-18T20:15:52.430Z"
   },
   {
    "duration": 248,
    "start_time": "2021-10-18T20:16:11.958Z"
   },
   {
    "duration": 502,
    "start_time": "2021-10-18T20:16:18.959Z"
   },
   {
    "duration": 312,
    "start_time": "2021-10-18T20:18:55.356Z"
   },
   {
    "duration": 299,
    "start_time": "2021-10-18T20:19:07.711Z"
   },
   {
    "duration": 64,
    "start_time": "2021-10-18T20:19:17.063Z"
   },
   {
    "duration": 329,
    "start_time": "2021-10-18T20:19:34.264Z"
   },
   {
    "duration": 91,
    "start_time": "2021-10-18T20:19:55.708Z"
   },
   {
    "duration": 64,
    "start_time": "2021-10-18T20:20:32.511Z"
   },
   {
    "duration": 62,
    "start_time": "2021-10-18T20:24:11.896Z"
   },
   {
    "duration": 66,
    "start_time": "2021-10-18T20:24:30.837Z"
   },
   {
    "duration": 59,
    "start_time": "2021-10-18T20:24:53.619Z"
   },
   {
    "duration": 95,
    "start_time": "2021-10-18T20:29:00.747Z"
   },
   {
    "duration": 199,
    "start_time": "2021-10-18T20:29:13.829Z"
   },
   {
    "duration": 120,
    "start_time": "2021-10-18T20:30:26.788Z"
   },
   {
    "duration": 64,
    "start_time": "2021-10-18T20:31:50.063Z"
   },
   {
    "duration": 54,
    "start_time": "2021-10-18T20:32:05.418Z"
   },
   {
    "duration": 64,
    "start_time": "2021-10-18T20:32:25.643Z"
   },
   {
    "duration": 56,
    "start_time": "2021-10-18T20:32:33.393Z"
   },
   {
    "duration": 1248,
    "start_time": "2021-10-18T20:32:49.833Z"
   },
   {
    "duration": 288,
    "start_time": "2021-10-18T20:32:51.084Z"
   },
   {
    "duration": 34,
    "start_time": "2021-10-18T20:32:51.376Z"
   },
   {
    "duration": 91,
    "start_time": "2021-10-18T20:32:51.413Z"
   },
   {
    "duration": 246,
    "start_time": "2021-10-18T20:32:51.507Z"
   },
   {
    "duration": 50,
    "start_time": "2021-10-18T20:32:51.755Z"
   },
   {
    "duration": 68,
    "start_time": "2021-10-18T20:32:51.808Z"
   },
   {
    "duration": 176,
    "start_time": "2021-10-18T20:32:51.880Z"
   },
   {
    "duration": 53,
    "start_time": "2021-10-18T20:32:52.059Z"
   },
   {
    "duration": 26,
    "start_time": "2021-10-18T20:32:52.114Z"
   },
   {
    "duration": 60,
    "start_time": "2021-10-18T20:32:52.144Z"
   },
   {
    "duration": 5,
    "start_time": "2021-10-18T20:32:52.206Z"
   },
   {
    "duration": 13,
    "start_time": "2021-10-18T20:32:52.213Z"
   },
   {
    "duration": 12,
    "start_time": "2021-10-18T20:32:52.229Z"
   },
   {
    "duration": 44,
    "start_time": "2021-10-18T20:32:52.243Z"
   },
   {
    "duration": 127,
    "start_time": "2021-10-18T20:32:52.290Z"
   },
   {
    "duration": 112,
    "start_time": "2021-10-18T20:32:52.420Z"
   },
   {
    "duration": 82,
    "start_time": "2021-10-18T20:33:16.157Z"
   },
   {
    "duration": 746,
    "start_time": "2021-10-18T20:33:29.781Z"
   },
   {
    "duration": 80,
    "start_time": "2021-10-18T20:33:41.819Z"
   },
   {
    "duration": 71,
    "start_time": "2021-10-18T20:34:21.386Z"
   },
   {
    "duration": 71,
    "start_time": "2021-10-18T20:35:10.387Z"
   },
   {
    "duration": 74,
    "start_time": "2021-10-18T20:35:25.515Z"
   },
   {
    "duration": 79,
    "start_time": "2021-10-18T20:35:45.052Z"
   },
   {
    "duration": 69,
    "start_time": "2021-10-18T20:36:05.500Z"
   },
   {
    "duration": 73,
    "start_time": "2021-10-18T20:36:23.475Z"
   },
   {
    "duration": 77,
    "start_time": "2021-10-18T20:37:04.348Z"
   },
   {
    "duration": 692,
    "start_time": "2021-10-18T20:38:44.922Z"
   },
   {
    "duration": 5123,
    "start_time": "2021-10-18T20:39:36.150Z"
   },
   {
    "duration": 1843,
    "start_time": "2021-10-18T20:40:06.459Z"
   },
   {
    "duration": 461,
    "start_time": "2021-10-18T20:40:23.599Z"
   },
   {
    "duration": 606,
    "start_time": "2021-10-18T20:40:53.451Z"
   },
   {
    "duration": 50,
    "start_time": "2021-10-18T20:41:13.806Z"
   },
   {
    "duration": 304,
    "start_time": "2021-10-18T20:45:09.574Z"
   },
   {
    "duration": 295,
    "start_time": "2021-10-18T20:45:16.655Z"
   },
   {
    "duration": 284,
    "start_time": "2021-10-18T20:46:05.351Z"
   },
   {
    "duration": 285,
    "start_time": "2021-10-18T21:13:22.591Z"
   },
   {
    "duration": 43,
    "start_time": "2021-10-18T21:13:31.716Z"
   },
   {
    "duration": 1242,
    "start_time": "2021-10-18T21:13:50.149Z"
   },
   {
    "duration": 248,
    "start_time": "2021-10-18T21:13:51.395Z"
   },
   {
    "duration": 33,
    "start_time": "2021-10-18T21:13:51.646Z"
   },
   {
    "duration": 64,
    "start_time": "2021-10-18T21:13:51.687Z"
   },
   {
    "duration": 241,
    "start_time": "2021-10-18T21:13:51.767Z"
   },
   {
    "duration": 31,
    "start_time": "2021-10-18T21:13:52.010Z"
   },
   {
    "duration": 77,
    "start_time": "2021-10-18T21:13:52.043Z"
   },
   {
    "duration": 164,
    "start_time": "2021-10-18T21:13:52.123Z"
   },
   {
    "duration": 42,
    "start_time": "2021-10-18T21:13:52.291Z"
   },
   {
    "duration": 46,
    "start_time": "2021-10-18T21:13:52.335Z"
   },
   {
    "duration": 42,
    "start_time": "2021-10-18T21:13:52.384Z"
   },
   {
    "duration": 5,
    "start_time": "2021-10-18T21:13:52.428Z"
   },
   {
    "duration": 18,
    "start_time": "2021-10-18T21:13:52.435Z"
   },
   {
    "duration": 23,
    "start_time": "2021-10-18T21:13:52.467Z"
   },
   {
    "duration": 24,
    "start_time": "2021-10-18T21:13:52.493Z"
   },
   {
    "duration": 56,
    "start_time": "2021-10-18T21:13:52.520Z"
   },
   {
    "duration": 61,
    "start_time": "2021-10-18T21:13:52.579Z"
   },
   {
    "duration": 1239,
    "start_time": "2021-10-19T20:00:25.956Z"
   },
   {
    "duration": 238,
    "start_time": "2021-10-19T20:00:27.197Z"
   },
   {
    "duration": 39,
    "start_time": "2021-10-19T20:00:27.438Z"
   },
   {
    "duration": 55,
    "start_time": "2021-10-19T20:00:27.479Z"
   },
   {
    "duration": 216,
    "start_time": "2021-10-19T20:00:27.537Z"
   },
   {
    "duration": 31,
    "start_time": "2021-10-19T20:00:27.763Z"
   },
   {
    "duration": 70,
    "start_time": "2021-10-19T20:00:27.797Z"
   },
   {
    "duration": 195,
    "start_time": "2021-10-19T20:00:27.870Z"
   },
   {
    "duration": 37,
    "start_time": "2021-10-19T20:00:28.070Z"
   },
   {
    "duration": 25,
    "start_time": "2021-10-19T20:00:28.109Z"
   },
   {
    "duration": 52,
    "start_time": "2021-10-19T20:00:28.137Z"
   },
   {
    "duration": 6,
    "start_time": "2021-10-19T20:00:28.191Z"
   },
   {
    "duration": 13,
    "start_time": "2021-10-19T20:00:28.199Z"
   },
   {
    "duration": 16,
    "start_time": "2021-10-19T20:00:28.214Z"
   },
   {
    "duration": 41,
    "start_time": "2021-10-19T20:00:28.232Z"
   },
   {
    "duration": 41,
    "start_time": "2021-10-19T20:00:28.275Z"
   },
   {
    "duration": 86,
    "start_time": "2021-10-19T20:00:28.319Z"
   },
   {
    "duration": 14,
    "start_time": "2021-10-19T20:04:56.979Z"
   },
   {
    "duration": 586,
    "start_time": "2021-10-19T20:07:02.736Z"
   },
   {
    "duration": 1242,
    "start_time": "2021-10-19T20:07:20.063Z"
   },
   {
    "duration": 226,
    "start_time": "2021-10-19T20:07:21.307Z"
   },
   {
    "duration": 34,
    "start_time": "2021-10-19T20:07:21.537Z"
   },
   {
    "duration": 61,
    "start_time": "2021-10-19T20:07:21.574Z"
   },
   {
    "duration": 226,
    "start_time": "2021-10-19T20:07:21.638Z"
   },
   {
    "duration": 30,
    "start_time": "2021-10-19T20:07:21.866Z"
   },
   {
    "duration": 72,
    "start_time": "2021-10-19T20:07:21.899Z"
   },
   {
    "duration": 140,
    "start_time": "2021-10-19T20:07:21.975Z"
   },
   {
    "duration": 57,
    "start_time": "2021-10-19T20:07:22.118Z"
   },
   {
    "duration": 24,
    "start_time": "2021-10-19T20:07:22.177Z"
   },
   {
    "duration": 49,
    "start_time": "2021-10-19T20:07:22.204Z"
   },
   {
    "duration": 5,
    "start_time": "2021-10-19T20:07:22.262Z"
   },
   {
    "duration": 13,
    "start_time": "2021-10-19T20:07:22.269Z"
   },
   {
    "duration": 13,
    "start_time": "2021-10-19T20:07:22.285Z"
   },
   {
    "duration": 13,
    "start_time": "2021-10-19T20:07:22.301Z"
   },
   {
    "duration": 78,
    "start_time": "2021-10-19T20:07:22.316Z"
   },
   {
    "duration": 440,
    "start_time": "2021-10-19T20:07:22.396Z"
   },
   {
    "duration": -309,
    "start_time": "2021-10-19T20:07:23.147Z"
   },
   {
    "duration": 94,
    "start_time": "2021-10-19T20:08:03.667Z"
   },
   {
    "duration": 417,
    "start_time": "2021-10-19T20:08:14.827Z"
   },
   {
    "duration": 1194,
    "start_time": "2021-10-19T20:11:07.070Z"
   },
   {
    "duration": 262,
    "start_time": "2021-10-19T20:11:08.266Z"
   },
   {
    "duration": 39,
    "start_time": "2021-10-19T20:11:08.533Z"
   },
   {
    "duration": 61,
    "start_time": "2021-10-19T20:11:08.578Z"
   },
   {
    "duration": 223,
    "start_time": "2021-10-19T20:11:08.642Z"
   },
   {
    "duration": 30,
    "start_time": "2021-10-19T20:11:08.868Z"
   },
   {
    "duration": 80,
    "start_time": "2021-10-19T20:11:08.901Z"
   },
   {
    "duration": 143,
    "start_time": "2021-10-19T20:11:08.985Z"
   },
   {
    "duration": 57,
    "start_time": "2021-10-19T20:11:09.130Z"
   },
   {
    "duration": 26,
    "start_time": "2021-10-19T20:11:09.189Z"
   },
   {
    "duration": 49,
    "start_time": "2021-10-19T20:11:09.218Z"
   },
   {
    "duration": 5,
    "start_time": "2021-10-19T20:11:09.269Z"
   },
   {
    "duration": 11,
    "start_time": "2021-10-19T20:11:09.276Z"
   },
   {
    "duration": 13,
    "start_time": "2021-10-19T20:11:09.289Z"
   },
   {
    "duration": 22,
    "start_time": "2021-10-19T20:11:09.305Z"
   },
   {
    "duration": 72,
    "start_time": "2021-10-19T20:11:09.329Z"
   },
   {
    "duration": 425,
    "start_time": "2021-10-19T20:11:09.403Z"
   },
   {
    "duration": -312,
    "start_time": "2021-10-19T20:11:10.142Z"
   },
   {
    "duration": 1168,
    "start_time": "2021-10-19T20:41:08.907Z"
   },
   {
    "duration": 231,
    "start_time": "2021-10-19T20:41:10.077Z"
   },
   {
    "duration": 22,
    "start_time": "2021-10-19T20:41:10.311Z"
   },
   {
    "duration": 78,
    "start_time": "2021-10-19T20:41:10.335Z"
   },
   {
    "duration": 210,
    "start_time": "2021-10-19T20:41:10.415Z"
   },
   {
    "duration": 40,
    "start_time": "2021-10-19T20:41:10.628Z"
   },
   {
    "duration": 47,
    "start_time": "2021-10-19T20:41:10.670Z"
   },
   {
    "duration": 150,
    "start_time": "2021-10-19T20:41:10.720Z"
   },
   {
    "duration": 33,
    "start_time": "2021-10-19T20:41:10.873Z"
   },
   {
    "duration": 23,
    "start_time": "2021-10-19T20:41:10.909Z"
   },
   {
    "duration": 47,
    "start_time": "2021-10-19T20:41:10.934Z"
   },
   {
    "duration": 5,
    "start_time": "2021-10-19T20:41:10.983Z"
   },
   {
    "duration": 10,
    "start_time": "2021-10-19T20:41:10.990Z"
   },
   {
    "duration": 14,
    "start_time": "2021-10-19T20:41:11.002Z"
   },
   {
    "duration": 48,
    "start_time": "2021-10-19T20:41:11.019Z"
   },
   {
    "duration": 39,
    "start_time": "2021-10-19T20:41:11.070Z"
   },
   {
    "duration": 72,
    "start_time": "2021-10-19T20:41:11.111Z"
   },
   {
    "duration": 1327,
    "start_time": "2021-10-19T21:05:44.957Z"
   },
   {
    "duration": 236,
    "start_time": "2021-10-19T21:05:46.287Z"
   },
   {
    "duration": 36,
    "start_time": "2021-10-19T21:05:46.526Z"
   },
   {
    "duration": 59,
    "start_time": "2021-10-19T21:05:46.565Z"
   },
   {
    "duration": 239,
    "start_time": "2021-10-19T21:05:46.626Z"
   },
   {
    "duration": 30,
    "start_time": "2021-10-19T21:05:46.867Z"
   },
   {
    "duration": 80,
    "start_time": "2021-10-19T21:05:46.899Z"
   },
   {
    "duration": 146,
    "start_time": "2021-10-19T21:05:46.981Z"
   },
   {
    "duration": 51,
    "start_time": "2021-10-19T21:05:47.130Z"
   },
   {
    "duration": 24,
    "start_time": "2021-10-19T21:05:47.185Z"
   },
   {
    "duration": 64,
    "start_time": "2021-10-19T21:05:47.213Z"
   },
   {
    "duration": 5,
    "start_time": "2021-10-19T21:05:47.279Z"
   },
   {
    "duration": 11,
    "start_time": "2021-10-19T21:05:47.287Z"
   },
   {
    "duration": 14,
    "start_time": "2021-10-19T21:05:47.300Z"
   },
   {
    "duration": 44,
    "start_time": "2021-10-19T21:05:47.317Z"
   },
   {
    "duration": 37,
    "start_time": "2021-10-19T21:05:47.364Z"
   },
   {
    "duration": 11,
    "start_time": "2021-10-19T21:05:47.404Z"
   },
   {
    "duration": 98,
    "start_time": "2021-10-19T21:05:47.418Z"
   },
   {
    "duration": 14,
    "start_time": "2021-10-19T21:06:27.817Z"
   },
   {
    "duration": 49,
    "start_time": "2021-10-19T21:06:35.647Z"
   },
   {
    "duration": 17,
    "start_time": "2021-10-19T21:06:50.397Z"
   },
   {
    "duration": 1242,
    "start_time": "2021-10-19T21:07:17.715Z"
   },
   {
    "duration": 226,
    "start_time": "2021-10-19T21:07:18.960Z"
   },
   {
    "duration": 21,
    "start_time": "2021-10-19T21:07:19.189Z"
   },
   {
    "duration": 79,
    "start_time": "2021-10-19T21:07:19.213Z"
   },
   {
    "duration": 207,
    "start_time": "2021-10-19T21:07:19.295Z"
   },
   {
    "duration": 30,
    "start_time": "2021-10-19T21:07:19.504Z"
   },
   {
    "duration": 67,
    "start_time": "2021-10-19T21:07:19.537Z"
   },
   {
    "duration": 147,
    "start_time": "2021-10-19T21:07:19.606Z"
   },
   {
    "duration": 39,
    "start_time": "2021-10-19T21:07:19.756Z"
   },
   {
    "duration": 24,
    "start_time": "2021-10-19T21:07:19.798Z"
   },
   {
    "duration": 57,
    "start_time": "2021-10-19T21:07:19.825Z"
   },
   {
    "duration": 6,
    "start_time": "2021-10-19T21:07:19.884Z"
   },
   {
    "duration": 10,
    "start_time": "2021-10-19T21:07:19.892Z"
   },
   {
    "duration": 11,
    "start_time": "2021-10-19T21:07:19.904Z"
   },
   {
    "duration": 45,
    "start_time": "2021-10-19T21:07:19.918Z"
   },
   {
    "duration": 36,
    "start_time": "2021-10-19T21:07:19.966Z"
   },
   {
    "duration": 16,
    "start_time": "2021-10-19T21:07:20.004Z"
   },
   {
    "duration": 85,
    "start_time": "2021-10-19T21:07:20.023Z"
   },
   {
    "duration": 19,
    "start_time": "2021-10-19T21:08:12.682Z"
   },
   {
    "duration": 1208,
    "start_time": "2021-10-20T15:08:56.669Z"
   },
   {
    "duration": 214,
    "start_time": "2021-10-20T15:08:57.879Z"
   },
   {
    "duration": 21,
    "start_time": "2021-10-20T15:08:58.096Z"
   },
   {
    "duration": 80,
    "start_time": "2021-10-20T15:08:58.120Z"
   },
   {
    "duration": 195,
    "start_time": "2021-10-20T15:08:58.203Z"
   },
   {
    "duration": 28,
    "start_time": "2021-10-20T15:08:58.400Z"
   },
   {
    "duration": 61,
    "start_time": "2021-10-20T15:08:58.430Z"
   },
   {
    "duration": 139,
    "start_time": "2021-10-20T15:08:58.495Z"
   },
   {
    "duration": 42,
    "start_time": "2021-10-20T15:08:58.637Z"
   },
   {
    "duration": 26,
    "start_time": "2021-10-20T15:08:58.681Z"
   },
   {
    "duration": 55,
    "start_time": "2021-10-20T15:08:58.710Z"
   },
   {
    "duration": 4,
    "start_time": "2021-10-20T15:08:58.768Z"
   },
   {
    "duration": 10,
    "start_time": "2021-10-20T15:08:58.775Z"
   },
   {
    "duration": 11,
    "start_time": "2021-10-20T15:08:58.787Z"
   },
   {
    "duration": 13,
    "start_time": "2021-10-20T15:08:58.801Z"
   },
   {
    "duration": 72,
    "start_time": "2021-10-20T15:08:58.816Z"
   },
   {
    "duration": 16,
    "start_time": "2021-10-20T15:08:58.890Z"
   },
   {
    "duration": 77,
    "start_time": "2021-10-20T15:08:58.908Z"
   },
   {
    "duration": 521,
    "start_time": "2021-10-20T15:11:02.174Z"
   },
   {
    "duration": 20,
    "start_time": "2021-10-20T15:11:14.264Z"
   },
   {
    "duration": 10,
    "start_time": "2021-10-20T15:11:46.191Z"
   },
   {
    "duration": 10,
    "start_time": "2021-10-20T15:12:25.577Z"
   },
   {
    "duration": 23,
    "start_time": "2021-10-20T15:14:42.742Z"
   },
   {
    "duration": 23,
    "start_time": "2021-10-20T15:14:48.699Z"
   },
   {
    "duration": 29,
    "start_time": "2021-10-20T15:14:54.307Z"
   },
   {
    "duration": 10296,
    "start_time": "2021-10-20T15:15:28.881Z"
   },
   {
    "duration": 29,
    "start_time": "2021-10-20T15:16:51.637Z"
   },
   {
    "duration": 10,
    "start_time": "2021-10-20T15:19:50.878Z"
   },
   {
    "duration": 12,
    "start_time": "2021-10-20T15:20:20.835Z"
   },
   {
    "duration": 398,
    "start_time": "2021-10-20T15:24:05.100Z"
   },
   {
    "duration": 27,
    "start_time": "2021-10-20T15:24:14.548Z"
   },
   {
    "duration": 32,
    "start_time": "2021-10-20T15:24:35.747Z"
   },
   {
    "duration": 32,
    "start_time": "2021-10-20T15:26:34.873Z"
   },
   {
    "duration": 4,
    "start_time": "2021-10-20T15:28:13.647Z"
   },
   {
    "duration": 11,
    "start_time": "2021-10-20T15:28:41.075Z"
   },
   {
    "duration": 12,
    "start_time": "2021-10-20T15:37:09.212Z"
   },
   {
    "duration": 1738,
    "start_time": "2021-10-20T15:37:22.707Z"
   },
   {
    "duration": 14,
    "start_time": "2021-10-20T15:37:56.724Z"
   },
   {
    "duration": 13,
    "start_time": "2021-10-20T15:38:02.460Z"
   },
   {
    "duration": 1160,
    "start_time": "2021-10-20T15:38:22.514Z"
   },
   {
    "duration": 213,
    "start_time": "2021-10-20T15:38:23.677Z"
   },
   {
    "duration": 22,
    "start_time": "2021-10-20T15:38:23.893Z"
   },
   {
    "duration": 76,
    "start_time": "2021-10-20T15:38:23.918Z"
   },
   {
    "duration": 201,
    "start_time": "2021-10-20T15:38:23.996Z"
   },
   {
    "duration": 33,
    "start_time": "2021-10-20T15:38:24.200Z"
   },
   {
    "duration": 68,
    "start_time": "2021-10-20T15:38:24.236Z"
   },
   {
    "duration": 151,
    "start_time": "2021-10-20T15:38:24.309Z"
   },
   {
    "duration": 37,
    "start_time": "2021-10-20T15:38:24.463Z"
   },
   {
    "duration": 28,
    "start_time": "2021-10-20T15:38:24.502Z"
   },
   {
    "duration": 77,
    "start_time": "2021-10-20T15:38:24.533Z"
   },
   {
    "duration": 4,
    "start_time": "2021-10-20T15:38:24.612Z"
   },
   {
    "duration": 15,
    "start_time": "2021-10-20T15:38:24.619Z"
   },
   {
    "duration": 16,
    "start_time": "2021-10-20T15:38:24.636Z"
   },
   {
    "duration": 19,
    "start_time": "2021-10-20T15:38:24.654Z"
   },
   {
    "duration": 43,
    "start_time": "2021-10-20T15:38:24.676Z"
   },
   {
    "duration": 16,
    "start_time": "2021-10-20T15:38:24.721Z"
   },
   {
    "duration": 62,
    "start_time": "2021-10-20T15:38:24.739Z"
   },
   {
    "duration": 11,
    "start_time": "2021-10-20T15:38:24.803Z"
   },
   {
    "duration": 59,
    "start_time": "2021-10-20T15:38:24.816Z"
   },
   {
    "duration": 31,
    "start_time": "2021-10-20T15:38:24.878Z"
   },
   {
    "duration": 10,
    "start_time": "2021-10-20T15:38:24.911Z"
   },
   {
    "duration": 39,
    "start_time": "2021-10-20T15:38:24.925Z"
   },
   {
    "duration": 36,
    "start_time": "2021-10-20T15:38:24.966Z"
   },
   {
    "duration": 29,
    "start_time": "2021-10-20T15:38:25.004Z"
   },
   {
    "duration": 13,
    "start_time": "2021-10-20T15:38:25.058Z"
   },
   {
    "duration": 1972,
    "start_time": "2021-10-20T15:38:25.074Z"
   },
   {
    "duration": 401,
    "start_time": "2021-10-20T15:38:54.228Z"
   },
   {
    "duration": 14,
    "start_time": "2021-10-20T15:39:06.784Z"
   },
   {
    "duration": 1810,
    "start_time": "2021-10-20T15:39:14.595Z"
   },
   {
    "duration": 1881,
    "start_time": "2021-10-20T15:45:23.180Z"
   },
   {
    "duration": 2005,
    "start_time": "2021-10-20T15:46:14.421Z"
   },
   {
    "duration": 13,
    "start_time": "2021-10-20T15:46:37.139Z"
   },
   {
    "duration": 2038,
    "start_time": "2021-10-20T15:47:16.234Z"
   },
   {
    "duration": 1273,
    "start_time": "2021-10-20T15:48:39.349Z"
   },
   {
    "duration": 215,
    "start_time": "2021-10-20T15:48:40.625Z"
   },
   {
    "duration": 29,
    "start_time": "2021-10-20T15:48:40.843Z"
   },
   {
    "duration": 82,
    "start_time": "2021-10-20T15:48:40.875Z"
   },
   {
    "duration": 206,
    "start_time": "2021-10-20T15:48:40.961Z"
   },
   {
    "duration": 28,
    "start_time": "2021-10-20T15:48:41.169Z"
   },
   {
    "duration": 71,
    "start_time": "2021-10-20T15:48:41.200Z"
   },
   {
    "duration": 141,
    "start_time": "2021-10-20T15:48:41.275Z"
   },
   {
    "duration": 51,
    "start_time": "2021-10-20T15:48:41.420Z"
   },
   {
    "duration": 27,
    "start_time": "2021-10-20T15:48:41.474Z"
   },
   {
    "duration": 61,
    "start_time": "2021-10-20T15:48:41.503Z"
   },
   {
    "duration": 5,
    "start_time": "2021-10-20T15:48:41.566Z"
   },
   {
    "duration": 11,
    "start_time": "2021-10-20T15:48:41.573Z"
   },
   {
    "duration": 23,
    "start_time": "2021-10-20T15:48:41.586Z"
   },
   {
    "duration": 19,
    "start_time": "2021-10-20T15:48:41.611Z"
   },
   {
    "duration": 55,
    "start_time": "2021-10-20T15:48:41.633Z"
   },
   {
    "duration": 17,
    "start_time": "2021-10-20T15:48:41.690Z"
   },
   {
    "duration": 78,
    "start_time": "2021-10-20T15:48:41.710Z"
   },
   {
    "duration": 10,
    "start_time": "2021-10-20T15:48:41.790Z"
   },
   {
    "duration": 32,
    "start_time": "2021-10-20T15:48:41.803Z"
   },
   {
    "duration": 33,
    "start_time": "2021-10-20T15:48:41.857Z"
   },
   {
    "duration": 10,
    "start_time": "2021-10-20T15:48:41.893Z"
   },
   {
    "duration": 13,
    "start_time": "2021-10-20T15:48:41.907Z"
   },
   {
    "duration": 64,
    "start_time": "2021-10-20T15:48:41.923Z"
   },
   {
    "duration": 32,
    "start_time": "2021-10-20T15:48:41.990Z"
   },
   {
    "duration": 38,
    "start_time": "2021-10-20T15:48:42.024Z"
   },
   {
    "duration": 1928,
    "start_time": "2021-10-20T15:48:42.065Z"
   },
   {
    "duration": 13,
    "start_time": "2021-10-20T15:53:46.410Z"
   },
   {
    "duration": 18,
    "start_time": "2021-10-20T15:53:59.123Z"
   },
   {
    "duration": 12,
    "start_time": "2021-10-20T15:55:39.862Z"
   },
   {
    "duration": 11,
    "start_time": "2021-10-20T15:56:27.060Z"
   },
   {
    "duration": 1277,
    "start_time": "2021-10-20T15:56:41.626Z"
   },
   {
    "duration": 217,
    "start_time": "2021-10-20T15:56:42.905Z"
   },
   {
    "duration": 21,
    "start_time": "2021-10-20T15:56:43.125Z"
   },
   {
    "duration": 55,
    "start_time": "2021-10-20T15:56:43.158Z"
   },
   {
    "duration": 216,
    "start_time": "2021-10-20T15:56:43.215Z"
   },
   {
    "duration": 39,
    "start_time": "2021-10-20T15:56:43.434Z"
   },
   {
    "duration": 48,
    "start_time": "2021-10-20T15:56:43.475Z"
   },
   {
    "duration": 155,
    "start_time": "2021-10-20T15:56:43.527Z"
   },
   {
    "duration": 36,
    "start_time": "2021-10-20T15:56:43.685Z"
   },
   {
    "duration": 40,
    "start_time": "2021-10-20T15:56:43.723Z"
   },
   {
    "duration": 83,
    "start_time": "2021-10-20T15:56:43.766Z"
   },
   {
    "duration": 5,
    "start_time": "2021-10-20T15:56:43.851Z"
   },
   {
    "duration": 17,
    "start_time": "2021-10-20T15:56:43.859Z"
   },
   {
    "duration": 16,
    "start_time": "2021-10-20T15:56:43.878Z"
   },
   {
    "duration": 24,
    "start_time": "2021-10-20T15:56:43.896Z"
   },
   {
    "duration": 38,
    "start_time": "2021-10-20T15:56:43.922Z"
   },
   {
    "duration": 16,
    "start_time": "2021-10-20T15:56:43.962Z"
   },
   {
    "duration": 48,
    "start_time": "2021-10-20T15:56:43.980Z"
   },
   {
    "duration": 11,
    "start_time": "2021-10-20T15:56:44.058Z"
   },
   {
    "duration": 33,
    "start_time": "2021-10-20T15:56:44.072Z"
   },
   {
    "duration": 52,
    "start_time": "2021-10-20T15:56:44.107Z"
   },
   {
    "duration": 10,
    "start_time": "2021-10-20T15:56:44.161Z"
   },
   {
    "duration": 41,
    "start_time": "2021-10-20T15:56:44.176Z"
   },
   {
    "duration": 55,
    "start_time": "2021-10-20T15:56:44.220Z"
   },
   {
    "duration": 31,
    "start_time": "2021-10-20T15:56:44.277Z"
   },
   {
    "duration": 11,
    "start_time": "2021-10-20T15:56:44.310Z"
   },
   {
    "duration": 34,
    "start_time": "2021-10-20T15:56:44.323Z"
   },
   {
    "duration": 1270,
    "start_time": "2021-10-20T15:57:03.819Z"
   },
   {
    "duration": 252,
    "start_time": "2021-10-20T15:57:05.092Z"
   },
   {
    "duration": 35,
    "start_time": "2021-10-20T15:57:05.348Z"
   },
   {
    "duration": 106,
    "start_time": "2021-10-20T15:57:05.387Z"
   },
   {
    "duration": 204,
    "start_time": "2021-10-20T15:57:05.496Z"
   },
   {
    "duration": 28,
    "start_time": "2021-10-20T15:57:05.702Z"
   },
   {
    "duration": 63,
    "start_time": "2021-10-20T15:57:05.732Z"
   },
   {
    "duration": 138,
    "start_time": "2021-10-20T15:57:05.799Z"
   },
   {
    "duration": 47,
    "start_time": "2021-10-20T15:57:05.940Z"
   },
   {
    "duration": 27,
    "start_time": "2021-10-20T15:57:05.990Z"
   },
   {
    "duration": 63,
    "start_time": "2021-10-20T15:57:06.020Z"
   },
   {
    "duration": 5,
    "start_time": "2021-10-20T15:57:06.086Z"
   },
   {
    "duration": 14,
    "start_time": "2021-10-20T15:57:06.094Z"
   },
   {
    "duration": 12,
    "start_time": "2021-10-20T15:57:06.111Z"
   },
   {
    "duration": 42,
    "start_time": "2021-10-20T15:57:06.126Z"
   },
   {
    "duration": 38,
    "start_time": "2021-10-20T15:57:06.171Z"
   },
   {
    "duration": 17,
    "start_time": "2021-10-20T15:57:06.211Z"
   },
   {
    "duration": 52,
    "start_time": "2021-10-20T15:57:06.258Z"
   },
   {
    "duration": 10,
    "start_time": "2021-10-20T15:57:06.312Z"
   },
   {
    "duration": 56,
    "start_time": "2021-10-20T15:57:06.325Z"
   },
   {
    "duration": 30,
    "start_time": "2021-10-20T15:57:06.384Z"
   },
   {
    "duration": 10,
    "start_time": "2021-10-20T15:57:06.416Z"
   },
   {
    "duration": 12,
    "start_time": "2021-10-20T15:57:06.456Z"
   },
   {
    "duration": 45,
    "start_time": "2021-10-20T15:57:06.470Z"
   },
   {
    "duration": 41,
    "start_time": "2021-10-20T15:57:06.517Z"
   },
   {
    "duration": 10,
    "start_time": "2021-10-20T15:57:06.560Z"
   },
   {
    "duration": 12,
    "start_time": "2021-10-20T15:57:06.572Z"
   },
   {
    "duration": 12,
    "start_time": "2021-10-20T15:57:59.745Z"
   },
   {
    "duration": 20,
    "start_time": "2021-10-20T15:58:17.107Z"
   },
   {
    "duration": 13,
    "start_time": "2021-10-20T15:58:27.624Z"
   },
   {
    "duration": 1190,
    "start_time": "2021-10-20T15:59:40.400Z"
   },
   {
    "duration": 220,
    "start_time": "2021-10-20T15:59:41.592Z"
   },
   {
    "duration": 21,
    "start_time": "2021-10-20T15:59:41.816Z"
   },
   {
    "duration": 57,
    "start_time": "2021-10-20T15:59:41.860Z"
   },
   {
    "duration": 206,
    "start_time": "2021-10-20T15:59:41.920Z"
   },
   {
    "duration": 38,
    "start_time": "2021-10-20T15:59:42.128Z"
   },
   {
    "duration": 48,
    "start_time": "2021-10-20T15:59:42.168Z"
   },
   {
    "duration": 160,
    "start_time": "2021-10-20T15:59:42.220Z"
   },
   {
    "duration": 34,
    "start_time": "2021-10-20T15:59:42.382Z"
   },
   {
    "duration": 27,
    "start_time": "2021-10-20T15:59:42.418Z"
   },
   {
    "duration": 83,
    "start_time": "2021-10-20T15:59:42.458Z"
   },
   {
    "duration": 5,
    "start_time": "2021-10-20T15:59:42.543Z"
   },
   {
    "duration": 13,
    "start_time": "2021-10-20T15:59:42.551Z"
   },
   {
    "duration": 15,
    "start_time": "2021-10-20T15:59:42.566Z"
   },
   {
    "duration": 22,
    "start_time": "2021-10-20T15:59:42.583Z"
   },
   {
    "duration": 55,
    "start_time": "2021-10-20T15:59:42.607Z"
   },
   {
    "duration": 16,
    "start_time": "2021-10-20T15:59:42.665Z"
   },
   {
    "duration": 49,
    "start_time": "2021-10-20T15:59:42.683Z"
   },
   {
    "duration": 31,
    "start_time": "2021-10-20T15:59:42.735Z"
   },
   {
    "duration": 28,
    "start_time": "2021-10-20T15:59:42.768Z"
   },
   {
    "duration": 61,
    "start_time": "2021-10-20T15:59:42.798Z"
   },
   {
    "duration": 11,
    "start_time": "2021-10-20T15:59:42.861Z"
   },
   {
    "duration": 12,
    "start_time": "2021-10-20T15:59:42.876Z"
   },
   {
    "duration": 35,
    "start_time": "2021-10-20T15:59:42.890Z"
   },
   {
    "duration": 52,
    "start_time": "2021-10-20T15:59:42.927Z"
   },
   {
    "duration": 12,
    "start_time": "2021-10-20T15:59:42.981Z"
   },
   {
    "duration": 24,
    "start_time": "2021-10-20T15:59:42.996Z"
   },
   {
    "duration": 14,
    "start_time": "2021-10-20T16:00:51.383Z"
   },
   {
    "duration": 15,
    "start_time": "2021-10-20T16:01:59.148Z"
   },
   {
    "duration": 13,
    "start_time": "2021-10-20T16:05:18.175Z"
   },
   {
    "duration": 10,
    "start_time": "2021-10-20T16:05:33.260Z"
   },
   {
    "duration": 1164,
    "start_time": "2021-10-20T16:25:52.493Z"
   },
   {
    "duration": 237,
    "start_time": "2021-10-20T16:25:53.661Z"
   },
   {
    "duration": 23,
    "start_time": "2021-10-20T16:25:53.902Z"
   },
   {
    "duration": 81,
    "start_time": "2021-10-20T16:25:53.929Z"
   },
   {
    "duration": 207,
    "start_time": "2021-10-20T16:25:54.014Z"
   },
   {
    "duration": 43,
    "start_time": "2021-10-20T16:25:54.224Z"
   },
   {
    "duration": 49,
    "start_time": "2021-10-20T16:25:54.270Z"
   },
   {
    "duration": 157,
    "start_time": "2021-10-20T16:25:54.324Z"
   },
   {
    "duration": 34,
    "start_time": "2021-10-20T16:25:54.484Z"
   },
   {
    "duration": 39,
    "start_time": "2021-10-20T16:25:54.521Z"
   },
   {
    "duration": 91,
    "start_time": "2021-10-20T16:25:54.562Z"
   },
   {
    "duration": 5,
    "start_time": "2021-10-20T16:25:54.655Z"
   },
   {
    "duration": 12,
    "start_time": "2021-10-20T16:25:54.662Z"
   },
   {
    "duration": 13,
    "start_time": "2021-10-20T16:25:54.676Z"
   },
   {
    "duration": 15,
    "start_time": "2021-10-20T16:25:54.691Z"
   },
   {
    "duration": 59,
    "start_time": "2021-10-20T16:25:54.708Z"
   },
   {
    "duration": 16,
    "start_time": "2021-10-20T16:25:54.769Z"
   },
   {
    "duration": 71,
    "start_time": "2021-10-20T16:25:54.788Z"
   },
   {
    "duration": 11,
    "start_time": "2021-10-20T16:25:54.861Z"
   },
   {
    "duration": 33,
    "start_time": "2021-10-20T16:25:54.874Z"
   },
   {
    "duration": 60,
    "start_time": "2021-10-20T16:25:54.909Z"
   },
   {
    "duration": 10,
    "start_time": "2021-10-20T16:25:54.972Z"
   },
   {
    "duration": 12,
    "start_time": "2021-10-20T16:25:54.986Z"
   },
   {
    "duration": 63,
    "start_time": "2021-10-20T16:25:55.000Z"
   },
   {
    "duration": 28,
    "start_time": "2021-10-20T16:25:55.066Z"
   },
   {
    "duration": 20,
    "start_time": "2021-10-20T16:25:55.096Z"
   },
   {
    "duration": 25,
    "start_time": "2021-10-20T16:47:59.605Z"
   },
   {
    "duration": 42,
    "start_time": "2021-10-20T16:50:14.470Z"
   },
   {
    "duration": 46,
    "start_time": "2021-10-20T16:51:17.132Z"
   },
   {
    "duration": 45,
    "start_time": "2021-10-20T16:52:10.400Z"
   },
   {
    "duration": 30,
    "start_time": "2021-10-20T16:53:02.442Z"
   },
   {
    "duration": 29,
    "start_time": "2021-10-20T16:53:27.645Z"
   },
   {
    "duration": 540,
    "start_time": "2021-10-20T16:54:18.857Z"
   },
   {
    "duration": 16,
    "start_time": "2021-10-20T16:54:31.407Z"
   },
   {
    "duration": 408,
    "start_time": "2021-10-20T16:54:40.853Z"
   },
   {
    "duration": 15,
    "start_time": "2021-10-20T16:54:49.342Z"
   },
   {
    "duration": 15,
    "start_time": "2021-10-20T16:55:28.340Z"
   },
   {
    "duration": 32,
    "start_time": "2021-10-20T16:55:36.837Z"
   },
   {
    "duration": 44,
    "start_time": "2021-10-20T16:56:16.390Z"
   },
   {
    "duration": 21,
    "start_time": "2021-10-20T16:56:28.955Z"
   },
   {
    "duration": 26,
    "start_time": "2021-10-20T16:58:00.550Z"
   },
   {
    "duration": 9,
    "start_time": "2021-10-20T17:00:27.631Z"
   },
   {
    "duration": 8,
    "start_time": "2021-10-20T17:01:10.913Z"
   },
   {
    "duration": 8,
    "start_time": "2021-10-20T17:01:51.840Z"
   },
   {
    "duration": 13,
    "start_time": "2021-10-20T17:02:16.025Z"
   },
   {
    "duration": 9,
    "start_time": "2021-10-20T17:02:24.267Z"
   },
   {
    "duration": 462,
    "start_time": "2021-10-20T17:04:32.670Z"
   },
   {
    "duration": 33,
    "start_time": "2021-10-20T17:04:45.163Z"
   },
   {
    "duration": 10,
    "start_time": "2021-10-20T17:04:49.444Z"
   },
   {
    "duration": 1221,
    "start_time": "2021-10-20T17:06:04.938Z"
   },
   {
    "duration": 238,
    "start_time": "2021-10-20T17:06:06.162Z"
   },
   {
    "duration": 21,
    "start_time": "2021-10-20T17:06:06.403Z"
   },
   {
    "duration": 80,
    "start_time": "2021-10-20T17:06:06.427Z"
   },
   {
    "duration": 202,
    "start_time": "2021-10-20T17:06:06.509Z"
   },
   {
    "duration": 29,
    "start_time": "2021-10-20T17:06:06.713Z"
   },
   {
    "duration": 46,
    "start_time": "2021-10-20T17:06:06.759Z"
   },
   {
    "duration": 151,
    "start_time": "2021-10-20T17:06:06.809Z"
   },
   {
    "duration": 37,
    "start_time": "2021-10-20T17:06:06.964Z"
   },
   {
    "duration": 28,
    "start_time": "2021-10-20T17:06:07.003Z"
   },
   {
    "duration": 79,
    "start_time": "2021-10-20T17:06:07.033Z"
   },
   {
    "duration": 5,
    "start_time": "2021-10-20T17:06:07.114Z"
   },
   {
    "duration": 36,
    "start_time": "2021-10-20T17:06:07.121Z"
   },
   {
    "duration": 24,
    "start_time": "2021-10-20T17:06:07.160Z"
   },
   {
    "duration": 30,
    "start_time": "2021-10-20T17:06:07.186Z"
   },
   {
    "duration": 53,
    "start_time": "2021-10-20T17:06:07.218Z"
   },
   {
    "duration": 16,
    "start_time": "2021-10-20T17:06:07.274Z"
   },
   {
    "duration": 70,
    "start_time": "2021-10-20T17:06:07.293Z"
   },
   {
    "duration": 8,
    "start_time": "2021-10-20T17:06:07.366Z"
   },
   {
    "duration": 9734,
    "start_time": "2021-10-20T17:06:07.376Z"
   },
   {
    "duration": 1182,
    "start_time": "2021-10-20T17:06:15.931Z"
   },
   {
    "duration": 1178,
    "start_time": "2021-10-20T17:06:15.937Z"
   },
   {
    "duration": 1178,
    "start_time": "2021-10-20T17:06:15.939Z"
   },
   {
    "duration": 1177,
    "start_time": "2021-10-20T17:06:15.941Z"
   },
   {
    "duration": 1177,
    "start_time": "2021-10-20T17:06:15.943Z"
   },
   {
    "duration": 1176,
    "start_time": "2021-10-20T17:06:15.945Z"
   },
   {
    "duration": 1175,
    "start_time": "2021-10-20T17:06:15.948Z"
   },
   {
    "duration": 1174,
    "start_time": "2021-10-20T17:06:15.950Z"
   },
   {
    "duration": 1174,
    "start_time": "2021-10-20T17:06:15.952Z"
   },
   {
    "duration": 1173,
    "start_time": "2021-10-20T17:06:15.954Z"
   },
   {
    "duration": 1173,
    "start_time": "2021-10-20T17:06:15.956Z"
   },
   {
    "duration": 16,
    "start_time": "2021-10-20T17:06:41.617Z"
   },
   {
    "duration": 29,
    "start_time": "2021-10-20T17:06:44.176Z"
   },
   {
    "duration": 36,
    "start_time": "2021-10-20T17:06:47.503Z"
   },
   {
    "duration": 978,
    "start_time": "2021-10-20T17:07:00.073Z"
   },
   {
    "duration": 10,
    "start_time": "2021-10-20T17:07:04.215Z"
   },
   {
    "duration": 8,
    "start_time": "2021-10-20T17:07:11.916Z"
   },
   {
    "duration": 12,
    "start_time": "2021-10-20T17:07:15.315Z"
   },
   {
    "duration": 33,
    "start_time": "2021-10-20T17:07:18.473Z"
   },
   {
    "duration": 30,
    "start_time": "2021-10-20T17:07:21.043Z"
   },
   {
    "duration": 22,
    "start_time": "2021-10-20T17:07:24.445Z"
   },
   {
    "duration": 8,
    "start_time": "2021-10-20T17:07:27.687Z"
   },
   {
    "duration": 21,
    "start_time": "2021-10-20T17:07:42.113Z"
   },
   {
    "duration": 12,
    "start_time": "2021-10-20T17:07:50.573Z"
   },
   {
    "duration": 31,
    "start_time": "2021-10-20T17:08:51.271Z"
   },
   {
    "duration": 32,
    "start_time": "2021-10-20T17:09:11.640Z"
   },
   {
    "duration": 10,
    "start_time": "2021-10-20T17:09:17.005Z"
   },
   {
    "duration": 5,
    "start_time": "2021-10-20T17:09:52.019Z"
   },
   {
    "duration": 6,
    "start_time": "2021-10-20T17:10:26.520Z"
   },
   {
    "duration": 10293,
    "start_time": "2021-10-20T17:11:04.572Z"
   },
   {
    "duration": 7,
    "start_time": "2021-10-20T17:11:15.930Z"
   },
   {
    "duration": 7,
    "start_time": "2021-10-20T17:12:00.555Z"
   },
   {
    "duration": 437,
    "start_time": "2021-10-20T17:12:31.482Z"
   },
   {
    "duration": 7,
    "start_time": "2021-10-20T17:13:09.567Z"
   },
   {
    "duration": 11,
    "start_time": "2021-10-20T17:14:30.029Z"
   },
   {
    "duration": 16,
    "start_time": "2021-10-20T17:18:30.621Z"
   },
   {
    "duration": 2977,
    "start_time": "2021-10-20T17:19:55.660Z"
   },
   {
    "duration": 3597,
    "start_time": "2021-10-20T17:20:10.787Z"
   },
   {
    "duration": 1247,
    "start_time": "2021-10-20T17:20:42.891Z"
   },
   {
    "duration": 1194,
    "start_time": "2021-10-20T17:20:57.945Z"
   },
   {
    "duration": 9587,
    "start_time": "2021-10-20T17:21:06.598Z"
   },
   {
    "duration": 10886,
    "start_time": "2021-10-20T17:22:07.261Z"
   },
   {
    "duration": 467,
    "start_time": "2021-10-20T17:25:06.233Z"
   },
   {
    "duration": 388,
    "start_time": "2021-10-20T17:25:22.427Z"
   },
   {
    "duration": 378,
    "start_time": "2021-10-20T17:26:00.994Z"
   },
   {
    "duration": 389,
    "start_time": "2021-10-20T17:26:19.994Z"
   },
   {
    "duration": 406,
    "start_time": "2021-10-20T17:26:44.918Z"
   },
   {
    "duration": 386,
    "start_time": "2021-10-20T17:27:35.315Z"
   },
   {
    "duration": 532,
    "start_time": "2021-10-20T17:28:10.191Z"
   },
   {
    "duration": 518,
    "start_time": "2021-10-20T17:28:22.953Z"
   },
   {
    "duration": 391,
    "start_time": "2021-10-20T17:29:06.952Z"
   },
   {
    "duration": 7,
    "start_time": "2021-10-20T17:29:23.474Z"
   },
   {
    "duration": 11,
    "start_time": "2021-10-20T17:29:47.400Z"
   },
   {
    "duration": 137,
    "start_time": "2021-10-20T17:29:59.474Z"
   },
   {
    "duration": 1249,
    "start_time": "2021-10-20T17:30:15.282Z"
   },
   {
    "duration": 3320,
    "start_time": "2021-10-20T17:30:35.830Z"
   },
   {
    "duration": 14,
    "start_time": "2021-10-20T17:30:51.030Z"
   },
   {
    "duration": 22,
    "start_time": "2021-10-20T17:32:08.107Z"
   },
   {
    "duration": 1189,
    "start_time": "2021-10-20T17:33:02.573Z"
   },
   {
    "duration": 398,
    "start_time": "2021-10-20T17:33:17.511Z"
   },
   {
    "duration": 1158,
    "start_time": "2021-10-20T17:34:29.231Z"
   },
   {
    "duration": 391,
    "start_time": "2021-10-20T17:34:33.952Z"
   },
   {
    "duration": 11371,
    "start_time": "2021-10-20T17:34:45.121Z"
   },
   {
    "duration": 17,
    "start_time": "2021-10-20T17:35:25.585Z"
   },
   {
    "duration": 28,
    "start_time": "2021-10-20T17:36:00.791Z"
   },
   {
    "duration": 1220,
    "start_time": "2021-10-20T17:39:27.459Z"
   },
   {
    "duration": 226,
    "start_time": "2021-10-20T17:39:28.682Z"
   },
   {
    "duration": 22,
    "start_time": "2021-10-20T17:39:28.911Z"
   },
   {
    "duration": 76,
    "start_time": "2021-10-20T17:39:28.936Z"
   },
   {
    "duration": 215,
    "start_time": "2021-10-20T17:39:29.015Z"
   },
   {
    "duration": 38,
    "start_time": "2021-10-20T17:39:29.232Z"
   },
   {
    "duration": 48,
    "start_time": "2021-10-20T17:39:29.273Z"
   },
   {
    "duration": 166,
    "start_time": "2021-10-20T17:39:29.323Z"
   },
   {
    "duration": 35,
    "start_time": "2021-10-20T17:39:29.493Z"
   },
   {
    "duration": 36,
    "start_time": "2021-10-20T17:39:29.531Z"
   },
   {
    "duration": 68,
    "start_time": "2021-10-20T17:39:29.570Z"
   },
   {
    "duration": 5,
    "start_time": "2021-10-20T17:39:29.640Z"
   },
   {
    "duration": 18,
    "start_time": "2021-10-20T17:39:29.647Z"
   },
   {
    "duration": 18,
    "start_time": "2021-10-20T17:39:29.667Z"
   },
   {
    "duration": 18,
    "start_time": "2021-10-20T17:39:29.688Z"
   },
   {
    "duration": 50,
    "start_time": "2021-10-20T17:39:29.708Z"
   },
   {
    "duration": 18,
    "start_time": "2021-10-20T17:39:29.760Z"
   },
   {
    "duration": 54,
    "start_time": "2021-10-20T17:39:29.780Z"
   },
   {
    "duration": 8,
    "start_time": "2021-10-20T17:39:29.858Z"
   },
   {
    "duration": 13,
    "start_time": "2021-10-20T17:39:29.869Z"
   },
   {
    "duration": 29,
    "start_time": "2021-10-20T17:39:29.884Z"
   },
   {
    "duration": 67,
    "start_time": "2021-10-20T17:39:29.916Z"
   },
   {
    "duration": 10,
    "start_time": "2021-10-20T17:39:29.985Z"
   },
   {
    "duration": 16,
    "start_time": "2021-10-20T17:39:29.998Z"
   },
   {
    "duration": 60,
    "start_time": "2021-10-20T17:39:30.016Z"
   },
   {
    "duration": 85,
    "start_time": "2021-10-20T17:39:30.079Z"
   },
   {
    "duration": 30,
    "start_time": "2021-10-20T17:39:30.170Z"
   },
   {
    "duration": 25,
    "start_time": "2021-10-20T17:39:30.204Z"
   },
   {
    "duration": 29,
    "start_time": "2021-10-20T17:39:30.232Z"
   },
   {
    "duration": 104,
    "start_time": "2021-10-20T17:39:30.264Z"
   },
   {
    "duration": 10,
    "start_time": "2021-10-20T17:39:30.370Z"
   },
   {
    "duration": 38,
    "start_time": "2021-10-20T17:39:30.383Z"
   },
   {
    "duration": 32,
    "start_time": "2021-10-20T17:39:30.425Z"
   },
   {
    "duration": 36,
    "start_time": "2021-10-20T17:39:30.459Z"
   },
   {
    "duration": 31,
    "start_time": "2021-10-20T17:39:30.497Z"
   },
   {
    "duration": 35,
    "start_time": "2021-10-20T17:39:30.531Z"
   },
   {
    "duration": 97,
    "start_time": "2021-10-20T17:39:30.568Z"
   },
   {
    "duration": 61,
    "start_time": "2021-10-20T17:39:30.667Z"
   },
   {
    "duration": 10,
    "start_time": "2021-10-20T17:39:42.977Z"
   },
   {
    "duration": 16,
    "start_time": "2021-10-20T17:40:22.151Z"
   },
   {
    "duration": 13,
    "start_time": "2021-10-20T17:40:28.366Z"
   },
   {
    "duration": 1284,
    "start_time": "2021-10-20T17:41:12.319Z"
   },
   {
    "duration": 8,
    "start_time": "2021-10-20T17:41:22.675Z"
   },
   {
    "duration": 8,
    "start_time": "2021-10-20T17:41:30.147Z"
   },
   {
    "duration": 13,
    "start_time": "2021-10-20T17:42:43.586Z"
   },
   {
    "duration": 171,
    "start_time": "2021-10-20T17:42:59.555Z"
   },
   {
    "duration": 164,
    "start_time": "2021-10-20T17:43:13.243Z"
   },
   {
    "duration": 162,
    "start_time": "2021-10-20T17:43:19.589Z"
   },
   {
    "duration": 376,
    "start_time": "2021-10-20T17:43:47.863Z"
   },
   {
    "duration": 16,
    "start_time": "2021-10-20T17:44:19.704Z"
   },
   {
    "duration": 12,
    "start_time": "2021-10-20T17:50:30.424Z"
   },
   {
    "duration": 13,
    "start_time": "2021-10-20T17:50:55.034Z"
   },
   {
    "duration": 14,
    "start_time": "2021-10-20T17:51:09.885Z"
   },
   {
    "duration": 12,
    "start_time": "2021-10-20T17:57:00.119Z"
   },
   {
    "duration": 20,
    "start_time": "2021-10-20T18:03:41.197Z"
   },
   {
    "duration": 22,
    "start_time": "2021-10-20T18:13:52.552Z"
   },
   {
    "duration": 659,
    "start_time": "2021-10-20T18:25:03.479Z"
   },
   {
    "duration": 129,
    "start_time": "2021-10-20T18:26:08.641Z"
   },
   {
    "duration": 648,
    "start_time": "2021-10-20T18:26:38.700Z"
   },
   {
    "duration": 399,
    "start_time": "2021-10-20T18:46:57.209Z"
   },
   {
    "duration": 136,
    "start_time": "2021-10-20T18:47:14.057Z"
   },
   {
    "duration": 15,
    "start_time": "2021-10-20T18:47:50.830Z"
   },
   {
    "duration": 388,
    "start_time": "2021-10-20T18:51:06.007Z"
   },
   {
    "duration": 429,
    "start_time": "2021-10-20T18:52:16.537Z"
   },
   {
    "duration": 644,
    "start_time": "2021-10-20T18:53:07.309Z"
   },
   {
    "duration": 167,
    "start_time": "2021-10-20T18:56:33.626Z"
   },
   {
    "duration": 142,
    "start_time": "2021-10-20T18:57:39.951Z"
   },
   {
    "duration": 9764,
    "start_time": "2021-10-20T19:03:59.233Z"
   },
   {
    "duration": 136,
    "start_time": "2021-10-20T19:05:16.582Z"
   },
   {
    "duration": 6579,
    "start_time": "2021-10-20T19:05:27.420Z"
   },
   {
    "duration": 17,
    "start_time": "2021-10-20T19:06:14.990Z"
   },
   {
    "duration": 1610,
    "start_time": "2021-10-20T19:06:46.141Z"
   },
   {
    "duration": 221,
    "start_time": "2021-10-20T19:06:47.754Z"
   },
   {
    "duration": 22,
    "start_time": "2021-10-20T19:06:47.978Z"
   },
   {
    "duration": 78,
    "start_time": "2021-10-20T19:06:48.003Z"
   },
   {
    "duration": 208,
    "start_time": "2021-10-20T19:06:48.084Z"
   },
   {
    "duration": 29,
    "start_time": "2021-10-20T19:06:48.294Z"
   },
   {
    "duration": 69,
    "start_time": "2021-10-20T19:06:48.327Z"
   },
   {
    "duration": 157,
    "start_time": "2021-10-20T19:06:48.402Z"
   },
   {
    "duration": 37,
    "start_time": "2021-10-20T19:06:48.562Z"
   },
   {
    "duration": 28,
    "start_time": "2021-10-20T19:06:48.601Z"
   },
   {
    "duration": 57,
    "start_time": "2021-10-20T19:06:48.632Z"
   },
   {
    "duration": 5,
    "start_time": "2021-10-20T19:06:48.691Z"
   },
   {
    "duration": 13,
    "start_time": "2021-10-20T19:06:48.699Z"
   },
   {
    "duration": 14,
    "start_time": "2021-10-20T19:06:48.715Z"
   },
   {
    "duration": 36,
    "start_time": "2021-10-20T19:06:48.732Z"
   },
   {
    "duration": 40,
    "start_time": "2021-10-20T19:06:48.770Z"
   },
   {
    "duration": 16,
    "start_time": "2021-10-20T19:06:48.813Z"
   },
   {
    "duration": 80,
    "start_time": "2021-10-20T19:06:48.831Z"
   },
   {
    "duration": 8,
    "start_time": "2021-10-20T19:06:48.913Z"
   },
   {
    "duration": 40,
    "start_time": "2021-10-20T19:06:48.923Z"
   },
   {
    "duration": 30,
    "start_time": "2021-10-20T19:06:48.965Z"
   },
   {
    "duration": 33,
    "start_time": "2021-10-20T19:06:48.998Z"
   },
   {
    "duration": 10,
    "start_time": "2021-10-20T19:06:49.059Z"
   },
   {
    "duration": 13,
    "start_time": "2021-10-20T19:06:49.072Z"
   },
   {
    "duration": 16,
    "start_time": "2021-10-20T19:06:49.088Z"
   },
   {
    "duration": 63,
    "start_time": "2021-10-20T19:06:49.106Z"
   },
   {
    "duration": 30,
    "start_time": "2021-10-20T19:06:49.171Z"
   },
   {
    "duration": 21,
    "start_time": "2021-10-20T19:06:49.203Z"
   },
   {
    "duration": 32,
    "start_time": "2021-10-20T19:06:49.226Z"
   },
   {
    "duration": 34,
    "start_time": "2021-10-20T19:06:49.260Z"
   },
   {
    "duration": 9,
    "start_time": "2021-10-20T19:06:49.297Z"
   },
   {
    "duration": 12,
    "start_time": "2021-10-20T19:06:49.309Z"
   },
   {
    "duration": 36,
    "start_time": "2021-10-20T19:06:49.323Z"
   },
   {
    "duration": 22,
    "start_time": "2021-10-20T19:06:49.361Z"
   },
   {
    "duration": 37,
    "start_time": "2021-10-20T19:06:49.385Z"
   },
   {
    "duration": 19,
    "start_time": "2021-10-20T19:06:49.425Z"
   },
   {
    "duration": 22,
    "start_time": "2021-10-20T19:06:49.447Z"
   },
   {
    "duration": 31,
    "start_time": "2021-10-20T19:06:49.471Z"
   },
   {
    "duration": 9,
    "start_time": "2021-10-20T19:06:49.505Z"
   },
   {
    "duration": 23,
    "start_time": "2021-10-20T19:06:49.516Z"
   },
   {
    "duration": 23,
    "start_time": "2021-10-20T19:06:49.542Z"
   },
   {
    "duration": 13,
    "start_time": "2021-10-20T19:06:49.568Z"
   },
   {
    "duration": 17,
    "start_time": "2021-10-20T19:06:49.583Z"
   },
   {
    "duration": 23,
    "start_time": "2021-10-20T19:06:49.603Z"
   },
   {
    "duration": 92,
    "start_time": "2021-10-20T19:06:49.628Z"
   },
   {
    "duration": 796,
    "start_time": "2021-10-20T19:06:49.722Z"
   },
   {
    "duration": 486,
    "start_time": "2021-10-20T19:09:25.836Z"
   },
   {
    "duration": 16,
    "start_time": "2021-10-20T19:12:20.769Z"
   },
   {
    "duration": 17,
    "start_time": "2021-10-20T19:20:41.041Z"
   },
   {
    "duration": 15,
    "start_time": "2021-10-20T19:20:47.320Z"
   },
   {
    "duration": 16,
    "start_time": "2021-10-20T19:21:48.758Z"
   },
   {
    "duration": 11,
    "start_time": "2021-10-20T19:22:25.674Z"
   },
   {
    "duration": 14,
    "start_time": "2021-10-20T19:22:31.591Z"
   },
   {
    "duration": 22,
    "start_time": "2021-10-20T19:27:40.827Z"
   },
   {
    "duration": 1214,
    "start_time": "2021-10-20T19:28:35.096Z"
   },
   {
    "duration": 222,
    "start_time": "2021-10-20T19:28:36.313Z"
   },
   {
    "duration": 26,
    "start_time": "2021-10-20T19:28:36.540Z"
   },
   {
    "duration": 61,
    "start_time": "2021-10-20T19:28:36.570Z"
   },
   {
    "duration": 223,
    "start_time": "2021-10-20T19:28:36.635Z"
   },
   {
    "duration": 29,
    "start_time": "2021-10-20T19:28:36.860Z"
   },
   {
    "duration": 67,
    "start_time": "2021-10-20T19:28:36.891Z"
   },
   {
    "duration": 138,
    "start_time": "2021-10-20T19:28:36.960Z"
   },
   {
    "duration": 34,
    "start_time": "2021-10-20T19:28:37.102Z"
   },
   {
    "duration": 43,
    "start_time": "2021-10-20T19:28:37.139Z"
   },
   {
    "duration": 50,
    "start_time": "2021-10-20T19:28:37.185Z"
   },
   {
    "duration": 5,
    "start_time": "2021-10-20T19:28:37.237Z"
   },
   {
    "duration": 39,
    "start_time": "2021-10-20T19:28:37.245Z"
   },
   {
    "duration": 13,
    "start_time": "2021-10-20T19:28:37.286Z"
   },
   {
    "duration": 38,
    "start_time": "2021-10-20T19:28:37.302Z"
   },
   {
    "duration": 51,
    "start_time": "2021-10-20T19:28:37.343Z"
   },
   {
    "duration": 19,
    "start_time": "2021-10-20T19:28:37.397Z"
   },
   {
    "duration": 80,
    "start_time": "2021-10-20T19:28:37.418Z"
   },
   {
    "duration": 9,
    "start_time": "2021-10-20T19:28:37.501Z"
   },
   {
    "duration": 15,
    "start_time": "2021-10-20T19:28:37.513Z"
   },
   {
    "duration": 54,
    "start_time": "2021-10-20T19:28:37.531Z"
   },
   {
    "duration": 36,
    "start_time": "2021-10-20T19:28:37.587Z"
   },
   {
    "duration": 36,
    "start_time": "2021-10-20T19:28:37.626Z"
   },
   {
    "duration": 14,
    "start_time": "2021-10-20T19:28:37.665Z"
   },
   {
    "duration": 16,
    "start_time": "2021-10-20T19:28:37.682Z"
   },
   {
    "duration": 60,
    "start_time": "2021-10-20T19:28:37.700Z"
   },
   {
    "duration": 31,
    "start_time": "2021-10-20T19:28:37.765Z"
   },
   {
    "duration": 22,
    "start_time": "2021-10-20T19:28:37.798Z"
   },
   {
    "duration": 8,
    "start_time": "2021-10-20T19:28:37.822Z"
   },
   {
    "duration": 56,
    "start_time": "2021-10-20T19:28:37.832Z"
   },
   {
    "duration": 10,
    "start_time": "2021-10-20T19:28:37.891Z"
   },
   {
    "duration": 7,
    "start_time": "2021-10-20T19:28:37.903Z"
   },
   {
    "duration": 47,
    "start_time": "2021-10-20T19:28:37.912Z"
   },
   {
    "duration": 8,
    "start_time": "2021-10-20T19:28:37.962Z"
   },
   {
    "duration": 6,
    "start_time": "2021-10-20T19:28:37.972Z"
   },
   {
    "duration": 10,
    "start_time": "2021-10-20T19:28:37.981Z"
   },
   {
    "duration": 13,
    "start_time": "2021-10-20T19:28:37.994Z"
   },
   {
    "duration": 64,
    "start_time": "2021-10-20T19:28:38.009Z"
   },
   {
    "duration": 8,
    "start_time": "2021-10-20T19:28:38.076Z"
   },
   {
    "duration": 16,
    "start_time": "2021-10-20T19:28:38.086Z"
   },
   {
    "duration": 22,
    "start_time": "2021-10-20T19:28:38.104Z"
   },
   {
    "duration": 39,
    "start_time": "2021-10-20T19:28:38.128Z"
   },
   {
    "duration": 12,
    "start_time": "2021-10-20T19:28:38.169Z"
   },
   {
    "duration": 14,
    "start_time": "2021-10-20T19:28:38.184Z"
   },
   {
    "duration": 23,
    "start_time": "2021-10-20T19:28:38.200Z"
   },
   {
    "duration": 13,
    "start_time": "2021-10-20T19:28:38.258Z"
   },
   {
    "duration": 18,
    "start_time": "2021-10-20T19:30:47.390Z"
   },
   {
    "duration": 5,
    "start_time": "2021-10-20T19:33:34.286Z"
   },
   {
    "duration": 16,
    "start_time": "2021-10-20T19:33:38.005Z"
   },
   {
    "duration": 1178,
    "start_time": "2021-10-21T05:59:43.077Z"
   },
   {
    "duration": 229,
    "start_time": "2021-10-21T05:59:44.258Z"
   },
   {
    "duration": 21,
    "start_time": "2021-10-21T05:59:44.490Z"
   },
   {
    "duration": 84,
    "start_time": "2021-10-21T05:59:44.514Z"
   },
   {
    "duration": 212,
    "start_time": "2021-10-21T05:59:44.601Z"
   },
   {
    "duration": 31,
    "start_time": "2021-10-21T05:59:44.817Z"
   },
   {
    "duration": 48,
    "start_time": "2021-10-21T05:59:44.869Z"
   },
   {
    "duration": 167,
    "start_time": "2021-10-21T05:59:44.923Z"
   },
   {
    "duration": 38,
    "start_time": "2021-10-21T05:59:45.095Z"
   },
   {
    "duration": 47,
    "start_time": "2021-10-21T05:59:45.136Z"
   },
   {
    "duration": 46,
    "start_time": "2021-10-21T05:59:45.186Z"
   },
   {
    "duration": 5,
    "start_time": "2021-10-21T05:59:45.234Z"
   },
   {
    "duration": 32,
    "start_time": "2021-10-21T05:59:45.241Z"
   },
   {
    "duration": 11,
    "start_time": "2021-10-21T05:59:45.276Z"
   },
   {
    "duration": 17,
    "start_time": "2021-10-21T05:59:45.290Z"
   },
   {
    "duration": 59,
    "start_time": "2021-10-21T05:59:45.310Z"
   },
   {
    "duration": 17,
    "start_time": "2021-10-21T05:59:45.372Z"
   },
   {
    "duration": 76,
    "start_time": "2021-10-21T05:59:45.391Z"
   },
   {
    "duration": 9,
    "start_time": "2021-10-21T05:59:45.469Z"
   },
   {
    "duration": 13,
    "start_time": "2021-10-21T05:59:45.480Z"
   },
   {
    "duration": 30,
    "start_time": "2021-10-21T05:59:45.495Z"
   },
   {
    "duration": 70,
    "start_time": "2021-10-21T05:59:45.527Z"
   },
   {
    "duration": 11,
    "start_time": "2021-10-21T05:59:45.602Z"
   },
   {
    "duration": 9,
    "start_time": "2021-10-21T05:59:45.616Z"
   },
   {
    "duration": 47,
    "start_time": "2021-10-21T05:59:45.627Z"
   },
   {
    "duration": 36,
    "start_time": "2021-10-21T05:59:45.676Z"
   },
   {
    "duration": 56,
    "start_time": "2021-10-21T05:59:45.714Z"
   },
   {
    "duration": 20,
    "start_time": "2021-10-21T05:59:45.773Z"
   },
   {
    "duration": 9,
    "start_time": "2021-10-21T05:59:45.795Z"
   },
   {
    "duration": 61,
    "start_time": "2021-10-21T05:59:45.806Z"
   },
   {
    "duration": 10,
    "start_time": "2021-10-21T05:59:45.870Z"
   },
   {
    "duration": 7,
    "start_time": "2021-10-21T05:59:45.882Z"
   },
   {
    "duration": 7,
    "start_time": "2021-10-21T05:59:45.891Z"
   },
   {
    "duration": 8,
    "start_time": "2021-10-21T05:59:45.900Z"
   },
   {
    "duration": 6,
    "start_time": "2021-10-21T05:59:45.910Z"
   },
   {
    "duration": 55,
    "start_time": "2021-10-21T05:59:45.918Z"
   },
   {
    "duration": 14,
    "start_time": "2021-10-21T05:59:45.975Z"
   },
   {
    "duration": 25,
    "start_time": "2021-10-21T05:59:45.991Z"
   },
   {
    "duration": 10,
    "start_time": "2021-10-21T05:59:46.018Z"
   },
   {
    "duration": 13,
    "start_time": "2021-10-21T05:59:46.068Z"
   },
   {
    "duration": 15,
    "start_time": "2021-10-21T05:59:46.084Z"
   },
   {
    "duration": 14,
    "start_time": "2021-10-21T05:59:46.102Z"
   },
   {
    "duration": 51,
    "start_time": "2021-10-21T05:59:46.119Z"
   },
   {
    "duration": 11,
    "start_time": "2021-10-21T05:59:46.173Z"
   },
   {
    "duration": 10,
    "start_time": "2021-10-21T05:59:46.187Z"
   },
   {
    "duration": 16,
    "start_time": "2021-10-21T05:59:46.200Z"
   },
   {
    "duration": 51,
    "start_time": "2021-10-21T05:59:46.218Z"
   },
   {
    "duration": 72,
    "start_time": "2021-10-21T06:02:57.517Z"
   },
   {
    "duration": 16,
    "start_time": "2021-10-21T06:03:12.545Z"
   },
   {
    "duration": 355,
    "start_time": "2021-10-21T06:04:29.024Z"
   },
   {
    "duration": 14,
    "start_time": "2021-10-21T06:04:43.674Z"
   },
   {
    "duration": 27,
    "start_time": "2021-10-21T06:05:12.551Z"
   },
   {
    "duration": 314,
    "start_time": "2021-10-21T06:05:35.280Z"
   },
   {
    "duration": 5,
    "start_time": "2021-10-21T06:13:37.750Z"
   },
   {
    "duration": 8,
    "start_time": "2021-10-21T06:13:51.167Z"
   },
   {
    "duration": 11,
    "start_time": "2021-10-21T06:15:21.620Z"
   },
   {
    "duration": 1223,
    "start_time": "2021-10-21T06:15:47.298Z"
   },
   {
    "duration": 241,
    "start_time": "2021-10-21T06:15:48.523Z"
   },
   {
    "duration": 26,
    "start_time": "2021-10-21T06:15:48.768Z"
   },
   {
    "duration": 90,
    "start_time": "2021-10-21T06:15:48.798Z"
   },
   {
    "duration": 246,
    "start_time": "2021-10-21T06:15:48.891Z"
   },
   {
    "duration": 44,
    "start_time": "2021-10-21T06:15:49.139Z"
   },
   {
    "duration": 54,
    "start_time": "2021-10-21T06:15:49.185Z"
   },
   {
    "duration": 177,
    "start_time": "2021-10-21T06:15:49.242Z"
   },
   {
    "duration": 54,
    "start_time": "2021-10-21T06:15:49.425Z"
   },
   {
    "duration": 28,
    "start_time": "2021-10-21T06:15:49.484Z"
   },
   {
    "duration": 43,
    "start_time": "2021-10-21T06:15:49.515Z"
   },
   {
    "duration": 6,
    "start_time": "2021-10-21T06:15:49.568Z"
   },
   {
    "duration": 14,
    "start_time": "2021-10-21T06:15:49.578Z"
   },
   {
    "duration": 15,
    "start_time": "2021-10-21T06:15:49.594Z"
   },
   {
    "duration": 14,
    "start_time": "2021-10-21T06:15:49.612Z"
   },
   {
    "duration": 70,
    "start_time": "2021-10-21T06:15:49.628Z"
   },
   {
    "duration": 17,
    "start_time": "2021-10-21T06:15:49.700Z"
   },
   {
    "duration": 91,
    "start_time": "2021-10-21T06:15:49.719Z"
   },
   {
    "duration": 8,
    "start_time": "2021-10-21T06:15:49.812Z"
   },
   {
    "duration": 21,
    "start_time": "2021-10-21T06:15:49.823Z"
   },
   {
    "duration": 46,
    "start_time": "2021-10-21T06:15:49.847Z"
   },
   {
    "duration": 35,
    "start_time": "2021-10-21T06:15:49.895Z"
   },
   {
    "duration": 10,
    "start_time": "2021-10-21T06:15:49.932Z"
   },
   {
    "duration": 11,
    "start_time": "2021-10-21T06:15:49.968Z"
   },
   {
    "duration": 15,
    "start_time": "2021-10-21T06:15:49.982Z"
   },
   {
    "duration": 77,
    "start_time": "2021-10-21T06:15:50.000Z"
   },
   {
    "duration": 30,
    "start_time": "2021-10-21T06:15:50.085Z"
   },
   {
    "duration": 19,
    "start_time": "2021-10-21T06:15:50.120Z"
   },
   {
    "duration": 11,
    "start_time": "2021-10-21T06:15:50.167Z"
   },
   {
    "duration": 40,
    "start_time": "2021-10-21T06:15:50.181Z"
   },
   {
    "duration": 9,
    "start_time": "2021-10-21T06:15:50.224Z"
   },
   {
    "duration": 34,
    "start_time": "2021-10-21T06:15:50.235Z"
   },
   {
    "duration": 11,
    "start_time": "2021-10-21T06:15:50.272Z"
   },
   {
    "duration": 18,
    "start_time": "2021-10-21T06:15:50.285Z"
   },
   {
    "duration": 9,
    "start_time": "2021-10-21T06:15:50.305Z"
   },
   {
    "duration": 13,
    "start_time": "2021-10-21T06:15:50.316Z"
   },
   {
    "duration": 47,
    "start_time": "2021-10-21T06:15:50.332Z"
   },
   {
    "duration": 30,
    "start_time": "2021-10-21T06:15:50.383Z"
   },
   {
    "duration": 10,
    "start_time": "2021-10-21T06:15:50.416Z"
   },
   {
    "duration": 47,
    "start_time": "2021-10-21T06:15:50.429Z"
   },
   {
    "duration": 18,
    "start_time": "2021-10-21T06:15:50.479Z"
   },
   {
    "duration": 14,
    "start_time": "2021-10-21T06:15:50.500Z"
   },
   {
    "duration": 13,
    "start_time": "2021-10-21T06:15:50.517Z"
   },
   {
    "duration": 12,
    "start_time": "2021-10-21T06:15:50.569Z"
   },
   {
    "duration": 19,
    "start_time": "2021-10-21T06:15:50.584Z"
   },
   {
    "duration": 317,
    "start_time": "2021-10-21T06:15:50.605Z"
   },
   {
    "duration": 13,
    "start_time": "2021-10-21T06:15:50.925Z"
   },
   {
    "duration": 33,
    "start_time": "2021-10-21T06:15:50.941Z"
   },
   {
    "duration": 371,
    "start_time": "2021-10-21T06:15:50.976Z"
   },
   {
    "duration": 802,
    "start_time": "2021-10-21T06:15:50.549Z"
   },
   {
    "duration": 9,
    "start_time": "2021-10-21T06:16:27.871Z"
   },
   {
    "duration": 1174,
    "start_time": "2021-10-21T06:16:42.089Z"
   },
   {
    "duration": 229,
    "start_time": "2021-10-21T06:16:43.267Z"
   },
   {
    "duration": 22,
    "start_time": "2021-10-21T06:16:43.500Z"
   },
   {
    "duration": 79,
    "start_time": "2021-10-21T06:16:43.525Z"
   },
   {
    "duration": 207,
    "start_time": "2021-10-21T06:16:43.607Z"
   },
   {
    "duration": 31,
    "start_time": "2021-10-21T06:16:43.817Z"
   },
   {
    "duration": 47,
    "start_time": "2021-10-21T06:16:43.868Z"
   },
   {
    "duration": 158,
    "start_time": "2021-10-21T06:16:43.918Z"
   },
   {
    "duration": 35,
    "start_time": "2021-10-21T06:16:44.081Z"
   },
   {
    "duration": 25,
    "start_time": "2021-10-21T06:16:44.119Z"
   },
   {
    "duration": 59,
    "start_time": "2021-10-21T06:16:44.146Z"
   },
   {
    "duration": 5,
    "start_time": "2021-10-21T06:16:44.208Z"
   },
   {
    "duration": 14,
    "start_time": "2021-10-21T06:16:44.216Z"
   },
   {
    "duration": 13,
    "start_time": "2021-10-21T06:16:44.232Z"
   },
   {
    "duration": 13,
    "start_time": "2021-10-21T06:16:44.267Z"
   },
   {
    "duration": 39,
    "start_time": "2021-10-21T06:16:44.282Z"
   },
   {
    "duration": 44,
    "start_time": "2021-10-21T06:16:44.323Z"
   },
   {
    "duration": 54,
    "start_time": "2021-10-21T06:16:44.369Z"
   },
   {
    "duration": 8,
    "start_time": "2021-10-21T06:16:44.426Z"
   },
   {
    "duration": 38,
    "start_time": "2021-10-21T06:16:44.436Z"
   },
   {
    "duration": 29,
    "start_time": "2021-10-21T06:16:44.476Z"
   },
   {
    "duration": 34,
    "start_time": "2021-10-21T06:16:44.507Z"
   },
   {
    "duration": 10,
    "start_time": "2021-10-21T06:16:44.567Z"
   },
   {
    "duration": 11,
    "start_time": "2021-10-21T06:16:44.579Z"
   },
   {
    "duration": 14,
    "start_time": "2021-10-21T06:16:44.592Z"
   },
   {
    "duration": 67,
    "start_time": "2021-10-21T06:16:44.609Z"
   },
   {
    "duration": 30,
    "start_time": "2021-10-21T06:16:44.682Z"
   },
   {
    "duration": 19,
    "start_time": "2021-10-21T06:16:44.715Z"
   },
   {
    "duration": 30,
    "start_time": "2021-10-21T06:16:44.737Z"
   },
   {
    "duration": 31,
    "start_time": "2021-10-21T06:16:44.770Z"
   },
   {
    "duration": 9,
    "start_time": "2021-10-21T06:16:44.803Z"
   },
   {
    "duration": 6,
    "start_time": "2021-10-21T06:16:44.814Z"
   },
   {
    "duration": 47,
    "start_time": "2021-10-21T06:16:44.822Z"
   },
   {
    "duration": 5,
    "start_time": "2021-10-21T06:16:44.872Z"
   },
   {
    "duration": 6,
    "start_time": "2021-10-21T06:16:44.880Z"
   },
   {
    "duration": 10,
    "start_time": "2021-10-21T06:16:44.889Z"
   },
   {
    "duration": 14,
    "start_time": "2021-10-21T06:16:44.901Z"
   },
   {
    "duration": 59,
    "start_time": "2021-10-21T06:16:44.918Z"
   },
   {
    "duration": 9,
    "start_time": "2021-10-21T06:16:44.980Z"
   },
   {
    "duration": 13,
    "start_time": "2021-10-21T06:16:44.992Z"
   },
   {
    "duration": 20,
    "start_time": "2021-10-21T06:16:45.007Z"
   },
   {
    "duration": 20,
    "start_time": "2021-10-21T06:16:45.067Z"
   },
   {
    "duration": 23,
    "start_time": "2021-10-21T06:16:45.090Z"
   },
   {
    "duration": 20,
    "start_time": "2021-10-21T06:16:45.115Z"
   },
   {
    "duration": 38,
    "start_time": "2021-10-21T06:16:45.137Z"
   },
   {
    "duration": 295,
    "start_time": "2021-10-21T06:16:45.177Z"
   },
   {
    "duration": 10,
    "start_time": "2021-10-21T06:16:45.474Z"
   },
   {
    "duration": 14,
    "start_time": "2021-10-21T06:16:45.486Z"
   },
   {
    "duration": 373,
    "start_time": "2021-10-21T06:16:45.502Z"
   },
   {
    "duration": 816,
    "start_time": "2021-10-21T06:16:45.061Z"
   },
   {
    "duration": 234,
    "start_time": "2021-10-21T06:17:06.772Z"
   },
   {
    "duration": 75,
    "start_time": "2021-10-21T06:21:43.777Z"
   },
   {
    "duration": 5755,
    "start_time": "2021-10-21T06:21:51.440Z"
   },
   {
    "duration": 9,
    "start_time": "2021-10-21T06:22:05.724Z"
   },
   {
    "duration": 28,
    "start_time": "2021-10-21T06:24:27.603Z"
   },
   {
    "duration": 246,
    "start_time": "2021-10-21T06:24:37.451Z"
   },
   {
    "duration": 9,
    "start_time": "2021-10-21T06:25:28.516Z"
   },
   {
    "duration": 8770,
    "start_time": "2021-10-21T06:26:59.055Z"
   },
   {
    "duration": 9,
    "start_time": "2021-10-21T06:27:10.296Z"
   },
   {
    "duration": 30,
    "start_time": "2021-10-21T06:27:36.566Z"
   },
   {
    "duration": 8,
    "start_time": "2021-10-21T06:28:03.346Z"
   },
   {
    "duration": 2108,
    "start_time": "2021-10-21T06:30:33.129Z"
   },
   {
    "duration": 2552,
    "start_time": "2021-10-21T06:31:05.685Z"
   },
   {
    "duration": 1257,
    "start_time": "2021-10-21T06:31:18.752Z"
   },
   {
    "duration": 242,
    "start_time": "2021-10-21T06:31:20.012Z"
   },
   {
    "duration": 27,
    "start_time": "2021-10-21T06:31:20.257Z"
   },
   {
    "duration": 81,
    "start_time": "2021-10-21T06:31:20.287Z"
   },
   {
    "duration": 211,
    "start_time": "2021-10-21T06:31:20.371Z"
   },
   {
    "duration": 30,
    "start_time": "2021-10-21T06:31:20.584Z"
   },
   {
    "duration": 76,
    "start_time": "2021-10-21T06:31:20.616Z"
   },
   {
    "duration": 149,
    "start_time": "2021-10-21T06:31:20.696Z"
   },
   {
    "duration": 51,
    "start_time": "2021-10-21T06:31:20.848Z"
   },
   {
    "duration": 27,
    "start_time": "2021-10-21T06:31:20.902Z"
   },
   {
    "duration": 47,
    "start_time": "2021-10-21T06:31:20.931Z"
   },
   {
    "duration": 5,
    "start_time": "2021-10-21T06:31:20.980Z"
   },
   {
    "duration": 17,
    "start_time": "2021-10-21T06:31:20.987Z"
   },
   {
    "duration": 18,
    "start_time": "2021-10-21T06:31:21.006Z"
   },
   {
    "duration": 18,
    "start_time": "2021-10-21T06:31:21.027Z"
   },
   {
    "duration": 59,
    "start_time": "2021-10-21T06:31:21.047Z"
   },
   {
    "duration": 17,
    "start_time": "2021-10-21T06:31:21.109Z"
   },
   {
    "duration": 88,
    "start_time": "2021-10-21T06:31:21.129Z"
   },
   {
    "duration": 9,
    "start_time": "2021-10-21T06:31:21.220Z"
   },
   {
    "duration": 14,
    "start_time": "2021-10-21T06:31:21.232Z"
   },
   {
    "duration": 49,
    "start_time": "2021-10-21T06:31:21.248Z"
   },
   {
    "duration": 37,
    "start_time": "2021-10-21T06:31:21.299Z"
   },
   {
    "duration": 35,
    "start_time": "2021-10-21T06:31:21.342Z"
   },
   {
    "duration": 14,
    "start_time": "2021-10-21T06:31:21.380Z"
   },
   {
    "duration": 21,
    "start_time": "2021-10-21T06:31:21.397Z"
   },
   {
    "duration": 57,
    "start_time": "2021-10-21T06:31:21.421Z"
   },
   {
    "duration": 29,
    "start_time": "2021-10-21T06:31:21.481Z"
   },
   {
    "duration": 18,
    "start_time": "2021-10-21T06:31:21.513Z"
   },
   {
    "duration": 34,
    "start_time": "2021-10-21T06:31:21.533Z"
   },
   {
    "duration": 33,
    "start_time": "2021-10-21T06:31:21.570Z"
   },
   {
    "duration": 9,
    "start_time": "2021-10-21T06:31:21.605Z"
   },
   {
    "duration": 6,
    "start_time": "2021-10-21T06:31:21.616Z"
   },
   {
    "duration": 46,
    "start_time": "2021-10-21T06:31:21.625Z"
   },
   {
    "duration": 8,
    "start_time": "2021-10-21T06:31:21.674Z"
   },
   {
    "duration": 9,
    "start_time": "2021-10-21T06:31:21.685Z"
   },
   {
    "duration": 11,
    "start_time": "2021-10-21T06:31:21.697Z"
   },
   {
    "duration": 58,
    "start_time": "2021-10-21T06:31:21.711Z"
   },
   {
    "duration": 25,
    "start_time": "2021-10-21T06:31:21.772Z"
   },
   {
    "duration": 12,
    "start_time": "2021-10-21T06:31:21.800Z"
   },
   {
    "duration": 16,
    "start_time": "2021-10-21T06:31:21.815Z"
   },
   {
    "duration": 17,
    "start_time": "2021-10-21T06:31:21.868Z"
   },
   {
    "duration": 15,
    "start_time": "2021-10-21T06:31:21.887Z"
   },
   {
    "duration": 13,
    "start_time": "2021-10-21T06:31:21.904Z"
   },
   {
    "duration": 54,
    "start_time": "2021-10-21T06:31:21.920Z"
   },
   {
    "duration": 21,
    "start_time": "2021-10-21T06:31:21.976Z"
   },
   {
    "duration": 312,
    "start_time": "2021-10-21T06:31:21.999Z"
   },
   {
    "duration": 11,
    "start_time": "2021-10-21T06:31:22.313Z"
   },
   {
    "duration": 3033,
    "start_time": "2021-10-21T06:31:22.327Z"
   },
   {
    "duration": 198,
    "start_time": "2021-10-21T06:31:25.164Z"
   },
   {
    "duration": 196,
    "start_time": "2021-10-21T06:31:25.168Z"
   },
   {
    "duration": 192,
    "start_time": "2021-10-21T06:31:25.173Z"
   },
   {
    "duration": 190,
    "start_time": "2021-10-21T06:31:25.176Z"
   },
   {
    "duration": 12,
    "start_time": "2021-10-21T06:32:00.594Z"
   },
   {
    "duration": 1180,
    "start_time": "2021-10-21T06:32:09.816Z"
   },
   {
    "duration": 234,
    "start_time": "2021-10-21T06:32:10.999Z"
   },
   {
    "duration": 32,
    "start_time": "2021-10-21T06:32:11.236Z"
   },
   {
    "duration": 61,
    "start_time": "2021-10-21T06:32:11.271Z"
   },
   {
    "duration": 237,
    "start_time": "2021-10-21T06:32:11.335Z"
   },
   {
    "duration": 33,
    "start_time": "2021-10-21T06:32:11.575Z"
   },
   {
    "duration": 80,
    "start_time": "2021-10-21T06:32:11.610Z"
   },
   {
    "duration": 166,
    "start_time": "2021-10-21T06:32:11.692Z"
   },
   {
    "duration": 38,
    "start_time": "2021-10-21T06:32:11.869Z"
   },
   {
    "duration": 25,
    "start_time": "2021-10-21T06:32:11.910Z"
   },
   {
    "duration": 48,
    "start_time": "2021-10-21T06:32:11.937Z"
   },
   {
    "duration": 5,
    "start_time": "2021-10-21T06:32:11.988Z"
   },
   {
    "duration": 11,
    "start_time": "2021-10-21T06:32:11.995Z"
   },
   {
    "duration": 11,
    "start_time": "2021-10-21T06:32:12.009Z"
   },
   {
    "duration": 46,
    "start_time": "2021-10-21T06:32:12.023Z"
   },
   {
    "duration": 41,
    "start_time": "2021-10-21T06:32:12.071Z"
   },
   {
    "duration": 18,
    "start_time": "2021-10-21T06:32:12.115Z"
   },
   {
    "duration": 84,
    "start_time": "2021-10-21T06:32:12.135Z"
   },
   {
    "duration": 10,
    "start_time": "2021-10-21T06:32:12.221Z"
   },
   {
    "duration": 36,
    "start_time": "2021-10-21T06:32:12.234Z"
   },
   {
    "duration": 32,
    "start_time": "2021-10-21T06:32:12.273Z"
   },
   {
    "duration": 65,
    "start_time": "2021-10-21T06:32:12.308Z"
   },
   {
    "duration": 11,
    "start_time": "2021-10-21T06:32:12.376Z"
   },
   {
    "duration": 9,
    "start_time": "2021-10-21T06:32:12.391Z"
   },
   {
    "duration": 17,
    "start_time": "2021-10-21T06:32:12.403Z"
   },
   {
    "duration": 71,
    "start_time": "2021-10-21T06:32:12.423Z"
   },
   {
    "duration": 32,
    "start_time": "2021-10-21T06:32:12.502Z"
   },
   {
    "duration": 49,
    "start_time": "2021-10-21T06:32:12.537Z"
   },
   {
    "duration": 8,
    "start_time": "2021-10-21T06:32:12.588Z"
   },
   {
    "duration": 33,
    "start_time": "2021-10-21T06:32:12.598Z"
   },
   {
    "duration": 43,
    "start_time": "2021-10-21T06:32:12.633Z"
   },
   {
    "duration": 6,
    "start_time": "2021-10-21T06:32:12.678Z"
   },
   {
    "duration": 7,
    "start_time": "2021-10-21T06:32:12.686Z"
   },
   {
    "duration": 12,
    "start_time": "2021-10-21T06:32:12.695Z"
   },
   {
    "duration": 7,
    "start_time": "2021-10-21T06:32:12.709Z"
   },
   {
    "duration": 52,
    "start_time": "2021-10-21T06:32:12.718Z"
   },
   {
    "duration": 13,
    "start_time": "2021-10-21T06:32:12.773Z"
   },
   {
    "duration": 29,
    "start_time": "2021-10-21T06:32:12.788Z"
   },
   {
    "duration": 11,
    "start_time": "2021-10-21T06:32:12.819Z"
   },
   {
    "duration": 44,
    "start_time": "2021-10-21T06:32:12.833Z"
   },
   {
    "duration": 16,
    "start_time": "2021-10-21T06:32:12.880Z"
   },
   {
    "duration": 13,
    "start_time": "2021-10-21T06:32:12.899Z"
   },
   {
    "duration": 13,
    "start_time": "2021-10-21T06:32:12.915Z"
   },
   {
    "duration": 47,
    "start_time": "2021-10-21T06:32:12.930Z"
   },
   {
    "duration": 14,
    "start_time": "2021-10-21T06:32:12.980Z"
   },
   {
    "duration": 321,
    "start_time": "2021-10-21T06:32:12.996Z"
   },
   {
    "duration": 10,
    "start_time": "2021-10-21T06:32:13.320Z"
   },
   {
    "duration": 36,
    "start_time": "2021-10-21T06:32:13.333Z"
   },
   {
    "duration": 249,
    "start_time": "2021-10-21T06:32:13.371Z"
   },
   {
    "duration": 9,
    "start_time": "2021-10-21T06:32:13.623Z"
   },
   {
    "duration": 7527,
    "start_time": "2021-10-21T06:32:13.634Z"
   },
   {
    "duration": 495,
    "start_time": "2021-10-21T06:32:20.668Z"
   },
   {
    "duration": 7117,
    "start_time": "2021-10-21T06:33:10.292Z"
   },
   {
    "duration": 10,
    "start_time": "2021-10-21T06:33:29.153Z"
   },
   {
    "duration": 9,
    "start_time": "2021-10-21T06:35:00.027Z"
   },
   {
    "duration": 6788,
    "start_time": "2021-10-21T06:45:44.759Z"
   },
   {
    "duration": 6323,
    "start_time": "2021-10-21T06:45:56.300Z"
   },
   {
    "duration": 230,
    "start_time": "2021-10-21T06:46:11.132Z"
   },
   {
    "duration": 20,
    "start_time": "2021-10-21T06:46:18.651Z"
   },
   {
    "duration": 24,
    "start_time": "2021-10-21T06:47:34.329Z"
   },
   {
    "duration": 250,
    "start_time": "2021-10-21T06:48:54.955Z"
   },
   {
    "duration": 1233,
    "start_time": "2021-10-21T06:50:36.236Z"
   },
   {
    "duration": 241,
    "start_time": "2021-10-21T06:50:37.472Z"
   },
   {
    "duration": 23,
    "start_time": "2021-10-21T06:50:37.716Z"
   },
   {
    "duration": 82,
    "start_time": "2021-10-21T06:50:37.742Z"
   },
   {
    "duration": 224,
    "start_time": "2021-10-21T06:50:37.827Z"
   },
   {
    "duration": 40,
    "start_time": "2021-10-21T06:50:38.053Z"
   },
   {
    "duration": 48,
    "start_time": "2021-10-21T06:50:38.095Z"
   },
   {
    "duration": 148,
    "start_time": "2021-10-21T06:50:38.168Z"
   },
   {
    "duration": 52,
    "start_time": "2021-10-21T06:50:38.319Z"
   },
   {
    "duration": 36,
    "start_time": "2021-10-21T06:50:38.374Z"
   },
   {
    "duration": 56,
    "start_time": "2021-10-21T06:50:38.413Z"
   },
   {
    "duration": 4,
    "start_time": "2021-10-21T06:50:38.472Z"
   },
   {
    "duration": 12,
    "start_time": "2021-10-21T06:50:38.479Z"
   },
   {
    "duration": 11,
    "start_time": "2021-10-21T06:50:38.493Z"
   },
   {
    "duration": 14,
    "start_time": "2021-10-21T06:50:38.507Z"
   },
   {
    "duration": 79,
    "start_time": "2021-10-21T06:50:38.523Z"
   },
   {
    "duration": 20,
    "start_time": "2021-10-21T06:50:38.604Z"
   },
   {
    "duration": 84,
    "start_time": "2021-10-21T06:50:38.627Z"
   },
   {
    "duration": 8,
    "start_time": "2021-10-21T06:50:38.713Z"
   },
   {
    "duration": 17,
    "start_time": "2021-10-21T06:50:38.724Z"
   },
   {
    "duration": 50,
    "start_time": "2021-10-21T06:50:38.744Z"
   },
   {
    "duration": 36,
    "start_time": "2021-10-21T06:50:38.797Z"
   },
   {
    "duration": 12,
    "start_time": "2021-10-21T06:50:38.869Z"
   },
   {
    "duration": 9,
    "start_time": "2021-10-21T06:50:38.885Z"
   },
   {
    "duration": 14,
    "start_time": "2021-10-21T06:50:38.897Z"
   },
   {
    "duration": 75,
    "start_time": "2021-10-21T06:50:38.913Z"
   },
   {
    "duration": 32,
    "start_time": "2021-10-21T06:50:38.991Z"
   },
   {
    "duration": 45,
    "start_time": "2021-10-21T06:50:39.026Z"
   },
   {
    "duration": 8,
    "start_time": "2021-10-21T06:50:39.074Z"
   },
   {
    "duration": 36,
    "start_time": "2021-10-21T06:50:39.085Z"
   },
   {
    "duration": 49,
    "start_time": "2021-10-21T06:50:39.124Z"
   },
   {
    "duration": 7,
    "start_time": "2021-10-21T06:50:39.176Z"
   },
   {
    "duration": 8,
    "start_time": "2021-10-21T06:50:39.186Z"
   },
   {
    "duration": 7,
    "start_time": "2021-10-21T06:50:39.197Z"
   },
   {
    "duration": 63,
    "start_time": "2021-10-21T06:50:39.207Z"
   },
   {
    "duration": 13,
    "start_time": "2021-10-21T06:50:39.272Z"
   },
   {
    "duration": 14,
    "start_time": "2021-10-21T06:50:39.288Z"
   },
   {
    "duration": 20,
    "start_time": "2021-10-21T06:50:39.304Z"
   },
   {
    "duration": 46,
    "start_time": "2021-10-21T06:50:39.327Z"
   },
   {
    "duration": 11,
    "start_time": "2021-10-21T06:50:39.375Z"
   },
   {
    "duration": 16,
    "start_time": "2021-10-21T06:50:39.389Z"
   },
   {
    "duration": 15,
    "start_time": "2021-10-21T06:50:39.407Z"
   },
   {
    "duration": 54,
    "start_time": "2021-10-21T06:50:39.424Z"
   },
   {
    "duration": 12,
    "start_time": "2021-10-21T06:50:39.481Z"
   },
   {
    "duration": 16,
    "start_time": "2021-10-21T06:50:39.495Z"
   },
   {
    "duration": 320,
    "start_time": "2021-10-21T06:50:39.513Z"
   },
   {
    "duration": 10,
    "start_time": "2021-10-21T06:50:39.835Z"
   },
   {
    "duration": 11,
    "start_time": "2021-10-21T06:50:39.867Z"
   },
   {
    "duration": 254,
    "start_time": "2021-10-21T06:50:39.880Z"
   },
   {
    "duration": 10,
    "start_time": "2021-10-21T06:50:40.137Z"
   },
   {
    "duration": 26,
    "start_time": "2021-10-21T06:50:40.149Z"
   },
   {
    "duration": 11,
    "start_time": "2021-10-21T06:50:40.178Z"
   },
   {
    "duration": 96,
    "start_time": "2021-10-21T06:56:19.347Z"
   },
   {
    "duration": 351,
    "start_time": "2021-10-21T06:57:36.065Z"
   },
   {
    "duration": 11,
    "start_time": "2021-10-21T06:58:02.141Z"
   },
   {
    "duration": 8,
    "start_time": "2021-10-21T06:58:33.825Z"
   },
   {
    "duration": 270,
    "start_time": "2021-10-21T06:58:57.141Z"
   },
   {
    "duration": 12,
    "start_time": "2021-10-21T06:59:05.439Z"
   },
   {
    "duration": 10,
    "start_time": "2021-10-21T06:59:18.983Z"
   },
   {
    "duration": 280,
    "start_time": "2021-10-21T07:10:50.981Z"
   },
   {
    "duration": 13,
    "start_time": "2021-10-21T07:10:58.582Z"
   },
   {
    "duration": 242,
    "start_time": "2021-10-21T07:11:09.900Z"
   },
   {
    "duration": 13,
    "start_time": "2021-10-21T07:11:22.154Z"
   },
   {
    "duration": 1226,
    "start_time": "2021-10-21T07:11:46.193Z"
   },
   {
    "duration": 266,
    "start_time": "2021-10-21T07:11:48.481Z"
   },
   {
    "duration": 22,
    "start_time": "2021-10-21T07:11:50.281Z"
   },
   {
    "duration": 60,
    "start_time": "2021-10-21T07:11:53.635Z"
   },
   {
    "duration": 215,
    "start_time": "2021-10-21T07:11:55.156Z"
   },
   {
    "duration": 28,
    "start_time": "2021-10-21T07:11:56.515Z"
   },
   {
    "duration": 48,
    "start_time": "2021-10-21T07:11:58.315Z"
   },
   {
    "duration": 145,
    "start_time": "2021-10-21T07:12:02.954Z"
   },
   {
    "duration": 38,
    "start_time": "2021-10-21T07:12:05.274Z"
   },
   {
    "duration": 27,
    "start_time": "2021-10-21T07:12:09.233Z"
   },
   {
    "duration": 42,
    "start_time": "2021-10-21T07:12:11.166Z"
   },
   {
    "duration": 6,
    "start_time": "2021-10-21T07:12:14.394Z"
   },
   {
    "duration": 9,
    "start_time": "2021-10-21T07:12:17.596Z"
   },
   {
    "duration": 11,
    "start_time": "2021-10-21T07:12:18.728Z"
   },
   {
    "duration": 14,
    "start_time": "2021-10-21T07:12:22.882Z"
   },
   {
    "duration": 36,
    "start_time": "2021-10-21T07:12:26.839Z"
   },
   {
    "duration": 18,
    "start_time": "2021-10-21T07:12:28.718Z"
   },
   {
    "duration": 58,
    "start_time": "2021-10-21T07:12:30.837Z"
   },
   {
    "duration": 8,
    "start_time": "2021-10-21T07:12:33.193Z"
   },
   {
    "duration": 11,
    "start_time": "2021-10-21T07:12:34.764Z"
   },
   {
    "duration": 29,
    "start_time": "2021-10-21T07:12:36.794Z"
   },
   {
    "duration": 35,
    "start_time": "2021-10-21T07:12:39.644Z"
   },
   {
    "duration": 11,
    "start_time": "2021-10-21T07:12:41.514Z"
   },
   {
    "duration": 7,
    "start_time": "2021-10-21T07:12:43.475Z"
   },
   {
    "duration": 15,
    "start_time": "2021-10-21T07:12:45.073Z"
   },
   {
    "duration": 37,
    "start_time": "2021-10-21T07:12:46.754Z"
   },
   {
    "duration": 39,
    "start_time": "2021-10-21T07:12:48.394Z"
   },
   {
    "duration": 20,
    "start_time": "2021-10-21T07:12:50.594Z"
   },
   {
    "duration": 9,
    "start_time": "2021-10-21T07:12:52.194Z"
   },
   {
    "duration": 33,
    "start_time": "2021-10-21T07:12:53.994Z"
   },
   {
    "duration": 12,
    "start_time": "2021-10-21T07:12:55.880Z"
   },
   {
    "duration": 7,
    "start_time": "2021-10-21T07:12:57.673Z"
   },
   {
    "duration": 8,
    "start_time": "2021-10-21T07:12:59.117Z"
   },
   {
    "duration": 7,
    "start_time": "2021-10-21T07:12:59.753Z"
   },
   {
    "duration": 7,
    "start_time": "2021-10-21T07:13:01.274Z"
   },
   {
    "duration": 12,
    "start_time": "2021-10-21T07:13:02.714Z"
   },
   {
    "duration": 15,
    "start_time": "2021-10-21T07:13:03.753Z"
   },
   {
    "duration": 24,
    "start_time": "2021-10-21T07:13:06.115Z"
   },
   {
    "duration": 12,
    "start_time": "2021-10-21T07:13:07.913Z"
   },
   {
    "duration": 14,
    "start_time": "2021-10-21T07:13:09.800Z"
   },
   {
    "duration": 18,
    "start_time": "2021-10-21T07:13:11.353Z"
   },
   {
    "duration": 15,
    "start_time": "2021-10-21T07:13:13.841Z"
   },
   {
    "duration": 14,
    "start_time": "2021-10-21T07:13:16.473Z"
   },
   {
    "duration": 11,
    "start_time": "2021-10-21T07:13:18.721Z"
   },
   {
    "duration": 13,
    "start_time": "2021-10-21T07:13:20.517Z"
   },
   {
    "duration": 297,
    "start_time": "2021-10-21T07:13:27.632Z"
   },
   {
    "duration": 12,
    "start_time": "2021-10-21T07:13:31.232Z"
   },
   {
    "duration": 11,
    "start_time": "2021-10-21T07:13:38.787Z"
   },
   {
    "duration": 9,
    "start_time": "2021-10-21T07:14:15.836Z"
   },
   {
    "duration": 260,
    "start_time": "2021-10-21T07:14:15.847Z"
   },
   {
    "duration": 9,
    "start_time": "2021-10-21T07:14:21.663Z"
   },
   {
    "duration": 10,
    "start_time": "2021-10-21T07:14:27.745Z"
   },
   {
    "duration": 13,
    "start_time": "2021-10-21T07:14:36.543Z"
   },
   {
    "duration": 7,
    "start_time": "2021-10-21T07:14:47.742Z"
   },
   {
    "duration": 7,
    "start_time": "2021-10-21T07:15:00.036Z"
   },
   {
    "duration": 7,
    "start_time": "2021-10-21T07:15:09.416Z"
   },
   {
    "duration": 236,
    "start_time": "2021-10-21T07:15:40.538Z"
   },
   {
    "duration": 89,
    "start_time": "2021-10-21T07:18:56.308Z"
   },
   {
    "duration": 9,
    "start_time": "2021-10-21T07:19:11.541Z"
   },
   {
    "duration": 9,
    "start_time": "2021-10-21T07:19:25.437Z"
   },
   {
    "duration": 27,
    "start_time": "2021-10-21T07:20:02.496Z"
   },
   {
    "duration": 8,
    "start_time": "2021-10-21T07:20:16.148Z"
   },
   {
    "duration": 8,
    "start_time": "2021-10-21T07:20:24.547Z"
   },
   {
    "duration": 28,
    "start_time": "2021-10-21T08:51:43.998Z"
   },
   {
    "duration": 1679,
    "start_time": "2021-10-21T08:56:22.030Z"
   },
   {
    "duration": 1555,
    "start_time": "2021-10-21T08:56:44.731Z"
   },
   {
    "duration": 246,
    "start_time": "2021-10-21T08:56:46.290Z"
   },
   {
    "duration": 33,
    "start_time": "2021-10-21T08:56:46.539Z"
   },
   {
    "duration": 65,
    "start_time": "2021-10-21T08:56:46.576Z"
   },
   {
    "duration": 243,
    "start_time": "2021-10-21T08:56:46.643Z"
   },
   {
    "duration": 31,
    "start_time": "2021-10-21T08:56:46.888Z"
   },
   {
    "duration": 87,
    "start_time": "2021-10-21T08:56:46.921Z"
   },
   {
    "duration": 156,
    "start_time": "2021-10-21T08:56:47.010Z"
   },
   {
    "duration": 41,
    "start_time": "2021-10-21T08:56:47.171Z"
   },
   {
    "duration": 27,
    "start_time": "2021-10-21T08:56:47.215Z"
   },
   {
    "duration": 76,
    "start_time": "2021-10-21T08:56:47.245Z"
   },
   {
    "duration": 5,
    "start_time": "2021-10-21T08:56:47.323Z"
   },
   {
    "duration": 12,
    "start_time": "2021-10-21T08:56:47.331Z"
   },
   {
    "duration": 11,
    "start_time": "2021-10-21T08:56:47.346Z"
   },
   {
    "duration": 21,
    "start_time": "2021-10-21T08:56:47.360Z"
   },
   {
    "duration": 40,
    "start_time": "2021-10-21T08:56:47.385Z"
   },
   {
    "duration": 55,
    "start_time": "2021-10-21T08:56:47.428Z"
   },
   {
    "duration": 56,
    "start_time": "2021-10-21T08:56:47.486Z"
   },
   {
    "duration": 25,
    "start_time": "2021-10-21T08:56:47.545Z"
   },
   {
    "duration": 21,
    "start_time": "2021-10-21T08:56:47.573Z"
   },
   {
    "duration": 31,
    "start_time": "2021-10-21T08:56:47.596Z"
   },
   {
    "duration": 67,
    "start_time": "2021-10-21T08:56:47.629Z"
   },
   {
    "duration": 10,
    "start_time": "2021-10-21T08:56:47.698Z"
   },
   {
    "duration": 12,
    "start_time": "2021-10-21T08:56:47.711Z"
   },
   {
    "duration": 41,
    "start_time": "2021-10-21T08:56:47.726Z"
   },
   {
    "duration": 35,
    "start_time": "2021-10-21T08:56:47.769Z"
   },
   {
    "duration": 58,
    "start_time": "2021-10-21T08:56:47.813Z"
   },
   {
    "duration": 28,
    "start_time": "2021-10-21T08:56:47.875Z"
   },
   {
    "duration": 8,
    "start_time": "2021-10-21T08:56:47.906Z"
   },
   {
    "duration": 33,
    "start_time": "2021-10-21T08:56:47.916Z"
   },
   {
    "duration": 33,
    "start_time": "2021-10-21T08:56:47.952Z"
   },
   {
    "duration": 7,
    "start_time": "2021-10-21T08:56:47.989Z"
   },
   {
    "duration": 9,
    "start_time": "2021-10-21T08:56:47.999Z"
   },
   {
    "duration": 10,
    "start_time": "2021-10-21T08:56:48.010Z"
   },
   {
    "duration": 64,
    "start_time": "2021-10-21T08:56:48.022Z"
   },
   {
    "duration": 9,
    "start_time": "2021-10-21T08:56:48.089Z"
   },
   {
    "duration": 15,
    "start_time": "2021-10-21T08:56:48.100Z"
   },
   {
    "duration": 24,
    "start_time": "2021-10-21T08:56:48.117Z"
   },
   {
    "duration": 11,
    "start_time": "2021-10-21T08:56:48.167Z"
   },
   {
    "duration": 16,
    "start_time": "2021-10-21T08:56:48.183Z"
   },
   {
    "duration": 16,
    "start_time": "2021-10-21T08:56:48.201Z"
   },
   {
    "duration": 54,
    "start_time": "2021-10-21T08:56:48.220Z"
   },
   {
    "duration": 18,
    "start_time": "2021-10-21T08:56:48.276Z"
   },
   {
    "duration": 18,
    "start_time": "2021-10-21T08:56:48.297Z"
   },
   {
    "duration": 16,
    "start_time": "2021-10-21T08:56:48.318Z"
   },
   {
    "duration": 385,
    "start_time": "2021-10-21T08:56:48.337Z"
   },
   {
    "duration": 10,
    "start_time": "2021-10-21T08:56:48.724Z"
   },
   {
    "duration": 41,
    "start_time": "2021-10-21T08:56:48.736Z"
   },
   {
    "duration": 279,
    "start_time": "2021-10-21T08:56:48.780Z"
   },
   {
    "duration": 13,
    "start_time": "2021-10-21T08:56:49.062Z"
   },
   {
    "duration": 11,
    "start_time": "2021-10-21T08:56:49.081Z"
   },
   {
    "duration": 11,
    "start_time": "2021-10-21T08:56:49.096Z"
   },
   {
    "duration": 61,
    "start_time": "2021-10-21T08:56:49.111Z"
   },
   {
    "duration": 30,
    "start_time": "2021-10-21T08:56:49.178Z"
   },
   {
    "duration": 11,
    "start_time": "2021-10-21T08:56:49.211Z"
   },
   {
    "duration": 17,
    "start_time": "2021-10-21T08:56:49.224Z"
   },
   {
    "duration": 52,
    "start_time": "2021-10-21T08:56:49.243Z"
   },
   {
    "duration": 1618,
    "start_time": "2021-10-21T08:56:49.297Z"
   },
   {
    "duration": 623,
    "start_time": "2021-10-21T08:57:31.656Z"
   },
   {
    "duration": 3,
    "start_time": "2021-10-21T08:58:06.108Z"
   },
   {
    "duration": 341,
    "start_time": "2021-10-21T08:58:11.708Z"
   },
   {
    "duration": 753,
    "start_time": "2021-10-21T08:58:55.243Z"
   },
   {
    "duration": 5261,
    "start_time": "2021-10-21T08:59:58.981Z"
   },
   {
    "duration": 337,
    "start_time": "2021-10-21T09:01:08.674Z"
   },
   {
    "duration": 462,
    "start_time": "2021-10-21T09:05:13.222Z"
   },
   {
    "duration": 688,
    "start_time": "2021-10-21T09:08:00.325Z"
   },
   {
    "duration": 884,
    "start_time": "2021-10-21T09:09:11.885Z"
   },
   {
    "duration": 998,
    "start_time": "2021-10-21T09:10:01.311Z"
   },
   {
    "duration": 329,
    "start_time": "2021-10-21T09:16:10.965Z"
   },
   {
    "duration": 628,
    "start_time": "2021-10-21T09:16:45.979Z"
   },
   {
    "duration": 319,
    "start_time": "2021-10-21T09:16:50.324Z"
   },
   {
    "duration": 3887,
    "start_time": "2021-10-21T09:18:56.608Z"
   },
   {
    "duration": 318,
    "start_time": "2021-10-21T09:20:14.695Z"
   },
   {
    "duration": 7,
    "start_time": "2021-10-21T09:25:52.196Z"
   },
   {
    "duration": 38,
    "start_time": "2021-10-21T09:26:36.688Z"
   },
   {
    "duration": 19,
    "start_time": "2021-10-21T09:27:09.149Z"
   },
   {
    "duration": 752,
    "start_time": "2021-10-21T09:27:09.658Z"
   },
   {
    "duration": 349,
    "start_time": "2021-10-21T09:29:41.262Z"
   },
   {
    "duration": 429,
    "start_time": "2021-10-21T09:31:00.849Z"
   },
   {
    "duration": 668,
    "start_time": "2021-10-21T09:31:17.832Z"
   },
   {
    "duration": 683,
    "start_time": "2021-10-21T09:32:11.134Z"
   },
   {
    "duration": 303,
    "start_time": "2021-10-21T09:32:25.003Z"
   },
   {
    "duration": 282,
    "start_time": "2021-10-21T09:34:28.400Z"
   },
   {
    "duration": 1359,
    "start_time": "2021-10-21T09:36:41.568Z"
   },
   {
    "duration": 244,
    "start_time": "2021-10-21T09:36:42.930Z"
   },
   {
    "duration": 17,
    "start_time": "2021-10-21T09:36:43.177Z"
   },
   {
    "duration": 80,
    "start_time": "2021-10-21T09:36:43.197Z"
   },
   {
    "duration": 215,
    "start_time": "2021-10-21T09:36:43.280Z"
   },
   {
    "duration": 30,
    "start_time": "2021-10-21T09:36:43.497Z"
   },
   {
    "duration": 70,
    "start_time": "2021-10-21T09:36:43.529Z"
   },
   {
    "duration": 149,
    "start_time": "2021-10-21T09:36:43.602Z"
   },
   {
    "duration": 46,
    "start_time": "2021-10-21T09:36:43.754Z"
   },
   {
    "duration": 25,
    "start_time": "2021-10-21T09:36:43.802Z"
   },
   {
    "duration": 46,
    "start_time": "2021-10-21T09:36:43.829Z"
   },
   {
    "duration": 5,
    "start_time": "2021-10-21T09:36:43.877Z"
   },
   {
    "duration": 16,
    "start_time": "2021-10-21T09:36:43.884Z"
   },
   {
    "duration": 13,
    "start_time": "2021-10-21T09:36:43.902Z"
   },
   {
    "duration": 15,
    "start_time": "2021-10-21T09:36:43.917Z"
   },
   {
    "duration": 62,
    "start_time": "2021-10-21T09:36:43.935Z"
   },
   {
    "duration": 19,
    "start_time": "2021-10-21T09:36:44.000Z"
   },
   {
    "duration": 89,
    "start_time": "2021-10-21T09:36:44.022Z"
   },
   {
    "duration": 9,
    "start_time": "2021-10-21T09:36:44.115Z"
   },
   {
    "duration": 43,
    "start_time": "2021-10-21T09:36:44.126Z"
   },
   {
    "duration": 30,
    "start_time": "2021-10-21T09:36:44.172Z"
   },
   {
    "duration": 35,
    "start_time": "2021-10-21T09:36:44.205Z"
   },
   {
    "duration": 11,
    "start_time": "2021-10-21T09:36:44.267Z"
   },
   {
    "duration": 17,
    "start_time": "2021-10-21T09:36:44.282Z"
   },
   {
    "duration": 29,
    "start_time": "2021-10-21T09:36:44.301Z"
   },
   {
    "duration": 56,
    "start_time": "2021-10-21T09:36:44.332Z"
   },
   {
    "duration": 30,
    "start_time": "2021-10-21T09:36:44.391Z"
   },
   {
    "duration": 19,
    "start_time": "2021-10-21T09:36:44.424Z"
   },
   {
    "duration": 31,
    "start_time": "2021-10-21T09:36:44.446Z"
   },
   {
    "duration": 50,
    "start_time": "2021-10-21T09:36:44.480Z"
   },
   {
    "duration": 10,
    "start_time": "2021-10-21T09:36:44.533Z"
   },
   {
    "duration": 26,
    "start_time": "2021-10-21T09:36:44.546Z"
   },
   {
    "duration": 20,
    "start_time": "2021-10-21T09:36:44.574Z"
   },
   {
    "duration": 12,
    "start_time": "2021-10-21T09:36:44.596Z"
   },
   {
    "duration": 16,
    "start_time": "2021-10-21T09:36:44.610Z"
   },
   {
    "duration": 17,
    "start_time": "2021-10-21T09:36:44.628Z"
   },
   {
    "duration": 33,
    "start_time": "2021-10-21T09:36:44.647Z"
   },
   {
    "duration": 23,
    "start_time": "2021-10-21T09:36:44.682Z"
   },
   {
    "duration": 9,
    "start_time": "2021-10-21T09:36:44.708Z"
   },
   {
    "duration": 17,
    "start_time": "2021-10-21T09:36:44.720Z"
   },
   {
    "duration": 52,
    "start_time": "2021-10-21T09:36:44.739Z"
   },
   {
    "duration": 20,
    "start_time": "2021-10-21T09:36:44.794Z"
   },
   {
    "duration": 17,
    "start_time": "2021-10-21T09:36:44.818Z"
   },
   {
    "duration": 37,
    "start_time": "2021-10-21T09:36:44.838Z"
   },
   {
    "duration": 17,
    "start_time": "2021-10-21T09:36:44.877Z"
   },
   {
    "duration": 254,
    "start_time": "2021-10-21T09:36:44.896Z"
   },
   {
    "duration": 18,
    "start_time": "2021-10-21T09:36:45.152Z"
   },
   {
    "duration": 16,
    "start_time": "2021-10-21T09:36:45.173Z"
   },
   {
    "duration": 353,
    "start_time": "2021-10-21T09:36:45.191Z"
   },
   {
    "duration": 9,
    "start_time": "2021-10-21T09:36:45.547Z"
   },
   {
    "duration": 10,
    "start_time": "2021-10-21T09:36:45.567Z"
   },
   {
    "duration": 9,
    "start_time": "2021-10-21T09:36:45.579Z"
   },
   {
    "duration": 13,
    "start_time": "2021-10-21T09:36:45.590Z"
   },
   {
    "duration": 63,
    "start_time": "2021-10-21T09:36:45.606Z"
   },
   {
    "duration": 7,
    "start_time": "2021-10-21T09:36:45.672Z"
   },
   {
    "duration": 11,
    "start_time": "2021-10-21T09:36:45.682Z"
   },
   {
    "duration": 31,
    "start_time": "2021-10-21T09:36:45.695Z"
   },
   {
    "duration": 47,
    "start_time": "2021-10-21T09:36:45.729Z"
   },
   {
    "duration": 11,
    "start_time": "2021-10-21T09:36:45.779Z"
   },
   {
    "duration": 675,
    "start_time": "2021-10-21T09:36:45.792Z"
   },
   {
    "duration": 301,
    "start_time": "2021-10-21T09:38:09.177Z"
   },
   {
    "duration": 290,
    "start_time": "2021-10-21T09:38:23.820Z"
   },
   {
    "duration": 606,
    "start_time": "2021-10-21T09:38:36.100Z"
   },
   {
    "duration": 3758,
    "start_time": "2021-10-21T09:39:58.584Z"
   },
   {
    "duration": 310,
    "start_time": "2021-10-21T09:41:39.178Z"
   },
   {
    "duration": 904,
    "start_time": "2021-10-21T09:41:53.473Z"
   },
   {
    "duration": 307,
    "start_time": "2021-10-21T09:42:47.262Z"
   },
   {
    "duration": 466,
    "start_time": "2021-10-21T09:45:09.210Z"
   },
   {
    "duration": 333,
    "start_time": "2021-10-21T09:45:20.044Z"
   },
   {
    "duration": 13,
    "start_time": "2021-10-21T09:45:31.088Z"
   },
   {
    "duration": 13,
    "start_time": "2021-10-21T09:46:04.516Z"
   },
   {
    "duration": 9,
    "start_time": "2021-10-21T09:46:13.420Z"
   },
   {
    "duration": 9,
    "start_time": "2021-10-21T09:46:23.148Z"
   },
   {
    "duration": 13,
    "start_time": "2021-10-21T09:46:33.785Z"
   },
   {
    "duration": 8,
    "start_time": "2021-10-21T09:48:09.403Z"
   },
   {
    "duration": 14,
    "start_time": "2021-10-21T09:48:21.641Z"
   },
   {
    "duration": 550,
    "start_time": "2021-10-21T09:59:33.984Z"
   },
   {
    "duration": 556,
    "start_time": "2021-10-21T09:59:56.251Z"
   },
   {
    "duration": 746,
    "start_time": "2021-10-21T10:03:06.378Z"
   },
   {
    "duration": 579,
    "start_time": "2021-10-21T10:03:41.158Z"
   },
   {
    "duration": 585,
    "start_time": "2021-10-21T10:05:06.613Z"
   },
   {
    "duration": 331,
    "start_time": "2021-10-21T10:05:37.064Z"
   },
   {
    "duration": 352,
    "start_time": "2021-10-21T10:07:55.050Z"
   },
   {
    "duration": 12,
    "start_time": "2021-10-21T10:08:33.903Z"
   },
   {
    "duration": 17,
    "start_time": "2021-10-21T10:09:52.881Z"
   },
   {
    "duration": 8,
    "start_time": "2021-10-21T10:10:15.524Z"
   },
   {
    "duration": 1131,
    "start_time": "2021-10-21T10:11:13.810Z"
   },
   {
    "duration": 462,
    "start_time": "2021-10-21T10:11:14.944Z"
   },
   {
    "duration": 691,
    "start_time": "2021-10-21T10:15:21.082Z"
   },
   {
    "duration": 1128,
    "start_time": "2021-10-21T10:18:46.380Z"
   },
   {
    "duration": 13939,
    "start_time": "2021-10-21T10:20:32.015Z"
   },
   {
    "duration": 1369,
    "start_time": "2021-10-21T10:21:13.515Z"
   },
   {
    "duration": 6,
    "start_time": "2021-10-21T10:23:10.193Z"
   },
   {
    "duration": 295,
    "start_time": "2021-10-21T10:23:23.290Z"
   },
   {
    "duration": 1383,
    "start_time": "2021-10-21T10:24:13.466Z"
   },
   {
    "duration": 7,
    "start_time": "2021-10-21T10:24:18.821Z"
   },
   {
    "duration": 9,
    "start_time": "2021-10-21T10:24:59.235Z"
   },
   {
    "duration": 589,
    "start_time": "2021-10-21T10:25:15.993Z"
   },
   {
    "duration": 32,
    "start_time": "2021-10-21T10:25:24.453Z"
   },
   {
    "duration": 976,
    "start_time": "2021-10-21T10:26:09.042Z"
   },
   {
    "duration": 109,
    "start_time": "2021-10-21T10:26:57.789Z"
   },
   {
    "duration": 1286,
    "start_time": "2021-10-21T10:27:09.439Z"
   },
   {
    "duration": 8,
    "start_time": "2021-10-21T10:27:42.991Z"
   },
   {
    "duration": 19,
    "start_time": "2021-10-21T10:28:07.268Z"
   },
   {
    "duration": 660,
    "start_time": "2021-10-21T10:32:50.675Z"
   },
   {
    "duration": 304,
    "start_time": "2021-10-21T10:34:23.485Z"
   },
   {
    "duration": 310,
    "start_time": "2021-10-21T10:34:35.823Z"
   },
   {
    "duration": 316,
    "start_time": "2021-10-21T10:35:44.223Z"
   },
   {
    "duration": 6,
    "start_time": "2021-10-21T10:36:03.726Z"
   },
   {
    "duration": 7,
    "start_time": "2021-10-21T10:36:21.301Z"
   },
   {
    "duration": 5,
    "start_time": "2021-10-21T10:36:44.866Z"
   },
   {
    "duration": 1477,
    "start_time": "2021-10-21T10:36:53.316Z"
   },
   {
    "duration": 242,
    "start_time": "2021-10-21T10:36:54.796Z"
   },
   {
    "duration": 30,
    "start_time": "2021-10-21T10:36:55.041Z"
   },
   {
    "duration": 60,
    "start_time": "2021-10-21T10:36:55.074Z"
   },
   {
    "duration": 220,
    "start_time": "2021-10-21T10:36:55.137Z"
   },
   {
    "duration": 30,
    "start_time": "2021-10-21T10:36:55.367Z"
   },
   {
    "duration": 49,
    "start_time": "2021-10-21T10:36:55.399Z"
   },
   {
    "duration": 158,
    "start_time": "2021-10-21T10:36:55.467Z"
   },
   {
    "duration": 61,
    "start_time": "2021-10-21T10:36:55.629Z"
   },
   {
    "duration": 26,
    "start_time": "2021-10-21T10:36:55.692Z"
   },
   {
    "duration": 37,
    "start_time": "2021-10-21T10:36:55.720Z"
   },
   {
    "duration": 5,
    "start_time": "2021-10-21T10:36:55.767Z"
   },
   {
    "duration": 14,
    "start_time": "2021-10-21T10:36:55.775Z"
   },
   {
    "duration": 12,
    "start_time": "2021-10-21T10:36:55.792Z"
   },
   {
    "duration": 23,
    "start_time": "2021-10-21T10:36:55.806Z"
   },
   {
    "duration": 65,
    "start_time": "2021-10-21T10:36:55.832Z"
   },
   {
    "duration": 22,
    "start_time": "2021-10-21T10:36:55.900Z"
   },
   {
    "duration": 77,
    "start_time": "2021-10-21T10:36:55.925Z"
   },
   {
    "duration": 8,
    "start_time": "2021-10-21T10:36:56.005Z"
   },
   {
    "duration": 18,
    "start_time": "2021-10-21T10:36:56.015Z"
   },
   {
    "duration": 51,
    "start_time": "2021-10-21T10:36:56.035Z"
   },
   {
    "duration": 35,
    "start_time": "2021-10-21T10:36:56.088Z"
   },
   {
    "duration": 38,
    "start_time": "2021-10-21T10:36:56.129Z"
   },
   {
    "duration": 9,
    "start_time": "2021-10-21T10:36:56.172Z"
   },
   {
    "duration": 15,
    "start_time": "2021-10-21T10:36:56.183Z"
   },
   {
    "duration": 66,
    "start_time": "2021-10-21T10:36:56.201Z"
   },
   {
    "duration": 30,
    "start_time": "2021-10-21T10:36:56.270Z"
   },
   {
    "duration": 20,
    "start_time": "2021-10-21T10:36:56.303Z"
   },
   {
    "duration": 9,
    "start_time": "2021-10-21T10:36:56.326Z"
   },
   {
    "duration": 62,
    "start_time": "2021-10-21T10:36:56.337Z"
   },
   {
    "duration": 9,
    "start_time": "2021-10-21T10:36:56.402Z"
   },
   {
    "duration": 6,
    "start_time": "2021-10-21T10:36:56.413Z"
   },
   {
    "duration": 48,
    "start_time": "2021-10-21T10:36:56.421Z"
   },
   {
    "duration": 6,
    "start_time": "2021-10-21T10:36:56.471Z"
   },
   {
    "duration": 7,
    "start_time": "2021-10-21T10:36:56.479Z"
   },
   {
    "duration": 10,
    "start_time": "2021-10-21T10:36:56.489Z"
   },
   {
    "duration": 14,
    "start_time": "2021-10-21T10:36:56.502Z"
   },
   {
    "duration": 66,
    "start_time": "2021-10-21T10:36:56.518Z"
   },
   {
    "duration": 11,
    "start_time": "2021-10-21T10:36:56.586Z"
   },
   {
    "duration": 15,
    "start_time": "2021-10-21T10:36:56.600Z"
   },
   {
    "duration": 52,
    "start_time": "2021-10-21T10:36:56.617Z"
   },
   {
    "duration": 14,
    "start_time": "2021-10-21T10:36:56.671Z"
   },
   {
    "duration": 14,
    "start_time": "2021-10-21T10:36:56.688Z"
   },
   {
    "duration": 14,
    "start_time": "2021-10-21T10:36:56.705Z"
   },
   {
    "duration": 15,
    "start_time": "2021-10-21T10:36:56.766Z"
   },
   {
    "duration": 261,
    "start_time": "2021-10-21T10:36:56.784Z"
   },
   {
    "duration": 23,
    "start_time": "2021-10-21T10:36:57.047Z"
   },
   {
    "duration": 12,
    "start_time": "2021-10-21T10:36:57.072Z"
   },
   {
    "duration": 267,
    "start_time": "2021-10-21T10:36:57.087Z"
   },
   {
    "duration": 16,
    "start_time": "2021-10-21T10:36:57.357Z"
   },
   {
    "duration": 11,
    "start_time": "2021-10-21T10:36:57.376Z"
   },
   {
    "duration": 13,
    "start_time": "2021-10-21T10:36:57.389Z"
   },
   {
    "duration": 12,
    "start_time": "2021-10-21T10:36:57.405Z"
   },
   {
    "duration": 68,
    "start_time": "2021-10-21T10:36:57.419Z"
   },
   {
    "duration": 12,
    "start_time": "2021-10-21T10:36:57.489Z"
   },
   {
    "duration": 12,
    "start_time": "2021-10-21T10:36:57.504Z"
   },
   {
    "duration": 51,
    "start_time": "2021-10-21T10:36:57.518Z"
   },
   {
    "duration": 32,
    "start_time": "2021-10-21T10:36:57.571Z"
   },
   {
    "duration": 19,
    "start_time": "2021-10-21T10:36:57.605Z"
   },
   {
    "duration": 1243,
    "start_time": "2021-10-21T10:36:57.626Z"
   },
   {
    "duration": 785,
    "start_time": "2021-10-21T10:36:58.872Z"
   },
   {
    "duration": 1239,
    "start_time": "2021-10-21T10:36:59.667Z"
   },
   {
    "duration": 1286,
    "start_time": "2021-10-21T10:37:00.908Z"
   },
   {
    "duration": 711,
    "start_time": "2021-10-21T10:37:02.196Z"
   },
   {
    "duration": 6,
    "start_time": "2021-10-21T10:37:02.910Z"
   },
   {
    "duration": 5,
    "start_time": "2021-10-21T10:37:25.571Z"
   },
   {
    "duration": 7,
    "start_time": "2021-10-21T10:38:13.545Z"
   },
   {
    "duration": 4,
    "start_time": "2021-10-21T10:38:30.148Z"
   },
   {
    "duration": 6,
    "start_time": "2021-10-21T10:38:44.355Z"
   },
   {
    "duration": 29,
    "start_time": "2021-10-21T10:39:53.506Z"
   },
   {
    "duration": 29,
    "start_time": "2021-10-21T10:40:16.069Z"
   },
   {
    "duration": 45,
    "start_time": "2021-10-21T10:40:58.231Z"
   },
   {
    "duration": 46,
    "start_time": "2021-10-21T10:41:09.241Z"
   },
   {
    "duration": 32,
    "start_time": "2021-10-21T10:41:21.489Z"
   },
   {
    "duration": 123,
    "start_time": "2021-10-21T10:41:32.220Z"
   },
   {
    "duration": 1130,
    "start_time": "2021-10-21T10:44:52.798Z"
   },
   {
    "duration": 881,
    "start_time": "2021-10-21T10:45:19.040Z"
   },
   {
    "duration": 740,
    "start_time": "2021-10-21T10:45:33.535Z"
   },
   {
    "duration": 657,
    "start_time": "2021-10-21T10:47:47.313Z"
   },
   {
    "duration": 781,
    "start_time": "2021-10-21T10:48:23.642Z"
   },
   {
    "duration": 690,
    "start_time": "2021-10-21T10:50:46.997Z"
   },
   {
    "duration": 10,
    "start_time": "2021-10-21T10:53:01.632Z"
   },
   {
    "duration": 9,
    "start_time": "2021-10-21T10:53:22.287Z"
   },
   {
    "duration": 331,
    "start_time": "2021-10-21T10:54:37.535Z"
   },
   {
    "duration": 316,
    "start_time": "2021-10-21T10:55:09.756Z"
   },
   {
    "duration": 283,
    "start_time": "2021-10-21T10:55:27.159Z"
   },
   {
    "duration": 575,
    "start_time": "2021-10-21T10:56:09.222Z"
   },
   {
    "duration": 63,
    "start_time": "2021-10-21T10:57:18.473Z"
   },
   {
    "duration": 61,
    "start_time": "2021-10-21T10:57:38.902Z"
   },
   {
    "duration": 67,
    "start_time": "2021-10-21T10:58:57.908Z"
   },
   {
    "duration": 752,
    "start_time": "2021-10-21T11:00:11.715Z"
   },
   {
    "duration": 63,
    "start_time": "2021-10-21T11:01:33.736Z"
   },
   {
    "duration": 62,
    "start_time": "2021-10-21T11:01:59.491Z"
   },
   {
    "duration": 64,
    "start_time": "2021-10-21T11:02:53.404Z"
   },
   {
    "duration": 152,
    "start_time": "2021-10-21T11:03:28.860Z"
   },
   {
    "duration": 322,
    "start_time": "2021-10-22T09:18:00.089Z"
   },
   {
    "duration": 1355,
    "start_time": "2021-10-22T09:18:09.573Z"
   },
   {
    "duration": 231,
    "start_time": "2021-10-22T09:18:10.931Z"
   },
   {
    "duration": 28,
    "start_time": "2021-10-22T09:18:11.165Z"
   },
   {
    "duration": 57,
    "start_time": "2021-10-22T09:18:11.198Z"
   },
   {
    "duration": 236,
    "start_time": "2021-10-22T09:18:11.257Z"
   },
   {
    "duration": 31,
    "start_time": "2021-10-22T09:18:11.497Z"
   },
   {
    "duration": 72,
    "start_time": "2021-10-22T09:18:11.531Z"
   },
   {
    "duration": 144,
    "start_time": "2021-10-22T09:18:11.607Z"
   },
   {
    "duration": 51,
    "start_time": "2021-10-22T09:18:11.754Z"
   },
   {
    "duration": 25,
    "start_time": "2021-10-22T09:18:11.807Z"
   },
   {
    "duration": 47,
    "start_time": "2021-10-22T09:18:11.835Z"
   },
   {
    "duration": 5,
    "start_time": "2021-10-22T09:18:11.884Z"
   },
   {
    "duration": 18,
    "start_time": "2021-10-22T09:18:11.892Z"
   },
   {
    "duration": 12,
    "start_time": "2021-10-22T09:18:11.913Z"
   },
   {
    "duration": 14,
    "start_time": "2021-10-22T09:18:11.928Z"
   },
   {
    "duration": 74,
    "start_time": "2021-10-22T09:18:11.944Z"
   },
   {
    "duration": 16,
    "start_time": "2021-10-22T09:18:12.021Z"
   },
   {
    "duration": 82,
    "start_time": "2021-10-22T09:18:12.039Z"
   },
   {
    "duration": 8,
    "start_time": "2021-10-22T09:18:12.124Z"
   },
   {
    "duration": 17,
    "start_time": "2021-10-22T09:18:12.134Z"
   },
   {
    "duration": 53,
    "start_time": "2021-10-22T09:18:12.153Z"
   },
   {
    "duration": 33,
    "start_time": "2021-10-22T09:18:12.208Z"
   },
   {
    "duration": 10,
    "start_time": "2021-10-22T09:18:12.247Z"
   },
   {
    "duration": 14,
    "start_time": "2021-10-22T09:18:12.287Z"
   },
   {
    "duration": 15,
    "start_time": "2021-10-22T09:18:12.304Z"
   },
   {
    "duration": 32,
    "start_time": "2021-10-22T09:18:12.322Z"
   },
   {
    "duration": 59,
    "start_time": "2021-10-22T09:18:12.356Z"
   },
   {
    "duration": 21,
    "start_time": "2021-10-22T09:18:12.417Z"
   },
   {
    "duration": 11,
    "start_time": "2021-10-22T09:18:12.440Z"
   },
   {
    "duration": 57,
    "start_time": "2021-10-22T09:18:12.453Z"
   },
   {
    "duration": 10,
    "start_time": "2021-10-22T09:18:12.512Z"
   },
   {
    "duration": 6,
    "start_time": "2021-10-22T09:18:12.525Z"
   },
   {
    "duration": 8,
    "start_time": "2021-10-22T09:18:12.533Z"
   },
   {
    "duration": 7,
    "start_time": "2021-10-22T09:18:12.582Z"
   },
   {
    "duration": 7,
    "start_time": "2021-10-22T09:18:12.591Z"
   },
   {
    "duration": 20,
    "start_time": "2021-10-22T09:18:12.601Z"
   },
   {
    "duration": 15,
    "start_time": "2021-10-22T09:18:12.624Z"
   },
   {
    "duration": 65,
    "start_time": "2021-10-22T09:18:12.641Z"
   },
   {
    "duration": 10,
    "start_time": "2021-10-22T09:18:12.709Z"
   },
   {
    "duration": 13,
    "start_time": "2021-10-22T09:18:12.721Z"
   },
   {
    "duration": 52,
    "start_time": "2021-10-22T09:18:12.736Z"
   },
   {
    "duration": 18,
    "start_time": "2021-10-22T09:18:12.794Z"
   },
   {
    "duration": 15,
    "start_time": "2021-10-22T09:18:12.815Z"
   },
   {
    "duration": 57,
    "start_time": "2021-10-22T09:18:12.832Z"
   },
   {
    "duration": 17,
    "start_time": "2021-10-22T09:18:12.892Z"
   },
   {
    "duration": 247,
    "start_time": "2021-10-22T09:18:12.912Z"
   },
   {
    "duration": 21,
    "start_time": "2021-10-22T09:18:13.162Z"
   },
   {
    "duration": 17,
    "start_time": "2021-10-22T09:18:13.186Z"
   },
   {
    "duration": 259,
    "start_time": "2021-10-22T09:18:13.205Z"
   },
   {
    "duration": 15,
    "start_time": "2021-10-22T09:18:13.467Z"
   },
   {
    "duration": 15,
    "start_time": "2021-10-22T09:18:13.486Z"
   },
   {
    "duration": 9,
    "start_time": "2021-10-22T09:18:13.504Z"
   },
   {
    "duration": 14,
    "start_time": "2021-10-22T09:18:13.516Z"
   },
   {
    "duration": 71,
    "start_time": "2021-10-22T09:18:13.533Z"
   },
   {
    "duration": 5,
    "start_time": "2021-10-22T09:18:13.607Z"
   },
   {
    "duration": 10,
    "start_time": "2021-10-22T09:18:13.615Z"
   },
   {
    "duration": 26,
    "start_time": "2021-10-22T09:18:13.628Z"
   },
   {
    "duration": 68,
    "start_time": "2021-10-22T09:18:13.656Z"
   },
   {
    "duration": 20,
    "start_time": "2021-10-22T09:18:13.726Z"
   },
   {
    "duration": 599,
    "start_time": "2021-10-22T09:18:13.749Z"
   },
   {
    "duration": 1229,
    "start_time": "2021-10-22T09:18:14.350Z"
   },
   {
    "duration": 426,
    "start_time": "2021-10-22T09:18:15.588Z"
   },
   {
    "duration": -553,
    "start_time": "2021-10-22T09:18:16.570Z"
   },
   {
    "duration": -558,
    "start_time": "2021-10-22T09:18:16.576Z"
   },
   {
    "duration": -566,
    "start_time": "2021-10-22T09:18:16.586Z"
   },
   {
    "duration": -569,
    "start_time": "2021-10-22T09:18:16.590Z"
   },
   {
    "duration": -572,
    "start_time": "2021-10-22T09:18:16.594Z"
   },
   {
    "duration": -573,
    "start_time": "2021-10-22T09:18:16.597Z"
   },
   {
    "duration": -576,
    "start_time": "2021-10-22T09:18:16.601Z"
   },
   {
    "duration": -578,
    "start_time": "2021-10-22T09:18:16.604Z"
   },
   {
    "duration": -580,
    "start_time": "2021-10-22T09:18:16.608Z"
   },
   {
    "duration": -582,
    "start_time": "2021-10-22T09:18:16.611Z"
   },
   {
    "duration": -585,
    "start_time": "2021-10-22T09:18:16.615Z"
   },
   {
    "duration": -587,
    "start_time": "2021-10-22T09:18:16.618Z"
   },
   {
    "duration": 226,
    "start_time": "2021-10-22T09:19:18.717Z"
   },
   {
    "duration": 221,
    "start_time": "2021-10-22T09:19:35.835Z"
   },
   {
    "duration": 213,
    "start_time": "2021-10-22T09:19:53.330Z"
   },
   {
    "duration": 1420,
    "start_time": "2021-10-22T09:20:53.040Z"
   },
   {
    "duration": 223,
    "start_time": "2021-10-22T09:20:54.463Z"
   },
   {
    "duration": 18,
    "start_time": "2021-10-22T09:20:54.690Z"
   },
   {
    "duration": 90,
    "start_time": "2021-10-22T09:20:54.712Z"
   },
   {
    "duration": 219,
    "start_time": "2021-10-22T09:20:54.805Z"
   },
   {
    "duration": 29,
    "start_time": "2021-10-22T09:20:55.027Z"
   },
   {
    "duration": 143,
    "start_time": "2021-10-22T09:20:55.071Z"
   },
   {
    "duration": 237,
    "start_time": "2021-10-22T09:20:55.225Z"
   },
   {
    "duration": 53,
    "start_time": "2021-10-22T09:20:55.465Z"
   },
   {
    "duration": 27,
    "start_time": "2021-10-22T09:20:55.521Z"
   },
   {
    "duration": 44,
    "start_time": "2021-10-22T09:20:55.551Z"
   },
   {
    "duration": 6,
    "start_time": "2021-10-22T09:20:55.598Z"
   },
   {
    "duration": 11,
    "start_time": "2021-10-22T09:20:55.607Z"
   },
   {
    "duration": 14,
    "start_time": "2021-10-22T09:20:55.621Z"
   },
   {
    "duration": 41,
    "start_time": "2021-10-22T09:20:55.644Z"
   },
   {
    "duration": 38,
    "start_time": "2021-10-22T09:20:55.689Z"
   },
   {
    "duration": 15,
    "start_time": "2021-10-22T09:20:55.730Z"
   },
   {
    "duration": 80,
    "start_time": "2021-10-22T09:20:55.748Z"
   },
   {
    "duration": 8,
    "start_time": "2021-10-22T09:20:55.831Z"
   },
   {
    "duration": 41,
    "start_time": "2021-10-22T09:20:55.842Z"
   },
   {
    "duration": 32,
    "start_time": "2021-10-22T09:20:55.886Z"
   },
   {
    "duration": 31,
    "start_time": "2021-10-22T09:20:55.920Z"
   },
   {
    "duration": 14,
    "start_time": "2021-10-22T09:20:55.981Z"
   },
   {
    "duration": 9,
    "start_time": "2021-10-22T09:20:56.000Z"
   },
   {
    "duration": 26,
    "start_time": "2021-10-22T09:20:56.012Z"
   },
   {
    "duration": 56,
    "start_time": "2021-10-22T09:20:56.040Z"
   },
   {
    "duration": 32,
    "start_time": "2021-10-22T09:20:56.099Z"
   },
   {
    "duration": 25,
    "start_time": "2021-10-22T09:20:56.134Z"
   },
   {
    "duration": 10,
    "start_time": "2021-10-22T09:20:56.183Z"
   },
   {
    "duration": 40,
    "start_time": "2021-10-22T09:20:56.195Z"
   },
   {
    "duration": 11,
    "start_time": "2021-10-22T09:20:56.237Z"
   },
   {
    "duration": 36,
    "start_time": "2021-10-22T09:20:56.250Z"
   },
   {
    "duration": 6,
    "start_time": "2021-10-22T09:20:56.288Z"
   },
   {
    "duration": 11,
    "start_time": "2021-10-22T09:20:56.296Z"
   },
   {
    "duration": 6,
    "start_time": "2021-10-22T09:20:56.310Z"
   },
   {
    "duration": 12,
    "start_time": "2021-10-22T09:20:56.318Z"
   },
   {
    "duration": 52,
    "start_time": "2021-10-22T09:20:56.332Z"
   },
   {
    "duration": 22,
    "start_time": "2021-10-22T09:20:56.386Z"
   },
   {
    "duration": 9,
    "start_time": "2021-10-22T09:20:56.411Z"
   },
   {
    "duration": 24,
    "start_time": "2021-10-22T09:20:56.422Z"
   },
   {
    "duration": 47,
    "start_time": "2021-10-22T09:20:56.449Z"
   },
   {
    "duration": 13,
    "start_time": "2021-10-22T09:20:56.501Z"
   },
   {
    "duration": 13,
    "start_time": "2021-10-22T09:20:56.516Z"
   },
   {
    "duration": 12,
    "start_time": "2021-10-22T09:20:56.532Z"
   },
   {
    "duration": 56,
    "start_time": "2021-10-22T09:20:56.546Z"
   },
   {
    "duration": 251,
    "start_time": "2021-10-22T09:20:56.604Z"
   },
   {
    "duration": 9,
    "start_time": "2021-10-22T09:20:56.858Z"
   },
   {
    "duration": 25,
    "start_time": "2021-10-22T09:20:56.869Z"
   },
   {
    "duration": 249,
    "start_time": "2021-10-22T09:20:56.896Z"
   },
   {
    "duration": 10,
    "start_time": "2021-10-22T09:20:57.153Z"
   },
   {
    "duration": 27,
    "start_time": "2021-10-22T09:20:57.165Z"
   },
   {
    "duration": 10,
    "start_time": "2021-10-22T09:20:57.196Z"
   },
   {
    "duration": 14,
    "start_time": "2021-10-22T09:20:57.208Z"
   },
   {
    "duration": 25,
    "start_time": "2021-10-22T09:20:57.224Z"
   },
   {
    "duration": 12,
    "start_time": "2021-10-22T09:20:57.284Z"
   },
   {
    "duration": 16,
    "start_time": "2021-10-22T09:20:57.299Z"
   },
   {
    "duration": 43,
    "start_time": "2021-10-22T09:20:57.317Z"
   },
   {
    "duration": 47,
    "start_time": "2021-10-22T09:20:57.362Z"
   },
   {
    "duration": 18,
    "start_time": "2021-10-22T09:20:57.412Z"
   },
   {
    "duration": 688,
    "start_time": "2021-10-22T09:20:57.432Z"
   },
   {
    "duration": 1265,
    "start_time": "2021-10-22T09:20:58.122Z"
   },
   {
    "duration": 60,
    "start_time": "2021-10-22T09:20:59.392Z"
   },
   {
    "duration": 89,
    "start_time": "2021-10-22T09:20:59.454Z"
   },
   {
    "duration": 745,
    "start_time": "2021-10-22T09:20:59.545Z"
   },
   {
    "duration": 1167,
    "start_time": "2021-10-22T09:21:00.293Z"
   },
   {
    "duration": 1388,
    "start_time": "2021-10-22T09:21:01.463Z"
   },
   {
    "duration": 80,
    "start_time": "2021-10-22T09:21:02.855Z"
   },
   {
    "duration": 94,
    "start_time": "2021-10-22T09:21:02.944Z"
   },
   {
    "duration": 725,
    "start_time": "2021-10-22T09:21:03.041Z"
   },
   {
    "duration": 673,
    "start_time": "2021-10-22T09:21:03.769Z"
   },
   {
    "duration": 86,
    "start_time": "2021-10-22T09:21:04.444Z"
   },
   {
    "duration": 83,
    "start_time": "2021-10-22T09:21:04.532Z"
   },
   {
    "duration": 717,
    "start_time": "2021-10-22T09:21:04.617Z"
   },
   {
    "duration": 7663,
    "start_time": "2021-10-22T09:21:55.594Z"
   },
   {
    "duration": 1170,
    "start_time": "2021-10-22T09:22:25.142Z"
   },
   {
    "duration": 1393,
    "start_time": "2021-10-22T09:23:55.992Z"
   },
   {
    "duration": 1163,
    "start_time": "2021-10-22T09:25:25.048Z"
   },
   {
    "duration": 1282,
    "start_time": "2021-10-22T09:26:25.251Z"
   },
   {
    "duration": 446,
    "start_time": "2021-10-22T10:12:09.276Z"
   },
   {
    "duration": 303,
    "start_time": "2021-10-22T10:12:18.214Z"
   },
   {
    "duration": 5,
    "start_time": "2021-10-22T10:12:24.296Z"
   },
   {
    "duration": 8,
    "start_time": "2021-10-22T10:12:37.158Z"
   },
   {
    "duration": 579,
    "start_time": "2021-10-22T10:38:11.482Z"
   },
   {
    "duration": 364,
    "start_time": "2021-10-22T10:39:46.965Z"
   },
   {
    "duration": 47,
    "start_time": "2021-10-22T10:42:10.410Z"
   },
   {
    "duration": 47,
    "start_time": "2021-10-22T10:42:28.983Z"
   },
   {
    "duration": 50,
    "start_time": "2021-10-22T10:42:55.567Z"
   },
   {
    "duration": 48,
    "start_time": "2021-10-22T10:43:01.406Z"
   },
   {
    "duration": 526,
    "start_time": "2021-10-22T10:44:09.411Z"
   },
   {
    "duration": 48,
    "start_time": "2021-10-22T10:45:50.837Z"
   },
   {
    "duration": 82,
    "start_time": "2021-10-22T10:46:24.478Z"
   },
   {
    "duration": 56,
    "start_time": "2021-10-22T10:52:30.363Z"
   },
   {
    "duration": 66,
    "start_time": "2021-10-22T10:52:52.780Z"
   },
   {
    "duration": 63,
    "start_time": "2021-10-22T10:53:36.295Z"
   },
   {
    "duration": 6,
    "start_time": "2021-10-22T10:59:00.220Z"
   },
   {
    "duration": 7,
    "start_time": "2021-10-22T10:59:22.172Z"
   },
   {
    "duration": 6,
    "start_time": "2021-10-22T10:59:33.511Z"
   },
   {
    "duration": 6,
    "start_time": "2021-10-22T11:00:03.788Z"
   },
   {
    "duration": 423,
    "start_time": "2021-10-22T11:03:38.837Z"
   },
   {
    "duration": -399,
    "start_time": "2021-10-22T11:03:57.687Z"
   },
   {
    "duration": 4,
    "start_time": "2021-10-22T11:04:05.465Z"
   },
   {
    "duration": 6,
    "start_time": "2021-10-22T11:07:46.518Z"
   },
   {
    "duration": 6,
    "start_time": "2021-10-22T11:07:49.079Z"
   },
   {
    "duration": 390,
    "start_time": "2021-10-22T11:07:58.225Z"
   },
   {
    "duration": 6,
    "start_time": "2021-10-22T11:08:22.833Z"
   },
   {
    "duration": 7,
    "start_time": "2021-10-22T11:08:26.232Z"
   },
   {
    "duration": 6,
    "start_time": "2021-10-22T11:08:30.358Z"
   },
   {
    "duration": 6,
    "start_time": "2021-10-22T11:08:35.798Z"
   },
   {
    "duration": 580,
    "start_time": "2021-10-22T11:32:14.997Z"
   },
   {
    "duration": 1107,
    "start_time": "2021-10-22T11:32:47.398Z"
   },
   {
    "duration": 946,
    "start_time": "2021-10-22T11:33:01.165Z"
   },
   {
    "duration": 288,
    "start_time": "2021-10-22T11:36:11.681Z"
   },
   {
    "duration": 445,
    "start_time": "2021-10-22T11:36:20.503Z"
   },
   {
    "duration": 42,
    "start_time": "2021-10-22T11:36:32.906Z"
   },
   {
    "duration": 1154,
    "start_time": "2021-10-22T11:38:24.914Z"
   },
   {
    "duration": 5169,
    "start_time": "2021-10-22T11:39:53.043Z"
   },
   {
    "duration": -289,
    "start_time": "2021-10-22T11:40:18.011Z"
   },
   {
    "duration": 5307,
    "start_time": "2021-10-22T11:40:23.735Z"
   },
   {
    "duration": 1141,
    "start_time": "2021-10-22T11:41:26.875Z"
   },
   {
    "duration": 1133,
    "start_time": "2021-10-22T11:41:38.506Z"
   },
   {
    "duration": 430,
    "start_time": "2021-10-22T11:58:25.192Z"
   },
   {
    "duration": 416,
    "start_time": "2021-10-22T11:59:23.454Z"
   },
   {
    "duration": 783,
    "start_time": "2021-10-22T12:02:17.646Z"
   },
   {
    "duration": 1042,
    "start_time": "2021-10-22T12:02:37.482Z"
   },
   {
    "duration": 917,
    "start_time": "2021-10-22T12:02:56.804Z"
   },
   {
    "duration": 1240,
    "start_time": "2021-10-22T12:03:04.291Z"
   },
   {
    "duration": 6,
    "start_time": "2021-10-22T12:04:18.763Z"
   },
   {
    "duration": 1441,
    "start_time": "2021-10-22T12:06:01.094Z"
   },
   {
    "duration": 1019,
    "start_time": "2021-10-22T12:06:11.224Z"
   },
   {
    "duration": 1059,
    "start_time": "2021-10-22T12:26:55.944Z"
   },
   {
    "duration": 6,
    "start_time": "2021-10-22T12:27:06.177Z"
   },
   {
    "duration": 1100,
    "start_time": "2021-10-22T12:27:30.634Z"
   },
   {
    "duration": 33,
    "start_time": "2021-10-22T12:30:09.272Z"
   },
   {
    "duration": 1188,
    "start_time": "2021-10-22T12:30:34.560Z"
   },
   {
    "duration": 606,
    "start_time": "2021-10-22T12:33:36.192Z"
   },
   {
    "duration": 815,
    "start_time": "2021-10-22T12:33:48.104Z"
   },
   {
    "duration": 738,
    "start_time": "2021-10-22T12:34:06.491Z"
   },
   {
    "duration": 6,
    "start_time": "2021-10-22T13:22:05.800Z"
   },
   {
    "duration": 10,
    "start_time": "2021-10-22T13:22:17.358Z"
   },
   {
    "duration": 232,
    "start_time": "2021-10-22T13:28:02.848Z"
   },
   {
    "duration": 302,
    "start_time": "2021-10-22T13:28:09.256Z"
   },
   {
    "duration": 5,
    "start_time": "2021-10-22T13:28:16.813Z"
   },
   {
    "duration": 7,
    "start_time": "2021-10-22T13:28:23.471Z"
   },
   {
    "duration": 7,
    "start_time": "2021-10-22T13:29:07.444Z"
   },
   {
    "duration": 7,
    "start_time": "2021-10-22T13:31:57.924Z"
   },
   {
    "duration": 6,
    "start_time": "2021-10-22T13:32:19.459Z"
   },
   {
    "duration": 6,
    "start_time": "2021-10-22T13:32:30.146Z"
   },
   {
    "duration": 8,
    "start_time": "2021-10-22T13:32:39.876Z"
   },
   {
    "duration": 6,
    "start_time": "2021-10-22T13:32:50.084Z"
   },
   {
    "duration": 6,
    "start_time": "2021-10-22T13:33:02.356Z"
   },
   {
    "duration": 9,
    "start_time": "2021-10-22T13:33:42.923Z"
   },
   {
    "duration": 10,
    "start_time": "2021-10-22T13:37:43.480Z"
   },
   {
    "duration": 7,
    "start_time": "2021-10-22T13:37:59.535Z"
   },
   {
    "duration": 7,
    "start_time": "2021-10-22T13:38:08.887Z"
   },
   {
    "duration": 227,
    "start_time": "2021-10-22T13:52:07.844Z"
   },
   {
    "duration": 15,
    "start_time": "2021-10-22T13:52:19.946Z"
   },
   {
    "duration": 15,
    "start_time": "2021-10-22T13:53:28.886Z"
   },
   {
    "duration": 22,
    "start_time": "2021-10-22T13:54:31.605Z"
   },
   {
    "duration": 17,
    "start_time": "2021-10-22T13:56:14.057Z"
   },
   {
    "duration": 21,
    "start_time": "2021-10-22T13:56:33.021Z"
   },
   {
    "duration": 1358,
    "start_time": "2021-10-22T13:56:43.690Z"
   },
   {
    "duration": 339,
    "start_time": "2021-10-22T13:56:45.051Z"
   },
   {
    "duration": 16,
    "start_time": "2021-10-22T13:56:45.393Z"
   },
   {
    "duration": 80,
    "start_time": "2021-10-22T13:56:45.413Z"
   },
   {
    "duration": 201,
    "start_time": "2021-10-22T13:56:45.496Z"
   },
   {
    "duration": 30,
    "start_time": "2021-10-22T13:56:45.699Z"
   },
   {
    "duration": 73,
    "start_time": "2021-10-22T13:56:45.732Z"
   },
   {
    "duration": 141,
    "start_time": "2021-10-22T13:56:45.809Z"
   },
   {
    "duration": 54,
    "start_time": "2021-10-22T13:56:45.954Z"
   },
   {
    "duration": 27,
    "start_time": "2021-10-22T13:56:46.011Z"
   },
   {
    "duration": 48,
    "start_time": "2021-10-22T13:56:46.040Z"
   },
   {
    "duration": 4,
    "start_time": "2021-10-22T13:56:46.091Z"
   },
   {
    "duration": 12,
    "start_time": "2021-10-22T13:56:46.098Z"
   },
   {
    "duration": 12,
    "start_time": "2021-10-22T13:56:46.112Z"
   },
   {
    "duration": 14,
    "start_time": "2021-10-22T13:56:46.127Z"
   },
   {
    "duration": 50,
    "start_time": "2021-10-22T13:56:46.144Z"
   },
   {
    "duration": 36,
    "start_time": "2021-10-22T13:56:46.198Z"
   },
   {
    "duration": 48,
    "start_time": "2021-10-22T13:56:46.236Z"
   },
   {
    "duration": 51,
    "start_time": "2021-10-22T13:56:46.286Z"
   },
   {
    "duration": 8,
    "start_time": "2021-10-22T13:56:46.339Z"
   },
   {
    "duration": 39,
    "start_time": "2021-10-22T13:56:46.349Z"
   },
   {
    "duration": 28,
    "start_time": "2021-10-22T13:56:46.390Z"
   },
   {
    "duration": 32,
    "start_time": "2021-10-22T13:56:46.424Z"
   },
   {
    "duration": 11,
    "start_time": "2021-10-22T13:56:46.484Z"
   },
   {
    "duration": 14,
    "start_time": "2021-10-22T13:56:46.497Z"
   },
   {
    "duration": 14,
    "start_time": "2021-10-22T13:56:46.513Z"
   },
   {
    "duration": 59,
    "start_time": "2021-10-22T13:56:46.530Z"
   },
   {
    "duration": 28,
    "start_time": "2021-10-22T13:56:46.591Z"
   },
   {
    "duration": 21,
    "start_time": "2021-10-22T13:56:46.622Z"
   },
   {
    "duration": 8,
    "start_time": "2021-10-22T13:56:46.645Z"
   },
   {
    "duration": 31,
    "start_time": "2021-10-22T13:56:46.683Z"
   },
   {
    "duration": 9,
    "start_time": "2021-10-22T13:56:46.716Z"
   },
   {
    "duration": 11,
    "start_time": "2021-10-22T13:56:46.727Z"
   },
   {
    "duration": 43,
    "start_time": "2021-10-22T13:56:46.741Z"
   },
   {
    "duration": 8,
    "start_time": "2021-10-22T13:56:46.787Z"
   },
   {
    "duration": 10,
    "start_time": "2021-10-22T13:56:46.798Z"
   },
   {
    "duration": 12,
    "start_time": "2021-10-22T13:56:46.810Z"
   },
   {
    "duration": 57,
    "start_time": "2021-10-22T13:56:46.825Z"
   },
   {
    "duration": 23,
    "start_time": "2021-10-22T13:56:46.885Z"
   },
   {
    "duration": 12,
    "start_time": "2021-10-22T13:56:46.910Z"
   },
   {
    "duration": 14,
    "start_time": "2021-10-22T13:56:46.924Z"
   },
   {
    "duration": 58,
    "start_time": "2021-10-22T13:56:46.941Z"
   },
   {
    "duration": 14,
    "start_time": "2021-10-22T13:56:47.001Z"
   },
   {
    "duration": 12,
    "start_time": "2021-10-22T13:56:47.018Z"
   },
   {
    "duration": 13,
    "start_time": "2021-10-22T13:56:47.033Z"
   },
   {
    "duration": 14,
    "start_time": "2021-10-22T13:56:47.083Z"
   },
   {
    "duration": 236,
    "start_time": "2021-10-22T13:56:47.099Z"
   },
   {
    "duration": 9,
    "start_time": "2021-10-22T13:56:47.338Z"
   },
   {
    "duration": 34,
    "start_time": "2021-10-22T13:56:47.350Z"
   },
   {
    "duration": 230,
    "start_time": "2021-10-22T13:56:47.386Z"
   },
   {
    "duration": 8,
    "start_time": "2021-10-22T13:56:47.619Z"
   },
   {
    "duration": 18,
    "start_time": "2021-10-22T13:56:47.629Z"
   },
   {
    "duration": 11,
    "start_time": "2021-10-22T13:56:47.650Z"
   },
   {
    "duration": 13,
    "start_time": "2021-10-22T13:56:47.684Z"
   },
   {
    "duration": 37,
    "start_time": "2021-10-22T13:56:47.699Z"
   },
   {
    "duration": 9,
    "start_time": "2021-10-22T13:56:47.739Z"
   },
   {
    "duration": 33,
    "start_time": "2021-10-22T13:56:47.751Z"
   },
   {
    "duration": 41,
    "start_time": "2021-10-22T13:56:47.787Z"
   },
   {
    "duration": 69,
    "start_time": "2021-10-22T13:56:47.831Z"
   },
   {
    "duration": 31,
    "start_time": "2021-10-22T13:56:47.903Z"
   },
   {
    "duration": 49,
    "start_time": "2021-10-22T13:56:47.937Z"
   },
   {
    "duration": 609,
    "start_time": "2021-10-22T13:56:47.989Z"
   },
   {
    "duration": 1160,
    "start_time": "2021-10-22T13:56:48.601Z"
   },
   {
    "duration": 72,
    "start_time": "2021-10-22T13:56:49.764Z"
   },
   {
    "duration": 75,
    "start_time": "2021-10-22T13:56:49.838Z"
   },
   {
    "duration": 669,
    "start_time": "2021-10-22T13:56:49.916Z"
   },
   {
    "duration": 1090,
    "start_time": "2021-10-22T13:56:50.587Z"
   },
   {
    "duration": 1389,
    "start_time": "2021-10-22T13:56:51.687Z"
   },
   {
    "duration": 60,
    "start_time": "2021-10-22T13:56:53.083Z"
   },
   {
    "duration": 86,
    "start_time": "2021-10-22T13:56:53.145Z"
   },
   {
    "duration": 670,
    "start_time": "2021-10-22T13:56:53.233Z"
   },
   {
    "duration": 605,
    "start_time": "2021-10-22T13:56:53.905Z"
   },
   {
    "duration": 72,
    "start_time": "2021-10-22T13:56:54.513Z"
   },
   {
    "duration": 62,
    "start_time": "2021-10-22T13:56:54.587Z"
   },
   {
    "duration": 658,
    "start_time": "2021-10-22T13:56:54.651Z"
   },
   {
    "duration": 7,
    "start_time": "2021-10-22T13:56:55.312Z"
   },
   {
    "duration": 9,
    "start_time": "2021-10-22T13:56:55.321Z"
   },
   {
    "duration": 11,
    "start_time": "2021-10-22T13:56:55.332Z"
   },
   {
    "duration": 39,
    "start_time": "2021-10-22T13:56:55.345Z"
   },
   {
    "duration": 7,
    "start_time": "2021-10-22T13:56:55.386Z"
   },
   {
    "duration": 10,
    "start_time": "2021-10-22T13:56:55.395Z"
   },
   {
    "duration": 945,
    "start_time": "2021-10-22T13:56:55.408Z"
   },
   {
    "duration": 769,
    "start_time": "2021-10-22T13:56:56.356Z"
   },
   {
    "duration": 8,
    "start_time": "2021-10-22T13:56:57.127Z"
   },
   {
    "duration": 8,
    "start_time": "2021-10-22T13:56:57.137Z"
   },
   {
    "duration": 48,
    "start_time": "2021-10-22T13:58:56.565Z"
   },
   {
    "duration": 1350,
    "start_time": "2021-10-22T13:59:09.553Z"
   },
   {
    "duration": 222,
    "start_time": "2021-10-22T13:59:10.905Z"
   },
   {
    "duration": 16,
    "start_time": "2021-10-22T13:59:11.130Z"
   },
   {
    "duration": 73,
    "start_time": "2021-10-22T13:59:11.148Z"
   },
   {
    "duration": 185,
    "start_time": "2021-10-22T13:59:11.223Z"
   },
   {
    "duration": 27,
    "start_time": "2021-10-22T13:59:11.410Z"
   },
   {
    "duration": 65,
    "start_time": "2021-10-22T13:59:11.440Z"
   },
   {
    "duration": 135,
    "start_time": "2021-10-22T13:59:11.509Z"
   },
   {
    "duration": 53,
    "start_time": "2021-10-22T13:59:11.647Z"
   },
   {
    "duration": 24,
    "start_time": "2021-10-22T13:59:11.703Z"
   },
   {
    "duration": 45,
    "start_time": "2021-10-22T13:59:11.730Z"
   },
   {
    "duration": 4,
    "start_time": "2021-10-22T13:59:11.777Z"
   },
   {
    "duration": 11,
    "start_time": "2021-10-22T13:59:11.783Z"
   },
   {
    "duration": 11,
    "start_time": "2021-10-22T13:59:11.796Z"
   },
   {
    "duration": 16,
    "start_time": "2021-10-22T13:59:11.810Z"
   },
   {
    "duration": 16,
    "start_time": "2021-10-22T13:59:11.829Z"
   },
   {
    "duration": 64,
    "start_time": "2021-10-22T13:59:11.847Z"
   },
   {
    "duration": 23,
    "start_time": "2021-10-22T13:59:11.914Z"
   },
   {
    "duration": 75,
    "start_time": "2021-10-22T13:59:11.940Z"
   },
   {
    "duration": 8,
    "start_time": "2021-10-22T13:59:12.017Z"
   },
   {
    "duration": 17,
    "start_time": "2021-10-22T13:59:12.028Z"
   },
   {
    "duration": 49,
    "start_time": "2021-10-22T13:59:12.047Z"
   },
   {
    "duration": 31,
    "start_time": "2021-10-22T13:59:12.102Z"
   },
   {
    "duration": 10,
    "start_time": "2021-10-22T13:59:12.137Z"
   },
   {
    "duration": 35,
    "start_time": "2021-10-22T13:59:12.149Z"
   },
   {
    "duration": 14,
    "start_time": "2021-10-22T13:59:12.186Z"
   },
   {
    "duration": 34,
    "start_time": "2021-10-22T13:59:12.203Z"
   },
   {
    "duration": 58,
    "start_time": "2021-10-22T13:59:12.239Z"
   },
   {
    "duration": 21,
    "start_time": "2021-10-22T13:59:12.299Z"
   },
   {
    "duration": 8,
    "start_time": "2021-10-22T13:59:12.323Z"
   },
   {
    "duration": 54,
    "start_time": "2021-10-22T13:59:12.334Z"
   },
   {
    "duration": 9,
    "start_time": "2021-10-22T13:59:12.390Z"
   },
   {
    "duration": 7,
    "start_time": "2021-10-22T13:59:12.401Z"
   },
   {
    "duration": 10,
    "start_time": "2021-10-22T13:59:12.410Z"
   },
   {
    "duration": 9,
    "start_time": "2021-10-22T13:59:12.422Z"
   },
   {
    "duration": 50,
    "start_time": "2021-10-22T13:59:12.434Z"
   },
   {
    "duration": 11,
    "start_time": "2021-10-22T13:59:12.487Z"
   },
   {
    "duration": 13,
    "start_time": "2021-10-22T13:59:12.501Z"
   },
   {
    "duration": 21,
    "start_time": "2021-10-22T13:59:12.517Z"
   },
   {
    "duration": 48,
    "start_time": "2021-10-22T13:59:12.540Z"
   },
   {
    "duration": 12,
    "start_time": "2021-10-22T13:59:12.590Z"
   },
   {
    "duration": 15,
    "start_time": "2021-10-22T13:59:12.604Z"
   },
   {
    "duration": 13,
    "start_time": "2021-10-22T13:59:12.622Z"
   },
   {
    "duration": 53,
    "start_time": "2021-10-22T13:59:12.638Z"
   },
   {
    "duration": 14,
    "start_time": "2021-10-22T13:59:12.694Z"
   },
   {
    "duration": 14,
    "start_time": "2021-10-22T13:59:12.711Z"
   },
   {
    "duration": 290,
    "start_time": "2021-10-22T13:59:12.728Z"
   },
   {
    "duration": 32,
    "start_time": "2021-10-22T13:59:13.021Z"
   },
   {
    "duration": 31,
    "start_time": "2021-10-22T13:59:13.056Z"
   },
   {
    "duration": 405,
    "start_time": "2021-10-22T13:59:13.089Z"
   },
   {
    "duration": -770,
    "start_time": "2021-10-22T13:59:14.268Z"
   },
   {
    "duration": -773,
    "start_time": "2021-10-22T13:59:14.272Z"
   },
   {
    "duration": -774,
    "start_time": "2021-10-22T13:59:14.275Z"
   },
   {
    "duration": -777,
    "start_time": "2021-10-22T13:59:14.279Z"
   },
   {
    "duration": -779,
    "start_time": "2021-10-22T13:59:14.283Z"
   },
   {
    "duration": -781,
    "start_time": "2021-10-22T13:59:14.287Z"
   },
   {
    "duration": -784,
    "start_time": "2021-10-22T13:59:14.291Z"
   },
   {
    "duration": -786,
    "start_time": "2021-10-22T13:59:14.295Z"
   },
   {
    "duration": -809,
    "start_time": "2021-10-22T13:59:14.319Z"
   },
   {
    "duration": -815,
    "start_time": "2021-10-22T13:59:14.326Z"
   },
   {
    "duration": -817,
    "start_time": "2021-10-22T13:59:14.330Z"
   },
   {
    "duration": -821,
    "start_time": "2021-10-22T13:59:14.335Z"
   },
   {
    "duration": -824,
    "start_time": "2021-10-22T13:59:14.339Z"
   },
   {
    "duration": -826,
    "start_time": "2021-10-22T13:59:14.343Z"
   },
   {
    "duration": -829,
    "start_time": "2021-10-22T13:59:14.347Z"
   },
   {
    "duration": -831,
    "start_time": "2021-10-22T13:59:14.351Z"
   },
   {
    "duration": -874,
    "start_time": "2021-10-22T13:59:14.395Z"
   },
   {
    "duration": -890,
    "start_time": "2021-10-22T13:59:14.412Z"
   },
   {
    "duration": -891,
    "start_time": "2021-10-22T13:59:14.415Z"
   },
   {
    "duration": -903,
    "start_time": "2021-10-22T13:59:14.428Z"
   },
   {
    "duration": -904,
    "start_time": "2021-10-22T13:59:14.431Z"
   },
   {
    "duration": -908,
    "start_time": "2021-10-22T13:59:14.436Z"
   },
   {
    "duration": -910,
    "start_time": "2021-10-22T13:59:14.440Z"
   },
   {
    "duration": -913,
    "start_time": "2021-10-22T13:59:14.444Z"
   },
   {
    "duration": -866,
    "start_time": "2021-10-22T13:59:14.448Z"
   },
   {
    "duration": -869,
    "start_time": "2021-10-22T13:59:14.453Z"
   },
   {
    "duration": -872,
    "start_time": "2021-10-22T13:59:14.457Z"
   },
   {
    "duration": -874,
    "start_time": "2021-10-22T13:59:14.461Z"
   },
   {
    "duration": -876,
    "start_time": "2021-10-22T13:59:14.465Z"
   },
   {
    "duration": -878,
    "start_time": "2021-10-22T13:59:14.469Z"
   },
   {
    "duration": -879,
    "start_time": "2021-10-22T13:59:14.472Z"
   },
   {
    "duration": -883,
    "start_time": "2021-10-22T13:59:14.477Z"
   },
   {
    "duration": -884,
    "start_time": "2021-10-22T13:59:14.480Z"
   },
   {
    "duration": -886,
    "start_time": "2021-10-22T13:59:14.484Z"
   },
   {
    "duration": -889,
    "start_time": "2021-10-22T13:59:14.488Z"
   },
   {
    "duration": 5,
    "start_time": "2021-10-22T14:05:09.967Z"
   },
   {
    "duration": 23,
    "start_time": "2021-10-22T14:05:32.306Z"
   },
   {
    "duration": 15,
    "start_time": "2021-10-22T14:06:09.042Z"
   },
   {
    "duration": 10,
    "start_time": "2021-10-22T14:07:18.569Z"
   },
   {
    "duration": 14,
    "start_time": "2021-10-22T14:07:21.404Z"
   },
   {
    "duration": 17,
    "start_time": "2021-10-22T14:07:40.667Z"
   },
   {
    "duration": 11,
    "start_time": "2021-10-22T14:07:47.682Z"
   },
   {
    "duration": 13,
    "start_time": "2021-10-22T14:07:51.437Z"
   },
   {
    "duration": 14,
    "start_time": "2021-10-22T14:08:42.142Z"
   },
   {
    "duration": 22,
    "start_time": "2021-10-22T14:08:50.531Z"
   },
   {
    "duration": 10,
    "start_time": "2021-10-22T14:08:53.064Z"
   },
   {
    "duration": 12,
    "start_time": "2021-10-22T14:09:02.787Z"
   },
   {
    "duration": 5,
    "start_time": "2021-10-22T14:09:06.086Z"
   },
   {
    "duration": 24,
    "start_time": "2021-10-22T14:09:10.680Z"
   },
   {
    "duration": 14,
    "start_time": "2021-10-22T14:09:16.082Z"
   },
   {
    "duration": 16,
    "start_time": "2021-10-22T14:09:22.986Z"
   },
   {
    "duration": 223,
    "start_time": "2021-10-22T14:09:34.250Z"
   },
   {
    "duration": 11,
    "start_time": "2021-10-22T14:09:48.691Z"
   },
   {
    "duration": 13,
    "start_time": "2021-10-22T14:09:55.112Z"
   },
   {
    "duration": 227,
    "start_time": "2021-10-22T14:09:58.297Z"
   },
   {
    "duration": 10,
    "start_time": "2021-10-22T14:10:06.177Z"
   },
   {
    "duration": 10,
    "start_time": "2021-10-22T14:10:08.907Z"
   },
   {
    "duration": 10,
    "start_time": "2021-10-22T14:10:11.461Z"
   },
   {
    "duration": 11,
    "start_time": "2021-10-22T14:10:14.788Z"
   },
   {
    "duration": 36,
    "start_time": "2021-10-22T14:10:18.211Z"
   },
   {
    "duration": 6,
    "start_time": "2021-10-22T14:10:44.844Z"
   },
   {
    "duration": 8,
    "start_time": "2021-10-22T14:10:49.010Z"
   },
   {
    "duration": 35,
    "start_time": "2021-10-22T14:10:55.441Z"
   },
   {
    "duration": 31,
    "start_time": "2021-10-22T14:11:10.417Z"
   },
   {
    "duration": 18,
    "start_time": "2021-10-22T14:11:12.602Z"
   },
   {
    "duration": 564,
    "start_time": "2021-10-22T14:11:15.152Z"
   },
   {
    "duration": 1327,
    "start_time": "2021-10-22T14:11:34.691Z"
   },
   {
    "duration": 226,
    "start_time": "2021-10-22T14:11:36.021Z"
   },
   {
    "duration": 31,
    "start_time": "2021-10-22T14:11:36.251Z"
   },
   {
    "duration": 54,
    "start_time": "2021-10-22T14:11:36.285Z"
   },
   {
    "duration": 205,
    "start_time": "2021-10-22T14:11:36.341Z"
   },
   {
    "duration": 41,
    "start_time": "2021-10-22T14:11:36.549Z"
   },
   {
    "duration": 47,
    "start_time": "2021-10-22T14:11:36.593Z"
   },
   {
    "duration": 172,
    "start_time": "2021-10-22T14:11:36.644Z"
   },
   {
    "duration": 36,
    "start_time": "2021-10-22T14:11:36.819Z"
   },
   {
    "duration": 38,
    "start_time": "2021-10-22T14:11:36.858Z"
   },
   {
    "duration": 46,
    "start_time": "2021-10-22T14:11:36.899Z"
   },
   {
    "duration": 4,
    "start_time": "2021-10-22T14:11:36.947Z"
   },
   {
    "duration": 12,
    "start_time": "2021-10-22T14:11:36.953Z"
   },
   {
    "duration": 23,
    "start_time": "2021-10-22T14:11:36.967Z"
   },
   {
    "duration": 16,
    "start_time": "2021-10-22T14:11:36.992Z"
   },
   {
    "duration": 21,
    "start_time": "2021-10-22T14:11:37.011Z"
   },
   {
    "duration": 67,
    "start_time": "2021-10-22T14:11:37.034Z"
   },
   {
    "duration": 18,
    "start_time": "2021-10-22T14:11:37.103Z"
   },
   {
    "duration": 79,
    "start_time": "2021-10-22T14:11:37.123Z"
   },
   {
    "duration": 7,
    "start_time": "2021-10-22T14:11:37.205Z"
   },
   {
    "duration": 13,
    "start_time": "2021-10-22T14:11:37.215Z"
   },
   {
    "duration": 62,
    "start_time": "2021-10-22T14:11:37.230Z"
   },
   {
    "duration": 37,
    "start_time": "2021-10-22T14:11:37.301Z"
   },
   {
    "duration": 9,
    "start_time": "2021-10-22T14:11:37.342Z"
   },
   {
    "duration": 35,
    "start_time": "2021-10-22T14:11:37.353Z"
   },
   {
    "duration": 17,
    "start_time": "2021-10-22T14:11:37.391Z"
   },
   {
    "duration": 35,
    "start_time": "2021-10-22T14:11:37.410Z"
   },
   {
    "duration": 58,
    "start_time": "2021-10-22T14:11:37.448Z"
   },
   {
    "duration": 22,
    "start_time": "2021-10-22T14:11:37.509Z"
   },
   {
    "duration": 9,
    "start_time": "2021-10-22T14:11:37.533Z"
   },
   {
    "duration": 59,
    "start_time": "2021-10-22T14:11:37.544Z"
   },
   {
    "duration": 9,
    "start_time": "2021-10-22T14:11:37.606Z"
   },
   {
    "duration": 18,
    "start_time": "2021-10-22T14:11:37.617Z"
   },
   {
    "duration": 9,
    "start_time": "2021-10-22T14:11:37.637Z"
   },
   {
    "duration": 13,
    "start_time": "2021-10-22T14:11:37.649Z"
   },
   {
    "duration": 9,
    "start_time": "2021-10-22T14:11:37.684Z"
   },
   {
    "duration": 17,
    "start_time": "2021-10-22T14:11:37.696Z"
   },
   {
    "duration": 19,
    "start_time": "2021-10-22T14:11:37.715Z"
   },
   {
    "duration": 47,
    "start_time": "2021-10-22T14:11:37.737Z"
   },
   {
    "duration": 10,
    "start_time": "2021-10-22T14:11:37.786Z"
   },
   {
    "duration": 12,
    "start_time": "2021-10-22T14:11:37.798Z"
   },
   {
    "duration": 12,
    "start_time": "2021-10-22T14:11:37.812Z"
   },
   {
    "duration": 56,
    "start_time": "2021-10-22T14:11:37.826Z"
   },
   {
    "duration": 13,
    "start_time": "2021-10-22T14:11:37.884Z"
   },
   {
    "duration": 15,
    "start_time": "2021-10-22T14:11:37.900Z"
   },
   {
    "duration": 11,
    "start_time": "2021-10-22T14:11:37.917Z"
   },
   {
    "duration": 53,
    "start_time": "2021-10-22T14:11:37.931Z"
   },
   {
    "duration": 245,
    "start_time": "2021-10-22T14:11:37.986Z"
   },
   {
    "duration": 10,
    "start_time": "2021-10-22T14:11:38.233Z"
   },
   {
    "duration": 19,
    "start_time": "2021-10-22T14:11:38.245Z"
   },
   {
    "duration": 231,
    "start_time": "2021-10-22T14:11:38.283Z"
   },
   {
    "duration": 9,
    "start_time": "2021-10-22T14:11:38.516Z"
   },
   {
    "duration": 10,
    "start_time": "2021-10-22T14:11:38.527Z"
   },
   {
    "duration": 9,
    "start_time": "2021-10-22T14:11:38.539Z"
   },
   {
    "duration": 42,
    "start_time": "2021-10-22T14:11:38.550Z"
   },
   {
    "duration": 36,
    "start_time": "2021-10-22T14:11:38.595Z"
   },
   {
    "duration": 5,
    "start_time": "2021-10-22T14:11:38.634Z"
   },
   {
    "duration": 11,
    "start_time": "2021-10-22T14:11:38.641Z"
   },
   {
    "duration": 56,
    "start_time": "2021-10-22T14:11:38.654Z"
   },
   {
    "duration": 32,
    "start_time": "2021-10-22T14:11:38.712Z"
   },
   {
    "duration": 45,
    "start_time": "2021-10-22T14:11:38.746Z"
   },
   {
    "duration": 594,
    "start_time": "2021-10-22T14:11:38.793Z"
   },
   {
    "duration": 1198,
    "start_time": "2021-10-22T14:11:39.389Z"
   },
   {
    "duration": 56,
    "start_time": "2021-10-22T14:11:40.590Z"
   },
   {
    "duration": 79,
    "start_time": "2021-10-22T14:11:40.649Z"
   },
   {
    "duration": 684,
    "start_time": "2021-10-22T14:11:40.731Z"
   },
   {
    "duration": 1146,
    "start_time": "2021-10-22T14:11:41.418Z"
   },
   {
    "duration": 1285,
    "start_time": "2021-10-22T14:11:42.571Z"
   },
   {
    "duration": 71,
    "start_time": "2021-10-22T14:11:43.859Z"
   },
   {
    "duration": 76,
    "start_time": "2021-10-22T14:11:43.932Z"
   },
   {
    "duration": 674,
    "start_time": "2021-10-22T14:11:44.011Z"
   },
   {
    "duration": 625,
    "start_time": "2021-10-22T14:11:44.687Z"
   },
   {
    "duration": 73,
    "start_time": "2021-10-22T14:11:45.314Z"
   },
   {
    "duration": 59,
    "start_time": "2021-10-22T14:11:45.389Z"
   },
   {
    "duration": 666,
    "start_time": "2021-10-22T14:11:45.451Z"
   },
   {
    "duration": 6,
    "start_time": "2021-10-22T14:11:46.120Z"
   },
   {
    "duration": 12,
    "start_time": "2021-10-22T14:11:46.128Z"
   },
   {
    "duration": 9,
    "start_time": "2021-10-22T14:11:46.143Z"
   },
   {
    "duration": 30,
    "start_time": "2021-10-22T14:11:46.154Z"
   },
   {
    "duration": 5,
    "start_time": "2021-10-22T14:11:46.186Z"
   },
   {
    "duration": 9,
    "start_time": "2021-10-22T14:11:46.194Z"
   },
   {
    "duration": 969,
    "start_time": "2021-10-22T14:11:46.206Z"
   },
   {
    "duration": 781,
    "start_time": "2021-10-22T14:11:47.177Z"
   },
   {
    "duration": 7,
    "start_time": "2021-10-22T14:11:47.961Z"
   },
   {
    "duration": 17,
    "start_time": "2021-10-22T14:11:47.971Z"
   },
   {
    "duration": 10,
    "start_time": "2021-10-22T14:12:15.922Z"
   },
   {
    "duration": 232,
    "start_time": "2021-10-22T14:12:20.325Z"
   },
   {
    "duration": 220,
    "start_time": "2021-10-22T14:12:52.042Z"
   },
   {
    "duration": 10,
    "start_time": "2021-10-22T14:12:57.319Z"
   },
   {
    "duration": 13,
    "start_time": "2021-10-22T14:13:03.930Z"
   },
   {
    "duration": 232,
    "start_time": "2021-10-22T14:13:08.998Z"
   },
   {
    "duration": 13,
    "start_time": "2021-10-22T14:13:13.640Z"
   },
   {
    "duration": 14,
    "start_time": "2021-10-22T14:13:16.570Z"
   },
   {
    "duration": 9,
    "start_time": "2021-10-22T14:13:19.241Z"
   },
   {
    "duration": 12,
    "start_time": "2021-10-22T14:13:21.918Z"
   },
   {
    "duration": 25,
    "start_time": "2021-10-22T14:13:25.044Z"
   },
   {
    "duration": 7,
    "start_time": "2021-10-22T14:13:29.036Z"
   },
   {
    "duration": 6,
    "start_time": "2021-10-22T14:13:50.251Z"
   },
   {
    "duration": 8,
    "start_time": "2021-10-22T14:13:51.599Z"
   },
   {
    "duration": 27,
    "start_time": "2021-10-22T14:13:54.730Z"
   },
   {
    "duration": 28,
    "start_time": "2021-10-22T14:13:59.092Z"
   },
   {
    "duration": 18,
    "start_time": "2021-10-22T14:13:59.971Z"
   },
   {
    "duration": 569,
    "start_time": "2021-10-22T14:14:01.277Z"
   },
   {
    "duration": 1211,
    "start_time": "2021-10-22T14:14:04.565Z"
   },
   {
    "duration": 73,
    "start_time": "2021-10-22T14:14:11.048Z"
   },
   {
    "duration": 58,
    "start_time": "2021-10-22T14:14:14.638Z"
   },
   {
    "duration": 644,
    "start_time": "2021-10-22T14:14:18.938Z"
   },
   {
    "duration": 1133,
    "start_time": "2021-10-22T14:14:24.541Z"
   },
   {
    "duration": 58,
    "start_time": "2021-10-22T14:14:28.972Z"
   },
   {
    "duration": 61,
    "start_time": "2021-10-22T14:14:31.980Z"
   },
   {
    "duration": 631,
    "start_time": "2021-10-22T14:14:37.314Z"
   },
   {
    "duration": 65,
    "start_time": "2021-10-22T14:14:44.344Z"
   },
   {
    "duration": 61,
    "start_time": "2021-10-22T14:14:51.081Z"
   },
   {
    "duration": 654,
    "start_time": "2021-10-22T14:14:54.691Z"
   },
   {
    "duration": 7,
    "start_time": "2021-10-22T14:14:59.698Z"
   },
   {
    "duration": 7,
    "start_time": "2021-10-22T14:15:00.899Z"
   },
   {
    "duration": 6,
    "start_time": "2021-10-22T14:15:02.142Z"
   },
   {
    "duration": 6,
    "start_time": "2021-10-22T14:15:03.283Z"
   },
   {
    "duration": 7,
    "start_time": "2021-10-22T14:15:38.971Z"
   },
   {
    "duration": 7,
    "start_time": "2021-10-22T14:15:40.171Z"
   },
   {
    "duration": 778,
    "start_time": "2021-10-22T14:15:58.209Z"
   },
   {
    "duration": 8,
    "start_time": "2021-10-22T14:16:31.531Z"
   },
   {
    "duration": 7,
    "start_time": "2021-10-22T14:16:33.266Z"
   },
   {
    "duration": 7,
    "start_time": "2021-10-22T14:17:27.052Z"
   },
   {
    "duration": 7,
    "start_time": "2021-10-22T14:17:30.961Z"
   },
   {
    "duration": 764,
    "start_time": "2021-10-22T14:20:07.445Z"
   },
   {
    "duration": 16,
    "start_time": "2021-10-22T14:21:21.089Z"
   },
   {
    "duration": 1339,
    "start_time": "2021-10-22T14:22:24.147Z"
   },
   {
    "duration": 292,
    "start_time": "2021-10-22T14:22:27.775Z"
   },
   {
    "duration": 16,
    "start_time": "2021-10-22T14:22:32.575Z"
   },
   {
    "duration": 57,
    "start_time": "2021-10-22T14:22:42.831Z"
   },
   {
    "duration": 197,
    "start_time": "2021-10-22T14:22:47.426Z"
   },
   {
    "duration": 31,
    "start_time": "2021-10-22T14:22:52.068Z"
   },
   {
    "duration": 48,
    "start_time": "2021-10-22T14:22:55.183Z"
   },
   {
    "duration": 138,
    "start_time": "2021-10-22T14:23:01.375Z"
   },
   {
    "duration": 34,
    "start_time": "2021-10-22T14:23:04.340Z"
   },
   {
    "duration": 26,
    "start_time": "2021-10-22T14:23:08.213Z"
   },
   {
    "duration": 45,
    "start_time": "2021-10-22T14:23:13.377Z"
   },
   {
    "duration": 5,
    "start_time": "2021-10-22T14:23:22.191Z"
   },
   {
    "duration": 9,
    "start_time": "2021-10-22T14:23:25.894Z"
   },
   {
    "duration": 10,
    "start_time": "2021-10-22T14:23:27.582Z"
   },
   {
    "duration": 14,
    "start_time": "2021-10-22T14:23:32.902Z"
   },
   {
    "duration": 13,
    "start_time": "2021-10-22T14:23:51.147Z"
   },
   {
    "duration": 36,
    "start_time": "2021-10-22T14:23:56.101Z"
   },
   {
    "duration": 18,
    "start_time": "2021-10-22T14:24:05.158Z"
   },
   {
    "duration": 52,
    "start_time": "2021-10-22T14:24:13.559Z"
   },
   {
    "duration": 9,
    "start_time": "2021-10-22T14:24:24.749Z"
   },
   {
    "duration": 11,
    "start_time": "2021-10-22T14:24:27.623Z"
   },
   {
    "duration": 28,
    "start_time": "2021-10-22T14:24:32.340Z"
   },
   {
    "duration": 35,
    "start_time": "2021-10-22T14:24:37.901Z"
   },
   {
    "duration": 12,
    "start_time": "2021-10-22T14:24:43.468Z"
   },
   {
    "duration": 8,
    "start_time": "2021-10-22T14:24:46.941Z"
   },
   {
    "duration": 12,
    "start_time": "2021-10-22T14:24:50.982Z"
   },
   {
    "duration": 31,
    "start_time": "2021-10-22T14:24:54.469Z"
   },
   {
    "duration": 29,
    "start_time": "2021-10-22T14:24:57.900Z"
   },
   {
    "duration": 22,
    "start_time": "2021-10-22T14:25:05.381Z"
   },
   {
    "duration": 9,
    "start_time": "2021-10-22T14:25:12.069Z"
   },
   {
    "duration": 31,
    "start_time": "2021-10-22T14:25:16.104Z"
   },
   {
    "duration": 10,
    "start_time": "2021-10-22T14:25:29.965Z"
   },
   {
    "duration": 7,
    "start_time": "2021-10-22T14:25:37.560Z"
   },
   {
    "duration": 7,
    "start_time": "2021-10-22T14:25:38.368Z"
   },
   {
    "duration": 6,
    "start_time": "2021-10-22T14:25:39.088Z"
   },
   {
    "duration": 7,
    "start_time": "2021-10-22T14:25:39.945Z"
   },
   {
    "duration": 11,
    "start_time": "2021-10-22T14:25:42.322Z"
   },
   {
    "duration": 15,
    "start_time": "2021-10-22T14:25:47.771Z"
   },
   {
    "duration": 21,
    "start_time": "2021-10-22T14:26:05.254Z"
   },
   {
    "duration": 10,
    "start_time": "2021-10-22T14:26:10.382Z"
   },
   {
    "duration": 13,
    "start_time": "2021-10-22T14:26:14.480Z"
   },
   {
    "duration": 5,
    "start_time": "2021-10-22T14:26:19.488Z"
   },
   {
    "duration": 25,
    "start_time": "2021-10-22T14:26:28.921Z"
   },
   {
    "duration": 412,
    "start_time": "2021-10-22T14:26:49.416Z"
   },
   {
    "duration": 14,
    "start_time": "2021-10-22T14:27:23.192Z"
   },
   {
    "duration": 10,
    "start_time": "2021-10-22T14:27:29.303Z"
   },
   {
    "duration": 261,
    "start_time": "2021-10-22T14:28:32.465Z"
   },
   {
    "duration": 15,
    "start_time": "2021-10-22T14:28:47.813Z"
   },
   {
    "duration": 10,
    "start_time": "2021-10-22T14:30:08.330Z"
   },
   {
    "duration": 15,
    "start_time": "2021-10-22T14:30:14.709Z"
   },
   {
    "duration": 21,
    "start_time": "2021-10-22T14:30:25.291Z"
   },
   {
    "duration": 14,
    "start_time": "2021-10-22T14:30:29.270Z"
   },
   {
    "duration": 13,
    "start_time": "2021-10-22T14:30:34.650Z"
   },
   {
    "duration": 9,
    "start_time": "2021-10-22T14:31:00.742Z"
   },
   {
    "duration": 5,
    "start_time": "2021-10-22T14:31:14.870Z"
   },
   {
    "duration": 16,
    "start_time": "2021-10-22T14:31:18.650Z"
   },
   {
    "duration": 32,
    "start_time": "2021-10-22T14:31:43.689Z"
   },
   {
    "duration": 20,
    "start_time": "2021-10-22T14:32:21.217Z"
   },
   {
    "duration": 20,
    "start_time": "2021-10-22T14:32:47.216Z"
   },
   {
    "duration": 14,
    "start_time": "2021-10-22T14:32:57.237Z"
   },
   {
    "duration": 17,
    "start_time": "2021-10-22T14:33:04.906Z"
   },
   {
    "duration": 11,
    "start_time": "2021-10-22T14:33:09.679Z"
   },
   {
    "duration": 13,
    "start_time": "2021-10-22T14:33:12.635Z"
   },
   {
    "duration": 230,
    "start_time": "2021-10-22T14:33:14.872Z"
   },
   {
    "duration": 11,
    "start_time": "2021-10-22T14:33:19.484Z"
   },
   {
    "duration": 11,
    "start_time": "2021-10-22T14:33:20.549Z"
   },
   {
    "duration": 224,
    "start_time": "2021-10-22T14:33:21.666Z"
   },
   {
    "duration": 9,
    "start_time": "2021-10-22T14:33:23.140Z"
   },
   {
    "duration": 9,
    "start_time": "2021-10-22T14:33:24.261Z"
   },
   {
    "duration": 9,
    "start_time": "2021-10-22T14:33:25.279Z"
   },
   {
    "duration": 12,
    "start_time": "2021-10-22T14:33:26.278Z"
   },
   {
    "duration": 28,
    "start_time": "2021-10-22T14:33:28.003Z"
   },
   {
    "duration": 7,
    "start_time": "2021-10-22T14:33:29.045Z"
   },
   {
    "duration": 8,
    "start_time": "2021-10-22T14:33:30.274Z"
   },
   {
    "duration": 30,
    "start_time": "2021-10-22T14:33:32.632Z"
   },
   {
    "duration": 29,
    "start_time": "2021-10-22T14:33:33.858Z"
   },
   {
    "duration": 18,
    "start_time": "2021-10-22T14:33:34.883Z"
   },
   {
    "duration": 579,
    "start_time": "2021-10-22T14:33:35.759Z"
   },
   {
    "duration": 1247,
    "start_time": "2021-10-22T14:33:37.005Z"
   },
   {
    "duration": 72,
    "start_time": "2021-10-22T14:33:38.255Z"
   },
   {
    "duration": 60,
    "start_time": "2021-10-22T14:33:39.060Z"
   },
   {
    "duration": 622,
    "start_time": "2021-10-22T14:33:40.329Z"
   },
   {
    "duration": 1156,
    "start_time": "2021-10-22T14:33:41.591Z"
   },
   {
    "duration": 1138,
    "start_time": "2021-10-22T14:33:43.571Z"
   },
   {
    "duration": 61,
    "start_time": "2021-10-22T14:33:45.052Z"
   },
   {
    "duration": 60,
    "start_time": "2021-10-22T14:33:46.298Z"
   },
   {
    "duration": 803,
    "start_time": "2021-10-22T14:33:47.959Z"
   },
   {
    "duration": 595,
    "start_time": "2021-10-22T14:33:49.221Z"
   },
   {
    "duration": 58,
    "start_time": "2021-10-22T14:33:50.256Z"
   },
   {
    "duration": 63,
    "start_time": "2021-10-22T14:33:51.147Z"
   },
   {
    "duration": 628,
    "start_time": "2021-10-22T14:33:52.227Z"
   },
   {
    "duration": 6,
    "start_time": "2021-10-22T14:33:53.346Z"
   },
   {
    "duration": 6,
    "start_time": "2021-10-22T14:33:54.575Z"
   },
   {
    "duration": 6,
    "start_time": "2021-10-22T14:33:55.750Z"
   },
   {
    "duration": 6,
    "start_time": "2021-10-22T14:33:56.464Z"
   },
   {
    "duration": 7,
    "start_time": "2021-10-22T14:33:57.155Z"
   },
   {
    "duration": 7,
    "start_time": "2021-10-22T14:33:58.123Z"
   },
   {
    "duration": 1090,
    "start_time": "2021-10-22T14:33:58.863Z"
   },
   {
    "duration": 671,
    "start_time": "2021-10-22T14:34:01.415Z"
   },
   {
    "duration": 9,
    "start_time": "2021-10-22T14:34:06.481Z"
   },
   {
    "duration": 6,
    "start_time": "2021-10-22T14:34:08.966Z"
   },
   {
    "duration": 13,
    "start_time": "2021-10-22T14:34:21.057Z"
   },
   {
    "duration": 81,
    "start_time": "2021-10-22T14:35:37.082Z"
   },
   {
    "duration": 19,
    "start_time": "2021-10-22T14:35:46.873Z"
   },
   {
    "duration": 7,
    "start_time": "2021-10-22T14:39:55.031Z"
   },
   {
    "duration": 7,
    "start_time": "2021-10-22T14:40:51.110Z"
   },
   {
    "duration": 8,
    "start_time": "2021-10-22T14:41:01.115Z"
   },
   {
    "duration": 1321,
    "start_time": "2021-10-22T14:49:05.080Z"
   },
   {
    "duration": 222,
    "start_time": "2021-10-22T14:49:06.404Z"
   },
   {
    "duration": 16,
    "start_time": "2021-10-22T14:49:06.629Z"
   },
   {
    "duration": 73,
    "start_time": "2021-10-22T14:49:06.648Z"
   },
   {
    "duration": 201,
    "start_time": "2021-10-22T14:49:06.724Z"
   },
   {
    "duration": 29,
    "start_time": "2021-10-22T14:49:06.927Z"
   },
   {
    "duration": 63,
    "start_time": "2021-10-22T14:49:06.959Z"
   },
   {
    "duration": 149,
    "start_time": "2021-10-22T14:49:07.025Z"
   },
   {
    "duration": 37,
    "start_time": "2021-10-22T14:49:07.184Z"
   },
   {
    "duration": 25,
    "start_time": "2021-10-22T14:49:07.225Z"
   },
   {
    "duration": 50,
    "start_time": "2021-10-22T14:49:07.253Z"
   },
   {
    "duration": 5,
    "start_time": "2021-10-22T14:49:07.307Z"
   },
   {
    "duration": 13,
    "start_time": "2021-10-22T14:49:07.315Z"
   },
   {
    "duration": 14,
    "start_time": "2021-10-22T14:49:07.330Z"
   },
   {
    "duration": 48,
    "start_time": "2021-10-22T14:49:07.347Z"
   },
   {
    "duration": 36,
    "start_time": "2021-10-22T14:49:07.399Z"
   },
   {
    "duration": 51,
    "start_time": "2021-10-22T14:49:07.438Z"
   },
   {
    "duration": 52,
    "start_time": "2021-10-22T14:49:07.491Z"
   },
   {
    "duration": 9,
    "start_time": "2021-10-22T14:49:07.546Z"
   },
   {
    "duration": 15,
    "start_time": "2021-10-22T14:49:07.584Z"
   },
   {
    "duration": 28,
    "start_time": "2021-10-22T14:49:07.602Z"
   },
   {
    "duration": 75,
    "start_time": "2021-10-22T14:49:07.633Z"
   },
   {
    "duration": 11,
    "start_time": "2021-10-22T14:49:07.710Z"
   },
   {
    "duration": 9,
    "start_time": "2021-10-22T14:49:07.723Z"
   },
   {
    "duration": 53,
    "start_time": "2021-10-22T14:49:07.735Z"
   },
   {
    "duration": 36,
    "start_time": "2021-10-22T14:49:07.790Z"
   },
   {
    "duration": 55,
    "start_time": "2021-10-22T14:49:07.833Z"
   },
   {
    "duration": 19,
    "start_time": "2021-10-22T14:49:07.893Z"
   },
   {
    "duration": 7,
    "start_time": "2021-10-22T14:49:07.915Z"
   },
   {
    "duration": 31,
    "start_time": "2021-10-22T14:49:07.925Z"
   },
   {
    "duration": 30,
    "start_time": "2021-10-22T14:49:07.958Z"
   },
   {
    "duration": 5,
    "start_time": "2021-10-22T14:49:07.991Z"
   },
   {
    "duration": 7,
    "start_time": "2021-10-22T14:49:07.998Z"
   },
   {
    "duration": 8,
    "start_time": "2021-10-22T14:49:08.008Z"
   },
   {
    "duration": 7,
    "start_time": "2021-10-22T14:49:08.018Z"
   },
   {
    "duration": 58,
    "start_time": "2021-10-22T14:49:08.027Z"
   },
   {
    "duration": 14,
    "start_time": "2021-10-22T14:49:08.087Z"
   },
   {
    "duration": 23,
    "start_time": "2021-10-22T14:49:08.103Z"
   },
   {
    "duration": 4,
    "start_time": "2021-10-22T14:49:08.129Z"
   },
   {
    "duration": 60,
    "start_time": "2021-10-22T14:49:08.135Z"
   },
   {
    "duration": 13,
    "start_time": "2021-10-22T14:49:08.197Z"
   },
   {
    "duration": 22,
    "start_time": "2021-10-22T14:49:08.212Z"
   },
   {
    "duration": 12,
    "start_time": "2021-10-22T14:49:08.237Z"
   },
   {
    "duration": 38,
    "start_time": "2021-10-22T14:49:08.251Z"
   },
   {
    "duration": 396,
    "start_time": "2021-10-22T14:49:08.292Z"
   },
   {
    "duration": 10,
    "start_time": "2021-10-22T14:49:08.691Z"
   },
   {
    "duration": 13,
    "start_time": "2021-10-22T14:49:08.704Z"
   },
   {
    "duration": 256,
    "start_time": "2021-10-22T14:49:08.720Z"
   },
   {
    "duration": 10,
    "start_time": "2021-10-22T14:49:08.983Z"
   },
   {
    "duration": 16,
    "start_time": "2021-10-22T14:49:08.996Z"
   },
   {
    "duration": 21,
    "start_time": "2021-10-22T14:49:09.015Z"
   },
   {
    "duration": 15,
    "start_time": "2021-10-22T14:49:09.039Z"
   },
   {
    "duration": 47,
    "start_time": "2021-10-22T14:49:09.056Z"
   },
   {
    "duration": 6,
    "start_time": "2021-10-22T14:49:09.106Z"
   },
   {
    "duration": 22,
    "start_time": "2021-10-22T14:49:09.114Z"
   },
   {
    "duration": 44,
    "start_time": "2021-10-22T14:49:09.138Z"
   },
   {
    "duration": 28,
    "start_time": "2021-10-22T14:49:09.185Z"
   },
   {
    "duration": 17,
    "start_time": "2021-10-22T14:49:09.215Z"
   },
   {
    "duration": 574,
    "start_time": "2021-10-22T14:49:09.235Z"
   },
   {
    "duration": 1180,
    "start_time": "2021-10-22T14:49:09.811Z"
   },
   {
    "duration": 57,
    "start_time": "2021-10-22T14:49:10.994Z"
   },
   {
    "duration": 78,
    "start_time": "2021-10-22T14:49:11.054Z"
   },
   {
    "duration": 673,
    "start_time": "2021-10-22T14:49:11.134Z"
   },
   {
    "duration": 1105,
    "start_time": "2021-10-22T14:49:11.809Z"
   },
   {
    "duration": 1230,
    "start_time": "2021-10-22T14:49:12.916Z"
   },
   {
    "duration": 75,
    "start_time": "2021-10-22T14:49:14.149Z"
   },
   {
    "duration": 73,
    "start_time": "2021-10-22T14:49:14.227Z"
   },
   {
    "duration": 654,
    "start_time": "2021-10-22T14:49:14.302Z"
   },
   {
    "duration": 613,
    "start_time": "2021-10-22T14:49:14.959Z"
   },
   {
    "duration": 59,
    "start_time": "2021-10-22T14:49:15.582Z"
   },
   {
    "duration": 81,
    "start_time": "2021-10-22T14:49:15.643Z"
   },
   {
    "duration": 627,
    "start_time": "2021-10-22T14:49:15.726Z"
   },
   {
    "duration": 7,
    "start_time": "2021-10-22T14:49:16.355Z"
   },
   {
    "duration": 21,
    "start_time": "2021-10-22T14:49:16.364Z"
   },
   {
    "duration": 7,
    "start_time": "2021-10-22T14:49:16.387Z"
   },
   {
    "duration": 7,
    "start_time": "2021-10-22T14:49:16.396Z"
   },
   {
    "duration": 8,
    "start_time": "2021-10-22T14:49:16.406Z"
   },
   {
    "duration": 11,
    "start_time": "2021-10-22T14:49:16.416Z"
   },
   {
    "duration": 991,
    "start_time": "2021-10-22T14:49:16.429Z"
   },
   {
    "duration": 741,
    "start_time": "2021-10-22T14:49:17.422Z"
   },
   {
    "duration": 17,
    "start_time": "2021-10-22T14:49:18.171Z"
   },
   {
    "duration": 434,
    "start_time": "2021-10-22T14:49:18.190Z"
   },
   {
    "duration": 162,
    "start_time": "2021-10-22T14:49:18.464Z"
   },
   {
    "duration": 158,
    "start_time": "2021-10-22T14:49:18.470Z"
   },
   {
    "duration": 322,
    "start_time": "2021-10-22T15:05:17.227Z"
   },
   {
    "duration": 295,
    "start_time": "2021-10-22T15:05:28.080Z"
   },
   {
    "duration": 7,
    "start_time": "2021-10-22T15:05:42.752Z"
   },
   {
    "duration": 282,
    "start_time": "2021-10-22T15:05:55.554Z"
   },
   {
    "duration": 14,
    "start_time": "2021-10-22T15:06:06.056Z"
   },
   {
    "duration": 7,
    "start_time": "2021-10-22T15:06:08.436Z"
   },
   {
    "duration": 184,
    "start_time": "2021-10-22T16:02:57.382Z"
   },
   {
    "duration": 142,
    "start_time": "2021-10-22T16:03:29.369Z"
   },
   {
    "duration": 25,
    "start_time": "2021-10-22T16:03:54.360Z"
   },
   {
    "duration": 42,
    "start_time": "2021-10-22T16:04:26.170Z"
   },
   {
    "duration": 9,
    "start_time": "2021-10-22T16:04:49.954Z"
   },
   {
    "duration": 530,
    "start_time": "2021-10-22T16:06:16.909Z"
   },
   {
    "duration": 26,
    "start_time": "2021-10-22T16:06:26.352Z"
   },
   {
    "duration": 13,
    "start_time": "2021-10-22T16:06:31.633Z"
   },
   {
    "duration": 32,
    "start_time": "2021-10-22T16:06:59.048Z"
   },
   {
    "duration": 27,
    "start_time": "2021-10-22T16:07:08.210Z"
   },
   {
    "duration": 12,
    "start_time": "2021-10-22T16:07:16.015Z"
   },
   {
    "duration": 20,
    "start_time": "2021-10-22T16:07:20.996Z"
   },
   {
    "duration": 54,
    "start_time": "2021-10-22T16:15:22.319Z"
   },
   {
    "duration": 57,
    "start_time": "2021-10-22T16:16:29.036Z"
   },
   {
    "duration": 9,
    "start_time": "2021-10-22T16:20:17.869Z"
   },
   {
    "duration": 17,
    "start_time": "2021-10-22T16:23:43.388Z"
   },
   {
    "duration": 5,
    "start_time": "2021-10-22T16:26:50.590Z"
   },
   {
    "duration": 9,
    "start_time": "2021-10-22T16:27:52.014Z"
   },
   {
    "duration": 19,
    "start_time": "2021-10-22T16:28:25.152Z"
   },
   {
    "duration": 14,
    "start_time": "2021-10-22T16:28:51.114Z"
   },
   {
    "duration": 15,
    "start_time": "2021-10-22T16:29:11.812Z"
   },
   {
    "duration": 8,
    "start_time": "2021-10-22T16:29:44.370Z"
   },
   {
    "duration": 12,
    "start_time": "2021-10-22T16:29:52.593Z"
   },
   {
    "duration": 83,
    "start_time": "2021-10-22T16:43:27.877Z"
   },
   {
    "duration": 7,
    "start_time": "2021-10-22T16:45:28.604Z"
   },
   {
    "duration": 50,
    "start_time": "2021-10-22T16:46:19.709Z"
   },
   {
    "duration": 32,
    "start_time": "2021-10-22T16:49:59.831Z"
   },
   {
    "duration": 30,
    "start_time": "2021-10-22T16:51:52.800Z"
   },
   {
    "duration": 16,
    "start_time": "2021-10-22T16:54:48.284Z"
   },
   {
    "duration": 10,
    "start_time": "2021-10-22T16:58:48.103Z"
   },
   {
    "duration": 1278,
    "start_time": "2021-10-22T17:01:45.593Z"
   },
   {
    "duration": 505,
    "start_time": "2021-10-22T17:01:47.634Z"
   },
   {
    "duration": 27,
    "start_time": "2021-10-22T17:01:49.198Z"
   },
   {
    "duration": 17,
    "start_time": "2021-10-22T17:01:52.472Z"
   },
   {
    "duration": 32,
    "start_time": "2021-10-22T17:01:55.671Z"
   },
   {
    "duration": 26,
    "start_time": "2021-10-22T17:01:58.074Z"
   },
   {
    "duration": 13,
    "start_time": "2021-10-22T17:02:01.595Z"
   },
   {
    "duration": 21,
    "start_time": "2021-10-22T17:02:03.594Z"
   },
   {
    "duration": 90,
    "start_time": "2021-10-22T17:02:12.994Z"
   },
   {
    "duration": 11,
    "start_time": "2021-10-22T17:02:15.913Z"
   },
   {
    "duration": 14,
    "start_time": "2021-10-22T17:02:18.631Z"
   },
   {
    "duration": 5,
    "start_time": "2021-10-22T17:02:20.753Z"
   },
   {
    "duration": 10,
    "start_time": "2021-10-22T17:02:24.315Z"
   },
   {
    "duration": 19,
    "start_time": "2021-10-22T17:02:25.995Z"
   },
   {
    "duration": 14,
    "start_time": "2021-10-22T17:02:28.928Z"
   },
   {
    "duration": 16,
    "start_time": "2021-10-22T17:02:30.513Z"
   },
   {
    "duration": 11,
    "start_time": "2021-10-22T17:02:31.800Z"
   },
   {
    "duration": 68,
    "start_time": "2021-10-22T17:02:36.112Z"
   },
   {
    "duration": 6,
    "start_time": "2021-10-22T17:02:39.151Z"
   },
   {
    "duration": 5,
    "start_time": "2021-10-22T17:02:45.999Z"
   },
   {
    "duration": 48,
    "start_time": "2021-10-22T17:02:47.247Z"
   },
   {
    "duration": 8,
    "start_time": "2021-10-22T17:02:51.123Z"
   },
   {
    "duration": 33,
    "start_time": "2021-10-22T17:02:55.232Z"
   },
   {
    "duration": 30,
    "start_time": "2021-10-22T17:03:00.799Z"
   },
   {
    "duration": 21,
    "start_time": "2021-10-22T17:03:05.673Z"
   },
   {
    "duration": 19,
    "start_time": "2021-10-22T17:03:11.370Z"
   },
   {
    "duration": 10,
    "start_time": "2021-10-22T17:03:12.871Z"
   },
   {
    "duration": 6,
    "start_time": "2021-10-22T17:03:26.233Z"
   },
   {
    "duration": 6,
    "start_time": "2021-10-22T17:03:27.193Z"
   },
   {
    "duration": 6,
    "start_time": "2021-10-22T17:03:28.073Z"
   },
   {
    "duration": 6,
    "start_time": "2021-10-22T17:03:28.967Z"
   },
   {
    "duration": 10,
    "start_time": "2021-10-22T17:05:17.156Z"
   },
   {
    "duration": 15,
    "start_time": "2021-10-22T17:08:12.006Z"
   },
   {
    "duration": 22,
    "start_time": "2021-10-22T17:08:20.470Z"
   },
   {
    "duration": 5,
    "start_time": "2021-10-22T17:08:55.475Z"
   },
   {
    "duration": 18,
    "start_time": "2021-10-22T17:09:10.470Z"
   },
   {
    "duration": 16,
    "start_time": "2021-10-22T17:09:20.820Z"
   },
   {
    "duration": 9,
    "start_time": "2021-10-22T17:09:31.468Z"
   },
   {
    "duration": 13,
    "start_time": "2021-10-22T17:09:45.790Z"
   },
   {
    "duration": 16,
    "start_time": "2021-10-22T17:12:14.144Z"
   },
   {
    "duration": 20,
    "start_time": "2021-10-22T17:12:32.378Z"
   },
   {
    "duration": 11,
    "start_time": "2021-10-22T17:13:52.526Z"
   },
   {
    "duration": 13,
    "start_time": "2021-10-22T17:14:17.485Z"
   },
   {
    "duration": 13,
    "start_time": "2021-10-22T17:16:19.478Z"
   },
   {
    "duration": 219,
    "start_time": "2021-10-22T17:20:19.292Z"
   },
   {
    "duration": 33,
    "start_time": "2021-10-22T17:20:33.066Z"
   },
   {
    "duration": 28,
    "start_time": "2021-10-22T17:20:39.144Z"
   },
   {
    "duration": 11,
    "start_time": "2021-10-22T17:20:52.750Z"
   },
   {
    "duration": 13,
    "start_time": "2021-10-22T17:27:19.015Z"
   },
   {
    "duration": 223,
    "start_time": "2021-10-22T17:27:39.223Z"
   },
   {
    "duration": 10,
    "start_time": "2021-10-22T17:31:08.263Z"
   },
   {
    "duration": 9,
    "start_time": "2021-10-22T17:31:46.374Z"
   },
   {
    "duration": 12,
    "start_time": "2021-10-22T17:32:25.157Z"
   },
   {
    "duration": 25,
    "start_time": "2021-10-22T17:32:40.245Z"
   },
   {
    "duration": 21,
    "start_time": "2021-10-22T17:32:51.216Z"
   },
   {
    "duration": 26,
    "start_time": "2021-10-22T17:33:00.812Z"
   },
   {
    "duration": 8,
    "start_time": "2021-10-22T17:33:21.876Z"
   },
   {
    "duration": 14,
    "start_time": "2021-10-22T17:33:24.617Z"
   },
   {
    "duration": 24,
    "start_time": "2021-10-22T17:33:30.280Z"
   },
   {
    "duration": 1257,
    "start_time": "2021-10-22T17:34:12.728Z"
   },
   {
    "duration": 504,
    "start_time": "2021-10-22T17:34:14.251Z"
   },
   {
    "duration": 28,
    "start_time": "2021-10-22T17:34:15.434Z"
   },
   {
    "duration": 16,
    "start_time": "2021-10-22T17:34:16.357Z"
   },
   {
    "duration": 32,
    "start_time": "2021-10-22T17:34:17.676Z"
   },
   {
    "duration": 26,
    "start_time": "2021-10-22T17:34:18.797Z"
   },
   {
    "duration": 12,
    "start_time": "2021-10-22T17:34:20.116Z"
   },
   {
    "duration": 21,
    "start_time": "2021-10-22T17:34:21.124Z"
   },
   {
    "duration": 92,
    "start_time": "2021-10-22T17:34:24.356Z"
   },
   {
    "duration": 11,
    "start_time": "2021-10-22T17:34:25.880Z"
   },
   {
    "duration": 13,
    "start_time": "2021-10-22T17:34:27.675Z"
   },
   {
    "duration": 5,
    "start_time": "2021-10-22T17:34:29.396Z"
   },
   {
    "duration": 10,
    "start_time": "2021-10-22T17:34:30.926Z"
   },
   {
    "duration": 19,
    "start_time": "2021-10-22T17:34:31.918Z"
   },
   {
    "duration": 15,
    "start_time": "2021-10-22T17:34:32.879Z"
   },
   {
    "duration": 16,
    "start_time": "2021-10-22T17:34:33.659Z"
   },
   {
    "duration": 11,
    "start_time": "2021-10-22T17:34:34.356Z"
   },
   {
    "duration": 66,
    "start_time": "2021-10-22T17:34:36.379Z"
   },
   {
    "duration": 7,
    "start_time": "2021-10-22T17:34:38.076Z"
   },
   {
    "duration": 56,
    "start_time": "2021-10-22T17:34:38.996Z"
   },
   {
    "duration": 11,
    "start_time": "2021-10-22T17:34:40.477Z"
   },
   {
    "duration": 35,
    "start_time": "2021-10-22T17:34:43.460Z"
   },
   {
    "duration": 29,
    "start_time": "2021-10-22T17:34:44.764Z"
   },
   {
    "duration": 20,
    "start_time": "2021-10-22T17:34:47.359Z"
   },
   {
    "duration": 19,
    "start_time": "2021-10-22T17:34:52.037Z"
   },
   {
    "duration": 11,
    "start_time": "2021-10-22T17:34:53.757Z"
   },
   {
    "duration": 7,
    "start_time": "2021-10-22T17:34:58.540Z"
   },
   {
    "duration": 8,
    "start_time": "2021-10-22T17:34:59.283Z"
   },
   {
    "duration": 7,
    "start_time": "2021-10-22T17:35:00.004Z"
   },
   {
    "duration": 7,
    "start_time": "2021-10-22T17:35:00.798Z"
   },
   {
    "duration": 10,
    "start_time": "2021-10-22T17:35:03.439Z"
   },
   {
    "duration": 16,
    "start_time": "2021-10-22T17:35:06.820Z"
   },
   {
    "duration": 23,
    "start_time": "2021-10-22T17:35:17.357Z"
   },
   {
    "duration": 12,
    "start_time": "2021-10-22T17:35:21.282Z"
   },
   {
    "duration": 14,
    "start_time": "2021-10-22T17:35:25.078Z"
   },
   {
    "duration": 14,
    "start_time": "2021-10-22T17:35:28.732Z"
   },
   {
    "duration": 30,
    "start_time": "2021-10-22T17:35:32.036Z"
   },
   {
    "duration": 13,
    "start_time": "2021-10-22T17:35:38.003Z"
   },
   {
    "duration": 8,
    "start_time": "2021-10-22T17:35:41.925Z"
   },
   {
    "duration": 10,
    "start_time": "2021-10-22T17:35:44.883Z"
   },
   {
    "duration": 12,
    "start_time": "2021-10-22T17:35:47.571Z"
   },
   {
    "duration": 25,
    "start_time": "2021-10-22T17:35:50.237Z"
   },
   {
    "duration": 7,
    "start_time": "2021-10-22T17:37:04.539Z"
   },
   {
    "duration": 13,
    "start_time": "2021-10-22T17:37:05.732Z"
   },
   {
    "duration": 25,
    "start_time": "2021-10-22T17:37:08.195Z"
   },
   {
    "duration": 19,
    "start_time": "2021-10-22T17:38:07.274Z"
   },
   {
    "duration": 1295,
    "start_time": "2021-10-22T17:38:24.524Z"
   },
   {
    "duration": 487,
    "start_time": "2021-10-22T17:38:25.821Z"
   },
   {
    "duration": 27,
    "start_time": "2021-10-22T17:38:26.311Z"
   },
   {
    "duration": 16,
    "start_time": "2021-10-22T17:38:26.341Z"
   },
   {
    "duration": 34,
    "start_time": "2021-10-22T17:38:26.359Z"
   },
   {
    "duration": 24,
    "start_time": "2021-10-22T17:38:26.396Z"
   },
   {
    "duration": 10,
    "start_time": "2021-10-22T17:38:26.423Z"
   },
   {
    "duration": 57,
    "start_time": "2021-10-22T17:38:26.436Z"
   },
   {
    "duration": 102,
    "start_time": "2021-10-22T17:38:26.496Z"
   },
   {
    "duration": 11,
    "start_time": "2021-10-22T17:38:26.600Z"
   },
   {
    "duration": 25,
    "start_time": "2021-10-22T17:38:26.613Z"
   },
   {
    "duration": 5,
    "start_time": "2021-10-22T17:38:26.641Z"
   },
   {
    "duration": 15,
    "start_time": "2021-10-22T17:38:26.649Z"
   },
   {
    "duration": 31,
    "start_time": "2021-10-22T17:38:26.666Z"
   },
   {
    "duration": 15,
    "start_time": "2021-10-22T17:38:26.700Z"
   },
   {
    "duration": 16,
    "start_time": "2021-10-22T17:38:26.718Z"
   },
   {
    "duration": 55,
    "start_time": "2021-10-22T17:38:26.736Z"
   },
   {
    "duration": 68,
    "start_time": "2021-10-22T17:38:26.794Z"
   },
   {
    "duration": 7,
    "start_time": "2021-10-22T17:38:26.882Z"
   },
   {
    "duration": 52,
    "start_time": "2021-10-22T17:38:26.892Z"
   },
   {
    "duration": 36,
    "start_time": "2021-10-22T17:38:26.947Z"
   },
   {
    "duration": 38,
    "start_time": "2021-10-22T17:38:26.986Z"
   },
   {
    "duration": 54,
    "start_time": "2021-10-22T17:38:27.031Z"
   },
   {
    "duration": 22,
    "start_time": "2021-10-22T17:38:27.089Z"
   },
   {
    "duration": 19,
    "start_time": "2021-10-22T17:38:27.114Z"
   },
   {
    "duration": 10,
    "start_time": "2021-10-22T17:38:27.136Z"
   },
   {
    "duration": 35,
    "start_time": "2021-10-22T17:38:27.148Z"
   },
   {
    "duration": 14,
    "start_time": "2021-10-22T17:38:27.186Z"
   },
   {
    "duration": 7,
    "start_time": "2021-10-22T17:38:27.202Z"
   },
   {
    "duration": 8,
    "start_time": "2021-10-22T17:38:27.212Z"
   },
   {
    "duration": 15,
    "start_time": "2021-10-22T17:38:27.222Z"
   },
   {
    "duration": 52,
    "start_time": "2021-10-22T17:38:27.240Z"
   },
   {
    "duration": 21,
    "start_time": "2021-10-22T17:38:27.295Z"
   },
   {
    "duration": 9,
    "start_time": "2021-10-22T17:38:27.319Z"
   },
   {
    "duration": 12,
    "start_time": "2021-10-22T17:38:27.331Z"
   },
   {
    "duration": 14,
    "start_time": "2021-10-22T17:38:27.381Z"
   },
   {
    "duration": 27,
    "start_time": "2021-10-22T17:38:27.398Z"
   },
   {
    "duration": 13,
    "start_time": "2021-10-22T17:38:27.428Z"
   },
   {
    "duration": 47,
    "start_time": "2021-10-22T17:38:27.443Z"
   },
   {
    "duration": 14,
    "start_time": "2021-10-22T17:38:27.492Z"
   },
   {
    "duration": 20,
    "start_time": "2021-10-22T17:38:27.509Z"
   },
   {
    "duration": 12,
    "start_time": "2021-10-22T17:38:27.532Z"
   },
   {
    "duration": 53,
    "start_time": "2021-10-22T17:38:27.546Z"
   },
   {
    "duration": 425,
    "start_time": "2021-10-22T17:38:27.602Z"
   },
   {
    "duration": -74,
    "start_time": "2021-10-22T17:38:28.104Z"
   },
   {
    "duration": -76,
    "start_time": "2021-10-22T17:38:28.108Z"
   },
   {
    "duration": -79,
    "start_time": "2021-10-22T17:38:28.112Z"
   },
   {
    "duration": -81,
    "start_time": "2021-10-22T17:38:28.116Z"
   },
   {
    "duration": -84,
    "start_time": "2021-10-22T17:38:28.120Z"
   },
   {
    "duration": -85,
    "start_time": "2021-10-22T17:38:28.123Z"
   },
   {
    "duration": -88,
    "start_time": "2021-10-22T17:38:28.127Z"
   },
   {
    "duration": -90,
    "start_time": "2021-10-22T17:38:28.131Z"
   },
   {
    "duration": -92,
    "start_time": "2021-10-22T17:38:28.135Z"
   },
   {
    "duration": -94,
    "start_time": "2021-10-22T17:38:28.138Z"
   },
   {
    "duration": -97,
    "start_time": "2021-10-22T17:38:28.142Z"
   },
   {
    "duration": -98,
    "start_time": "2021-10-22T17:38:28.145Z"
   },
   {
    "duration": -102,
    "start_time": "2021-10-22T17:38:28.150Z"
   },
   {
    "duration": -103,
    "start_time": "2021-10-22T17:38:28.153Z"
   },
   {
    "duration": -106,
    "start_time": "2021-10-22T17:38:28.157Z"
   },
   {
    "duration": -109,
    "start_time": "2021-10-22T17:38:28.161Z"
   },
   {
    "duration": -112,
    "start_time": "2021-10-22T17:38:28.166Z"
   },
   {
    "duration": -114,
    "start_time": "2021-10-22T17:38:28.169Z"
   },
   {
    "duration": -146,
    "start_time": "2021-10-22T17:38:28.202Z"
   },
   {
    "duration": -150,
    "start_time": "2021-10-22T17:38:28.207Z"
   },
   {
    "duration": -152,
    "start_time": "2021-10-22T17:38:28.211Z"
   },
   {
    "duration": -156,
    "start_time": "2021-10-22T17:38:28.216Z"
   },
   {
    "duration": -157,
    "start_time": "2021-10-22T17:38:28.219Z"
   },
   {
    "duration": -160,
    "start_time": "2021-10-22T17:38:28.223Z"
   },
   {
    "duration": -162,
    "start_time": "2021-10-22T17:38:28.227Z"
   },
   {
    "duration": -165,
    "start_time": "2021-10-22T17:38:28.231Z"
   },
   {
    "duration": -167,
    "start_time": "2021-10-22T17:38:28.235Z"
   },
   {
    "duration": -154,
    "start_time": "2021-10-22T17:38:28.239Z"
   },
   {
    "duration": -157,
    "start_time": "2021-10-22T17:38:28.243Z"
   },
   {
    "duration": -159,
    "start_time": "2021-10-22T17:38:28.247Z"
   },
   {
    "duration": -161,
    "start_time": "2021-10-22T17:38:28.251Z"
   },
   {
    "duration": -163,
    "start_time": "2021-10-22T17:38:28.254Z"
   },
   {
    "duration": 1528,
    "start_time": "2021-10-22T17:40:32.787Z"
   },
   {
    "duration": 751,
    "start_time": "2021-10-22T17:40:34.324Z"
   },
   {
    "duration": 28,
    "start_time": "2021-10-22T17:40:35.079Z"
   },
   {
    "duration": 19,
    "start_time": "2021-10-22T17:40:35.111Z"
   },
   {
    "duration": 62,
    "start_time": "2021-10-22T17:40:35.133Z"
   },
   {
    "duration": 25,
    "start_time": "2021-10-22T17:40:35.198Z"
   },
   {
    "duration": 12,
    "start_time": "2021-10-22T17:40:35.225Z"
   },
   {
    "duration": 84,
    "start_time": "2021-10-22T17:40:35.242Z"
   },
   {
    "duration": 98,
    "start_time": "2021-10-22T17:40:35.331Z"
   },
   {
    "duration": 11,
    "start_time": "2021-10-22T17:40:35.432Z"
   },
   {
    "duration": 35,
    "start_time": "2021-10-22T17:40:35.447Z"
   },
   {
    "duration": 6,
    "start_time": "2021-10-22T17:40:35.485Z"
   },
   {
    "duration": 15,
    "start_time": "2021-10-22T17:40:35.495Z"
   },
   {
    "duration": 23,
    "start_time": "2021-10-22T17:40:35.513Z"
   },
   {
    "duration": 46,
    "start_time": "2021-10-22T17:40:35.539Z"
   },
   {
    "duration": 34,
    "start_time": "2021-10-22T17:40:35.588Z"
   },
   {
    "duration": 20,
    "start_time": "2021-10-22T17:40:35.625Z"
   },
   {
    "duration": 84,
    "start_time": "2021-10-22T17:40:35.647Z"
   },
   {
    "duration": 6,
    "start_time": "2021-10-22T17:40:35.734Z"
   },
   {
    "duration": 63,
    "start_time": "2021-10-22T17:40:35.742Z"
   },
   {
    "duration": 8,
    "start_time": "2021-10-22T17:40:35.807Z"
   },
   {
    "duration": 47,
    "start_time": "2021-10-22T17:40:35.818Z"
   },
   {
    "duration": 30,
    "start_time": "2021-10-22T17:40:35.885Z"
   },
   {
    "duration": 19,
    "start_time": "2021-10-22T17:40:35.918Z"
   },
   {
    "duration": 46,
    "start_time": "2021-10-22T17:40:35.940Z"
   },
   {
    "duration": 10,
    "start_time": "2021-10-22T17:40:35.989Z"
   },
   {
    "duration": 7,
    "start_time": "2021-10-22T17:40:36.002Z"
   },
   {
    "duration": 7,
    "start_time": "2021-10-22T17:40:36.011Z"
   },
   {
    "duration": 17,
    "start_time": "2021-10-22T17:40:36.021Z"
   },
   {
    "duration": 9,
    "start_time": "2021-10-22T17:40:36.040Z"
   },
   {
    "duration": 10,
    "start_time": "2021-10-22T17:40:36.084Z"
   },
   {
    "duration": 24,
    "start_time": "2021-10-22T17:40:36.097Z"
   },
   {
    "duration": 24,
    "start_time": "2021-10-22T17:40:36.124Z"
   },
   {
    "duration": 41,
    "start_time": "2021-10-22T17:40:36.150Z"
   },
   {
    "duration": 14,
    "start_time": "2021-10-22T17:40:36.194Z"
   },
   {
    "duration": 16,
    "start_time": "2021-10-22T17:40:36.211Z"
   },
   {
    "duration": 66,
    "start_time": "2021-10-22T17:40:36.230Z"
   },
   {
    "duration": 11,
    "start_time": "2021-10-22T17:40:36.298Z"
   },
   {
    "duration": 8,
    "start_time": "2021-10-22T17:40:36.311Z"
   },
   {
    "duration": 11,
    "start_time": "2021-10-22T17:40:36.321Z"
   },
   {
    "duration": 53,
    "start_time": "2021-10-22T17:40:36.334Z"
   },
   {
    "duration": 101,
    "start_time": "2021-10-22T17:40:36.391Z"
   },
   {
    "duration": -134,
    "start_time": "2021-10-22T17:40:36.630Z"
   },
   {
    "duration": -135,
    "start_time": "2021-10-22T17:40:36.633Z"
   },
   {
    "duration": -138,
    "start_time": "2021-10-22T17:40:36.638Z"
   },
   {
    "duration": -139,
    "start_time": "2021-10-22T17:40:36.641Z"
   },
   {
    "duration": -141,
    "start_time": "2021-10-22T17:40:36.645Z"
   },
   {
    "duration": -144,
    "start_time": "2021-10-22T17:40:36.649Z"
   },
   {
    "duration": -145,
    "start_time": "2021-10-22T17:40:36.652Z"
   },
   {
    "duration": -147,
    "start_time": "2021-10-22T17:40:36.656Z"
   },
   {
    "duration": -150,
    "start_time": "2021-10-22T17:40:36.660Z"
   },
   {
    "duration": -153,
    "start_time": "2021-10-22T17:40:36.664Z"
   },
   {
    "duration": -155,
    "start_time": "2021-10-22T17:40:36.668Z"
   },
   {
    "duration": -157,
    "start_time": "2021-10-22T17:40:36.671Z"
   },
   {
    "duration": -160,
    "start_time": "2021-10-22T17:40:36.675Z"
   },
   {
    "duration": -162,
    "start_time": "2021-10-22T17:40:36.679Z"
   },
   {
    "duration": -164,
    "start_time": "2021-10-22T17:40:36.683Z"
   },
   {
    "duration": -165,
    "start_time": "2021-10-22T17:40:36.686Z"
   },
   {
    "duration": -176,
    "start_time": "2021-10-22T17:40:36.699Z"
   },
   {
    "duration": -177,
    "start_time": "2021-10-22T17:40:36.703Z"
   },
   {
    "duration": -179,
    "start_time": "2021-10-22T17:40:36.707Z"
   },
   {
    "duration": -181,
    "start_time": "2021-10-22T17:40:36.711Z"
   },
   {
    "duration": -185,
    "start_time": "2021-10-22T17:40:36.717Z"
   },
   {
    "duration": -187,
    "start_time": "2021-10-22T17:40:36.720Z"
   },
   {
    "duration": -141,
    "start_time": "2021-10-22T17:40:36.724Z"
   },
   {
    "duration": -144,
    "start_time": "2021-10-22T17:40:36.728Z"
   },
   {
    "duration": -147,
    "start_time": "2021-10-22T17:40:36.732Z"
   },
   {
    "duration": -148,
    "start_time": "2021-10-22T17:40:36.735Z"
   },
   {
    "duration": -151,
    "start_time": "2021-10-22T17:40:36.739Z"
   },
   {
    "duration": -154,
    "start_time": "2021-10-22T17:40:36.743Z"
   },
   {
    "duration": -157,
    "start_time": "2021-10-22T17:40:36.747Z"
   },
   {
    "duration": -158,
    "start_time": "2021-10-22T17:40:36.750Z"
   },
   {
    "duration": -162,
    "start_time": "2021-10-22T17:40:36.755Z"
   },
   {
    "duration": -164,
    "start_time": "2021-10-22T17:40:36.758Z"
   },
   {
    "duration": -166,
    "start_time": "2021-10-22T17:40:36.762Z"
   },
   {
    "duration": -169,
    "start_time": "2021-10-22T17:40:36.766Z"
   },
   {
    "duration": 6,
    "start_time": "2021-10-22T17:41:14.849Z"
   },
   {
    "duration": 10,
    "start_time": "2021-10-22T17:43:17.343Z"
   },
   {
    "duration": 9,
    "start_time": "2021-10-22T17:43:25.879Z"
   },
   {
    "duration": 12,
    "start_time": "2021-10-22T17:43:40.637Z"
   },
   {
    "duration": 12,
    "start_time": "2021-10-22T17:43:47.187Z"
   },
   {
    "duration": 219,
    "start_time": "2021-10-22T17:48:25.374Z"
   },
   {
    "duration": 907,
    "start_time": "2021-10-22T17:48:33.641Z"
   },
   {
    "duration": 382,
    "start_time": "2021-10-22T17:48:34.550Z"
   },
   {
    "duration": 19,
    "start_time": "2021-10-22T17:48:34.934Z"
   },
   {
    "duration": 10,
    "start_time": "2021-10-22T17:48:34.955Z"
   },
   {
    "duration": 21,
    "start_time": "2021-10-22T17:48:34.967Z"
   },
   {
    "duration": 17,
    "start_time": "2021-10-22T17:48:34.989Z"
   },
   {
    "duration": 7,
    "start_time": "2021-10-22T17:48:35.007Z"
   },
   {
    "duration": 14,
    "start_time": "2021-10-22T17:48:35.016Z"
   },
   {
    "duration": 96,
    "start_time": "2021-10-22T17:48:35.032Z"
   },
   {
    "duration": 15,
    "start_time": "2021-10-22T17:48:35.130Z"
   },
   {
    "duration": 13,
    "start_time": "2021-10-22T17:48:35.147Z"
   },
   {
    "duration": 3,
    "start_time": "2021-10-22T17:48:35.161Z"
   },
   {
    "duration": 9,
    "start_time": "2021-10-22T17:48:35.166Z"
   },
   {
    "duration": 27,
    "start_time": "2021-10-22T17:48:35.177Z"
   },
   {
    "duration": 12,
    "start_time": "2021-10-22T17:48:35.205Z"
   },
   {
    "duration": 16,
    "start_time": "2021-10-22T17:48:35.218Z"
   },
   {
    "duration": 11,
    "start_time": "2021-10-22T17:48:35.236Z"
   },
   {
    "duration": 59,
    "start_time": "2021-10-22T17:48:35.249Z"
   },
   {
    "duration": 5,
    "start_time": "2021-10-22T17:48:35.309Z"
   },
   {
    "duration": 41,
    "start_time": "2021-10-22T17:48:35.315Z"
   },
   {
    "duration": 5,
    "start_time": "2021-10-22T17:48:35.357Z"
   },
   {
    "duration": 97,
    "start_time": "2021-10-22T17:48:35.364Z"
   },
   {
    "duration": 19,
    "start_time": "2021-10-22T17:48:35.465Z"
   },
   {
    "duration": 10,
    "start_time": "2021-10-22T17:48:35.486Z"
   },
   {
    "duration": 11,
    "start_time": "2021-10-22T17:48:35.498Z"
   },
   {
    "duration": 6,
    "start_time": "2021-10-22T17:48:35.510Z"
   },
   {
    "duration": 5,
    "start_time": "2021-10-22T17:48:35.518Z"
   },
   {
    "duration": 5,
    "start_time": "2021-10-22T17:48:35.525Z"
   },
   {
    "duration": 6,
    "start_time": "2021-10-22T17:48:35.531Z"
   },
   {
    "duration": 7,
    "start_time": "2021-10-22T17:48:35.538Z"
   },
   {
    "duration": 7,
    "start_time": "2021-10-22T17:48:35.547Z"
   },
   {
    "duration": 37,
    "start_time": "2021-10-22T17:48:35.555Z"
   },
   {
    "duration": 19,
    "start_time": "2021-10-22T17:48:35.594Z"
   },
   {
    "duration": 6,
    "start_time": "2021-10-22T17:48:35.614Z"
   },
   {
    "duration": 7,
    "start_time": "2021-10-22T17:48:35.622Z"
   },
   {
    "duration": 7,
    "start_time": "2021-10-22T17:48:35.631Z"
   },
   {
    "duration": 15,
    "start_time": "2021-10-22T17:48:35.640Z"
   },
   {
    "duration": 35,
    "start_time": "2021-10-22T17:48:35.656Z"
   },
   {
    "duration": 6,
    "start_time": "2021-10-22T17:48:35.693Z"
   },
   {
    "duration": 9,
    "start_time": "2021-10-22T17:48:35.700Z"
   },
   {
    "duration": 6,
    "start_time": "2021-10-22T17:48:35.710Z"
   },
   {
    "duration": 10,
    "start_time": "2021-10-22T17:48:35.717Z"
   },
   {
    "duration": 14,
    "start_time": "2021-10-22T17:48:35.728Z"
   },
   {
    "duration": 413,
    "start_time": "2021-10-22T17:48:35.744Z"
   },
   {
    "duration": -206,
    "start_time": "2021-10-22T17:48:36.366Z"
   },
   {
    "duration": -218,
    "start_time": "2021-10-22T17:48:36.379Z"
   },
   {
    "duration": -221,
    "start_time": "2021-10-22T17:48:36.383Z"
   },
   {
    "duration": -230,
    "start_time": "2021-10-22T17:48:36.393Z"
   },
   {
    "duration": -234,
    "start_time": "2021-10-22T17:48:36.397Z"
   },
   {
    "duration": -244,
    "start_time": "2021-10-22T17:48:36.408Z"
   },
   {
    "duration": -247,
    "start_time": "2021-10-22T17:48:36.412Z"
   },
   {
    "duration": -250,
    "start_time": "2021-10-22T17:48:36.416Z"
   },
   {
    "duration": -252,
    "start_time": "2021-10-22T17:48:36.419Z"
   },
   {
    "duration": -256,
    "start_time": "2021-10-22T17:48:36.424Z"
   },
   {
    "duration": -258,
    "start_time": "2021-10-22T17:48:36.427Z"
   },
   {
    "duration": -262,
    "start_time": "2021-10-22T17:48:36.432Z"
   },
   {
    "duration": -265,
    "start_time": "2021-10-22T17:48:36.436Z"
   },
   {
    "duration": -270,
    "start_time": "2021-10-22T17:48:36.442Z"
   },
   {
    "duration": -273,
    "start_time": "2021-10-22T17:48:36.446Z"
   },
   {
    "duration": -276,
    "start_time": "2021-10-22T17:48:36.450Z"
   },
   {
    "duration": -279,
    "start_time": "2021-10-22T17:48:36.454Z"
   },
   {
    "duration": -299,
    "start_time": "2021-10-22T17:48:36.475Z"
   },
   {
    "duration": -313,
    "start_time": "2021-10-22T17:48:36.490Z"
   },
   {
    "duration": -356,
    "start_time": "2021-10-22T17:48:36.534Z"
   },
   {
    "duration": -367,
    "start_time": "2021-10-22T17:48:36.545Z"
   },
   {
    "duration": -371,
    "start_time": "2021-10-22T17:48:36.550Z"
   },
   {
    "duration": -380,
    "start_time": "2021-10-22T17:48:36.560Z"
   },
   {
    "duration": -383,
    "start_time": "2021-10-22T17:48:36.564Z"
   },
   {
    "duration": -388,
    "start_time": "2021-10-22T17:48:36.570Z"
   },
   {
    "duration": -397,
    "start_time": "2021-10-22T17:48:36.580Z"
   },
   {
    "duration": -402,
    "start_time": "2021-10-22T17:48:36.586Z"
   },
   {
    "duration": -409,
    "start_time": "2021-10-22T17:48:36.594Z"
   },
   {
    "duration": -413,
    "start_time": "2021-10-22T17:48:36.599Z"
   },
   {
    "duration": -431,
    "start_time": "2021-10-22T17:48:36.618Z"
   },
   {
    "duration": -440,
    "start_time": "2021-10-22T17:48:36.628Z"
   },
   {
    "duration": -449,
    "start_time": "2021-10-22T17:48:36.637Z"
   },
   {
    "duration": 15,
    "start_time": "2021-10-22T17:48:57.453Z"
   },
   {
    "duration": 8,
    "start_time": "2021-10-22T17:49:16.781Z"
   },
   {
    "duration": 15,
    "start_time": "2021-10-22T17:49:29.190Z"
   },
   {
    "duration": 123,
    "start_time": "2021-10-22T17:50:10.669Z"
   },
   {
    "duration": 5,
    "start_time": "2021-10-22T17:50:22.572Z"
   },
   {
    "duration": 130,
    "start_time": "2021-10-22T17:50:24.119Z"
   },
   {
    "duration": 4335,
    "start_time": "2021-10-22T17:52:13.819Z"
   },
   {
    "duration": 494,
    "start_time": "2021-10-22T17:52:17.662Z"
   },
   {
    "duration": 6,
    "start_time": "2021-10-22T17:52:31.924Z"
   },
   {
    "duration": 8,
    "start_time": "2021-10-22T17:52:35.115Z"
   },
   {
    "duration": 16,
    "start_time": "2021-10-22T18:00:13.699Z"
   },
   {
    "duration": 18,
    "start_time": "2021-10-22T18:00:22.317Z"
   },
   {
    "duration": 12,
    "start_time": "2021-10-22T18:00:23.865Z"
   },
   {
    "duration": 324,
    "start_time": "2021-10-22T18:00:28.454Z"
   },
   {
    "duration": 185,
    "start_time": "2021-10-22T18:02:34.663Z"
   },
   {
    "duration": 4832,
    "start_time": "2021-10-22T18:03:05.531Z"
   },
   {
    "duration": 687,
    "start_time": "2021-10-22T18:05:28.827Z"
   },
   {
    "duration": 173,
    "start_time": "2021-10-22T18:07:24.801Z"
   },
   {
    "duration": 593,
    "start_time": "2021-10-22T18:07:24.383Z"
   },
   {
    "duration": 173,
    "start_time": "2021-10-22T18:10:16.077Z"
   },
   {
    "duration": 671,
    "start_time": "2021-10-22T18:12:57.346Z"
   },
   {
    "duration": 11196,
    "start_time": "2021-10-22T18:14:21.295Z"
   },
   {
    "duration": 464,
    "start_time": "2021-10-22T18:14:38.673Z"
   },
   {
    "duration": 455,
    "start_time": "2021-10-22T18:14:38.683Z"
   },
   {
    "duration": 4728,
    "start_time": "2021-10-22T18:14:43.349Z"
   },
   {
    "duration": 58,
    "start_time": "2021-10-22T18:15:12.548Z"
   },
   {
    "duration": 62,
    "start_time": "2021-10-22T18:15:26.429Z"
   },
   {
    "duration": 67,
    "start_time": "2021-10-22T18:16:05.352Z"
   },
   {
    "duration": 55,
    "start_time": "2021-10-22T18:20:49.088Z"
   },
   {
    "duration": 62,
    "start_time": "2021-10-22T18:20:56.303Z"
   },
   {
    "duration": 68,
    "start_time": "2021-10-22T18:21:11.111Z"
   },
   {
    "duration": 70,
    "start_time": "2021-10-22T18:23:05.189Z"
   },
   {
    "duration": 335,
    "start_time": "2021-10-22T18:24:15.484Z"
   },
   {
    "duration": 371,
    "start_time": "2021-10-22T18:25:03.152Z"
   },
   {
    "duration": 185,
    "start_time": "2021-10-22T18:26:16.755Z"
   },
   {
    "duration": 60,
    "start_time": "2021-10-22T18:26:33.594Z"
   },
   {
    "duration": 82,
    "start_time": "2021-10-22T18:26:42.164Z"
   },
   {
    "duration": 63,
    "start_time": "2021-10-22T18:57:16.358Z"
   },
   {
    "duration": 67,
    "start_time": "2021-10-22T18:58:04.609Z"
   },
   {
    "duration": 242,
    "start_time": "2021-10-22T18:58:38.267Z"
   },
   {
    "duration": 65,
    "start_time": "2021-10-22T18:58:49.383Z"
   },
   {
    "duration": 17,
    "start_time": "2021-10-22T18:58:49.449Z"
   },
   {
    "duration": 71,
    "start_time": "2021-10-22T18:59:18.525Z"
   },
   {
    "duration": 67,
    "start_time": "2021-10-22T18:59:34.465Z"
   },
   {
    "duration": 352,
    "start_time": "2021-10-22T19:02:30.476Z"
   },
   {
    "duration": 68,
    "start_time": "2021-10-22T19:03:22.586Z"
   },
   {
    "duration": 7,
    "start_time": "2021-10-22T19:04:11.791Z"
   },
   {
    "duration": 13,
    "start_time": "2021-10-22T19:04:11.801Z"
   },
   {
    "duration": 323,
    "start_time": "2021-10-22T19:07:26.483Z"
   },
   {
    "duration": 418,
    "start_time": "2021-10-22T19:08:08.941Z"
   },
   {
    "duration": 325,
    "start_time": "2021-10-22T19:11:39.715Z"
   },
   {
    "duration": 684,
    "start_time": "2021-10-22T19:13:02.107Z"
   },
   {
    "duration": 39,
    "start_time": "2021-10-22T19:13:49.156Z"
   },
   {
    "duration": 37,
    "start_time": "2021-10-22T19:14:01.023Z"
   },
   {
    "duration": 419,
    "start_time": "2021-10-22T19:14:11.672Z"
   },
   {
    "duration": 170,
    "start_time": "2021-10-22T19:14:37.094Z"
   },
   {
    "duration": 41,
    "start_time": "2021-10-22T19:16:48.291Z"
   },
   {
    "duration": 415,
    "start_time": "2021-10-22T19:16:52.172Z"
   },
   {
    "duration": 489,
    "start_time": "2021-10-22T19:17:30.559Z"
   },
   {
    "duration": 393,
    "start_time": "2021-10-22T19:17:52.987Z"
   },
   {
    "duration": 384,
    "start_time": "2021-10-22T19:18:17.344Z"
   },
   {
    "duration": 389,
    "start_time": "2021-10-22T19:21:40.495Z"
   },
   {
    "duration": 647,
    "start_time": "2021-10-22T19:28:08.554Z"
   },
   {
    "duration": 794,
    "start_time": "2021-10-22T19:28:16.329Z"
   },
   {
    "duration": 37,
    "start_time": "2021-10-22T19:29:04.679Z"
   },
   {
    "duration": 40,
    "start_time": "2021-10-22T19:29:09.520Z"
   },
   {
    "duration": 408,
    "start_time": "2021-10-22T19:29:14.628Z"
   },
   {
    "duration": 399,
    "start_time": "2021-10-22T19:29:24.134Z"
   },
   {
    "duration": 380,
    "start_time": "2021-10-22T19:38:21.948Z"
   },
   {
    "duration": 38,
    "start_time": "2021-10-22T19:38:28.393Z"
   },
   {
    "duration": 38,
    "start_time": "2021-10-22T19:38:29.541Z"
   },
   {
    "duration": 458,
    "start_time": "2021-10-22T19:38:30.612Z"
   },
   {
    "duration": 402,
    "start_time": "2021-10-22T19:44:21.561Z"
   },
   {
    "duration": 405,
    "start_time": "2021-10-22T19:45:22.358Z"
   },
   {
    "duration": 382,
    "start_time": "2021-10-22T19:46:17.375Z"
   },
   {
    "duration": 5,
    "start_time": "2021-10-22T19:48:22.355Z"
   },
   {
    "duration": 5,
    "start_time": "2021-10-22T19:48:23.519Z"
   },
   {
    "duration": 5,
    "start_time": "2021-10-22T19:48:25.077Z"
   },
   {
    "duration": 5,
    "start_time": "2021-10-22T19:48:28.240Z"
   },
   {
    "duration": 5,
    "start_time": "2021-10-22T19:48:30.517Z"
   },
   {
    "duration": 5,
    "start_time": "2021-10-22T19:48:32.154Z"
   },
   {
    "duration": 4,
    "start_time": "2021-10-22T19:53:41.709Z"
   },
   {
    "duration": 4,
    "start_time": "2021-10-22T19:57:52.902Z"
   },
   {
    "duration": 5,
    "start_time": "2021-10-22T19:58:13.294Z"
   },
   {
    "duration": 4,
    "start_time": "2021-10-22T20:00:42.105Z"
   },
   {
    "duration": 5,
    "start_time": "2021-10-22T20:02:15.507Z"
   },
   {
    "duration": 4,
    "start_time": "2021-10-22T20:03:05.548Z"
   },
   {
    "duration": 4,
    "start_time": "2021-10-22T20:04:01.818Z"
   },
   {
    "duration": 4,
    "start_time": "2021-10-22T20:04:39.986Z"
   },
   {
    "duration": 6,
    "start_time": "2021-10-22T20:05:59.947Z"
   },
   {
    "duration": 5,
    "start_time": "2021-10-22T20:06:00.689Z"
   },
   {
    "duration": 11,
    "start_time": "2021-10-22T20:16:08.222Z"
   },
   {
    "duration": 4,
    "start_time": "2021-10-22T20:16:11.758Z"
   },
   {
    "duration": 168,
    "start_time": "2021-10-22T20:32:26.830Z"
   },
   {
    "duration": 18,
    "start_time": "2021-10-22T20:32:36.474Z"
   },
   {
    "duration": 17,
    "start_time": "2021-10-22T20:33:13.547Z"
   },
   {
    "duration": 7,
    "start_time": "2021-10-22T20:52:54.007Z"
   },
   {
    "duration": 9,
    "start_time": "2021-10-22T20:53:40.453Z"
   },
   {
    "duration": 5,
    "start_time": "2021-10-22T20:54:40.955Z"
   },
   {
    "duration": 174,
    "start_time": "2021-10-22T20:55:41.710Z"
   },
   {
    "duration": 11,
    "start_time": "2021-10-22T20:56:06.595Z"
   },
   {
    "duration": 4,
    "start_time": "2021-10-22T20:56:08.192Z"
   },
   {
    "duration": 214,
    "start_time": "2021-10-22T20:57:06.292Z"
   },
   {
    "duration": 23,
    "start_time": "2021-10-22T20:57:22.126Z"
   },
   {
    "duration": 10,
    "start_time": "2021-10-22T20:57:57.708Z"
   },
   {
    "duration": 5,
    "start_time": "2021-10-22T20:57:58.336Z"
   },
   {
    "duration": 970,
    "start_time": "2021-10-22T21:15:33.013Z"
   },
   {
    "duration": 398,
    "start_time": "2021-10-22T21:15:33.991Z"
   },
   {
    "duration": 19,
    "start_time": "2021-10-22T21:15:34.391Z"
   },
   {
    "duration": 10,
    "start_time": "2021-10-22T21:15:34.412Z"
   },
   {
    "duration": 19,
    "start_time": "2021-10-22T21:15:34.423Z"
   },
   {
    "duration": 16,
    "start_time": "2021-10-22T21:15:34.444Z"
   },
   {
    "duration": 35,
    "start_time": "2021-10-22T21:15:34.462Z"
   },
   {
    "duration": 12,
    "start_time": "2021-10-22T21:15:34.500Z"
   },
   {
    "duration": 78,
    "start_time": "2021-10-22T21:15:34.514Z"
   },
   {
    "duration": 8,
    "start_time": "2021-10-22T21:15:34.593Z"
   },
   {
    "duration": 12,
    "start_time": "2021-10-22T21:15:34.603Z"
   },
   {
    "duration": 4,
    "start_time": "2021-10-22T21:15:34.617Z"
   },
   {
    "duration": 11,
    "start_time": "2021-10-22T21:15:34.623Z"
   },
   {
    "duration": 16,
    "start_time": "2021-10-22T21:15:34.636Z"
   },
   {
    "duration": 11,
    "start_time": "2021-10-22T21:15:34.654Z"
   },
   {
    "duration": 12,
    "start_time": "2021-10-22T21:15:34.692Z"
   },
   {
    "duration": 7,
    "start_time": "2021-10-22T21:15:34.706Z"
   },
   {
    "duration": 49,
    "start_time": "2021-10-22T21:15:34.715Z"
   },
   {
    "duration": 27,
    "start_time": "2021-10-22T21:15:34.765Z"
   },
   {
    "duration": 39,
    "start_time": "2021-10-22T21:15:34.794Z"
   },
   {
    "duration": 6,
    "start_time": "2021-10-22T21:15:34.835Z"
   },
   {
    "duration": 24,
    "start_time": "2021-10-22T21:15:34.842Z"
   },
   {
    "duration": 40,
    "start_time": "2021-10-22T21:15:34.869Z"
   },
   {
    "duration": 10,
    "start_time": "2021-10-22T21:15:34.911Z"
   },
   {
    "duration": 12,
    "start_time": "2021-10-22T21:15:34.923Z"
   },
   {
    "duration": 6,
    "start_time": "2021-10-22T21:15:34.936Z"
   },
   {
    "duration": 4,
    "start_time": "2021-10-22T21:15:34.943Z"
   },
   {
    "duration": 6,
    "start_time": "2021-10-22T21:15:34.949Z"
   },
   {
    "duration": 36,
    "start_time": "2021-10-22T21:15:34.956Z"
   },
   {
    "duration": 6,
    "start_time": "2021-10-22T21:15:34.994Z"
   },
   {
    "duration": 6,
    "start_time": "2021-10-22T21:15:35.001Z"
   },
   {
    "duration": 9,
    "start_time": "2021-10-22T21:15:35.009Z"
   },
   {
    "duration": 16,
    "start_time": "2021-10-22T21:15:35.020Z"
   },
   {
    "duration": 7,
    "start_time": "2021-10-22T21:15:35.038Z"
   },
   {
    "duration": 45,
    "start_time": "2021-10-22T21:15:35.047Z"
   },
   {
    "duration": 10,
    "start_time": "2021-10-22T21:15:35.094Z"
   },
   {
    "duration": 24,
    "start_time": "2021-10-22T21:15:35.106Z"
   },
   {
    "duration": 8,
    "start_time": "2021-10-22T21:15:35.131Z"
   },
   {
    "duration": 7,
    "start_time": "2021-10-22T21:15:35.141Z"
   },
   {
    "duration": 42,
    "start_time": "2021-10-22T21:15:35.149Z"
   },
   {
    "duration": 12,
    "start_time": "2021-10-22T21:15:35.193Z"
   },
   {
    "duration": 16,
    "start_time": "2021-10-22T21:15:35.207Z"
   },
   {
    "duration": 3,
    "start_time": "2021-10-22T21:15:35.225Z"
   },
   {
    "duration": 134,
    "start_time": "2021-10-22T21:15:35.230Z"
   },
   {
    "duration": 15,
    "start_time": "2021-10-22T21:15:35.365Z"
   },
   {
    "duration": 73,
    "start_time": "2021-10-22T21:15:35.381Z"
   },
   {
    "duration": 7,
    "start_time": "2021-10-22T21:15:35.456Z"
   },
   {
    "duration": 341,
    "start_time": "2021-10-22T21:15:35.465Z"
   },
   {
    "duration": 671,
    "start_time": "2021-10-22T21:15:35.807Z"
   },
   {
    "duration": 44,
    "start_time": "2021-10-22T21:15:36.479Z"
   },
   {
    "duration": 118,
    "start_time": "2021-10-22T21:15:36.525Z"
   },
   {
    "duration": 412,
    "start_time": "2021-10-22T21:15:36.645Z"
   },
   {
    "duration": 659,
    "start_time": "2021-10-22T21:15:37.059Z"
   },
   {
    "duration": 689,
    "start_time": "2021-10-22T21:15:37.720Z"
   },
   {
    "duration": 36,
    "start_time": "2021-10-22T21:15:38.410Z"
   },
   {
    "duration": 54,
    "start_time": "2021-10-22T21:15:38.448Z"
   },
   {
    "duration": 472,
    "start_time": "2021-10-22T21:15:38.503Z"
   },
   {
    "duration": 373,
    "start_time": "2021-10-22T21:15:38.976Z"
   },
   {
    "duration": 43,
    "start_time": "2021-10-22T21:15:39.351Z"
   },
   {
    "duration": 37,
    "start_time": "2021-10-22T21:15:39.395Z"
   },
   {
    "duration": 393,
    "start_time": "2021-10-22T21:15:39.434Z"
   },
   {
    "duration": 4,
    "start_time": "2021-10-22T21:15:39.829Z"
   },
   {
    "duration": 11,
    "start_time": "2021-10-22T21:15:39.834Z"
   },
   {
    "duration": 5,
    "start_time": "2021-10-22T21:15:39.846Z"
   },
   {
    "duration": 5,
    "start_time": "2021-10-22T21:15:39.852Z"
   },
   {
    "duration": 6,
    "start_time": "2021-10-22T21:15:39.859Z"
   },
   {
    "duration": 24,
    "start_time": "2021-10-22T21:15:39.867Z"
   },
   {
    "duration": 6,
    "start_time": "2021-10-22T21:15:39.895Z"
   },
   {
    "duration": 6,
    "start_time": "2021-10-22T21:15:39.902Z"
   },
   {
    "duration": 12,
    "start_time": "2021-10-22T21:15:39.909Z"
   },
   {
    "duration": 4,
    "start_time": "2021-10-22T21:15:39.923Z"
   },
   {
    "duration": 1391,
    "start_time": "2021-10-23T08:08:11.163Z"
   },
   {
    "duration": 543,
    "start_time": "2021-10-23T08:08:12.556Z"
   },
   {
    "duration": 29,
    "start_time": "2021-10-23T08:08:13.102Z"
   },
   {
    "duration": 17,
    "start_time": "2021-10-23T08:08:13.134Z"
   },
   {
    "duration": 31,
    "start_time": "2021-10-23T08:08:13.154Z"
   },
   {
    "duration": 24,
    "start_time": "2021-10-23T08:08:13.188Z"
   },
   {
    "duration": 11,
    "start_time": "2021-10-23T08:08:13.214Z"
   },
   {
    "duration": 52,
    "start_time": "2021-10-23T08:08:13.227Z"
   },
   {
    "duration": 109,
    "start_time": "2021-10-23T08:08:13.283Z"
   },
   {
    "duration": 10,
    "start_time": "2021-10-23T08:08:13.395Z"
   },
   {
    "duration": 18,
    "start_time": "2021-10-23T08:08:13.407Z"
   },
   {
    "duration": 5,
    "start_time": "2021-10-23T08:08:13.428Z"
   },
   {
    "duration": 38,
    "start_time": "2021-10-23T08:08:13.435Z"
   },
   {
    "duration": 20,
    "start_time": "2021-10-23T08:08:13.475Z"
   },
   {
    "duration": 14,
    "start_time": "2021-10-23T08:08:13.497Z"
   },
   {
    "duration": 19,
    "start_time": "2021-10-23T08:08:13.514Z"
   },
   {
    "duration": 14,
    "start_time": "2021-10-23T08:08:13.569Z"
   },
   {
    "duration": 96,
    "start_time": "2021-10-23T08:08:13.585Z"
   },
   {
    "duration": 7,
    "start_time": "2021-10-23T08:08:13.684Z"
   },
   {
    "duration": 81,
    "start_time": "2021-10-23T08:08:13.694Z"
   },
   {
    "duration": 9,
    "start_time": "2021-10-23T08:08:13.778Z"
   },
   {
    "duration": 44,
    "start_time": "2021-10-23T08:08:13.790Z"
   },
   {
    "duration": 56,
    "start_time": "2021-10-23T08:08:13.837Z"
   },
   {
    "duration": 21,
    "start_time": "2021-10-23T08:08:13.896Z"
   },
   {
    "duration": 52,
    "start_time": "2021-10-23T08:08:13.920Z"
   },
   {
    "duration": 12,
    "start_time": "2021-10-23T08:08:13.975Z"
   },
   {
    "duration": 6,
    "start_time": "2021-10-23T08:08:13.996Z"
   },
   {
    "duration": 10,
    "start_time": "2021-10-23T08:08:14.007Z"
   },
   {
    "duration": 50,
    "start_time": "2021-10-23T08:08:14.020Z"
   },
   {
    "duration": 7,
    "start_time": "2021-10-23T08:08:14.073Z"
   },
   {
    "duration": 20,
    "start_time": "2021-10-23T08:08:14.083Z"
   },
   {
    "duration": 16,
    "start_time": "2021-10-23T08:08:14.106Z"
   },
   {
    "duration": 56,
    "start_time": "2021-10-23T08:08:14.124Z"
   },
   {
    "duration": 10,
    "start_time": "2021-10-23T08:08:14.182Z"
   },
   {
    "duration": 14,
    "start_time": "2021-10-23T08:08:14.195Z"
   },
   {
    "duration": 13,
    "start_time": "2021-10-23T08:08:14.212Z"
   },
   {
    "duration": 65,
    "start_time": "2021-10-23T08:08:14.227Z"
   },
   {
    "duration": 21,
    "start_time": "2021-10-23T08:08:14.294Z"
   },
   {
    "duration": 13,
    "start_time": "2021-10-23T08:08:14.319Z"
   },
   {
    "duration": 39,
    "start_time": "2021-10-23T08:08:14.342Z"
   },
   {
    "duration": 13,
    "start_time": "2021-10-23T08:08:14.383Z"
   },
   {
    "duration": 27,
    "start_time": "2021-10-23T08:08:14.398Z"
   },
   {
    "duration": 5,
    "start_time": "2021-10-23T08:08:14.427Z"
   },
   {
    "duration": 271,
    "start_time": "2021-10-23T08:08:14.434Z"
   },
   {
    "duration": 26,
    "start_time": "2021-10-23T08:08:14.707Z"
   },
   {
    "duration": 133,
    "start_time": "2021-10-23T08:08:14.736Z"
   },
   {
    "duration": 11,
    "start_time": "2021-10-23T08:08:14.872Z"
   },
   {
    "duration": 581,
    "start_time": "2021-10-23T08:08:14.885Z"
   },
   {
    "duration": 1164,
    "start_time": "2021-10-23T08:08:15.468Z"
   },
   {
    "duration": 72,
    "start_time": "2021-10-23T08:08:16.634Z"
   },
   {
    "duration": 76,
    "start_time": "2021-10-23T08:08:16.709Z"
   },
   {
    "duration": 747,
    "start_time": "2021-10-23T08:08:16.787Z"
   },
   {
    "duration": 1273,
    "start_time": "2021-10-23T08:08:17.537Z"
   },
   {
    "duration": 1189,
    "start_time": "2021-10-23T08:08:18.813Z"
   },
   {
    "duration": 79,
    "start_time": "2021-10-23T08:08:20.004Z"
   },
   {
    "duration": 63,
    "start_time": "2021-10-23T08:08:20.086Z"
   },
   {
    "duration": 764,
    "start_time": "2021-10-23T08:08:20.168Z"
   },
   {
    "duration": 635,
    "start_time": "2021-10-23T08:08:20.935Z"
   },
   {
    "duration": 61,
    "start_time": "2021-10-23T08:08:21.572Z"
   },
   {
    "duration": 87,
    "start_time": "2021-10-23T08:08:21.636Z"
   },
   {
    "duration": 691,
    "start_time": "2021-10-23T08:08:21.725Z"
   },
   {
    "duration": 6,
    "start_time": "2021-10-23T08:08:22.418Z"
   },
   {
    "duration": 9,
    "start_time": "2021-10-23T08:08:22.427Z"
   },
   {
    "duration": 31,
    "start_time": "2021-10-23T08:08:22.439Z"
   },
   {
    "duration": 7,
    "start_time": "2021-10-23T08:08:22.472Z"
   },
   {
    "duration": 9,
    "start_time": "2021-10-23T08:08:22.482Z"
   },
   {
    "duration": 7,
    "start_time": "2021-10-23T08:08:22.493Z"
   },
   {
    "duration": 10,
    "start_time": "2021-10-23T08:08:22.503Z"
   },
   {
    "duration": 52,
    "start_time": "2021-10-23T08:08:22.515Z"
   },
   {
    "duration": 18,
    "start_time": "2021-10-23T08:08:22.570Z"
   },
   {
    "duration": 8,
    "start_time": "2021-10-23T08:08:22.591Z"
   },
   {
    "duration": 26,
    "start_time": "2021-10-23T08:08:57.353Z"
   },
   {
    "duration": 26,
    "start_time": "2021-10-23T08:09:14.245Z"
   },
   {
    "duration": 27,
    "start_time": "2021-10-23T08:09:27.700Z"
   },
   {
    "duration": 6,
    "start_time": "2021-10-23T08:13:39.361Z"
   },
   {
    "duration": 13,
    "start_time": "2021-10-23T08:15:55.556Z"
   },
   {
    "duration": 8,
    "start_time": "2021-10-23T08:18:07.755Z"
   },
   {
    "duration": 337,
    "start_time": "2021-10-23T08:35:20.816Z"
   },
   {
    "duration": 1304,
    "start_time": "2021-10-23T08:35:28.537Z"
   },
   {
    "duration": 515,
    "start_time": "2021-10-23T08:35:29.844Z"
   },
   {
    "duration": 27,
    "start_time": "2021-10-23T08:35:30.362Z"
   },
   {
    "duration": 16,
    "start_time": "2021-10-23T08:35:30.392Z"
   },
   {
    "duration": 35,
    "start_time": "2021-10-23T08:35:30.411Z"
   },
   {
    "duration": 26,
    "start_time": "2021-10-23T08:35:30.449Z"
   },
   {
    "duration": 11,
    "start_time": "2021-10-23T08:35:30.478Z"
   },
   {
    "duration": 49,
    "start_time": "2021-10-23T08:35:30.493Z"
   },
   {
    "duration": 113,
    "start_time": "2021-10-23T08:35:30.544Z"
   },
   {
    "duration": 11,
    "start_time": "2021-10-23T08:35:30.660Z"
   },
   {
    "duration": 21,
    "start_time": "2021-10-23T08:35:30.674Z"
   },
   {
    "duration": 5,
    "start_time": "2021-10-23T08:35:30.698Z"
   },
   {
    "duration": 24,
    "start_time": "2021-10-23T08:35:30.706Z"
   },
   {
    "duration": 33,
    "start_time": "2021-10-23T08:35:30.732Z"
   },
   {
    "duration": 15,
    "start_time": "2021-10-23T08:35:30.767Z"
   },
   {
    "duration": 39,
    "start_time": "2021-10-23T08:35:30.784Z"
   },
   {
    "duration": 11,
    "start_time": "2021-10-23T08:35:30.826Z"
   },
   {
    "duration": 92,
    "start_time": "2021-10-23T08:35:30.841Z"
   },
   {
    "duration": 6,
    "start_time": "2021-10-23T08:35:30.935Z"
   },
   {
    "duration": 63,
    "start_time": "2021-10-23T08:35:30.944Z"
   },
   {
    "duration": 18,
    "start_time": "2021-10-23T08:35:31.009Z"
   },
   {
    "duration": 40,
    "start_time": "2021-10-23T08:35:31.029Z"
   },
   {
    "duration": 54,
    "start_time": "2021-10-23T08:35:31.076Z"
   },
   {
    "duration": 22,
    "start_time": "2021-10-23T08:35:31.134Z"
   },
   {
    "duration": 22,
    "start_time": "2021-10-23T08:35:31.158Z"
   },
   {
    "duration": 41,
    "start_time": "2021-10-23T08:35:31.182Z"
   },
   {
    "duration": 7,
    "start_time": "2021-10-23T08:35:31.225Z"
   },
   {
    "duration": 44,
    "start_time": "2021-10-23T08:35:31.235Z"
   },
   {
    "duration": 18,
    "start_time": "2021-10-23T08:35:31.281Z"
   },
   {
    "duration": 12,
    "start_time": "2021-10-23T08:35:31.302Z"
   },
   {
    "duration": 13,
    "start_time": "2021-10-23T08:35:31.316Z"
   },
   {
    "duration": 16,
    "start_time": "2021-10-23T08:35:31.331Z"
   },
   {
    "duration": 30,
    "start_time": "2021-10-23T08:35:31.349Z"
   },
   {
    "duration": 6,
    "start_time": "2021-10-23T08:35:31.381Z"
   },
   {
    "duration": 39,
    "start_time": "2021-10-23T08:35:31.389Z"
   },
   {
    "duration": 12,
    "start_time": "2021-10-23T08:35:31.430Z"
   },
   {
    "duration": 12,
    "start_time": "2021-10-23T08:35:31.444Z"
   },
   {
    "duration": 30,
    "start_time": "2021-10-23T08:35:31.459Z"
   },
   {
    "duration": 38,
    "start_time": "2021-10-23T08:35:31.491Z"
   },
   {
    "duration": 11,
    "start_time": "2021-10-23T08:35:31.531Z"
   },
   {
    "duration": 19,
    "start_time": "2021-10-23T08:35:31.544Z"
   },
   {
    "duration": 29,
    "start_time": "2021-10-23T08:35:31.566Z"
   },
   {
    "duration": 37,
    "start_time": "2021-10-23T08:35:31.597Z"
   },
   {
    "duration": 6,
    "start_time": "2021-10-23T08:35:31.636Z"
   },
   {
    "duration": 13,
    "start_time": "2021-10-23T08:35:31.645Z"
   },
   {
    "duration": 247,
    "start_time": "2021-10-23T08:35:31.660Z"
   },
   {
    "duration": 37,
    "start_time": "2021-10-23T08:35:31.909Z"
   },
   {
    "duration": 117,
    "start_time": "2021-10-23T08:35:31.948Z"
   },
   {
    "duration": 10,
    "start_time": "2021-10-23T08:35:32.068Z"
   },
   {
    "duration": 566,
    "start_time": "2021-10-23T08:35:32.080Z"
   },
   {
    "duration": 1220,
    "start_time": "2021-10-23T08:35:32.649Z"
   },
   {
    "duration": 73,
    "start_time": "2021-10-23T08:35:33.872Z"
   },
   {
    "duration": 79,
    "start_time": "2021-10-23T08:35:33.947Z"
   },
   {
    "duration": 711,
    "start_time": "2021-10-23T08:35:34.028Z"
   },
   {
    "duration": 1122,
    "start_time": "2021-10-23T08:35:34.741Z"
   },
   {
    "duration": 1174,
    "start_time": "2021-10-23T08:35:35.866Z"
   },
   {
    "duration": 61,
    "start_time": "2021-10-23T08:35:37.043Z"
   },
   {
    "duration": 61,
    "start_time": "2021-10-23T08:35:37.123Z"
   },
   {
    "duration": 787,
    "start_time": "2021-10-23T08:35:37.187Z"
   },
   {
    "duration": 625,
    "start_time": "2021-10-23T08:35:37.978Z"
   },
   {
    "duration": 72,
    "start_time": "2021-10-23T08:35:38.606Z"
   },
   {
    "duration": 80,
    "start_time": "2021-10-23T08:35:38.680Z"
   },
   {
    "duration": 649,
    "start_time": "2021-10-23T08:35:38.763Z"
   },
   {
    "duration": 11,
    "start_time": "2021-10-23T08:35:39.414Z"
   },
   {
    "duration": 13,
    "start_time": "2021-10-23T08:35:39.428Z"
   },
   {
    "duration": 18,
    "start_time": "2021-10-23T08:35:39.444Z"
   },
   {
    "duration": 11,
    "start_time": "2021-10-23T08:35:39.464Z"
   },
   {
    "duration": 14,
    "start_time": "2021-10-23T08:35:39.482Z"
   },
   {
    "duration": 6,
    "start_time": "2021-10-23T08:35:39.523Z"
   },
   {
    "duration": 21,
    "start_time": "2021-10-23T08:35:39.531Z"
   },
   {
    "duration": 7,
    "start_time": "2021-10-23T08:35:39.554Z"
   },
   {
    "duration": 30,
    "start_time": "2021-10-23T08:35:39.563Z"
   },
   {
    "duration": 7,
    "start_time": "2021-10-23T08:35:39.596Z"
   },
   {
    "duration": 7,
    "start_time": "2021-10-23T08:35:57.758Z"
   },
   {
    "duration": 401,
    "start_time": "2021-10-23T08:36:28.770Z"
   },
   {
    "duration": 4,
    "start_time": "2021-10-23T08:36:55.445Z"
   },
   {
    "duration": 843,
    "start_time": "2021-10-23T08:37:00.458Z"
   },
   {
    "duration": 4,
    "start_time": "2021-10-23T08:37:54.584Z"
   },
   {
    "duration": 7,
    "start_time": "2021-10-23T08:38:07.022Z"
   },
   {
    "duration": 6,
    "start_time": "2021-10-23T08:38:35.283Z"
   },
   {
    "duration": 7,
    "start_time": "2021-10-23T08:38:42.715Z"
   },
   {
    "duration": 6,
    "start_time": "2021-10-23T08:38:50.874Z"
   },
   {
    "duration": 6,
    "start_time": "2021-10-23T08:38:57.515Z"
   },
   {
    "duration": 4,
    "start_time": "2021-10-23T08:39:05.448Z"
   },
   {
    "duration": 8,
    "start_time": "2021-10-23T08:39:11.511Z"
   },
   {
    "duration": 6,
    "start_time": "2021-10-23T08:39:44.163Z"
   },
   {
    "duration": 4,
    "start_time": "2021-10-23T08:57:43.320Z"
   },
   {
    "duration": 22,
    "start_time": "2021-10-23T08:58:08.453Z"
   },
   {
    "duration": 17,
    "start_time": "2021-10-23T08:59:05.330Z"
   },
   {
    "duration": 4,
    "start_time": "2021-10-23T09:00:15.063Z"
   },
   {
    "duration": 26,
    "start_time": "2021-10-23T09:00:33.045Z"
   },
   {
    "duration": 13,
    "start_time": "2021-10-23T09:00:33.148Z"
   },
   {
    "duration": 4,
    "start_time": "2021-10-23T09:01:22.660Z"
   },
   {
    "duration": 65,
    "start_time": "2021-10-23T09:01:25.299Z"
   },
   {
    "duration": 3,
    "start_time": "2021-10-23T09:04:47.551Z"
   },
   {
    "duration": 4,
    "start_time": "2021-10-23T09:05:37.181Z"
   },
   {
    "duration": 2601,
    "start_time": "2021-10-23T09:05:52.879Z"
   },
   {
    "duration": 4,
    "start_time": "2021-10-23T09:06:11.229Z"
   },
   {
    "duration": 19,
    "start_time": "2021-10-23T09:06:13.263Z"
   },
   {
    "duration": 263,
    "start_time": "2021-10-23T09:09:22.674Z"
   },
   {
    "duration": 432,
    "start_time": "2021-10-23T09:09:57.778Z"
   },
   {
    "duration": 4,
    "start_time": "2021-10-23T09:10:07.012Z"
   },
   {
    "duration": 19,
    "start_time": "2021-10-23T09:10:09.093Z"
   },
   {
    "duration": 280,
    "start_time": "2021-10-23T09:11:28.088Z"
   },
   {
    "duration": 279,
    "start_time": "2021-10-23T09:11:49.577Z"
   },
   {
    "duration": 296,
    "start_time": "2021-10-23T09:12:05.185Z"
   },
   {
    "duration": 4,
    "start_time": "2021-10-23T09:12:13.731Z"
   },
   {
    "duration": 28,
    "start_time": "2021-10-23T09:12:15.458Z"
   },
   {
    "duration": 517,
    "start_time": "2021-10-23T09:13:17.209Z"
   },
   {
    "duration": 34,
    "start_time": "2021-10-23T09:13:17.729Z"
   },
   {
    "duration": 28,
    "start_time": "2021-10-23T09:13:20.390Z"
   },
   {
    "duration": 13,
    "start_time": "2021-10-23T09:13:21.790Z"
   },
   {
    "duration": 31,
    "start_time": "2021-10-23T09:13:23.631Z"
   },
   {
    "duration": 29,
    "start_time": "2021-10-23T09:13:25.550Z"
   },
   {
    "duration": 6,
    "start_time": "2021-10-23T09:19:04.473Z"
   },
   {
    "duration": 19,
    "start_time": "2021-10-23T09:22:31.430Z"
   },
   {
    "duration": 20,
    "start_time": "2021-10-23T09:23:54.019Z"
   },
   {
    "duration": 8,
    "start_time": "2021-10-23T09:24:32.588Z"
   },
   {
    "duration": 9,
    "start_time": "2021-10-23T09:25:16.339Z"
   },
   {
    "duration": 86,
    "start_time": "2021-10-23T09:27:54.966Z"
   },
   {
    "duration": 10,
    "start_time": "2021-10-23T09:27:56.955Z"
   },
   {
    "duration": 11,
    "start_time": "2021-10-23T09:27:58.484Z"
   },
   {
    "duration": 6,
    "start_time": "2021-10-23T09:27:59.792Z"
   },
   {
    "duration": 10,
    "start_time": "2021-10-23T09:28:01.672Z"
   },
   {
    "duration": 20,
    "start_time": "2021-10-23T09:28:02.632Z"
   },
   {
    "duration": 16,
    "start_time": "2021-10-23T09:28:03.912Z"
   },
   {
    "duration": 16,
    "start_time": "2021-10-23T09:28:06.302Z"
   },
   {
    "duration": 71,
    "start_time": "2021-10-23T09:28:09.760Z"
   },
   {
    "duration": 7,
    "start_time": "2021-10-23T09:28:15.754Z"
   },
   {
    "duration": 48,
    "start_time": "2021-10-23T09:28:19.040Z"
   },
   {
    "duration": 9,
    "start_time": "2021-10-23T09:28:23.240Z"
   },
   {
    "duration": 31,
    "start_time": "2021-10-23T09:28:26.112Z"
   },
   {
    "duration": 29,
    "start_time": "2021-10-23T09:28:28.712Z"
   },
   {
    "duration": 17,
    "start_time": "2021-10-23T09:28:31.434Z"
   },
   {
    "duration": 22,
    "start_time": "2021-10-23T09:28:34.231Z"
   },
   {
    "duration": 12,
    "start_time": "2021-10-23T09:28:37.874Z"
   },
   {
    "duration": 10,
    "start_time": "2021-10-23T09:28:46.991Z"
   },
   {
    "duration": 16,
    "start_time": "2021-10-23T09:28:51.113Z"
   },
   {
    "duration": 23,
    "start_time": "2021-10-23T09:28:53.953Z"
   },
   {
    "duration": 7,
    "start_time": "2021-10-23T09:28:56.791Z"
   },
   {
    "duration": 11,
    "start_time": "2021-10-23T09:29:00.393Z"
   },
   {
    "duration": 9,
    "start_time": "2021-10-23T09:29:12.590Z"
   },
   {
    "duration": 86,
    "start_time": "2021-10-23T09:30:26.978Z"
   },
   {
    "duration": 12,
    "start_time": "2021-10-23T09:31:18.653Z"
   },
   {
    "duration": 84,
    "start_time": "2021-10-23T09:33:54.270Z"
   },
   {
    "duration": 105,
    "start_time": "2021-10-23T09:34:04.798Z"
   },
   {
    "duration": 11,
    "start_time": "2021-10-23T09:34:10.670Z"
   },
   {
    "duration": 11,
    "start_time": "2021-10-23T09:34:20.570Z"
   },
   {
    "duration": 6,
    "start_time": "2021-10-23T09:35:44.414Z"
   },
   {
    "duration": 6,
    "start_time": "2021-10-23T09:35:51.421Z"
   },
   {
    "duration": 8,
    "start_time": "2021-10-23T09:35:51.430Z"
   },
   {
    "duration": 6,
    "start_time": "2021-10-23T09:35:58.731Z"
   },
   {
    "duration": 9,
    "start_time": "2021-10-23T09:36:06.311Z"
   },
   {
    "duration": 8,
    "start_time": "2021-10-23T09:37:39.276Z"
   },
   {
    "duration": 22,
    "start_time": "2021-10-23T09:40:03.431Z"
   },
   {
    "duration": 6,
    "start_time": "2021-10-23T09:40:52.995Z"
   },
   {
    "duration": 6,
    "start_time": "2021-10-23T09:40:59.163Z"
   },
   {
    "duration": 16,
    "start_time": "2021-10-23T09:41:58.928Z"
   },
   {
    "duration": 15,
    "start_time": "2021-10-23T09:42:38.663Z"
   },
   {
    "duration": 12,
    "start_time": "2021-10-23T09:42:38.681Z"
   },
   {
    "duration": 13,
    "start_time": "2021-10-23T09:45:54.209Z"
   },
   {
    "duration": 13,
    "start_time": "2021-10-23T09:45:58.921Z"
   },
   {
    "duration": 94,
    "start_time": "2021-10-23T09:50:17.022Z"
   },
   {
    "duration": 585,
    "start_time": "2021-10-23T09:50:32.984Z"
   },
   {
    "duration": 545,
    "start_time": "2021-10-23T09:51:07.870Z"
   },
   {
    "duration": 609,
    "start_time": "2021-10-23T09:52:29.666Z"
   },
   {
    "duration": 962,
    "start_time": "2021-10-23T09:52:53.500Z"
   },
   {
    "duration": 4,
    "start_time": "2021-10-23T09:53:20.597Z"
   },
   {
    "duration": 584,
    "start_time": "2021-10-23T09:53:32.293Z"
   },
   {
    "duration": 1336,
    "start_time": "2021-10-23T09:53:42.934Z"
   },
   {
    "duration": 524,
    "start_time": "2021-10-23T09:53:44.273Z"
   },
   {
    "duration": 416,
    "start_time": "2021-10-23T09:53:44.800Z"
   },
   {
    "duration": 1939,
    "start_time": "2021-10-23T09:53:43.283Z"
   },
   {
    "duration": 1933,
    "start_time": "2021-10-23T09:53:43.290Z"
   },
   {
    "duration": 1929,
    "start_time": "2021-10-23T09:53:43.296Z"
   },
   {
    "duration": 1924,
    "start_time": "2021-10-23T09:53:43.302Z"
   },
   {
    "duration": 1921,
    "start_time": "2021-10-23T09:53:43.307Z"
   },
   {
    "duration": 1917,
    "start_time": "2021-10-23T09:53:43.312Z"
   },
   {
    "duration": 1913,
    "start_time": "2021-10-23T09:53:43.318Z"
   },
   {
    "duration": 1909,
    "start_time": "2021-10-23T09:53:43.323Z"
   },
   {
    "duration": 1838,
    "start_time": "2021-10-23T09:53:43.396Z"
   },
   {
    "duration": 1801,
    "start_time": "2021-10-23T09:53:43.434Z"
   },
   {
    "duration": 1781,
    "start_time": "2021-10-23T09:53:43.455Z"
   },
   {
    "duration": 1773,
    "start_time": "2021-10-23T09:53:43.465Z"
   },
   {
    "duration": 1767,
    "start_time": "2021-10-23T09:53:43.472Z"
   },
   {
    "duration": 1763,
    "start_time": "2021-10-23T09:53:43.477Z"
   },
   {
    "duration": 1760,
    "start_time": "2021-10-23T09:53:43.482Z"
   },
   {
    "duration": 1756,
    "start_time": "2021-10-23T09:53:43.487Z"
   },
   {
    "duration": 1752,
    "start_time": "2021-10-23T09:53:43.492Z"
   },
   {
    "duration": 1749,
    "start_time": "2021-10-23T09:53:43.497Z"
   },
   {
    "duration": 1744,
    "start_time": "2021-10-23T09:53:43.503Z"
   },
   {
    "duration": 1739,
    "start_time": "2021-10-23T09:53:43.510Z"
   },
   {
    "duration": 1726,
    "start_time": "2021-10-23T09:53:43.524Z"
   },
   {
    "duration": 1714,
    "start_time": "2021-10-23T09:53:43.537Z"
   },
   {
    "duration": 1702,
    "start_time": "2021-10-23T09:53:43.550Z"
   },
   {
    "duration": 1690,
    "start_time": "2021-10-23T09:53:43.563Z"
   },
   {
    "duration": 1642,
    "start_time": "2021-10-23T09:53:43.612Z"
   },
   {
    "duration": 1563,
    "start_time": "2021-10-23T09:53:43.692Z"
   },
   {
    "duration": 1559,
    "start_time": "2021-10-23T09:53:43.698Z"
   },
   {
    "duration": 1555,
    "start_time": "2021-10-23T09:53:43.703Z"
   },
   {
    "duration": 1545,
    "start_time": "2021-10-23T09:53:43.714Z"
   },
   {
    "duration": 1542,
    "start_time": "2021-10-23T09:53:43.719Z"
   },
   {
    "duration": 1532,
    "start_time": "2021-10-23T09:53:43.730Z"
   },
   {
    "duration": 1526,
    "start_time": "2021-10-23T09:53:43.737Z"
   },
   {
    "duration": 1515,
    "start_time": "2021-10-23T09:53:43.749Z"
   },
   {
    "duration": 1562,
    "start_time": "2021-10-23T09:53:43.760Z"
   },
   {
    "duration": 1537,
    "start_time": "2021-10-23T09:53:43.787Z"
   },
   {
    "duration": 1529,
    "start_time": "2021-10-23T09:53:43.796Z"
   },
   {
    "duration": 1519,
    "start_time": "2021-10-23T09:53:43.807Z"
   },
   {
    "duration": 1516,
    "start_time": "2021-10-23T09:53:43.812Z"
   },
   {
    "duration": 1480,
    "start_time": "2021-10-23T09:53:43.849Z"
   },
   {
    "duration": 1247,
    "start_time": "2021-10-23T09:53:44.083Z"
   },
   {
    "duration": 1190,
    "start_time": "2021-10-23T09:53:44.141Z"
   },
   {
    "duration": 1188,
    "start_time": "2021-10-23T09:53:44.145Z"
   },
   {
    "duration": 1183,
    "start_time": "2021-10-23T09:53:44.151Z"
   },
   {
    "duration": 1169,
    "start_time": "2021-10-23T09:53:44.166Z"
   },
   {
    "duration": 1155,
    "start_time": "2021-10-23T09:53:44.181Z"
   },
   {
    "duration": 1142,
    "start_time": "2021-10-23T09:53:44.196Z"
   },
   {
    "duration": 1137,
    "start_time": "2021-10-23T09:53:44.202Z"
   },
   {
    "duration": 1126,
    "start_time": "2021-10-23T09:53:44.214Z"
   },
   {
    "duration": 1122,
    "start_time": "2021-10-23T09:53:44.219Z"
   },
   {
    "duration": 1103,
    "start_time": "2021-10-23T09:53:44.240Z"
   },
   {
    "duration": 1070,
    "start_time": "2021-10-23T09:53:44.274Z"
   },
   {
    "duration": 1062,
    "start_time": "2021-10-23T09:53:44.283Z"
   },
   {
    "duration": 1050,
    "start_time": "2021-10-23T09:53:44.296Z"
   },
   {
    "duration": 1047,
    "start_time": "2021-10-23T09:53:44.300Z"
   },
   {
    "duration": 1038,
    "start_time": "2021-10-23T09:53:44.311Z"
   },
   {
    "duration": 1034,
    "start_time": "2021-10-23T09:53:44.316Z"
   },
   {
    "duration": 1030,
    "start_time": "2021-10-23T09:53:44.321Z"
   },
   {
    "duration": 1026,
    "start_time": "2021-10-23T09:53:44.326Z"
   },
   {
    "duration": 1024,
    "start_time": "2021-10-23T09:53:44.330Z"
   },
   {
    "duration": 1020,
    "start_time": "2021-10-23T09:53:44.335Z"
   },
   {
    "duration": 1016,
    "start_time": "2021-10-23T09:53:44.340Z"
   },
   {
    "duration": 1013,
    "start_time": "2021-10-23T09:53:44.344Z"
   },
   {
    "duration": 1008,
    "start_time": "2021-10-23T09:53:44.350Z"
   },
   {
    "duration": 1069,
    "start_time": "2021-10-23T09:53:44.354Z"
   },
   {
    "duration": 1065,
    "start_time": "2021-10-23T09:53:44.359Z"
   },
   {
    "duration": 1062,
    "start_time": "2021-10-23T09:53:44.363Z"
   },
   {
    "duration": 1059,
    "start_time": "2021-10-23T09:53:44.368Z"
   },
   {
    "duration": 1056,
    "start_time": "2021-10-23T09:53:44.372Z"
   },
   {
    "duration": 1052,
    "start_time": "2021-10-23T09:53:44.377Z"
   },
   {
    "duration": 1049,
    "start_time": "2021-10-23T09:53:44.381Z"
   },
   {
    "duration": 1040,
    "start_time": "2021-10-23T09:53:44.392Z"
   },
   {
    "duration": 1037,
    "start_time": "2021-10-23T09:53:44.396Z"
   },
   {
    "duration": 1033,
    "start_time": "2021-10-23T09:53:44.401Z"
   },
   {
    "duration": 1030,
    "start_time": "2021-10-23T09:53:44.405Z"
   },
   {
    "duration": 1026,
    "start_time": "2021-10-23T09:53:44.410Z"
   },
   {
    "duration": 1015,
    "start_time": "2021-10-23T09:53:44.422Z"
   },
   {
    "duration": 1335,
    "start_time": "2021-10-23T09:54:24.273Z"
   },
   {
    "duration": 536,
    "start_time": "2021-10-23T09:54:25.610Z"
   },
   {
    "duration": 28,
    "start_time": "2021-10-23T09:54:26.149Z"
   },
   {
    "duration": 16,
    "start_time": "2021-10-23T09:54:26.180Z"
   },
   {
    "duration": 38,
    "start_time": "2021-10-23T09:54:26.199Z"
   },
   {
    "duration": 25,
    "start_time": "2021-10-23T09:54:26.240Z"
   },
   {
    "duration": 11,
    "start_time": "2021-10-23T09:54:26.268Z"
   },
   {
    "duration": 52,
    "start_time": "2021-10-23T09:54:26.283Z"
   },
   {
    "duration": 395,
    "start_time": "2021-10-23T09:54:26.338Z"
   },
   {
    "duration": 1740,
    "start_time": "2021-10-23T09:54:24.998Z"
   },
   {
    "duration": 1729,
    "start_time": "2021-10-23T09:54:25.011Z"
   },
   {
    "duration": 1723,
    "start_time": "2021-10-23T09:54:25.018Z"
   },
   {
    "duration": 1714,
    "start_time": "2021-10-23T09:54:25.029Z"
   },
   {
    "duration": 1711,
    "start_time": "2021-10-23T09:54:25.034Z"
   },
   {
    "duration": 1700,
    "start_time": "2021-10-23T09:54:25.046Z"
   },
   {
    "duration": 1697,
    "start_time": "2021-10-23T09:54:25.051Z"
   },
   {
    "duration": 1693,
    "start_time": "2021-10-23T09:54:25.056Z"
   },
   {
    "duration": 1690,
    "start_time": "2021-10-23T09:54:25.061Z"
   },
   {
    "duration": 1685,
    "start_time": "2021-10-23T09:54:25.067Z"
   },
   {
    "duration": 1451,
    "start_time": "2021-10-23T09:54:25.303Z"
   },
   {
    "duration": 1441,
    "start_time": "2021-10-23T09:54:25.314Z"
   },
   {
    "duration": 1398,
    "start_time": "2021-10-23T09:54:25.359Z"
   },
   {
    "duration": 1363,
    "start_time": "2021-10-23T09:54:25.395Z"
   },
   {
    "duration": 1360,
    "start_time": "2021-10-23T09:54:25.399Z"
   },
   {
    "duration": 1350,
    "start_time": "2021-10-23T09:54:25.410Z"
   },
   {
    "duration": 1343,
    "start_time": "2021-10-23T09:54:25.418Z"
   },
   {
    "duration": 1334,
    "start_time": "2021-10-23T09:54:25.429Z"
   },
   {
    "duration": 831,
    "start_time": "2021-10-23T09:54:25.933Z"
   },
   {
    "duration": 819,
    "start_time": "2021-10-23T09:54:25.946Z"
   },
   {
    "duration": 817,
    "start_time": "2021-10-23T09:54:25.950Z"
   },
   {
    "duration": 812,
    "start_time": "2021-10-23T09:54:25.956Z"
   },
   {
    "duration": 809,
    "start_time": "2021-10-23T09:54:25.960Z"
   },
   {
    "duration": 806,
    "start_time": "2021-10-23T09:54:25.965Z"
   },
   {
    "duration": 802,
    "start_time": "2021-10-23T09:54:25.970Z"
   },
   {
    "duration": 797,
    "start_time": "2021-10-23T09:54:25.976Z"
   },
   {
    "duration": 794,
    "start_time": "2021-10-23T09:54:25.980Z"
   },
   {
    "duration": 790,
    "start_time": "2021-10-23T09:54:25.985Z"
   },
   {
    "duration": 787,
    "start_time": "2021-10-23T09:54:25.989Z"
   },
   {
    "duration": 828,
    "start_time": "2021-10-23T09:54:25.994Z"
   },
   {
    "duration": 825,
    "start_time": "2021-10-23T09:54:25.998Z"
   },
   {
    "duration": 822,
    "start_time": "2021-10-23T09:54:26.003Z"
   },
   {
    "duration": 817,
    "start_time": "2021-10-23T09:54:26.009Z"
   },
   {
    "duration": 813,
    "start_time": "2021-10-23T09:54:26.014Z"
   },
   {
    "duration": 811,
    "start_time": "2021-10-23T09:54:26.018Z"
   },
   {
    "duration": 806,
    "start_time": "2021-10-23T09:54:26.024Z"
   },
   {
    "duration": 804,
    "start_time": "2021-10-23T09:54:26.028Z"
   },
   {
    "duration": 800,
    "start_time": "2021-10-23T09:54:26.033Z"
   },
   {
    "duration": 780,
    "start_time": "2021-10-23T09:54:26.054Z"
   },
   {
    "duration": 761,
    "start_time": "2021-10-23T09:54:26.075Z"
   },
   {
    "duration": 745,
    "start_time": "2021-10-23T09:54:26.092Z"
   },
   {
    "duration": 724,
    "start_time": "2021-10-23T09:54:26.114Z"
   },
   {
    "duration": 720,
    "start_time": "2021-10-23T09:54:26.119Z"
   },
   {
    "duration": 711,
    "start_time": "2021-10-23T09:54:26.130Z"
   },
   {
    "duration": 706,
    "start_time": "2021-10-23T09:54:26.136Z"
   },
   {
    "duration": 697,
    "start_time": "2021-10-23T09:54:26.146Z"
   },
   {
    "duration": 694,
    "start_time": "2021-10-23T09:54:26.151Z"
   },
   {
    "duration": 684,
    "start_time": "2021-10-23T09:54:26.162Z"
   },
   {
    "duration": 681,
    "start_time": "2021-10-23T09:54:26.166Z"
   },
   {
    "duration": 676,
    "start_time": "2021-10-23T09:54:26.172Z"
   },
   {
    "duration": 668,
    "start_time": "2021-10-23T09:54:26.182Z"
   },
   {
    "duration": 664,
    "start_time": "2021-10-23T09:54:26.187Z"
   },
   {
    "duration": 656,
    "start_time": "2021-10-23T09:54:26.197Z"
   },
   {
    "duration": 651,
    "start_time": "2021-10-23T09:54:26.203Z"
   },
   {
    "duration": 647,
    "start_time": "2021-10-23T09:54:26.208Z"
   },
   {
    "duration": 644,
    "start_time": "2021-10-23T09:54:26.213Z"
   },
   {
    "duration": 640,
    "start_time": "2021-10-23T09:54:26.218Z"
   },
   {
    "duration": 637,
    "start_time": "2021-10-23T09:54:26.223Z"
   },
   {
    "duration": 696,
    "start_time": "2021-10-23T09:54:26.227Z"
   },
   {
    "duration": 693,
    "start_time": "2021-10-23T09:54:26.232Z"
   },
   {
    "duration": 690,
    "start_time": "2021-10-23T09:54:26.237Z"
   },
   {
    "duration": 686,
    "start_time": "2021-10-23T09:54:26.242Z"
   },
   {
    "duration": 682,
    "start_time": "2021-10-23T09:54:26.247Z"
   },
   {
    "duration": 679,
    "start_time": "2021-10-23T09:54:26.252Z"
   },
   {
    "duration": 676,
    "start_time": "2021-10-23T09:54:26.256Z"
   },
   {
    "duration": 672,
    "start_time": "2021-10-23T09:54:26.261Z"
   },
   {
    "duration": 668,
    "start_time": "2021-10-23T09:54:26.266Z"
   },
   {
    "duration": 665,
    "start_time": "2021-10-23T09:54:26.271Z"
   },
   {
    "duration": 662,
    "start_time": "2021-10-23T09:54:26.275Z"
   },
   {
    "duration": 91,
    "start_time": "2021-10-23T09:54:50.220Z"
   },
   {
    "duration": 10,
    "start_time": "2021-10-23T09:54:51.835Z"
   },
   {
    "duration": 14,
    "start_time": "2021-10-23T09:54:54.558Z"
   },
   {
    "duration": 5,
    "start_time": "2021-10-23T09:54:56.484Z"
   },
   {
    "duration": 10,
    "start_time": "2021-10-23T09:54:57.951Z"
   },
   {
    "duration": 19,
    "start_time": "2021-10-23T09:54:58.727Z"
   },
   {
    "duration": 15,
    "start_time": "2021-10-23T09:54:59.914Z"
   },
   {
    "duration": 17,
    "start_time": "2021-10-23T09:55:02.203Z"
   },
   {
    "duration": 12,
    "start_time": "2021-10-23T09:55:04.697Z"
   },
   {
    "duration": 71,
    "start_time": "2021-10-23T09:55:08.281Z"
   },
   {
    "duration": 6,
    "start_time": "2021-10-23T09:55:12.897Z"
   },
   {
    "duration": 52,
    "start_time": "2021-10-23T09:55:29.045Z"
   },
   {
    "duration": 11,
    "start_time": "2021-10-23T09:55:29.111Z"
   },
   {
    "duration": 49,
    "start_time": "2021-10-23T09:55:33.900Z"
   },
   {
    "duration": 30,
    "start_time": "2021-10-23T09:55:36.455Z"
   },
   {
    "duration": 21,
    "start_time": "2021-10-23T09:55:40.035Z"
   },
   {
    "duration": 20,
    "start_time": "2021-10-23T09:55:43.471Z"
   },
   {
    "duration": 10,
    "start_time": "2021-10-23T09:55:44.679Z"
   },
   {
    "duration": 7,
    "start_time": "2021-10-23T09:55:46.973Z"
   },
   {
    "duration": 6,
    "start_time": "2021-10-23T09:55:47.641Z"
   },
   {
    "duration": 7,
    "start_time": "2021-10-23T09:55:48.206Z"
   },
   {
    "duration": 7,
    "start_time": "2021-10-23T09:55:48.776Z"
   },
   {
    "duration": 10,
    "start_time": "2021-10-23T09:55:50.287Z"
   },
   {
    "duration": 15,
    "start_time": "2021-10-23T09:55:52.447Z"
   },
   {
    "duration": 23,
    "start_time": "2021-10-23T09:55:54.880Z"
   },
   {
    "duration": 6,
    "start_time": "2021-10-23T09:55:58.054Z"
   },
   {
    "duration": 8,
    "start_time": "2021-10-23T09:55:58.789Z"
   },
   {
    "duration": 22,
    "start_time": "2021-10-23T09:55:59.627Z"
   },
   {
    "duration": 16,
    "start_time": "2021-10-23T09:56:00.582Z"
   },
   {
    "duration": 16,
    "start_time": "2021-10-23T09:56:02.473Z"
   },
   {
    "duration": 10,
    "start_time": "2021-10-23T09:56:05.362Z"
   },
   {
    "duration": 14,
    "start_time": "2021-10-23T09:56:07.293Z"
   },
   {
    "duration": 15,
    "start_time": "2021-10-23T09:56:09.226Z"
   },
   {
    "duration": 27,
    "start_time": "2021-10-23T09:56:14.507Z"
   },
   {
    "duration": 11,
    "start_time": "2021-10-23T09:56:17.978Z"
   },
   {
    "duration": 9,
    "start_time": "2021-10-23T09:56:21.721Z"
   },
   {
    "duration": 10,
    "start_time": "2021-10-23T09:56:23.955Z"
   },
   {
    "duration": 13,
    "start_time": "2021-10-23T09:56:25.725Z"
   },
   {
    "duration": 25,
    "start_time": "2021-10-23T09:56:26.459Z"
   },
   {
    "duration": 7,
    "start_time": "2021-10-23T09:56:29.467Z"
   },
   {
    "duration": 11,
    "start_time": "2021-10-23T09:56:30.321Z"
   },
   {
    "duration": 225,
    "start_time": "2021-10-23T09:56:35.131Z"
   },
   {
    "duration": 29,
    "start_time": "2021-10-23T09:56:38.665Z"
   },
   {
    "duration": 110,
    "start_time": "2021-10-23T09:56:41.143Z"
   },
   {
    "duration": 11,
    "start_time": "2021-10-23T09:56:48.098Z"
   },
   {
    "duration": 597,
    "start_time": "2021-10-23T09:56:51.620Z"
   },
   {
    "duration": 1151,
    "start_time": "2021-10-23T09:58:08.036Z"
   },
   {
    "duration": 60,
    "start_time": "2021-10-23T09:58:28.119Z"
   },
   {
    "duration": 58,
    "start_time": "2021-10-23T09:58:30.392Z"
   },
   {
    "duration": 643,
    "start_time": "2021-10-23T09:58:32.803Z"
   },
   {
    "duration": 1068,
    "start_time": "2021-10-23T09:58:36.339Z"
   },
   {
    "duration": 1238,
    "start_time": "2021-10-23T09:58:39.541Z"
   },
   {
    "duration": 57,
    "start_time": "2021-10-23T09:58:41.727Z"
   },
   {
    "duration": 58,
    "start_time": "2021-10-23T09:58:43.908Z"
   },
   {
    "duration": 835,
    "start_time": "2021-10-23T09:58:46.593Z"
   },
   {
    "duration": 615,
    "start_time": "2021-10-23T09:58:54.261Z"
   },
   {
    "duration": 58,
    "start_time": "2021-10-23T09:58:57.585Z"
   },
   {
    "duration": 69,
    "start_time": "2021-10-23T09:59:00.118Z"
   },
   {
    "duration": 750,
    "start_time": "2021-10-23T09:59:02.668Z"
   },
   {
    "duration": 6,
    "start_time": "2021-10-23T09:59:07.833Z"
   },
   {
    "duration": 7,
    "start_time": "2021-10-23T09:59:08.688Z"
   },
   {
    "duration": 7,
    "start_time": "2021-10-23T09:59:09.495Z"
   },
   {
    "duration": 6,
    "start_time": "2021-10-23T09:59:10.507Z"
   },
   {
    "duration": 7,
    "start_time": "2021-10-23T09:59:12.294Z"
   },
   {
    "duration": 7,
    "start_time": "2021-10-23T09:59:13.088Z"
   },
   {
    "duration": 263,
    "start_time": "2021-10-23T10:02:50.563Z"
   },
   {
    "duration": 44,
    "start_time": "2021-10-23T10:02:57.294Z"
   },
   {
    "duration": 45,
    "start_time": "2021-10-23T10:03:38.789Z"
   },
   {
    "duration": 41,
    "start_time": "2021-10-23T10:04:46.305Z"
   },
   {
    "duration": 5,
    "start_time": "2021-10-23T10:07:46.353Z"
   },
   {
    "duration": 3,
    "start_time": "2021-10-23T10:07:49.783Z"
   },
   {
    "duration": 4,
    "start_time": "2021-10-23T10:07:51.825Z"
   },
   {
    "duration": 6,
    "start_time": "2021-10-23T10:08:04.131Z"
   },
   {
    "duration": 6,
    "start_time": "2021-10-23T10:08:33.560Z"
   },
   {
    "duration": 280,
    "start_time": "2021-10-23T10:09:07.476Z"
   },
   {
    "duration": 503,
    "start_time": "2021-10-23T10:09:22.147Z"
   },
   {
    "duration": 397,
    "start_time": "2021-10-23T10:09:33.229Z"
   },
   {
    "duration": 341,
    "start_time": "2021-10-23T10:09:51.512Z"
   },
   {
    "duration": 360,
    "start_time": "2021-10-23T10:10:30.098Z"
   },
   {
    "duration": 541,
    "start_time": "2021-10-23T10:10:38.756Z"
   },
   {
    "duration": 398,
    "start_time": "2021-10-23T10:10:47.905Z"
   },
   {
    "duration": 341,
    "start_time": "2021-10-23T10:10:59.748Z"
   },
   {
    "duration": 5,
    "start_time": "2021-10-23T10:14:35.706Z"
   },
   {
    "duration": 349,
    "start_time": "2021-10-23T10:16:19.151Z"
   },
   {
    "duration": 347,
    "start_time": "2021-10-23T10:16:49.245Z"
   },
   {
    "duration": 274,
    "start_time": "2021-10-23T10:20:00.330Z"
   },
   {
    "duration": 7,
    "start_time": "2021-10-23T10:20:06.325Z"
   },
   {
    "duration": 7,
    "start_time": "2021-10-23T10:20:08.342Z"
   },
   {
    "duration": 7,
    "start_time": "2021-10-23T10:20:45.832Z"
   },
   {
    "duration": 274,
    "start_time": "2021-10-23T10:26:43.710Z"
   },
   {
    "duration": 14,
    "start_time": "2021-10-23T10:26:47.228Z"
   },
   {
    "duration": 7,
    "start_time": "2021-10-23T10:26:48.569Z"
   },
   {
    "duration": 11,
    "start_time": "2021-10-23T10:27:34.330Z"
   },
   {
    "duration": 357,
    "start_time": "2021-10-23T10:27:35.746Z"
   },
   {
    "duration": 342,
    "start_time": "2021-10-23T10:28:02.028Z"
   },
   {
    "duration": 268,
    "start_time": "2021-10-23T10:28:18.366Z"
   },
   {
    "duration": 7,
    "start_time": "2021-10-23T10:28:18.636Z"
   },
   {
    "duration": 289,
    "start_time": "2021-10-23T10:29:19.072Z"
   },
   {
    "duration": 622,
    "start_time": "2021-10-23T10:29:43.031Z"
   },
   {
    "duration": 397,
    "start_time": "2021-10-23T10:29:53.403Z"
   },
   {
    "duration": 289,
    "start_time": "2021-10-23T10:30:01.508Z"
   },
   {
    "duration": 530,
    "start_time": "2021-10-23T10:30:12.985Z"
   },
   {
    "duration": 403,
    "start_time": "2021-10-23T10:30:20.228Z"
   },
   {
    "duration": 8,
    "start_time": "2021-10-23T10:32:13.797Z"
   },
   {
    "duration": 1466,
    "start_time": "2021-10-23T10:33:55.350Z"
   },
   {
    "duration": 530,
    "start_time": "2021-10-23T10:33:56.819Z"
   },
   {
    "duration": 30,
    "start_time": "2021-10-23T10:33:57.352Z"
   },
   {
    "duration": 18,
    "start_time": "2021-10-23T10:33:57.384Z"
   },
   {
    "duration": 33,
    "start_time": "2021-10-23T10:33:57.405Z"
   },
   {
    "duration": 26,
    "start_time": "2021-10-23T10:33:57.441Z"
   },
   {
    "duration": 12,
    "start_time": "2021-10-23T10:33:57.469Z"
   },
   {
    "duration": 21,
    "start_time": "2021-10-23T10:33:57.522Z"
   },
   {
    "duration": 113,
    "start_time": "2021-10-23T10:33:57.546Z"
   },
   {
    "duration": 9,
    "start_time": "2021-10-23T10:33:57.662Z"
   },
   {
    "duration": 17,
    "start_time": "2021-10-23T10:33:57.674Z"
   },
   {
    "duration": 6,
    "start_time": "2021-10-23T10:33:57.693Z"
   },
   {
    "duration": 28,
    "start_time": "2021-10-23T10:33:57.702Z"
   },
   {
    "duration": 24,
    "start_time": "2021-10-23T10:33:57.733Z"
   },
   {
    "duration": 17,
    "start_time": "2021-10-23T10:33:57.760Z"
   },
   {
    "duration": 58,
    "start_time": "2021-10-23T10:33:57.779Z"
   },
   {
    "duration": 12,
    "start_time": "2021-10-23T10:33:57.839Z"
   },
   {
    "duration": 106,
    "start_time": "2021-10-23T10:33:57.853Z"
   },
   {
    "duration": 6,
    "start_time": "2021-10-23T10:33:57.961Z"
   },
   {
    "duration": 74,
    "start_time": "2021-10-23T10:33:57.970Z"
   },
   {
    "duration": 8,
    "start_time": "2021-10-23T10:33:58.046Z"
   },
   {
    "duration": 35,
    "start_time": "2021-10-23T10:33:58.057Z"
   },
   {
    "duration": 30,
    "start_time": "2021-10-23T10:33:58.126Z"
   },
   {
    "duration": 21,
    "start_time": "2021-10-23T10:33:58.159Z"
   },
   {
    "duration": 47,
    "start_time": "2021-10-23T10:33:58.183Z"
   },
   {
    "duration": 11,
    "start_time": "2021-10-23T10:33:58.232Z"
   },
   {
    "duration": 7,
    "start_time": "2021-10-23T10:33:58.245Z"
   },
   {
    "duration": 9,
    "start_time": "2021-10-23T10:33:58.255Z"
   },
   {
    "duration": 11,
    "start_time": "2021-10-23T10:33:58.267Z"
   },
   {
    "duration": 47,
    "start_time": "2021-10-23T10:33:58.281Z"
   },
   {
    "duration": 12,
    "start_time": "2021-10-23T10:33:58.331Z"
   },
   {
    "duration": 21,
    "start_time": "2021-10-23T10:33:58.346Z"
   },
   {
    "duration": 70,
    "start_time": "2021-10-23T10:33:58.369Z"
   },
   {
    "duration": 7,
    "start_time": "2021-10-23T10:33:58.443Z"
   },
   {
    "duration": 8,
    "start_time": "2021-10-23T10:33:58.453Z"
   },
   {
    "duration": 61,
    "start_time": "2021-10-23T10:33:58.464Z"
   },
   {
    "duration": 29,
    "start_time": "2021-10-23T10:33:58.528Z"
   },
   {
    "duration": 23,
    "start_time": "2021-10-23T10:33:58.560Z"
   },
   {
    "duration": 37,
    "start_time": "2021-10-23T10:33:58.586Z"
   },
   {
    "duration": 19,
    "start_time": "2021-10-23T10:33:58.627Z"
   },
   {
    "duration": 19,
    "start_time": "2021-10-23T10:33:58.649Z"
   },
   {
    "duration": 78,
    "start_time": "2021-10-23T10:33:58.671Z"
   },
   {
    "duration": 15,
    "start_time": "2021-10-23T10:33:58.752Z"
   },
   {
    "duration": 13,
    "start_time": "2021-10-23T10:33:58.770Z"
   },
   {
    "duration": 41,
    "start_time": "2021-10-23T10:33:58.786Z"
   },
   {
    "duration": 18,
    "start_time": "2021-10-23T10:33:58.830Z"
   },
   {
    "duration": 40,
    "start_time": "2021-10-23T10:33:58.851Z"
   },
   {
    "duration": 33,
    "start_time": "2021-10-23T10:33:58.894Z"
   },
   {
    "duration": 14,
    "start_time": "2021-10-23T10:33:58.930Z"
   },
   {
    "duration": 414,
    "start_time": "2021-10-23T10:33:58.947Z"
   },
   {
    "duration": 38,
    "start_time": "2021-10-23T10:33:59.364Z"
   },
   {
    "duration": 171,
    "start_time": "2021-10-23T10:33:59.421Z"
   },
   {
    "duration": 14,
    "start_time": "2021-10-23T10:33:59.596Z"
   },
   {
    "duration": 942,
    "start_time": "2021-10-23T10:33:59.623Z"
   },
   {
    "duration": 2176,
    "start_time": "2021-10-23T10:34:00.568Z"
   },
   {
    "duration": 103,
    "start_time": "2021-10-23T10:34:02.747Z"
   },
   {
    "duration": 111,
    "start_time": "2021-10-23T10:34:02.853Z"
   },
   {
    "duration": 1051,
    "start_time": "2021-10-23T10:34:02.967Z"
   },
   {
    "duration": 1787,
    "start_time": "2021-10-23T10:34:04.023Z"
   },
   {
    "duration": 1214,
    "start_time": "2021-10-23T10:34:05.812Z"
   },
   {
    "duration": 64,
    "start_time": "2021-10-23T10:34:07.029Z"
   },
   {
    "duration": 80,
    "start_time": "2021-10-23T10:34:07.095Z"
   },
   {
    "duration": 761,
    "start_time": "2021-10-23T10:34:07.177Z"
   },
   {
    "duration": 629,
    "start_time": "2021-10-23T10:34:07.941Z"
   },
   {
    "duration": 75,
    "start_time": "2021-10-23T10:34:08.572Z"
   },
   {
    "duration": 74,
    "start_time": "2021-10-23T10:34:08.650Z"
   },
   {
    "duration": 678,
    "start_time": "2021-10-23T10:34:08.726Z"
   },
   {
    "duration": 15,
    "start_time": "2021-10-23T10:34:09.411Z"
   },
   {
    "duration": 28,
    "start_time": "2021-10-23T10:34:09.429Z"
   },
   {
    "duration": 27,
    "start_time": "2021-10-23T10:34:09.460Z"
   },
   {
    "duration": 15,
    "start_time": "2021-10-23T10:34:09.489Z"
   },
   {
    "duration": 22,
    "start_time": "2021-10-23T10:34:09.506Z"
   },
   {
    "duration": 28,
    "start_time": "2021-10-23T10:34:09.531Z"
   },
   {
    "duration": 46,
    "start_time": "2021-10-23T10:34:09.561Z"
   },
   {
    "duration": 46,
    "start_time": "2021-10-23T10:34:09.609Z"
   },
   {
    "duration": 4,
    "start_time": "2021-10-23T10:34:09.657Z"
   },
   {
    "duration": 13,
    "start_time": "2021-10-23T10:34:09.664Z"
   },
   {
    "duration": 32,
    "start_time": "2021-10-23T10:34:09.679Z"
   },
   {
    "duration": 384,
    "start_time": "2021-10-23T10:34:09.714Z"
   },
   {
    "duration": 369,
    "start_time": "2021-10-23T10:34:10.101Z"
   },
   {
    "duration": 7,
    "start_time": "2021-10-23T10:34:10.472Z"
   },
   {
    "duration": 17,
    "start_time": "2021-10-23T10:34:10.482Z"
   },
   {
    "duration": 27,
    "start_time": "2021-10-23T10:34:10.502Z"
   },
   {
    "duration": 301,
    "start_time": "2021-10-23T10:34:10.531Z"
   },
   {
    "duration": 437,
    "start_time": "2021-10-23T10:34:10.835Z"
   },
   {
    "duration": 7,
    "start_time": "2021-10-23T10:34:11.276Z"
   },
   {
    "duration": 19,
    "start_time": "2021-10-23T10:34:11.286Z"
   },
   {
    "duration": 4,
    "start_time": "2021-10-23T10:50:51.680Z"
   },
   {
    "duration": 456,
    "start_time": "2021-10-23T10:51:35.834Z"
   },
   {
    "duration": 6,
    "start_time": "2021-10-23T10:53:04.701Z"
   },
   {
    "duration": 400,
    "start_time": "2021-10-23T10:55:28.030Z"
   },
   {
    "duration": 610,
    "start_time": "2021-10-23T10:56:10.109Z"
   },
   {
    "duration": 311,
    "start_time": "2021-10-23T10:58:39.086Z"
   },
   {
    "duration": 728,
    "start_time": "2021-10-23T10:59:26.954Z"
   },
   {
    "duration": 649,
    "start_time": "2021-10-23T11:03:41.397Z"
   },
   {
    "duration": 623,
    "start_time": "2021-10-23T11:04:35.518Z"
   },
   {
    "duration": 698,
    "start_time": "2021-10-23T11:04:49.430Z"
   },
   {
    "duration": 675,
    "start_time": "2021-10-23T11:05:20.234Z"
   },
   {
    "duration": 309,
    "start_time": "2021-10-23T11:07:34.387Z"
   },
   {
    "duration": 601,
    "start_time": "2021-10-23T11:08:23.765Z"
   },
   {
    "duration": 3504,
    "start_time": "2021-10-23T11:09:52.395Z"
   },
   {
    "duration": 905,
    "start_time": "2021-10-23T11:10:18.693Z"
   },
   {
    "duration": 687,
    "start_time": "2021-10-23T11:12:18.526Z"
   },
   {
    "duration": 624,
    "start_time": "2021-10-23T11:14:12.408Z"
   },
   {
    "duration": 126,
    "start_time": "2021-10-23T11:15:47.912Z"
   },
   {
    "duration": 647,
    "start_time": "2021-10-23T11:17:05.046Z"
   },
   {
    "duration": 92,
    "start_time": "2021-10-23T11:18:57.757Z"
   },
   {
    "duration": 1366,
    "start_time": "2021-10-23T11:19:15.185Z"
   },
   {
    "duration": 521,
    "start_time": "2021-10-23T11:19:16.553Z"
   },
   {
    "duration": 28,
    "start_time": "2021-10-23T11:19:17.077Z"
   },
   {
    "duration": 16,
    "start_time": "2021-10-23T11:19:17.107Z"
   },
   {
    "duration": 31,
    "start_time": "2021-10-23T11:19:17.125Z"
   },
   {
    "duration": 27,
    "start_time": "2021-10-23T11:19:17.160Z"
   },
   {
    "duration": 47,
    "start_time": "2021-10-23T11:19:17.190Z"
   },
   {
    "duration": 29,
    "start_time": "2021-10-23T11:19:17.243Z"
   },
   {
    "duration": 171,
    "start_time": "2021-10-23T11:19:17.276Z"
   },
   {
    "duration": 14,
    "start_time": "2021-10-23T11:19:17.450Z"
   },
   {
    "duration": 19,
    "start_time": "2021-10-23T11:19:17.467Z"
   },
   {
    "duration": 7,
    "start_time": "2021-10-23T11:19:17.489Z"
   },
   {
    "duration": 14,
    "start_time": "2021-10-23T11:19:17.524Z"
   },
   {
    "duration": 21,
    "start_time": "2021-10-23T11:19:17.540Z"
   },
   {
    "duration": 14,
    "start_time": "2021-10-23T11:19:17.563Z"
   },
   {
    "duration": 53,
    "start_time": "2021-10-23T11:19:17.579Z"
   },
   {
    "duration": 12,
    "start_time": "2021-10-23T11:19:17.634Z"
   },
   {
    "duration": 108,
    "start_time": "2021-10-23T11:19:17.648Z"
   },
   {
    "duration": 6,
    "start_time": "2021-10-23T11:19:17.758Z"
   },
   {
    "duration": 73,
    "start_time": "2021-10-23T11:19:17.766Z"
   },
   {
    "duration": 7,
    "start_time": "2021-10-23T11:19:17.841Z"
   },
   {
    "duration": 43,
    "start_time": "2021-10-23T11:19:17.852Z"
   },
   {
    "duration": 32,
    "start_time": "2021-10-23T11:19:17.923Z"
   },
   {
    "duration": 19,
    "start_time": "2021-10-23T11:19:17.960Z"
   },
   {
    "duration": 51,
    "start_time": "2021-10-23T11:19:17.982Z"
   },
   {
    "duration": 12,
    "start_time": "2021-10-23T11:19:18.036Z"
   },
   {
    "duration": 23,
    "start_time": "2021-10-23T11:19:18.051Z"
   },
   {
    "duration": 23,
    "start_time": "2021-10-23T11:19:18.077Z"
   },
   {
    "duration": 22,
    "start_time": "2021-10-23T11:19:18.102Z"
   },
   {
    "duration": 20,
    "start_time": "2021-10-23T11:19:18.126Z"
   },
   {
    "duration": 21,
    "start_time": "2021-10-23T11:19:18.149Z"
   },
   {
    "duration": 21,
    "start_time": "2021-10-23T11:19:18.172Z"
   },
   {
    "duration": 38,
    "start_time": "2021-10-23T11:19:18.196Z"
   },
   {
    "duration": 5,
    "start_time": "2021-10-23T11:19:18.237Z"
   },
   {
    "duration": 11,
    "start_time": "2021-10-23T11:19:18.244Z"
   },
   {
    "duration": 26,
    "start_time": "2021-10-23T11:19:18.258Z"
   },
   {
    "duration": 45,
    "start_time": "2021-10-23T11:19:18.287Z"
   },
   {
    "duration": 15,
    "start_time": "2021-10-23T11:19:18.335Z"
   },
   {
    "duration": 16,
    "start_time": "2021-10-23T11:19:18.352Z"
   },
   {
    "duration": 12,
    "start_time": "2021-10-23T11:19:18.370Z"
   },
   {
    "duration": 13,
    "start_time": "2021-10-23T11:19:18.423Z"
   },
   {
    "duration": 28,
    "start_time": "2021-10-23T11:19:18.439Z"
   },
   {
    "duration": 10,
    "start_time": "2021-10-23T11:19:18.470Z"
   },
   {
    "duration": 41,
    "start_time": "2021-10-23T11:19:18.482Z"
   },
   {
    "duration": 25,
    "start_time": "2021-10-23T11:19:18.525Z"
   },
   {
    "duration": 18,
    "start_time": "2021-10-23T11:19:18.553Z"
   },
   {
    "duration": 58,
    "start_time": "2021-10-23T11:19:18.574Z"
   },
   {
    "duration": 8,
    "start_time": "2021-10-23T11:19:18.636Z"
   },
   {
    "duration": 16,
    "start_time": "2021-10-23T11:19:18.646Z"
   },
   {
    "duration": 418,
    "start_time": "2021-10-23T11:19:18.665Z"
   },
   {
    "duration": 55,
    "start_time": "2021-10-23T11:19:19.086Z"
   },
   {
    "duration": 173,
    "start_time": "2021-10-23T11:19:19.144Z"
   },
   {
    "duration": 15,
    "start_time": "2021-10-23T11:19:19.323Z"
   },
   {
    "duration": 8,
    "start_time": "2021-10-23T11:19:19.341Z"
   },
   {
    "duration": 940,
    "start_time": "2021-10-23T11:19:19.352Z"
   },
   {
    "duration": 963,
    "start_time": "2021-10-23T11:19:20.295Z"
   },
   {
    "duration": 76,
    "start_time": "2021-10-23T11:19:21.261Z"
   },
   {
    "duration": 61,
    "start_time": "2021-10-23T11:19:21.340Z"
   },
   {
    "duration": 829,
    "start_time": "2021-10-23T11:19:21.423Z"
   },
   {
    "duration": 623,
    "start_time": "2021-10-23T11:19:22.254Z"
   },
   {
    "duration": 629,
    "start_time": "2021-10-23T11:19:22.880Z"
   },
   {
    "duration": 66,
    "start_time": "2021-10-23T11:19:23.512Z"
   },
   {
    "duration": 74,
    "start_time": "2021-10-23T11:19:23.581Z"
   },
   {
    "duration": 668,
    "start_time": "2021-10-23T11:19:23.657Z"
   },
   {
    "duration": 606,
    "start_time": "2021-10-23T11:19:24.328Z"
   },
   {
    "duration": 59,
    "start_time": "2021-10-23T11:19:24.937Z"
   },
   {
    "duration": 82,
    "start_time": "2021-10-23T11:19:24.999Z"
   },
   {
    "duration": 673,
    "start_time": "2021-10-23T11:19:25.089Z"
   },
   {
    "duration": 7,
    "start_time": "2021-10-23T11:19:25.765Z"
   },
   {
    "duration": 20,
    "start_time": "2021-10-23T11:19:25.774Z"
   },
   {
    "duration": 12,
    "start_time": "2021-10-23T11:19:25.797Z"
   },
   {
    "duration": 6,
    "start_time": "2021-10-23T11:19:25.823Z"
   },
   {
    "duration": 14,
    "start_time": "2021-10-23T11:19:25.831Z"
   },
   {
    "duration": 8,
    "start_time": "2021-10-23T11:19:25.848Z"
   },
   {
    "duration": 68,
    "start_time": "2021-10-23T11:19:25.858Z"
   },
   {
    "duration": 154,
    "start_time": "2021-10-23T11:19:25.929Z"
   },
   {
    "duration": 4,
    "start_time": "2021-10-23T11:19:26.086Z"
   },
   {
    "duration": 33,
    "start_time": "2021-10-23T11:19:26.092Z"
   },
   {
    "duration": 8,
    "start_time": "2021-10-23T11:19:26.127Z"
   },
   {
    "duration": 387,
    "start_time": "2021-10-23T11:19:26.137Z"
   },
   {
    "duration": 368,
    "start_time": "2021-10-23T11:19:26.527Z"
   },
   {
    "duration": 7,
    "start_time": "2021-10-23T11:19:26.898Z"
   },
   {
    "duration": 7,
    "start_time": "2021-10-23T11:19:26.923Z"
   },
   {
    "duration": 16,
    "start_time": "2021-10-23T11:19:26.933Z"
   },
   {
    "duration": 295,
    "start_time": "2021-10-23T11:19:26.952Z"
   },
   {
    "duration": 525,
    "start_time": "2021-10-23T11:19:27.249Z"
   },
   {
    "duration": 8,
    "start_time": "2021-10-23T11:19:27.777Z"
   },
   {
    "duration": 8,
    "start_time": "2021-10-23T11:19:27.789Z"
   }
  ],
  "kernelspec": {
   "display_name": "Python 3 (ipykernel)",
   "language": "python",
   "name": "python3"
  },
  "language_info": {
   "codemirror_mode": {
    "name": "ipython",
    "version": 3
   },
   "file_extension": ".py",
   "mimetype": "text/x-python",
   "name": "python",
   "nbconvert_exporter": "python",
   "pygments_lexer": "ipython3",
   "version": "3.9.7"
  },
  "toc": {
   "base_numbering": 1,
   "nav_menu": {},
   "number_sections": true,
   "sideBar": true,
   "skip_h1_title": true,
   "title_cell": "Table of Contents",
   "title_sidebar": "Contents",
   "toc_cell": false,
   "toc_position": {
    "height": "calc(100% - 180px)",
    "left": "10px",
    "top": "150px",
    "width": "335px"
   },
   "toc_section_display": true,
   "toc_window_display": false
  }
 },
 "nbformat": 4,
 "nbformat_minor": 2
}
