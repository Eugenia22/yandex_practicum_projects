{
 "cells": [
  {
   "cell_type": "markdown",
   "metadata": {
    "toc": true
   },
   "source": [
    "<h1>Содержание<span class=\"tocSkip\"></span></h1>\n",
    "<div class=\"toc\"><ul class=\"toc-item\"><li><span><a href=\"#Изучение-данных-из-файла\" data-toc-modified-id=\"Изучение-данных-из-файла-1\"><span class=\"toc-item-num\">1&nbsp;&nbsp;</span>Изучение данных из файла</a></span><ul class=\"toc-item\"><li><span><a href=\"#Вывод\" data-toc-modified-id=\"Вывод-1.1\"><span class=\"toc-item-num\">1.1&nbsp;&nbsp;</span>Вывод</a></span></li></ul></li><li><span><a href=\"#Предобработка-данных\" data-toc-modified-id=\"Предобработка-данных-2\"><span class=\"toc-item-num\">2&nbsp;&nbsp;</span>Предобработка данных</a></span></li><li><span><a href=\"#Расчёты-и-добавление-результатов-в-таблицу\" data-toc-modified-id=\"Расчёты-и-добавление-результатов-в-таблицу-3\"><span class=\"toc-item-num\">3&nbsp;&nbsp;</span>Расчёты и добавление результатов в таблицу</a></span></li><li><span><a href=\"#Исследовательский-анализ-данных\" data-toc-modified-id=\"Исследовательский-анализ-данных-4\"><span class=\"toc-item-num\">4&nbsp;&nbsp;</span>Исследовательский анализ данных</a></span></li><li><span><a href=\"#Общий-вывод\" data-toc-modified-id=\"Общий-вывод-5\"><span class=\"toc-item-num\">5&nbsp;&nbsp;</span>Общий вывод</a></span></li><li><span><a href=\"#Чек-лист-готовности-проекта\" data-toc-modified-id=\"Чек-лист-готовности-проекта-6\"><span class=\"toc-item-num\">6&nbsp;&nbsp;</span>Чек-лист готовности проекта</a></span></li></ul></div>"
   ]
  },
  {
   "cell_type": "markdown",
   "metadata": {},
   "source": [
    "# Исследование объявлений о продаже квартир\n",
    "\n",
    "В вашем распоряжении данные сервиса Яндекс.Недвижимость — архив объявлений о продаже квартир в Санкт-Петербурге и соседних населённых пунктах за несколько лет. Нужно научиться определять рыночную стоимость объектов недвижимости. Ваша задача — установить параметры. Это позволит построить автоматизированную систему: она отследит аномалии и мошенническую деятельность. \n",
    "\n",
    "По каждой квартире на продажу доступны два вида данных. Первые вписаны пользователем, вторые получены автоматически на основе картографических данных. Например, расстояние до центра, аэропорта, ближайшего парка и водоёма. "
   ]
  },
  {
   "cell_type": "markdown",
   "metadata": {},
   "source": [
    "## Изучение данных из файла"
   ]
  },
  {
   "cell_type": "code",
   "execution_count": 1,
   "metadata": {},
   "outputs": [],
   "source": [
    "import pandas as pd\n",
    "import matplotlib.pyplot as plt"
   ]
  },
  {
   "cell_type": "code",
   "execution_count": 2,
   "metadata": {},
   "outputs": [
    {
     "data": {
      "text/html": [
       "<div>\n",
       "<style scoped>\n",
       "    .dataframe tbody tr th:only-of-type {\n",
       "        vertical-align: middle;\n",
       "    }\n",
       "\n",
       "    .dataframe tbody tr th {\n",
       "        vertical-align: top;\n",
       "    }\n",
       "\n",
       "    .dataframe thead th {\n",
       "        text-align: right;\n",
       "    }\n",
       "</style>\n",
       "<table border=\"1\" class=\"dataframe\">\n",
       "  <thead>\n",
       "    <tr style=\"text-align: right;\">\n",
       "      <th></th>\n",
       "      <th>total_images</th>\n",
       "      <th>last_price</th>\n",
       "      <th>total_area</th>\n",
       "      <th>first_day_exposition</th>\n",
       "      <th>rooms</th>\n",
       "      <th>ceiling_height</th>\n",
       "      <th>floors_total</th>\n",
       "      <th>living_area</th>\n",
       "      <th>floor</th>\n",
       "      <th>is_apartment</th>\n",
       "      <th>...</th>\n",
       "      <th>kitchen_area</th>\n",
       "      <th>balcony</th>\n",
       "      <th>locality_name</th>\n",
       "      <th>airports_nearest</th>\n",
       "      <th>cityCenters_nearest</th>\n",
       "      <th>parks_around3000</th>\n",
       "      <th>parks_nearest</th>\n",
       "      <th>ponds_around3000</th>\n",
       "      <th>ponds_nearest</th>\n",
       "      <th>days_exposition</th>\n",
       "    </tr>\n",
       "  </thead>\n",
       "  <tbody>\n",
       "    <tr>\n",
       "      <th>0</th>\n",
       "      <td>20</td>\n",
       "      <td>13000000.0</td>\n",
       "      <td>108.0</td>\n",
       "      <td>2019-03-07T00:00:00</td>\n",
       "      <td>3</td>\n",
       "      <td>2.70</td>\n",
       "      <td>16.0</td>\n",
       "      <td>51.0</td>\n",
       "      <td>8</td>\n",
       "      <td>NaN</td>\n",
       "      <td>...</td>\n",
       "      <td>25.0</td>\n",
       "      <td>NaN</td>\n",
       "      <td>Санкт-Петербург</td>\n",
       "      <td>18863.0</td>\n",
       "      <td>16028.0</td>\n",
       "      <td>1.0</td>\n",
       "      <td>482.0</td>\n",
       "      <td>2.0</td>\n",
       "      <td>755.0</td>\n",
       "      <td>NaN</td>\n",
       "    </tr>\n",
       "    <tr>\n",
       "      <th>1</th>\n",
       "      <td>7</td>\n",
       "      <td>3350000.0</td>\n",
       "      <td>40.4</td>\n",
       "      <td>2018-12-04T00:00:00</td>\n",
       "      <td>1</td>\n",
       "      <td>NaN</td>\n",
       "      <td>11.0</td>\n",
       "      <td>18.6</td>\n",
       "      <td>1</td>\n",
       "      <td>NaN</td>\n",
       "      <td>...</td>\n",
       "      <td>11.0</td>\n",
       "      <td>2.0</td>\n",
       "      <td>посёлок Шушары</td>\n",
       "      <td>12817.0</td>\n",
       "      <td>18603.0</td>\n",
       "      <td>0.0</td>\n",
       "      <td>NaN</td>\n",
       "      <td>0.0</td>\n",
       "      <td>NaN</td>\n",
       "      <td>81.0</td>\n",
       "    </tr>\n",
       "    <tr>\n",
       "      <th>2</th>\n",
       "      <td>10</td>\n",
       "      <td>5196000.0</td>\n",
       "      <td>56.0</td>\n",
       "      <td>2015-08-20T00:00:00</td>\n",
       "      <td>2</td>\n",
       "      <td>NaN</td>\n",
       "      <td>5.0</td>\n",
       "      <td>34.3</td>\n",
       "      <td>4</td>\n",
       "      <td>NaN</td>\n",
       "      <td>...</td>\n",
       "      <td>8.3</td>\n",
       "      <td>0.0</td>\n",
       "      <td>Санкт-Петербург</td>\n",
       "      <td>21741.0</td>\n",
       "      <td>13933.0</td>\n",
       "      <td>1.0</td>\n",
       "      <td>90.0</td>\n",
       "      <td>2.0</td>\n",
       "      <td>574.0</td>\n",
       "      <td>558.0</td>\n",
       "    </tr>\n",
       "    <tr>\n",
       "      <th>3</th>\n",
       "      <td>0</td>\n",
       "      <td>64900000.0</td>\n",
       "      <td>159.0</td>\n",
       "      <td>2015-07-24T00:00:00</td>\n",
       "      <td>3</td>\n",
       "      <td>NaN</td>\n",
       "      <td>14.0</td>\n",
       "      <td>NaN</td>\n",
       "      <td>9</td>\n",
       "      <td>NaN</td>\n",
       "      <td>...</td>\n",
       "      <td>NaN</td>\n",
       "      <td>0.0</td>\n",
       "      <td>Санкт-Петербург</td>\n",
       "      <td>28098.0</td>\n",
       "      <td>6800.0</td>\n",
       "      <td>2.0</td>\n",
       "      <td>84.0</td>\n",
       "      <td>3.0</td>\n",
       "      <td>234.0</td>\n",
       "      <td>424.0</td>\n",
       "    </tr>\n",
       "    <tr>\n",
       "      <th>4</th>\n",
       "      <td>2</td>\n",
       "      <td>10000000.0</td>\n",
       "      <td>100.0</td>\n",
       "      <td>2018-06-19T00:00:00</td>\n",
       "      <td>2</td>\n",
       "      <td>3.03</td>\n",
       "      <td>14.0</td>\n",
       "      <td>32.0</td>\n",
       "      <td>13</td>\n",
       "      <td>NaN</td>\n",
       "      <td>...</td>\n",
       "      <td>41.0</td>\n",
       "      <td>NaN</td>\n",
       "      <td>Санкт-Петербург</td>\n",
       "      <td>31856.0</td>\n",
       "      <td>8098.0</td>\n",
       "      <td>2.0</td>\n",
       "      <td>112.0</td>\n",
       "      <td>1.0</td>\n",
       "      <td>48.0</td>\n",
       "      <td>121.0</td>\n",
       "    </tr>\n",
       "  </tbody>\n",
       "</table>\n",
       "<p>5 rows × 22 columns</p>\n",
       "</div>"
      ],
      "text/plain": [
       "   total_images  last_price  total_area first_day_exposition  rooms  \\\n",
       "0            20  13000000.0       108.0  2019-03-07T00:00:00      3   \n",
       "1             7   3350000.0        40.4  2018-12-04T00:00:00      1   \n",
       "2            10   5196000.0        56.0  2015-08-20T00:00:00      2   \n",
       "3             0  64900000.0       159.0  2015-07-24T00:00:00      3   \n",
       "4             2  10000000.0       100.0  2018-06-19T00:00:00      2   \n",
       "\n",
       "   ceiling_height  floors_total  living_area  floor is_apartment  ...  \\\n",
       "0            2.70          16.0         51.0      8          NaN  ...   \n",
       "1             NaN          11.0         18.6      1          NaN  ...   \n",
       "2             NaN           5.0         34.3      4          NaN  ...   \n",
       "3             NaN          14.0          NaN      9          NaN  ...   \n",
       "4            3.03          14.0         32.0     13          NaN  ...   \n",
       "\n",
       "   kitchen_area  balcony    locality_name  airports_nearest  \\\n",
       "0          25.0      NaN  Санкт-Петербург           18863.0   \n",
       "1          11.0      2.0   посёлок Шушары           12817.0   \n",
       "2           8.3      0.0  Санкт-Петербург           21741.0   \n",
       "3           NaN      0.0  Санкт-Петербург           28098.0   \n",
       "4          41.0      NaN  Санкт-Петербург           31856.0   \n",
       "\n",
       "  cityCenters_nearest  parks_around3000  parks_nearest  ponds_around3000  \\\n",
       "0             16028.0               1.0          482.0               2.0   \n",
       "1             18603.0               0.0            NaN               0.0   \n",
       "2             13933.0               1.0           90.0               2.0   \n",
       "3              6800.0               2.0           84.0               3.0   \n",
       "4              8098.0               2.0          112.0               1.0   \n",
       "\n",
       "   ponds_nearest  days_exposition  \n",
       "0          755.0              NaN  \n",
       "1            NaN             81.0  \n",
       "2          574.0            558.0  \n",
       "3          234.0            424.0  \n",
       "4           48.0            121.0  \n",
       "\n",
       "[5 rows x 22 columns]"
      ]
     },
     "execution_count": 2,
     "metadata": {},
     "output_type": "execute_result"
    }
   ],
   "source": [
    "df = pd.read_csv('real_estate_data.csv', sep='\\t')           \n",
    "df.head() "
   ]
  },
  {
   "cell_type": "code",
   "execution_count": 3,
   "metadata": {},
   "outputs": [
    {
     "data": {
      "text/html": [
       "<div>\n",
       "<style scoped>\n",
       "    .dataframe tbody tr th:only-of-type {\n",
       "        vertical-align: middle;\n",
       "    }\n",
       "\n",
       "    .dataframe tbody tr th {\n",
       "        vertical-align: top;\n",
       "    }\n",
       "\n",
       "    .dataframe thead th {\n",
       "        text-align: right;\n",
       "    }\n",
       "</style>\n",
       "<table border=\"1\" class=\"dataframe\">\n",
       "  <thead>\n",
       "    <tr style=\"text-align: right;\">\n",
       "      <th></th>\n",
       "      <th>count</th>\n",
       "      <th>mean</th>\n",
       "      <th>std</th>\n",
       "      <th>min</th>\n",
       "      <th>25%</th>\n",
       "      <th>50%</th>\n",
       "      <th>75%</th>\n",
       "      <th>max</th>\n",
       "    </tr>\n",
       "  </thead>\n",
       "  <tbody>\n",
       "    <tr>\n",
       "      <th>total_images</th>\n",
       "      <td>23699.0</td>\n",
       "      <td>9.858475e+00</td>\n",
       "      <td>5.682529e+00</td>\n",
       "      <td>0.0</td>\n",
       "      <td>6.00</td>\n",
       "      <td>9.00</td>\n",
       "      <td>14.0</td>\n",
       "      <td>50.0</td>\n",
       "    </tr>\n",
       "    <tr>\n",
       "      <th>last_price</th>\n",
       "      <td>23699.0</td>\n",
       "      <td>6.541549e+06</td>\n",
       "      <td>1.088701e+07</td>\n",
       "      <td>12190.0</td>\n",
       "      <td>3400000.00</td>\n",
       "      <td>4650000.00</td>\n",
       "      <td>6800000.0</td>\n",
       "      <td>763000000.0</td>\n",
       "    </tr>\n",
       "    <tr>\n",
       "      <th>total_area</th>\n",
       "      <td>23699.0</td>\n",
       "      <td>6.034865e+01</td>\n",
       "      <td>3.565408e+01</td>\n",
       "      <td>12.0</td>\n",
       "      <td>40.00</td>\n",
       "      <td>52.00</td>\n",
       "      <td>69.9</td>\n",
       "      <td>900.0</td>\n",
       "    </tr>\n",
       "    <tr>\n",
       "      <th>rooms</th>\n",
       "      <td>23699.0</td>\n",
       "      <td>2.070636e+00</td>\n",
       "      <td>1.078405e+00</td>\n",
       "      <td>0.0</td>\n",
       "      <td>1.00</td>\n",
       "      <td>2.00</td>\n",
       "      <td>3.0</td>\n",
       "      <td>19.0</td>\n",
       "    </tr>\n",
       "    <tr>\n",
       "      <th>ceiling_height</th>\n",
       "      <td>14504.0</td>\n",
       "      <td>2.771499e+00</td>\n",
       "      <td>1.261056e+00</td>\n",
       "      <td>1.0</td>\n",
       "      <td>2.52</td>\n",
       "      <td>2.65</td>\n",
       "      <td>2.8</td>\n",
       "      <td>100.0</td>\n",
       "    </tr>\n",
       "    <tr>\n",
       "      <th>floors_total</th>\n",
       "      <td>23613.0</td>\n",
       "      <td>1.067382e+01</td>\n",
       "      <td>6.597173e+00</td>\n",
       "      <td>1.0</td>\n",
       "      <td>5.00</td>\n",
       "      <td>9.00</td>\n",
       "      <td>16.0</td>\n",
       "      <td>60.0</td>\n",
       "    </tr>\n",
       "    <tr>\n",
       "      <th>living_area</th>\n",
       "      <td>21796.0</td>\n",
       "      <td>3.445785e+01</td>\n",
       "      <td>2.203045e+01</td>\n",
       "      <td>2.0</td>\n",
       "      <td>18.60</td>\n",
       "      <td>30.00</td>\n",
       "      <td>42.3</td>\n",
       "      <td>409.7</td>\n",
       "    </tr>\n",
       "    <tr>\n",
       "      <th>floor</th>\n",
       "      <td>23699.0</td>\n",
       "      <td>5.892358e+00</td>\n",
       "      <td>4.885249e+00</td>\n",
       "      <td>1.0</td>\n",
       "      <td>2.00</td>\n",
       "      <td>4.00</td>\n",
       "      <td>8.0</td>\n",
       "      <td>33.0</td>\n",
       "    </tr>\n",
       "    <tr>\n",
       "      <th>kitchen_area</th>\n",
       "      <td>21421.0</td>\n",
       "      <td>1.056981e+01</td>\n",
       "      <td>5.905438e+00</td>\n",
       "      <td>1.3</td>\n",
       "      <td>7.00</td>\n",
       "      <td>9.10</td>\n",
       "      <td>12.0</td>\n",
       "      <td>112.0</td>\n",
       "    </tr>\n",
       "    <tr>\n",
       "      <th>balcony</th>\n",
       "      <td>12180.0</td>\n",
       "      <td>1.150082e+00</td>\n",
       "      <td>1.071300e+00</td>\n",
       "      <td>0.0</td>\n",
       "      <td>0.00</td>\n",
       "      <td>1.00</td>\n",
       "      <td>2.0</td>\n",
       "      <td>5.0</td>\n",
       "    </tr>\n",
       "    <tr>\n",
       "      <th>airports_nearest</th>\n",
       "      <td>18157.0</td>\n",
       "      <td>2.879367e+04</td>\n",
       "      <td>1.263088e+04</td>\n",
       "      <td>0.0</td>\n",
       "      <td>18585.00</td>\n",
       "      <td>26726.00</td>\n",
       "      <td>37273.0</td>\n",
       "      <td>84869.0</td>\n",
       "    </tr>\n",
       "    <tr>\n",
       "      <th>cityCenters_nearest</th>\n",
       "      <td>18180.0</td>\n",
       "      <td>1.419128e+04</td>\n",
       "      <td>8.608386e+03</td>\n",
       "      <td>181.0</td>\n",
       "      <td>9238.00</td>\n",
       "      <td>13098.50</td>\n",
       "      <td>16293.0</td>\n",
       "      <td>65968.0</td>\n",
       "    </tr>\n",
       "    <tr>\n",
       "      <th>parks_around3000</th>\n",
       "      <td>18181.0</td>\n",
       "      <td>6.114075e-01</td>\n",
       "      <td>8.020736e-01</td>\n",
       "      <td>0.0</td>\n",
       "      <td>0.00</td>\n",
       "      <td>0.00</td>\n",
       "      <td>1.0</td>\n",
       "      <td>3.0</td>\n",
       "    </tr>\n",
       "    <tr>\n",
       "      <th>parks_nearest</th>\n",
       "      <td>8079.0</td>\n",
       "      <td>4.908046e+02</td>\n",
       "      <td>3.423180e+02</td>\n",
       "      <td>1.0</td>\n",
       "      <td>288.00</td>\n",
       "      <td>455.00</td>\n",
       "      <td>612.0</td>\n",
       "      <td>3190.0</td>\n",
       "    </tr>\n",
       "    <tr>\n",
       "      <th>ponds_around3000</th>\n",
       "      <td>18181.0</td>\n",
       "      <td>7.702547e-01</td>\n",
       "      <td>9.383456e-01</td>\n",
       "      <td>0.0</td>\n",
       "      <td>0.00</td>\n",
       "      <td>1.00</td>\n",
       "      <td>1.0</td>\n",
       "      <td>3.0</td>\n",
       "    </tr>\n",
       "    <tr>\n",
       "      <th>ponds_nearest</th>\n",
       "      <td>9110.0</td>\n",
       "      <td>5.179809e+02</td>\n",
       "      <td>2.777206e+02</td>\n",
       "      <td>13.0</td>\n",
       "      <td>294.00</td>\n",
       "      <td>502.00</td>\n",
       "      <td>729.0</td>\n",
       "      <td>1344.0</td>\n",
       "    </tr>\n",
       "    <tr>\n",
       "      <th>days_exposition</th>\n",
       "      <td>20518.0</td>\n",
       "      <td>1.808886e+02</td>\n",
       "      <td>2.197280e+02</td>\n",
       "      <td>1.0</td>\n",
       "      <td>45.00</td>\n",
       "      <td>95.00</td>\n",
       "      <td>232.0</td>\n",
       "      <td>1580.0</td>\n",
       "    </tr>\n",
       "  </tbody>\n",
       "</table>\n",
       "</div>"
      ],
      "text/plain": [
       "                       count          mean           std      min         25%  \\\n",
       "total_images         23699.0  9.858475e+00  5.682529e+00      0.0        6.00   \n",
       "last_price           23699.0  6.541549e+06  1.088701e+07  12190.0  3400000.00   \n",
       "total_area           23699.0  6.034865e+01  3.565408e+01     12.0       40.00   \n",
       "rooms                23699.0  2.070636e+00  1.078405e+00      0.0        1.00   \n",
       "ceiling_height       14504.0  2.771499e+00  1.261056e+00      1.0        2.52   \n",
       "floors_total         23613.0  1.067382e+01  6.597173e+00      1.0        5.00   \n",
       "living_area          21796.0  3.445785e+01  2.203045e+01      2.0       18.60   \n",
       "floor                23699.0  5.892358e+00  4.885249e+00      1.0        2.00   \n",
       "kitchen_area         21421.0  1.056981e+01  5.905438e+00      1.3        7.00   \n",
       "balcony              12180.0  1.150082e+00  1.071300e+00      0.0        0.00   \n",
       "airports_nearest     18157.0  2.879367e+04  1.263088e+04      0.0    18585.00   \n",
       "cityCenters_nearest  18180.0  1.419128e+04  8.608386e+03    181.0     9238.00   \n",
       "parks_around3000     18181.0  6.114075e-01  8.020736e-01      0.0        0.00   \n",
       "parks_nearest         8079.0  4.908046e+02  3.423180e+02      1.0      288.00   \n",
       "ponds_around3000     18181.0  7.702547e-01  9.383456e-01      0.0        0.00   \n",
       "ponds_nearest         9110.0  5.179809e+02  2.777206e+02     13.0      294.00   \n",
       "days_exposition      20518.0  1.808886e+02  2.197280e+02      1.0       45.00   \n",
       "\n",
       "                            50%        75%          max  \n",
       "total_images               9.00       14.0         50.0  \n",
       "last_price           4650000.00  6800000.0  763000000.0  \n",
       "total_area                52.00       69.9        900.0  \n",
       "rooms                      2.00        3.0         19.0  \n",
       "ceiling_height             2.65        2.8        100.0  \n",
       "floors_total               9.00       16.0         60.0  \n",
       "living_area               30.00       42.3        409.7  \n",
       "floor                      4.00        8.0         33.0  \n",
       "kitchen_area               9.10       12.0        112.0  \n",
       "balcony                    1.00        2.0          5.0  \n",
       "airports_nearest       26726.00    37273.0      84869.0  \n",
       "cityCenters_nearest    13098.50    16293.0      65968.0  \n",
       "parks_around3000           0.00        1.0          3.0  \n",
       "parks_nearest            455.00      612.0       3190.0  \n",
       "ponds_around3000           1.00        1.0          3.0  \n",
       "ponds_nearest            502.00      729.0       1344.0  \n",
       "days_exposition           95.00      232.0       1580.0  "
      ]
     },
     "execution_count": 3,
     "metadata": {},
     "output_type": "execute_result"
    }
   ],
   "source": [
    "df.describe().T"
   ]
  },
  {
   "cell_type": "code",
   "execution_count": 4,
   "metadata": {},
   "outputs": [
    {
     "name": "stdout",
     "output_type": "stream",
     "text": [
      "<class 'pandas.core.frame.DataFrame'>\n",
      "RangeIndex: 23699 entries, 0 to 23698\n",
      "Data columns (total 22 columns):\n",
      " #   Column                Non-Null Count  Dtype  \n",
      "---  ------                --------------  -----  \n",
      " 0   total_images          23699 non-null  int64  \n",
      " 1   last_price            23699 non-null  float64\n",
      " 2   total_area            23699 non-null  float64\n",
      " 3   first_day_exposition  23699 non-null  object \n",
      " 4   rooms                 23699 non-null  int64  \n",
      " 5   ceiling_height        14504 non-null  float64\n",
      " 6   floors_total          23613 non-null  float64\n",
      " 7   living_area           21796 non-null  float64\n",
      " 8   floor                 23699 non-null  int64  \n",
      " 9   is_apartment          2775 non-null   object \n",
      " 10  studio                23699 non-null  bool   \n",
      " 11  open_plan             23699 non-null  bool   \n",
      " 12  kitchen_area          21421 non-null  float64\n",
      " 13  balcony               12180 non-null  float64\n",
      " 14  locality_name         23650 non-null  object \n",
      " 15  airports_nearest      18157 non-null  float64\n",
      " 16  cityCenters_nearest   18180 non-null  float64\n",
      " 17  parks_around3000      18181 non-null  float64\n",
      " 18  parks_nearest         8079 non-null   float64\n",
      " 19  ponds_around3000      18181 non-null  float64\n",
      " 20  ponds_nearest         9110 non-null   float64\n",
      " 21  days_exposition       20518 non-null  float64\n",
      "dtypes: bool(2), float64(14), int64(3), object(3)\n",
      "memory usage: 3.7+ MB\n"
     ]
    }
   ],
   "source": [
    "df.info()"
   ]
  },
  {
   "cell_type": "markdown",
   "metadata": {},
   "source": [
    "### Вывод"
   ]
  },
  {
   "cell_type": "markdown",
   "metadata": {},
   "source": [
    "В таблице содержится 23699 записей и 22 столбца с разными типами данных. Много пустых значений, которые необходимо заменить или удалить."
   ]
  },
  {
   "cell_type": "markdown",
   "metadata": {},
   "source": [
    "## Предобработка данных"
   ]
  },
  {
   "cell_type": "code",
   "execution_count": 5,
   "metadata": {},
   "outputs": [
    {
     "data": {
      "text/plain": [
       "total_images                0\n",
       "last_price                  0\n",
       "total_area                  0\n",
       "first_day_exposition        0\n",
       "rooms                       0\n",
       "ceiling_height           9195\n",
       "floors_total               86\n",
       "living_area              1903\n",
       "floor                       0\n",
       "is_apartment            20924\n",
       "studio                      0\n",
       "open_plan                   0\n",
       "kitchen_area             2278\n",
       "balcony                 11519\n",
       "locality_name              49\n",
       "airports_nearest         5542\n",
       "cityCenters_nearest      5519\n",
       "parks_around3000         5518\n",
       "parks_nearest           15620\n",
       "ponds_around3000         5518\n",
       "ponds_nearest           14589\n",
       "days_exposition          3181\n",
       "dtype: int64"
      ]
     },
     "execution_count": 5,
     "metadata": {},
     "output_type": "execute_result"
    }
   ],
   "source": [
    "df.isnull().sum()"
   ]
  },
  {
   "cell_type": "markdown",
   "metadata": {},
   "source": [
    "В таблице много пропущенных значений. Часть данных, такие как информация по аэропортам, паркам и прудам рядом, можно оставить пустыми. Они нам не понадобятся в исследовании. \n",
    "С остальным надо поработать.\n",
    "Пустые значения в данных объявлению могли появится из-за присутствия необязательных полей для заполнения при размещении объявлений. Пустые данные в картографических показателях возможно говорят об отсутствии данных объектов рядом с квартирой.  "
   ]
  },
  {
   "cell_type": "code",
   "execution_count": 6,
   "metadata": {},
   "outputs": [
    {
     "data": {
      "text/plain": [
       "0    2.70\n",
       "1    2.65\n",
       "2    2.65\n",
       "3    2.65\n",
       "4    3.03\n",
       "Name: ceiling_height, dtype: float64"
      ]
     },
     "execution_count": 6,
     "metadata": {},
     "output_type": "execute_result"
    }
   ],
   "source": [
    "df['ceiling_height'] = df['ceiling_height'].fillna(df['ceiling_height'].median())\n",
    "df['ceiling_height'].head()"
   ]
  },
  {
   "cell_type": "markdown",
   "metadata": {},
   "source": [
    "Высота потолков ни от каких имеющихся данных не зависит, заполним медианным значением."
   ]
  },
  {
   "cell_type": "code",
   "execution_count": 7,
   "metadata": {},
   "outputs": [
    {
     "name": "stdout",
     "output_type": "stream",
     "text": [
      "<class 'pandas.core.frame.DataFrame'>\n",
      "Int64Index: 23613 entries, 0 to 23698\n",
      "Data columns (total 22 columns):\n",
      " #   Column                Non-Null Count  Dtype  \n",
      "---  ------                --------------  -----  \n",
      " 0   total_images          23613 non-null  int64  \n",
      " 1   last_price            23613 non-null  float64\n",
      " 2   total_area            23613 non-null  float64\n",
      " 3   first_day_exposition  23613 non-null  object \n",
      " 4   rooms                 23613 non-null  int64  \n",
      " 5   ceiling_height        23613 non-null  float64\n",
      " 6   floors_total          23613 non-null  float64\n",
      " 7   living_area           21743 non-null  float64\n",
      " 8   floor                 23613 non-null  int64  \n",
      " 9   is_apartment          2775 non-null   object \n",
      " 10  studio                23613 non-null  bool   \n",
      " 11  open_plan             23613 non-null  bool   \n",
      " 12  kitchen_area          21382 non-null  float64\n",
      " 13  balcony               12133 non-null  float64\n",
      " 14  locality_name         23565 non-null  object \n",
      " 15  airports_nearest      18081 non-null  float64\n",
      " 16  cityCenters_nearest   18104 non-null  float64\n",
      " 17  parks_around3000      18105 non-null  float64\n",
      " 18  parks_nearest         8045 non-null   float64\n",
      " 19  ponds_around3000      18105 non-null  float64\n",
      " 20  ponds_nearest         9061 non-null   float64\n",
      " 21  days_exposition       20441 non-null  float64\n",
      "dtypes: bool(2), float64(14), int64(3), object(3)\n",
      "memory usage: 3.8+ MB\n"
     ]
    }
   ],
   "source": [
    "df.dropna(subset=['floors_total'], inplace = True)\n",
    "df.info()"
   ]
  },
  {
   "cell_type": "markdown",
   "metadata": {},
   "source": [
    "Столбец с общим количеством этажей нам понадобится в дальнейшем, пропущенных значений в нем мало, и у нас нет данных для заполнений этих значений.\n",
    "Удалим строки с пропущенными значениями."
   ]
  },
  {
   "cell_type": "code",
   "execution_count": 8,
   "metadata": {},
   "outputs": [
    {
     "name": "stdout",
     "output_type": "stream",
     "text": [
      "64\n"
     ]
    }
   ],
   "source": [
    "print(len(df[(df['living_area'] + df['kitchen_area']) > df['total_area']]))"
   ]
  },
  {
   "cell_type": "code",
   "execution_count": 9,
   "metadata": {},
   "outputs": [],
   "source": [
    "df = df.drop(df[(df['living_area'] + df['kitchen_area']) > df['total_area']].index)"
   ]
  },
  {
   "cell_type": "markdown",
   "metadata": {},
   "source": [
    "Проверили, есть ли квартиры, у которых жилая площадь и площадь кухни в сумме больше общей площади. Удалили такие объявления. Их доля небольшая, но данные в них, вероятнее всего, внесены некорректно."
   ]
  },
  {
   "cell_type": "code",
   "execution_count": 10,
   "metadata": {},
   "outputs": [
    {
     "data": {
      "text/plain": [
       "0    51.00\n",
       "1    18.60\n",
       "2    34.30\n",
       "3    95.00\n",
       "4    32.00\n",
       "5    14.40\n",
       "6    10.60\n",
       "7    44.30\n",
       "8    15.43\n",
       "9    43.60\n",
       "Name: living_area, dtype: float64"
      ]
     },
     "execution_count": 10,
     "metadata": {},
     "output_type": "execute_result"
    }
   ],
   "source": [
    "df['living_area'] = df['living_area'].fillna(df.groupby('total_area')['living_area'].transform('median')) \n",
    "df['living_area'].head(10)"
   ]
  },
  {
   "cell_type": "markdown",
   "metadata": {},
   "source": [
    "Жилая площадь больше всего зависит от общей площади. Сгруппировали площадь по общей, расчитали медианные значения жилой площади и заполнили пустые значения."
   ]
  },
  {
   "cell_type": "code",
   "execution_count": 13,
   "metadata": {},
   "outputs": [
    {
     "data": {
      "text/plain": [
       "0.571"
      ]
     },
     "execution_count": 13,
     "metadata": {},
     "output_type": "execute_result"
    }
   ],
   "source": [
    "index_area = round((df['living_area'] / df['total_area']).median(), 3)\n",
    "index_area"
   ]
  },
  {
   "cell_type": "code",
   "execution_count": 14,
   "metadata": {},
   "outputs": [
    {
     "data": {
      "text/plain": [
       "count    23549.000000\n",
       "mean        34.620508\n",
       "std         22.463841\n",
       "min          2.000000\n",
       "25%         18.600000\n",
       "50%         30.000000\n",
       "75%         42.300000\n",
       "max        409.700000\n",
       "Name: living_area, dtype: float64"
      ]
     },
     "execution_count": 14,
     "metadata": {},
     "output_type": "execute_result"
    }
   ],
   "source": [
    "df['living_area'] = df['living_area'].fillna(df['total_area'] * index_area) \n",
    "df['living_area'].describe()"
   ]
  },
  {
   "cell_type": "markdown",
   "metadata": {},
   "source": [
    "Но у нас остались еще пустые значения. Расчитали средний коэффициент доли жилой площади в общей и заполнили оставшиеся пустые данные."
   ]
  },
  {
   "cell_type": "code",
   "execution_count": 15,
   "metadata": {},
   "outputs": [
    {
     "name": "stdout",
     "output_type": "stream",
     "text": [
      "9\n"
     ]
    }
   ],
   "source": [
    "print(len(df[(df['living_area'] + df['kitchen_area']) > df['total_area']]))"
   ]
  },
  {
   "cell_type": "code",
   "execution_count": 16,
   "metadata": {},
   "outputs": [
    {
     "name": "stdout",
     "output_type": "stream",
     "text": [
      "<class 'pandas.core.frame.DataFrame'>\n",
      "Int64Index: 23540 entries, 0 to 23698\n",
      "Data columns (total 22 columns):\n",
      " #   Column                Non-Null Count  Dtype  \n",
      "---  ------                --------------  -----  \n",
      " 0   total_images          23540 non-null  int64  \n",
      " 1   last_price            23540 non-null  float64\n",
      " 2   total_area            23540 non-null  float64\n",
      " 3   first_day_exposition  23540 non-null  object \n",
      " 4   rooms                 23540 non-null  int64  \n",
      " 5   ceiling_height        23540 non-null  float64\n",
      " 6   floors_total          23540 non-null  float64\n",
      " 7   living_area           23540 non-null  float64\n",
      " 8   floor                 23540 non-null  int64  \n",
      " 9   is_apartment          2756 non-null   object \n",
      " 10  studio                23540 non-null  bool   \n",
      " 11  open_plan             23540 non-null  bool   \n",
      " 12  kitchen_area          21309 non-null  float64\n",
      " 13  balcony               12085 non-null  float64\n",
      " 14  locality_name         23492 non-null  object \n",
      " 15  airports_nearest      18030 non-null  float64\n",
      " 16  cityCenters_nearest   18053 non-null  float64\n",
      " 17  parks_around3000      18054 non-null  float64\n",
      " 18  parks_nearest         8022 non-null   float64\n",
      " 19  ponds_around3000      18054 non-null  float64\n",
      " 20  ponds_nearest         9036 non-null   float64\n",
      " 21  days_exposition       20378 non-null  float64\n",
      "dtypes: bool(2), float64(14), int64(3), object(3)\n",
      "memory usage: 3.8+ MB\n"
     ]
    }
   ],
   "source": [
    "df = df.drop(df[df['living_area'] + df['kitchen_area'] > df['total_area']].index)\n",
    "df.info()"
   ]
  },
  {
   "cell_type": "markdown",
   "metadata": {},
   "source": [
    "После заполнения жилой площади еще раз проверили, есть ли объявления с некорректно расчитанной площадью. Таких объявлений осталось 9. Удалили эти строки."
   ]
  },
  {
   "cell_type": "code",
   "execution_count": 17,
   "metadata": {},
   "outputs": [
    {
     "name": "stdout",
     "output_type": "stream",
     "text": [
      "0.4117647058823529\n"
     ]
    }
   ],
   "source": [
    "rest_area = (df['kitchen_area'] / (df['total_area'] - df['living_area'])).median()\n",
    "print(rest_area)"
   ]
  },
  {
   "cell_type": "code",
   "execution_count": 18,
   "metadata": {},
   "outputs": [
    {
     "data": {
      "text/plain": [
       "count    23540.000000\n",
       "mean        10.452228\n",
       "std          6.047784\n",
       "min          0.000000\n",
       "25%          7.000000\n",
       "50%          9.000000\n",
       "75%         11.900000\n",
       "max        112.000000\n",
       "Name: kitchen_area, dtype: float64"
      ]
     },
     "execution_count": 18,
     "metadata": {},
     "output_type": "execute_result"
    }
   ],
   "source": [
    "df['kitchen_area'] = df['kitchen_area'].fillna((df['total_area'] - df['living_area']) * rest_area)\n",
    "df['kitchen_area'].describe()"
   ]
  },
  {
   "cell_type": "markdown",
   "metadata": {},
   "source": [
    "Расчитали медианное отношение площади кухни к нежилой площади квартиры. Заполнили пропущенные значения площади кухни, используя этот индекс."
   ]
  },
  {
   "cell_type": "code",
   "execution_count": 19,
   "metadata": {},
   "outputs": [
    {
     "name": "stdout",
     "output_type": "stream",
     "text": [
      "0\n"
     ]
    }
   ],
   "source": [
    "print(len(df[df['kitchen_area'] + df['living_area'] > df['total_area']]))"
   ]
  },
  {
   "cell_type": "code",
   "execution_count": 20,
   "metadata": {},
   "outputs": [],
   "source": [
    "df['locality_name'].isnull().sum()\n",
    "df['locality_name'] = df['locality_name'].fillna('Unknown') "
   ]
  },
  {
   "cell_type": "markdown",
   "metadata": {},
   "source": [
    "Доля пустых значений совсем маленькая, найти названия мы никак не можем, поэтому заменим данные на Unknown"
   ]
  },
  {
   "cell_type": "code",
   "execution_count": 21,
   "metadata": {},
   "outputs": [
    {
     "data": {
      "text/plain": [
       "count    23540.000000\n",
       "mean       156.671198\n",
       "std        213.596240\n",
       "min          0.000000\n",
       "25%         22.000000\n",
       "50%         73.500000\n",
       "75%        199.000000\n",
       "max       1580.000000\n",
       "Name: days_exposition, dtype: float64"
      ]
     },
     "execution_count": 21,
     "metadata": {},
     "output_type": "execute_result"
    }
   ],
   "source": [
    "df['days_exposition'] = df['days_exposition'].fillna(0)\n",
    "df['days_exposition'].describe()"
   ]
  },
  {
   "cell_type": "markdown",
   "metadata": {},
   "source": [
    "Пустые дни в данном столбце могут говорить и о том, что объявление еще не снято на момент выгрузки, и о том, что, может, оно автоматически снято системой, а значит не факт, что квартира продана. лучше данные заполнить нулями, и исключать при дальнейшем исследовании."
   ]
  },
  {
   "cell_type": "markdown",
   "metadata": {},
   "source": [
    "Остальные значения нам не понадобятся для исследований, оставим их незаполненными. "
   ]
  },
  {
   "cell_type": "code",
   "execution_count": 22,
   "metadata": {},
   "outputs": [],
   "source": [
    "df['locality_name'].value_counts()\n",
    "def names(places):\n",
    "    for words in places.split():\n",
    "        if words[0].isupper():\n",
    "            return words\n",
    "df['locality_name'] = df['locality_name'].apply(names) \n"
   ]
  },
  {
   "cell_type": "markdown",
   "metadata": {},
   "source": [
    "Для дальнейшего исследования отбросили типы населенных пунктов и оставили только названия с заглавной буквы."
   ]
  },
  {
   "cell_type": "code",
   "execution_count": 23,
   "metadata": {},
   "outputs": [],
   "source": [
    "df['first_day_exposition'] = pd.to_datetime(df['first_day_exposition'], format='%Y-%m-%d %H:%M:%S')"
   ]
  },
  {
   "cell_type": "markdown",
   "metadata": {},
   "source": [
    "Перевели дату объявления в нужный формат."
   ]
  },
  {
   "cell_type": "code",
   "execution_count": 24,
   "metadata": {},
   "outputs": [
    {
     "name": "stdout",
     "output_type": "stream",
     "text": [
      "<class 'pandas.core.frame.DataFrame'>\n",
      "Int64Index: 23540 entries, 0 to 23698\n",
      "Data columns (total 22 columns):\n",
      " #   Column                Non-Null Count  Dtype         \n",
      "---  ------                --------------  -----         \n",
      " 0   total_images          23540 non-null  int64         \n",
      " 1   last_price            23540 non-null  float64       \n",
      " 2   total_area            23540 non-null  float64       \n",
      " 3   first_day_exposition  23540 non-null  datetime64[ns]\n",
      " 4   rooms                 23540 non-null  int64         \n",
      " 5   ceiling_height        23540 non-null  float64       \n",
      " 6   floors_total          23540 non-null  float64       \n",
      " 7   living_area           23540 non-null  float64       \n",
      " 8   floor                 23540 non-null  int64         \n",
      " 9   is_apartment          2756 non-null   object        \n",
      " 10  studio                23540 non-null  bool          \n",
      " 11  open_plan             23540 non-null  bool          \n",
      " 12  kitchen_area          23540 non-null  float64       \n",
      " 13  balcony               12085 non-null  float64       \n",
      " 14  locality_name         23540 non-null  object        \n",
      " 15  airports_nearest      18030 non-null  float64       \n",
      " 16  cityCenters_nearest   18053 non-null  float64       \n",
      " 17  parks_around3000      18054 non-null  float64       \n",
      " 18  parks_nearest         8022 non-null   float64       \n",
      " 19  ponds_around3000      18054 non-null  float64       \n",
      " 20  ponds_nearest         9036 non-null   float64       \n",
      " 21  days_exposition       23540 non-null  float64       \n",
      "dtypes: bool(2), datetime64[ns](1), float64(14), int64(3), object(2)\n",
      "memory usage: 6.6 MB\n"
     ]
    }
   ],
   "source": [
    "df.info(memory_usage='deep')"
   ]
  },
  {
   "cell_type": "code",
   "execution_count": 25,
   "metadata": {},
   "outputs": [
    {
     "name": "stdout",
     "output_type": "stream",
     "text": [
      "<class 'pandas.core.frame.DataFrame'>\n",
      "Int64Index: 23540 entries, 0 to 23698\n",
      "Data columns (total 22 columns):\n",
      " #   Column                Non-Null Count  Dtype         \n",
      "---  ------                --------------  -----         \n",
      " 0   total_images          23540 non-null  uint8         \n",
      " 1   last_price            23540 non-null  float32       \n",
      " 2   total_area            23540 non-null  float32       \n",
      " 3   first_day_exposition  23540 non-null  datetime64[ns]\n",
      " 4   rooms                 23540 non-null  uint8         \n",
      " 5   ceiling_height        23540 non-null  float32       \n",
      " 6   floors_total          23540 non-null  float32       \n",
      " 7   living_area           23540 non-null  float32       \n",
      " 8   floor                 23540 non-null  uint8         \n",
      " 9   is_apartment          2756 non-null   object        \n",
      " 10  studio                23540 non-null  bool          \n",
      " 11  open_plan             23540 non-null  bool          \n",
      " 12  kitchen_area          23540 non-null  float32       \n",
      " 13  balcony               12085 non-null  float32       \n",
      " 14  locality_name         23540 non-null  object        \n",
      " 15  airports_nearest      18030 non-null  float32       \n",
      " 16  cityCenters_nearest   18053 non-null  float32       \n",
      " 17  parks_around3000      18054 non-null  float32       \n",
      " 18  parks_nearest         8022 non-null   float32       \n",
      " 19  ponds_around3000      18054 non-null  float32       \n",
      " 20  ponds_nearest         9036 non-null   float32       \n",
      " 21  days_exposition       23540 non-null  float32       \n",
      "dtypes: bool(2), datetime64[ns](1), float32(14), object(2), uint8(3)\n",
      "memory usage: 4.8 MB\n"
     ]
    }
   ],
   "source": [
    "df_int = df.select_dtypes(include = ['int'])\n",
    "df_float = df.select_dtypes(include = ['float'])\n",
    "\n",
    "converted_int = df_int.apply(pd.to_numeric, downcast = 'unsigned')\n",
    "converted_float = df_float.apply(pd.to_numeric, downcast = 'float')\n",
    "\n",
    "df[converted_int.columns] = converted_int\n",
    "df[converted_float.columns] = converted_float\n",
    "df.info(memory_usage='deep')"
   ]
  },
  {
   "cell_type": "code",
   "execution_count": 26,
   "metadata": {},
   "outputs": [
    {
     "data": {
      "text/html": [
       "<div>\n",
       "<style scoped>\n",
       "    .dataframe tbody tr th:only-of-type {\n",
       "        vertical-align: middle;\n",
       "    }\n",
       "\n",
       "    .dataframe tbody tr th {\n",
       "        vertical-align: top;\n",
       "    }\n",
       "\n",
       "    .dataframe thead th {\n",
       "        text-align: right;\n",
       "    }\n",
       "</style>\n",
       "<table border=\"1\" class=\"dataframe\">\n",
       "  <thead>\n",
       "    <tr style=\"text-align: right;\">\n",
       "      <th></th>\n",
       "      <th>total_images</th>\n",
       "      <th>last_price</th>\n",
       "      <th>total_area</th>\n",
       "      <th>first_day_exposition</th>\n",
       "      <th>rooms</th>\n",
       "      <th>ceiling_height</th>\n",
       "      <th>floors_total</th>\n",
       "      <th>living_area</th>\n",
       "      <th>floor</th>\n",
       "      <th>is_apartment</th>\n",
       "      <th>...</th>\n",
       "      <th>kitchen_area</th>\n",
       "      <th>balcony</th>\n",
       "      <th>locality_name</th>\n",
       "      <th>airports_nearest</th>\n",
       "      <th>cityCenters_nearest</th>\n",
       "      <th>parks_around3000</th>\n",
       "      <th>parks_nearest</th>\n",
       "      <th>ponds_around3000</th>\n",
       "      <th>ponds_nearest</th>\n",
       "      <th>days_exposition</th>\n",
       "    </tr>\n",
       "  </thead>\n",
       "  <tbody>\n",
       "    <tr>\n",
       "      <th>0</th>\n",
       "      <td>20</td>\n",
       "      <td>13000000.0</td>\n",
       "      <td>108.000000</td>\n",
       "      <td>2019-03-07</td>\n",
       "      <td>3</td>\n",
       "      <td>2.70</td>\n",
       "      <td>16.0</td>\n",
       "      <td>51.000000</td>\n",
       "      <td>8</td>\n",
       "      <td>NaN</td>\n",
       "      <td>...</td>\n",
       "      <td>25.000000</td>\n",
       "      <td>NaN</td>\n",
       "      <td>Санкт-Петербург</td>\n",
       "      <td>18863.0</td>\n",
       "      <td>16028.0</td>\n",
       "      <td>1.0</td>\n",
       "      <td>482.0</td>\n",
       "      <td>2.0</td>\n",
       "      <td>755.0</td>\n",
       "      <td>0.0</td>\n",
       "    </tr>\n",
       "    <tr>\n",
       "      <th>1</th>\n",
       "      <td>7</td>\n",
       "      <td>3350000.0</td>\n",
       "      <td>40.400002</td>\n",
       "      <td>2018-12-04</td>\n",
       "      <td>1</td>\n",
       "      <td>2.65</td>\n",
       "      <td>11.0</td>\n",
       "      <td>18.600000</td>\n",
       "      <td>1</td>\n",
       "      <td>NaN</td>\n",
       "      <td>...</td>\n",
       "      <td>11.000000</td>\n",
       "      <td>2.0</td>\n",
       "      <td>Шушары</td>\n",
       "      <td>12817.0</td>\n",
       "      <td>18603.0</td>\n",
       "      <td>0.0</td>\n",
       "      <td>NaN</td>\n",
       "      <td>0.0</td>\n",
       "      <td>NaN</td>\n",
       "      <td>81.0</td>\n",
       "    </tr>\n",
       "    <tr>\n",
       "      <th>2</th>\n",
       "      <td>10</td>\n",
       "      <td>5196000.0</td>\n",
       "      <td>56.000000</td>\n",
       "      <td>2015-08-20</td>\n",
       "      <td>2</td>\n",
       "      <td>2.65</td>\n",
       "      <td>5.0</td>\n",
       "      <td>34.299999</td>\n",
       "      <td>4</td>\n",
       "      <td>NaN</td>\n",
       "      <td>...</td>\n",
       "      <td>8.300000</td>\n",
       "      <td>0.0</td>\n",
       "      <td>Санкт-Петербург</td>\n",
       "      <td>21741.0</td>\n",
       "      <td>13933.0</td>\n",
       "      <td>1.0</td>\n",
       "      <td>90.0</td>\n",
       "      <td>2.0</td>\n",
       "      <td>574.0</td>\n",
       "      <td>558.0</td>\n",
       "    </tr>\n",
       "    <tr>\n",
       "      <th>3</th>\n",
       "      <td>0</td>\n",
       "      <td>64900000.0</td>\n",
       "      <td>159.000000</td>\n",
       "      <td>2015-07-24</td>\n",
       "      <td>3</td>\n",
       "      <td>2.65</td>\n",
       "      <td>14.0</td>\n",
       "      <td>95.000000</td>\n",
       "      <td>9</td>\n",
       "      <td>NaN</td>\n",
       "      <td>...</td>\n",
       "      <td>26.352942</td>\n",
       "      <td>0.0</td>\n",
       "      <td>Санкт-Петербург</td>\n",
       "      <td>28098.0</td>\n",
       "      <td>6800.0</td>\n",
       "      <td>2.0</td>\n",
       "      <td>84.0</td>\n",
       "      <td>3.0</td>\n",
       "      <td>234.0</td>\n",
       "      <td>424.0</td>\n",
       "    </tr>\n",
       "    <tr>\n",
       "      <th>4</th>\n",
       "      <td>2</td>\n",
       "      <td>10000000.0</td>\n",
       "      <td>100.000000</td>\n",
       "      <td>2018-06-19</td>\n",
       "      <td>2</td>\n",
       "      <td>3.03</td>\n",
       "      <td>14.0</td>\n",
       "      <td>32.000000</td>\n",
       "      <td>13</td>\n",
       "      <td>NaN</td>\n",
       "      <td>...</td>\n",
       "      <td>41.000000</td>\n",
       "      <td>NaN</td>\n",
       "      <td>Санкт-Петербург</td>\n",
       "      <td>31856.0</td>\n",
       "      <td>8098.0</td>\n",
       "      <td>2.0</td>\n",
       "      <td>112.0</td>\n",
       "      <td>1.0</td>\n",
       "      <td>48.0</td>\n",
       "      <td>121.0</td>\n",
       "    </tr>\n",
       "    <tr>\n",
       "      <th>5</th>\n",
       "      <td>10</td>\n",
       "      <td>2890000.0</td>\n",
       "      <td>30.400000</td>\n",
       "      <td>2018-09-10</td>\n",
       "      <td>1</td>\n",
       "      <td>2.65</td>\n",
       "      <td>12.0</td>\n",
       "      <td>14.400000</td>\n",
       "      <td>5</td>\n",
       "      <td>NaN</td>\n",
       "      <td>...</td>\n",
       "      <td>9.100000</td>\n",
       "      <td>NaN</td>\n",
       "      <td>Янино-1</td>\n",
       "      <td>NaN</td>\n",
       "      <td>NaN</td>\n",
       "      <td>NaN</td>\n",
       "      <td>NaN</td>\n",
       "      <td>NaN</td>\n",
       "      <td>NaN</td>\n",
       "      <td>55.0</td>\n",
       "    </tr>\n",
       "    <tr>\n",
       "      <th>6</th>\n",
       "      <td>6</td>\n",
       "      <td>3700000.0</td>\n",
       "      <td>37.299999</td>\n",
       "      <td>2017-11-02</td>\n",
       "      <td>1</td>\n",
       "      <td>2.65</td>\n",
       "      <td>26.0</td>\n",
       "      <td>10.600000</td>\n",
       "      <td>6</td>\n",
       "      <td>NaN</td>\n",
       "      <td>...</td>\n",
       "      <td>14.400000</td>\n",
       "      <td>1.0</td>\n",
       "      <td>Парголово</td>\n",
       "      <td>52996.0</td>\n",
       "      <td>19143.0</td>\n",
       "      <td>0.0</td>\n",
       "      <td>NaN</td>\n",
       "      <td>0.0</td>\n",
       "      <td>NaN</td>\n",
       "      <td>155.0</td>\n",
       "    </tr>\n",
       "    <tr>\n",
       "      <th>7</th>\n",
       "      <td>5</td>\n",
       "      <td>7915000.0</td>\n",
       "      <td>71.599998</td>\n",
       "      <td>2019-04-18</td>\n",
       "      <td>2</td>\n",
       "      <td>2.65</td>\n",
       "      <td>24.0</td>\n",
       "      <td>44.299999</td>\n",
       "      <td>22</td>\n",
       "      <td>NaN</td>\n",
       "      <td>...</td>\n",
       "      <td>18.900000</td>\n",
       "      <td>2.0</td>\n",
       "      <td>Санкт-Петербург</td>\n",
       "      <td>23982.0</td>\n",
       "      <td>11634.0</td>\n",
       "      <td>0.0</td>\n",
       "      <td>NaN</td>\n",
       "      <td>0.0</td>\n",
       "      <td>NaN</td>\n",
       "      <td>0.0</td>\n",
       "    </tr>\n",
       "    <tr>\n",
       "      <th>8</th>\n",
       "      <td>20</td>\n",
       "      <td>2900000.0</td>\n",
       "      <td>33.160000</td>\n",
       "      <td>2018-05-23</td>\n",
       "      <td>1</td>\n",
       "      <td>2.65</td>\n",
       "      <td>27.0</td>\n",
       "      <td>15.430000</td>\n",
       "      <td>26</td>\n",
       "      <td>NaN</td>\n",
       "      <td>...</td>\n",
       "      <td>8.810000</td>\n",
       "      <td>NaN</td>\n",
       "      <td>Мурино</td>\n",
       "      <td>NaN</td>\n",
       "      <td>NaN</td>\n",
       "      <td>NaN</td>\n",
       "      <td>NaN</td>\n",
       "      <td>NaN</td>\n",
       "      <td>NaN</td>\n",
       "      <td>189.0</td>\n",
       "    </tr>\n",
       "    <tr>\n",
       "      <th>9</th>\n",
       "      <td>18</td>\n",
       "      <td>5400000.0</td>\n",
       "      <td>61.000000</td>\n",
       "      <td>2017-02-26</td>\n",
       "      <td>3</td>\n",
       "      <td>2.50</td>\n",
       "      <td>9.0</td>\n",
       "      <td>43.599998</td>\n",
       "      <td>7</td>\n",
       "      <td>NaN</td>\n",
       "      <td>...</td>\n",
       "      <td>6.500000</td>\n",
       "      <td>2.0</td>\n",
       "      <td>Санкт-Петербург</td>\n",
       "      <td>50898.0</td>\n",
       "      <td>15008.0</td>\n",
       "      <td>0.0</td>\n",
       "      <td>NaN</td>\n",
       "      <td>0.0</td>\n",
       "      <td>NaN</td>\n",
       "      <td>289.0</td>\n",
       "    </tr>\n",
       "  </tbody>\n",
       "</table>\n",
       "<p>10 rows × 22 columns</p>\n",
       "</div>"
      ],
      "text/plain": [
       "   total_images  last_price  total_area first_day_exposition  rooms  \\\n",
       "0            20  13000000.0  108.000000           2019-03-07      3   \n",
       "1             7   3350000.0   40.400002           2018-12-04      1   \n",
       "2            10   5196000.0   56.000000           2015-08-20      2   \n",
       "3             0  64900000.0  159.000000           2015-07-24      3   \n",
       "4             2  10000000.0  100.000000           2018-06-19      2   \n",
       "5            10   2890000.0   30.400000           2018-09-10      1   \n",
       "6             6   3700000.0   37.299999           2017-11-02      1   \n",
       "7             5   7915000.0   71.599998           2019-04-18      2   \n",
       "8            20   2900000.0   33.160000           2018-05-23      1   \n",
       "9            18   5400000.0   61.000000           2017-02-26      3   \n",
       "\n",
       "   ceiling_height  floors_total  living_area  floor is_apartment  ...  \\\n",
       "0            2.70          16.0    51.000000      8          NaN  ...   \n",
       "1            2.65          11.0    18.600000      1          NaN  ...   \n",
       "2            2.65           5.0    34.299999      4          NaN  ...   \n",
       "3            2.65          14.0    95.000000      9          NaN  ...   \n",
       "4            3.03          14.0    32.000000     13          NaN  ...   \n",
       "5            2.65          12.0    14.400000      5          NaN  ...   \n",
       "6            2.65          26.0    10.600000      6          NaN  ...   \n",
       "7            2.65          24.0    44.299999     22          NaN  ...   \n",
       "8            2.65          27.0    15.430000     26          NaN  ...   \n",
       "9            2.50           9.0    43.599998      7          NaN  ...   \n",
       "\n",
       "   kitchen_area  balcony    locality_name  airports_nearest  \\\n",
       "0     25.000000      NaN  Санкт-Петербург           18863.0   \n",
       "1     11.000000      2.0           Шушары           12817.0   \n",
       "2      8.300000      0.0  Санкт-Петербург           21741.0   \n",
       "3     26.352942      0.0  Санкт-Петербург           28098.0   \n",
       "4     41.000000      NaN  Санкт-Петербург           31856.0   \n",
       "5      9.100000      NaN          Янино-1               NaN   \n",
       "6     14.400000      1.0        Парголово           52996.0   \n",
       "7     18.900000      2.0  Санкт-Петербург           23982.0   \n",
       "8      8.810000      NaN           Мурино               NaN   \n",
       "9      6.500000      2.0  Санкт-Петербург           50898.0   \n",
       "\n",
       "  cityCenters_nearest  parks_around3000  parks_nearest  ponds_around3000  \\\n",
       "0             16028.0               1.0          482.0               2.0   \n",
       "1             18603.0               0.0            NaN               0.0   \n",
       "2             13933.0               1.0           90.0               2.0   \n",
       "3              6800.0               2.0           84.0               3.0   \n",
       "4              8098.0               2.0          112.0               1.0   \n",
       "5                 NaN               NaN            NaN               NaN   \n",
       "6             19143.0               0.0            NaN               0.0   \n",
       "7             11634.0               0.0            NaN               0.0   \n",
       "8                 NaN               NaN            NaN               NaN   \n",
       "9             15008.0               0.0            NaN               0.0   \n",
       "\n",
       "   ponds_nearest  days_exposition  \n",
       "0          755.0              0.0  \n",
       "1            NaN             81.0  \n",
       "2          574.0            558.0  \n",
       "3          234.0            424.0  \n",
       "4           48.0            121.0  \n",
       "5            NaN             55.0  \n",
       "6            NaN            155.0  \n",
       "7            NaN              0.0  \n",
       "8            NaN            189.0  \n",
       "9            NaN            289.0  \n",
       "\n",
       "[10 rows x 22 columns]"
      ]
     },
     "execution_count": 26,
     "metadata": {},
     "output_type": "execute_result"
    }
   ],
   "source": [
    "df.head(10)"
   ]
  },
  {
   "cell_type": "code",
   "execution_count": 27,
   "metadata": {},
   "outputs": [
    {
     "data": {
      "text/plain": [
       "0    13000000\n",
       "1     3350000\n",
       "2     5196000\n",
       "3    64900000\n",
       "4    10000000\n",
       "Name: last_price, dtype: int32"
      ]
     },
     "execution_count": 27,
     "metadata": {},
     "output_type": "execute_result"
    }
   ],
   "source": [
    "df['last_price'] = df['last_price'].astype('int')\n",
    "df['last_price'].head()"
   ]
  },
  {
   "cell_type": "markdown",
   "metadata": {},
   "source": [
    "Заменили пустые данные в столбцах, которые нам будут нужны для исследований.\n",
    "Данные по жилой площади заполнили, расчитав медианную долю жилой площади от общей. \n",
    "Данные по площади кухни заполнили по медиане площади кухни в общей площаде.\n",
    "Высота потолков в квартирах в среднем более-менее одинаковая, заполнили данные по медианным значениям.\n",
    "Так же привели данные к нужному нам типу.\n",
    "В столбце с датой изменили тип данных с object на datetime для дальнейшей работы с ним.\n",
    "Данные с наличием балконов, типом апартаментов, наличием прудов, аэропортов и парков рядом, оставили пустыми. Они нам не понадобятся, и у нас нет данных, на основе которых их можно заменить. "
   ]
  },
  {
   "cell_type": "markdown",
   "metadata": {},
   "source": [
    "## Расчёты и добавление результатов в таблицу"
   ]
  },
  {
   "cell_type": "code",
   "execution_count": 28,
   "metadata": {},
   "outputs": [],
   "source": [
    "df['price_for_meter'] = df['last_price'] / df['total_area'] "
   ]
  },
  {
   "cell_type": "code",
   "execution_count": 29,
   "metadata": {},
   "outputs": [],
   "source": [
    "df['year'] = df['first_day_exposition'].dt.year "
   ]
  },
  {
   "cell_type": "code",
   "execution_count": 30,
   "metadata": {},
   "outputs": [],
   "source": [
    "df['month'] = df['first_day_exposition'].dt.month "
   ]
  },
  {
   "cell_type": "code",
   "execution_count": 31,
   "metadata": {},
   "outputs": [
    {
     "data": {
      "text/plain": [
       "0    Thursday\n",
       "1     Tuesday\n",
       "2    Thursday\n",
       "3      Friday\n",
       "4     Tuesday\n",
       "Name: day, dtype: object"
      ]
     },
     "execution_count": 31,
     "metadata": {},
     "output_type": "execute_result"
    }
   ],
   "source": [
    "df['day'] = df['first_day_exposition'].dt.day_name() \n",
    "df['day'].head()"
   ]
  },
  {
   "cell_type": "code",
   "execution_count": 32,
   "metadata": {},
   "outputs": [
    {
     "data": {
      "text/plain": [
       "other    17308\n",
       "last      3322\n",
       "first     2910\n",
       "Name: floors_type, dtype: int64"
      ]
     },
     "execution_count": 32,
     "metadata": {},
     "output_type": "execute_result"
    }
   ],
   "source": [
    "def floors_type(row):\n",
    "    floor = row['floor']\n",
    "    floors_total = row['floors_total']\n",
    "    if floor == 1:\n",
    "        return 'first'\n",
    "    if floor == floors_total:\n",
    "        return 'last'\n",
    "    return 'other'\n",
    "\n",
    "df['floors_type'] = df.apply(floors_type, axis=1)\n",
    "df['floors_type'].value_counts()"
   ]
  },
  {
   "cell_type": "code",
   "execution_count": 33,
   "metadata": {},
   "outputs": [
    {
     "data": {
      "text/plain": [
       "0    0.472222\n",
       "1    0.460396\n",
       "2    0.612500\n",
       "3    0.597484\n",
       "4    0.320000\n",
       "5    0.473684\n",
       "6    0.284182\n",
       "7    0.618715\n",
       "8    0.465320\n",
       "9    0.714754\n",
       "Name: living_to_total, dtype: float32"
      ]
     },
     "execution_count": 33,
     "metadata": {},
     "output_type": "execute_result"
    }
   ],
   "source": [
    "df['living_to_total'] = df['living_area'] / df['total_area'] \n",
    "df['living_to_total'].head(10)"
   ]
  },
  {
   "cell_type": "code",
   "execution_count": 34,
   "metadata": {},
   "outputs": [
    {
     "data": {
      "text/plain": [
       "0    0.231481\n",
       "1    0.272277\n",
       "2    0.148214\n",
       "3    0.165742\n",
       "4    0.410000\n",
       "5    0.299342\n",
       "6    0.386059\n",
       "7    0.263966\n",
       "8    0.265682\n",
       "9    0.106557\n",
       "Name: kitchen_to_total, dtype: float32"
      ]
     },
     "execution_count": 34,
     "metadata": {},
     "output_type": "execute_result"
    }
   ],
   "source": [
    "df['kitchen_to_total'] = df['kitchen_area'] / df['total_area'] \n",
    "df['kitchen_to_total'].head(10)"
   ]
  },
  {
   "cell_type": "markdown",
   "metadata": {},
   "source": [
    "Провели расчеты и добавили требуемые по заданию столбцы в таблицу."
   ]
  },
  {
   "cell_type": "markdown",
   "metadata": {},
   "source": [
    "## Исследовательский анализ данных"
   ]
  },
  {
   "cell_type": "code",
   "execution_count": 35,
   "metadata": {},
   "outputs": [
    {
     "data": {
      "image/png": "[encoded data removed]",
      "text/plain": [
       "<Figure size 432x288 with 1 Axes>"
      ]
     },
     "metadata": {
      "needs_background": "light"
     },
     "output_type": "display_data"
    }
   ],
   "source": [
    "df['total_area'].plot(kind='hist',title = 'Данные по общей площади квартир')\n",
    "plt.ylabel('Количество объявлений, шт')\n",
    "plt.xlabel('Общая площадь')\n",
    "plt.show()"
   ]
  },
  {
   "cell_type": "markdown",
   "metadata": {},
   "source": [
    "На графике видно, что почти все объявления на квартиры площадью до 100 метров. Но так же есть объявления с квартирами выше 600 метров, на графике их совсем не видно."
   ]
  },
  {
   "cell_type": "code",
   "execution_count": 36,
   "metadata": {},
   "outputs": [
    {
     "data": {
      "image/png": "[encoded data removed]",
      "text/plain": [
       "<Figure size 432x288 with 1 Axes>"
      ]
     },
     "metadata": {
      "needs_background": "light"
     },
     "output_type": "display_data"
    }
   ],
   "source": [
    "df['total_area'].plot(kind = 'hist', bins=100, range=(0, 200), title = 'Данные по общей площади квартир')\n",
    "plt.ylabel('Количество объявлений, шт')\n",
    "plt.xlabel('Общая площадь')\n",
    "plt.show()"
   ]
  },
  {
   "cell_type": "markdown",
   "metadata": {},
   "source": [
    "Сократили диапозон по площади. Теперь видно более детально. Больше всего объявлений с общей площадью квартир в районе 40-45 метров."
   ]
  },
  {
   "cell_type": "code",
   "execution_count": 37,
   "metadata": {},
   "outputs": [
    {
     "data": {
      "image/png": "[encoded data removed]",
      "text/plain": [
       "<Figure size 432x288 with 1 Axes>"
      ]
     },
     "metadata": {
      "needs_background": "light"
     },
     "output_type": "display_data"
    },
    {
     "data": {
      "image/png": "[encoded data removed]",
      "text/plain": [
       "<Figure size 432x288 with 1 Axes>"
      ]
     },
     "metadata": {
      "needs_background": "light"
     },
     "output_type": "display_data"
    }
   ],
   "source": [
    "df['last_price'].plot(kind='hist', title = 'Данные по ценам квартир')\n",
    "plt.ylabel('Количество объявлений, шт')\n",
    "plt.xlabel('Цена квартир')\n",
    "plt.show()\n",
    "\n",
    "df['last_price'].plot(kind='hist',title = 'Данные по ценам квартир', bins=100, range=(0, 30000000))\n",
    "plt.ylabel('Количество объявлений, шт')\n",
    "plt.xlabel('Цена квартир')\n",
    "plt.show()"
   ]
  },
  {
   "cell_type": "markdown",
   "metadata": {},
   "source": [
    "На первом графике видно только то, что большинство квартир стоят до 15 млн.руб. \n",
    "На втором графике увеличили число корзин и сократили диапозон цены. Теперь видно, что больше всего квартир с ценой 4-5 млн.руб."
   ]
  },
  {
   "cell_type": "code",
   "execution_count": 38,
   "metadata": {},
   "outputs": [
    {
     "data": {
      "image/png": "[encoded data removed]",
      "text/plain": [
       "<Figure size 432x288 with 1 Axes>"
      ]
     },
     "metadata": {
      "needs_background": "light"
     },
     "output_type": "display_data"
    }
   ],
   "source": [
    "df['rooms'].plot(kind='hist',title = 'Данные по количеству комнат')\n",
    "plt.ylabel('Количество объявлений, шт')\n",
    "plt.xlabel('Количество комнат')\n",
    "plt.show()"
   ]
  },
  {
   "cell_type": "markdown",
   "metadata": {},
   "source": [
    "Больше всего объявлений с однокомнатными и двухкомнатными квартирами. Так же много продаж трехкомнатных квартир."
   ]
  },
  {
   "cell_type": "code",
   "execution_count": 39,
   "metadata": {},
   "outputs": [
    {
     "data": {
      "image/png": "[encoded data removed]",
      "text/plain": [
       "<Figure size 432x288 with 1 Axes>"
      ]
     },
     "metadata": {
      "needs_background": "light"
     },
     "output_type": "display_data"
    },
    {
     "data": {
      "image/png": "[encoded data removed]",
      "text/plain": [
       "<Figure size 432x288 with 1 Axes>"
      ]
     },
     "metadata": {
      "needs_background": "light"
     },
     "output_type": "display_data"
    }
   ],
   "source": [
    "df['ceiling_height'].plot(kind = 'hist', title = 'Данные по высоте потолка')\n",
    "plt.ylabel('Количество объявлений, шт')\n",
    "plt.xlabel('Высота потолка')\n",
    "plt.show()\n",
    "\n",
    "df['ceiling_height'].plot(kind = 'hist', title = 'Данные по высоте потолка', range=(0,10))\n",
    "plt.ylabel('Количество объявлений, шт')\n",
    "plt.xlabel('Высота потолка')\n",
    "plt.show()"
   ]
  },
  {
   "cell_type": "markdown",
   "metadata": {},
   "source": [
    "В среднем высота потолков в продоваемых квартирах - от двух до трех метров. Но есть и объявления с высотой потолков 100 метров.\n",
    "Вероятно, это ошибка в данных."
   ]
  },
  {
   "cell_type": "code",
   "execution_count": 40,
   "metadata": {},
   "outputs": [
    {
     "data": {
      "text/plain": [
       "count    20378.000000\n",
       "mean       180.981445\n",
       "std        219.778748\n",
       "min          1.000000\n",
       "25%         45.000000\n",
       "50%         95.000000\n",
       "75%        232.000000\n",
       "max       1580.000000\n",
       "Name: days_exposition, dtype: float64"
      ]
     },
     "execution_count": 40,
     "metadata": {},
     "output_type": "execute_result"
    }
   ],
   "source": [
    "df[df['days_exposition'] > 0]['days_exposition'].describe()"
   ]
  },
  {
   "cell_type": "code",
   "execution_count": 39,
   "metadata": {},
   "outputs": [
    {
     "data": {
      "image/png": "[encoded data removed]",
      "text/plain": [
       "<Figure size 432x288 with 1 Axes>"
      ]
     },
     "metadata": {
      "needs_background": "light"
     },
     "output_type": "display_data"
    },
    {
     "data": {
      "image/png": "[encoded data removed]",
      "text/plain": [
       "<Figure size 432x288 with 1 Axes>"
      ]
     },
     "metadata": {
      "needs_background": "light"
     },
     "output_type": "display_data"
    }
   ],
   "source": [
    "df['days_exposition'].plot(kind = 'hist', bins=30, title = 'Данные по времени продажи', \n",
    "                           range = (1, df['days_exposition'].max()))\n",
    "plt.ylabel('Количество объявлений, шт')\n",
    "plt.xlabel('Количество дней размещения объявлений')                           \n",
    "plt.show()\n",
    "\n",
    "df['days_exposition'].plot(kind = 'hist', bins=30, range = (1, 100), title = 'Данные по времени продажи')\n",
    "plt.ylabel('Количество объявлений, шт')\n",
    "plt.xlabel('Количество дней размещения объявлений')                           \n",
    "plt.show()"
   ]
  },
  {
   "cell_type": "markdown",
   "metadata": {},
   "source": [
    "Среднее время продажи пол года, медионное значение - три месяца. Чаще всего продажа квартиры занимает не больше 8 месяцев.\n",
    "Так же есть квартиры, продажи которых заняли от года до почти двух лет. И есть совсем странные объявления, по которым продажи были через три года, после подачи объявления.\n",
    "Можно считать, что квартира быстро продалась, если продажа заняла менее 1,5 месяцев. Необычайно долгой продажей можно считать продажи, занявшие более 8 месяцев.\n",
    "Если выделить объявления со сроком продажи до 100 дней, то видно, что чаще всего квартиры продаюся за 45 дней. "
   ]
  },
  {
   "cell_type": "code",
   "execution_count": 41,
   "metadata": {},
   "outputs": [
    {
     "data": {
      "image/png": "[encoded data removed]",
      "text/plain": [
       "<Figure size 432x288 with 1 Axes>"
      ]
     },
     "metadata": {
      "needs_background": "light"
     },
     "output_type": "display_data"
    }
   ],
   "source": [
    "df.boxplot(column = 'days_exposition')\n",
    "plt.show()"
   ]
  },
  {
   "cell_type": "code",
   "execution_count": 42,
   "metadata": {},
   "outputs": [
    {
     "data": {
      "text/plain": [
       "count    18637.000000\n",
       "mean       127.158340\n",
       "std        119.274841\n",
       "min          1.000000\n",
       "25%         41.000000\n",
       "50%         84.000000\n",
       "75%        181.000000\n",
       "max        499.000000\n",
       "Name: days_exposition, dtype: float64"
      ]
     },
     "execution_count": 42,
     "metadata": {},
     "output_type": "execute_result"
    }
   ],
   "source": [
    "df.query('0 < days_exposition < 500')['days_exposition'].describe()"
   ]
  },
  {
   "cell_type": "markdown",
   "metadata": {},
   "source": [
    "На диаграме размаха видно, что объявления со сроком продажи более 500 дней - очень редкие.\n",
    "Исключив эти объявления и проведя анализ по получившемуся срезу, видно, что среднее время продажи квартиры изменилось и составило чуть более 4 месяцев.\n",
    "Медианное значение при этом изменилось не сильно и теперь составляет чуть менее трех месяцев. "
   ]
  },
  {
   "cell_type": "code",
   "execution_count": 43,
   "metadata": {},
   "outputs": [
    {
     "data": {
      "image/png": "[encoded data removed]",
      "text/plain": [
       "<Figure size 432x288 with 1 Axes>"
      ]
     },
     "metadata": {
      "needs_background": "light"
     },
     "output_type": "display_data"
    }
   ],
   "source": [
    "df.boxplot(column='total_area')\n",
    "plt.show()"
   ]
  },
  {
   "cell_type": "code",
   "execution_count": 44,
   "metadata": {},
   "outputs": [
    {
     "data": {
      "text/plain": [
       "563"
      ]
     },
     "execution_count": 44,
     "metadata": {},
     "output_type": "execute_result"
    }
   ],
   "source": [
    "len(df[df['total_area'] > 150]) "
   ]
  },
  {
   "cell_type": "code",
   "execution_count": 45,
   "metadata": {},
   "outputs": [
    {
     "data": {
      "text/plain": [
       "count    22959.000000\n",
       "mean        56.482719\n",
       "std         22.796892\n",
       "min         12.000000\n",
       "25%         40.000000\n",
       "50%         51.000000\n",
       "75%         67.599998\n",
       "max        149.600006\n",
       "Name: total_area, dtype: float64"
      ]
     },
     "execution_count": 45,
     "metadata": {},
     "output_type": "execute_result"
    }
   ],
   "source": [
    "df = df[df['total_area'] < 150]\n",
    "df['total_area'].describe()"
   ]
  },
  {
   "cell_type": "code",
   "execution_count": 46,
   "metadata": {},
   "outputs": [
    {
     "data": {
      "image/png": "[encoded data removed]",
      "text/plain": [
       "<Figure size 432x288 with 1 Axes>"
      ]
     },
     "metadata": {
      "needs_background": "light"
     },
     "output_type": "display_data"
    }
   ],
   "source": [
    "df['total_area'].plot(kind='hist',title = 'Данные по общей площади квартир')\n",
    "plt.ylabel('Количество объявлений, шт')\n",
    "plt.xlabel('Общая площадь')\n",
    "plt.show()"
   ]
  },
  {
   "cell_type": "markdown",
   "metadata": {},
   "source": [
    "Просмотрев диаграмму распределения, увидели, что объявлений с общей площаью квартир более 150 метров, очень мало.\n",
    "Убрали из таблицы данные по этим квартирам. Средняя площадь продаваемых квартир слегка изменилась."
   ]
  },
  {
   "cell_type": "code",
   "execution_count": 47,
   "metadata": {},
   "outputs": [
    {
     "data": {
      "text/plain": [
       "0.6972451562359544"
      ]
     },
     "execution_count": 47,
     "metadata": {},
     "output_type": "execute_result"
    }
   ],
   "source": [
    "df['last_price'].corr(df['total_area']) "
   ]
  },
  {
   "cell_type": "code",
   "execution_count": 48,
   "metadata": {},
   "outputs": [
    {
     "data": {
      "text/plain": [
       "0.4002893972408338"
      ]
     },
     "execution_count": 48,
     "metadata": {},
     "output_type": "execute_result"
    }
   ],
   "source": [
    "df['last_price'].corr(df['rooms'])"
   ]
  },
  {
   "cell_type": "code",
   "execution_count": 49,
   "metadata": {},
   "outputs": [
    {
     "data": {
      "text/plain": [
       "-0.31439372854019426"
      ]
     },
     "execution_count": 49,
     "metadata": {},
     "output_type": "execute_result"
    }
   ],
   "source": [
    "df['last_price'].corr(df['cityCenters_nearest']) "
   ]
  },
  {
   "cell_type": "code",
   "execution_count": 50,
   "metadata": {},
   "outputs": [
    {
     "data": {
      "image/png": "[encoded data removed]",
      "text/plain": [
       "<Figure size 432x288 with 1 Axes>"
      ]
     },
     "metadata": {
      "needs_background": "light"
     },
     "output_type": "display_data"
    },
    {
     "data": {
      "image/png": "[encoded data removed]",
      "text/plain": [
       "<Figure size 432x288 with 1 Axes>"
      ]
     },
     "metadata": {
      "needs_background": "light"
     },
     "output_type": "display_data"
    }
   ],
   "source": [
    "df.pivot_table(index='floors_type', values='last_price', aggfunc = 'median').plot(\n",
    "    kind='bar', y='last_price', title = 'Зависимость цены от этажа квартиры')\n",
    "plt.ylabel('Цена, млн')\n",
    "plt.xlabel('Этаж')\n",
    "plt.show()   \n",
    "\n",
    "df['floors_type'].value_counts().plot(\n",
    "    kind='bar', title = 'Количество объявлений по этажам размещения')\n",
    "plt.ylabel('Количество, шт')\n",
    "plt.xlabel('Этаж')\n",
    "plt.show()   "
   ]
  },
  {
   "cell_type": "code",
   "execution_count": 51,
   "metadata": {},
   "outputs": [
    {
     "data": {
      "image/png": "[encoded data removed]",
      "text/plain": [
       "<Figure size 432x288 with 1 Axes>"
      ]
     },
     "metadata": {
      "needs_background": "light"
     },
     "output_type": "display_data"
    },
    {
     "data": {
      "image/png": "[encoded data removed]",
      "text/plain": [
       "<Figure size 432x288 with 1 Axes>"
      ]
     },
     "metadata": {
      "needs_background": "light"
     },
     "output_type": "display_data"
    }
   ],
   "source": [
    "df.pivot_table(index='year', values='last_price', aggfunc = 'median').plot(\n",
    "    kind='bar', y='last_price', title = 'Средняя цена квартир 2014 - 2019')\n",
    "plt.ylabel('Цена, млн')\n",
    "plt.xlabel('Год')\n",
    "plt.show()   \n",
    "\n",
    "df['year'].value_counts().plot(\n",
    "    kind='bar', title = 'Количество объявлений по годам размещения')\n",
    "plt.ylabel('Количество, шт.')\n",
    "plt.xlabel('Год')\n",
    "plt.show()   "
   ]
  },
  {
   "cell_type": "code",
   "execution_count": 51,
   "metadata": {},
   "outputs": [
    {
     "data": {
      "image/png": "[encoded data removed]",
      "text/plain": [
       "<Figure size 432x288 with 1 Axes>"
      ]
     },
     "metadata": {
      "needs_background": "light"
     },
     "output_type": "display_data"
    },
    {
     "data": {
      "image/png": "[encoded data removed]",
      "text/plain": [
       "<Figure size 432x288 with 1 Axes>"
      ]
     },
     "metadata": {
      "needs_background": "light"
     },
     "output_type": "display_data"
    }
   ],
   "source": [
    "df.pivot_table(index='month', values='last_price', aggfunc = 'median').plot(\n",
    "    kind='bar', y='last_price', title = 'Средняя цена квартир по месяцам')\n",
    "plt.ylabel('Цена, млн')\n",
    "plt.xlabel('Месяц')\n",
    "plt.show()   \n",
    "\n",
    "\n",
    "df['month'].value_counts().plot(\n",
    "    kind='bar', title = 'Количество объявлений по месяцам размещения')\n",
    "plt.ylabel('Количество, шт.')\n",
    "plt.xlabel('Месяц')\n",
    "plt.show()   "
   ]
  },
  {
   "cell_type": "code",
   "execution_count": 52,
   "metadata": {},
   "outputs": [
    {
     "data": {
      "image/png": "[encoded data removed]",
      "text/plain": [
       "<Figure size 432x288 with 1 Axes>"
      ]
     },
     "metadata": {
      "needs_background": "light"
     },
     "output_type": "display_data"
    },
    {
     "data": {
      "image/png": "[encoded data removed]",
      "text/plain": [
       "<Figure size 432x288 with 1 Axes>"
      ]
     },
     "metadata": {
      "needs_background": "light"
     },
     "output_type": "display_data"
    }
   ],
   "source": [
    "df.pivot_table(index='day', values='last_price', aggfunc = 'median').plot(\n",
    "    kind='bar', y='last_price', title = 'Средняя цена квартир по дням недели')\n",
    "plt.ylabel('Цена, млн')\n",
    "plt.xlabel('День недели')\n",
    "plt.show()   \n",
    "\n",
    "\n",
    "df['day'].value_counts().plot(\n",
    "    kind='bar', title = 'Количество объявлений по дням размещения')\n",
    "plt.ylabel('Количество, шт.')\n",
    "plt.xlabel('День недели')\n",
    "plt.show()   "
   ]
  },
  {
   "cell_type": "markdown",
   "metadata": {},
   "source": [
    "С увеличением общей площади и количества комнат, цена на квартиру увеличивается. Но это влияние не сильное, очевидно на цену влияют и другие факторы.\n",
    "Так же цена зависит и от удаленности от центра, чем дальше, тем дешевле, но опять же это влияние не слишком сильное.\n",
    "Цена зависит и от этажа, на котором расположена квартира. Цена увеличивается, если квартира не на первом и не на последнем этажах. Самые дешевые квартиры на первом этаже.\n",
    "Если расматривать зависимость от года размещения объявления, то самые дорогие квартиры были в 2014 году, с 2015 года средняя цена на квартиры падает, и только в 2019 есть незначительный рост.\n",
    "По месяцам средняя цена не сильно не меняется, заметно только не большое снижение в июне. \n",
    "От дня недели цена совершенно не зависит.\n",
    "\n"
   ]
  },
  {
   "cell_type": "code",
   "execution_count": 53,
   "metadata": {},
   "outputs": [
    {
     "data": {
      "text/html": [
       "<div>\n",
       "<style scoped>\n",
       "    .dataframe tbody tr th:only-of-type {\n",
       "        vertical-align: middle;\n",
       "    }\n",
       "\n",
       "    .dataframe tbody tr th {\n",
       "        vertical-align: top;\n",
       "    }\n",
       "\n",
       "    .dataframe thead th {\n",
       "        text-align: right;\n",
       "    }\n",
       "</style>\n",
       "<table border=\"1\" class=\"dataframe\">\n",
       "  <thead>\n",
       "    <tr style=\"text-align: right;\">\n",
       "      <th></th>\n",
       "      <th>locality_name</th>\n",
       "    </tr>\n",
       "  </thead>\n",
       "  <tbody>\n",
       "    <tr>\n",
       "      <th>Санкт-Петербург</th>\n",
       "      <td>15061</td>\n",
       "    </tr>\n",
       "    <tr>\n",
       "      <th>Мурино</th>\n",
       "      <td>583</td>\n",
       "    </tr>\n",
       "    <tr>\n",
       "      <th>Кудрово</th>\n",
       "      <td>470</td>\n",
       "    </tr>\n",
       "    <tr>\n",
       "      <th>Шушары</th>\n",
       "      <td>438</td>\n",
       "    </tr>\n",
       "    <tr>\n",
       "      <th>Всеволожск</th>\n",
       "      <td>394</td>\n",
       "    </tr>\n",
       "    <tr>\n",
       "      <th>Пушкин</th>\n",
       "      <td>359</td>\n",
       "    </tr>\n",
       "    <tr>\n",
       "      <th>Колпино</th>\n",
       "      <td>336</td>\n",
       "    </tr>\n",
       "    <tr>\n",
       "      <th>Парголово</th>\n",
       "      <td>325</td>\n",
       "    </tr>\n",
       "    <tr>\n",
       "      <th>Гатчина</th>\n",
       "      <td>303</td>\n",
       "    </tr>\n",
       "    <tr>\n",
       "      <th>Выборг</th>\n",
       "      <td>234</td>\n",
       "    </tr>\n",
       "  </tbody>\n",
       "</table>\n",
       "</div>"
      ],
      "text/plain": [
       "                 locality_name\n",
       "Санкт-Петербург          15061\n",
       "Мурино                     583\n",
       "Кудрово                    470\n",
       "Шушары                     438\n",
       "Всеволожск                 394\n",
       "Пушкин                     359\n",
       "Колпино                    336\n",
       "Парголово                  325\n",
       "Гатчина                    303\n",
       "Выборг                     234"
      ]
     },
     "metadata": {},
     "output_type": "display_data"
    }
   ],
   "source": [
    "top_ten_list = pd.DataFrame(df['locality_name'].value_counts().head(10))\n",
    "display(top_ten_list)  "
   ]
  },
  {
   "cell_type": "code",
   "execution_count": 54,
   "metadata": {},
   "outputs": [
    {
     "data": {
      "text/html": [
       "<div>\n",
       "<style scoped>\n",
       "    .dataframe tbody tr th:only-of-type {\n",
       "        vertical-align: middle;\n",
       "    }\n",
       "\n",
       "    .dataframe tbody tr th {\n",
       "        vertical-align: top;\n",
       "    }\n",
       "\n",
       "    .dataframe thead th {\n",
       "        text-align: right;\n",
       "    }\n",
       "</style>\n",
       "<table border=\"1\" class=\"dataframe\">\n",
       "  <thead>\n",
       "    <tr style=\"text-align: right;\">\n",
       "      <th></th>\n",
       "      <th>total_images</th>\n",
       "      <th>last_price</th>\n",
       "      <th>total_area</th>\n",
       "      <th>first_day_exposition</th>\n",
       "      <th>rooms</th>\n",
       "      <th>ceiling_height</th>\n",
       "      <th>floors_total</th>\n",
       "      <th>living_area</th>\n",
       "      <th>floor</th>\n",
       "      <th>is_apartment</th>\n",
       "      <th>...</th>\n",
       "      <th>ponds_around3000</th>\n",
       "      <th>ponds_nearest</th>\n",
       "      <th>days_exposition</th>\n",
       "      <th>price_for_meter</th>\n",
       "      <th>year</th>\n",
       "      <th>month</th>\n",
       "      <th>day</th>\n",
       "      <th>floors_type</th>\n",
       "      <th>living_to_total</th>\n",
       "      <th>kitchen_to_total</th>\n",
       "    </tr>\n",
       "  </thead>\n",
       "  <tbody>\n",
       "    <tr>\n",
       "      <th>0</th>\n",
       "      <td>20</td>\n",
       "      <td>13000000</td>\n",
       "      <td>108.000000</td>\n",
       "      <td>2019-03-07</td>\n",
       "      <td>3</td>\n",
       "      <td>2.70</td>\n",
       "      <td>16.0</td>\n",
       "      <td>51.000000</td>\n",
       "      <td>8</td>\n",
       "      <td>NaN</td>\n",
       "      <td>...</td>\n",
       "      <td>2.0</td>\n",
       "      <td>755.0</td>\n",
       "      <td>0.0</td>\n",
       "      <td>120370.370370</td>\n",
       "      <td>2019</td>\n",
       "      <td>3</td>\n",
       "      <td>Thursday</td>\n",
       "      <td>other</td>\n",
       "      <td>0.472222</td>\n",
       "      <td>0.231481</td>\n",
       "    </tr>\n",
       "    <tr>\n",
       "      <th>1</th>\n",
       "      <td>7</td>\n",
       "      <td>3350000</td>\n",
       "      <td>40.400002</td>\n",
       "      <td>2018-12-04</td>\n",
       "      <td>1</td>\n",
       "      <td>2.65</td>\n",
       "      <td>11.0</td>\n",
       "      <td>18.600000</td>\n",
       "      <td>1</td>\n",
       "      <td>NaN</td>\n",
       "      <td>...</td>\n",
       "      <td>0.0</td>\n",
       "      <td>NaN</td>\n",
       "      <td>81.0</td>\n",
       "      <td>82920.788947</td>\n",
       "      <td>2018</td>\n",
       "      <td>12</td>\n",
       "      <td>Tuesday</td>\n",
       "      <td>first</td>\n",
       "      <td>0.460396</td>\n",
       "      <td>0.272277</td>\n",
       "    </tr>\n",
       "    <tr>\n",
       "      <th>2</th>\n",
       "      <td>10</td>\n",
       "      <td>5196000</td>\n",
       "      <td>56.000000</td>\n",
       "      <td>2015-08-20</td>\n",
       "      <td>2</td>\n",
       "      <td>2.65</td>\n",
       "      <td>5.0</td>\n",
       "      <td>34.299999</td>\n",
       "      <td>4</td>\n",
       "      <td>NaN</td>\n",
       "      <td>...</td>\n",
       "      <td>2.0</td>\n",
       "      <td>574.0</td>\n",
       "      <td>558.0</td>\n",
       "      <td>92785.714286</td>\n",
       "      <td>2015</td>\n",
       "      <td>8</td>\n",
       "      <td>Thursday</td>\n",
       "      <td>other</td>\n",
       "      <td>0.612500</td>\n",
       "      <td>0.148214</td>\n",
       "    </tr>\n",
       "    <tr>\n",
       "      <th>4</th>\n",
       "      <td>2</td>\n",
       "      <td>10000000</td>\n",
       "      <td>100.000000</td>\n",
       "      <td>2018-06-19</td>\n",
       "      <td>2</td>\n",
       "      <td>3.03</td>\n",
       "      <td>14.0</td>\n",
       "      <td>32.000000</td>\n",
       "      <td>13</td>\n",
       "      <td>NaN</td>\n",
       "      <td>...</td>\n",
       "      <td>1.0</td>\n",
       "      <td>48.0</td>\n",
       "      <td>121.0</td>\n",
       "      <td>100000.000000</td>\n",
       "      <td>2018</td>\n",
       "      <td>6</td>\n",
       "      <td>Tuesday</td>\n",
       "      <td>other</td>\n",
       "      <td>0.320000</td>\n",
       "      <td>0.410000</td>\n",
       "    </tr>\n",
       "    <tr>\n",
       "      <th>6</th>\n",
       "      <td>6</td>\n",
       "      <td>3700000</td>\n",
       "      <td>37.299999</td>\n",
       "      <td>2017-11-02</td>\n",
       "      <td>1</td>\n",
       "      <td>2.65</td>\n",
       "      <td>26.0</td>\n",
       "      <td>10.600000</td>\n",
       "      <td>6</td>\n",
       "      <td>NaN</td>\n",
       "      <td>...</td>\n",
       "      <td>0.0</td>\n",
       "      <td>NaN</td>\n",
       "      <td>155.0</td>\n",
       "      <td>99195.712485</td>\n",
       "      <td>2017</td>\n",
       "      <td>11</td>\n",
       "      <td>Thursday</td>\n",
       "      <td>other</td>\n",
       "      <td>0.284182</td>\n",
       "      <td>0.386059</td>\n",
       "    </tr>\n",
       "  </tbody>\n",
       "</table>\n",
       "<p>5 rows × 29 columns</p>\n",
       "</div>"
      ],
      "text/plain": [
       "   total_images  last_price  total_area first_day_exposition  rooms  \\\n",
       "0            20    13000000  108.000000           2019-03-07      3   \n",
       "1             7     3350000   40.400002           2018-12-04      1   \n",
       "2            10     5196000   56.000000           2015-08-20      2   \n",
       "4             2    10000000  100.000000           2018-06-19      2   \n",
       "6             6     3700000   37.299999           2017-11-02      1   \n",
       "\n",
       "   ceiling_height  floors_total  living_area  floor is_apartment  ...  \\\n",
       "0            2.70          16.0    51.000000      8          NaN  ...   \n",
       "1            2.65          11.0    18.600000      1          NaN  ...   \n",
       "2            2.65           5.0    34.299999      4          NaN  ...   \n",
       "4            3.03          14.0    32.000000     13          NaN  ...   \n",
       "6            2.65          26.0    10.600000      6          NaN  ...   \n",
       "\n",
       "   ponds_around3000  ponds_nearest  days_exposition  price_for_meter  year  \\\n",
       "0               2.0          755.0              0.0    120370.370370  2019   \n",
       "1               0.0            NaN             81.0     82920.788947  2018   \n",
       "2               2.0          574.0            558.0     92785.714286  2015   \n",
       "4               1.0           48.0            121.0    100000.000000  2018   \n",
       "6               0.0            NaN            155.0     99195.712485  2017   \n",
       "\n",
       "   month       day  floors_type  living_to_total  kitchen_to_total  \n",
       "0      3  Thursday        other         0.472222          0.231481  \n",
       "1     12   Tuesday        first         0.460396          0.272277  \n",
       "2      8  Thursday        other         0.612500          0.148214  \n",
       "4      6   Tuesday        other         0.320000          0.410000  \n",
       "6     11  Thursday        other         0.284182          0.386059  \n",
       "\n",
       "[5 rows x 29 columns]"
      ]
     },
     "metadata": {},
     "output_type": "display_data"
    }
   ],
   "source": [
    "top_ten = df.query('locality_name in @top_ten_list.index') \n",
    "display(top_ten.head())"
   ]
  },
  {
   "cell_type": "code",
   "execution_count": 55,
   "metadata": {},
   "outputs": [
    {
     "data": {
      "text/html": [
       "<div>\n",
       "<style scoped>\n",
       "    .dataframe tbody tr th:only-of-type {\n",
       "        vertical-align: middle;\n",
       "    }\n",
       "\n",
       "    .dataframe tbody tr th {\n",
       "        vertical-align: top;\n",
       "    }\n",
       "\n",
       "    .dataframe thead th {\n",
       "        text-align: right;\n",
       "    }\n",
       "</style>\n",
       "<table border=\"1\" class=\"dataframe\">\n",
       "  <thead>\n",
       "    <tr style=\"text-align: right;\">\n",
       "      <th></th>\n",
       "      <th>price_for_meter</th>\n",
       "    </tr>\n",
       "    <tr>\n",
       "      <th>locality_name</th>\n",
       "      <th></th>\n",
       "    </tr>\n",
       "  </thead>\n",
       "  <tbody>\n",
       "    <tr>\n",
       "      <th>Санкт-Петербург</th>\n",
       "      <td>112207.441651</td>\n",
       "    </tr>\n",
       "    <tr>\n",
       "      <th>Пушкин</th>\n",
       "      <td>102866.519522</td>\n",
       "    </tr>\n",
       "    <tr>\n",
       "      <th>Кудрово</th>\n",
       "      <td>95260.845996</td>\n",
       "    </tr>\n",
       "    <tr>\n",
       "      <th>Парголово</th>\n",
       "      <td>90291.780598</td>\n",
       "    </tr>\n",
       "    <tr>\n",
       "      <th>Мурино</th>\n",
       "      <td>85964.231743</td>\n",
       "    </tr>\n",
       "    <tr>\n",
       "      <th>Шушары</th>\n",
       "      <td>78546.979054</td>\n",
       "    </tr>\n",
       "    <tr>\n",
       "      <th>Колпино</th>\n",
       "      <td>75389.158958</td>\n",
       "    </tr>\n",
       "    <tr>\n",
       "      <th>Гатчина</th>\n",
       "      <td>68625.141314</td>\n",
       "    </tr>\n",
       "    <tr>\n",
       "      <th>Всеволожск</th>\n",
       "      <td>68590.381343</td>\n",
       "    </tr>\n",
       "    <tr>\n",
       "      <th>Выборг</th>\n",
       "      <td>58088.148199</td>\n",
       "    </tr>\n",
       "  </tbody>\n",
       "</table>\n",
       "</div>"
      ],
      "text/plain": [
       "                 price_for_meter\n",
       "locality_name                   \n",
       "Санкт-Петербург    112207.441651\n",
       "Пушкин             102866.519522\n",
       "Кудрово             95260.845996\n",
       "Парголово           90291.780598\n",
       "Мурино              85964.231743\n",
       "Шушары              78546.979054\n",
       "Колпино             75389.158958\n",
       "Гатчина             68625.141314\n",
       "Всеволожск          68590.381343\n",
       "Выборг              58088.148199"
      ]
     },
     "metadata": {},
     "output_type": "display_data"
    }
   ],
   "source": [
    "top_ten_meter_price = top_ten.pivot_table(\n",
    "    index='locality_name', values='price_for_meter').sort_values(by='price_for_meter', ascending=False)\n",
    "display(top_ten_meter_price)"
   ]
  },
  {
   "cell_type": "code",
   "execution_count": 56,
   "metadata": {},
   "outputs": [
    {
     "data": {
      "text/html": [
       "<div>\n",
       "<style scoped>\n",
       "    .dataframe tbody tr th:only-of-type {\n",
       "        vertical-align: middle;\n",
       "    }\n",
       "\n",
       "    .dataframe tbody tr th {\n",
       "        vertical-align: top;\n",
       "    }\n",
       "\n",
       "    .dataframe thead th {\n",
       "        text-align: right;\n",
       "    }\n",
       "</style>\n",
       "<table border=\"1\" class=\"dataframe\">\n",
       "  <thead>\n",
       "    <tr style=\"text-align: right;\">\n",
       "      <th></th>\n",
       "      <th>locality_name</th>\n",
       "      <th>price_for_meter</th>\n",
       "    </tr>\n",
       "  </thead>\n",
       "  <tbody>\n",
       "    <tr>\n",
       "      <th>Санкт-Петербург</th>\n",
       "      <td>15061</td>\n",
       "      <td>112207.441651</td>\n",
       "    </tr>\n",
       "    <tr>\n",
       "      <th>Мурино</th>\n",
       "      <td>583</td>\n",
       "      <td>85964.231743</td>\n",
       "    </tr>\n",
       "    <tr>\n",
       "      <th>Кудрово</th>\n",
       "      <td>470</td>\n",
       "      <td>95260.845996</td>\n",
       "    </tr>\n",
       "    <tr>\n",
       "      <th>Шушары</th>\n",
       "      <td>438</td>\n",
       "      <td>78546.979054</td>\n",
       "    </tr>\n",
       "    <tr>\n",
       "      <th>Всеволожск</th>\n",
       "      <td>394</td>\n",
       "      <td>68590.381343</td>\n",
       "    </tr>\n",
       "    <tr>\n",
       "      <th>Пушкин</th>\n",
       "      <td>359</td>\n",
       "      <td>102866.519522</td>\n",
       "    </tr>\n",
       "    <tr>\n",
       "      <th>Колпино</th>\n",
       "      <td>336</td>\n",
       "      <td>75389.158958</td>\n",
       "    </tr>\n",
       "    <tr>\n",
       "      <th>Парголово</th>\n",
       "      <td>325</td>\n",
       "      <td>90291.780598</td>\n",
       "    </tr>\n",
       "    <tr>\n",
       "      <th>Гатчина</th>\n",
       "      <td>303</td>\n",
       "      <td>68625.141314</td>\n",
       "    </tr>\n",
       "    <tr>\n",
       "      <th>Выборг</th>\n",
       "      <td>234</td>\n",
       "      <td>58088.148199</td>\n",
       "    </tr>\n",
       "  </tbody>\n",
       "</table>\n",
       "</div>"
      ],
      "text/plain": [
       "                 locality_name  price_for_meter\n",
       "Санкт-Петербург          15061    112207.441651\n",
       "Мурино                     583     85964.231743\n",
       "Кудрово                    470     95260.845996\n",
       "Шушары                     438     78546.979054\n",
       "Всеволожск                 394     68590.381343\n",
       "Пушкин                     359    102866.519522\n",
       "Колпино                    336     75389.158958\n",
       "Парголово                  325     90291.780598\n",
       "Гатчина                    303     68625.141314\n",
       "Выборг                     234     58088.148199"
      ]
     },
     "metadata": {},
     "output_type": "display_data"
    }
   ],
   "source": [
    "top_ten_final = top_ten_list.join(top_ten_meter_price)\n",
    "display(top_ten_final)"
   ]
  },
  {
   "cell_type": "markdown",
   "metadata": {},
   "source": [
    "Выделили топ-10 населенных пунктов по количеству объявлений. Просмотрели среднюю цену за квадратный метр в этих населенных пунктах. Самая дорогая стоимость жилья в Санкт-Петербурге, самые дешевые квартиры - в Выборге."
   ]
  },
  {
   "cell_type": "code",
   "execution_count": 57,
   "metadata": {},
   "outputs": [
    {
     "data": {
      "text/plain": [
       "0    16\n",
       "2    13\n",
       "4     8\n",
       "7    11\n",
       "9    15\n",
       "Name: cityCenter_km, dtype: int32"
      ]
     },
     "execution_count": 57,
     "metadata": {},
     "output_type": "execute_result"
    }
   ],
   "source": [
    "spb_stat = df.query('locality_name == \"Санкт-Петербург\"') \n",
    "spb_stat = spb_stat.dropna(subset =['cityCenters_nearest']) \n",
    "spb_stat['cityCenter_km'] = spb_stat['cityCenters_nearest'] / 1000 \n",
    "spb_stat['cityCenter_km'] = spb_stat['cityCenter_km'].astype('int') \n",
    "spb_stat['cityCenter_km'].head()"
   ]
  },
  {
   "cell_type": "code",
   "execution_count": 58,
   "metadata": {},
   "outputs": [
    {
     "data": {
      "image/png": "[encoded data removed]",
      "text/plain": [
       "<Figure size 432x288 with 1 Axes>"
      ]
     },
     "metadata": {
      "needs_background": "light"
     },
     "output_type": "display_data"
    }
   ],
   "source": [
    "spb_stat.pivot_table(index='cityCenter_km', values='last_price', aggfunc='mean').plot(\n",
    "    kind='bar', y='last_price', title = 'Цена киллометра')\n",
    "plt.ylabel('Цена, млн')\n",
    "plt.xlabel('Киллометр')\n",
    "plt.show()"
   ]
  },
  {
   "cell_type": "code",
   "execution_count": 59,
   "metadata": {},
   "outputs": [],
   "source": [
    "spb_center = spb_stat.query('cityCenter_km <= 6')"
   ]
  },
  {
   "cell_type": "code",
   "execution_count": 60,
   "metadata": {},
   "outputs": [
    {
     "data": {
      "image/png": "[encoded data removed]",
      "text/plain": [
       "<Figure size 432x288 with 1 Axes>"
      ]
     },
     "metadata": {
      "needs_background": "light"
     },
     "output_type": "display_data"
    },
    {
     "data": {
      "image/png": "[encoded data removed]",
      "text/plain": [
       "<Figure size 432x288 with 1 Axes>"
      ]
     },
     "metadata": {
      "needs_background": "light"
     },
     "output_type": "display_data"
    }
   ],
   "source": [
    "spb_center['total_area'].plot(kind='hist',title = 'Центр Санкт-Петербурга')\n",
    "plt.ylabel('Количество объявлений, шт')\n",
    "plt.xlabel('Общая площадь')\n",
    "plt.show()\n",
    "\n",
    "spb_stat['total_area'].plot(kind='hist',title = 'Остальная часть Санкт-Петербурга')\n",
    "plt.ylabel('Количество объявлений, шт')\n",
    "plt.xlabel('Общая площадь')\n",
    "plt.show()"
   ]
  },
  {
   "cell_type": "code",
   "execution_count": 61,
   "metadata": {},
   "outputs": [
    {
     "data": {
      "image/png": "[encoded data removed]",
      "text/plain": [
       "<Figure size 432x288 with 1 Axes>"
      ]
     },
     "metadata": {
      "needs_background": "light"
     },
     "output_type": "display_data"
    },
    {
     "data": {
      "image/png": "[encoded data removed]",
      "text/plain": [
       "<Figure size 432x288 with 1 Axes>"
      ]
     },
     "metadata": {
      "needs_background": "light"
     },
     "output_type": "display_data"
    }
   ],
   "source": [
    "spb_center['last_price'].plot(kind='hist',title = 'Центр Санкт-Петербурга', bins = 30)\n",
    "plt.ylabel('Количество объявлений, шт')\n",
    "plt.xlabel('Цена')\n",
    "plt.show()\n",
    "\n",
    "spb_stat['last_price'].plot(kind='hist',title = 'Остальная часть Санкт-Петербурга', bins = 30)\n",
    "plt.ylabel('Количество объявлений, шт')\n",
    "plt.xlabel('Цена')\n",
    "plt.show()"
   ]
  },
  {
   "cell_type": "code",
   "execution_count": 61,
   "metadata": {},
   "outputs": [
    {
     "data": {
      "image/png": "[encoded data removed]",
      "text/plain": [
       "<Figure size 432x288 with 1 Axes>"
      ]
     },
     "metadata": {
      "needs_background": "light"
     },
     "output_type": "display_data"
    },
    {
     "data": {
      "image/png": "[encoded data removed]",
      "text/plain": [
       "<Figure size 432x288 with 1 Axes>"
      ]
     },
     "metadata": {
      "needs_background": "light"
     },
     "output_type": "display_data"
    }
   ],
   "source": [
    "spb_center['rooms'].plot(kind='hist',title = 'Центр Санкт-Петербурга')\n",
    "plt.ylabel('Количество объявлений, шт')\n",
    "plt.xlabel('Количество комнат')\n",
    "plt.show()\n",
    "\n",
    "spb_stat['rooms'].plot(kind='hist',title = 'Остальная часть Санкт-Петербурга')\n",
    "plt.ylabel('Количество объявлений, шт')\n",
    "plt.xlabel('Количество комнат')\n",
    "plt.show()"
   ]
  },
  {
   "cell_type": "code",
   "execution_count": 63,
   "metadata": {},
   "outputs": [
    {
     "data": {
      "image/png": "[encoded data removed]",
      "text/plain": [
       "<Figure size 432x288 with 1 Axes>"
      ]
     },
     "metadata": {
      "needs_background": "light"
     },
     "output_type": "display_data"
    },
    {
     "data": {
      "image/png": "[encoded data removed]",
      "text/plain": [
       "<Figure size 432x288 with 1 Axes>"
      ]
     },
     "metadata": {
      "needs_background": "light"
     },
     "output_type": "display_data"
    }
   ],
   "source": [
    "spb_center['ceiling_height'].plot(kind='hist',title = 'Центр Санкт-Петербурга', range=(0,10))\n",
    "plt.ylabel('Количество объявлений, шт')\n",
    "plt.xlabel('Высота потолков')\n",
    "plt.show()\n",
    "\n",
    "spb_stat['ceiling_height'].plot(kind='hist',title = 'Остальная часть Санкт-Петербурга', range=(0,10))\n",
    "plt.ylabel('Количество объявлений, шт')\n",
    "plt.xlabel('Высота потолков')\n",
    "plt.show()"
   ]
  },
  {
   "cell_type": "markdown",
   "metadata": {},
   "source": [
    "В центре больше продается квартир с площадью 70-80 метров, в остальной части города площадь продаваемых квартир ниже, самое большое количество объявление приходится на квартиры до 50 квадратных метров.\n",
    "Так же в центре и более дорогие квартиры.\n",
    "В центре чаще встречаются продаж двух и трех комнтатных квартир, в остальной части города больше продается однокомнтаных и двухкомнатных квартир.\n",
    "Так же в центре продается больше квартир с высотой потолка более двух метров, в остальной части города таких квартир значительно меньше."
   ]
  },
  {
   "cell_type": "code",
   "execution_count": 62,
   "metadata": {},
   "outputs": [
    {
     "data": {
      "text/plain": [
       "0.26936382751692156"
      ]
     },
     "execution_count": 62,
     "metadata": {},
     "output_type": "execute_result"
    }
   ],
   "source": [
    "spb_center['rooms'].corr(spb_center['last_price'])"
   ]
  },
  {
   "cell_type": "code",
   "execution_count": 63,
   "metadata": {
    "scrolled": true
   },
   "outputs": [
    {
     "data": {
      "text/plain": [
       "0.41693100052687126"
      ]
     },
     "execution_count": 63,
     "metadata": {},
     "output_type": "execute_result"
    }
   ],
   "source": [
    "spb_stat['rooms'].corr(spb_stat['last_price'])"
   ]
  },
  {
   "cell_type": "code",
   "execution_count": 66,
   "metadata": {},
   "outputs": [
    {
     "data": {
      "image/png": "[encoded data removed]",
      "text/plain": [
       "<Figure size 432x288 with 1 Axes>"
      ]
     },
     "metadata": {
      "needs_background": "light"
     },
     "output_type": "display_data"
    },
    {
     "data": {
      "image/png": "[encoded data removed]",
      "text/plain": [
       "<Figure size 432x288 with 1 Axes>"
      ]
     },
     "metadata": {
      "needs_background": "light"
     },
     "output_type": "display_data"
    }
   ],
   "source": [
    "spb_center.pivot_table(index='floors_type', values='last_price', aggfunc = 'median').plot(\n",
    "    kind='bar', y='last_price', title = 'Центр Санкт-Петербурга')\n",
    "plt.ylabel('Цена, млн')\n",
    "plt.xlabel('Этаж')\n",
    "plt.show()   \n",
    "\n",
    "spb_stat.pivot_table(index='floors_type', values='last_price', aggfunc = 'median').plot(\n",
    "    kind='bar', y='last_price', title = 'Остальная часть Санкт-Петербурга')\n",
    "plt.ylabel('Цена, млн')\n",
    "plt.xlabel('Этаж')\n",
    "plt.show()   "
   ]
  },
  {
   "cell_type": "code",
   "execution_count": 67,
   "metadata": {},
   "outputs": [
    {
     "data": {
      "image/png": "[encoded data removed]",
      "text/plain": [
       "<Figure size 432x288 with 1 Axes>"
      ]
     },
     "metadata": {
      "needs_background": "light"
     },
     "output_type": "display_data"
    },
    {
     "data": {
      "image/png": "[encoded data removed]",
      "text/plain": [
       "<Figure size 432x288 with 1 Axes>"
      ]
     },
     "metadata": {
      "needs_background": "light"
     },
     "output_type": "display_data"
    }
   ],
   "source": [
    "spb_center.pivot_table(index='cityCenter_km', values='last_price', aggfunc = 'median').plot(\n",
    "    kind='bar', y='last_price', title = 'Центр Санкт-Петербурга')\n",
    "plt.ylabel('Цена, млн')\n",
    "plt.xlabel('Расстояние от центра, км.')\n",
    "plt.show()   \n",
    "\n",
    "spb_stat.pivot_table(index='cityCenter_km', values='last_price', aggfunc = 'median').plot(\n",
    "    kind='bar', y='last_price', title = 'Остальная часть Санкт-Петербурга')\n",
    "plt.ylabel('Цена, млн')\n",
    "plt.xlabel('Расстояние от центра, км.')\n",
    "plt.show()   "
   ]
  },
  {
   "cell_type": "code",
   "execution_count": 68,
   "metadata": {},
   "outputs": [
    {
     "data": {
      "image/png": "[encoded data removed]",
      "text/plain": [
       "<Figure size 432x288 with 1 Axes>"
      ]
     },
     "metadata": {
      "needs_background": "light"
     },
     "output_type": "display_data"
    },
    {
     "data": {
      "image/png": "[encoded data removed]",
      "text/plain": [
       "<Figure size 432x288 with 1 Axes>"
      ]
     },
     "metadata": {
      "needs_background": "light"
     },
     "output_type": "display_data"
    }
   ],
   "source": [
    "spb_center.pivot_table(index='year', values='last_price', aggfunc = 'median').plot(\n",
    "    kind='bar', y='last_price', title = 'Центр Санкт-Петербурга')\n",
    "plt.ylabel('Цена, млн')\n",
    "plt.xlabel('Год')\n",
    "plt.show()   \n",
    "\n",
    "spb_stat.pivot_table(index='year', values='last_price', aggfunc = 'median').plot(\n",
    "    kind='bar', y='last_price', title = 'Остальная часть Санкт-Петербурга')\n",
    "plt.ylabel('Цена, млн')\n",
    "plt.xlabel('Год')\n",
    "plt.show()   "
   ]
  },
  {
   "cell_type": "code",
   "execution_count": 64,
   "metadata": {},
   "outputs": [
    {
     "data": {
      "image/png": "[encoded data removed]",
      "text/plain": [
       "<Figure size 432x288 with 1 Axes>"
      ]
     },
     "metadata": {
      "needs_background": "light"
     },
     "output_type": "display_data"
    },
    {
     "data": {
      "image/png": "[encoded data removed]",
      "text/plain": [
       "<Figure size 432x288 with 1 Axes>"
      ]
     },
     "metadata": {
      "needs_background": "light"
     },
     "output_type": "display_data"
    }
   ],
   "source": [
    "spb_center.pivot_table(index='month', values='last_price', aggfunc = 'median').plot(\n",
    "    kind='bar', y='last_price', title = 'Центр Санкт-Петербурга')\n",
    "plt.ylabel('Цена, млн')\n",
    "plt.xlabel('Месяц')\n",
    "plt.show()   \n",
    "\n",
    "spb_stat.pivot_table(index='month', values='last_price', aggfunc = 'median').plot(\n",
    "    kind='bar', y='last_price', title = 'Остальная часть Санкт-Петербурга')\n",
    "plt.ylabel('Цена, млн')\n",
    "plt.xlabel('Месяц')\n",
    "plt.show()   "
   ]
  },
  {
   "cell_type": "code",
   "execution_count": 70,
   "metadata": {},
   "outputs": [
    {
     "data": {
      "image/png": "[encoded data removed]",
      "text/plain": [
       "<Figure size 432x288 with 1 Axes>"
      ]
     },
     "metadata": {
      "needs_background": "light"
     },
     "output_type": "display_data"
    },
    {
     "data": {
      "image/png": "[encoded data removed]",
      "text/plain": [
       "<Figure size 432x288 with 1 Axes>"
      ]
     },
     "metadata": {
      "needs_background": "light"
     },
     "output_type": "display_data"
    }
   ],
   "source": [
    "spb_center.pivot_table(index='day', values='last_price', aggfunc = 'median').plot(\n",
    "    kind='bar', y='last_price', title = 'Центр Санкт-Петербурга')\n",
    "plt.ylabel('Цена, млн')\n",
    "plt.xlabel('День')\n",
    "plt.show()   \n",
    "\n",
    "spb_stat.pivot_table(index='day', values='last_price', aggfunc = 'median').plot(\n",
    "    kind='bar', y='last_price', title = 'Остальная часть Санкт-Петербурга')\n",
    "plt.ylabel('Цена, млн')\n",
    "plt.xlabel('День')\n",
    "plt.show()   "
   ]
  },
  {
   "cell_type": "markdown",
   "metadata": {},
   "source": [
    "В центре города цена от количества комнат зависит меньше, чем в остальной части города.\n",
    "<br>Стоимость квартир на первом этаже в центре значительно дешевле, чем на других этажах. На последнем этаже квартиры дороже, чем на первом, но все равно ниже, чем на остальных этажах.\n",
    "<br>При этом в остальной части города стоимость квартиры на последнем и осталных этажах не сильно отличается. Но на первом этаже по-прежнему цена ниже.\n",
    "<br>В самом центре квартиры дороже, далее в радиусе шести киллометров цена меняетя незначительно.\n",
    "<br>В семи киллометрах от центра цена резко падает, и постепенно снижается, чем дальше квартира от центра. Есть незначительные повышения на 20-м и 27- киллометрах от центра, но эти данные вероятно нужно более подробно изучить, чтобы понять причину.\n",
    "<br>В центре, как и в остальной части города, произошло среднее снижение стоимости квартир с 2015 года.\n",
    "<br>Если рассматривать по месяцам, то видно, что в центре города цены к концу весны снижаются и постепенно к осени повышаются снова. В октябре цены опять ниже, самые низкие цены в декабре.\n",
    "<br>В остальной части города снижение менее заметное, но тоже происходит в летнее время, а в декабре, наоборот, цена повышается.\n",
    "По дням недели значительных отличий нет.\n"
   ]
  },
  {
   "cell_type": "markdown",
   "metadata": {},
   "source": [
    "## Общий вывод"
   ]
  },
  {
   "cell_type": "markdown",
   "metadata": {},
   "source": [
    "<br>Мы провели анализ объявлений по квартирам в Ленинградской области и отдельный анализ по объявленями в Санкт-Петербурге. \n",
    "В процессе анализа увидели, что часть описаний квартир имеет аномальные показетели - в данных по общей площади, высоте потолков, количеству дней до снятия объявления.\n",
    "От части аномальных данных мы избавились.\n",
    "Данные показывают, что основная часть объявлений по квартирам в Ленинградской области от 25 до 100 метров, с количеством комнат до 6, высота потолков до трех метров, стоимостью до 10 млн.руб.\n",
    "В среднем время продаж квартир около полугода.\n",
    "Далее провели анализ зависимости стоимости квартир от разных показателей. Выявили, что цена квартиры больше всего зависит от площади. Так же на цену влияет этаж, на котором она расположена, и удаленность от центра\n",
    "Увидели, что с 2015 года средняя цена квартир резко уменьшилась.\n",
    "Больше всего объявлений по Санкт-Петербургу и ближайшим к нему населенным пунктам. В них же и самые дорогие квартиры. Самая дешевая стоимость жилья в Выборге.\n",
    "Анализ по объявлениям Санкт-Петербурга показал, что цены на квартиры, расположенные далее 7 км о центра, значительно снижаются.\n",
    "Так же и отличается зависимость от цены от разных показателей по квартирам в центре города и в остальной его части.\n"
   ]
  }
 ],
 "metadata": {
  "ExecuteTimeLog": [
   {
    "duration": 877,
    "start_time": "2021-10-01T19:27:07.256Z"
   },
   {
    "duration": 73,
    "start_time": "2021-10-01T19:27:40.440Z"
   },
   {
    "duration": 159,
    "start_time": "2021-10-01T19:30:02.292Z"
   },
   {
    "duration": 82,
    "start_time": "2021-10-01T19:31:00.259Z"
   },
   {
    "duration": 2658,
    "start_time": "2021-10-01T19:31:17.872Z"
   },
   {
    "duration": 70,
    "start_time": "2021-10-01T19:31:56.729Z"
   },
   {
    "duration": 126,
    "start_time": "2021-10-01T19:32:08.480Z"
   },
   {
    "duration": 95,
    "start_time": "2021-10-01T19:33:24.125Z"
   },
   {
    "duration": 117,
    "start_time": "2021-10-01T19:33:29.961Z"
   },
   {
    "duration": 114,
    "start_time": "2021-10-01T19:36:21.262Z"
   },
   {
    "duration": 112,
    "start_time": "2021-10-01T19:37:11.604Z"
   },
   {
    "duration": 78,
    "start_time": "2021-10-01T19:37:42.682Z"
   },
   {
    "duration": 95,
    "start_time": "2021-10-01T19:37:58.212Z"
   },
   {
    "duration": 12,
    "start_time": "2021-10-01T19:40:38.699Z"
   },
   {
    "duration": 17,
    "start_time": "2021-10-01T19:43:22.646Z"
   },
   {
    "duration": 12,
    "start_time": "2021-10-01T19:43:37.606Z"
   },
   {
    "duration": 11,
    "start_time": "2021-10-01T19:43:47.061Z"
   },
   {
    "duration": 12,
    "start_time": "2021-10-01T19:45:22.786Z"
   },
   {
    "duration": 11,
    "start_time": "2021-10-01T19:48:53.990Z"
   },
   {
    "duration": 9,
    "start_time": "2021-10-01T19:49:11.249Z"
   },
   {
    "duration": 10,
    "start_time": "2021-10-01T19:49:18.790Z"
   },
   {
    "duration": 7,
    "start_time": "2021-10-01T19:49:31.760Z"
   },
   {
    "duration": 7,
    "start_time": "2021-10-01T19:49:43.515Z"
   },
   {
    "duration": 124,
    "start_time": "2021-10-01T19:50:33.682Z"
   },
   {
    "duration": 24,
    "start_time": "2021-10-01T19:51:05.294Z"
   },
   {
    "duration": 23,
    "start_time": "2021-10-01T19:51:34.930Z"
   },
   {
    "duration": 76,
    "start_time": "2021-10-01T19:52:35.812Z"
   },
   {
    "duration": 37,
    "start_time": "2021-10-01T19:55:30.130Z"
   },
   {
    "duration": 9907,
    "start_time": "2021-10-01T19:55:46.012Z"
   },
   {
    "duration": 9509,
    "start_time": "2021-10-01T19:56:10.901Z"
   },
   {
    "duration": 9743,
    "start_time": "2021-10-01T19:57:43.247Z"
   },
   {
    "duration": 9374,
    "start_time": "2021-10-01T19:58:14.241Z"
   },
   {
    "duration": 10768,
    "start_time": "2021-10-01T19:59:47.304Z"
   },
   {
    "duration": 37,
    "start_time": "2021-10-01T20:01:25.524Z"
   },
   {
    "duration": 354,
    "start_time": "2021-10-01T20:02:35.279Z"
   },
   {
    "duration": 569,
    "start_time": "2021-10-01T20:02:47.730Z"
   },
   {
    "duration": 45,
    "start_time": "2021-10-01T20:03:01.459Z"
   },
   {
    "duration": 45,
    "start_time": "2021-10-01T20:03:47.772Z"
   },
   {
    "duration": 37,
    "start_time": "2021-10-01T20:04:03.361Z"
   },
   {
    "duration": 10,
    "start_time": "2021-10-01T20:04:46.442Z"
   },
   {
    "duration": 42,
    "start_time": "2021-10-01T20:05:12.057Z"
   },
   {
    "duration": 15,
    "start_time": "2021-10-01T20:05:46.939Z"
   },
   {
    "duration": 922,
    "start_time": "2021-10-02T08:40:45.112Z"
   },
   {
    "duration": 16,
    "start_time": "2021-10-02T08:40:46.615Z"
   },
   {
    "duration": 13,
    "start_time": "2021-10-02T08:40:55.772Z"
   },
   {
    "duration": 9,
    "start_time": "2021-10-02T08:41:09.442Z"
   },
   {
    "duration": 6,
    "start_time": "2021-10-02T09:20:11.631Z"
   },
   {
    "duration": 9,
    "start_time": "2021-10-02T09:20:35.242Z"
   },
   {
    "duration": 9,
    "start_time": "2021-10-02T09:21:18.101Z"
   },
   {
    "duration": 6,
    "start_time": "2021-10-02T09:22:23.256Z"
   },
   {
    "duration": 14,
    "start_time": "2021-10-02T09:22:33.894Z"
   },
   {
    "duration": 15,
    "start_time": "2021-10-02T09:22:48.254Z"
   },
   {
    "duration": 817,
    "start_time": "2021-10-02T09:23:57.364Z"
   },
   {
    "duration": 16,
    "start_time": "2021-10-02T09:24:46.474Z"
   },
   {
    "duration": 18,
    "start_time": "2021-10-02T09:25:59.493Z"
   },
   {
    "duration": 13,
    "start_time": "2021-10-02T09:26:27.194Z"
   },
   {
    "duration": 270,
    "start_time": "2021-10-02T09:31:23.951Z"
   },
   {
    "duration": 24,
    "start_time": "2021-10-02T09:31:40.159Z"
   },
   {
    "duration": 17,
    "start_time": "2021-10-02T09:35:49.822Z"
   },
   {
    "duration": 11,
    "start_time": "2021-10-02T09:36:50.828Z"
   },
   {
    "duration": 10,
    "start_time": "2021-10-02T09:37:07.229Z"
   },
   {
    "duration": 58,
    "start_time": "2021-10-02T09:37:26.136Z"
   },
   {
    "duration": 13,
    "start_time": "2021-10-02T09:42:12.506Z"
   },
   {
    "duration": 253,
    "start_time": "2021-10-02T09:44:27.199Z"
   },
   {
    "duration": 7,
    "start_time": "2021-10-02T09:44:43.305Z"
   },
   {
    "duration": 8,
    "start_time": "2021-10-02T09:46:54.400Z"
   },
   {
    "duration": 18,
    "start_time": "2021-10-02T09:47:08.829Z"
   },
   {
    "duration": 10,
    "start_time": "2021-10-02T09:47:53.809Z"
   },
   {
    "duration": 244,
    "start_time": "2021-10-02T09:48:22.471Z"
   },
   {
    "duration": 9,
    "start_time": "2021-10-02T09:48:31.042Z"
   },
   {
    "duration": 12,
    "start_time": "2021-10-02T09:48:48.591Z"
   },
   {
    "duration": 13,
    "start_time": "2021-10-02T09:49:53.090Z"
   },
   {
    "duration": 12,
    "start_time": "2021-10-02T09:50:18.650Z"
   },
   {
    "duration": 11,
    "start_time": "2021-10-02T09:51:25.514Z"
   },
   {
    "duration": 16,
    "start_time": "2021-10-02T09:52:26.238Z"
   },
   {
    "duration": 59,
    "start_time": "2021-10-02T10:02:09.348Z"
   },
   {
    "duration": 69,
    "start_time": "2021-10-02T10:02:41.958Z"
   },
   {
    "duration": 14,
    "start_time": "2021-10-02T10:02:56.546Z"
   },
   {
    "duration": 9,
    "start_time": "2021-10-02T10:03:49.791Z"
   },
   {
    "duration": 7,
    "start_time": "2021-10-02T10:04:13.887Z"
   },
   {
    "duration": 7,
    "start_time": "2021-10-02T10:05:52.810Z"
   },
   {
    "duration": 6,
    "start_time": "2021-10-02T10:07:22.669Z"
   },
   {
    "duration": 755,
    "start_time": "2021-10-02T10:07:44.567Z"
   },
   {
    "duration": 7,
    "start_time": "2021-10-02T10:08:03.388Z"
   },
   {
    "duration": 7,
    "start_time": "2021-10-02T10:08:31.334Z"
   },
   {
    "duration": 7,
    "start_time": "2021-10-02T10:08:48.136Z"
   },
   {
    "duration": 16,
    "start_time": "2021-10-02T10:10:04.633Z"
   },
   {
    "duration": 19,
    "start_time": "2021-10-02T10:11:01.340Z"
   },
   {
    "duration": 276,
    "start_time": "2021-10-02T10:11:17.945Z"
   },
   {
    "duration": 20,
    "start_time": "2021-10-02T10:11:27.686Z"
   },
   {
    "duration": 112,
    "start_time": "2021-10-02T10:15:12.905Z"
   },
   {
    "duration": 16,
    "start_time": "2021-10-02T10:15:15.394Z"
   },
   {
    "duration": 7865,
    "start_time": "2021-10-02T10:17:43.386Z"
   },
   {
    "duration": 9,
    "start_time": "2021-10-02T10:19:10.654Z"
   },
   {
    "duration": 94,
    "start_time": "2021-10-02T10:21:16.965Z"
   },
   {
    "duration": 131,
    "start_time": "2021-10-02T10:25:38.610Z"
   },
   {
    "duration": 84,
    "start_time": "2021-10-02T10:26:12.362Z"
   },
   {
    "duration": 60,
    "start_time": "2021-10-02T10:26:30.673Z"
   },
   {
    "duration": 135,
    "start_time": "2021-10-02T10:26:48.614Z"
   },
   {
    "duration": 85,
    "start_time": "2021-10-02T10:27:12.322Z"
   },
   {
    "duration": 16,
    "start_time": "2021-10-02T10:27:40.738Z"
   },
   {
    "duration": 6285,
    "start_time": "2021-10-02T10:28:57.354Z"
   },
   {
    "duration": 19,
    "start_time": "2021-10-02T10:29:20.556Z"
   },
   {
    "duration": 10,
    "start_time": "2021-10-02T10:31:01.092Z"
   },
   {
    "duration": 16,
    "start_time": "2021-10-02T11:16:20.375Z"
   },
   {
    "duration": 13,
    "start_time": "2021-10-02T11:17:28.235Z"
   },
   {
    "duration": 6,
    "start_time": "2021-10-02T11:17:57.472Z"
   },
   {
    "duration": 11,
    "start_time": "2021-10-02T11:21:53.827Z"
   },
   {
    "duration": 10,
    "start_time": "2021-10-02T11:22:11.506Z"
   },
   {
    "duration": 11,
    "start_time": "2021-10-02T11:22:44.143Z"
   },
   {
    "duration": 10,
    "start_time": "2021-10-02T11:23:04.941Z"
   },
   {
    "duration": 7,
    "start_time": "2021-10-02T11:23:16.597Z"
   },
   {
    "duration": 8,
    "start_time": "2021-10-02T11:23:34.959Z"
   },
   {
    "duration": 7,
    "start_time": "2021-10-02T11:23:40.075Z"
   },
   {
    "duration": 18,
    "start_time": "2021-10-02T11:24:32.616Z"
   },
   {
    "duration": 124,
    "start_time": "2021-10-02T11:26:57.830Z"
   },
   {
    "duration": 16,
    "start_time": "2021-10-02T11:27:02.719Z"
   },
   {
    "duration": 12,
    "start_time": "2021-10-02T11:27:07.519Z"
   },
   {
    "duration": 13,
    "start_time": "2021-10-02T11:27:16.351Z"
   },
   {
    "duration": 18,
    "start_time": "2021-10-02T11:27:19.303Z"
   },
   {
    "duration": 19,
    "start_time": "2021-10-02T11:27:26.530Z"
   },
   {
    "duration": 7,
    "start_time": "2021-10-02T11:32:04.750Z"
   },
   {
    "duration": 6744,
    "start_time": "2021-10-02T11:32:58.108Z"
   },
   {
    "duration": 17,
    "start_time": "2021-10-02T11:33:22.990Z"
   },
   {
    "duration": 9,
    "start_time": "2021-10-02T11:34:36.660Z"
   },
   {
    "duration": 9,
    "start_time": "2021-10-02T11:34:50.101Z"
   },
   {
    "duration": 630,
    "start_time": "2021-10-02T11:35:50.835Z"
   },
   {
    "duration": 6576,
    "start_time": "2021-10-02T11:36:03.310Z"
   },
   {
    "duration": 299,
    "start_time": "2021-10-02T11:44:23.248Z"
   },
   {
    "duration": 1187,
    "start_time": "2021-10-02T11:44:30.248Z"
   },
   {
    "duration": 11,
    "start_time": "2021-10-02T12:01:58.752Z"
   },
   {
    "duration": 12,
    "start_time": "2021-10-02T12:02:24.664Z"
   },
   {
    "duration": 6121,
    "start_time": "2021-10-02T12:04:12.953Z"
   },
   {
    "duration": 7,
    "start_time": "2021-10-02T12:04:47.567Z"
   },
   {
    "duration": 12,
    "start_time": "2021-10-02T12:05:03.944Z"
   },
   {
    "duration": -115,
    "start_time": "2021-10-02T12:08:17.705Z"
   },
   {
    "duration": 9,
    "start_time": "2021-10-02T12:08:26.551Z"
   },
   {
    "duration": 6,
    "start_time": "2021-10-02T12:08:56.237Z"
   },
   {
    "duration": 22,
    "start_time": "2021-10-02T12:10:06.755Z"
   },
   {
    "duration": 32,
    "start_time": "2021-10-02T12:10:15.933Z"
   },
   {
    "duration": 13,
    "start_time": "2021-10-02T12:11:56.131Z"
   },
   {
    "duration": 54,
    "start_time": "2021-10-02T12:13:03.929Z"
   },
   {
    "duration": 55,
    "start_time": "2021-10-02T12:13:32.013Z"
   },
   {
    "duration": 55,
    "start_time": "2021-10-02T12:13:45.183Z"
   },
   {
    "duration": 51,
    "start_time": "2021-10-02T12:13:58.153Z"
   },
   {
    "duration": 35,
    "start_time": "2021-10-02T12:14:17.852Z"
   },
   {
    "duration": 37,
    "start_time": "2021-10-02T12:18:43.962Z"
   },
   {
    "duration": 7,
    "start_time": "2021-10-02T12:19:23.939Z"
   },
   {
    "duration": 9,
    "start_time": "2021-10-02T12:19:41.255Z"
   },
   {
    "duration": 276,
    "start_time": "2021-10-02T12:20:01.690Z"
   },
   {
    "duration": 9,
    "start_time": "2021-10-02T12:20:11.975Z"
   },
   {
    "duration": 9,
    "start_time": "2021-10-02T12:20:23.633Z"
   },
   {
    "duration": 15,
    "start_time": "2021-10-02T12:26:42.745Z"
   },
   {
    "duration": 8,
    "start_time": "2021-10-02T12:27:26.250Z"
   },
   {
    "duration": 6,
    "start_time": "2021-10-02T12:29:03.890Z"
   },
   {
    "duration": 150,
    "start_time": "2021-10-02T12:30:19.089Z"
   },
   {
    "duration": 6012,
    "start_time": "2021-10-02T12:30:31.482Z"
   },
   {
    "duration": 7,
    "start_time": "2021-10-02T12:30:52.281Z"
   },
   {
    "duration": 6,
    "start_time": "2021-10-02T12:31:59.869Z"
   },
   {
    "duration": 6,
    "start_time": "2021-10-02T12:32:21.611Z"
   },
   {
    "duration": 231,
    "start_time": "2021-10-02T12:34:41.033Z"
   },
   {
    "duration": 58,
    "start_time": "2021-10-02T12:35:14.471Z"
   },
   {
    "duration": 17,
    "start_time": "2021-10-02T12:35:44.934Z"
   },
   {
    "duration": 102,
    "start_time": "2021-10-02T12:37:08.021Z"
   },
   {
    "duration": 6610,
    "start_time": "2021-10-02T12:38:51.685Z"
   },
   {
    "duration": 31,
    "start_time": "2021-10-02T12:39:01.085Z"
   },
   {
    "duration": 54,
    "start_time": "2021-10-02T12:39:14.854Z"
   },
   {
    "duration": 86,
    "start_time": "2021-10-02T12:40:06.762Z"
   },
   {
    "duration": 7,
    "start_time": "2021-10-02T12:42:04.166Z"
   },
   {
    "duration": 9,
    "start_time": "2021-10-02T12:42:11.678Z"
   },
   {
    "duration": 30,
    "start_time": "2021-10-02T12:42:56.115Z"
   },
   {
    "duration": 326,
    "start_time": "2021-10-02T12:43:59.201Z"
   },
   {
    "duration": 66,
    "start_time": "2021-10-02T12:44:29.534Z"
   },
   {
    "duration": 78,
    "start_time": "2021-10-02T12:44:55.297Z"
   },
   {
    "duration": 9,
    "start_time": "2021-10-02T13:39:23.402Z"
   },
   {
    "duration": 17,
    "start_time": "2021-10-02T13:39:36.930Z"
   },
   {
    "duration": 53,
    "start_time": "2021-10-02T13:40:45.950Z"
   },
   {
    "duration": 16,
    "start_time": "2021-10-02T13:42:29.231Z"
   },
   {
    "duration": 6505,
    "start_time": "2021-10-02T14:05:32.305Z"
   },
   {
    "duration": 6,
    "start_time": "2021-10-02T14:05:47.609Z"
   },
   {
    "duration": 6,
    "start_time": "2021-10-02T14:06:10.896Z"
   },
   {
    "duration": 6,
    "start_time": "2021-10-02T14:08:22.590Z"
   },
   {
    "duration": 5,
    "start_time": "2021-10-02T14:08:38.923Z"
   },
   {
    "duration": 6,
    "start_time": "2021-10-02T14:11:20.715Z"
   },
   {
    "duration": 7,
    "start_time": "2021-10-02T14:12:28.767Z"
   },
   {
    "duration": 8,
    "start_time": "2021-10-02T14:12:59.677Z"
   },
   {
    "duration": 18,
    "start_time": "2021-10-02T14:15:28.496Z"
   },
   {
    "duration": 10,
    "start_time": "2021-10-02T14:19:11.026Z"
   },
   {
    "duration": 6855,
    "start_time": "2021-10-02T14:21:57.246Z"
   },
   {
    "duration": 6852,
    "start_time": "2021-10-02T14:22:34.827Z"
   },
   {
    "duration": 7,
    "start_time": "2021-10-02T14:23:10.336Z"
   },
   {
    "duration": 10,
    "start_time": "2021-10-02T14:23:25.366Z"
   },
   {
    "duration": 8,
    "start_time": "2021-10-02T14:29:14.012Z"
   },
   {
    "duration": 9,
    "start_time": "2021-10-02T14:30:19.049Z"
   },
   {
    "duration": 26,
    "start_time": "2021-10-02T14:31:49.036Z"
   },
   {
    "duration": 10,
    "start_time": "2021-10-02T14:32:06.072Z"
   },
   {
    "duration": 11,
    "start_time": "2021-10-02T14:34:31.643Z"
   },
   {
    "duration": 14,
    "start_time": "2021-10-02T14:35:46.002Z"
   },
   {
    "duration": 13,
    "start_time": "2021-10-02T14:36:53.282Z"
   },
   {
    "duration": 14,
    "start_time": "2021-10-02T14:38:08.767Z"
   },
   {
    "duration": 276,
    "start_time": "2021-10-02T14:44:51.059Z"
   },
   {
    "duration": 10,
    "start_time": "2021-10-02T14:45:02.419Z"
   },
   {
    "duration": 7565,
    "start_time": "2021-10-02T14:50:38.852Z"
   },
   {
    "duration": 23,
    "start_time": "2021-10-02T14:51:11.943Z"
   },
   {
    "duration": 12,
    "start_time": "2021-10-02T14:51:22.075Z"
   },
   {
    "duration": 10,
    "start_time": "2021-10-02T14:51:36.674Z"
   },
   {
    "duration": 11,
    "start_time": "2021-10-02T14:52:09.234Z"
   },
   {
    "duration": 12,
    "start_time": "2021-10-02T14:53:38.896Z"
   },
   {
    "duration": 884,
    "start_time": "2021-10-02T14:54:36.544Z"
   },
   {
    "duration": 16,
    "start_time": "2021-10-02T14:54:41.719Z"
   },
   {
    "duration": 13,
    "start_time": "2021-10-02T14:54:47.290Z"
   },
   {
    "duration": 14,
    "start_time": "2021-10-02T14:54:53.350Z"
   },
   {
    "duration": 19,
    "start_time": "2021-10-02T14:54:56.500Z"
   },
   {
    "duration": 19,
    "start_time": "2021-10-02T14:54:59.590Z"
   },
   {
    "duration": 7,
    "start_time": "2021-10-02T14:55:21.371Z"
   },
   {
    "duration": 11,
    "start_time": "2021-10-02T14:55:32.821Z"
   },
   {
    "duration": 14,
    "start_time": "2021-10-02T14:55:36.721Z"
   },
   {
    "duration": 11,
    "start_time": "2021-10-02T14:56:11.980Z"
   },
   {
    "duration": 11,
    "start_time": "2021-10-02T14:56:14.390Z"
   },
   {
    "duration": 100,
    "start_time": "2021-10-02T14:59:29.278Z"
   },
   {
    "duration": 374,
    "start_time": "2021-10-02T14:59:45.788Z"
   },
   {
    "duration": 1848,
    "start_time": "2021-10-02T15:04:45.650Z"
   },
   {
    "duration": -34,
    "start_time": "2021-10-02T15:06:11.779Z"
   },
   {
    "duration": 10,
    "start_time": "2021-10-02T15:07:46.833Z"
   },
   {
    "duration": 12,
    "start_time": "2021-10-02T15:07:55.684Z"
   },
   {
    "duration": 23,
    "start_time": "2021-10-02T15:09:18.504Z"
   },
   {
    "duration": 12,
    "start_time": "2021-10-02T15:09:32.386Z"
   },
   {
    "duration": 11,
    "start_time": "2021-10-02T15:09:34.706Z"
   },
   {
    "duration": 12,
    "start_time": "2021-10-02T15:09:41.386Z"
   },
   {
    "duration": 9,
    "start_time": "2021-10-02T15:09:41.646Z"
   },
   {
    "duration": 12,
    "start_time": "2021-10-02T15:10:32.198Z"
   },
   {
    "duration": 137,
    "start_time": "2021-10-02T15:10:42.228Z"
   },
   {
    "duration": 110,
    "start_time": "2021-10-02T15:10:50.415Z"
   },
   {
    "duration": 15,
    "start_time": "2021-10-02T15:10:53.864Z"
   },
   {
    "duration": 14,
    "start_time": "2021-10-02T15:10:57.017Z"
   },
   {
    "duration": 14,
    "start_time": "2021-10-02T15:11:00.387Z"
   },
   {
    "duration": 21,
    "start_time": "2021-10-02T15:11:05.378Z"
   },
   {
    "duration": 7,
    "start_time": "2021-10-02T15:11:09.349Z"
   },
   {
    "duration": 6,
    "start_time": "2021-10-02T15:11:13.030Z"
   },
   {
    "duration": 11,
    "start_time": "2021-10-02T15:11:15.797Z"
   },
   {
    "duration": 13,
    "start_time": "2021-10-02T15:11:20.267Z"
   },
   {
    "duration": 13,
    "start_time": "2021-10-02T15:11:47.167Z"
   },
   {
    "duration": 15,
    "start_time": "2021-10-02T15:15:50.836Z"
   },
   {
    "duration": 27,
    "start_time": "2021-10-02T15:16:03.867Z"
   },
   {
    "duration": 682,
    "start_time": "2021-10-02T15:19:35.272Z"
   },
   {
    "duration": 15,
    "start_time": "2021-10-02T15:20:37.892Z"
   },
   {
    "duration": 12,
    "start_time": "2021-10-02T15:20:45.895Z"
   },
   {
    "duration": 12,
    "start_time": "2021-10-02T15:21:21.939Z"
   },
   {
    "duration": 109,
    "start_time": "2021-10-02T15:21:28.609Z"
   },
   {
    "duration": 16,
    "start_time": "2021-10-02T15:21:31.389Z"
   },
   {
    "duration": 11,
    "start_time": "2021-10-02T15:21:34.959Z"
   },
   {
    "duration": 13,
    "start_time": "2021-10-02T15:21:38.161Z"
   },
   {
    "duration": 19,
    "start_time": "2021-10-02T15:21:41.009Z"
   },
   {
    "duration": 7,
    "start_time": "2021-10-02T15:21:44.509Z"
   },
   {
    "duration": 12,
    "start_time": "2021-10-02T15:21:47.689Z"
   },
   {
    "duration": 12,
    "start_time": "2021-10-02T15:21:55.018Z"
   },
   {
    "duration": 14,
    "start_time": "2021-10-02T15:21:57.893Z"
   },
   {
    "duration": 14,
    "start_time": "2021-10-02T15:22:02.224Z"
   },
   {
    "duration": 256,
    "start_time": "2021-10-02T15:24:37.993Z"
   },
   {
    "duration": 25,
    "start_time": "2021-10-02T15:24:53.117Z"
   },
   {
    "duration": 13,
    "start_time": "2021-10-02T15:24:58.635Z"
   },
   {
    "duration": 6,
    "start_time": "2021-10-02T15:26:23.740Z"
   },
   {
    "duration": 7,
    "start_time": "2021-10-02T15:26:53.891Z"
   },
   {
    "duration": 25,
    "start_time": "2021-10-02T15:27:02.057Z"
   },
   {
    "duration": 268,
    "start_time": "2021-10-02T15:27:32.121Z"
   },
   {
    "duration": 274,
    "start_time": "2021-10-02T15:28:24.452Z"
   },
   {
    "duration": 3289,
    "start_time": "2021-10-02T15:34:00.572Z"
   },
   {
    "duration": 3109,
    "start_time": "2021-10-02T15:34:11.551Z"
   },
   {
    "duration": 3516,
    "start_time": "2021-10-02T15:35:07.312Z"
   },
   {
    "duration": 92,
    "start_time": "2021-10-02T15:38:02.202Z"
   },
   {
    "duration": 319,
    "start_time": "2021-10-02T15:38:13.028Z"
   },
   {
    "duration": 4887,
    "start_time": "2021-10-02T15:38:38.042Z"
   },
   {
    "duration": 3664,
    "start_time": "2021-10-02T15:39:27.892Z"
   },
   {
    "duration": 3399,
    "start_time": "2021-10-02T15:40:11.965Z"
   },
   {
    "duration": 3662,
    "start_time": "2021-10-02T15:41:19.955Z"
   },
   {
    "duration": 114,
    "start_time": "2021-10-02T15:41:46.075Z"
   },
   {
    "duration": 16,
    "start_time": "2021-10-02T15:41:48.403Z"
   },
   {
    "duration": 13,
    "start_time": "2021-10-02T15:41:51.405Z"
   },
   {
    "duration": 15,
    "start_time": "2021-10-02T15:41:53.745Z"
   },
   {
    "duration": 19,
    "start_time": "2021-10-02T15:41:56.285Z"
   },
   {
    "duration": 8,
    "start_time": "2021-10-02T15:41:59.715Z"
   },
   {
    "duration": 12,
    "start_time": "2021-10-02T15:42:02.973Z"
   },
   {
    "duration": 12,
    "start_time": "2021-10-02T15:42:05.544Z"
   },
   {
    "duration": 13,
    "start_time": "2021-10-02T15:42:08.017Z"
   },
   {
    "duration": 15,
    "start_time": "2021-10-02T15:42:14.464Z"
   },
   {
    "duration": 53,
    "start_time": "2021-10-02T15:42:17.040Z"
   },
   {
    "duration": 271,
    "start_time": "2021-10-02T15:43:07.996Z"
   },
   {
    "duration": 10,
    "start_time": "2021-10-02T15:44:04.877Z"
   },
   {
    "duration": 13,
    "start_time": "2021-10-02T15:44:09.030Z"
   },
   {
    "duration": 11,
    "start_time": "2021-10-02T15:44:12.842Z"
   },
   {
    "duration": 12,
    "start_time": "2021-10-02T15:44:15.433Z"
   },
   {
    "duration": 14,
    "start_time": "2021-10-02T15:45:56.934Z"
   },
   {
    "duration": 13,
    "start_time": "2021-10-02T15:46:01.703Z"
   },
   {
    "duration": 112,
    "start_time": "2021-10-02T15:46:07.431Z"
   },
   {
    "duration": 17,
    "start_time": "2021-10-02T15:46:11.405Z"
   },
   {
    "duration": 12,
    "start_time": "2021-10-02T15:46:15.975Z"
   },
   {
    "duration": 14,
    "start_time": "2021-10-02T15:46:18.224Z"
   },
   {
    "duration": 18,
    "start_time": "2021-10-02T15:46:20.675Z"
   },
   {
    "duration": 7,
    "start_time": "2021-10-02T15:46:25.044Z"
   },
   {
    "duration": 15,
    "start_time": "2021-10-02T15:46:28.154Z"
   },
   {
    "duration": 12,
    "start_time": "2021-10-02T15:46:30.664Z"
   },
   {
    "duration": 14,
    "start_time": "2021-10-02T15:46:33.104Z"
   },
   {
    "duration": 15,
    "start_time": "2021-10-02T15:46:46.548Z"
   },
   {
    "duration": 11,
    "start_time": "2021-10-02T15:46:50.196Z"
   },
   {
    "duration": 7,
    "start_time": "2021-10-02T15:46:59.602Z"
   },
   {
    "duration": 15,
    "start_time": "2021-10-02T15:47:27.114Z"
   },
   {
    "duration": 21,
    "start_time": "2021-10-02T15:48:24.374Z"
   },
   {
    "duration": 21,
    "start_time": "2021-10-02T15:49:11.524Z"
   },
   {
    "duration": 13,
    "start_time": "2021-10-02T15:49:19.204Z"
   },
   {
    "duration": 15,
    "start_time": "2021-10-02T15:50:05.177Z"
   },
   {
    "duration": 14,
    "start_time": "2021-10-02T15:50:11.703Z"
   },
   {
    "duration": 13,
    "start_time": "2021-10-02T15:50:20.767Z"
   },
   {
    "duration": 131,
    "start_time": "2021-10-02T15:50:27.362Z"
   },
   {
    "duration": 18,
    "start_time": "2021-10-02T15:50:30.041Z"
   },
   {
    "duration": 12,
    "start_time": "2021-10-02T15:50:33.804Z"
   },
   {
    "duration": 15,
    "start_time": "2021-10-02T15:50:55.592Z"
   },
   {
    "duration": 12,
    "start_time": "2021-10-02T15:51:00.091Z"
   },
   {
    "duration": 3314,
    "start_time": "2021-10-02T15:52:55.675Z"
   },
   {
    "duration": 331,
    "start_time": "2021-10-02T15:52:58.661Z"
   },
   {
    "duration": 913,
    "start_time": "2021-10-03T20:05:52.616Z"
   },
   {
    "duration": 17,
    "start_time": "2021-10-03T20:05:58.146Z"
   },
   {
    "duration": 19,
    "start_time": "2021-10-03T20:06:01.916Z"
   },
   {
    "duration": 23,
    "start_time": "2021-10-03T20:06:06.266Z"
   },
   {
    "duration": 33,
    "start_time": "2021-10-03T20:06:09.986Z"
   },
   {
    "duration": 8,
    "start_time": "2021-10-03T20:06:14.156Z"
   },
   {
    "duration": 17,
    "start_time": "2021-10-03T20:06:21.229Z"
   },
   {
    "duration": 15,
    "start_time": "2021-10-03T20:06:34.250Z"
   },
   {
    "duration": 69,
    "start_time": "2021-10-03T20:09:48.534Z"
   },
   {
    "duration": 357,
    "start_time": "2021-10-03T20:10:01.873Z"
   },
   {
    "duration": 1756,
    "start_time": "2021-10-03T20:10:40.604Z"
   },
   {
    "duration": 46,
    "start_time": "2021-10-03T20:11:25.954Z"
   },
   {
    "duration": 924,
    "start_time": "2021-10-04T14:08:32.171Z"
   },
   {
    "duration": 32,
    "start_time": "2021-10-04T14:08:33.098Z"
   },
   {
    "duration": 13,
    "start_time": "2021-10-04T14:08:35.761Z"
   },
   {
    "duration": 12,
    "start_time": "2021-10-04T14:08:38.764Z"
   },
   {
    "duration": 15,
    "start_time": "2021-10-04T14:08:41.932Z"
   },
   {
    "duration": 18,
    "start_time": "2021-10-04T14:08:44.691Z"
   },
   {
    "duration": 8,
    "start_time": "2021-10-04T14:08:48.341Z"
   },
   {
    "duration": 13,
    "start_time": "2021-10-04T14:08:51.761Z"
   },
   {
    "duration": 11,
    "start_time": "2021-10-04T14:08:55.601Z"
   },
   {
    "duration": 16,
    "start_time": "2021-10-04T14:08:59.091Z"
   },
   {
    "duration": 18,
    "start_time": "2021-10-04T14:20:44.490Z"
   },
   {
    "duration": 40,
    "start_time": "2021-10-04T14:23:39.704Z"
   },
   {
    "duration": 2873,
    "start_time": "2021-10-04T14:24:03.236Z"
   },
   {
    "duration": 2046,
    "start_time": "2021-10-04T14:24:18.866Z"
   },
   {
    "duration": 4066,
    "start_time": "2021-10-04T14:26:08.272Z"
   },
   {
    "duration": 10,
    "start_time": "2021-10-04T14:28:28.949Z"
   },
   {
    "duration": 11,
    "start_time": "2021-10-04T14:28:59.418Z"
   },
   {
    "duration": 15,
    "start_time": "2021-10-04T14:29:05.919Z"
   },
   {
    "duration": 16,
    "start_time": "2021-10-04T14:30:51.269Z"
   },
   {
    "duration": 12,
    "start_time": "2021-10-04T14:30:56.204Z"
   },
   {
    "duration": 6,
    "start_time": "2021-10-04T14:30:59.312Z"
   },
   {
    "duration": 6,
    "start_time": "2021-10-04T14:31:10.359Z"
   },
   {
    "duration": 20,
    "start_time": "2021-10-04T14:31:33.204Z"
   },
   {
    "duration": 17,
    "start_time": "2021-10-04T14:32:12.449Z"
   },
   {
    "duration": 10,
    "start_time": "2021-10-04T14:32:18.613Z"
   },
   {
    "duration": 311,
    "start_time": "2021-10-04T14:33:55.128Z"
   },
   {
    "duration": 25,
    "start_time": "2021-10-04T14:34:04.207Z"
   },
   {
    "duration": 3820,
    "start_time": "2021-10-04T14:34:30.563Z"
   },
   {
    "duration": 3995,
    "start_time": "2021-10-04T14:34:34.586Z"
   },
   {
    "duration": 6028,
    "start_time": "2021-10-04T14:36:45.811Z"
   },
   {
    "duration": 3888,
    "start_time": "2021-10-04T14:36:52.201Z"
   },
   {
    "duration": -749,
    "start_time": "2021-10-04T14:38:04.432Z"
   },
   {
    "duration": -778,
    "start_time": "2021-10-04T14:38:04.462Z"
   },
   {
    "duration": -2943,
    "start_time": "2021-10-04T14:38:20.554Z"
   },
   {
    "duration": 4182,
    "start_time": "2021-10-04T14:38:17.853Z"
   },
   {
    "duration": 4297,
    "start_time": "2021-10-04T14:38:25.502Z"
   },
   {
    "duration": 5296,
    "start_time": "2021-10-04T14:38:48.744Z"
   },
   {
    "duration": 4515,
    "start_time": "2021-10-04T14:38:55.921Z"
   },
   {
    "duration": 3687,
    "start_time": "2021-10-04T14:44:18.168Z"
   },
   {
    "duration": 5285,
    "start_time": "2021-10-04T14:44:51.618Z"
   },
   {
    "duration": 127,
    "start_time": "2021-10-04T14:45:07.210Z"
   },
   {
    "duration": 22,
    "start_time": "2021-10-04T14:45:10.225Z"
   },
   {
    "duration": 14,
    "start_time": "2021-10-04T14:45:13.515Z"
   },
   {
    "duration": 16,
    "start_time": "2021-10-04T14:45:16.134Z"
   },
   {
    "duration": 20,
    "start_time": "2021-10-04T14:45:18.734Z"
   },
   {
    "duration": 18,
    "start_time": "2021-10-04T14:45:22.095Z"
   },
   {
    "duration": 11,
    "start_time": "2021-10-04T14:45:27.627Z"
   },
   {
    "duration": 12,
    "start_time": "2021-10-04T14:45:33.045Z"
   },
   {
    "duration": 12,
    "start_time": "2021-10-04T14:45:35.867Z"
   },
   {
    "duration": 13,
    "start_time": "2021-10-04T14:45:38.270Z"
   },
   {
    "duration": 20,
    "start_time": "2021-10-04T14:45:51.125Z"
   },
   {
    "duration": 23,
    "start_time": "2021-10-04T14:46:06.473Z"
   },
   {
    "duration": 23,
    "start_time": "2021-10-04T14:46:16.380Z"
   },
   {
    "duration": 13,
    "start_time": "2021-10-04T14:46:16.405Z"
   },
   {
    "duration": 5389,
    "start_time": "2021-10-04T14:47:08.003Z"
   },
   {
    "duration": 116,
    "start_time": "2021-10-04T14:47:24.514Z"
   },
   {
    "duration": 15,
    "start_time": "2021-10-04T14:47:25.899Z"
   },
   {
    "duration": 12,
    "start_time": "2021-10-04T14:47:32.953Z"
   },
   {
    "duration": 15,
    "start_time": "2021-10-04T14:47:34.952Z"
   },
   {
    "duration": 20,
    "start_time": "2021-10-04T14:47:37.559Z"
   },
   {
    "duration": 9,
    "start_time": "2021-10-04T14:47:42.760Z"
   },
   {
    "duration": 13,
    "start_time": "2021-10-04T14:47:44.903Z"
   },
   {
    "duration": 13,
    "start_time": "2021-10-04T14:47:47.515Z"
   },
   {
    "duration": 15,
    "start_time": "2021-10-04T14:47:50.063Z"
   },
   {
    "duration": 5750,
    "start_time": "2021-10-04T14:47:57.181Z"
   },
   {
    "duration": 3844,
    "start_time": "2021-10-04T14:48:22.006Z"
   },
   {
    "duration": 983,
    "start_time": "2021-10-04T14:48:43.131Z"
   },
   {
    "duration": 21,
    "start_time": "2021-10-04T14:48:44.117Z"
   },
   {
    "duration": 14,
    "start_time": "2021-10-04T14:48:44.141Z"
   },
   {
    "duration": 210,
    "start_time": "2021-10-04T14:48:44.157Z"
   },
   {
    "duration": 20,
    "start_time": "2021-10-04T14:48:44.369Z"
   },
   {
    "duration": 22,
    "start_time": "2021-10-04T14:48:44.392Z"
   },
   {
    "duration": 9,
    "start_time": "2021-10-04T14:48:44.420Z"
   },
   {
    "duration": 14,
    "start_time": "2021-10-04T14:48:44.432Z"
   },
   {
    "duration": 14,
    "start_time": "2021-10-04T14:48:44.448Z"
   },
   {
    "duration": 14,
    "start_time": "2021-10-04T14:48:44.464Z"
   },
   {
    "duration": 64,
    "start_time": "2021-10-04T14:48:44.481Z"
   },
   {
    "duration": 14,
    "start_time": "2021-10-04T14:48:44.547Z"
   },
   {
    "duration": 6,
    "start_time": "2021-10-04T14:48:44.563Z"
   },
   {
    "duration": 16,
    "start_time": "2021-10-04T14:48:44.571Z"
   },
   {
    "duration": 135,
    "start_time": "2021-10-04T14:48:44.590Z"
   },
   {
    "duration": 31,
    "start_time": "2021-10-04T14:49:57.008Z"
   },
   {
    "duration": 34,
    "start_time": "2021-10-04T14:51:10.584Z"
   },
   {
    "duration": 23,
    "start_time": "2021-10-04T14:51:20.490Z"
   },
   {
    "duration": 778,
    "start_time": "2021-10-04T14:53:13.270Z"
   },
   {
    "duration": 37,
    "start_time": "2021-10-04T15:07:27.257Z"
   },
   {
    "duration": 11,
    "start_time": "2021-10-04T15:07:27.296Z"
   },
   {
    "duration": 903,
    "start_time": "2021-10-04T15:12:24.331Z"
   },
   {
    "duration": 17,
    "start_time": "2021-10-04T15:12:25.238Z"
   },
   {
    "duration": 22,
    "start_time": "2021-10-04T15:12:25.258Z"
   },
   {
    "duration": 27,
    "start_time": "2021-10-04T15:12:25.282Z"
   },
   {
    "duration": 35,
    "start_time": "2021-10-04T15:12:25.311Z"
   },
   {
    "duration": 20,
    "start_time": "2021-10-04T15:12:25.349Z"
   },
   {
    "duration": 21,
    "start_time": "2021-10-04T15:12:25.371Z"
   },
   {
    "duration": 14,
    "start_time": "2021-10-04T15:12:25.395Z"
   },
   {
    "duration": 15,
    "start_time": "2021-10-04T15:12:25.423Z"
   },
   {
    "duration": 15,
    "start_time": "2021-10-04T15:12:25.441Z"
   },
   {
    "duration": 42,
    "start_time": "2021-10-04T15:12:25.458Z"
   },
   {
    "duration": 28,
    "start_time": "2021-10-04T15:12:25.502Z"
   },
   {
    "duration": 9,
    "start_time": "2021-10-04T15:12:25.533Z"
   },
   {
    "duration": 32,
    "start_time": "2021-10-04T15:12:25.544Z"
   },
   {
    "duration": 103,
    "start_time": "2021-10-04T15:12:25.578Z"
   },
   {
    "duration": 20,
    "start_time": "2021-10-04T15:13:05.745Z"
   },
   {
    "duration": 19,
    "start_time": "2021-10-04T15:22:43.483Z"
   },
   {
    "duration": 24,
    "start_time": "2021-10-04T15:23:23.017Z"
   },
   {
    "duration": 19,
    "start_time": "2021-10-04T15:24:42.702Z"
   },
   {
    "duration": 23,
    "start_time": "2021-10-04T15:25:09.894Z"
   },
   {
    "duration": 25,
    "start_time": "2021-10-04T15:25:35.525Z"
   },
   {
    "duration": 131,
    "start_time": "2021-10-04T15:25:46.166Z"
   },
   {
    "duration": 16,
    "start_time": "2021-10-04T15:25:47.802Z"
   },
   {
    "duration": 15,
    "start_time": "2021-10-04T15:25:53.957Z"
   },
   {
    "duration": 15,
    "start_time": "2021-10-04T15:25:58.212Z"
   },
   {
    "duration": 19,
    "start_time": "2021-10-04T15:26:04.949Z"
   },
   {
    "duration": 19,
    "start_time": "2021-10-04T15:26:10.677Z"
   },
   {
    "duration": 9,
    "start_time": "2021-10-04T15:26:13.537Z"
   },
   {
    "duration": 12,
    "start_time": "2021-10-04T15:26:17.343Z"
   },
   {
    "duration": 16,
    "start_time": "2021-10-04T15:26:20.921Z"
   },
   {
    "duration": 14,
    "start_time": "2021-10-04T15:26:24.591Z"
   },
   {
    "duration": 25,
    "start_time": "2021-10-04T15:26:31.207Z"
   },
   {
    "duration": 539,
    "start_time": "2021-10-04T15:28:50.527Z"
   },
   {
    "duration": 20,
    "start_time": "2021-10-04T15:31:12.143Z"
   },
   {
    "duration": 883,
    "start_time": "2021-10-04T15:35:35.227Z"
   },
   {
    "duration": 21,
    "start_time": "2021-10-04T15:35:36.113Z"
   },
   {
    "duration": 11,
    "start_time": "2021-10-04T15:35:36.138Z"
   },
   {
    "duration": 15,
    "start_time": "2021-10-04T15:35:36.152Z"
   },
   {
    "duration": 55,
    "start_time": "2021-10-04T15:35:36.169Z"
   },
   {
    "duration": 20,
    "start_time": "2021-10-04T15:35:36.227Z"
   },
   {
    "duration": 10,
    "start_time": "2021-10-04T15:35:36.250Z"
   },
   {
    "duration": 13,
    "start_time": "2021-10-04T15:35:36.265Z"
   },
   {
    "duration": 12,
    "start_time": "2021-10-04T15:35:36.322Z"
   },
   {
    "duration": 30,
    "start_time": "2021-10-04T15:35:36.336Z"
   },
   {
    "duration": 39,
    "start_time": "2021-10-04T15:35:36.370Z"
   },
   {
    "duration": 29,
    "start_time": "2021-10-04T15:35:36.411Z"
   },
   {
    "duration": 39,
    "start_time": "2021-10-04T15:35:36.443Z"
   },
   {
    "duration": 21,
    "start_time": "2021-10-04T15:35:36.484Z"
   },
   {
    "duration": 139,
    "start_time": "2021-10-04T15:35:36.507Z"
   },
   {
    "duration": 35,
    "start_time": "2021-10-04T15:35:47.445Z"
   },
   {
    "duration": 11,
    "start_time": "2021-10-04T15:36:41.500Z"
   },
   {
    "duration": 24,
    "start_time": "2021-10-04T15:37:13.743Z"
   },
   {
    "duration": 29,
    "start_time": "2021-10-04T15:37:21.691Z"
   },
   {
    "duration": 35,
    "start_time": "2021-10-04T15:37:25.145Z"
   },
   {
    "duration": 70,
    "start_time": "2021-10-04T15:40:09.437Z"
   },
   {
    "duration": 67,
    "start_time": "2021-10-04T15:40:29.189Z"
   },
   {
    "duration": 11,
    "start_time": "2021-10-04T15:40:42.187Z"
   },
   {
    "duration": 6,
    "start_time": "2021-10-04T15:41:34.237Z"
   },
   {
    "duration": 31,
    "start_time": "2021-10-04T15:41:34.247Z"
   },
   {
    "duration": 6,
    "start_time": "2021-10-04T15:42:35.052Z"
   },
   {
    "duration": 6,
    "start_time": "2021-10-04T15:43:00.127Z"
   },
   {
    "duration": 13,
    "start_time": "2021-10-04T15:44:44.471Z"
   },
   {
    "duration": 10,
    "start_time": "2021-10-04T15:47:21.795Z"
   },
   {
    "duration": 8,
    "start_time": "2021-10-04T15:49:22.165Z"
   },
   {
    "duration": 39,
    "start_time": "2021-10-04T15:50:13.150Z"
   },
   {
    "duration": 416,
    "start_time": "2021-10-04T15:53:39.437Z"
   },
   {
    "duration": 12,
    "start_time": "2021-10-04T15:54:16.740Z"
   },
   {
    "duration": 15,
    "start_time": "2021-10-04T15:54:22.986Z"
   },
   {
    "duration": 16,
    "start_time": "2021-10-04T15:54:26.019Z"
   },
   {
    "duration": 290,
    "start_time": "2021-10-04T15:56:24.088Z"
   },
   {
    "duration": 888,
    "start_time": "2021-10-04T16:21:35.004Z"
   },
   {
    "duration": 15,
    "start_time": "2021-10-04T16:21:35.895Z"
   },
   {
    "duration": 16,
    "start_time": "2021-10-04T16:21:35.914Z"
   },
   {
    "duration": 25,
    "start_time": "2021-10-04T16:21:35.933Z"
   },
   {
    "duration": 21,
    "start_time": "2021-10-04T16:21:35.961Z"
   },
   {
    "duration": 40,
    "start_time": "2021-10-04T16:21:35.984Z"
   },
   {
    "duration": 8,
    "start_time": "2021-10-04T16:21:36.026Z"
   },
   {
    "duration": 12,
    "start_time": "2021-10-04T16:21:36.038Z"
   },
   {
    "duration": 20,
    "start_time": "2021-10-04T16:21:36.053Z"
   },
   {
    "duration": 12,
    "start_time": "2021-10-04T16:21:36.076Z"
   },
   {
    "duration": 370,
    "start_time": "2021-10-04T16:21:36.124Z"
   },
   {
    "duration": -15,
    "start_time": "2021-10-04T16:21:36.512Z"
   },
   {
    "duration": -24,
    "start_time": "2021-10-04T16:21:36.522Z"
   },
   {
    "duration": -27,
    "start_time": "2021-10-04T16:21:36.527Z"
   },
   {
    "duration": -36,
    "start_time": "2021-10-04T16:21:36.537Z"
   },
   {
    "duration": 12,
    "start_time": "2021-10-04T16:23:41.898Z"
   },
   {
    "duration": 3,
    "start_time": "2021-10-04T16:23:51.767Z"
   },
   {
    "duration": 8,
    "start_time": "2021-10-04T16:24:51.601Z"
   },
   {
    "duration": 16,
    "start_time": "2021-10-04T16:28:08.526Z"
   },
   {
    "duration": 15,
    "start_time": "2021-10-04T16:28:42.806Z"
   },
   {
    "duration": 79,
    "start_time": "2021-10-04T16:28:42.845Z"
   },
   {
    "duration": 22,
    "start_time": "2021-10-04T16:29:23.352Z"
   },
   {
    "duration": 44,
    "start_time": "2021-10-04T16:31:42.715Z"
   },
   {
    "duration": 18,
    "start_time": "2021-10-04T16:35:08.732Z"
   },
   {
    "duration": 16,
    "start_time": "2021-10-04T16:35:32.213Z"
   },
   {
    "duration": 15,
    "start_time": "2021-10-04T16:36:56.477Z"
   },
   {
    "duration": 12,
    "start_time": "2021-10-04T16:38:10.807Z"
   },
   {
    "duration": 10,
    "start_time": "2021-10-04T16:39:43.707Z"
   },
   {
    "duration": 9,
    "start_time": "2021-10-04T16:40:17.250Z"
   },
   {
    "duration": 140,
    "start_time": "2021-10-04T16:41:49.772Z"
   },
   {
    "duration": 41,
    "start_time": "2021-10-04T16:43:08.013Z"
   },
   {
    "duration": 60,
    "start_time": "2021-10-04T16:43:25.754Z"
   },
   {
    "duration": 54,
    "start_time": "2021-10-04T16:45:50.784Z"
   },
   {
    "duration": 51,
    "start_time": "2021-10-04T16:47:42.723Z"
   },
   {
    "duration": 7,
    "start_time": "2021-10-04T16:55:37.896Z"
   },
   {
    "duration": 7,
    "start_time": "2021-10-04T16:55:53.858Z"
   },
   {
    "duration": 12,
    "start_time": "2021-10-04T16:56:06.737Z"
   },
   {
    "duration": 56,
    "start_time": "2021-10-04T16:57:36.141Z"
   },
   {
    "duration": 1082,
    "start_time": "2021-10-04T16:58:17.330Z"
   },
   {
    "duration": 18,
    "start_time": "2021-10-04T16:58:21.150Z"
   },
   {
    "duration": 14,
    "start_time": "2021-10-04T16:58:30.671Z"
   },
   {
    "duration": 14,
    "start_time": "2021-10-04T16:58:34.341Z"
   },
   {
    "duration": 20,
    "start_time": "2021-10-04T16:58:42.431Z"
   },
   {
    "duration": 19,
    "start_time": "2021-10-04T16:58:46.222Z"
   },
   {
    "duration": 8,
    "start_time": "2021-10-04T16:58:54.728Z"
   },
   {
    "duration": 13,
    "start_time": "2021-10-04T16:58:58.183Z"
   },
   {
    "duration": 54,
    "start_time": "2021-10-04T16:59:03.203Z"
   },
   {
    "duration": 34,
    "start_time": "2021-10-04T16:59:21.755Z"
   },
   {
    "duration": 11,
    "start_time": "2021-10-04T17:00:24.367Z"
   },
   {
    "duration": 14,
    "start_time": "2021-10-04T17:00:31.687Z"
   },
   {
    "duration": 3,
    "start_time": "2021-10-04T17:00:40.641Z"
   },
   {
    "duration": 35,
    "start_time": "2021-10-04T17:00:41.034Z"
   },
   {
    "duration": 13,
    "start_time": "2021-10-04T17:01:40.767Z"
   },
   {
    "duration": 12,
    "start_time": "2021-10-04T17:03:34.977Z"
   },
   {
    "duration": 17,
    "start_time": "2021-10-04T17:06:03.412Z"
   },
   {
    "duration": 14,
    "start_time": "2021-10-04T17:07:01.438Z"
   },
   {
    "duration": 573,
    "start_time": "2021-10-04T17:09:56.009Z"
   },
   {
    "duration": 19,
    "start_time": "2021-10-04T17:10:13.578Z"
   },
   {
    "duration": 28,
    "start_time": "2021-10-04T17:10:57.818Z"
   },
   {
    "duration": 850,
    "start_time": "2021-10-04T17:13:15.162Z"
   },
   {
    "duration": 19,
    "start_time": "2021-10-04T17:13:16.015Z"
   },
   {
    "duration": 30,
    "start_time": "2021-10-04T17:13:16.038Z"
   },
   {
    "duration": 15,
    "start_time": "2021-10-04T17:13:16.072Z"
   },
   {
    "duration": 44,
    "start_time": "2021-10-04T17:13:16.090Z"
   },
   {
    "duration": 17,
    "start_time": "2021-10-04T17:13:16.136Z"
   },
   {
    "duration": 21,
    "start_time": "2021-10-04T17:13:16.156Z"
   },
   {
    "duration": 30,
    "start_time": "2021-10-04T17:13:16.180Z"
   },
   {
    "duration": 41,
    "start_time": "2021-10-04T17:13:16.213Z"
   },
   {
    "duration": 11,
    "start_time": "2021-10-04T17:13:16.258Z"
   },
   {
    "duration": 37,
    "start_time": "2021-10-04T17:13:16.272Z"
   },
   {
    "duration": 23,
    "start_time": "2021-10-04T17:13:16.311Z"
   },
   {
    "duration": 26,
    "start_time": "2021-10-04T17:13:16.336Z"
   },
   {
    "duration": 28,
    "start_time": "2021-10-04T17:13:16.364Z"
   },
   {
    "duration": 368,
    "start_time": "2021-10-04T17:13:16.394Z"
   },
   {
    "duration": 139,
    "start_time": "2021-10-04T17:13:16.625Z"
   },
   {
    "duration": 132,
    "start_time": "2021-10-04T17:13:16.634Z"
   },
   {
    "duration": 125,
    "start_time": "2021-10-04T17:13:16.642Z"
   },
   {
    "duration": 18,
    "start_time": "2021-10-04T17:14:46.845Z"
   },
   {
    "duration": 836,
    "start_time": "2021-10-04T17:16:49.366Z"
   },
   {
    "duration": 25,
    "start_time": "2021-10-04T17:16:50.205Z"
   },
   {
    "duration": 11,
    "start_time": "2021-10-04T17:16:50.233Z"
   },
   {
    "duration": 15,
    "start_time": "2021-10-04T17:16:50.246Z"
   },
   {
    "duration": 25,
    "start_time": "2021-10-04T17:16:50.264Z"
   },
   {
    "duration": 42,
    "start_time": "2021-10-04T17:16:50.292Z"
   },
   {
    "duration": 8,
    "start_time": "2021-10-04T17:16:50.337Z"
   },
   {
    "duration": 19,
    "start_time": "2021-10-04T17:16:50.348Z"
   },
   {
    "duration": 67,
    "start_time": "2021-10-04T17:16:50.370Z"
   },
   {
    "duration": 9,
    "start_time": "2021-10-04T17:16:50.440Z"
   },
   {
    "duration": 16,
    "start_time": "2021-10-04T17:16:50.452Z"
   },
   {
    "duration": 5,
    "start_time": "2021-10-04T17:16:50.471Z"
   },
   {
    "duration": 47,
    "start_time": "2021-10-04T17:16:50.478Z"
   },
   {
    "duration": 19,
    "start_time": "2021-10-04T17:16:50.528Z"
   },
   {
    "duration": 367,
    "start_time": "2021-10-04T17:16:50.550Z"
   },
   {
    "duration": 170,
    "start_time": "2021-10-04T17:16:50.750Z"
   },
   {
    "duration": 141,
    "start_time": "2021-10-04T17:16:50.781Z"
   },
   {
    "duration": 115,
    "start_time": "2021-10-04T17:16:50.809Z"
   },
   {
    "duration": 15,
    "start_time": "2021-10-04T17:17:22.753Z"
   },
   {
    "duration": 16,
    "start_time": "2021-10-04T17:18:02.171Z"
   },
   {
    "duration": 911,
    "start_time": "2021-10-04T17:29:42.299Z"
   },
   {
    "duration": 15,
    "start_time": "2021-10-04T17:29:43.213Z"
   },
   {
    "duration": 29,
    "start_time": "2021-10-04T17:29:43.231Z"
   },
   {
    "duration": 23,
    "start_time": "2021-10-04T17:29:43.263Z"
   },
   {
    "duration": 34,
    "start_time": "2021-10-04T17:29:43.288Z"
   },
   {
    "duration": 29,
    "start_time": "2021-10-04T17:29:43.325Z"
   },
   {
    "duration": 13,
    "start_time": "2021-10-04T17:29:43.356Z"
   },
   {
    "duration": 32,
    "start_time": "2021-10-04T17:29:43.373Z"
   },
   {
    "duration": 49,
    "start_time": "2021-10-04T17:29:43.408Z"
   },
   {
    "duration": 11,
    "start_time": "2021-10-04T17:29:43.460Z"
   },
   {
    "duration": 50,
    "start_time": "2021-10-04T17:29:43.474Z"
   },
   {
    "duration": 3,
    "start_time": "2021-10-04T17:29:43.527Z"
   },
   {
    "duration": 35,
    "start_time": "2021-10-04T17:29:43.533Z"
   },
   {
    "duration": 31,
    "start_time": "2021-10-04T17:29:43.571Z"
   },
   {
    "duration": 433,
    "start_time": "2021-10-04T17:29:43.605Z"
   },
   {
    "duration": -2236,
    "start_time": "2021-10-04T17:29:46.277Z"
   },
   {
    "duration": -2237,
    "start_time": "2021-10-04T17:29:46.280Z"
   },
   {
    "duration": -2241,
    "start_time": "2021-10-04T17:29:46.285Z"
   },
   {
    "duration": 17,
    "start_time": "2021-10-04T17:30:34.937Z"
   },
   {
    "duration": 16,
    "start_time": "2021-10-04T17:31:25.411Z"
   },
   {
    "duration": 340,
    "start_time": "2021-10-04T17:32:05.106Z"
   },
   {
    "duration": 8273,
    "start_time": "2021-10-04T17:32:28.773Z"
   },
   {
    "duration": 13,
    "start_time": "2021-10-04T17:35:21.913Z"
   },
   {
    "duration": 653,
    "start_time": "2021-10-04T17:53:45.124Z"
   },
   {
    "duration": 577,
    "start_time": "2021-10-04T17:54:26.506Z"
   },
   {
    "duration": 497,
    "start_time": "2021-10-04T17:55:29.055Z"
   },
   {
    "duration": 501,
    "start_time": "2021-10-04T17:56:26.894Z"
   },
   {
    "duration": 581,
    "start_time": "2021-10-04T17:57:15.855Z"
   },
   {
    "duration": 515,
    "start_time": "2021-10-04T17:57:42.572Z"
   },
   {
    "duration": 323,
    "start_time": "2021-10-04T18:03:32.111Z"
   },
   {
    "duration": 333,
    "start_time": "2021-10-04T18:03:54.764Z"
   },
   {
    "duration": 970,
    "start_time": "2021-10-06T19:17:55.680Z"
   },
   {
    "duration": 16,
    "start_time": "2021-10-06T19:18:00.980Z"
   },
   {
    "duration": 11,
    "start_time": "2021-10-06T19:18:15.841Z"
   },
   {
    "duration": 14,
    "start_time": "2021-10-06T19:18:32.450Z"
   },
   {
    "duration": 17,
    "start_time": "2021-10-06T19:18:36.002Z"
   },
   {
    "duration": 8,
    "start_time": "2021-10-06T19:18:47.861Z"
   },
   {
    "duration": 12,
    "start_time": "2021-10-06T19:18:51.650Z"
   },
   {
    "duration": 34,
    "start_time": "2021-10-06T19:19:00.651Z"
   },
   {
    "duration": 9,
    "start_time": "2021-10-06T19:19:30.550Z"
   },
   {
    "duration": 15,
    "start_time": "2021-10-06T19:19:32.490Z"
   },
   {
    "duration": 19,
    "start_time": "2021-10-06T19:19:38.142Z"
   },
   {
    "duration": 13,
    "start_time": "2021-10-06T19:20:09.272Z"
   },
   {
    "duration": 17,
    "start_time": "2021-10-06T19:20:39.400Z"
   },
   {
    "duration": 17,
    "start_time": "2021-10-06T19:21:47.770Z"
   },
   {
    "duration": 6598,
    "start_time": "2021-10-06T19:23:38.100Z"
   },
   {
    "duration": 12,
    "start_time": "2021-10-06T19:24:18.063Z"
   },
   {
    "duration": 57,
    "start_time": "2021-10-06T19:24:29.214Z"
   },
   {
    "duration": 29,
    "start_time": "2021-10-06T19:27:21.460Z"
   },
   {
    "duration": 44,
    "start_time": "2021-10-06T19:27:34.780Z"
   },
   {
    "duration": 16,
    "start_time": "2021-10-06T19:27:52.051Z"
   },
   {
    "duration": 29,
    "start_time": "2021-10-06T19:28:49.900Z"
   },
   {
    "duration": 22,
    "start_time": "2021-10-06T19:30:54.816Z"
   },
   {
    "duration": 19,
    "start_time": "2021-10-06T19:31:13.325Z"
   },
   {
    "duration": 14,
    "start_time": "2021-10-06T19:33:08.119Z"
   },
   {
    "duration": 19,
    "start_time": "2021-10-06T19:33:51.063Z"
   },
   {
    "duration": 29,
    "start_time": "2021-10-06T19:38:45.931Z"
   },
   {
    "duration": 22,
    "start_time": "2021-10-06T19:39:35.121Z"
   },
   {
    "duration": 1096,
    "start_time": "2021-10-06T19:40:15.681Z"
   },
   {
    "duration": 49,
    "start_time": "2021-10-06T19:40:16.781Z"
   },
   {
    "duration": 12,
    "start_time": "2021-10-06T19:40:17.091Z"
   },
   {
    "duration": 21,
    "start_time": "2021-10-06T19:40:17.105Z"
   },
   {
    "duration": 18,
    "start_time": "2021-10-06T19:40:17.129Z"
   },
   {
    "duration": 19,
    "start_time": "2021-10-06T19:40:17.149Z"
   },
   {
    "duration": 7,
    "start_time": "2021-10-06T19:40:17.170Z"
   },
   {
    "duration": 52,
    "start_time": "2021-10-06T19:40:17.179Z"
   },
   {
    "duration": 33,
    "start_time": "2021-10-06T19:40:17.234Z"
   },
   {
    "duration": 10,
    "start_time": "2021-10-06T19:40:17.273Z"
   },
   {
    "duration": 48,
    "start_time": "2021-10-06T19:40:17.286Z"
   },
   {
    "duration": 3,
    "start_time": "2021-10-06T19:40:17.337Z"
   },
   {
    "duration": 17,
    "start_time": "2021-10-06T19:40:17.343Z"
   },
   {
    "duration": 78,
    "start_time": "2021-10-06T19:40:17.363Z"
   },
   {
    "duration": 344,
    "start_time": "2021-10-06T19:40:17.444Z"
   },
   {
    "duration": -295,
    "start_time": "2021-10-06T19:40:18.087Z"
   },
   {
    "duration": -304,
    "start_time": "2021-10-06T19:40:18.098Z"
   },
   {
    "duration": -310,
    "start_time": "2021-10-06T19:40:18.106Z"
   },
   {
    "duration": 21,
    "start_time": "2021-10-06T19:41:45.288Z"
   },
   {
    "duration": 6303,
    "start_time": "2021-10-06T19:42:43.619Z"
   },
   {
    "duration": 13,
    "start_time": "2021-10-06T19:42:57.819Z"
   },
   {
    "duration": 8,
    "start_time": "2021-10-06T19:43:35.059Z"
   },
   {
    "duration": 248,
    "start_time": "2021-10-06T19:43:54.498Z"
   },
   {
    "duration": 6,
    "start_time": "2021-10-06T19:44:04.190Z"
   },
   {
    "duration": 63,
    "start_time": "2021-10-06T19:47:31.771Z"
   },
   {
    "duration": 22,
    "start_time": "2021-10-06T19:47:32.070Z"
   },
   {
    "duration": 71,
    "start_time": "2021-10-06T19:47:59.708Z"
   },
   {
    "duration": 71,
    "start_time": "2021-10-06T19:48:09.388Z"
   },
   {
    "duration": 49,
    "start_time": "2021-10-06T19:49:21.582Z"
   },
   {
    "duration": 59,
    "start_time": "2021-10-06T19:49:39.931Z"
   },
   {
    "duration": 55,
    "start_time": "2021-10-06T19:49:49.921Z"
   },
   {
    "duration": 57,
    "start_time": "2021-10-06T19:50:04.261Z"
   },
   {
    "duration": 6,
    "start_time": "2021-10-06T19:51:21.769Z"
   },
   {
    "duration": 55,
    "start_time": "2021-10-06T19:51:35.926Z"
   },
   {
    "duration": 11,
    "start_time": "2021-10-06T19:53:13.440Z"
   },
   {
    "duration": 6,
    "start_time": "2021-10-06T19:53:27.904Z"
   },
   {
    "duration": 6,
    "start_time": "2021-10-06T19:53:53.923Z"
   },
   {
    "duration": 8,
    "start_time": "2021-10-06T19:54:20.824Z"
   },
   {
    "duration": 7,
    "start_time": "2021-10-06T19:55:37.649Z"
   },
   {
    "duration": 11,
    "start_time": "2021-10-06T19:56:04.523Z"
   },
   {
    "duration": 621,
    "start_time": "2021-10-06T19:57:30.147Z"
   },
   {
    "duration": 259,
    "start_time": "2021-10-06T19:57:40.406Z"
   },
   {
    "duration": 14,
    "start_time": "2021-10-06T19:58:23.881Z"
   },
   {
    "duration": 8,
    "start_time": "2021-10-06T19:58:56.644Z"
   },
   {
    "duration": 22,
    "start_time": "2021-10-06T19:59:56.938Z"
   },
   {
    "duration": 15,
    "start_time": "2021-10-06T20:00:12.611Z"
   },
   {
    "duration": 6803,
    "start_time": "2021-10-06T20:00:54.067Z"
   },
   {
    "duration": -421,
    "start_time": "2021-10-06T20:01:08.439Z"
   },
   {
    "duration": 7,
    "start_time": "2021-10-06T20:01:15.582Z"
   },
   {
    "duration": 13,
    "start_time": "2021-10-06T20:01:25.405Z"
   },
   {
    "duration": 7,
    "start_time": "2021-10-06T20:02:44.145Z"
   },
   {
    "duration": 13,
    "start_time": "2021-10-06T20:05:45.307Z"
   },
   {
    "duration": 15,
    "start_time": "2021-10-06T20:06:13.804Z"
   },
   {
    "duration": 15,
    "start_time": "2021-10-06T20:07:24.093Z"
   },
   {
    "duration": 8,
    "start_time": "2021-10-06T20:08:45.735Z"
   },
   {
    "duration": 11,
    "start_time": "2021-10-06T20:09:24.455Z"
   },
   {
    "duration": 8,
    "start_time": "2021-10-06T20:10:13.205Z"
   },
   {
    "duration": 8,
    "start_time": "2021-10-06T20:10:22.015Z"
   },
   {
    "duration": 14,
    "start_time": "2021-10-06T20:11:43.305Z"
   },
   {
    "duration": 922,
    "start_time": "2021-10-07T19:21:35.373Z"
   },
   {
    "duration": 15,
    "start_time": "2021-10-07T19:21:36.298Z"
   },
   {
    "duration": 11,
    "start_time": "2021-10-07T19:21:36.316Z"
   },
   {
    "duration": 38,
    "start_time": "2021-10-07T19:21:36.330Z"
   },
   {
    "duration": 17,
    "start_time": "2021-10-07T19:21:36.371Z"
   },
   {
    "duration": 20,
    "start_time": "2021-10-07T19:21:36.390Z"
   },
   {
    "duration": 7,
    "start_time": "2021-10-07T19:21:36.412Z"
   },
   {
    "duration": 49,
    "start_time": "2021-10-07T19:21:36.423Z"
   },
   {
    "duration": 39,
    "start_time": "2021-10-07T19:21:36.475Z"
   },
   {
    "duration": 11,
    "start_time": "2021-10-07T19:21:36.517Z"
   },
   {
    "duration": 44,
    "start_time": "2021-10-07T19:21:36.530Z"
   },
   {
    "duration": 4,
    "start_time": "2021-10-07T19:21:36.576Z"
   },
   {
    "duration": 24,
    "start_time": "2021-10-07T19:21:36.583Z"
   },
   {
    "duration": 59,
    "start_time": "2021-10-07T19:21:36.610Z"
   },
   {
    "duration": 14,
    "start_time": "2021-10-07T19:21:36.672Z"
   },
   {
    "duration": 11,
    "start_time": "2021-10-07T19:21:36.689Z"
   },
   {
    "duration": 17,
    "start_time": "2021-10-07T19:21:36.702Z"
   },
   {
    "duration": 52,
    "start_time": "2021-10-07T19:21:36.721Z"
   },
   {
    "duration": 11,
    "start_time": "2021-10-07T19:21:36.775Z"
   },
   {
    "duration": 15,
    "start_time": "2021-10-07T19:22:46.390Z"
   },
   {
    "duration": 15,
    "start_time": "2021-10-07T19:25:45.169Z"
   },
   {
    "duration": 17,
    "start_time": "2021-10-07T19:26:38.264Z"
   },
   {
    "duration": 9,
    "start_time": "2021-10-07T19:27:11.324Z"
   },
   {
    "duration": 9,
    "start_time": "2021-10-07T19:27:33.560Z"
   },
   {
    "duration": 8509,
    "start_time": "2021-10-07T19:28:02.430Z"
   },
   {
    "duration": 269,
    "start_time": "2021-10-07T19:28:35.807Z"
   },
   {
    "duration": 7144,
    "start_time": "2021-10-07T19:29:41.559Z"
   },
   {
    "duration": 51,
    "start_time": "2021-10-07T19:31:07.132Z"
   },
   {
    "duration": 74,
    "start_time": "2021-10-07T19:31:23.302Z"
   },
   {
    "duration": 15,
    "start_time": "2021-10-07T19:32:23.616Z"
   },
   {
    "duration": 13,
    "start_time": "2021-10-07T19:33:56.770Z"
   },
   {
    "duration": 12,
    "start_time": "2021-10-07T19:34:38.902Z"
   },
   {
    "duration": 14,
    "start_time": "2021-10-07T19:34:54.215Z"
   },
   {
    "duration": 12,
    "start_time": "2021-10-07T19:35:02.714Z"
   },
   {
    "duration": 13,
    "start_time": "2021-10-07T19:35:07.013Z"
   },
   {
    "duration": 897,
    "start_time": "2021-10-07T19:35:57.566Z"
   },
   {
    "duration": 17,
    "start_time": "2021-10-07T19:36:03.877Z"
   },
   {
    "duration": 14,
    "start_time": "2021-10-07T19:36:08.237Z"
   },
   {
    "duration": 14,
    "start_time": "2021-10-07T19:36:11.387Z"
   },
   {
    "duration": 19,
    "start_time": "2021-10-07T19:36:14.447Z"
   },
   {
    "duration": 21,
    "start_time": "2021-10-07T19:36:18.019Z"
   },
   {
    "duration": 8,
    "start_time": "2021-10-07T19:36:22.357Z"
   },
   {
    "duration": 13,
    "start_time": "2021-10-07T19:36:27.878Z"
   },
   {
    "duration": 36,
    "start_time": "2021-10-07T19:36:31.447Z"
   },
   {
    "duration": 10,
    "start_time": "2021-10-07T19:36:35.358Z"
   },
   {
    "duration": 14,
    "start_time": "2021-10-07T19:36:38.998Z"
   },
   {
    "duration": 19,
    "start_time": "2021-10-07T19:36:42.227Z"
   },
   {
    "duration": 26,
    "start_time": "2021-10-07T19:36:47.997Z"
   },
   {
    "duration": 12,
    "start_time": "2021-10-07T19:36:56.247Z"
   },
   {
    "duration": 10,
    "start_time": "2021-10-07T19:36:59.367Z"
   },
   {
    "duration": 16,
    "start_time": "2021-10-07T19:37:03.727Z"
   },
   {
    "duration": 13,
    "start_time": "2021-10-07T19:37:34.008Z"
   },
   {
    "duration": 13,
    "start_time": "2021-10-07T19:37:50.608Z"
   },
   {
    "duration": 14,
    "start_time": "2021-10-07T19:38:23.918Z"
   },
   {
    "duration": 7293,
    "start_time": "2021-10-07T19:39:26.832Z"
   },
   {
    "duration": 15,
    "start_time": "2021-10-07T19:39:42.678Z"
   },
   {
    "duration": 16,
    "start_time": "2021-10-07T19:40:26.488Z"
   },
   {
    "duration": 15,
    "start_time": "2021-10-07T19:41:14.362Z"
   },
   {
    "duration": 13,
    "start_time": "2021-10-07T19:42:00.311Z"
   },
   {
    "duration": 921,
    "start_time": "2021-10-07T19:42:22.636Z"
   },
   {
    "duration": 16,
    "start_time": "2021-10-07T19:42:23.568Z"
   },
   {
    "duration": 12,
    "start_time": "2021-10-07T19:42:23.587Z"
   },
   {
    "duration": 14,
    "start_time": "2021-10-07T19:42:23.602Z"
   },
   {
    "duration": 60,
    "start_time": "2021-10-07T19:42:23.619Z"
   },
   {
    "duration": 26,
    "start_time": "2021-10-07T19:42:23.681Z"
   },
   {
    "duration": 10,
    "start_time": "2021-10-07T19:42:23.709Z"
   },
   {
    "duration": 55,
    "start_time": "2021-10-07T19:42:23.721Z"
   },
   {
    "duration": 44,
    "start_time": "2021-10-07T19:42:23.781Z"
   },
   {
    "duration": 39,
    "start_time": "2021-10-07T19:42:23.828Z"
   },
   {
    "duration": 16,
    "start_time": "2021-10-07T19:42:23.870Z"
   },
   {
    "duration": 3,
    "start_time": "2021-10-07T19:42:23.888Z"
   },
   {
    "duration": 24,
    "start_time": "2021-10-07T19:42:23.893Z"
   },
   {
    "duration": 71,
    "start_time": "2021-10-07T19:42:23.919Z"
   },
   {
    "duration": 11,
    "start_time": "2021-10-07T19:42:23.993Z"
   },
   {
    "duration": 12,
    "start_time": "2021-10-07T19:42:24.008Z"
   },
   {
    "duration": 58,
    "start_time": "2021-10-07T19:42:24.023Z"
   },
   {
    "duration": 15,
    "start_time": "2021-10-07T19:42:24.084Z"
   },
   {
    "duration": 19,
    "start_time": "2021-10-07T19:42:24.102Z"
   },
   {
    "duration": 50,
    "start_time": "2021-10-07T19:42:24.124Z"
   },
   {
    "duration": 1038,
    "start_time": "2021-10-07T19:43:03.685Z"
   },
   {
    "duration": 17,
    "start_time": "2021-10-07T19:43:08.455Z"
   },
   {
    "duration": 12,
    "start_time": "2021-10-07T19:43:13.836Z"
   },
   {
    "duration": 13,
    "start_time": "2021-10-07T19:43:17.246Z"
   },
   {
    "duration": 19,
    "start_time": "2021-10-07T19:43:20.276Z"
   },
   {
    "duration": 19,
    "start_time": "2021-10-07T19:43:23.245Z"
   },
   {
    "duration": 8,
    "start_time": "2021-10-07T19:43:26.215Z"
   },
   {
    "duration": 13,
    "start_time": "2021-10-07T19:43:28.995Z"
   },
   {
    "duration": 38,
    "start_time": "2021-10-07T19:43:31.805Z"
   },
   {
    "duration": 13,
    "start_time": "2021-10-07T19:43:35.065Z"
   },
   {
    "duration": 17,
    "start_time": "2021-10-07T19:43:43.556Z"
   },
   {
    "duration": 21,
    "start_time": "2021-10-07T19:43:47.036Z"
   },
   {
    "duration": 32,
    "start_time": "2021-10-07T19:43:55.156Z"
   },
   {
    "duration": 16,
    "start_time": "2021-10-07T19:44:00.625Z"
   },
   {
    "duration": 9,
    "start_time": "2021-10-07T19:44:05.435Z"
   },
   {
    "duration": 14,
    "start_time": "2021-10-07T19:44:10.033Z"
   },
   {
    "duration": 9,
    "start_time": "2021-10-07T19:44:41.311Z"
   },
   {
    "duration": 12,
    "start_time": "2021-10-07T19:47:35.793Z"
   },
   {
    "duration": 16,
    "start_time": "2021-10-07T19:48:40.618Z"
   },
   {
    "duration": 13,
    "start_time": "2021-10-07T19:49:36.169Z"
   },
   {
    "duration": 887,
    "start_time": "2021-10-07T19:51:27.262Z"
   },
   {
    "duration": 16,
    "start_time": "2021-10-07T19:51:29.332Z"
   },
   {
    "duration": 12,
    "start_time": "2021-10-07T19:51:34.221Z"
   },
   {
    "duration": 15,
    "start_time": "2021-10-07T19:51:36.891Z"
   },
   {
    "duration": 20,
    "start_time": "2021-10-07T19:51:40.641Z"
   },
   {
    "duration": 19,
    "start_time": "2021-10-07T19:51:43.051Z"
   },
   {
    "duration": 8,
    "start_time": "2021-10-07T19:51:45.511Z"
   },
   {
    "duration": 14,
    "start_time": "2021-10-07T19:51:47.051Z"
   },
   {
    "duration": 40,
    "start_time": "2021-10-07T19:51:50.031Z"
   },
   {
    "duration": 13,
    "start_time": "2021-10-07T19:51:53.902Z"
   },
   {
    "duration": 14,
    "start_time": "2021-10-07T19:51:57.622Z"
   },
   {
    "duration": 18,
    "start_time": "2021-10-07T19:52:00.371Z"
   },
   {
    "duration": 23,
    "start_time": "2021-10-07T19:52:04.885Z"
   },
   {
    "duration": 12,
    "start_time": "2021-10-07T19:52:08.342Z"
   },
   {
    "duration": 9,
    "start_time": "2021-10-07T19:52:11.222Z"
   },
   {
    "duration": 17,
    "start_time": "2021-10-07T19:53:40.855Z"
   },
   {
    "duration": 14,
    "start_time": "2021-10-07T19:54:19.419Z"
   },
   {
    "duration": 11,
    "start_time": "2021-10-07T19:54:23.195Z"
   },
   {
    "duration": 14,
    "start_time": "2021-10-07T19:56:16.568Z"
   },
   {
    "duration": 15,
    "start_time": "2021-10-07T19:56:57.816Z"
   },
   {
    "duration": 354,
    "start_time": "2021-10-07T19:58:13.110Z"
   },
   {
    "duration": 297,
    "start_time": "2021-10-07T19:59:35.012Z"
   },
   {
    "duration": 8,
    "start_time": "2021-10-07T20:00:28.871Z"
   },
   {
    "duration": 51,
    "start_time": "2021-10-07T20:00:51.327Z"
   },
   {
    "duration": 13,
    "start_time": "2021-10-07T20:02:02.889Z"
   },
   {
    "duration": 43,
    "start_time": "2021-10-07T20:08:31.328Z"
   },
   {
    "duration": 24,
    "start_time": "2021-10-07T20:10:09.656Z"
   },
   {
    "duration": 44,
    "start_time": "2021-10-07T20:11:10.904Z"
   },
   {
    "duration": 41,
    "start_time": "2021-10-07T20:11:18.206Z"
   },
   {
    "duration": 7,
    "start_time": "2021-10-07T20:11:37.215Z"
   },
   {
    "duration": 9,
    "start_time": "2021-10-07T20:12:13.072Z"
   },
   {
    "duration": 12,
    "start_time": "2021-10-07T20:12:25.042Z"
   },
   {
    "duration": 21,
    "start_time": "2021-10-07T20:19:30.760Z"
   },
   {
    "duration": 21,
    "start_time": "2021-10-07T20:22:34.296Z"
   },
   {
    "duration": 85,
    "start_time": "2021-10-07T20:22:44.027Z"
   },
   {
    "duration": 81,
    "start_time": "2021-10-07T20:23:52.528Z"
   },
   {
    "duration": 1292,
    "start_time": "2021-10-07T20:23:58.837Z"
   },
   {
    "duration": 95,
    "start_time": "2021-10-07T20:25:07.506Z"
   },
   {
    "duration": 99,
    "start_time": "2021-10-07T20:25:16.329Z"
   },
   {
    "duration": 106,
    "start_time": "2021-10-07T20:25:23.269Z"
   },
   {
    "duration": 1205,
    "start_time": "2021-10-07T20:29:42.087Z"
   },
   {
    "duration": 137,
    "start_time": "2021-10-07T20:32:01.449Z"
   },
   {
    "duration": 1664,
    "start_time": "2021-10-07T20:32:16.515Z"
   },
   {
    "duration": 864,
    "start_time": "2021-10-08T20:36:17.216Z"
   },
   {
    "duration": 16,
    "start_time": "2021-10-08T20:36:18.084Z"
   },
   {
    "duration": 10,
    "start_time": "2021-10-08T20:36:18.102Z"
   },
   {
    "duration": 11,
    "start_time": "2021-10-08T20:36:18.114Z"
   },
   {
    "duration": 13,
    "start_time": "2021-10-08T20:36:18.127Z"
   },
   {
    "duration": 57,
    "start_time": "2021-10-08T20:36:18.142Z"
   },
   {
    "duration": 6,
    "start_time": "2021-10-08T20:36:18.201Z"
   },
   {
    "duration": 28,
    "start_time": "2021-10-08T20:36:18.208Z"
   },
   {
    "duration": 31,
    "start_time": "2021-10-08T20:36:18.239Z"
   },
   {
    "duration": 12,
    "start_time": "2021-10-08T20:36:18.281Z"
   },
   {
    "duration": 10,
    "start_time": "2021-10-08T20:36:18.295Z"
   },
   {
    "duration": 6,
    "start_time": "2021-10-08T20:36:18.306Z"
   },
   {
    "duration": 20,
    "start_time": "2021-10-08T20:36:18.313Z"
   },
   {
    "duration": 18,
    "start_time": "2021-10-08T20:36:18.334Z"
   },
   {
    "duration": 35,
    "start_time": "2021-10-08T20:36:18.354Z"
   },
   {
    "duration": 9,
    "start_time": "2021-10-08T20:36:18.391Z"
   },
   {
    "duration": 8,
    "start_time": "2021-10-08T20:36:18.402Z"
   },
   {
    "duration": 8,
    "start_time": "2021-10-08T20:36:18.412Z"
   },
   {
    "duration": 9,
    "start_time": "2021-10-08T20:36:18.421Z"
   },
   {
    "duration": 69,
    "start_time": "2021-10-08T20:36:18.432Z"
   },
   {
    "duration": 21,
    "start_time": "2021-10-08T20:36:18.503Z"
   },
   {
    "duration": 2624,
    "start_time": "2021-10-08T20:36:39.183Z"
   },
   {
    "duration": 1435,
    "start_time": "2021-10-08T20:37:13.923Z"
   },
   {
    "duration": 852,
    "start_time": "2021-10-08T20:37:37.963Z"
   },
   {
    "duration": 20,
    "start_time": "2021-10-08T20:37:38.817Z"
   },
   {
    "duration": 12,
    "start_time": "2021-10-08T20:37:38.839Z"
   },
   {
    "duration": 29,
    "start_time": "2021-10-08T20:37:38.853Z"
   },
   {
    "duration": 16,
    "start_time": "2021-10-08T20:37:38.884Z"
   },
   {
    "duration": 13,
    "start_time": "2021-10-08T20:37:38.902Z"
   },
   {
    "duration": 6,
    "start_time": "2021-10-08T20:37:38.917Z"
   },
   {
    "duration": 15,
    "start_time": "2021-10-08T20:37:38.925Z"
   },
   {
    "duration": 54,
    "start_time": "2021-10-08T20:37:38.942Z"
   },
   {
    "duration": 6,
    "start_time": "2021-10-08T20:37:38.998Z"
   },
   {
    "duration": 10,
    "start_time": "2021-10-08T20:37:39.006Z"
   },
   {
    "duration": 2,
    "start_time": "2021-10-08T20:37:39.017Z"
   },
   {
    "duration": 15,
    "start_time": "2021-10-08T20:37:39.021Z"
   },
   {
    "duration": 53,
    "start_time": "2021-10-08T20:37:39.038Z"
   },
   {
    "duration": 14,
    "start_time": "2021-10-08T20:37:39.093Z"
   },
   {
    "duration": 6,
    "start_time": "2021-10-08T20:37:39.109Z"
   },
   {
    "duration": 9,
    "start_time": "2021-10-08T20:37:39.116Z"
   },
   {
    "duration": 8,
    "start_time": "2021-10-08T20:37:39.126Z"
   },
   {
    "duration": 9,
    "start_time": "2021-10-08T20:37:39.135Z"
   },
   {
    "duration": 28,
    "start_time": "2021-10-08T20:37:39.178Z"
   },
   {
    "duration": 32,
    "start_time": "2021-10-08T20:37:39.208Z"
   },
   {
    "duration": 1583,
    "start_time": "2021-10-08T20:37:59.633Z"
   },
   {
    "duration": 1479,
    "start_time": "2021-10-08T20:38:42.255Z"
   },
   {
    "duration": 1947,
    "start_time": "2021-10-08T20:39:11.383Z"
   },
   {
    "duration": 712,
    "start_time": "2021-10-08T20:39:25.245Z"
   },
   {
    "duration": 11,
    "start_time": "2021-10-08T20:39:25.959Z"
   },
   {
    "duration": 14,
    "start_time": "2021-10-08T20:39:25.977Z"
   },
   {
    "duration": 10,
    "start_time": "2021-10-08T20:39:25.994Z"
   },
   {
    "duration": 14,
    "start_time": "2021-10-08T20:39:26.006Z"
   },
   {
    "duration": 14,
    "start_time": "2021-10-08T20:39:26.022Z"
   },
   {
    "duration": 42,
    "start_time": "2021-10-08T20:39:26.037Z"
   },
   {
    "duration": 19,
    "start_time": "2021-10-08T20:39:26.081Z"
   },
   {
    "duration": 30,
    "start_time": "2021-10-08T20:39:26.103Z"
   },
   {
    "duration": 9,
    "start_time": "2021-10-08T20:39:26.135Z"
   },
   {
    "duration": 45,
    "start_time": "2021-10-08T20:39:26.146Z"
   },
   {
    "duration": 9,
    "start_time": "2021-10-08T20:39:26.194Z"
   },
   {
    "duration": 13,
    "start_time": "2021-10-08T20:39:26.205Z"
   },
   {
    "duration": 17,
    "start_time": "2021-10-08T20:39:26.220Z"
   },
   {
    "duration": 9,
    "start_time": "2021-10-08T20:39:26.239Z"
   },
   {
    "duration": 34,
    "start_time": "2021-10-08T20:39:26.251Z"
   },
   {
    "duration": 13,
    "start_time": "2021-10-08T20:39:26.288Z"
   },
   {
    "duration": 9,
    "start_time": "2021-10-08T20:39:26.303Z"
   },
   {
    "duration": 10,
    "start_time": "2021-10-08T20:39:26.314Z"
   },
   {
    "duration": 21,
    "start_time": "2021-10-08T20:39:26.326Z"
   },
   {
    "duration": 26,
    "start_time": "2021-10-08T20:39:26.380Z"
   },
   {
    "duration": 5,
    "start_time": "2021-10-08T20:39:41.265Z"
   },
   {
    "duration": 13,
    "start_time": "2021-10-08T20:40:21.276Z"
   },
   {
    "duration": 6,
    "start_time": "2021-10-08T20:40:43.666Z"
   },
   {
    "duration": 6,
    "start_time": "2021-10-08T20:41:02.700Z"
   },
   {
    "duration": 28,
    "start_time": "2021-10-08T20:41:14.500Z"
   },
   {
    "duration": 431,
    "start_time": "2021-10-08T20:41:41.823Z"
   },
   {
    "duration": 317,
    "start_time": "2021-10-08T20:41:53.554Z"
   },
   {
    "duration": 8,
    "start_time": "2021-10-08T20:42:08.480Z"
   },
   {
    "duration": 685,
    "start_time": "2021-10-08T20:42:29.428Z"
   },
   {
    "duration": 13,
    "start_time": "2021-10-08T20:42:33.922Z"
   },
   {
    "duration": 12,
    "start_time": "2021-10-08T20:42:38.194Z"
   },
   {
    "duration": 12,
    "start_time": "2021-10-08T20:42:42.022Z"
   },
   {
    "duration": 14,
    "start_time": "2021-10-08T20:42:45.593Z"
   },
   {
    "duration": 19,
    "start_time": "2021-10-08T20:42:48.879Z"
   },
   {
    "duration": 8,
    "start_time": "2021-10-08T20:42:52.390Z"
   },
   {
    "duration": 11,
    "start_time": "2021-10-08T20:42:55.624Z"
   },
   {
    "duration": 22,
    "start_time": "2021-10-08T20:42:58.732Z"
   },
   {
    "duration": 12,
    "start_time": "2021-10-08T20:43:01.474Z"
   },
   {
    "duration": 10,
    "start_time": "2021-10-08T20:43:03.538Z"
   },
   {
    "duration": 15,
    "start_time": "2021-10-08T20:43:06.250Z"
   },
   {
    "duration": 27,
    "start_time": "2021-10-08T20:43:09.086Z"
   },
   {
    "duration": 9,
    "start_time": "2021-10-08T20:43:12.910Z"
   },
   {
    "duration": 7,
    "start_time": "2021-10-08T20:43:16.910Z"
   },
   {
    "duration": 17,
    "start_time": "2021-10-08T20:43:18.176Z"
   },
   {
    "duration": 9,
    "start_time": "2021-10-08T20:43:21.164Z"
   },
   {
    "duration": 12,
    "start_time": "2021-10-08T20:43:23.670Z"
   },
   {
    "duration": 19,
    "start_time": "2021-10-08T20:43:25.645Z"
   },
   {
    "duration": 25,
    "start_time": "2021-10-08T20:43:28.578Z"
   },
   {
    "duration": 5,
    "start_time": "2021-10-08T20:43:36.950Z"
   },
   {
    "duration": 725,
    "start_time": "2021-10-08T20:43:50.434Z"
   },
   {
    "duration": 18,
    "start_time": "2021-10-08T20:43:52.654Z"
   },
   {
    "duration": 10,
    "start_time": "2021-10-08T20:43:57.526Z"
   },
   {
    "duration": 16,
    "start_time": "2021-10-08T20:44:02.274Z"
   },
   {
    "duration": 19,
    "start_time": "2021-10-08T20:44:04.786Z"
   },
   {
    "duration": 14,
    "start_time": "2021-10-08T20:44:07.000Z"
   },
   {
    "duration": 7,
    "start_time": "2021-10-08T20:44:09.596Z"
   },
   {
    "duration": 15,
    "start_time": "2021-10-08T20:44:11.064Z"
   },
   {
    "duration": 33,
    "start_time": "2021-10-08T20:44:12.872Z"
   },
   {
    "duration": 14,
    "start_time": "2021-10-08T20:44:16.986Z"
   },
   {
    "duration": 12,
    "start_time": "2021-10-08T20:44:18.600Z"
   },
   {
    "duration": 3,
    "start_time": "2021-10-08T20:44:20.810Z"
   },
   {
    "duration": 18,
    "start_time": "2021-10-08T20:44:21.450Z"
   },
   {
    "duration": 20,
    "start_time": "2021-10-08T20:44:23.611Z"
   },
   {
    "duration": 9,
    "start_time": "2021-10-08T20:44:24.750Z"
   },
   {
    "duration": 16,
    "start_time": "2021-10-08T20:44:26.774Z"
   },
   {
    "duration": 12,
    "start_time": "2021-10-08T20:44:27.706Z"
   },
   {
    "duration": 12,
    "start_time": "2021-10-08T20:44:29.686Z"
   },
   {
    "duration": 14,
    "start_time": "2021-10-08T20:44:31.942Z"
   },
   {
    "duration": 28,
    "start_time": "2021-10-08T20:44:35.645Z"
   },
   {
    "duration": 35,
    "start_time": "2021-10-08T20:45:15.272Z"
   },
   {
    "duration": 19,
    "start_time": "2021-10-08T20:45:18.455Z"
   },
   {
    "duration": 6,
    "start_time": "2021-10-08T20:45:20.892Z"
   },
   {
    "duration": 97,
    "start_time": "2021-10-08T20:45:40.723Z"
   },
   {
    "duration": 10,
    "start_time": "2021-10-08T20:45:52.908Z"
   },
   {
    "duration": 6,
    "start_time": "2021-10-08T20:47:04.754Z"
   },
   {
    "duration": 373,
    "start_time": "2021-10-08T20:47:50.824Z"
   },
   {
    "duration": 394,
    "start_time": "2021-10-08T20:47:58.207Z"
   },
   {
    "duration": 9,
    "start_time": "2021-10-08T20:48:35.240Z"
   },
   {
    "duration": 13,
    "start_time": "2021-10-08T21:03:00.167Z"
   },
   {
    "duration": 871,
    "start_time": "2021-10-08T21:03:40.209Z"
   },
   {
    "duration": 18,
    "start_time": "2021-10-08T21:03:41.083Z"
   },
   {
    "duration": 35,
    "start_time": "2021-10-08T21:03:41.104Z"
   },
   {
    "duration": 11,
    "start_time": "2021-10-08T21:03:41.141Z"
   },
   {
    "duration": 13,
    "start_time": "2021-10-08T21:03:41.153Z"
   },
   {
    "duration": 24,
    "start_time": "2021-10-08T21:03:41.167Z"
   },
   {
    "duration": 8,
    "start_time": "2021-10-08T21:03:41.195Z"
   },
   {
    "duration": 9,
    "start_time": "2021-10-08T21:03:41.206Z"
   },
   {
    "duration": 23,
    "start_time": "2021-10-08T21:03:41.217Z"
   },
   {
    "duration": 41,
    "start_time": "2021-10-08T21:03:41.242Z"
   },
   {
    "duration": 24,
    "start_time": "2021-10-08T21:03:41.285Z"
   },
   {
    "duration": 74,
    "start_time": "2021-10-08T21:03:41.312Z"
   },
   {
    "duration": 26,
    "start_time": "2021-10-08T21:03:41.388Z"
   },
   {
    "duration": 17,
    "start_time": "2021-10-08T21:03:41.416Z"
   },
   {
    "duration": 8,
    "start_time": "2021-10-08T21:03:41.435Z"
   },
   {
    "duration": 19,
    "start_time": "2021-10-08T21:03:41.444Z"
   },
   {
    "duration": 12,
    "start_time": "2021-10-08T21:03:41.465Z"
   },
   {
    "duration": 11,
    "start_time": "2021-10-08T21:03:41.480Z"
   },
   {
    "duration": 18,
    "start_time": "2021-10-08T21:03:41.493Z"
   },
   {
    "duration": 22,
    "start_time": "2021-10-08T21:03:41.513Z"
   },
   {
    "duration": 5,
    "start_time": "2021-10-08T21:03:41.537Z"
   },
   {
    "duration": 54,
    "start_time": "2021-10-08T21:03:41.544Z"
   },
   {
    "duration": 10,
    "start_time": "2021-10-08T21:03:41.601Z"
   },
   {
    "duration": 10,
    "start_time": "2021-10-08T21:05:23.724Z"
   },
   {
    "duration": 15,
    "start_time": "2021-10-08T21:05:37.445Z"
   },
   {
    "duration": 6,
    "start_time": "2021-10-08T21:05:37.462Z"
   },
   {
    "duration": 6,
    "start_time": "2021-10-08T21:05:42.078Z"
   },
   {
    "duration": 1951,
    "start_time": "2021-10-08T21:05:42.137Z"
   },
   {
    "duration": 10,
    "start_time": "2021-10-08T21:05:46.567Z"
   },
   {
    "duration": 8,
    "start_time": "2021-10-08T21:06:05.524Z"
   },
   {
    "duration": 16,
    "start_time": "2021-10-08T21:07:54.951Z"
   },
   {
    "duration": 744,
    "start_time": "2021-10-08T21:08:12.199Z"
   },
   {
    "duration": 15,
    "start_time": "2021-10-08T21:08:12.945Z"
   },
   {
    "duration": 36,
    "start_time": "2021-10-08T21:08:12.962Z"
   },
   {
    "duration": 28,
    "start_time": "2021-10-08T21:08:13.000Z"
   },
   {
    "duration": 27,
    "start_time": "2021-10-08T21:08:13.029Z"
   },
   {
    "duration": 39,
    "start_time": "2021-10-08T21:08:13.058Z"
   },
   {
    "duration": 30,
    "start_time": "2021-10-08T21:08:13.099Z"
   },
   {
    "duration": 63,
    "start_time": "2021-10-08T21:08:13.132Z"
   },
   {
    "duration": 45,
    "start_time": "2021-10-08T21:08:13.198Z"
   },
   {
    "duration": 11,
    "start_time": "2021-10-08T21:08:13.244Z"
   },
   {
    "duration": 56,
    "start_time": "2021-10-08T21:08:13.257Z"
   },
   {
    "duration": 51,
    "start_time": "2021-10-08T21:08:13.315Z"
   },
   {
    "duration": 49,
    "start_time": "2021-10-08T21:08:13.368Z"
   },
   {
    "duration": 36,
    "start_time": "2021-10-08T21:08:13.419Z"
   },
   {
    "duration": 38,
    "start_time": "2021-10-08T21:08:13.457Z"
   },
   {
    "duration": 21,
    "start_time": "2021-10-08T21:08:13.497Z"
   },
   {
    "duration": 37,
    "start_time": "2021-10-08T21:08:13.520Z"
   },
   {
    "duration": 39,
    "start_time": "2021-10-08T21:08:13.559Z"
   },
   {
    "duration": 44,
    "start_time": "2021-10-08T21:08:13.600Z"
   },
   {
    "duration": 55,
    "start_time": "2021-10-08T21:08:13.646Z"
   },
   {
    "duration": 47,
    "start_time": "2021-10-08T21:08:13.703Z"
   },
   {
    "duration": 332,
    "start_time": "2021-10-08T21:08:13.752Z"
   },
   {
    "duration": 27,
    "start_time": "2021-10-08T21:08:14.087Z"
   },
   {
    "duration": 11,
    "start_time": "2021-10-08T21:08:44.632Z"
   },
   {
    "duration": 6,
    "start_time": "2021-10-08T21:10:44.484Z"
   },
   {
    "duration": 12132,
    "start_time": "2021-10-08T21:14:22.111Z"
   },
   {
    "duration": 7802,
    "start_time": "2021-10-08T21:14:55.247Z"
   },
   {
    "duration": 10,
    "start_time": "2021-10-08T21:15:31.393Z"
   },
   {
    "duration": 9,
    "start_time": "2021-10-08T21:15:45.386Z"
   },
   {
    "duration": 15,
    "start_time": "2021-10-08T21:16:34.577Z"
   },
   {
    "duration": 9,
    "start_time": "2021-10-08T21:17:55.456Z"
   },
   {
    "duration": 8,
    "start_time": "2021-10-08T21:18:38.610Z"
   },
   {
    "duration": 579,
    "start_time": "2021-10-08T21:19:58.100Z"
   },
   {
    "duration": 15,
    "start_time": "2021-10-08T21:21:10.244Z"
   },
   {
    "duration": 12,
    "start_time": "2021-10-08T21:23:57.167Z"
   },
   {
    "duration": 6,
    "start_time": "2021-10-08T21:25:05.532Z"
   },
   {
    "duration": 8,
    "start_time": "2021-10-08T21:32:21.359Z"
   },
   {
    "duration": 313,
    "start_time": "2021-10-08T21:33:46.795Z"
   },
   {
    "duration": 8,
    "start_time": "2021-10-08T21:34:19.954Z"
   },
   {
    "duration": 7,
    "start_time": "2021-10-08T21:37:13.593Z"
   },
   {
    "duration": 6,
    "start_time": "2021-10-08T21:38:06.818Z"
   },
   {
    "duration": 12,
    "start_time": "2021-10-08T21:38:56.319Z"
   },
   {
    "duration": 9,
    "start_time": "2021-10-08T21:39:27.418Z"
   },
   {
    "duration": 7,
    "start_time": "2021-10-08T21:40:07.206Z"
   },
   {
    "duration": 12,
    "start_time": "2021-10-08T21:40:12.925Z"
   },
   {
    "duration": 7,
    "start_time": "2021-10-08T21:43:42.138Z"
   },
   {
    "duration": 12,
    "start_time": "2021-10-08T21:45:00.226Z"
   },
   {
    "duration": 103,
    "start_time": "2021-10-08T21:45:10.954Z"
   },
   {
    "duration": 6,
    "start_time": "2021-10-08T21:45:23.821Z"
   },
   {
    "duration": 274,
    "start_time": "2021-10-09T11:06:06.608Z"
   },
   {
    "duration": 694,
    "start_time": "2021-10-09T11:06:15.870Z"
   },
   {
    "duration": 11,
    "start_time": "2021-10-09T11:06:16.566Z"
   },
   {
    "duration": 8,
    "start_time": "2021-10-09T11:06:16.579Z"
   },
   {
    "duration": 12,
    "start_time": "2021-10-09T11:06:16.589Z"
   },
   {
    "duration": 44,
    "start_time": "2021-10-09T11:06:16.603Z"
   },
   {
    "duration": 16,
    "start_time": "2021-10-09T11:06:16.649Z"
   },
   {
    "duration": 7,
    "start_time": "2021-10-09T11:06:16.667Z"
   },
   {
    "duration": 10,
    "start_time": "2021-10-09T11:06:16.676Z"
   },
   {
    "duration": 58,
    "start_time": "2021-10-09T11:06:16.691Z"
   },
   {
    "duration": 7,
    "start_time": "2021-10-09T11:06:16.751Z"
   },
   {
    "duration": 11,
    "start_time": "2021-10-09T11:06:16.760Z"
   },
   {
    "duration": 5,
    "start_time": "2021-10-09T11:06:16.773Z"
   },
   {
    "duration": 31,
    "start_time": "2021-10-09T11:06:16.780Z"
   },
   {
    "duration": 19,
    "start_time": "2021-10-09T11:06:16.813Z"
   },
   {
    "duration": 13,
    "start_time": "2021-10-09T11:06:16.833Z"
   },
   {
    "duration": 6,
    "start_time": "2021-10-09T11:06:16.848Z"
   },
   {
    "duration": 9,
    "start_time": "2021-10-09T11:06:16.856Z"
   },
   {
    "duration": 18,
    "start_time": "2021-10-09T11:06:16.866Z"
   },
   {
    "duration": 10,
    "start_time": "2021-10-09T11:06:16.886Z"
   },
   {
    "duration": 23,
    "start_time": "2021-10-09T11:06:16.897Z"
   },
   {
    "duration": 26,
    "start_time": "2021-10-09T11:06:16.922Z"
   },
   {
    "duration": 27,
    "start_time": "2021-10-09T11:06:16.950Z"
   },
   {
    "duration": 15,
    "start_time": "2021-10-09T11:06:16.979Z"
   },
   {
    "duration": 15,
    "start_time": "2021-10-09T11:06:16.995Z"
   },
   {
    "duration": 3,
    "start_time": "2021-10-09T11:06:17.012Z"
   },
   {
    "duration": 31,
    "start_time": "2021-10-09T11:06:17.017Z"
   },
   {
    "duration": 7,
    "start_time": "2021-10-09T11:06:17.051Z"
   },
   {
    "duration": 16,
    "start_time": "2021-10-09T11:06:17.060Z"
   },
   {
    "duration": 8,
    "start_time": "2021-10-09T11:06:17.078Z"
   },
   {
    "duration": 18,
    "start_time": "2021-10-09T11:06:17.087Z"
   },
   {
    "duration": 260,
    "start_time": "2021-10-09T11:06:17.107Z"
   },
   {
    "duration": 289,
    "start_time": "2021-10-09T11:07:55.020Z"
   },
   {
    "duration": 624,
    "start_time": "2021-10-09T11:08:44.348Z"
   },
   {
    "duration": 1022,
    "start_time": "2021-10-09T11:09:06.274Z"
   },
   {
    "duration": 160,
    "start_time": "2021-10-09T11:09:21.454Z"
   },
   {
    "duration": 170,
    "start_time": "2021-10-09T11:11:55.488Z"
   },
   {
    "duration": 317,
    "start_time": "2021-10-09T11:12:10.584Z"
   },
   {
    "duration": 1799,
    "start_time": "2021-10-09T11:12:23.103Z"
   },
   {
    "duration": 411,
    "start_time": "2021-10-09T11:12:34.920Z"
   },
   {
    "duration": 320,
    "start_time": "2021-10-09T11:13:16.010Z"
   },
   {
    "duration": 311,
    "start_time": "2021-10-09T11:13:27.989Z"
   },
   {
    "duration": 11,
    "start_time": "2021-10-09T11:14:53.333Z"
   },
   {
    "duration": 6,
    "start_time": "2021-10-09T11:15:01.427Z"
   },
   {
    "duration": 4,
    "start_time": "2021-10-09T11:15:08.871Z"
   },
   {
    "duration": 7,
    "start_time": "2021-10-09T11:15:11.172Z"
   },
   {
    "duration": 6,
    "start_time": "2021-10-09T11:15:12.102Z"
   },
   {
    "duration": 13,
    "start_time": "2021-10-09T11:15:12.821Z"
   },
   {
    "duration": 5,
    "start_time": "2021-10-09T11:15:13.718Z"
   },
   {
    "duration": 6,
    "start_time": "2021-10-09T11:15:14.552Z"
   },
   {
    "duration": 158,
    "start_time": "2021-10-09T11:15:19.265Z"
   },
   {
    "duration": 309,
    "start_time": "2021-10-09T11:15:27.770Z"
   },
   {
    "duration": 750,
    "start_time": "2021-10-09T11:17:41.944Z"
   },
   {
    "duration": 10,
    "start_time": "2021-10-09T11:17:42.696Z"
   },
   {
    "duration": 8,
    "start_time": "2021-10-09T11:17:42.708Z"
   },
   {
    "duration": 30,
    "start_time": "2021-10-09T11:17:42.718Z"
   },
   {
    "duration": 14,
    "start_time": "2021-10-09T11:17:42.749Z"
   },
   {
    "duration": 17,
    "start_time": "2021-10-09T11:17:42.764Z"
   },
   {
    "duration": 5,
    "start_time": "2021-10-09T11:17:42.783Z"
   },
   {
    "duration": 10,
    "start_time": "2021-10-09T11:17:42.790Z"
   },
   {
    "duration": 53,
    "start_time": "2021-10-09T11:17:42.802Z"
   },
   {
    "duration": 7,
    "start_time": "2021-10-09T11:17:42.857Z"
   },
   {
    "duration": 10,
    "start_time": "2021-10-09T11:17:42.866Z"
   },
   {
    "duration": 2,
    "start_time": "2021-10-09T11:17:42.878Z"
   },
   {
    "duration": 14,
    "start_time": "2021-10-09T11:17:42.882Z"
   },
   {
    "duration": 17,
    "start_time": "2021-10-09T11:17:42.898Z"
   },
   {
    "duration": 8,
    "start_time": "2021-10-09T11:17:42.945Z"
   },
   {
    "duration": 6,
    "start_time": "2021-10-09T11:17:42.955Z"
   },
   {
    "duration": 9,
    "start_time": "2021-10-09T11:17:42.962Z"
   },
   {
    "duration": 8,
    "start_time": "2021-10-09T11:17:42.973Z"
   },
   {
    "duration": 10,
    "start_time": "2021-10-09T11:17:42.982Z"
   },
   {
    "duration": 61,
    "start_time": "2021-10-09T11:17:42.994Z"
   },
   {
    "duration": 5,
    "start_time": "2021-10-09T11:17:43.057Z"
   },
   {
    "duration": 19,
    "start_time": "2021-10-09T11:17:43.064Z"
   },
   {
    "duration": 14,
    "start_time": "2021-10-09T11:17:43.086Z"
   },
   {
    "duration": 13,
    "start_time": "2021-10-09T11:17:43.102Z"
   },
   {
    "duration": 33,
    "start_time": "2021-10-09T11:17:43.117Z"
   },
   {
    "duration": 4,
    "start_time": "2021-10-09T11:17:43.151Z"
   },
   {
    "duration": 10,
    "start_time": "2021-10-09T11:17:43.157Z"
   },
   {
    "duration": 7,
    "start_time": "2021-10-09T11:17:43.169Z"
   },
   {
    "duration": 12,
    "start_time": "2021-10-09T11:17:43.177Z"
   },
   {
    "duration": 9,
    "start_time": "2021-10-09T11:17:43.191Z"
   },
   {
    "duration": 46,
    "start_time": "2021-10-09T11:17:43.202Z"
   },
   {
    "duration": 241,
    "start_time": "2021-10-09T11:17:43.249Z"
   },
   {
    "duration": 189,
    "start_time": "2021-10-09T11:17:43.492Z"
   },
   {
    "duration": 8,
    "start_time": "2021-10-09T11:40:26.093Z"
   },
   {
    "duration": 430,
    "start_time": "2021-10-09T11:40:39.536Z"
   },
   {
    "duration": 338,
    "start_time": "2021-10-09T11:41:00.072Z"
   },
   {
    "duration": 1995,
    "start_time": "2021-10-09T11:41:14.729Z"
   },
   {
    "duration": 17013,
    "start_time": "2021-10-09T11:41:33.012Z"
   },
   {
    "duration": 166,
    "start_time": "2021-10-09T11:42:02.622Z"
   },
   {
    "duration": 186,
    "start_time": "2021-10-09T11:42:20.822Z"
   },
   {
    "duration": 339,
    "start_time": "2021-10-09T11:43:28.005Z"
   },
   {
    "duration": 7,
    "start_time": "2021-10-09T11:51:25.348Z"
   },
   {
    "duration": 75,
    "start_time": "2021-10-09T11:51:37.267Z"
   },
   {
    "duration": 74,
    "start_time": "2021-10-09T11:51:42.597Z"
   },
   {
    "duration": 8,
    "start_time": "2021-10-09T11:51:50.368Z"
   },
   {
    "duration": 17,
    "start_time": "2021-10-09T11:52:10.666Z"
   },
   {
    "duration": 716,
    "start_time": "2021-10-09T12:16:27.247Z"
   },
   {
    "duration": 8,
    "start_time": "2021-10-09T12:16:57.845Z"
   },
   {
    "duration": 6,
    "start_time": "2021-10-09T12:17:21.912Z"
   },
   {
    "duration": 5,
    "start_time": "2021-10-09T12:17:38.780Z"
   },
   {
    "duration": 200,
    "start_time": "2021-10-09T12:18:22.836Z"
   },
   {
    "duration": 500,
    "start_time": "2021-10-09T12:18:42.793Z"
   },
   {
    "duration": 176,
    "start_time": "2021-10-09T12:23:58.543Z"
   },
   {
    "duration": 1829,
    "start_time": "2021-10-09T12:24:08.328Z"
   },
   {
    "duration": 318,
    "start_time": "2021-10-09T12:24:58.243Z"
   },
   {
    "duration": 304,
    "start_time": "2021-10-09T12:25:27.459Z"
   },
   {
    "duration": 350,
    "start_time": "2021-10-09T12:25:55.471Z"
   },
   {
    "duration": 324,
    "start_time": "2021-10-09T12:26:12.652Z"
   },
   {
    "duration": 191,
    "start_time": "2021-10-09T12:26:32.214Z"
   },
   {
    "duration": 198,
    "start_time": "2021-10-09T12:27:26.556Z"
   },
   {
    "duration": 302,
    "start_time": "2021-10-09T12:27:43.077Z"
   },
   {
    "duration": 496,
    "start_time": "2021-10-09T12:27:58.490Z"
   },
   {
    "duration": 360,
    "start_time": "2021-10-09T12:28:27.818Z"
   },
   {
    "duration": 237,
    "start_time": "2021-10-09T12:29:03.496Z"
   },
   {
    "duration": 408,
    "start_time": "2021-10-09T12:29:38.073Z"
   },
   {
    "duration": 623,
    "start_time": "2021-10-09T12:29:44.621Z"
   },
   {
    "duration": 156,
    "start_time": "2021-10-09T12:29:57.732Z"
   },
   {
    "duration": 179,
    "start_time": "2021-10-09T12:35:37.526Z"
   },
   {
    "duration": 187,
    "start_time": "2021-10-09T12:37:23.181Z"
   },
   {
    "duration": 418,
    "start_time": "2021-10-09T12:41:23.972Z"
   },
   {
    "duration": 186,
    "start_time": "2021-10-09T12:42:05.732Z"
   },
   {
    "duration": 170,
    "start_time": "2021-10-09T12:42:28.127Z"
   },
   {
    "duration": 155,
    "start_time": "2021-10-09T12:42:48.408Z"
   },
   {
    "duration": 249,
    "start_time": "2021-10-09T12:43:23.548Z"
   },
   {
    "duration": 512,
    "start_time": "2021-10-09T12:43:40.133Z"
   },
   {
    "duration": 298,
    "start_time": "2021-10-09T12:43:54.712Z"
   },
   {
    "duration": 1748,
    "start_time": "2021-10-09T12:44:05.198Z"
   },
   {
    "duration": 918,
    "start_time": "2021-10-09T12:44:18.143Z"
   },
   {
    "duration": 248,
    "start_time": "2021-10-09T12:44:25.519Z"
   },
   {
    "duration": 310,
    "start_time": "2021-10-09T12:44:37.869Z"
   },
   {
    "duration": 232,
    "start_time": "2021-10-09T12:44:44.993Z"
   },
   {
    "duration": 192,
    "start_time": "2021-10-09T12:45:55.316Z"
   },
   {
    "duration": 207,
    "start_time": "2021-10-09T12:46:10.559Z"
   },
   {
    "duration": 213,
    "start_time": "2021-10-09T12:46:20.473Z"
   },
   {
    "duration": 221,
    "start_time": "2021-10-09T12:46:50.708Z"
   },
   {
    "duration": 540,
    "start_time": "2021-10-09T12:50:39.319Z"
   },
   {
    "duration": 595,
    "start_time": "2021-10-09T12:51:41.006Z"
   },
   {
    "duration": 327,
    "start_time": "2021-10-09T12:52:35.427Z"
   },
   {
    "duration": 260,
    "start_time": "2021-10-09T12:54:06.933Z"
   },
   {
    "duration": 204,
    "start_time": "2021-10-09T12:54:29.491Z"
   },
   {
    "duration": 804,
    "start_time": "2021-10-09T12:54:52.601Z"
   },
   {
    "duration": 6375,
    "start_time": "2021-10-09T12:55:43.192Z"
   },
   {
    "duration": 247,
    "start_time": "2021-10-09T12:55:53.640Z"
   },
   {
    "duration": 271,
    "start_time": "2021-10-09T12:56:05.407Z"
   },
   {
    "duration": 190,
    "start_time": "2021-10-09T12:56:13.161Z"
   },
   {
    "duration": 150,
    "start_time": "2021-10-09T12:56:19.898Z"
   },
   {
    "duration": 169,
    "start_time": "2021-10-09T12:56:44.556Z"
   },
   {
    "duration": 184,
    "start_time": "2021-10-09T12:59:33.635Z"
   },
   {
    "duration": 9,
    "start_time": "2021-10-09T13:00:49.298Z"
   },
   {
    "duration": 424,
    "start_time": "2021-10-09T13:04:27.235Z"
   },
   {
    "duration": 409,
    "start_time": "2021-10-09T13:04:57.936Z"
   },
   {
    "duration": 185,
    "start_time": "2021-10-09T13:05:30.869Z"
   },
   {
    "duration": 304,
    "start_time": "2021-10-09T13:09:35.998Z"
   },
   {
    "duration": 134,
    "start_time": "2021-10-09T13:10:45.178Z"
   },
   {
    "duration": 149,
    "start_time": "2021-10-09T13:11:59.811Z"
   },
   {
    "duration": 231,
    "start_time": "2021-10-09T13:13:51.648Z"
   },
   {
    "duration": 146,
    "start_time": "2021-10-09T13:14:40.869Z"
   },
   {
    "duration": 299,
    "start_time": "2021-10-09T13:40:01.055Z"
   },
   {
    "duration": 307,
    "start_time": "2021-10-09T13:41:30.448Z"
   },
   {
    "duration": 192,
    "start_time": "2021-10-09T13:41:31.481Z"
   },
   {
    "duration": 85,
    "start_time": "2021-10-09T13:41:31.676Z"
   },
   {
    "duration": 186,
    "start_time": "2021-10-09T13:41:52.834Z"
   },
   {
    "duration": 190,
    "start_time": "2021-10-09T13:42:23.396Z"
   },
   {
    "duration": 325,
    "start_time": "2021-10-09T13:43:24.650Z"
   },
   {
    "duration": 119,
    "start_time": "2021-10-09T13:43:34.570Z"
   },
   {
    "duration": 243,
    "start_time": "2021-10-09T13:43:53.210Z"
   },
   {
    "duration": 11,
    "start_time": "2021-10-09T13:45:23.281Z"
   },
   {
    "duration": 144,
    "start_time": "2021-10-09T14:00:56.704Z"
   },
   {
    "duration": 137,
    "start_time": "2021-10-09T14:01:21.013Z"
   },
   {
    "duration": 2703,
    "start_time": "2021-10-09T14:06:10.245Z"
   },
   {
    "duration": 2653,
    "start_time": "2021-10-09T14:07:01.199Z"
   },
   {
    "duration": 190,
    "start_time": "2021-10-09T14:08:46.452Z"
   },
   {
    "duration": 81,
    "start_time": "2021-10-09T14:12:45.374Z"
   },
   {
    "duration": 153,
    "start_time": "2021-10-09T14:13:44.447Z"
   },
   {
    "duration": 114,
    "start_time": "2021-10-09T14:14:18.593Z"
   },
   {
    "duration": 7,
    "start_time": "2021-10-09T14:18:25.769Z"
   },
   {
    "duration": 7,
    "start_time": "2021-10-09T14:19:20.227Z"
   },
   {
    "duration": 194,
    "start_time": "2021-10-09T14:20:50.821Z"
   },
   {
    "duration": 132,
    "start_time": "2021-10-09T14:21:03.873Z"
   },
   {
    "duration": 6,
    "start_time": "2021-10-09T14:21:43.313Z"
   },
   {
    "duration": 156,
    "start_time": "2021-10-09T14:23:43.787Z"
   },
   {
    "duration": 13,
    "start_time": "2021-10-09T14:33:18.673Z"
   },
   {
    "duration": 256,
    "start_time": "2021-10-09T14:35:25.353Z"
   },
   {
    "duration": 672,
    "start_time": "2021-10-09T14:36:00.664Z"
   },
   {
    "duration": 11,
    "start_time": "2021-10-09T14:36:04.434Z"
   },
   {
    "duration": 9,
    "start_time": "2021-10-09T14:36:08.204Z"
   },
   {
    "duration": 10,
    "start_time": "2021-10-09T14:36:11.644Z"
   },
   {
    "duration": 16,
    "start_time": "2021-10-09T14:36:14.184Z"
   },
   {
    "duration": 13,
    "start_time": "2021-10-09T14:36:17.224Z"
   },
   {
    "duration": 5,
    "start_time": "2021-10-09T14:36:32.612Z"
   },
   {
    "duration": 10,
    "start_time": "2021-10-09T14:36:34.112Z"
   },
   {
    "duration": 20,
    "start_time": "2021-10-09T14:36:36.534Z"
   },
   {
    "duration": 7,
    "start_time": "2021-10-09T14:36:39.782Z"
   },
   {
    "duration": 13,
    "start_time": "2021-10-09T14:36:42.333Z"
   },
   {
    "duration": 3,
    "start_time": "2021-10-09T14:36:44.482Z"
   },
   {
    "duration": 15,
    "start_time": "2021-10-09T14:36:45.202Z"
   },
   {
    "duration": 17,
    "start_time": "2021-10-09T14:36:47.082Z"
   },
   {
    "duration": 9,
    "start_time": "2021-10-09T14:36:50.682Z"
   },
   {
    "duration": 7,
    "start_time": "2021-10-09T14:36:52.722Z"
   },
   {
    "duration": 10,
    "start_time": "2021-10-09T14:36:55.772Z"
   },
   {
    "duration": 8,
    "start_time": "2021-10-09T14:36:57.052Z"
   },
   {
    "duration": 10,
    "start_time": "2021-10-09T14:36:59.652Z"
   },
   {
    "duration": 18,
    "start_time": "2021-10-09T14:37:01.592Z"
   },
   {
    "duration": 6,
    "start_time": "2021-10-09T14:37:06.971Z"
   },
   {
    "duration": 18,
    "start_time": "2021-10-09T14:37:09.782Z"
   },
   {
    "duration": 15,
    "start_time": "2021-10-09T14:37:11.943Z"
   },
   {
    "duration": 301,
    "start_time": "2021-10-09T14:37:18.208Z"
   },
   {
    "duration": 242,
    "start_time": "2021-10-09T14:38:26.441Z"
   },
   {
    "duration": 239,
    "start_time": "2021-10-09T14:39:10.318Z"
   },
   {
    "duration": 218,
    "start_time": "2021-10-09T14:39:30.208Z"
   },
   {
    "duration": 241,
    "start_time": "2021-10-09T14:40:31.256Z"
   },
   {
    "duration": 231,
    "start_time": "2021-10-09T14:42:13.641Z"
   },
   {
    "duration": 688,
    "start_time": "2021-10-09T14:42:30.939Z"
   },
   {
    "duration": 12,
    "start_time": "2021-10-09T14:42:35.646Z"
   },
   {
    "duration": 9,
    "start_time": "2021-10-09T14:42:40.781Z"
   },
   {
    "duration": 9,
    "start_time": "2021-10-09T14:42:45.137Z"
   },
   {
    "duration": 4,
    "start_time": "2021-10-09T14:42:52.699Z"
   },
   {
    "duration": 6,
    "start_time": "2021-10-09T14:42:57.945Z"
   },
   {
    "duration": 6,
    "start_time": "2021-10-09T14:43:03.345Z"
   },
   {
    "duration": 6,
    "start_time": "2021-10-09T14:43:14.445Z"
   },
   {
    "duration": 9,
    "start_time": "2021-10-09T14:43:14.613Z"
   },
   {
    "duration": 8,
    "start_time": "2021-10-09T14:43:23.028Z"
   },
   {
    "duration": 22,
    "start_time": "2021-10-09T14:43:29.043Z"
   },
   {
    "duration": 7,
    "start_time": "2021-10-09T14:43:42.868Z"
   },
   {
    "duration": 7,
    "start_time": "2021-10-09T14:43:49.478Z"
   },
   {
    "duration": 9,
    "start_time": "2021-10-09T14:43:50.688Z"
   },
   {
    "duration": 3,
    "start_time": "2021-10-09T14:43:53.937Z"
   },
   {
    "duration": 22,
    "start_time": "2021-10-09T14:43:54.588Z"
   },
   {
    "duration": 17,
    "start_time": "2021-10-09T14:43:54.668Z"
   },
   {
    "duration": 14,
    "start_time": "2021-10-09T14:43:58.029Z"
   },
   {
    "duration": 9,
    "start_time": "2021-10-09T14:44:00.148Z"
   },
   {
    "duration": 7,
    "start_time": "2021-10-09T14:44:03.238Z"
   },
   {
    "duration": 10,
    "start_time": "2021-10-09T14:44:05.888Z"
   },
   {
    "duration": 9,
    "start_time": "2021-10-09T14:44:08.548Z"
   },
   {
    "duration": 9,
    "start_time": "2021-10-09T14:44:11.208Z"
   },
   {
    "duration": 18,
    "start_time": "2021-10-09T14:44:14.078Z"
   },
   {
    "duration": 5,
    "start_time": "2021-10-09T14:44:17.938Z"
   },
   {
    "duration": 18,
    "start_time": "2021-10-09T14:44:19.528Z"
   },
   {
    "duration": 14,
    "start_time": "2021-10-09T14:44:23.548Z"
   },
   {
    "duration": 5,
    "start_time": "2021-10-09T14:44:35.139Z"
   },
   {
    "duration": 17,
    "start_time": "2021-10-09T14:45:19.855Z"
   },
   {
    "duration": 18,
    "start_time": "2021-10-09T14:45:57.588Z"
   },
   {
    "duration": 8,
    "start_time": "2021-10-09T14:46:23.329Z"
   },
   {
    "duration": 4,
    "start_time": "2021-10-09T14:46:36.733Z"
   },
   {
    "duration": 7,
    "start_time": "2021-10-09T14:46:47.238Z"
   },
   {
    "duration": 7,
    "start_time": "2021-10-09T14:46:47.318Z"
   },
   {
    "duration": 7,
    "start_time": "2021-10-09T14:47:23.736Z"
   },
   {
    "duration": 13,
    "start_time": "2021-10-09T14:47:30.255Z"
   },
   {
    "duration": 7,
    "start_time": "2021-10-09T14:47:33.404Z"
   },
   {
    "duration": 7,
    "start_time": "2021-10-09T14:47:37.454Z"
   },
   {
    "duration": 500,
    "start_time": "2021-10-09T15:02:05.526Z"
   },
   {
    "duration": 456,
    "start_time": "2021-10-09T15:02:29.443Z"
   },
   {
    "duration": 495,
    "start_time": "2021-10-09T15:02:43.663Z"
   },
   {
    "duration": 353,
    "start_time": "2021-10-09T15:15:39.866Z"
   },
   {
    "duration": 242,
    "start_time": "2021-10-09T15:15:43.185Z"
   },
   {
    "duration": 189,
    "start_time": "2021-10-09T15:15:46.725Z"
   },
   {
    "duration": 149,
    "start_time": "2021-10-09T15:15:50.516Z"
   },
   {
    "duration": 193,
    "start_time": "2021-10-09T15:15:58.176Z"
   },
   {
    "duration": 11,
    "start_time": "2021-10-09T15:15:58.371Z"
   },
   {
    "duration": 12,
    "start_time": "2021-10-09T15:16:21.800Z"
   },
   {
    "duration": 192,
    "start_time": "2021-10-09T15:16:25.188Z"
   },
   {
    "duration": 184,
    "start_time": "2021-10-09T15:16:31.033Z"
   },
   {
    "duration": 116,
    "start_time": "2021-10-09T15:16:35.180Z"
   },
   {
    "duration": 5,
    "start_time": "2021-10-09T15:16:35.298Z"
   },
   {
    "duration": 7,
    "start_time": "2021-10-09T15:16:56.406Z"
   },
   {
    "duration": 133,
    "start_time": "2021-10-09T15:16:56.866Z"
   },
   {
    "duration": 5,
    "start_time": "2021-10-09T15:17:46.259Z"
   },
   {
    "duration": 7558,
    "start_time": "2021-10-09T15:18:40.522Z"
   },
   {
    "duration": 6,
    "start_time": "2021-10-09T15:19:14.047Z"
   },
   {
    "duration": 5,
    "start_time": "2021-10-09T15:35:35.300Z"
   },
   {
    "duration": 259,
    "start_time": "2021-10-09T15:38:09.049Z"
   },
   {
    "duration": 8,
    "start_time": "2021-10-09T15:38:28.309Z"
   },
   {
    "duration": 5,
    "start_time": "2021-10-09T15:40:49.054Z"
   },
   {
    "duration": 7,
    "start_time": "2021-10-09T15:41:23.614Z"
   },
   {
    "duration": 8,
    "start_time": "2021-10-09T15:41:45.294Z"
   },
   {
    "duration": 263,
    "start_time": "2021-10-09T15:43:09.311Z"
   },
   {
    "duration": 8,
    "start_time": "2021-10-09T15:43:27.392Z"
   },
   {
    "duration": 8,
    "start_time": "2021-10-09T15:44:21.566Z"
   },
   {
    "duration": 9,
    "start_time": "2021-10-09T15:44:50.055Z"
   },
   {
    "duration": 11,
    "start_time": "2021-10-09T15:45:20.684Z"
   },
   {
    "duration": 10,
    "start_time": "2021-10-09T15:45:28.853Z"
   },
   {
    "duration": 8,
    "start_time": "2021-10-09T15:45:39.390Z"
   },
   {
    "duration": 8,
    "start_time": "2021-10-09T15:47:07.150Z"
   },
   {
    "duration": 224,
    "start_time": "2021-10-09T15:49:17.324Z"
   },
   {
    "duration": 12,
    "start_time": "2021-10-09T15:50:08.242Z"
   },
   {
    "duration": 7,
    "start_time": "2021-10-09T15:50:32.555Z"
   },
   {
    "duration": 9,
    "start_time": "2021-10-09T15:50:43.836Z"
   },
   {
    "duration": 16,
    "start_time": "2021-10-09T16:02:32.444Z"
   },
   {
    "duration": 292,
    "start_time": "2021-10-09T18:05:29.812Z"
   },
   {
    "duration": 6850,
    "start_time": "2021-10-09T18:11:03.493Z"
   },
   {
    "duration": 477,
    "start_time": "2021-10-09T18:12:29.842Z"
   },
   {
    "duration": 510,
    "start_time": "2021-10-09T18:13:12.572Z"
   },
   {
    "duration": 684,
    "start_time": "2021-10-09T18:14:12.004Z"
   },
   {
    "duration": 751,
    "start_time": "2021-10-09T18:14:29.252Z"
   },
   {
    "duration": 719,
    "start_time": "2021-10-09T18:15:03.241Z"
   },
   {
    "duration": 520,
    "start_time": "2021-10-09T18:15:15.575Z"
   },
   {
    "duration": 497,
    "start_time": "2021-10-09T18:16:22.383Z"
   },
   {
    "duration": 472,
    "start_time": "2021-10-09T18:16:59.510Z"
   },
   {
    "duration": 278,
    "start_time": "2021-10-09T18:19:14.517Z"
   },
   {
    "duration": 180,
    "start_time": "2021-10-09T18:19:24.940Z"
   },
   {
    "duration": 176,
    "start_time": "2021-10-09T18:20:14.232Z"
   },
   {
    "duration": 11,
    "start_time": "2021-10-09T18:21:00.932Z"
   },
   {
    "duration": 13,
    "start_time": "2021-10-09T18:21:13.090Z"
   },
   {
    "duration": 75,
    "start_time": "2021-10-09T18:21:44.042Z"
   },
   {
    "duration": 94,
    "start_time": "2021-10-09T18:21:55.824Z"
   },
   {
    "duration": 13,
    "start_time": "2021-10-09T18:22:48.368Z"
   },
   {
    "duration": 14,
    "start_time": "2021-10-09T18:23:05.574Z"
   },
   {
    "duration": 183,
    "start_time": "2021-10-09T18:23:27.137Z"
   },
   {
    "duration": 212,
    "start_time": "2021-10-09T18:24:27.465Z"
   },
   {
    "duration": 175,
    "start_time": "2021-10-09T18:25:14.532Z"
   },
   {
    "duration": 5,
    "start_time": "2021-10-09T18:28:29.052Z"
   },
   {
    "duration": 244,
    "start_time": "2021-10-09T18:33:06.530Z"
   },
   {
    "duration": 19,
    "start_time": "2021-10-09T18:33:47.164Z"
   },
   {
    "duration": 19,
    "start_time": "2021-10-09T18:34:22.616Z"
   },
   {
    "duration": 73,
    "start_time": "2021-10-09T18:40:16.200Z"
   },
   {
    "duration": 919,
    "start_time": "2021-10-09T18:40:32.651Z"
   },
   {
    "duration": 245,
    "start_time": "2021-10-09T18:42:20.614Z"
   },
   {
    "duration": 14,
    "start_time": "2021-10-09T18:42:30.961Z"
   },
   {
    "duration": 144,
    "start_time": "2021-10-09T18:45:22.250Z"
   },
   {
    "duration": 143,
    "start_time": "2021-10-09T18:52:09.004Z"
   },
   {
    "duration": 245,
    "start_time": "2021-10-09T18:52:32.360Z"
   },
   {
    "duration": 9613,
    "start_time": "2021-10-09T18:54:21.601Z"
   },
   {
    "duration": 206,
    "start_time": "2021-10-09T18:54:45.500Z"
   },
   {
    "duration": 273,
    "start_time": "2021-10-09T19:04:17.034Z"
   },
   {
    "duration": 17,
    "start_time": "2021-10-09T19:04:39.644Z"
   },
   {
    "duration": 29,
    "start_time": "2021-10-09T19:04:54.284Z"
   },
   {
    "duration": 29,
    "start_time": "2021-10-09T19:05:33.878Z"
   },
   {
    "duration": 361,
    "start_time": "2021-10-09T19:12:46.641Z"
   },
   {
    "duration": 25,
    "start_time": "2021-10-09T19:13:20.517Z"
   },
   {
    "duration": 8,
    "start_time": "2021-10-09T19:15:10.264Z"
   },
   {
    "duration": 32,
    "start_time": "2021-10-09T19:16:07.480Z"
   },
   {
    "duration": 7,
    "start_time": "2021-10-09T19:16:36.206Z"
   },
   {
    "duration": 10,
    "start_time": "2021-10-09T19:17:10.647Z"
   },
   {
    "duration": 11,
    "start_time": "2021-10-09T19:18:08.957Z"
   },
   {
    "duration": 9,
    "start_time": "2021-10-09T19:18:28.479Z"
   },
   {
    "duration": 86,
    "start_time": "2021-10-09T19:19:51.606Z"
   },
   {
    "duration": 45,
    "start_time": "2021-10-09T19:20:05.207Z"
   },
   {
    "duration": 9,
    "start_time": "2021-10-09T19:21:53.111Z"
   },
   {
    "duration": 28,
    "start_time": "2021-10-09T19:22:09.145Z"
   },
   {
    "duration": 14,
    "start_time": "2021-10-09T19:24:42.329Z"
   },
   {
    "duration": 15,
    "start_time": "2021-10-09T19:25:37.705Z"
   },
   {
    "duration": 26,
    "start_time": "2021-10-09T19:33:07.552Z"
   },
   {
    "duration": 12,
    "start_time": "2021-10-09T19:34:32.007Z"
   },
   {
    "duration": 245,
    "start_time": "2021-10-09T19:37:25.904Z"
   },
   {
    "duration": 229,
    "start_time": "2021-10-09T19:38:33.413Z"
   },
   {
    "duration": 11,
    "start_time": "2021-10-09T19:41:19.311Z"
   },
   {
    "duration": 14,
    "start_time": "2021-10-09T19:44:13.956Z"
   },
   {
    "duration": 234,
    "start_time": "2021-10-09T19:44:34.342Z"
   },
   {
    "duration": 247,
    "start_time": "2021-10-09T19:45:10.480Z"
   },
   {
    "duration": 16,
    "start_time": "2021-10-09T19:47:04.570Z"
   },
   {
    "duration": 16,
    "start_time": "2021-10-09T19:48:05.229Z"
   },
   {
    "duration": 25,
    "start_time": "2021-10-09T19:49:41.617Z"
   },
   {
    "duration": 235,
    "start_time": "2021-10-09T19:53:03.977Z"
   },
   {
    "duration": 237,
    "start_time": "2021-10-09T19:53:16.086Z"
   },
   {
    "duration": 22,
    "start_time": "2021-10-09T19:53:42.907Z"
   },
   {
    "duration": 20,
    "start_time": "2021-10-09T19:54:44.526Z"
   },
   {
    "duration": 19,
    "start_time": "2021-10-09T19:56:35.580Z"
   },
   {
    "duration": 19,
    "start_time": "2021-10-09T20:08:06.397Z"
   },
   {
    "duration": 18,
    "start_time": "2021-10-09T20:13:21.022Z"
   },
   {
    "duration": 18,
    "start_time": "2021-10-09T20:13:33.965Z"
   },
   {
    "duration": 19,
    "start_time": "2021-10-09T20:14:21.723Z"
   },
   {
    "duration": 19,
    "start_time": "2021-10-09T20:22:52.894Z"
   },
   {
    "duration": 8,
    "start_time": "2021-10-09T20:23:03.854Z"
   },
   {
    "duration": 8,
    "start_time": "2021-10-09T20:23:12.966Z"
   },
   {
    "duration": 18,
    "start_time": "2021-10-09T20:28:07.750Z"
   },
   {
    "duration": 14,
    "start_time": "2021-10-09T20:34:22.935Z"
   },
   {
    "duration": 13,
    "start_time": "2021-10-09T20:34:40.735Z"
   },
   {
    "duration": 5828,
    "start_time": "2021-10-09T20:37:43.949Z"
   },
   {
    "duration": 8221,
    "start_time": "2021-10-09T20:37:50.010Z"
   },
   {
    "duration": 5643,
    "start_time": "2021-10-09T20:38:23.379Z"
   },
   {
    "duration": 177,
    "start_time": "2021-10-09T20:39:32.965Z"
   },
   {
    "duration": 14,
    "start_time": "2021-10-09T20:40:20.237Z"
   },
   {
    "duration": 14,
    "start_time": "2021-10-09T20:41:12.005Z"
   },
   {
    "duration": 271,
    "start_time": "2021-10-09T20:44:28.116Z"
   },
   {
    "duration": 188,
    "start_time": "2021-10-09T20:44:45.906Z"
   },
   {
    "duration": 261,
    "start_time": "2021-10-09T20:44:57.956Z"
   },
   {
    "duration": 6,
    "start_time": "2021-10-09T20:48:42.473Z"
   },
   {
    "duration": 272,
    "start_time": "2021-10-09T20:51:35.072Z"
   },
   {
    "duration": 269,
    "start_time": "2021-10-09T20:51:42.233Z"
   },
   {
    "duration": 265,
    "start_time": "2021-10-09T20:53:14.622Z"
   },
   {
    "duration": 158,
    "start_time": "2021-10-09T20:57:30.342Z"
   },
   {
    "duration": 176,
    "start_time": "2021-10-09T20:58:42.501Z"
   },
   {
    "duration": 273,
    "start_time": "2021-10-09T20:59:03.611Z"
   },
   {
    "duration": 179,
    "start_time": "2021-10-09T21:00:15.032Z"
   },
   {
    "duration": 163,
    "start_time": "2021-10-09T21:01:36.804Z"
   },
   {
    "duration": 195,
    "start_time": "2021-10-09T21:01:57.504Z"
   },
   {
    "duration": 231,
    "start_time": "2021-10-09T21:03:39.363Z"
   },
   {
    "duration": 71,
    "start_time": "2021-10-09T21:04:06.873Z"
   },
   {
    "duration": 6,
    "start_time": "2021-10-09T21:04:13.313Z"
   },
   {
    "duration": 228,
    "start_time": "2021-10-09T21:05:15.334Z"
   },
   {
    "duration": 158,
    "start_time": "2021-10-09T21:06:33.170Z"
   },
   {
    "duration": 186,
    "start_time": "2021-10-09T21:06:49.053Z"
   },
   {
    "duration": 154,
    "start_time": "2021-10-09T21:07:01.474Z"
   },
   {
    "duration": 8,
    "start_time": "2021-10-09T21:07:50.573Z"
   },
   {
    "duration": 9,
    "start_time": "2021-10-09T21:08:18.270Z"
   },
   {
    "duration": 10,
    "start_time": "2021-10-09T21:08:41.863Z"
   },
   {
    "duration": 606,
    "start_time": "2021-10-10T08:11:56.149Z"
   },
   {
    "duration": 10,
    "start_time": "2021-10-10T08:11:56.756Z"
   },
   {
    "duration": 8,
    "start_time": "2021-10-10T08:11:56.768Z"
   },
   {
    "duration": 3,
    "start_time": "2021-10-10T08:11:56.778Z"
   },
   {
    "duration": 22,
    "start_time": "2021-10-10T08:11:56.782Z"
   },
   {
    "duration": 7,
    "start_time": "2021-10-10T08:11:56.806Z"
   },
   {
    "duration": 7,
    "start_time": "2021-10-10T08:11:56.815Z"
   },
   {
    "duration": 7,
    "start_time": "2021-10-10T08:11:56.825Z"
   },
   {
    "duration": 22,
    "start_time": "2021-10-10T08:11:56.834Z"
   },
   {
    "duration": 6,
    "start_time": "2021-10-10T08:11:56.857Z"
   },
   {
    "duration": 41,
    "start_time": "2021-10-10T08:11:56.865Z"
   },
   {
    "duration": 2,
    "start_time": "2021-10-10T08:11:56.907Z"
   },
   {
    "duration": 15,
    "start_time": "2021-10-10T08:11:56.911Z"
   },
   {
    "duration": 16,
    "start_time": "2021-10-10T08:11:56.927Z"
   },
   {
    "duration": 7,
    "start_time": "2021-10-10T08:11:56.945Z"
   },
   {
    "duration": 5,
    "start_time": "2021-10-10T08:11:56.954Z"
   },
   {
    "duration": 41,
    "start_time": "2021-10-10T08:11:56.961Z"
   },
   {
    "duration": 8,
    "start_time": "2021-10-10T08:11:57.004Z"
   },
   {
    "duration": 9,
    "start_time": "2021-10-10T08:11:57.014Z"
   },
   {
    "duration": 18,
    "start_time": "2021-10-10T08:11:57.024Z"
   },
   {
    "duration": 5,
    "start_time": "2021-10-10T08:11:57.043Z"
   },
   {
    "duration": 51,
    "start_time": "2021-10-10T08:11:57.049Z"
   },
   {
    "duration": 14,
    "start_time": "2021-10-10T08:11:57.104Z"
   },
   {
    "duration": 15,
    "start_time": "2021-10-10T08:11:57.121Z"
   },
   {
    "duration": 8,
    "start_time": "2021-10-10T08:11:57.137Z"
   },
   {
    "duration": 3,
    "start_time": "2021-10-10T08:11:57.146Z"
   },
   {
    "duration": 8,
    "start_time": "2021-10-10T08:11:57.151Z"
   },
   {
    "duration": 6,
    "start_time": "2021-10-10T08:11:57.161Z"
   },
   {
    "duration": 12,
    "start_time": "2021-10-10T08:11:57.200Z"
   },
   {
    "duration": 7,
    "start_time": "2021-10-10T08:11:57.214Z"
   },
   {
    "duration": 7,
    "start_time": "2021-10-10T08:11:57.223Z"
   },
   {
    "duration": 956,
    "start_time": "2021-10-10T08:11:57.232Z"
   },
   {
    "duration": 450,
    "start_time": "2021-10-10T08:11:58.190Z"
   },
   {
    "duration": 261,
    "start_time": "2021-10-10T08:11:58.642Z"
   },
   {
    "duration": 223,
    "start_time": "2021-10-10T08:11:58.904Z"
   },
   {
    "duration": 267,
    "start_time": "2021-10-10T08:11:59.129Z"
   },
   {
    "duration": 228,
    "start_time": "2021-10-10T08:11:59.400Z"
   },
   {
    "duration": 14,
    "start_time": "2021-10-10T08:11:59.631Z"
   },
   {
    "duration": 162,
    "start_time": "2021-10-10T08:11:59.647Z"
   },
   {
    "duration": 206,
    "start_time": "2021-10-10T08:11:59.810Z"
   },
   {
    "duration": 142,
    "start_time": "2021-10-10T08:12:00.017Z"
   },
   {
    "duration": 6,
    "start_time": "2021-10-10T08:12:00.161Z"
   },
   {
    "duration": 219,
    "start_time": "2021-10-10T08:12:00.169Z"
   },
   {
    "duration": 10,
    "start_time": "2021-10-10T08:12:00.390Z"
   },
   {
    "duration": 17,
    "start_time": "2021-10-10T08:12:00.402Z"
   },
   {
    "duration": 14,
    "start_time": "2021-10-10T08:12:00.421Z"
   },
   {
    "duration": 173,
    "start_time": "2021-10-10T08:12:00.437Z"
   },
   {
    "duration": 8,
    "start_time": "2021-10-10T08:12:00.613Z"
   },
   {
    "duration": 10,
    "start_time": "2021-10-10T08:12:00.623Z"
   },
   {
    "duration": 16,
    "start_time": "2021-10-10T08:12:00.635Z"
   },
   {
    "duration": 10,
    "start_time": "2021-10-10T08:12:00.653Z"
   },
   {
    "duration": 37,
    "start_time": "2021-10-10T08:12:00.665Z"
   },
   {
    "duration": 16,
    "start_time": "2021-10-10T08:12:00.704Z"
   },
   {
    "duration": 51,
    "start_time": "2021-10-10T08:12:00.722Z"
   },
   {
    "duration": 1103,
    "start_time": "2021-10-10T08:11:59.672Z"
   },
   {
    "duration": 1099,
    "start_time": "2021-10-10T08:11:59.677Z"
   },
   {
    "duration": 1097,
    "start_time": "2021-10-10T08:11:59.681Z"
   },
   {
    "duration": 1094,
    "start_time": "2021-10-10T08:11:59.686Z"
   },
   {
    "duration": 1091,
    "start_time": "2021-10-10T08:11:59.690Z"
   },
   {
    "duration": 1089,
    "start_time": "2021-10-10T08:11:59.693Z"
   },
   {
    "duration": 1088,
    "start_time": "2021-10-10T08:11:59.696Z"
   },
   {
    "duration": 1086,
    "start_time": "2021-10-10T08:11:59.699Z"
   },
   {
    "duration": 1083,
    "start_time": "2021-10-10T08:11:59.704Z"
   },
   {
    "duration": 1081,
    "start_time": "2021-10-10T08:11:59.707Z"
   },
   {
    "duration": 1079,
    "start_time": "2021-10-10T08:11:59.710Z"
   },
   {
    "duration": 1076,
    "start_time": "2021-10-10T08:11:59.714Z"
   },
   {
    "duration": 200,
    "start_time": "2021-10-10T08:16:12.869Z"
   },
   {
    "duration": 313,
    "start_time": "2021-10-10T08:17:21.543Z"
   },
   {
    "duration": 346,
    "start_time": "2021-10-10T08:32:21.714Z"
   },
   {
    "duration": 140,
    "start_time": "2021-10-10T08:33:13.548Z"
   },
   {
    "duration": 659,
    "start_time": "2021-10-10T08:33:29.626Z"
   },
   {
    "duration": 19,
    "start_time": "2021-10-10T08:33:30.287Z"
   },
   {
    "duration": 9,
    "start_time": "2021-10-10T08:33:30.308Z"
   },
   {
    "duration": 3,
    "start_time": "2021-10-10T08:33:30.319Z"
   },
   {
    "duration": 18,
    "start_time": "2021-10-10T08:33:30.324Z"
   },
   {
    "duration": 22,
    "start_time": "2021-10-10T08:33:30.344Z"
   },
   {
    "duration": 23,
    "start_time": "2021-10-10T08:33:30.368Z"
   },
   {
    "duration": 14,
    "start_time": "2021-10-10T08:33:30.393Z"
   },
   {
    "duration": 25,
    "start_time": "2021-10-10T08:33:30.409Z"
   },
   {
    "duration": 7,
    "start_time": "2021-10-10T08:33:30.436Z"
   },
   {
    "duration": 22,
    "start_time": "2021-10-10T08:33:30.445Z"
   },
   {
    "duration": 11,
    "start_time": "2021-10-10T08:33:30.468Z"
   },
   {
    "duration": 31,
    "start_time": "2021-10-10T08:33:30.481Z"
   },
   {
    "duration": 19,
    "start_time": "2021-10-10T08:33:30.514Z"
   },
   {
    "duration": 8,
    "start_time": "2021-10-10T08:33:30.535Z"
   },
   {
    "duration": 20,
    "start_time": "2021-10-10T08:33:30.545Z"
   },
   {
    "duration": 17,
    "start_time": "2021-10-10T08:33:30.566Z"
   },
   {
    "duration": 21,
    "start_time": "2021-10-10T08:33:30.584Z"
   },
   {
    "duration": 10,
    "start_time": "2021-10-10T08:33:30.606Z"
   },
   {
    "duration": 22,
    "start_time": "2021-10-10T08:33:30.617Z"
   },
   {
    "duration": 4,
    "start_time": "2021-10-10T08:33:30.641Z"
   },
   {
    "duration": 18,
    "start_time": "2021-10-10T08:33:30.647Z"
   },
   {
    "duration": 45,
    "start_time": "2021-10-10T08:33:30.668Z"
   },
   {
    "duration": 16,
    "start_time": "2021-10-10T08:33:30.716Z"
   },
   {
    "duration": 7,
    "start_time": "2021-10-10T08:33:30.734Z"
   },
   {
    "duration": 15,
    "start_time": "2021-10-10T08:33:30.743Z"
   },
   {
    "duration": 26,
    "start_time": "2021-10-10T08:33:30.760Z"
   },
   {
    "duration": 14,
    "start_time": "2021-10-10T08:33:30.799Z"
   },
   {
    "duration": 28,
    "start_time": "2021-10-10T08:33:30.815Z"
   },
   {
    "duration": 25,
    "start_time": "2021-10-10T08:33:30.845Z"
   },
   {
    "duration": 27,
    "start_time": "2021-10-10T08:33:30.872Z"
   },
   {
    "duration": 972,
    "start_time": "2021-10-10T08:33:30.901Z"
   },
   {
    "duration": 441,
    "start_time": "2021-10-10T08:33:31.875Z"
   },
   {
    "duration": 260,
    "start_time": "2021-10-10T08:33:32.318Z"
   },
   {
    "duration": 215,
    "start_time": "2021-10-10T08:33:32.580Z"
   },
   {
    "duration": 167,
    "start_time": "2021-10-10T08:33:32.800Z"
   },
   {
    "duration": 215,
    "start_time": "2021-10-10T08:33:32.968Z"
   },
   {
    "duration": 20,
    "start_time": "2021-10-10T08:33:33.184Z"
   },
   {
    "duration": 150,
    "start_time": "2021-10-10T08:33:33.205Z"
   },
   {
    "duration": 202,
    "start_time": "2021-10-10T08:33:33.357Z"
   },
   {
    "duration": 130,
    "start_time": "2021-10-10T08:33:33.561Z"
   },
   {
    "duration": 10,
    "start_time": "2021-10-10T08:33:33.693Z"
   },
   {
    "duration": 205,
    "start_time": "2021-10-10T08:33:33.705Z"
   },
   {
    "duration": 4,
    "start_time": "2021-10-10T08:33:33.912Z"
   },
   {
    "duration": 5,
    "start_time": "2021-10-10T08:33:33.918Z"
   },
   {
    "duration": 5,
    "start_time": "2021-10-10T08:33:33.924Z"
   },
   {
    "duration": 195,
    "start_time": "2021-10-10T08:33:33.930Z"
   },
   {
    "duration": 1141,
    "start_time": "2021-10-10T08:33:32.986Z"
   },
   {
    "duration": 1138,
    "start_time": "2021-10-10T08:33:32.990Z"
   },
   {
    "duration": 1136,
    "start_time": "2021-10-10T08:33:32.993Z"
   },
   {
    "duration": 1135,
    "start_time": "2021-10-10T08:33:32.996Z"
   },
   {
    "duration": 1133,
    "start_time": "2021-10-10T08:33:32.999Z"
   },
   {
    "duration": 1131,
    "start_time": "2021-10-10T08:33:33.002Z"
   },
   {
    "duration": 1129,
    "start_time": "2021-10-10T08:33:33.005Z"
   },
   {
    "duration": 1126,
    "start_time": "2021-10-10T08:33:33.009Z"
   },
   {
    "duration": 1119,
    "start_time": "2021-10-10T08:33:33.017Z"
   },
   {
    "duration": 1099,
    "start_time": "2021-10-10T08:33:33.037Z"
   },
   {
    "duration": 1085,
    "start_time": "2021-10-10T08:33:33.052Z"
   },
   {
    "duration": 1078,
    "start_time": "2021-10-10T08:33:33.060Z"
   },
   {
    "duration": 1073,
    "start_time": "2021-10-10T08:33:33.066Z"
   },
   {
    "duration": 1067,
    "start_time": "2021-10-10T08:33:33.073Z"
   },
   {
    "duration": 1061,
    "start_time": "2021-10-10T08:33:33.080Z"
   },
   {
    "duration": 1054,
    "start_time": "2021-10-10T08:33:33.088Z"
   },
   {
    "duration": 1049,
    "start_time": "2021-10-10T08:33:33.094Z"
   },
   {
    "duration": 1033,
    "start_time": "2021-10-10T08:33:33.112Z"
   },
   {
    "duration": 1028,
    "start_time": "2021-10-10T08:33:33.118Z"
   },
   {
    "duration": 823,
    "start_time": "2021-10-10T08:34:13.320Z"
   },
   {
    "duration": 599,
    "start_time": "2021-10-10T08:34:21.449Z"
   },
   {
    "duration": 153,
    "start_time": "2021-10-10T08:34:52.053Z"
   },
   {
    "duration": 11,
    "start_time": "2021-10-10T08:38:17.108Z"
   },
   {
    "duration": 10,
    "start_time": "2021-10-10T08:38:18.228Z"
   },
   {
    "duration": 10,
    "start_time": "2021-10-10T08:38:20.977Z"
   },
   {
    "duration": 10,
    "start_time": "2021-10-10T08:38:22.037Z"
   },
   {
    "duration": 9,
    "start_time": "2021-10-10T08:38:23.067Z"
   },
   {
    "duration": 16,
    "start_time": "2021-10-10T08:38:24.117Z"
   },
   {
    "duration": 48,
    "start_time": "2021-10-10T08:38:25.358Z"
   },
   {
    "duration": 26,
    "start_time": "2021-10-10T08:38:25.457Z"
   },
   {
    "duration": 275,
    "start_time": "2021-10-10T08:38:27.658Z"
   },
   {
    "duration": 180,
    "start_time": "2021-10-10T08:38:29.397Z"
   },
   {
    "duration": 228,
    "start_time": "2021-10-10T08:38:30.477Z"
   },
   {
    "duration": 278,
    "start_time": "2021-10-10T08:38:31.427Z"
   },
   {
    "duration": 216,
    "start_time": "2021-10-10T08:38:32.366Z"
   },
   {
    "duration": 7,
    "start_time": "2021-10-10T08:38:33.196Z"
   },
   {
    "duration": 154,
    "start_time": "2021-10-10T08:38:35.677Z"
   },
   {
    "duration": 169,
    "start_time": "2021-10-10T08:38:36.786Z"
   },
   {
    "duration": 8,
    "start_time": "2021-10-10T08:38:37.776Z"
   },
   {
    "duration": 7,
    "start_time": "2021-10-10T08:38:39.067Z"
   },
   {
    "duration": 9,
    "start_time": "2021-10-10T08:38:39.947Z"
   },
   {
    "duration": 10,
    "start_time": "2021-10-10T09:18:25.420Z"
   },
   {
    "duration": 14,
    "start_time": "2021-10-10T09:18:38.014Z"
   },
   {
    "duration": 656,
    "start_time": "2021-10-10T09:19:05.690Z"
   },
   {
    "duration": 12,
    "start_time": "2021-10-10T09:19:09.029Z"
   },
   {
    "duration": 13,
    "start_time": "2021-10-10T09:19:13.860Z"
   },
   {
    "duration": 49,
    "start_time": "2021-10-10T09:19:16.933Z"
   },
   {
    "duration": 11,
    "start_time": "2021-10-10T09:19:28.377Z"
   },
   {
    "duration": 9,
    "start_time": "2021-10-10T09:19:49.853Z"
   },
   {
    "duration": 6,
    "start_time": "2021-10-10T09:26:55.506Z"
   },
   {
    "duration": 10,
    "start_time": "2021-10-10T09:27:35.503Z"
   },
   {
    "duration": 6,
    "start_time": "2021-10-10T09:33:28.367Z"
   },
   {
    "duration": 5,
    "start_time": "2021-10-10T09:33:56.147Z"
   },
   {
    "duration": 5,
    "start_time": "2021-10-10T09:34:03.499Z"
   },
   {
    "duration": 5,
    "start_time": "2021-10-10T09:34:13.309Z"
   },
   {
    "duration": 11,
    "start_time": "2021-10-10T09:35:40.233Z"
   },
   {
    "duration": 6,
    "start_time": "2021-10-10T09:36:37.023Z"
   },
   {
    "duration": 8,
    "start_time": "2021-10-10T09:41:00.103Z"
   },
   {
    "duration": 11,
    "start_time": "2021-10-10T09:41:25.119Z"
   },
   {
    "duration": 7,
    "start_time": "2021-10-10T09:44:05.041Z"
   },
   {
    "duration": 10,
    "start_time": "2021-10-10T09:45:31.630Z"
   },
   {
    "duration": 9,
    "start_time": "2021-10-10T09:47:48.815Z"
   },
   {
    "duration": 4124,
    "start_time": "2021-10-10T09:51:42.807Z"
   },
   {
    "duration": 625,
    "start_time": "2021-10-10T09:51:46.308Z"
   },
   {
    "duration": 10,
    "start_time": "2021-10-10T09:52:02.949Z"
   },
   {
    "duration": 11,
    "start_time": "2021-10-10T09:55:35.555Z"
   },
   {
    "duration": 11,
    "start_time": "2021-10-10T09:56:11.250Z"
   },
   {
    "duration": 12,
    "start_time": "2021-10-10T09:56:15.194Z"
   },
   {
    "duration": 8,
    "start_time": "2021-10-10T09:56:39.808Z"
   },
   {
    "duration": 8,
    "start_time": "2021-10-10T09:56:43.301Z"
   },
   {
    "duration": 635,
    "start_time": "2021-10-10T09:57:34.627Z"
   },
   {
    "duration": 12,
    "start_time": "2021-10-10T09:57:38.518Z"
   },
   {
    "duration": 9,
    "start_time": "2021-10-10T09:57:48.953Z"
   },
   {
    "duration": 7,
    "start_time": "2021-10-10T09:57:54.263Z"
   },
   {
    "duration": 11,
    "start_time": "2021-10-10T09:58:00.416Z"
   },
   {
    "duration": 19,
    "start_time": "2021-10-10T09:58:19.059Z"
   },
   {
    "duration": 7,
    "start_time": "2021-10-10T09:58:42.151Z"
   },
   {
    "duration": 6,
    "start_time": "2021-10-10T09:58:43.701Z"
   },
   {
    "duration": 10,
    "start_time": "2021-10-10T09:58:46.370Z"
   },
   {
    "duration": 6,
    "start_time": "2021-10-10T09:58:50.747Z"
   },
   {
    "duration": 9,
    "start_time": "2021-10-10T09:59:08.307Z"
   },
   {
    "duration": 10,
    "start_time": "2021-10-10T09:59:18.666Z"
   },
   {
    "duration": 5,
    "start_time": "2021-10-10T10:06:40.290Z"
   },
   {
    "duration": 5,
    "start_time": "2021-10-10T10:09:22.374Z"
   },
   {
    "duration": 16,
    "start_time": "2021-10-10T10:09:30.690Z"
   },
   {
    "duration": 6,
    "start_time": "2021-10-10T10:09:32.849Z"
   },
   {
    "duration": 6,
    "start_time": "2021-10-10T10:09:56.056Z"
   },
   {
    "duration": 8,
    "start_time": "2021-10-10T10:11:15.910Z"
   },
   {
    "duration": 7,
    "start_time": "2021-10-10T10:11:40.383Z"
   },
   {
    "duration": 9,
    "start_time": "2021-10-10T10:12:10.398Z"
   },
   {
    "duration": 12,
    "start_time": "2021-10-10T10:13:05.869Z"
   },
   {
    "duration": 7,
    "start_time": "2021-10-10T10:13:18.153Z"
   },
   {
    "duration": 7,
    "start_time": "2021-10-10T10:13:34.533Z"
   },
   {
    "duration": 479,
    "start_time": "2021-10-10T10:15:26.366Z"
   },
   {
    "duration": 327,
    "start_time": "2021-10-10T10:16:39.996Z"
   },
   {
    "duration": 340,
    "start_time": "2021-10-10T10:16:59.036Z"
   },
   {
    "duration": 523,
    "start_time": "2021-10-10T10:17:25.890Z"
   },
   {
    "duration": 348,
    "start_time": "2021-10-10T10:18:48.585Z"
   },
   {
    "duration": 6,
    "start_time": "2021-10-10T10:19:20.469Z"
   },
   {
    "duration": 10,
    "start_time": "2021-10-10T10:38:26.012Z"
   },
   {
    "duration": 6,
    "start_time": "2021-10-10T10:38:35.956Z"
   },
   {
    "duration": 311,
    "start_time": "2021-10-10T10:39:20.819Z"
   },
   {
    "duration": 213,
    "start_time": "2021-10-10T10:39:31.634Z"
   },
   {
    "duration": 186,
    "start_time": "2021-10-10T10:39:49.858Z"
   },
   {
    "duration": 1795,
    "start_time": "2021-10-10T10:40:06.808Z"
   },
   {
    "duration": 476,
    "start_time": "2021-10-10T10:40:08.605Z"
   },
   {
    "duration": 1800,
    "start_time": "2021-10-10T10:40:38.490Z"
   },
   {
    "duration": 1826,
    "start_time": "2021-10-10T10:40:48.315Z"
   },
   {
    "duration": 1921,
    "start_time": "2021-10-10T10:41:01.394Z"
   },
   {
    "duration": 5,
    "start_time": "2021-10-10T10:45:47.352Z"
   },
   {
    "duration": 8,
    "start_time": "2021-10-10T10:46:37.332Z"
   },
   {
    "duration": 6,
    "start_time": "2021-10-10T10:47:20.016Z"
   },
   {
    "duration": 8,
    "start_time": "2021-10-10T10:47:32.847Z"
   },
   {
    "duration": 13,
    "start_time": "2021-10-10T10:48:13.614Z"
   },
   {
    "duration": 11,
    "start_time": "2021-10-10T10:48:23.995Z"
   },
   {
    "duration": 5,
    "start_time": "2021-10-10T10:48:25.395Z"
   },
   {
    "duration": 5,
    "start_time": "2021-10-10T10:48:27.775Z"
   },
   {
    "duration": 447,
    "start_time": "2021-10-10T10:49:34.015Z"
   },
   {
    "duration": 460,
    "start_time": "2021-10-10T10:49:57.277Z"
   },
   {
    "duration": 7,
    "start_time": "2021-10-10T10:58:04.892Z"
   },
   {
    "duration": 7,
    "start_time": "2021-10-10T11:00:43.567Z"
   },
   {
    "duration": 9,
    "start_time": "2021-10-10T11:03:15.205Z"
   },
   {
    "duration": 6,
    "start_time": "2021-10-10T11:03:49.532Z"
   },
   {
    "duration": 11,
    "start_time": "2021-10-10T11:04:50.945Z"
   },
   {
    "duration": 6,
    "start_time": "2021-10-10T11:06:26.250Z"
   },
   {
    "duration": 6,
    "start_time": "2021-10-10T11:06:38.150Z"
   },
   {
    "duration": 10,
    "start_time": "2021-10-10T11:09:02.709Z"
   },
   {
    "duration": 46,
    "start_time": "2021-10-10T11:10:09.353Z"
   },
   {
    "duration": 22,
    "start_time": "2021-10-10T11:10:33.744Z"
   },
   {
    "duration": 255,
    "start_time": "2021-10-10T11:12:48.448Z"
   },
   {
    "duration": 6,
    "start_time": "2021-10-10T11:13:06.385Z"
   },
   {
    "duration": 7,
    "start_time": "2021-10-10T11:16:40.186Z"
   },
   {
    "duration": 6,
    "start_time": "2021-10-10T11:17:06.914Z"
   },
   {
    "duration": 6,
    "start_time": "2021-10-10T11:17:22.575Z"
   },
   {
    "duration": 5,
    "start_time": "2021-10-10T11:19:55.485Z"
   },
   {
    "duration": 7,
    "start_time": "2021-10-10T11:20:33.733Z"
   },
   {
    "duration": 6,
    "start_time": "2021-10-10T11:21:16.853Z"
   },
   {
    "duration": 137,
    "start_time": "2021-10-10T11:21:47.391Z"
   },
   {
    "duration": 139,
    "start_time": "2021-10-10T11:21:59.852Z"
   },
   {
    "duration": 8,
    "start_time": "2021-10-10T11:22:30.564Z"
   },
   {
    "duration": 22,
    "start_time": "2021-10-10T11:22:33.995Z"
   },
   {
    "duration": 20,
    "start_time": "2021-10-10T11:22:40.776Z"
   },
   {
    "duration": 4435,
    "start_time": "2021-10-10T11:27:57.459Z"
   },
   {
    "duration": 3405,
    "start_time": "2021-10-10T11:28:35.944Z"
   },
   {
    "duration": 10,
    "start_time": "2021-10-10T11:28:57.104Z"
   },
   {
    "duration": 22,
    "start_time": "2021-10-10T11:30:47.339Z"
   },
   {
    "duration": 24,
    "start_time": "2021-10-10T11:33:05.929Z"
   },
   {
    "duration": 9,
    "start_time": "2021-10-10T11:33:34.376Z"
   },
   {
    "duration": 8,
    "start_time": "2021-10-10T11:34:22.053Z"
   },
   {
    "duration": 22,
    "start_time": "2021-10-10T11:34:22.063Z"
   },
   {
    "duration": 20,
    "start_time": "2021-10-10T11:34:57.254Z"
   },
   {
    "duration": 147,
    "start_time": "2021-10-10T11:40:03.627Z"
   },
   {
    "duration": 7,
    "start_time": "2021-10-10T11:40:12.458Z"
   },
   {
    "duration": 21,
    "start_time": "2021-10-10T11:42:27.489Z"
   },
   {
    "duration": 16,
    "start_time": "2021-10-10T11:43:01.276Z"
   },
   {
    "duration": 16,
    "start_time": "2021-10-10T11:43:34.313Z"
   },
   {
    "duration": 595,
    "start_time": "2021-10-10T11:44:06.931Z"
   },
   {
    "duration": 11,
    "start_time": "2021-10-10T11:44:08.379Z"
   },
   {
    "duration": 8,
    "start_time": "2021-10-10T11:44:14.939Z"
   },
   {
    "duration": 7,
    "start_time": "2021-10-10T11:44:18.340Z"
   },
   {
    "duration": 9,
    "start_time": "2021-10-10T11:44:21.453Z"
   },
   {
    "duration": 9,
    "start_time": "2021-10-10T11:44:29.123Z"
   },
   {
    "duration": 6,
    "start_time": "2021-10-10T11:44:32.992Z"
   },
   {
    "duration": 11,
    "start_time": "2021-10-10T11:44:53.290Z"
   },
   {
    "duration": 6,
    "start_time": "2021-10-10T11:44:57.402Z"
   },
   {
    "duration": 11,
    "start_time": "2021-10-10T11:45:01.586Z"
   },
   {
    "duration": 8,
    "start_time": "2021-10-10T11:45:21.712Z"
   },
   {
    "duration": 16,
    "start_time": "2021-10-10T11:45:35.796Z"
   },
   {
    "duration": 16,
    "start_time": "2021-10-10T11:45:50.656Z"
   },
   {
    "duration": 1053,
    "start_time": "2021-10-10T11:46:02.122Z"
   },
   {
    "duration": 9,
    "start_time": "2021-10-10T11:46:03.177Z"
   },
   {
    "duration": 7,
    "start_time": "2021-10-10T11:46:03.200Z"
   },
   {
    "duration": 6,
    "start_time": "2021-10-10T11:46:03.208Z"
   },
   {
    "duration": 6,
    "start_time": "2021-10-10T11:46:03.216Z"
   },
   {
    "duration": 10,
    "start_time": "2021-10-10T11:46:03.224Z"
   },
   {
    "duration": 5,
    "start_time": "2021-10-10T11:46:03.236Z"
   },
   {
    "duration": 12,
    "start_time": "2021-10-10T11:46:03.243Z"
   },
   {
    "duration": 8,
    "start_time": "2021-10-10T11:46:03.256Z"
   },
   {
    "duration": 15,
    "start_time": "2021-10-10T11:46:03.300Z"
   },
   {
    "duration": 18,
    "start_time": "2021-10-10T11:46:03.317Z"
   },
   {
    "duration": 7,
    "start_time": "2021-10-10T11:46:03.336Z"
   },
   {
    "duration": 15,
    "start_time": "2021-10-10T11:46:03.344Z"
   },
   {
    "duration": 16,
    "start_time": "2021-10-10T11:46:03.360Z"
   },
   {
    "duration": 31,
    "start_time": "2021-10-10T11:46:03.377Z"
   },
   {
    "duration": 9,
    "start_time": "2021-10-10T11:46:03.410Z"
   },
   {
    "duration": 17,
    "start_time": "2021-10-10T11:46:03.421Z"
   },
   {
    "duration": 13,
    "start_time": "2021-10-10T11:46:03.439Z"
   },
   {
    "duration": 23,
    "start_time": "2021-10-10T11:46:03.453Z"
   },
   {
    "duration": 19,
    "start_time": "2021-10-10T11:46:03.477Z"
   },
   {
    "duration": 25,
    "start_time": "2021-10-10T11:46:03.498Z"
   },
   {
    "duration": 455,
    "start_time": "2021-10-10T11:46:03.526Z"
   },
   {
    "duration": 5,
    "start_time": "2021-10-10T11:46:03.983Z"
   },
   {
    "duration": 5,
    "start_time": "2021-10-10T11:46:04.000Z"
   },
   {
    "duration": 935,
    "start_time": "2021-10-10T11:46:04.006Z"
   },
   {
    "duration": 415,
    "start_time": "2021-10-10T11:46:04.942Z"
   },
   {
    "duration": 243,
    "start_time": "2021-10-10T11:46:05.359Z"
   },
   {
    "duration": 204,
    "start_time": "2021-10-10T11:46:05.603Z"
   },
   {
    "duration": 181,
    "start_time": "2021-10-10T11:46:05.809Z"
   },
   {
    "duration": 218,
    "start_time": "2021-10-10T11:46:05.992Z"
   },
   {
    "duration": 11,
    "start_time": "2021-10-10T11:46:06.212Z"
   },
   {
    "duration": 198,
    "start_time": "2021-10-10T11:46:06.225Z"
   },
   {
    "duration": 195,
    "start_time": "2021-10-10T11:46:06.424Z"
   },
   {
    "duration": 132,
    "start_time": "2021-10-10T11:46:06.620Z"
   },
   {
    "duration": 6,
    "start_time": "2021-10-10T11:46:06.753Z"
   },
   {
    "duration": 139,
    "start_time": "2021-10-10T11:46:06.760Z"
   },
   {
    "duration": 4,
    "start_time": "2021-10-10T11:46:06.901Z"
   },
   {
    "duration": 7,
    "start_time": "2021-10-10T11:46:06.906Z"
   },
   {
    "duration": 4,
    "start_time": "2021-10-10T11:46:06.914Z"
   },
   {
    "duration": 169,
    "start_time": "2021-10-10T11:46:06.920Z"
   },
   {
    "duration": 13,
    "start_time": "2021-10-10T11:46:07.091Z"
   },
   {
    "duration": 12,
    "start_time": "2021-10-10T11:46:07.105Z"
   },
   {
    "duration": 13,
    "start_time": "2021-10-10T11:46:07.118Z"
   },
   {
    "duration": 15,
    "start_time": "2021-10-10T11:46:07.132Z"
   },
   {
    "duration": 18,
    "start_time": "2021-10-10T11:46:07.148Z"
   },
   {
    "duration": 25,
    "start_time": "2021-10-10T11:46:07.167Z"
   },
   {
    "duration": 43,
    "start_time": "2021-10-10T11:46:07.194Z"
   },
   {
    "duration": 860,
    "start_time": "2021-10-10T11:46:06.379Z"
   },
   {
    "duration": 858,
    "start_time": "2021-10-10T11:46:06.382Z"
   },
   {
    "duration": 856,
    "start_time": "2021-10-10T11:46:06.385Z"
   },
   {
    "duration": 854,
    "start_time": "2021-10-10T11:46:06.388Z"
   },
   {
    "duration": 830,
    "start_time": "2021-10-10T11:46:06.412Z"
   },
   {
    "duration": 826,
    "start_time": "2021-10-10T11:46:06.417Z"
   },
   {
    "duration": 821,
    "start_time": "2021-10-10T11:46:06.423Z"
   },
   {
    "duration": 815,
    "start_time": "2021-10-10T11:46:06.430Z"
   },
   {
    "duration": 808,
    "start_time": "2021-10-10T11:46:06.438Z"
   },
   {
    "duration": 803,
    "start_time": "2021-10-10T11:46:06.444Z"
   },
   {
    "duration": 796,
    "start_time": "2021-10-10T11:46:06.451Z"
   },
   {
    "duration": 791,
    "start_time": "2021-10-10T11:46:06.457Z"
   },
   {
    "duration": 5,
    "start_time": "2021-10-10T11:49:36.361Z"
   },
   {
    "duration": 5,
    "start_time": "2021-10-10T11:49:46.735Z"
   },
   {
    "duration": 10,
    "start_time": "2021-10-10T11:50:41.393Z"
   },
   {
    "duration": 20,
    "start_time": "2021-10-10T11:53:24.845Z"
   },
   {
    "duration": 4,
    "start_time": "2021-10-10T11:55:21.061Z"
   },
   {
    "duration": 6,
    "start_time": "2021-10-10T11:55:31.255Z"
   },
   {
    "duration": 348,
    "start_time": "2021-10-10T11:58:43.692Z"
   },
   {
    "duration": 167,
    "start_time": "2021-10-10T11:59:22.202Z"
   },
   {
    "duration": 179,
    "start_time": "2021-10-10T11:59:37.063Z"
   },
   {
    "duration": 158,
    "start_time": "2021-10-10T11:59:52.767Z"
   },
   {
    "duration": 398,
    "start_time": "2021-10-10T12:02:33.709Z"
   },
   {
    "duration": 51,
    "start_time": "2021-10-10T12:07:23.645Z"
   },
   {
    "duration": 175,
    "start_time": "2021-10-10T12:19:46.440Z"
   },
   {
    "duration": 10,
    "start_time": "2021-10-10T12:23:10.656Z"
   },
   {
    "duration": 173,
    "start_time": "2021-10-10T12:23:35.407Z"
   },
   {
    "duration": 376,
    "start_time": "2021-10-10T12:24:03.776Z"
   },
   {
    "duration": 172,
    "start_time": "2021-10-10T12:24:19.076Z"
   },
   {
    "duration": 323,
    "start_time": "2021-10-10T12:24:31.667Z"
   },
   {
    "duration": 294,
    "start_time": "2021-10-10T12:35:57.699Z"
   },
   {
    "duration": 659,
    "start_time": "2021-10-10T12:36:19.548Z"
   },
   {
    "duration": 14,
    "start_time": "2021-10-10T12:36:20.210Z"
   },
   {
    "duration": 12,
    "start_time": "2021-10-10T12:36:20.226Z"
   },
   {
    "duration": 15,
    "start_time": "2021-10-10T12:36:20.241Z"
   },
   {
    "duration": 9,
    "start_time": "2021-10-10T12:36:20.258Z"
   },
   {
    "duration": 31,
    "start_time": "2021-10-10T12:36:20.269Z"
   },
   {
    "duration": 6,
    "start_time": "2021-10-10T12:36:20.302Z"
   },
   {
    "duration": 9,
    "start_time": "2021-10-10T12:36:20.311Z"
   },
   {
    "duration": 4,
    "start_time": "2021-10-10T12:36:20.322Z"
   },
   {
    "duration": 10,
    "start_time": "2021-10-10T12:36:20.327Z"
   },
   {
    "duration": 8,
    "start_time": "2021-10-10T12:36:20.338Z"
   },
   {
    "duration": 14,
    "start_time": "2021-10-10T12:36:20.348Z"
   },
   {
    "duration": 44,
    "start_time": "2021-10-10T12:36:20.364Z"
   },
   {
    "duration": 19,
    "start_time": "2021-10-10T12:36:20.409Z"
   },
   {
    "duration": 14,
    "start_time": "2021-10-10T12:36:20.430Z"
   },
   {
    "duration": 12,
    "start_time": "2021-10-10T12:36:20.446Z"
   },
   {
    "duration": 10,
    "start_time": "2021-10-10T12:36:20.460Z"
   },
   {
    "duration": 11,
    "start_time": "2021-10-10T12:36:20.472Z"
   },
   {
    "duration": 16,
    "start_time": "2021-10-10T12:36:20.484Z"
   },
   {
    "duration": 15,
    "start_time": "2021-10-10T12:36:20.501Z"
   },
   {
    "duration": 464,
    "start_time": "2021-10-10T12:36:20.518Z"
   },
   {
    "duration": 6,
    "start_time": "2021-10-10T12:36:20.983Z"
   },
   {
    "duration": 6,
    "start_time": "2021-10-10T12:36:21.001Z"
   },
   {
    "duration": 941,
    "start_time": "2021-10-10T12:36:21.009Z"
   },
   {
    "duration": 227,
    "start_time": "2021-10-10T12:36:21.952Z"
   },
   {
    "duration": 344,
    "start_time": "2021-10-10T12:36:22.181Z"
   },
   {
    "duration": 317,
    "start_time": "2021-10-10T12:36:22.527Z"
   },
   {
    "duration": 214,
    "start_time": "2021-10-10T12:36:22.846Z"
   },
   {
    "duration": 227,
    "start_time": "2021-10-10T12:36:23.062Z"
   },
   {
    "duration": 224,
    "start_time": "2021-10-10T12:36:23.290Z"
   },
   {
    "duration": 11,
    "start_time": "2021-10-10T12:36:23.516Z"
   },
   {
    "duration": 160,
    "start_time": "2021-10-10T12:36:23.529Z"
   },
   {
    "duration": 204,
    "start_time": "2021-10-10T12:36:23.690Z"
   },
   {
    "duration": 128,
    "start_time": "2021-10-10T12:36:23.899Z"
   },
   {
    "duration": 5,
    "start_time": "2021-10-10T12:36:24.028Z"
   },
   {
    "duration": 142,
    "start_time": "2021-10-10T12:36:24.035Z"
   },
   {
    "duration": 5,
    "start_time": "2021-10-10T12:36:24.179Z"
   },
   {
    "duration": 17,
    "start_time": "2021-10-10T12:36:24.186Z"
   },
   {
    "duration": 5,
    "start_time": "2021-10-10T12:36:24.204Z"
   },
   {
    "duration": 166,
    "start_time": "2021-10-10T12:36:24.211Z"
   },
   {
    "duration": 7,
    "start_time": "2021-10-10T12:36:24.379Z"
   },
   {
    "duration": 6,
    "start_time": "2021-10-10T12:36:24.400Z"
   },
   {
    "duration": 8,
    "start_time": "2021-10-10T12:36:24.408Z"
   },
   {
    "duration": 13,
    "start_time": "2021-10-10T12:36:24.417Z"
   },
   {
    "duration": 8,
    "start_time": "2021-10-10T12:36:24.431Z"
   },
   {
    "duration": 13,
    "start_time": "2021-10-10T12:36:24.440Z"
   },
   {
    "duration": 43,
    "start_time": "2021-10-10T12:36:24.455Z"
   },
   {
    "duration": -214,
    "start_time": "2021-10-10T12:36:24.714Z"
   },
   {
    "duration": -218,
    "start_time": "2021-10-10T12:36:24.718Z"
   },
   {
    "duration": -219,
    "start_time": "2021-10-10T12:36:24.720Z"
   },
   {
    "duration": -222,
    "start_time": "2021-10-10T12:36:24.724Z"
   },
   {
    "duration": -226,
    "start_time": "2021-10-10T12:36:24.729Z"
   },
   {
    "duration": -229,
    "start_time": "2021-10-10T12:36:24.733Z"
   },
   {
    "duration": -232,
    "start_time": "2021-10-10T12:36:24.737Z"
   },
   {
    "duration": -235,
    "start_time": "2021-10-10T12:36:24.741Z"
   },
   {
    "duration": -238,
    "start_time": "2021-10-10T12:36:24.745Z"
   },
   {
    "duration": -263,
    "start_time": "2021-10-10T12:36:24.770Z"
   },
   {
    "duration": -286,
    "start_time": "2021-10-10T12:36:24.794Z"
   },
   {
    "duration": -290,
    "start_time": "2021-10-10T12:36:24.799Z"
   },
   {
    "duration": 171,
    "start_time": "2021-10-10T12:37:06.655Z"
   },
   {
    "duration": 499,
    "start_time": "2021-10-10T12:38:06.654Z"
   },
   {
    "duration": 542,
    "start_time": "2021-10-10T12:38:56.234Z"
   },
   {
    "duration": 481,
    "start_time": "2021-10-10T12:39:17.306Z"
   },
   {
    "duration": 507,
    "start_time": "2021-10-10T12:39:50.732Z"
   },
   {
    "duration": 567,
    "start_time": "2021-10-10T12:41:36.711Z"
   },
   {
    "duration": 648,
    "start_time": "2021-10-10T12:44:12.931Z"
   },
   {
    "duration": 517,
    "start_time": "2021-10-10T12:44:22.847Z"
   },
   {
    "duration": 496,
    "start_time": "2021-10-10T12:46:34.384Z"
   },
   {
    "duration": 609,
    "start_time": "2021-10-10T12:46:45.839Z"
   },
   {
    "duration": 179,
    "start_time": "2021-10-10T12:47:19.526Z"
   },
   {
    "duration": 199,
    "start_time": "2021-10-10T12:47:50.734Z"
   },
   {
    "duration": 194,
    "start_time": "2021-10-10T12:48:27.211Z"
   },
   {
    "duration": 50,
    "start_time": "2021-10-10T12:48:34.252Z"
   },
   {
    "duration": 158,
    "start_time": "2021-10-10T12:48:34.352Z"
   },
   {
    "duration": 391,
    "start_time": "2021-10-10T12:49:22.132Z"
   },
   {
    "duration": 367,
    "start_time": "2021-10-10T12:49:37.874Z"
   },
   {
    "duration": 251,
    "start_time": "2021-10-10T12:50:39.361Z"
   },
   {
    "duration": 636,
    "start_time": "2021-10-10T12:58:05.820Z"
   },
   {
    "duration": 10,
    "start_time": "2021-10-10T12:58:06.458Z"
   },
   {
    "duration": 8,
    "start_time": "2021-10-10T12:58:06.470Z"
   },
   {
    "duration": 21,
    "start_time": "2021-10-10T12:58:06.479Z"
   },
   {
    "duration": 8,
    "start_time": "2021-10-10T12:58:06.502Z"
   },
   {
    "duration": 9,
    "start_time": "2021-10-10T12:58:06.512Z"
   },
   {
    "duration": 5,
    "start_time": "2021-10-10T12:58:06.522Z"
   },
   {
    "duration": 8,
    "start_time": "2021-10-10T12:58:06.528Z"
   },
   {
    "duration": 5,
    "start_time": "2021-10-10T12:58:06.538Z"
   },
   {
    "duration": 9,
    "start_time": "2021-10-10T12:58:06.544Z"
   },
   {
    "duration": 5,
    "start_time": "2021-10-10T12:58:06.554Z"
   },
   {
    "duration": 9,
    "start_time": "2021-10-10T12:58:06.621Z"
   },
   {
    "duration": 9,
    "start_time": "2021-10-10T12:58:06.632Z"
   },
   {
    "duration": 16,
    "start_time": "2021-10-10T12:58:06.643Z"
   },
   {
    "duration": 10,
    "start_time": "2021-10-10T12:58:06.661Z"
   },
   {
    "duration": 8,
    "start_time": "2021-10-10T12:58:06.673Z"
   },
   {
    "duration": 18,
    "start_time": "2021-10-10T12:58:06.682Z"
   },
   {
    "duration": 11,
    "start_time": "2021-10-10T12:58:06.701Z"
   },
   {
    "duration": 10,
    "start_time": "2021-10-10T12:58:06.713Z"
   },
   {
    "duration": 10,
    "start_time": "2021-10-10T12:58:06.726Z"
   },
   {
    "duration": 465,
    "start_time": "2021-10-10T12:58:06.738Z"
   },
   {
    "duration": 5,
    "start_time": "2021-10-10T12:58:07.205Z"
   },
   {
    "duration": 7,
    "start_time": "2021-10-10T12:58:07.212Z"
   },
   {
    "duration": 948,
    "start_time": "2021-10-10T12:58:07.221Z"
   },
   {
    "duration": 232,
    "start_time": "2021-10-10T12:58:08.171Z"
   },
   {
    "duration": 343,
    "start_time": "2021-10-10T12:58:08.405Z"
   },
   {
    "duration": 500,
    "start_time": "2021-10-10T12:58:08.750Z"
   },
   {
    "duration": 249,
    "start_time": "2021-10-10T12:58:09.252Z"
   },
   {
    "duration": 165,
    "start_time": "2021-10-10T12:58:09.502Z"
   },
   {
    "duration": 215,
    "start_time": "2021-10-10T12:58:09.669Z"
   },
   {
    "duration": 20,
    "start_time": "2021-10-10T12:58:09.885Z"
   },
   {
    "duration": 146,
    "start_time": "2021-10-10T12:58:09.906Z"
   },
   {
    "duration": 197,
    "start_time": "2021-10-10T12:58:10.053Z"
   },
   {
    "duration": 130,
    "start_time": "2021-10-10T12:58:10.252Z"
   },
   {
    "duration": 6,
    "start_time": "2021-10-10T12:58:10.384Z"
   },
   {
    "duration": 145,
    "start_time": "2021-10-10T12:58:10.391Z"
   },
   {
    "duration": 5,
    "start_time": "2021-10-10T12:58:10.538Z"
   },
   {
    "duration": 9,
    "start_time": "2021-10-10T12:58:10.546Z"
   },
   {
    "duration": 6,
    "start_time": "2021-10-10T12:58:10.557Z"
   },
   {
    "duration": 171,
    "start_time": "2021-10-10T12:58:10.565Z"
   },
   {
    "duration": 8,
    "start_time": "2021-10-10T12:58:10.738Z"
   },
   {
    "duration": 6,
    "start_time": "2021-10-10T12:58:10.747Z"
   },
   {
    "duration": 7,
    "start_time": "2021-10-10T12:58:10.755Z"
   },
   {
    "duration": 8,
    "start_time": "2021-10-10T12:58:10.764Z"
   },
   {
    "duration": 8,
    "start_time": "2021-10-10T12:58:10.800Z"
   },
   {
    "duration": 16,
    "start_time": "2021-10-10T12:58:10.809Z"
   },
   {
    "duration": 67,
    "start_time": "2021-10-10T12:58:10.826Z"
   },
   {
    "duration": 15,
    "start_time": "2021-10-10T12:58:10.881Z"
   },
   {
    "duration": 12,
    "start_time": "2021-10-10T12:58:10.885Z"
   },
   {
    "duration": 11,
    "start_time": "2021-10-10T12:58:10.888Z"
   },
   {
    "duration": 9,
    "start_time": "2021-10-10T12:58:10.891Z"
   },
   {
    "duration": 7,
    "start_time": "2021-10-10T12:58:10.894Z"
   },
   {
    "duration": 6,
    "start_time": "2021-10-10T12:58:10.897Z"
   },
   {
    "duration": -12,
    "start_time": "2021-10-10T12:58:10.916Z"
   },
   {
    "duration": -19,
    "start_time": "2021-10-10T12:58:10.924Z"
   },
   {
    "duration": -24,
    "start_time": "2021-10-10T12:58:10.931Z"
   },
   {
    "duration": -32,
    "start_time": "2021-10-10T12:58:10.940Z"
   },
   {
    "duration": -38,
    "start_time": "2021-10-10T12:58:10.947Z"
   },
   {
    "duration": -43,
    "start_time": "2021-10-10T12:58:10.954Z"
   },
   {
    "duration": 339,
    "start_time": "2021-10-10T12:59:14.836Z"
   },
   {
    "duration": 321,
    "start_time": "2021-10-10T12:59:28.157Z"
   },
   {
    "duration": 11,
    "start_time": "2021-10-10T13:05:33.477Z"
   },
   {
    "duration": 29,
    "start_time": "2021-10-10T13:05:49.280Z"
   },
   {
    "duration": 249,
    "start_time": "2021-10-10T13:06:43.016Z"
   },
   {
    "duration": 10,
    "start_time": "2021-10-10T13:07:07.536Z"
   },
   {
    "duration": 12,
    "start_time": "2021-10-10T13:08:07.573Z"
   },
   {
    "duration": 13,
    "start_time": "2021-10-10T13:10:06.317Z"
   },
   {
    "duration": 2517,
    "start_time": "2021-10-10T13:11:00.033Z"
   },
   {
    "duration": 567,
    "start_time": "2021-10-10T13:11:40.017Z"
   },
   {
    "duration": 610,
    "start_time": "2021-10-10T13:12:43.937Z"
   },
   {
    "duration": 9,
    "start_time": "2021-10-10T13:12:44.549Z"
   },
   {
    "duration": 8,
    "start_time": "2021-10-10T13:12:44.560Z"
   },
   {
    "duration": 7,
    "start_time": "2021-10-10T13:12:44.569Z"
   },
   {
    "duration": 26,
    "start_time": "2021-10-10T13:12:44.578Z"
   },
   {
    "duration": 10,
    "start_time": "2021-10-10T13:12:44.605Z"
   },
   {
    "duration": 5,
    "start_time": "2021-10-10T13:12:44.616Z"
   },
   {
    "duration": 11,
    "start_time": "2021-10-10T13:12:44.623Z"
   },
   {
    "duration": 4,
    "start_time": "2021-10-10T13:12:44.636Z"
   },
   {
    "duration": 9,
    "start_time": "2021-10-10T13:12:44.642Z"
   },
   {
    "duration": 5,
    "start_time": "2021-10-10T13:12:44.653Z"
   },
   {
    "duration": 49,
    "start_time": "2021-10-10T13:12:44.659Z"
   },
   {
    "duration": 9,
    "start_time": "2021-10-10T13:12:44.709Z"
   },
   {
    "duration": 16,
    "start_time": "2021-10-10T13:12:44.720Z"
   },
   {
    "duration": 8,
    "start_time": "2021-10-10T13:12:44.737Z"
   },
   {
    "duration": 11,
    "start_time": "2021-10-10T13:12:44.747Z"
   },
   {
    "duration": 4,
    "start_time": "2021-10-10T13:12:44.760Z"
   },
   {
    "duration": 35,
    "start_time": "2021-10-10T13:12:44.765Z"
   },
   {
    "duration": 6,
    "start_time": "2021-10-10T13:12:44.801Z"
   },
   {
    "duration": 13,
    "start_time": "2021-10-10T13:12:44.809Z"
   },
   {
    "duration": 490,
    "start_time": "2021-10-10T13:12:44.824Z"
   },
   {
    "duration": 6,
    "start_time": "2021-10-10T13:12:45.316Z"
   },
   {
    "duration": 8,
    "start_time": "2021-10-10T13:12:45.324Z"
   },
   {
    "duration": 962,
    "start_time": "2021-10-10T13:12:45.334Z"
   },
   {
    "duration": 226,
    "start_time": "2021-10-10T13:12:46.299Z"
   },
   {
    "duration": 341,
    "start_time": "2021-10-10T13:12:46.527Z"
   },
   {
    "duration": 509,
    "start_time": "2021-10-10T13:12:46.872Z"
   },
   {
    "duration": 244,
    "start_time": "2021-10-10T13:12:47.383Z"
   },
   {
    "duration": 338,
    "start_time": "2021-10-10T13:12:47.629Z"
   },
   {
    "duration": 16,
    "start_time": "2021-10-10T13:12:47.969Z"
   },
   {
    "duration": 580,
    "start_time": "2021-10-10T13:12:47.987Z"
   },
   {
    "duration": -141,
    "start_time": "2021-10-10T13:12:48.710Z"
   },
   {
    "duration": -145,
    "start_time": "2021-10-10T13:12:48.715Z"
   },
   {
    "duration": -149,
    "start_time": "2021-10-10T13:12:48.719Z"
   },
   {
    "duration": -153,
    "start_time": "2021-10-10T13:12:48.724Z"
   },
   {
    "duration": -156,
    "start_time": "2021-10-10T13:12:48.728Z"
   },
   {
    "duration": -159,
    "start_time": "2021-10-10T13:12:48.732Z"
   },
   {
    "duration": -163,
    "start_time": "2021-10-10T13:12:48.737Z"
   },
   {
    "duration": -167,
    "start_time": "2021-10-10T13:12:48.742Z"
   },
   {
    "duration": -171,
    "start_time": "2021-10-10T13:12:48.747Z"
   },
   {
    "duration": -177,
    "start_time": "2021-10-10T13:12:48.753Z"
   },
   {
    "duration": -180,
    "start_time": "2021-10-10T13:12:48.757Z"
   },
   {
    "duration": -184,
    "start_time": "2021-10-10T13:12:48.762Z"
   },
   {
    "duration": -188,
    "start_time": "2021-10-10T13:12:48.767Z"
   },
   {
    "duration": -193,
    "start_time": "2021-10-10T13:12:48.774Z"
   },
   {
    "duration": -200,
    "start_time": "2021-10-10T13:12:48.782Z"
   },
   {
    "duration": -208,
    "start_time": "2021-10-10T13:12:48.791Z"
   },
   {
    "duration": -216,
    "start_time": "2021-10-10T13:12:48.799Z"
   },
   {
    "duration": -251,
    "start_time": "2021-10-10T13:12:48.835Z"
   },
   {
    "duration": -288,
    "start_time": "2021-10-10T13:12:48.873Z"
   },
   {
    "duration": -330,
    "start_time": "2021-10-10T13:12:48.916Z"
   },
   {
    "duration": -365,
    "start_time": "2021-10-10T13:12:48.952Z"
   },
   {
    "duration": -378,
    "start_time": "2021-10-10T13:12:48.966Z"
   },
   {
    "duration": -394,
    "start_time": "2021-10-10T13:12:48.983Z"
   },
   {
    "duration": -398,
    "start_time": "2021-10-10T13:12:48.988Z"
   },
   {
    "duration": -400,
    "start_time": "2021-10-10T13:12:48.991Z"
   },
   {
    "duration": -402,
    "start_time": "2021-10-10T13:12:48.994Z"
   },
   {
    "duration": -404,
    "start_time": "2021-10-10T13:12:48.997Z"
   },
   {
    "duration": -407,
    "start_time": "2021-10-10T13:12:49.001Z"
   },
   {
    "duration": -409,
    "start_time": "2021-10-10T13:12:49.004Z"
   },
   {
    "duration": 13,
    "start_time": "2021-10-10T13:13:40.793Z"
   },
   {
    "duration": 509,
    "start_time": "2021-10-10T13:14:16.983Z"
   },
   {
    "duration": 177,
    "start_time": "2021-10-10T13:18:04.524Z"
   },
   {
    "duration": 6,
    "start_time": "2021-10-10T13:19:03.309Z"
   },
   {
    "duration": 223,
    "start_time": "2021-10-10T13:19:26.131Z"
   },
   {
    "duration": 5,
    "start_time": "2021-10-10T13:19:45.241Z"
   },
   {
    "duration": 6,
    "start_time": "2021-10-10T13:19:59.330Z"
   },
   {
    "duration": 259,
    "start_time": "2021-10-10T13:26:57.198Z"
   },
   {
    "duration": 6,
    "start_time": "2021-10-10T13:28:18.416Z"
   },
   {
    "duration": 7,
    "start_time": "2021-10-10T13:28:29.963Z"
   },
   {
    "duration": 144,
    "start_time": "2021-10-10T13:29:32.372Z"
   },
   {
    "duration": 142,
    "start_time": "2021-10-10T13:30:08.243Z"
   },
   {
    "duration": 154,
    "start_time": "2021-10-10T13:30:29.193Z"
   },
   {
    "duration": 134,
    "start_time": "2021-10-10T13:30:41.916Z"
   },
   {
    "duration": 534,
    "start_time": "2021-10-10T13:32:25.024Z"
   },
   {
    "duration": 16,
    "start_time": "2021-10-10T13:32:50.103Z"
   },
   {
    "duration": 14,
    "start_time": "2021-10-10T13:33:21.302Z"
   },
   {
    "duration": 123,
    "start_time": "2021-10-10T13:38:56.804Z"
   },
   {
    "duration": 6,
    "start_time": "2021-10-10T13:39:22.229Z"
   },
   {
    "duration": 133,
    "start_time": "2021-10-10T13:39:28.199Z"
   },
   {
    "duration": 17,
    "start_time": "2021-10-10T13:41:17.873Z"
   },
   {
    "duration": 14,
    "start_time": "2021-10-10T13:41:46.923Z"
   },
   {
    "duration": 126,
    "start_time": "2021-10-10T13:45:14.684Z"
   },
   {
    "duration": 161,
    "start_time": "2021-10-10T13:45:58.625Z"
   },
   {
    "duration": 637,
    "start_time": "2021-10-10T13:46:20.974Z"
   },
   {
    "duration": 11,
    "start_time": "2021-10-10T13:46:22.755Z"
   },
   {
    "duration": 8,
    "start_time": "2021-10-10T13:46:29.309Z"
   },
   {
    "duration": 7,
    "start_time": "2021-10-10T13:46:33.802Z"
   },
   {
    "duration": 9,
    "start_time": "2021-10-10T13:46:36.603Z"
   },
   {
    "duration": 11,
    "start_time": "2021-10-10T13:46:37.902Z"
   },
   {
    "duration": 7,
    "start_time": "2021-10-10T13:46:42.402Z"
   },
   {
    "duration": 10,
    "start_time": "2021-10-10T13:46:44.723Z"
   },
   {
    "duration": 5,
    "start_time": "2021-10-10T13:46:48.073Z"
   },
   {
    "duration": 10,
    "start_time": "2021-10-10T13:46:50.583Z"
   },
   {
    "duration": 6,
    "start_time": "2021-10-10T13:46:54.403Z"
   },
   {
    "duration": 10,
    "start_time": "2021-10-10T13:46:57.223Z"
   },
   {
    "duration": 9,
    "start_time": "2021-10-10T13:47:01.233Z"
   },
   {
    "duration": 18,
    "start_time": "2021-10-10T13:47:07.782Z"
   },
   {
    "duration": 8,
    "start_time": "2021-10-10T13:47:11.003Z"
   },
   {
    "duration": 8,
    "start_time": "2021-10-10T13:47:13.734Z"
   },
   {
    "duration": 4,
    "start_time": "2021-10-10T13:47:19.413Z"
   },
   {
    "duration": 6,
    "start_time": "2021-10-10T13:47:22.183Z"
   },
   {
    "duration": 6,
    "start_time": "2021-10-10T13:47:23.083Z"
   },
   {
    "duration": 12,
    "start_time": "2021-10-10T13:47:24.803Z"
   },
   {
    "duration": 462,
    "start_time": "2021-10-10T13:47:25.803Z"
   },
   {
    "duration": 7,
    "start_time": "2021-10-10T13:47:29.243Z"
   },
   {
    "duration": 6,
    "start_time": "2021-10-10T13:47:31.983Z"
   },
   {
    "duration": 960,
    "start_time": "2021-10-10T13:47:34.523Z"
   },
   {
    "duration": 225,
    "start_time": "2021-10-10T13:47:39.923Z"
   },
   {
    "duration": 331,
    "start_time": "2021-10-10T13:47:47.673Z"
   },
   {
    "duration": 491,
    "start_time": "2021-10-10T13:47:51.833Z"
   },
   {
    "duration": 227,
    "start_time": "2021-10-10T13:47:57.363Z"
   },
   {
    "duration": 351,
    "start_time": "2021-10-10T13:48:01.563Z"
   },
   {
    "duration": 18,
    "start_time": "2021-10-10T13:48:10.192Z"
   },
   {
    "duration": 200,
    "start_time": "2021-10-10T13:48:11.883Z"
   },
   {
    "duration": 142,
    "start_time": "2021-10-10T13:48:18.633Z"
   },
   {
    "duration": 15,
    "start_time": "2021-10-10T13:48:21.233Z"
   },
   {
    "duration": 84,
    "start_time": "2021-10-10T13:48:36.793Z"
   },
   {
    "duration": 124,
    "start_time": "2021-10-10T13:48:42.713Z"
   },
   {
    "duration": 6,
    "start_time": "2021-10-10T13:48:46.935Z"
   },
   {
    "duration": 13,
    "start_time": "2021-10-10T13:48:53.393Z"
   },
   {
    "duration": 84,
    "start_time": "2021-10-10T13:49:09.883Z"
   },
   {
    "duration": 143,
    "start_time": "2021-10-10T13:53:20.534Z"
   },
   {
    "duration": 133,
    "start_time": "2021-10-10T13:53:28.856Z"
   },
   {
    "duration": 179,
    "start_time": "2021-10-10T13:55:11.920Z"
   },
   {
    "duration": 5,
    "start_time": "2021-10-10T13:58:32.917Z"
   },
   {
    "duration": 5,
    "start_time": "2021-10-10T13:58:48.500Z"
   },
   {
    "duration": 5,
    "start_time": "2021-10-10T13:58:54.290Z"
   },
   {
    "duration": 144,
    "start_time": "2021-10-10T13:59:12.544Z"
   },
   {
    "duration": 161,
    "start_time": "2021-10-10T14:01:16.395Z"
   },
   {
    "duration": 249,
    "start_time": "2021-10-10T14:02:02.198Z"
   },
   {
    "duration": 166,
    "start_time": "2021-10-10T14:02:44.667Z"
   },
   {
    "duration": 172,
    "start_time": "2021-10-10T14:16:23.972Z"
   },
   {
    "duration": 50,
    "start_time": "2021-10-10T14:17:23.868Z"
   },
   {
    "duration": 7,
    "start_time": "2021-10-10T14:17:37.170Z"
   },
   {
    "duration": 12,
    "start_time": "2021-10-10T14:18:23.191Z"
   },
   {
    "duration": 454,
    "start_time": "2021-10-10T14:18:23.205Z"
   },
   {
    "duration": 143,
    "start_time": "2021-10-10T14:18:40.720Z"
   },
   {
    "duration": 8,
    "start_time": "2021-10-10T14:19:03.079Z"
   },
   {
    "duration": 9,
    "start_time": "2021-10-10T14:19:29.375Z"
   },
   {
    "duration": 7,
    "start_time": "2021-10-10T14:19:44.926Z"
   },
   {
    "duration": 13,
    "start_time": "2021-10-10T14:19:50.080Z"
   },
   {
    "duration": 143,
    "start_time": "2021-10-10T14:20:24.386Z"
   },
   {
    "duration": 8,
    "start_time": "2021-10-10T14:20:31.014Z"
   },
   {
    "duration": 155,
    "start_time": "2021-10-10T14:21:00.652Z"
   },
   {
    "duration": 13,
    "start_time": "2021-10-10T14:21:36.968Z"
   },
   {
    "duration": 174,
    "start_time": "2021-10-10T14:21:45.928Z"
   },
   {
    "duration": 45,
    "start_time": "2021-10-10T14:22:06.139Z"
   },
   {
    "duration": 9,
    "start_time": "2021-10-10T14:23:42.692Z"
   },
   {
    "duration": 10,
    "start_time": "2021-10-10T14:24:06.416Z"
   },
   {
    "duration": 15,
    "start_time": "2021-10-10T14:24:38.667Z"
   },
   {
    "duration": 46,
    "start_time": "2021-10-10T14:25:13.553Z"
   },
   {
    "duration": 45,
    "start_time": "2021-10-10T14:27:04.602Z"
   },
   {
    "duration": 8,
    "start_time": "2021-10-10T14:27:11.638Z"
   },
   {
    "duration": 21,
    "start_time": "2021-10-10T14:27:31.024Z"
   },
   {
    "duration": 13,
    "start_time": "2021-10-10T14:27:34.791Z"
   },
   {
    "duration": 16,
    "start_time": "2021-10-10T14:28:18.756Z"
   },
   {
    "duration": 18,
    "start_time": "2021-10-10T14:28:46.908Z"
   },
   {
    "duration": 16,
    "start_time": "2021-10-10T14:29:17.972Z"
   },
   {
    "duration": 10,
    "start_time": "2021-10-10T14:29:24.432Z"
   },
   {
    "duration": 43,
    "start_time": "2021-10-10T14:29:55.087Z"
   },
   {
    "duration": 25,
    "start_time": "2021-10-10T14:30:02.327Z"
   },
   {
    "duration": 48,
    "start_time": "2021-10-10T14:31:31.447Z"
   },
   {
    "duration": 13,
    "start_time": "2021-10-10T14:32:00.873Z"
   },
   {
    "duration": 15,
    "start_time": "2021-10-10T14:32:14.162Z"
   },
   {
    "duration": 20,
    "start_time": "2021-10-10T14:34:31.388Z"
   },
   {
    "duration": 22,
    "start_time": "2021-10-10T14:39:34.101Z"
   },
   {
    "duration": 13,
    "start_time": "2021-10-10T14:39:46.501Z"
   },
   {
    "duration": 26,
    "start_time": "2021-10-10T14:39:59.451Z"
   },
   {
    "duration": 16,
    "start_time": "2021-10-10T14:40:20.542Z"
   },
   {
    "duration": 617,
    "start_time": "2021-10-10T14:41:47.327Z"
   },
   {
    "duration": 10,
    "start_time": "2021-10-10T14:41:47.946Z"
   },
   {
    "duration": 8,
    "start_time": "2021-10-10T14:41:47.958Z"
   },
   {
    "duration": 14,
    "start_time": "2021-10-10T14:41:47.968Z"
   },
   {
    "duration": 19,
    "start_time": "2021-10-10T14:41:47.983Z"
   },
   {
    "duration": 21,
    "start_time": "2021-10-10T14:41:48.004Z"
   },
   {
    "duration": 11,
    "start_time": "2021-10-10T14:41:48.027Z"
   },
   {
    "duration": 20,
    "start_time": "2021-10-10T14:41:48.041Z"
   },
   {
    "duration": 11,
    "start_time": "2021-10-10T14:41:48.062Z"
   },
   {
    "duration": 22,
    "start_time": "2021-10-10T14:41:48.075Z"
   },
   {
    "duration": 13,
    "start_time": "2021-10-10T14:41:48.099Z"
   },
   {
    "duration": 23,
    "start_time": "2021-10-10T14:41:48.113Z"
   },
   {
    "duration": 16,
    "start_time": "2021-10-10T14:41:48.138Z"
   },
   {
    "duration": 17,
    "start_time": "2021-10-10T14:41:48.155Z"
   },
   {
    "duration": 11,
    "start_time": "2021-10-10T14:41:48.174Z"
   },
   {
    "duration": 20,
    "start_time": "2021-10-10T14:41:48.186Z"
   },
   {
    "duration": 14,
    "start_time": "2021-10-10T14:41:48.207Z"
   },
   {
    "duration": 22,
    "start_time": "2021-10-10T14:41:48.223Z"
   },
   {
    "duration": 7,
    "start_time": "2021-10-10T14:41:48.247Z"
   },
   {
    "duration": 23,
    "start_time": "2021-10-10T14:41:48.255Z"
   },
   {
    "duration": 469,
    "start_time": "2021-10-10T14:41:48.279Z"
   },
   {
    "duration": 6,
    "start_time": "2021-10-10T14:41:48.750Z"
   },
   {
    "duration": 23,
    "start_time": "2021-10-10T14:41:48.759Z"
   },
   {
    "duration": 941,
    "start_time": "2021-10-10T14:41:48.785Z"
   },
   {
    "duration": 226,
    "start_time": "2021-10-10T14:41:49.728Z"
   },
   {
    "duration": 359,
    "start_time": "2021-10-10T14:41:49.956Z"
   },
   {
    "duration": 503,
    "start_time": "2021-10-10T14:41:50.316Z"
   },
   {
    "duration": 234,
    "start_time": "2021-10-10T14:41:50.821Z"
   },
   {
    "duration": 338,
    "start_time": "2021-10-10T14:41:51.057Z"
   },
   {
    "duration": 16,
    "start_time": "2021-10-10T14:41:51.399Z"
   },
   {
    "duration": 215,
    "start_time": "2021-10-10T14:41:51.417Z"
   },
   {
    "duration": 146,
    "start_time": "2021-10-10T14:41:51.633Z"
   },
   {
    "duration": 21,
    "start_time": "2021-10-10T14:41:51.780Z"
   },
   {
    "duration": 127,
    "start_time": "2021-10-10T14:41:51.803Z"
   },
   {
    "duration": 5,
    "start_time": "2021-10-10T14:41:51.931Z"
   },
   {
    "duration": 21,
    "start_time": "2021-10-10T14:41:51.938Z"
   },
   {
    "duration": 182,
    "start_time": "2021-10-10T14:41:51.961Z"
   },
   {
    "duration": 5,
    "start_time": "2021-10-10T14:41:52.144Z"
   },
   {
    "duration": 14,
    "start_time": "2021-10-10T14:41:52.150Z"
   },
   {
    "duration": 21,
    "start_time": "2021-10-10T14:41:52.166Z"
   },
   {
    "duration": 155,
    "start_time": "2021-10-10T14:41:52.188Z"
   },
   {
    "duration": 169,
    "start_time": "2021-10-10T14:41:52.344Z"
   },
   {
    "duration": 186,
    "start_time": "2021-10-10T14:41:52.515Z"
   },
   {
    "duration": 172,
    "start_time": "2021-10-10T14:41:52.702Z"
   },
   {
    "duration": 9,
    "start_time": "2021-10-10T14:41:52.875Z"
   },
   {
    "duration": 96,
    "start_time": "2021-10-10T14:41:52.886Z"
   },
   {
    "duration": 20,
    "start_time": "2021-10-10T14:41:52.983Z"
   },
   {
    "duration": 29,
    "start_time": "2021-10-10T14:41:53.005Z"
   },
   {
    "duration": 192,
    "start_time": "2021-10-10T14:41:53.035Z"
   },
   {
    "duration": -1350,
    "start_time": "2021-10-10T14:41:54.578Z"
   },
   {
    "duration": -1351,
    "start_time": "2021-10-10T14:41:54.581Z"
   },
   {
    "duration": -1563,
    "start_time": "2021-10-10T14:41:54.794Z"
   },
   {
    "duration": -1588,
    "start_time": "2021-10-10T14:41:54.820Z"
   },
   {
    "duration": -1592,
    "start_time": "2021-10-10T14:41:54.825Z"
   },
   {
    "duration": -1620,
    "start_time": "2021-10-10T14:41:54.854Z"
   },
   {
    "duration": -1634,
    "start_time": "2021-10-10T14:41:54.868Z"
   },
   {
    "duration": -1666,
    "start_time": "2021-10-10T14:41:54.901Z"
   },
   {
    "duration": -1678,
    "start_time": "2021-10-10T14:41:54.915Z"
   },
   {
    "duration": -1684,
    "start_time": "2021-10-10T14:41:54.922Z"
   },
   {
    "duration": 16,
    "start_time": "2021-10-10T14:43:16.144Z"
   },
   {
    "duration": 13,
    "start_time": "2021-10-10T14:43:32.213Z"
   },
   {
    "duration": 13,
    "start_time": "2021-10-10T14:43:42.563Z"
   },
   {
    "duration": 13,
    "start_time": "2021-10-10T14:44:34.334Z"
   },
   {
    "duration": 9,
    "start_time": "2021-10-10T14:45:04.232Z"
   },
   {
    "duration": 5,
    "start_time": "2021-10-10T14:45:44.082Z"
   },
   {
    "duration": 255,
    "start_time": "2021-10-10T14:46:11.804Z"
   },
   {
    "duration": 228,
    "start_time": "2021-10-10T14:46:29.073Z"
   },
   {
    "duration": 49,
    "start_time": "2021-10-10T14:47:01.842Z"
   },
   {
    "duration": 6,
    "start_time": "2021-10-10T14:47:10.342Z"
   },
   {
    "duration": 18,
    "start_time": "2021-10-10T14:47:38.993Z"
   },
   {
    "duration": 770,
    "start_time": "2021-10-10T14:48:30.832Z"
   },
   {
    "duration": 12,
    "start_time": "2021-10-10T14:48:31.605Z"
   },
   {
    "duration": 9,
    "start_time": "2021-10-10T14:48:31.620Z"
   },
   {
    "duration": 14,
    "start_time": "2021-10-10T14:48:31.631Z"
   },
   {
    "duration": 11,
    "start_time": "2021-10-10T14:48:31.647Z"
   },
   {
    "duration": 10,
    "start_time": "2021-10-10T14:48:31.660Z"
   },
   {
    "duration": 8,
    "start_time": "2021-10-10T14:48:31.700Z"
   },
   {
    "duration": 11,
    "start_time": "2021-10-10T14:48:31.711Z"
   },
   {
    "duration": 5,
    "start_time": "2021-10-10T14:48:31.724Z"
   },
   {
    "duration": 12,
    "start_time": "2021-10-10T14:48:31.731Z"
   },
   {
    "duration": 7,
    "start_time": "2021-10-10T14:48:31.745Z"
   },
   {
    "duration": 14,
    "start_time": "2021-10-10T14:48:31.753Z"
   },
   {
    "duration": 2,
    "start_time": "2021-10-10T14:48:31.800Z"
   },
   {
    "duration": 19,
    "start_time": "2021-10-10T14:48:31.804Z"
   },
   {
    "duration": 17,
    "start_time": "2021-10-10T14:48:31.825Z"
   },
   {
    "duration": 9,
    "start_time": "2021-10-10T14:48:31.844Z"
   },
   {
    "duration": 5,
    "start_time": "2021-10-10T14:48:31.855Z"
   },
   {
    "duration": 7,
    "start_time": "2021-10-10T14:48:31.862Z"
   },
   {
    "duration": 6,
    "start_time": "2021-10-10T14:48:31.871Z"
   },
   {
    "duration": 14,
    "start_time": "2021-10-10T14:48:31.900Z"
   },
   {
    "duration": 485,
    "start_time": "2021-10-10T14:48:31.915Z"
   },
   {
    "duration": 7,
    "start_time": "2021-10-10T14:48:32.402Z"
   },
   {
    "duration": 7,
    "start_time": "2021-10-10T14:48:32.413Z"
   },
   {
    "duration": 970,
    "start_time": "2021-10-10T14:48:32.422Z"
   },
   {
    "duration": 237,
    "start_time": "2021-10-10T14:48:33.394Z"
   },
   {
    "duration": 347,
    "start_time": "2021-10-10T14:48:33.633Z"
   },
   {
    "duration": 511,
    "start_time": "2021-10-10T14:48:33.982Z"
   },
   {
    "duration": 238,
    "start_time": "2021-10-10T14:48:34.495Z"
   },
   {
    "duration": 351,
    "start_time": "2021-10-10T14:48:34.735Z"
   },
   {
    "duration": 28,
    "start_time": "2021-10-10T14:48:35.088Z"
   },
   {
    "duration": 225,
    "start_time": "2021-10-10T14:48:35.118Z"
   },
   {
    "duration": 148,
    "start_time": "2021-10-10T14:48:35.344Z"
   },
   {
    "duration": 17,
    "start_time": "2021-10-10T14:48:35.494Z"
   },
   {
    "duration": 128,
    "start_time": "2021-10-10T14:48:35.513Z"
   },
   {
    "duration": 5,
    "start_time": "2021-10-10T14:48:35.643Z"
   },
   {
    "duration": 16,
    "start_time": "2021-10-10T14:48:35.650Z"
   },
   {
    "duration": 194,
    "start_time": "2021-10-10T14:48:35.668Z"
   },
   {
    "duration": 5,
    "start_time": "2021-10-10T14:48:35.864Z"
   },
   {
    "duration": 8,
    "start_time": "2021-10-10T14:48:35.870Z"
   },
   {
    "duration": 22,
    "start_time": "2021-10-10T14:48:35.880Z"
   },
   {
    "duration": 158,
    "start_time": "2021-10-10T14:48:35.904Z"
   },
   {
    "duration": 178,
    "start_time": "2021-10-10T14:48:36.064Z"
   },
   {
    "duration": 189,
    "start_time": "2021-10-10T14:48:36.243Z"
   },
   {
    "duration": 181,
    "start_time": "2021-10-10T14:48:36.434Z"
   },
   {
    "duration": 12,
    "start_time": "2021-10-10T14:48:36.617Z"
   },
   {
    "duration": 112,
    "start_time": "2021-10-10T14:48:36.630Z"
   },
   {
    "duration": 16,
    "start_time": "2021-10-10T14:48:36.744Z"
   },
   {
    "duration": 17,
    "start_time": "2021-10-10T14:48:36.761Z"
   },
   {
    "duration": 212,
    "start_time": "2021-10-10T14:48:36.779Z"
   },
   {
    "duration": -8119,
    "start_time": "2021-10-10T14:48:45.111Z"
   },
   {
    "duration": -8124,
    "start_time": "2021-10-10T14:48:45.118Z"
   },
   {
    "duration": -8140,
    "start_time": "2021-10-10T14:48:45.135Z"
   },
   {
    "duration": -8145,
    "start_time": "2021-10-10T14:48:45.141Z"
   },
   {
    "duration": -8153,
    "start_time": "2021-10-10T14:48:45.149Z"
   },
   {
    "duration": -8158,
    "start_time": "2021-10-10T14:48:45.155Z"
   },
   {
    "duration": -8164,
    "start_time": "2021-10-10T14:48:45.162Z"
   },
   {
    "duration": -8182,
    "start_time": "2021-10-10T14:48:45.181Z"
   },
   {
    "duration": -8190,
    "start_time": "2021-10-10T14:48:45.190Z"
   },
   {
    "duration": -8198,
    "start_time": "2021-10-10T14:48:45.199Z"
   },
   {
    "duration": 629,
    "start_time": "2021-10-10T14:48:57.182Z"
   },
   {
    "duration": 11,
    "start_time": "2021-10-10T14:48:59.192Z"
   },
   {
    "duration": 8,
    "start_time": "2021-10-10T14:49:08.823Z"
   },
   {
    "duration": 9,
    "start_time": "2021-10-10T14:49:11.842Z"
   },
   {
    "duration": 9,
    "start_time": "2021-10-10T14:49:14.643Z"
   },
   {
    "duration": 10,
    "start_time": "2021-10-10T14:49:17.813Z"
   },
   {
    "duration": 10,
    "start_time": "2021-10-10T14:49:24.952Z"
   },
   {
    "duration": 8,
    "start_time": "2021-10-10T14:49:28.842Z"
   },
   {
    "duration": 9,
    "start_time": "2021-10-10T14:49:35.924Z"
   },
   {
    "duration": 5,
    "start_time": "2021-10-10T14:49:39.223Z"
   },
   {
    "duration": 10,
    "start_time": "2021-10-10T14:49:43.443Z"
   },
   {
    "duration": 6,
    "start_time": "2021-10-10T14:49:47.712Z"
   },
   {
    "duration": 9,
    "start_time": "2021-10-10T14:49:51.875Z"
   },
   {
    "duration": 16,
    "start_time": "2021-10-10T14:49:57.762Z"
   },
   {
    "duration": 10,
    "start_time": "2021-10-10T14:49:59.632Z"
   },
   {
    "duration": 6,
    "start_time": "2021-10-10T14:50:01.962Z"
   },
   {
    "duration": 5,
    "start_time": "2021-10-10T14:50:19.513Z"
   },
   {
    "duration": 5,
    "start_time": "2021-10-10T14:50:24.182Z"
   },
   {
    "duration": 6,
    "start_time": "2021-10-10T14:50:26.282Z"
   },
   {
    "duration": 6,
    "start_time": "2021-10-10T14:50:27.373Z"
   },
   {
    "duration": 13,
    "start_time": "2021-10-10T14:50:29.094Z"
   },
   {
    "duration": 466,
    "start_time": "2021-10-10T14:50:31.922Z"
   },
   {
    "duration": 7,
    "start_time": "2021-10-10T14:50:35.402Z"
   },
   {
    "duration": 7,
    "start_time": "2021-10-10T14:50:41.182Z"
   },
   {
    "duration": 935,
    "start_time": "2021-10-10T14:50:49.123Z"
   },
   {
    "duration": 222,
    "start_time": "2021-10-10T14:50:53.362Z"
   },
   {
    "duration": 334,
    "start_time": "2021-10-10T14:51:00.633Z"
   },
   {
    "duration": 539,
    "start_time": "2021-10-10T14:51:04.862Z"
   },
   {
    "duration": 237,
    "start_time": "2021-10-10T14:51:09.334Z"
   },
   {
    "duration": 332,
    "start_time": "2021-10-10T14:51:12.882Z"
   },
   {
    "duration": 16,
    "start_time": "2021-10-10T14:51:17.593Z"
   },
   {
    "duration": 204,
    "start_time": "2021-10-10T14:51:22.143Z"
   },
   {
    "duration": 136,
    "start_time": "2021-10-10T14:51:27.022Z"
   },
   {
    "duration": 15,
    "start_time": "2021-10-10T14:51:31.482Z"
   },
   {
    "duration": 122,
    "start_time": "2021-10-10T14:51:40.082Z"
   },
   {
    "duration": 6,
    "start_time": "2021-10-10T14:51:44.893Z"
   },
   {
    "duration": 14,
    "start_time": "2021-10-10T14:51:48.342Z"
   },
   {
    "duration": 177,
    "start_time": "2021-10-10T14:51:51.533Z"
   },
   {
    "duration": 5,
    "start_time": "2021-10-10T14:51:56.462Z"
   },
   {
    "duration": 5,
    "start_time": "2021-10-10T14:52:01.083Z"
   },
   {
    "duration": 5,
    "start_time": "2021-10-10T14:52:04.543Z"
   },
   {
    "duration": 159,
    "start_time": "2021-10-10T14:52:07.472Z"
   },
   {
    "duration": 172,
    "start_time": "2021-10-10T14:52:15.853Z"
   },
   {
    "duration": 181,
    "start_time": "2021-10-10T14:52:19.272Z"
   },
   {
    "duration": 168,
    "start_time": "2021-10-10T14:52:28.652Z"
   },
   {
    "duration": 10,
    "start_time": "2021-10-10T14:52:40.718Z"
   },
   {
    "duration": 28,
    "start_time": "2021-10-10T14:52:44.733Z"
   },
   {
    "duration": 15,
    "start_time": "2021-10-10T14:52:50.362Z"
   },
   {
    "duration": 78,
    "start_time": "2021-10-10T14:53:03.087Z"
   },
   {
    "duration": 204,
    "start_time": "2021-10-10T14:53:50.662Z"
   },
   {
    "duration": 156,
    "start_time": "2021-10-10T14:55:29.640Z"
   },
   {
    "duration": 144,
    "start_time": "2021-10-10T14:56:08.762Z"
   },
   {
    "duration": 143,
    "start_time": "2021-10-10T14:56:54.452Z"
   },
   {
    "duration": 155,
    "start_time": "2021-10-10T14:57:11.112Z"
   },
   {
    "duration": 21,
    "start_time": "2021-10-10T14:57:23.692Z"
   },
   {
    "duration": 20,
    "start_time": "2021-10-10T14:57:37.410Z"
   },
   {
    "duration": 3628,
    "start_time": "2021-10-10T14:59:50.470Z"
   },
   {
    "duration": 20,
    "start_time": "2021-10-10T15:00:17.351Z"
   },
   {
    "duration": 291,
    "start_time": "2021-10-10T15:01:56.201Z"
   },
   {
    "duration": 182,
    "start_time": "2021-10-10T15:07:00.941Z"
   },
   {
    "duration": 335,
    "start_time": "2021-10-10T15:08:19.061Z"
   },
   {
    "duration": 353,
    "start_time": "2021-10-10T15:09:30.782Z"
   },
   {
    "duration": 417,
    "start_time": "2021-10-10T15:10:18.452Z"
   },
   {
    "duration": 344,
    "start_time": "2021-10-10T15:11:45.182Z"
   },
   {
    "duration": 404,
    "start_time": "2021-10-10T15:12:41.052Z"
   },
   {
    "duration": 336,
    "start_time": "2021-10-10T15:13:21.712Z"
   },
   {
    "duration": 5,
    "start_time": "2021-10-10T15:21:07.746Z"
   },
   {
    "duration": 43,
    "start_time": "2021-10-10T15:21:46.032Z"
   },
   {
    "duration": 5,
    "start_time": "2021-10-10T15:21:58.232Z"
   },
   {
    "duration": 5,
    "start_time": "2021-10-10T15:22:03.685Z"
   },
   {
    "duration": 285,
    "start_time": "2021-10-10T15:22:51.330Z"
   },
   {
    "duration": 339,
    "start_time": "2021-10-10T15:23:31.176Z"
   },
   {
    "duration": 448,
    "start_time": "2021-10-10T15:23:55.907Z"
   },
   {
    "duration": 370,
    "start_time": "2021-10-10T15:25:32.225Z"
   },
   {
    "duration": 328,
    "start_time": "2021-10-10T15:26:35.255Z"
   },
   {
    "duration": 371,
    "start_time": "2021-10-10T15:26:53.425Z"
   },
   {
    "duration": 343,
    "start_time": "2021-10-10T15:28:10.056Z"
   },
   {
    "duration": 48,
    "start_time": "2021-10-10T15:43:05.207Z"
   },
   {
    "duration": 366,
    "start_time": "2021-10-10T17:52:46.619Z"
   },
   {
    "duration": 736,
    "start_time": "2021-10-10T17:52:55.348Z"
   },
   {
    "duration": 13,
    "start_time": "2021-10-10T17:52:56.086Z"
   },
   {
    "duration": 11,
    "start_time": "2021-10-10T17:52:56.101Z"
   },
   {
    "duration": 9,
    "start_time": "2021-10-10T17:52:56.114Z"
   },
   {
    "duration": 9,
    "start_time": "2021-10-10T17:52:56.125Z"
   },
   {
    "duration": 48,
    "start_time": "2021-10-10T17:52:56.136Z"
   },
   {
    "duration": 6,
    "start_time": "2021-10-10T17:52:56.186Z"
   },
   {
    "duration": 10,
    "start_time": "2021-10-10T17:52:56.195Z"
   },
   {
    "duration": 5,
    "start_time": "2021-10-10T17:52:56.207Z"
   },
   {
    "duration": 10,
    "start_time": "2021-10-10T17:52:56.214Z"
   },
   {
    "duration": 6,
    "start_time": "2021-10-10T17:52:56.226Z"
   },
   {
    "duration": 45,
    "start_time": "2021-10-10T17:52:56.234Z"
   },
   {
    "duration": 2,
    "start_time": "2021-10-10T17:52:56.281Z"
   },
   {
    "duration": 20,
    "start_time": "2021-10-10T17:52:56.285Z"
   },
   {
    "duration": 13,
    "start_time": "2021-10-10T17:52:56.306Z"
   },
   {
    "duration": 11,
    "start_time": "2021-10-10T17:52:56.320Z"
   },
   {
    "duration": 3,
    "start_time": "2021-10-10T17:52:56.333Z"
   },
   {
    "duration": 7,
    "start_time": "2021-10-10T17:52:56.338Z"
   },
   {
    "duration": 30,
    "start_time": "2021-10-10T17:52:56.347Z"
   },
   {
    "duration": 15,
    "start_time": "2021-10-10T17:52:56.378Z"
   },
   {
    "duration": 601,
    "start_time": "2021-10-10T17:52:56.395Z"
   },
   {
    "duration": 6,
    "start_time": "2021-10-10T17:52:56.997Z"
   },
   {
    "duration": 6,
    "start_time": "2021-10-10T17:52:57.007Z"
   },
   {
    "duration": 1030,
    "start_time": "2021-10-10T17:52:57.016Z"
   },
   {
    "duration": 230,
    "start_time": "2021-10-10T17:52:58.047Z"
   },
   {
    "duration": 323,
    "start_time": "2021-10-10T17:52:58.279Z"
   },
   {
    "duration": 543,
    "start_time": "2021-10-10T17:52:58.604Z"
   },
   {
    "duration": 238,
    "start_time": "2021-10-10T17:52:59.148Z"
   },
   {
    "duration": 331,
    "start_time": "2021-10-10T17:52:59.387Z"
   },
   {
    "duration": 15,
    "start_time": "2021-10-10T17:52:59.720Z"
   },
   {
    "duration": 207,
    "start_time": "2021-10-10T17:52:59.737Z"
   },
   {
    "duration": 149,
    "start_time": "2021-10-10T17:52:59.946Z"
   },
   {
    "duration": 15,
    "start_time": "2021-10-10T17:53:00.097Z"
   },
   {
    "duration": 134,
    "start_time": "2021-10-10T17:53:00.114Z"
   },
   {
    "duration": 6,
    "start_time": "2021-10-10T17:53:00.250Z"
   },
   {
    "duration": 27,
    "start_time": "2021-10-10T17:53:00.257Z"
   },
   {
    "duration": 184,
    "start_time": "2021-10-10T17:53:00.285Z"
   },
   {
    "duration": 5,
    "start_time": "2021-10-10T17:53:00.470Z"
   },
   {
    "duration": 21,
    "start_time": "2021-10-10T17:53:00.476Z"
   },
   {
    "duration": 10,
    "start_time": "2021-10-10T17:53:00.498Z"
   },
   {
    "duration": 154,
    "start_time": "2021-10-10T17:53:00.510Z"
   },
   {
    "duration": 167,
    "start_time": "2021-10-10T17:53:00.666Z"
   },
   {
    "duration": 192,
    "start_time": "2021-10-10T17:53:00.835Z"
   },
   {
    "duration": 180,
    "start_time": "2021-10-10T17:53:01.029Z"
   },
   {
    "duration": 11,
    "start_time": "2021-10-10T17:53:01.211Z"
   },
   {
    "duration": 102,
    "start_time": "2021-10-10T17:53:01.223Z"
   },
   {
    "duration": 14,
    "start_time": "2021-10-10T17:53:01.327Z"
   },
   {
    "duration": 35,
    "start_time": "2021-10-10T17:53:01.343Z"
   },
   {
    "duration": 298,
    "start_time": "2021-10-10T17:53:01.380Z"
   },
   {
    "duration": 348,
    "start_time": "2021-10-10T17:53:01.680Z"
   },
   {
    "duration": 426,
    "start_time": "2021-10-10T17:53:02.030Z"
   },
   {
    "duration": 334,
    "start_time": "2021-10-10T17:53:02.457Z"
   },
   {
    "duration": 343,
    "start_time": "2021-10-10T17:53:02.793Z"
   },
   {
    "duration": 5,
    "start_time": "2021-10-10T17:53:03.137Z"
   },
   {
    "duration": 8,
    "start_time": "2021-10-10T17:53:03.144Z"
   },
   {
    "duration": 362,
    "start_time": "2021-10-10T17:53:03.153Z"
   },
   {
    "duration": 453,
    "start_time": "2021-10-10T17:53:03.517Z"
   },
   {
    "duration": 324,
    "start_time": "2021-10-10T17:53:03.971Z"
   },
   {
    "duration": 366,
    "start_time": "2021-10-10T17:53:04.297Z"
   },
   {
    "duration": 331,
    "start_time": "2021-10-10T17:53:04.664Z"
   },
   {
    "duration": 818,
    "start_time": "2021-10-14T19:28:24.219Z"
   },
   {
    "duration": 126,
    "start_time": "2021-10-14T19:28:25.458Z"
   },
   {
    "duration": 100,
    "start_time": "2021-10-14T19:28:46.831Z"
   },
   {
    "duration": 94,
    "start_time": "2021-10-14T19:36:56.224Z"
   },
   {
    "duration": 15,
    "start_time": "2021-10-14T19:42:21.156Z"
   },
   {
    "duration": 18,
    "start_time": "2021-10-14T19:43:26.427Z"
   },
   {
    "duration": 11,
    "start_time": "2021-10-14T19:44:56.633Z"
   },
   {
    "duration": 20,
    "start_time": "2021-10-14T19:44:56.647Z"
   },
   {
    "duration": 14,
    "start_time": "2021-10-14T19:44:59.754Z"
   },
   {
    "duration": 7,
    "start_time": "2021-10-14T19:46:23.213Z"
   },
   {
    "duration": 13,
    "start_time": "2021-10-14T19:46:29.178Z"
   },
   {
    "duration": 14,
    "start_time": "2021-10-14T19:46:49.288Z"
   },
   {
    "duration": 6243,
    "start_time": "2021-10-14T19:47:49.147Z"
   },
   {
    "duration": 61,
    "start_time": "2021-10-14T19:48:14.590Z"
   },
   {
    "duration": 9,
    "start_time": "2021-10-14T19:51:47.126Z"
   },
   {
    "duration": 81,
    "start_time": "2021-10-14T19:52:40.114Z"
   },
   {
    "duration": 7,
    "start_time": "2021-10-14T19:52:50.201Z"
   },
   {
    "duration": 789,
    "start_time": "2021-10-14T19:53:28.413Z"
   },
   {
    "duration": 122,
    "start_time": "2021-10-14T19:53:30.375Z"
   },
   {
    "duration": 105,
    "start_time": "2021-10-14T19:53:31.723Z"
   },
   {
    "duration": 15,
    "start_time": "2021-10-14T19:53:40.772Z"
   },
   {
    "duration": 13,
    "start_time": "2021-10-14T19:53:45.943Z"
   },
   {
    "duration": 9,
    "start_time": "2021-10-14T19:53:49.763Z"
   },
   {
    "duration": 16,
    "start_time": "2021-10-14T19:53:54.312Z"
   },
   {
    "duration": 9,
    "start_time": "2021-10-14T19:54:39.983Z"
   },
   {
    "duration": 12,
    "start_time": "2021-10-14T19:55:06.946Z"
   },
   {
    "duration": 60,
    "start_time": "2021-10-14T19:55:40.030Z"
   },
   {
    "duration": 346,
    "start_time": "2021-10-14T20:00:04.873Z"
   },
   {
    "duration": 101,
    "start_time": "2021-10-14T20:00:34.568Z"
   },
   {
    "duration": 20,
    "start_time": "2021-10-14T20:00:48.752Z"
   },
   {
    "duration": 20,
    "start_time": "2021-10-14T20:01:09.926Z"
   },
   {
    "duration": 22,
    "start_time": "2021-10-14T20:01:16.880Z"
   },
   {
    "duration": 22,
    "start_time": "2021-10-14T20:04:47.795Z"
   },
   {
    "duration": 121,
    "start_time": "2021-10-14T20:05:18.315Z"
   },
   {
    "duration": 12,
    "start_time": "2021-10-14T20:05:28.810Z"
   },
   {
    "duration": 16,
    "start_time": "2021-10-14T20:05:44.251Z"
   },
   {
    "duration": 8,
    "start_time": "2021-10-14T20:05:54.471Z"
   },
   {
    "duration": 14,
    "start_time": "2021-10-14T20:05:57.988Z"
   },
   {
    "duration": 885,
    "start_time": "2021-10-14T20:06:20.340Z"
   },
   {
    "duration": 123,
    "start_time": "2021-10-14T20:06:23.540Z"
   },
   {
    "duration": 110,
    "start_time": "2021-10-14T20:06:23.667Z"
   },
   {
    "duration": 17,
    "start_time": "2021-10-14T20:06:33.588Z"
   },
   {
    "duration": 12,
    "start_time": "2021-10-14T20:06:42.381Z"
   },
   {
    "duration": 10,
    "start_time": "2021-10-14T20:06:46.824Z"
   },
   {
    "duration": 14,
    "start_time": "2021-10-14T20:06:54.233Z"
   },
   {
    "duration": 16,
    "start_time": "2021-10-14T20:07:02.460Z"
   },
   {
    "duration": 12,
    "start_time": "2021-10-14T20:07:06.382Z"
   },
   {
    "duration": 13,
    "start_time": "2021-10-14T20:07:09.907Z"
   },
   {
    "duration": 12,
    "start_time": "2021-10-14T20:07:20.714Z"
   },
   {
    "duration": 1204,
    "start_time": "2021-10-14T20:07:43.153Z"
   },
   {
    "duration": 119,
    "start_time": "2021-10-14T20:07:44.360Z"
   },
   {
    "duration": 104,
    "start_time": "2021-10-14T20:07:47.027Z"
   },
   {
    "duration": 16,
    "start_time": "2021-10-14T20:07:51.908Z"
   },
   {
    "duration": 13,
    "start_time": "2021-10-14T20:07:56.351Z"
   },
   {
    "duration": 10,
    "start_time": "2021-10-14T20:08:00.061Z"
   },
   {
    "duration": 16,
    "start_time": "2021-10-14T20:08:03.586Z"
   },
   {
    "duration": 19,
    "start_time": "2021-10-14T20:08:06.505Z"
   },
   {
    "duration": 16,
    "start_time": "2021-10-14T20:08:14.388Z"
   },
   {
    "duration": 6,
    "start_time": "2021-10-14T20:08:17.592Z"
   },
   {
    "duration": 13,
    "start_time": "2021-10-14T20:08:24.343Z"
   },
   {
    "duration": 828,
    "start_time": "2021-10-14T20:09:39.697Z"
   },
   {
    "duration": 122,
    "start_time": "2021-10-14T20:09:42.296Z"
   },
   {
    "duration": 101,
    "start_time": "2021-10-14T20:09:44.817Z"
   },
   {
    "duration": 16,
    "start_time": "2021-10-14T20:09:48.343Z"
   },
   {
    "duration": 12,
    "start_time": "2021-10-14T20:09:51.267Z"
   },
   {
    "duration": 10,
    "start_time": "2021-10-14T20:09:55.109Z"
   },
   {
    "duration": 16,
    "start_time": "2021-10-14T20:09:58.547Z"
   },
   {
    "duration": 14,
    "start_time": "2021-10-14T20:10:11.748Z"
   },
   {
    "duration": 369,
    "start_time": "2021-10-14T20:11:04.101Z"
   },
   {
    "duration": 26,
    "start_time": "2021-10-14T20:12:51.485Z"
   },
   {
    "duration": 22,
    "start_time": "2021-10-14T20:15:18.771Z"
   },
   {
    "duration": 848,
    "start_time": "2021-10-14T20:20:10.381Z"
   },
   {
    "duration": 122,
    "start_time": "2021-10-14T20:20:12.907Z"
   },
   {
    "duration": 103,
    "start_time": "2021-10-14T20:20:14.510Z"
   },
   {
    "duration": 16,
    "start_time": "2021-10-14T20:20:19.975Z"
   },
   {
    "duration": 12,
    "start_time": "2021-10-14T20:20:23.794Z"
   },
   {
    "duration": 9,
    "start_time": "2021-10-14T20:20:27.093Z"
   },
   {
    "duration": 14,
    "start_time": "2021-10-14T20:20:30.915Z"
   },
   {
    "duration": 14,
    "start_time": "2021-10-14T20:21:05.573Z"
   },
   {
    "duration": 7,
    "start_time": "2021-10-14T20:21:16.226Z"
   },
   {
    "duration": 13,
    "start_time": "2021-10-14T20:21:54.448Z"
   },
   {
    "duration": 8,
    "start_time": "2021-10-14T20:22:03.839Z"
   },
   {
    "duration": 114,
    "start_time": "2021-10-14T20:23:01.838Z"
   },
   {
    "duration": 8,
    "start_time": "2021-10-14T20:23:07.114Z"
   },
   {
    "duration": 15,
    "start_time": "2021-10-14T20:23:41.303Z"
   },
   {
    "duration": 7,
    "start_time": "2021-10-14T20:23:44.834Z"
   },
   {
    "duration": 14,
    "start_time": "2021-10-14T20:23:46.546Z"
   },
   {
    "duration": 6,
    "start_time": "2021-10-14T20:24:18.062Z"
   },
   {
    "duration": 78,
    "start_time": "2021-10-14T20:24:25.837Z"
   },
   {
    "duration": 7,
    "start_time": "2021-10-14T20:24:32.960Z"
   },
   {
    "duration": 9,
    "start_time": "2021-10-14T20:25:01.858Z"
   },
   {
    "duration": 16,
    "start_time": "2021-10-14T20:25:36.580Z"
   },
   {
    "duration": 817,
    "start_time": "2021-10-14T20:26:12.391Z"
   },
   {
    "duration": 126,
    "start_time": "2021-10-14T20:26:13.584Z"
   },
   {
    "duration": 112,
    "start_time": "2021-10-14T20:26:13.712Z"
   },
   {
    "duration": 103,
    "start_time": "2021-10-14T20:26:18.540Z"
   },
   {
    "duration": 16,
    "start_time": "2021-10-14T20:26:22.571Z"
   },
   {
    "duration": 14,
    "start_time": "2021-10-14T20:26:26.734Z"
   },
   {
    "duration": 10,
    "start_time": "2021-10-14T20:26:32.500Z"
   },
   {
    "duration": 28,
    "start_time": "2021-10-14T20:26:36.014Z"
   },
   {
    "duration": 92,
    "start_time": "2021-10-14T20:27:30.217Z"
   },
   {
    "duration": 13,
    "start_time": "2021-10-14T20:27:34.722Z"
   },
   {
    "duration": 9,
    "start_time": "2021-10-14T20:27:46.103Z"
   },
   {
    "duration": 24,
    "start_time": "2021-10-14T20:28:11.835Z"
   },
   {
    "duration": 858,
    "start_time": "2021-10-14T20:29:29.861Z"
   },
   {
    "duration": 125,
    "start_time": "2021-10-14T20:29:31.502Z"
   },
   {
    "duration": 102,
    "start_time": "2021-10-14T20:29:34.701Z"
   },
   {
    "duration": 16,
    "start_time": "2021-10-14T20:29:37.747Z"
   },
   {
    "duration": 12,
    "start_time": "2021-10-14T20:29:40.900Z"
   },
   {
    "duration": 9,
    "start_time": "2021-10-14T20:29:45.224Z"
   },
   {
    "duration": 30,
    "start_time": "2021-10-14T20:29:48.254Z"
   },
   {
    "duration": 367,
    "start_time": "2021-10-14T20:30:20.756Z"
   },
   {
    "duration": 80,
    "start_time": "2021-10-14T20:30:42.435Z"
   },
   {
    "duration": 245,
    "start_time": "2021-10-14T20:31:03.089Z"
   },
   {
    "duration": 27,
    "start_time": "2021-10-14T20:31:59.457Z"
   },
   {
    "duration": 15,
    "start_time": "2021-10-14T20:32:16.045Z"
   },
   {
    "duration": 7,
    "start_time": "2021-10-14T20:32:20.249Z"
   },
   {
    "duration": 14,
    "start_time": "2021-10-14T20:32:23.373Z"
   },
   {
    "duration": 8,
    "start_time": "2021-10-14T20:32:28.047Z"
   },
   {
    "duration": 6,
    "start_time": "2021-10-14T20:33:03.080Z"
   },
   {
    "duration": 15,
    "start_time": "2021-10-14T20:33:04.683Z"
   },
   {
    "duration": 72,
    "start_time": "2021-10-14T20:33:10.283Z"
   },
   {
    "duration": 843,
    "start_time": "2021-10-14T20:34:04.700Z"
   },
   {
    "duration": 123,
    "start_time": "2021-10-14T20:34:06.661Z"
   },
   {
    "duration": 103,
    "start_time": "2021-10-14T20:34:09.142Z"
   },
   {
    "duration": 18,
    "start_time": "2021-10-14T20:34:13.542Z"
   },
   {
    "duration": 15,
    "start_time": "2021-10-14T20:34:17.461Z"
   },
   {
    "duration": 11,
    "start_time": "2021-10-14T20:34:20.430Z"
   },
   {
    "duration": 30,
    "start_time": "2021-10-14T20:34:24.072Z"
   },
   {
    "duration": 30,
    "start_time": "2021-10-14T20:34:51.380Z"
   },
   {
    "duration": 15,
    "start_time": "2021-10-14T20:35:06.902Z"
   },
   {
    "duration": 7,
    "start_time": "2021-10-14T20:35:11.963Z"
   },
   {
    "duration": 15,
    "start_time": "2021-10-14T20:35:26.820Z"
   },
   {
    "duration": 7,
    "start_time": "2021-10-14T20:35:35.028Z"
   },
   {
    "duration": 6,
    "start_time": "2021-10-14T20:35:43.962Z"
   },
   {
    "duration": 17,
    "start_time": "2021-10-14T20:35:48.452Z"
   },
   {
    "duration": 8,
    "start_time": "2021-10-14T20:35:52.611Z"
   },
   {
    "duration": 8,
    "start_time": "2021-10-14T20:36:03.845Z"
   },
   {
    "duration": 15,
    "start_time": "2021-10-14T20:36:04.932Z"
   },
   {
    "duration": 7,
    "start_time": "2021-10-14T20:36:08.983Z"
   },
   {
    "duration": 7,
    "start_time": "2021-10-14T20:38:20.618Z"
   },
   {
    "duration": 6897,
    "start_time": "2021-10-14T20:39:36.554Z"
   },
   {
    "duration": 14,
    "start_time": "2021-10-14T20:39:56.274Z"
   },
   {
    "duration": 44,
    "start_time": "2021-10-14T20:40:04.798Z"
   },
   {
    "duration": 562,
    "start_time": "2021-10-14T20:40:54.356Z"
   },
   {
    "duration": 13,
    "start_time": "2021-10-14T20:41:39.309Z"
   },
   {
    "duration": 8,
    "start_time": "2021-10-14T20:41:41.879Z"
   },
   {
    "duration": 7,
    "start_time": "2021-10-14T20:41:44.048Z"
   },
   {
    "duration": 14,
    "start_time": "2021-10-14T20:41:52.975Z"
   },
   {
    "duration": 23,
    "start_time": "2021-10-14T20:41:58.947Z"
   },
   {
    "duration": 6,
    "start_time": "2021-10-14T20:43:26.042Z"
   },
   {
    "duration": 311,
    "start_time": "2021-10-14T20:43:40.557Z"
   },
   {
    "duration": 898,
    "start_time": "2021-10-14T20:43:43.235Z"
   },
   {
    "duration": 125,
    "start_time": "2021-10-14T20:43:44.556Z"
   },
   {
    "duration": 102,
    "start_time": "2021-10-14T20:43:47.437Z"
   },
   {
    "duration": 17,
    "start_time": "2021-10-14T20:43:51.035Z"
   },
   {
    "duration": 12,
    "start_time": "2021-10-14T20:43:55.163Z"
   },
   {
    "duration": 9,
    "start_time": "2021-10-14T20:43:58.324Z"
   },
   {
    "duration": 30,
    "start_time": "2021-10-14T20:44:02.316Z"
   },
   {
    "duration": 7,
    "start_time": "2021-10-14T20:44:36.492Z"
   },
   {
    "duration": 840,
    "start_time": "2021-10-14T20:44:59.893Z"
   },
   {
    "duration": 131,
    "start_time": "2021-10-14T20:45:02.554Z"
   },
   {
    "duration": 103,
    "start_time": "2021-10-14T20:45:04.918Z"
   },
   {
    "duration": 17,
    "start_time": "2021-10-14T20:45:08.486Z"
   },
   {
    "duration": 13,
    "start_time": "2021-10-14T20:45:12.026Z"
   },
   {
    "duration": 10,
    "start_time": "2021-10-14T20:45:15.226Z"
   },
   {
    "duration": 29,
    "start_time": "2021-10-14T20:45:19.949Z"
   },
   {
    "duration": 6,
    "start_time": "2021-10-14T20:45:24.666Z"
   },
   {
    "duration": 7,
    "start_time": "2021-10-14T20:45:56.159Z"
   },
   {
    "duration": 815,
    "start_time": "2021-10-14T20:46:20.513Z"
   },
   {
    "duration": 122,
    "start_time": "2021-10-14T20:46:21.901Z"
   },
   {
    "duration": 105,
    "start_time": "2021-10-14T20:46:25.592Z"
   },
   {
    "duration": 15,
    "start_time": "2021-10-14T20:46:30.581Z"
   },
   {
    "duration": 13,
    "start_time": "2021-10-14T20:46:34.621Z"
   },
   {
    "duration": 9,
    "start_time": "2021-10-14T20:46:40.008Z"
   },
   {
    "duration": 27,
    "start_time": "2021-10-14T20:46:44.350Z"
   },
   {
    "duration": 7,
    "start_time": "2021-10-14T20:46:48.980Z"
   },
   {
    "duration": 7,
    "start_time": "2021-10-14T20:47:02.405Z"
   },
   {
    "duration": 6,
    "start_time": "2021-10-14T20:47:09.700Z"
   },
   {
    "duration": 18,
    "start_time": "2021-10-14T20:47:21.843Z"
   },
   {
    "duration": 12,
    "start_time": "2021-10-14T20:48:08.308Z"
   },
   {
    "duration": 25,
    "start_time": "2021-10-14T20:48:30.543Z"
   },
   {
    "duration": 17,
    "start_time": "2021-10-14T20:50:08.721Z"
   },
   {
    "duration": 14,
    "start_time": "2021-10-14T20:52:01.894Z"
   },
   {
    "duration": 6,
    "start_time": "2021-10-14T20:52:08.959Z"
   },
   {
    "duration": 14,
    "start_time": "2021-10-14T20:52:10.221Z"
   },
   {
    "duration": 73,
    "start_time": "2021-10-14T20:53:27.597Z"
   },
   {
    "duration": 79,
    "start_time": "2021-10-14T20:53:33.476Z"
   },
   {
    "duration": 95,
    "start_time": "2021-10-14T20:53:39.357Z"
   },
   {
    "duration": 90,
    "start_time": "2021-10-14T20:54:37.245Z"
   },
   {
    "duration": 9,
    "start_time": "2021-10-14T20:55:31.315Z"
   },
   {
    "duration": 83,
    "start_time": "2021-10-14T20:55:43.797Z"
   },
   {
    "duration": 70,
    "start_time": "2021-10-14T20:55:52.985Z"
   },
   {
    "duration": 85,
    "start_time": "2021-10-14T20:56:54.759Z"
   },
   {
    "duration": 77,
    "start_time": "2021-10-14T20:57:58.734Z"
   },
   {
    "duration": 8,
    "start_time": "2021-10-14T20:58:37.591Z"
   },
   {
    "duration": 13,
    "start_time": "2021-10-14T20:58:44.020Z"
   },
   {
    "duration": 27,
    "start_time": "2021-10-14T20:58:54.270Z"
   },
   {
    "duration": 25,
    "start_time": "2021-10-14T20:59:27.354Z"
   },
   {
    "duration": 823,
    "start_time": "2021-10-14T20:59:39.103Z"
   },
   {
    "duration": 130,
    "start_time": "2021-10-14T20:59:42.124Z"
   },
   {
    "duration": 100,
    "start_time": "2021-10-14T20:59:45.922Z"
   },
   {
    "duration": 18,
    "start_time": "2021-10-14T20:59:56.534Z"
   },
   {
    "duration": 15,
    "start_time": "2021-10-14T21:00:01.305Z"
   },
   {
    "duration": 9,
    "start_time": "2021-10-14T21:00:04.443Z"
   },
   {
    "duration": 28,
    "start_time": "2021-10-14T21:00:19.788Z"
   },
   {
    "duration": 12,
    "start_time": "2021-10-14T21:00:25.752Z"
   },
   {
    "duration": 13,
    "start_time": "2021-10-14T21:00:32.934Z"
   },
   {
    "duration": 14,
    "start_time": "2021-10-14T21:00:36.092Z"
   },
   {
    "duration": 7,
    "start_time": "2021-10-14T21:00:42.304Z"
   },
   {
    "duration": 15,
    "start_time": "2021-10-14T21:00:46.906Z"
   },
   {
    "duration": 7,
    "start_time": "2021-10-14T21:00:52.962Z"
   },
   {
    "duration": 27,
    "start_time": "2021-10-14T21:00:55.423Z"
   },
   {
    "duration": 9,
    "start_time": "2021-10-14T21:03:12.965Z"
   },
   {
    "duration": 15,
    "start_time": "2021-10-14T21:03:30.387Z"
   },
   {
    "duration": 23,
    "start_time": "2021-10-14T21:04:11.364Z"
   },
   {
    "duration": 7,
    "start_time": "2021-10-14T21:09:04.002Z"
   },
   {
    "duration": 80,
    "start_time": "2021-10-14T21:12:16.290Z"
   },
   {
    "duration": 403,
    "start_time": "2021-10-15T06:51:20.209Z"
   },
   {
    "duration": 313,
    "start_time": "2021-10-15T06:51:35.192Z"
   },
   {
    "duration": 982,
    "start_time": "2021-10-15T06:55:55.335Z"
   },
   {
    "duration": 117,
    "start_time": "2021-10-15T06:55:57.609Z"
   },
   {
    "duration": 103,
    "start_time": "2021-10-15T06:56:00.977Z"
   },
   {
    "duration": 16,
    "start_time": "2021-10-15T06:56:05.903Z"
   },
   {
    "duration": 12,
    "start_time": "2021-10-15T06:56:11.958Z"
   },
   {
    "duration": 9,
    "start_time": "2021-10-15T06:56:15.025Z"
   },
   {
    "duration": 28,
    "start_time": "2021-10-15T06:56:17.579Z"
   },
   {
    "duration": 13,
    "start_time": "2021-10-15T06:56:22.812Z"
   },
   {
    "duration": 12,
    "start_time": "2021-10-15T06:56:25.768Z"
   },
   {
    "duration": 15,
    "start_time": "2021-10-15T06:56:28.350Z"
   },
   {
    "duration": 7,
    "start_time": "2021-10-15T06:56:31.305Z"
   },
   {
    "duration": 9,
    "start_time": "2021-10-15T06:56:34.208Z"
   },
   {
    "duration": 7,
    "start_time": "2021-10-15T06:56:40.575Z"
   },
   {
    "duration": 14,
    "start_time": "2021-10-15T06:56:44.002Z"
   },
   {
    "duration": 7,
    "start_time": "2021-10-15T06:56:47.329Z"
   },
   {
    "duration": 9,
    "start_time": "2021-10-15T06:56:50.691Z"
   },
   {
    "duration": 13,
    "start_time": "2021-10-15T06:56:54.607Z"
   },
   {
    "duration": 25,
    "start_time": "2021-10-15T06:56:58.391Z"
   },
   {
    "duration": 13,
    "start_time": "2021-10-15T06:57:01.729Z"
   },
   {
    "duration": 8,
    "start_time": "2021-10-15T06:57:05.092Z"
   },
   {
    "duration": 16,
    "start_time": "2021-10-15T06:57:20.092Z"
   },
   {
    "duration": 65,
    "start_time": "2021-10-15T06:59:32.270Z"
   },
   {
    "duration": 25,
    "start_time": "2021-10-15T07:00:19.884Z"
   },
   {
    "duration": 7,
    "start_time": "2021-10-15T07:00:23.500Z"
   },
   {
    "duration": 19,
    "start_time": "2021-10-15T07:00:25.708Z"
   },
   {
    "duration": 11,
    "start_time": "2021-10-15T07:00:34.154Z"
   },
   {
    "duration": 9,
    "start_time": "2021-10-15T07:00:36.996Z"
   },
   {
    "duration": 14,
    "start_time": "2021-10-15T07:00:40.496Z"
   },
   {
    "duration": 930,
    "start_time": "2021-10-15T07:01:02.474Z"
   },
   {
    "duration": 122,
    "start_time": "2021-10-15T07:01:03.416Z"
   },
   {
    "duration": 99,
    "start_time": "2021-10-15T07:01:07.230Z"
   },
   {
    "duration": 15,
    "start_time": "2021-10-15T07:01:11.456Z"
   },
   {
    "duration": 12,
    "start_time": "2021-10-15T07:01:14.499Z"
   },
   {
    "duration": 10,
    "start_time": "2021-10-15T07:01:17.548Z"
   },
   {
    "duration": 28,
    "start_time": "2021-10-15T07:01:20.705Z"
   },
   {
    "duration": 13,
    "start_time": "2021-10-15T07:01:24.928Z"
   },
   {
    "duration": 14,
    "start_time": "2021-10-15T07:01:27.400Z"
   },
   {
    "duration": 14,
    "start_time": "2021-10-15T07:01:30.741Z"
   },
   {
    "duration": 8,
    "start_time": "2021-10-15T07:01:35.257Z"
   },
   {
    "duration": 12,
    "start_time": "2021-10-15T07:01:37.615Z"
   },
   {
    "duration": 7,
    "start_time": "2021-10-15T07:01:42.415Z"
   },
   {
    "duration": 26,
    "start_time": "2021-10-15T07:01:45.072Z"
   },
   {
    "duration": 7,
    "start_time": "2021-10-15T07:01:52.938Z"
   },
   {
    "duration": 14,
    "start_time": "2021-10-15T07:01:55.618Z"
   },
   {
    "duration": 8,
    "start_time": "2021-10-15T07:01:58.945Z"
   },
   {
    "duration": 8,
    "start_time": "2021-10-15T07:02:01.721Z"
   },
   {
    "duration": 13,
    "start_time": "2021-10-15T07:02:04.375Z"
   },
   {
    "duration": 26,
    "start_time": "2021-10-15T07:02:08.613Z"
   },
   {
    "duration": 12,
    "start_time": "2021-10-15T07:02:13.963Z"
   },
   {
    "duration": 10,
    "start_time": "2021-10-15T07:02:17.822Z"
   },
   {
    "duration": 67,
    "start_time": "2021-10-15T07:02:20.581Z"
   },
   {
    "duration": 13,
    "start_time": "2021-10-15T07:07:59.222Z"
   },
   {
    "duration": 933,
    "start_time": "2021-10-15T07:08:22.439Z"
   },
   {
    "duration": 123,
    "start_time": "2021-10-15T07:08:23.374Z"
   },
   {
    "duration": 112,
    "start_time": "2021-10-15T07:08:23.499Z"
   },
   {
    "duration": 16,
    "start_time": "2021-10-15T07:08:23.613Z"
   },
   {
    "duration": 32,
    "start_time": "2021-10-15T07:08:23.631Z"
   },
   {
    "duration": 10,
    "start_time": "2021-10-15T07:08:23.666Z"
   },
   {
    "duration": 19,
    "start_time": "2021-10-15T07:08:23.678Z"
   },
   {
    "duration": 12,
    "start_time": "2021-10-15T07:08:23.703Z"
   },
   {
    "duration": 54,
    "start_time": "2021-10-15T07:08:23.719Z"
   },
   {
    "duration": 13,
    "start_time": "2021-10-15T07:08:23.775Z"
   },
   {
    "duration": 6,
    "start_time": "2021-10-15T07:08:23.791Z"
   },
   {
    "duration": 13,
    "start_time": "2021-10-15T07:08:23.799Z"
   },
   {
    "duration": 50,
    "start_time": "2021-10-15T07:08:23.814Z"
   },
   {
    "duration": 24,
    "start_time": "2021-10-15T07:08:23.867Z"
   },
   {
    "duration": 7,
    "start_time": "2021-10-15T07:08:23.894Z"
   },
   {
    "duration": 13,
    "start_time": "2021-10-15T07:08:23.903Z"
   },
   {
    "duration": 44,
    "start_time": "2021-10-15T07:08:23.918Z"
   },
   {
    "duration": 8,
    "start_time": "2021-10-15T07:08:23.964Z"
   },
   {
    "duration": 26,
    "start_time": "2021-10-15T07:08:23.975Z"
   },
   {
    "duration": 24,
    "start_time": "2021-10-15T07:08:24.004Z"
   },
   {
    "duration": 38,
    "start_time": "2021-10-15T07:08:24.031Z"
   },
   {
    "duration": 10,
    "start_time": "2021-10-15T07:08:24.072Z"
   },
   {
    "duration": 87,
    "start_time": "2021-10-15T07:08:24.088Z"
   },
   {
    "duration": 5,
    "start_time": "2021-10-15T07:08:24.179Z"
   },
   {
    "duration": 10,
    "start_time": "2021-10-15T07:08:24.186Z"
   },
   {
    "duration": 7,
    "start_time": "2021-10-15T07:08:24.199Z"
   },
   {
    "duration": 19,
    "start_time": "2021-10-15T07:08:24.209Z"
   },
   {
    "duration": 814,
    "start_time": "2021-10-15T07:08:24.262Z"
   },
   {
    "duration": 8,
    "start_time": "2021-10-15T07:08:25.078Z"
   },
   {
    "duration": 12,
    "start_time": "2021-10-15T07:08:25.088Z"
   },
   {
    "duration": 1699,
    "start_time": "2021-10-15T07:08:25.102Z"
   },
   {
    "duration": 286,
    "start_time": "2021-10-15T07:08:26.803Z"
   },
   {
    "duration": 565,
    "start_time": "2021-10-15T07:08:27.092Z"
   },
   {
    "duration": 862,
    "start_time": "2021-10-15T07:08:27.662Z"
   },
   {
    "duration": 382,
    "start_time": "2021-10-15T07:08:28.526Z"
   },
   {
    "duration": 585,
    "start_time": "2021-10-15T07:08:28.910Z"
   },
   {
    "duration": 20,
    "start_time": "2021-10-15T07:08:29.497Z"
   },
   {
    "duration": 472,
    "start_time": "2021-10-15T07:08:29.519Z"
   },
   {
    "duration": 245,
    "start_time": "2021-10-15T07:08:29.994Z"
   },
   {
    "duration": 30,
    "start_time": "2021-10-15T07:08:30.241Z"
   },
   {
    "duration": 222,
    "start_time": "2021-10-15T07:08:30.274Z"
   },
   {
    "duration": 9,
    "start_time": "2021-10-15T07:08:30.498Z"
   },
   {
    "duration": 23,
    "start_time": "2021-10-15T07:08:30.510Z"
   },
   {
    "duration": 326,
    "start_time": "2021-10-15T07:08:30.536Z"
   },
   {
    "duration": 7,
    "start_time": "2021-10-15T07:08:30.864Z"
   },
   {
    "duration": 12,
    "start_time": "2021-10-15T07:08:30.874Z"
   },
   {
    "duration": 11,
    "start_time": "2021-10-15T07:08:30.888Z"
   },
   {
    "duration": 264,
    "start_time": "2021-10-15T07:08:30.902Z"
   },
   {
    "duration": 296,
    "start_time": "2021-10-15T07:08:31.169Z"
   },
   {
    "duration": 314,
    "start_time": "2021-10-15T07:08:31.468Z"
   },
   {
    "duration": 281,
    "start_time": "2021-10-15T07:08:31.784Z"
   },
   {
    "duration": 15,
    "start_time": "2021-10-15T07:08:32.067Z"
   },
   {
    "duration": 134,
    "start_time": "2021-10-15T07:08:32.085Z"
   },
   {
    "duration": 21,
    "start_time": "2021-10-15T07:08:32.222Z"
   },
   {
    "duration": 27,
    "start_time": "2021-10-15T07:08:32.261Z"
   },
   {
    "duration": 500,
    "start_time": "2021-10-15T07:08:32.290Z"
   },
   {
    "duration": 596,
    "start_time": "2021-10-15T07:08:32.792Z"
   },
   {
    "duration": 726,
    "start_time": "2021-10-15T07:08:33.391Z"
   },
   {
    "duration": 585,
    "start_time": "2021-10-15T07:08:34.119Z"
   },
   {
    "duration": 641,
    "start_time": "2021-10-15T07:08:34.706Z"
   },
   {
    "duration": 15,
    "start_time": "2021-10-15T07:08:35.350Z"
   },
   {
    "duration": 12,
    "start_time": "2021-10-15T07:08:35.368Z"
   },
   {
    "duration": 667,
    "start_time": "2021-10-15T07:08:35.383Z"
   },
   {
    "duration": 865,
    "start_time": "2021-10-15T07:08:36.053Z"
   },
   {
    "duration": 567,
    "start_time": "2021-10-15T07:08:36.920Z"
   },
   {
    "duration": 756,
    "start_time": "2021-10-15T07:08:37.489Z"
   },
   {
    "duration": 749,
    "start_time": "2021-10-15T07:08:38.248Z"
   },
   {
    "duration": 949,
    "start_time": "2021-10-15T07:11:45.147Z"
   },
   {
    "duration": 133,
    "start_time": "2021-10-15T07:11:46.099Z"
   },
   {
    "duration": 170,
    "start_time": "2021-10-15T07:11:46.236Z"
   },
   {
    "duration": 20,
    "start_time": "2021-10-15T07:11:46.409Z"
   },
   {
    "duration": 32,
    "start_time": "2021-10-15T07:11:46.432Z"
   },
   {
    "duration": 10,
    "start_time": "2021-10-15T07:11:46.467Z"
   },
   {
    "duration": 26,
    "start_time": "2021-10-15T07:11:46.479Z"
   },
   {
    "duration": 8,
    "start_time": "2021-10-15T07:11:46.508Z"
   },
   {
    "duration": 49,
    "start_time": "2021-10-15T07:11:46.519Z"
   },
   {
    "duration": 14,
    "start_time": "2021-10-15T07:11:46.570Z"
   },
   {
    "duration": 7,
    "start_time": "2021-10-15T07:11:46.586Z"
   },
   {
    "duration": 15,
    "start_time": "2021-10-15T07:11:46.595Z"
   },
   {
    "duration": 7,
    "start_time": "2021-10-15T07:11:46.613Z"
   },
   {
    "duration": 62,
    "start_time": "2021-10-15T07:11:46.622Z"
   },
   {
    "duration": 6,
    "start_time": "2021-10-15T07:11:46.686Z"
   },
   {
    "duration": 16,
    "start_time": "2021-10-15T07:11:46.695Z"
   },
   {
    "duration": 6,
    "start_time": "2021-10-15T07:11:46.713Z"
   },
   {
    "duration": 8,
    "start_time": "2021-10-15T07:11:46.763Z"
   },
   {
    "duration": 14,
    "start_time": "2021-10-15T07:11:46.773Z"
   },
   {
    "duration": 24,
    "start_time": "2021-10-15T07:11:46.790Z"
   },
   {
    "duration": 11,
    "start_time": "2021-10-15T07:11:46.817Z"
   },
   {
    "duration": 10,
    "start_time": "2021-10-15T07:11:46.861Z"
   },
   {
    "duration": 49,
    "start_time": "2021-10-15T07:11:46.877Z"
   },
   {
    "duration": 33,
    "start_time": "2021-10-15T07:11:46.929Z"
   },
   {
    "duration": 7,
    "start_time": "2021-10-15T07:11:46.965Z"
   },
   {
    "duration": 8,
    "start_time": "2021-10-15T07:11:46.975Z"
   },
   {
    "duration": 21,
    "start_time": "2021-10-15T07:11:46.985Z"
   },
   {
    "duration": 851,
    "start_time": "2021-10-15T07:11:47.009Z"
   },
   {
    "duration": 8,
    "start_time": "2021-10-15T07:11:47.863Z"
   },
   {
    "duration": 10,
    "start_time": "2021-10-15T07:11:47.873Z"
   },
   {
    "duration": 1656,
    "start_time": "2021-10-15T07:11:47.885Z"
   },
   {
    "duration": 278,
    "start_time": "2021-10-15T07:11:49.543Z"
   },
   {
    "duration": 573,
    "start_time": "2021-10-15T07:11:49.824Z"
   },
   {
    "duration": 867,
    "start_time": "2021-10-15T07:11:50.399Z"
   },
   {
    "duration": 380,
    "start_time": "2021-10-15T07:11:51.269Z"
   },
   {
    "duration": 580,
    "start_time": "2021-10-15T07:11:51.651Z"
   },
   {
    "duration": 32,
    "start_time": "2021-10-15T07:11:52.234Z"
   },
   {
    "duration": 354,
    "start_time": "2021-10-15T07:11:52.268Z"
   },
   {
    "duration": 243,
    "start_time": "2021-10-15T07:11:52.624Z"
   },
   {
    "duration": 23,
    "start_time": "2021-10-15T07:11:52.869Z"
   },
   {
    "duration": 232,
    "start_time": "2021-10-15T07:11:52.895Z"
   },
   {
    "duration": 8,
    "start_time": "2021-10-15T07:11:53.130Z"
   },
   {
    "duration": 32,
    "start_time": "2021-10-15T07:11:53.141Z"
   },
   {
    "duration": 319,
    "start_time": "2021-10-15T07:11:53.176Z"
   },
   {
    "duration": 7,
    "start_time": "2021-10-15T07:11:53.498Z"
   },
   {
    "duration": 7,
    "start_time": "2021-10-15T07:11:53.508Z"
   },
   {
    "duration": 7,
    "start_time": "2021-10-15T07:11:53.517Z"
   },
   {
    "duration": 339,
    "start_time": "2021-10-15T07:11:53.526Z"
   },
   {
    "duration": 340,
    "start_time": "2021-10-15T07:11:53.869Z"
   },
   {
    "duration": 365,
    "start_time": "2021-10-15T07:11:54.212Z"
   },
   {
    "duration": 345,
    "start_time": "2021-10-15T07:11:54.579Z"
   },
   {
    "duration": 16,
    "start_time": "2021-10-15T07:11:54.928Z"
   },
   {
    "duration": 132,
    "start_time": "2021-10-15T07:11:54.962Z"
   },
   {
    "duration": 22,
    "start_time": "2021-10-15T07:11:55.096Z"
   },
   {
    "duration": 50,
    "start_time": "2021-10-15T07:11:55.121Z"
   },
   {
    "duration": 500,
    "start_time": "2021-10-15T07:11:55.173Z"
   },
   {
    "duration": 610,
    "start_time": "2021-10-15T07:11:55.675Z"
   },
   {
    "duration": 745,
    "start_time": "2021-10-15T07:11:56.289Z"
   },
   {
    "duration": 575,
    "start_time": "2021-10-15T07:11:57.036Z"
   },
   {
    "duration": 580,
    "start_time": "2021-10-15T07:11:57.614Z"
   },
   {
    "duration": 6,
    "start_time": "2021-10-15T07:11:58.197Z"
   },
   {
    "duration": 8,
    "start_time": "2021-10-15T07:11:58.205Z"
   },
   {
    "duration": 586,
    "start_time": "2021-10-15T07:11:58.215Z"
   },
   {
    "duration": 810,
    "start_time": "2021-10-15T07:11:58.804Z"
   },
   {
    "duration": 708,
    "start_time": "2021-10-15T07:11:59.617Z"
   },
   {
    "duration": 646,
    "start_time": "2021-10-15T07:12:00.327Z"
   },
   {
    "duration": 632,
    "start_time": "2021-10-15T07:12:00.976Z"
   },
   {
    "duration": 429,
    "start_time": "2021-10-15T07:29:09.005Z"
   },
   {
    "duration": 323,
    "start_time": "2021-10-15T07:29:42.085Z"
   },
   {
    "duration": 163,
    "start_time": "2021-10-15T07:30:09.244Z"
   },
   {
    "duration": 284,
    "start_time": "2021-10-15T07:32:22.468Z"
   },
   {
    "duration": 125,
    "start_time": "2021-10-15T07:32:42.083Z"
   },
   {
    "duration": 237,
    "start_time": "2021-10-15T07:33:43.021Z"
   },
   {
    "duration": 919,
    "start_time": "2021-10-15T07:34:30.494Z"
   },
   {
    "duration": 124,
    "start_time": "2021-10-15T07:34:31.415Z"
   },
   {
    "duration": 107,
    "start_time": "2021-10-15T07:34:31.542Z"
   },
   {
    "duration": 22,
    "start_time": "2021-10-15T07:34:31.652Z"
   },
   {
    "duration": 12,
    "start_time": "2021-10-15T07:34:31.677Z"
   },
   {
    "duration": 9,
    "start_time": "2021-10-15T07:34:31.692Z"
   },
   {
    "duration": 66,
    "start_time": "2021-10-15T07:34:31.703Z"
   },
   {
    "duration": 10,
    "start_time": "2021-10-15T07:34:31.772Z"
   },
   {
    "duration": 14,
    "start_time": "2021-10-15T07:34:31.786Z"
   },
   {
    "duration": 16,
    "start_time": "2021-10-15T07:34:31.803Z"
   },
   {
    "duration": 45,
    "start_time": "2021-10-15T07:34:31.821Z"
   },
   {
    "duration": 16,
    "start_time": "2021-10-15T07:34:31.869Z"
   },
   {
    "duration": 8,
    "start_time": "2021-10-15T07:34:31.888Z"
   },
   {
    "duration": 72,
    "start_time": "2021-10-15T07:34:31.900Z"
   },
   {
    "duration": 6,
    "start_time": "2021-10-15T07:34:31.975Z"
   },
   {
    "duration": 26,
    "start_time": "2021-10-15T07:34:31.983Z"
   },
   {
    "duration": 7,
    "start_time": "2021-10-15T07:34:32.011Z"
   },
   {
    "duration": 9,
    "start_time": "2021-10-15T07:34:32.020Z"
   },
   {
    "duration": 40,
    "start_time": "2021-10-15T07:34:32.032Z"
   },
   {
    "duration": 26,
    "start_time": "2021-10-15T07:34:32.074Z"
   },
   {
    "duration": 11,
    "start_time": "2021-10-15T07:34:32.103Z"
   },
   {
    "duration": 47,
    "start_time": "2021-10-15T07:34:32.116Z"
   },
   {
    "duration": 123,
    "start_time": "2021-10-15T07:34:32.169Z"
   },
   {
    "duration": 179,
    "start_time": "2021-10-15T07:34:32.296Z"
   },
   {
    "duration": 5,
    "start_time": "2021-10-15T07:34:32.478Z"
   },
   {
    "duration": 15,
    "start_time": "2021-10-15T07:34:32.485Z"
   },
   {
    "duration": 17,
    "start_time": "2021-10-15T07:34:32.502Z"
   },
   {
    "duration": 46,
    "start_time": "2021-10-15T07:34:32.522Z"
   },
   {
    "duration": 1033,
    "start_time": "2021-10-15T07:34:32.571Z"
   },
   {
    "duration": 12,
    "start_time": "2021-10-15T07:34:33.607Z"
   },
   {
    "duration": 19,
    "start_time": "2021-10-15T07:34:33.622Z"
   },
   {
    "duration": 2085,
    "start_time": "2021-10-15T07:34:33.644Z"
   },
   {
    "duration": 352,
    "start_time": "2021-10-15T07:34:35.731Z"
   },
   {
    "duration": 701,
    "start_time": "2021-10-15T07:34:36.085Z"
   },
   {
    "duration": 876,
    "start_time": "2021-10-15T07:34:36.789Z"
   },
   {
    "duration": 383,
    "start_time": "2021-10-15T07:34:37.667Z"
   },
   {
    "duration": 656,
    "start_time": "2021-10-15T07:34:38.053Z"
   },
   {
    "duration": 20,
    "start_time": "2021-10-15T07:34:38.712Z"
   },
   {
    "duration": 364,
    "start_time": "2021-10-15T07:34:38.734Z"
   },
   {
    "duration": 234,
    "start_time": "2021-10-15T07:34:39.101Z"
   },
   {
    "duration": 32,
    "start_time": "2021-10-15T07:34:39.338Z"
   },
   {
    "duration": 210,
    "start_time": "2021-10-15T07:34:39.372Z"
   },
   {
    "duration": 9,
    "start_time": "2021-10-15T07:34:39.585Z"
   },
   {
    "duration": 20,
    "start_time": "2021-10-15T07:34:39.596Z"
   },
   {
    "duration": 319,
    "start_time": "2021-10-15T07:34:39.618Z"
   },
   {
    "duration": 22,
    "start_time": "2021-10-15T07:34:39.939Z"
   },
   {
    "duration": 7,
    "start_time": "2021-10-15T07:34:39.964Z"
   },
   {
    "duration": 8,
    "start_time": "2021-10-15T07:34:39.973Z"
   },
   {
    "duration": 271,
    "start_time": "2021-10-15T07:34:39.983Z"
   },
   {
    "duration": 284,
    "start_time": "2021-10-15T07:34:40.256Z"
   },
   {
    "duration": 315,
    "start_time": "2021-10-15T07:34:40.543Z"
   },
   {
    "duration": 302,
    "start_time": "2021-10-15T07:34:40.862Z"
   },
   {
    "duration": 16,
    "start_time": "2021-10-15T07:34:41.167Z"
   },
   {
    "duration": 149,
    "start_time": "2021-10-15T07:34:41.186Z"
   },
   {
    "duration": 29,
    "start_time": "2021-10-15T07:34:41.337Z"
   },
   {
    "duration": 26,
    "start_time": "2021-10-15T07:34:41.368Z"
   },
   {
    "duration": 515,
    "start_time": "2021-10-15T07:34:41.396Z"
   },
   {
    "duration": 662,
    "start_time": "2021-10-15T07:34:41.914Z"
   },
   {
    "duration": 762,
    "start_time": "2021-10-15T07:34:42.579Z"
   },
   {
    "duration": 657,
    "start_time": "2021-10-15T07:34:43.343Z"
   },
   {
    "duration": 730,
    "start_time": "2021-10-15T07:34:44.003Z"
   },
   {
    "duration": 7,
    "start_time": "2021-10-15T07:34:44.736Z"
   },
   {
    "duration": 21,
    "start_time": "2021-10-15T07:34:44.746Z"
   },
   {
    "duration": 620,
    "start_time": "2021-10-15T07:34:44.770Z"
   },
   {
    "duration": 809,
    "start_time": "2021-10-15T07:34:45.393Z"
   },
   {
    "duration": 646,
    "start_time": "2021-10-15T07:34:46.205Z"
   },
   {
    "duration": 699,
    "start_time": "2021-10-15T07:34:46.854Z"
   },
   {
    "duration": 567,
    "start_time": "2021-10-15T07:34:47.560Z"
   },
   {
    "duration": 898,
    "start_time": "2021-10-15T07:36:52.717Z"
   },
   {
    "duration": 124,
    "start_time": "2021-10-15T07:36:55.089Z"
   },
   {
    "duration": 111,
    "start_time": "2021-10-15T07:36:58.061Z"
   },
   {
    "duration": 15,
    "start_time": "2021-10-15T07:37:01.569Z"
   },
   {
    "duration": 12,
    "start_time": "2021-10-15T07:37:04.401Z"
   },
   {
    "duration": 10,
    "start_time": "2021-10-15T07:37:07.549Z"
   },
   {
    "duration": 24,
    "start_time": "2021-10-15T07:37:10.709Z"
   },
   {
    "duration": 130,
    "start_time": "2021-10-15T07:37:15.389Z"
   },
   {
    "duration": 14,
    "start_time": "2021-10-15T07:37:18.681Z"
   },
   {
    "duration": 16,
    "start_time": "2021-10-15T07:37:23.188Z"
   },
   {
    "duration": 9,
    "start_time": "2021-10-15T07:37:27.690Z"
   },
   {
    "duration": 13,
    "start_time": "2021-10-15T07:37:30.049Z"
   },
   {
    "duration": 8,
    "start_time": "2021-10-15T07:37:33.410Z"
   },
   {
    "duration": 23,
    "start_time": "2021-10-15T07:37:35.622Z"
   },
   {
    "duration": 7,
    "start_time": "2021-10-15T07:37:39.351Z"
   },
   {
    "duration": 14,
    "start_time": "2021-10-15T07:37:42.283Z"
   },
   {
    "duration": 7,
    "start_time": "2021-10-15T07:37:46.863Z"
   },
   {
    "duration": 8,
    "start_time": "2021-10-15T07:37:49.204Z"
   },
   {
    "duration": 13,
    "start_time": "2021-10-15T07:37:51.411Z"
   },
   {
    "duration": 26,
    "start_time": "2021-10-15T07:37:55.820Z"
   },
   {
    "duration": 12,
    "start_time": "2021-10-15T07:37:59.456Z"
   },
   {
    "duration": 15,
    "start_time": "2021-10-15T07:38:02.532Z"
   },
   {
    "duration": 49,
    "start_time": "2021-10-15T07:38:19.543Z"
   },
   {
    "duration": 514,
    "start_time": "2021-10-15T07:38:24.569Z"
   },
   {
    "duration": 13,
    "start_time": "2021-10-15T07:38:59.069Z"
   },
   {
    "duration": 1695,
    "start_time": "2021-10-15T07:39:49.661Z"
   },
   {
    "duration": 148,
    "start_time": "2021-10-15T07:39:51.360Z"
   },
   {
    "duration": 122,
    "start_time": "2021-10-15T07:39:51.511Z"
   },
   {
    "duration": 29,
    "start_time": "2021-10-15T07:39:51.635Z"
   },
   {
    "duration": 12,
    "start_time": "2021-10-15T07:39:51.666Z"
   },
   {
    "duration": 16,
    "start_time": "2021-10-15T07:39:51.680Z"
   },
   {
    "duration": 31,
    "start_time": "2021-10-15T07:39:51.698Z"
   },
   {
    "duration": 34,
    "start_time": "2021-10-15T07:39:51.735Z"
   },
   {
    "duration": 14,
    "start_time": "2021-10-15T07:39:51.772Z"
   },
   {
    "duration": 16,
    "start_time": "2021-10-15T07:39:51.789Z"
   },
   {
    "duration": 8,
    "start_time": "2021-10-15T07:39:51.808Z"
   },
   {
    "duration": 51,
    "start_time": "2021-10-15T07:39:51.818Z"
   },
   {
    "duration": 7,
    "start_time": "2021-10-15T07:39:51.872Z"
   },
   {
    "duration": 31,
    "start_time": "2021-10-15T07:39:51.881Z"
   },
   {
    "duration": 7,
    "start_time": "2021-10-15T07:39:51.915Z"
   },
   {
    "duration": 48,
    "start_time": "2021-10-15T07:39:51.925Z"
   },
   {
    "duration": 8,
    "start_time": "2021-10-15T07:39:51.976Z"
   },
   {
    "duration": 24,
    "start_time": "2021-10-15T07:39:51.986Z"
   },
   {
    "duration": 18,
    "start_time": "2021-10-15T07:39:52.013Z"
   },
   {
    "duration": 50,
    "start_time": "2021-10-15T07:39:52.033Z"
   },
   {
    "duration": 12,
    "start_time": "2021-10-15T07:39:52.086Z"
   },
   {
    "duration": 12,
    "start_time": "2021-10-15T07:39:52.101Z"
   },
   {
    "duration": 73,
    "start_time": "2021-10-15T07:39:52.120Z"
   },
   {
    "duration": 103,
    "start_time": "2021-10-15T07:39:52.198Z"
   },
   {
    "duration": 5,
    "start_time": "2021-10-15T07:39:52.304Z"
   },
   {
    "duration": 14,
    "start_time": "2021-10-15T07:39:52.312Z"
   },
   {
    "duration": 33,
    "start_time": "2021-10-15T07:39:52.329Z"
   },
   {
    "duration": 21,
    "start_time": "2021-10-15T07:39:52.364Z"
   },
   {
    "duration": 809,
    "start_time": "2021-10-15T07:39:52.387Z"
   },
   {
    "duration": 9,
    "start_time": "2021-10-15T07:39:53.198Z"
   },
   {
    "duration": 12,
    "start_time": "2021-10-15T07:39:53.210Z"
   },
   {
    "duration": 1638,
    "start_time": "2021-10-15T07:39:53.224Z"
   },
   {
    "duration": 274,
    "start_time": "2021-10-15T07:39:54.864Z"
   },
   {
    "duration": 559,
    "start_time": "2021-10-15T07:39:55.140Z"
   },
   {
    "duration": 875,
    "start_time": "2021-10-15T07:39:55.702Z"
   },
   {
    "duration": 384,
    "start_time": "2021-10-15T07:39:56.580Z"
   },
   {
    "duration": 600,
    "start_time": "2021-10-15T07:39:56.967Z"
   },
   {
    "duration": 22,
    "start_time": "2021-10-15T07:39:57.570Z"
   },
   {
    "duration": 352,
    "start_time": "2021-10-15T07:39:57.594Z"
   },
   {
    "duration": 249,
    "start_time": "2021-10-15T07:39:57.948Z"
   },
   {
    "duration": 21,
    "start_time": "2021-10-15T07:39:58.200Z"
   },
   {
    "duration": 228,
    "start_time": "2021-10-15T07:39:58.224Z"
   },
   {
    "duration": 9,
    "start_time": "2021-10-15T07:39:58.462Z"
   },
   {
    "duration": 18,
    "start_time": "2021-10-15T07:39:58.474Z"
   },
   {
    "duration": 326,
    "start_time": "2021-10-15T07:39:58.495Z"
   },
   {
    "duration": 7,
    "start_time": "2021-10-15T07:39:58.823Z"
   },
   {
    "duration": 30,
    "start_time": "2021-10-15T07:39:58.832Z"
   },
   {
    "duration": 6,
    "start_time": "2021-10-15T07:39:58.865Z"
   },
   {
    "duration": 258,
    "start_time": "2021-10-15T07:39:58.874Z"
   },
   {
    "duration": 276,
    "start_time": "2021-10-15T07:39:59.135Z"
   },
   {
    "duration": 306,
    "start_time": "2021-10-15T07:39:59.414Z"
   },
   {
    "duration": 285,
    "start_time": "2021-10-15T07:39:59.723Z"
   },
   {
    "duration": 15,
    "start_time": "2021-10-15T07:40:00.010Z"
   },
   {
    "duration": 142,
    "start_time": "2021-10-15T07:40:00.027Z"
   },
   {
    "duration": 20,
    "start_time": "2021-10-15T07:40:00.172Z"
   },
   {
    "duration": 24,
    "start_time": "2021-10-15T07:40:00.195Z"
   },
   {
    "duration": 516,
    "start_time": "2021-10-15T07:40:00.222Z"
   },
   {
    "duration": 639,
    "start_time": "2021-10-15T07:40:00.740Z"
   },
   {
    "duration": 727,
    "start_time": "2021-10-15T07:40:01.381Z"
   },
   {
    "duration": 637,
    "start_time": "2021-10-15T07:40:02.110Z"
   },
   {
    "duration": 602,
    "start_time": "2021-10-15T07:40:02.750Z"
   },
   {
    "duration": 7,
    "start_time": "2021-10-15T07:40:03.363Z"
   },
   {
    "duration": 11,
    "start_time": "2021-10-15T07:40:03.373Z"
   },
   {
    "duration": 581,
    "start_time": "2021-10-15T07:40:03.386Z"
   },
   {
    "duration": 762,
    "start_time": "2021-10-15T07:40:03.970Z"
   },
   {
    "duration": 539,
    "start_time": "2021-10-15T07:40:04.735Z"
   },
   {
    "duration": 719,
    "start_time": "2021-10-15T07:40:05.276Z"
   },
   {
    "duration": 650,
    "start_time": "2021-10-15T07:40:06.003Z"
   },
   {
    "duration": 130,
    "start_time": "2021-10-15T07:40:31.416Z"
   },
   {
    "duration": 914,
    "start_time": "2021-10-15T07:42:22.021Z"
   },
   {
    "duration": 122,
    "start_time": "2021-10-15T07:42:23.061Z"
   },
   {
    "duration": 102,
    "start_time": "2021-10-15T07:42:26.381Z"
   },
   {
    "duration": 15,
    "start_time": "2021-10-15T07:42:31.863Z"
   },
   {
    "duration": 13,
    "start_time": "2021-10-15T07:42:35.063Z"
   },
   {
    "duration": 10,
    "start_time": "2021-10-15T07:42:38.424Z"
   },
   {
    "duration": 24,
    "start_time": "2021-10-15T07:42:41.103Z"
   },
   {
    "duration": 13,
    "start_time": "2021-10-15T07:42:48.143Z"
   },
   {
    "duration": 13,
    "start_time": "2021-10-15T07:42:50.381Z"
   },
   {
    "duration": 16,
    "start_time": "2021-10-15T07:42:53.631Z"
   },
   {
    "duration": 7,
    "start_time": "2021-10-15T07:42:56.343Z"
   },
   {
    "duration": 13,
    "start_time": "2021-10-15T07:42:59.023Z"
   },
   {
    "duration": 7,
    "start_time": "2021-10-15T07:43:01.862Z"
   },
   {
    "duration": 22,
    "start_time": "2021-10-15T07:43:04.826Z"
   },
   {
    "duration": 8,
    "start_time": "2021-10-15T07:43:09.152Z"
   },
   {
    "duration": 15,
    "start_time": "2021-10-15T07:43:11.930Z"
   },
   {
    "duration": 7,
    "start_time": "2021-10-15T07:43:20.464Z"
   },
   {
    "duration": 8,
    "start_time": "2021-10-15T07:43:22.583Z"
   },
   {
    "duration": 13,
    "start_time": "2021-10-15T07:43:25.151Z"
   },
   {
    "duration": 25,
    "start_time": "2021-10-15T07:43:28.109Z"
   },
   {
    "duration": 12,
    "start_time": "2021-10-15T07:43:30.797Z"
   },
   {
    "duration": 10,
    "start_time": "2021-10-15T07:43:33.153Z"
   },
   {
    "duration": 49,
    "start_time": "2021-10-15T07:43:37.705Z"
   },
   {
    "duration": 93,
    "start_time": "2021-10-15T07:43:42.274Z"
   },
   {
    "duration": 99,
    "start_time": "2021-10-15T07:44:09.805Z"
   },
   {
    "duration": 101,
    "start_time": "2021-10-15T07:44:32.065Z"
   },
   {
    "duration": 39,
    "start_time": "2021-10-15T07:45:07.804Z"
   },
   {
    "duration": 6,
    "start_time": "2021-10-15T07:50:07.629Z"
   },
   {
    "duration": 8,
    "start_time": "2021-10-15T07:50:10.743Z"
   },
   {
    "duration": 8,
    "start_time": "2021-10-15T07:50:12.666Z"
   },
   {
    "duration": 19,
    "start_time": "2021-10-15T07:50:15.626Z"
   },
   {
    "duration": 786,
    "start_time": "2021-10-15T07:50:20.587Z"
   },
   {
    "duration": 9,
    "start_time": "2021-10-15T07:50:27.309Z"
   },
   {
    "duration": 10,
    "start_time": "2021-10-15T07:50:32.216Z"
   },
   {
    "duration": 1606,
    "start_time": "2021-10-15T07:50:37.393Z"
   },
   {
    "duration": 281,
    "start_time": "2021-10-15T07:53:37.848Z"
   },
   {
    "duration": 302,
    "start_time": "2021-10-15T08:03:09.054Z"
   },
   {
    "duration": 573,
    "start_time": "2021-10-15T08:04:04.477Z"
   },
   {
    "duration": 309,
    "start_time": "2021-10-15T08:10:00.561Z"
   },
   {
    "duration": 307,
    "start_time": "2021-10-15T08:10:11.466Z"
   },
   {
    "duration": 296,
    "start_time": "2021-10-15T08:10:23.545Z"
   },
   {
    "duration": 296,
    "start_time": "2021-10-15T08:14:17.047Z"
   },
   {
    "duration": 290,
    "start_time": "2021-10-15T08:14:28.872Z"
   },
   {
    "duration": 299,
    "start_time": "2021-10-15T08:18:31.393Z"
   },
   {
    "duration": 302,
    "start_time": "2021-10-15T08:18:55.871Z"
   },
   {
    "duration": 633,
    "start_time": "2021-10-15T08:21:44.769Z"
   },
   {
    "duration": 301,
    "start_time": "2021-10-15T08:22:04.012Z"
   },
   {
    "duration": 304,
    "start_time": "2021-10-15T08:22:36.220Z"
   },
   {
    "duration": 592,
    "start_time": "2021-10-15T08:23:44.553Z"
   },
   {
    "duration": 623,
    "start_time": "2021-10-15T08:24:02.849Z"
   },
   {
    "duration": 595,
    "start_time": "2021-10-15T08:24:58.224Z"
   },
   {
    "duration": 889,
    "start_time": "2021-10-15T08:26:15.584Z"
   },
   {
    "duration": 593,
    "start_time": "2021-10-15T08:26:30.597Z"
   },
   {
    "duration": 110,
    "start_time": "2021-10-15T08:26:51.151Z"
   },
   {
    "duration": 560,
    "start_time": "2021-10-15T08:26:57.950Z"
   },
   {
    "duration": 838,
    "start_time": "2021-10-15T08:27:18.551Z"
   },
   {
    "duration": 8384,
    "start_time": "2021-10-15T08:27:26.030Z"
   },
   {
    "duration": 758,
    "start_time": "2021-10-15T08:27:54.186Z"
   },
   {
    "duration": 671,
    "start_time": "2021-10-15T08:28:44.771Z"
   },
   {
    "duration": 585,
    "start_time": "2021-10-15T08:30:22.767Z"
   },
   {
    "duration": 310,
    "start_time": "2021-10-15T08:30:51.893Z"
   },
   {
    "duration": 313,
    "start_time": "2021-10-15T08:31:40.674Z"
   },
   {
    "duration": 310,
    "start_time": "2021-10-15T08:32:15.283Z"
   },
   {
    "duration": 304,
    "start_time": "2021-10-15T08:32:32.540Z"
   },
   {
    "duration": 314,
    "start_time": "2021-10-15T08:34:06.554Z"
   },
   {
    "duration": 599,
    "start_time": "2021-10-15T08:35:01.641Z"
   },
   {
    "duration": 1181,
    "start_time": "2021-10-15T08:36:00.611Z"
   },
   {
    "duration": 677,
    "start_time": "2021-10-15T08:36:32.367Z"
   },
   {
    "duration": 574,
    "start_time": "2021-10-15T08:36:46.651Z"
   },
   {
    "duration": 276,
    "start_time": "2021-10-15T08:38:09.475Z"
   },
   {
    "duration": 881,
    "start_time": "2021-10-15T08:38:30.872Z"
   },
   {
    "duration": 1898,
    "start_time": "2021-10-15T08:40:10.456Z"
   },
   {
    "duration": 892,
    "start_time": "2021-10-15T08:40:23.938Z"
   },
   {
    "duration": 292,
    "start_time": "2021-10-15T08:41:51.856Z"
   },
   {
    "duration": 589,
    "start_time": "2021-10-15T08:42:10.345Z"
   },
   {
    "duration": 960,
    "start_time": "2021-10-15T08:42:48.743Z"
   },
   {
    "duration": 319,
    "start_time": "2021-10-15T08:43:13.660Z"
   },
   {
    "duration": 317,
    "start_time": "2021-10-15T08:43:23.849Z"
   },
   {
    "duration": 804,
    "start_time": "2021-10-15T08:45:37.422Z"
   },
   {
    "duration": 19,
    "start_time": "2021-10-15T08:46:49.621Z"
   },
   {
    "duration": 103,
    "start_time": "2021-10-15T08:49:47.034Z"
   },
   {
    "duration": 370,
    "start_time": "2021-10-15T08:50:03.159Z"
   },
   {
    "duration": 745,
    "start_time": "2021-10-15T08:50:50.193Z"
   },
   {
    "duration": 809,
    "start_time": "2021-10-15T08:52:17.463Z"
   },
   {
    "duration": 233,
    "start_time": "2021-10-15T08:55:38.739Z"
   },
   {
    "duration": 21,
    "start_time": "2021-10-15T08:56:12.935Z"
   },
   {
    "duration": 713,
    "start_time": "2021-10-15T08:56:44.079Z"
   },
   {
    "duration": 233,
    "start_time": "2021-10-15T08:56:53.822Z"
   },
   {
    "duration": 206,
    "start_time": "2021-10-15T08:57:03.212Z"
   },
   {
    "duration": 9,
    "start_time": "2021-10-15T08:57:28.954Z"
   },
   {
    "duration": 21,
    "start_time": "2021-10-15T08:57:30.783Z"
   },
   {
    "duration": 305,
    "start_time": "2021-10-15T08:57:34.363Z"
   },
   {
    "duration": 313,
    "start_time": "2021-10-15T08:58:07.943Z"
   },
   {
    "duration": 9,
    "start_time": "2021-10-15T08:58:18.684Z"
   },
   {
    "duration": 8,
    "start_time": "2021-10-15T08:58:20.324Z"
   },
   {
    "duration": 9,
    "start_time": "2021-10-15T08:58:21.876Z"
   },
   {
    "duration": 244,
    "start_time": "2021-10-15T08:58:24.077Z"
   },
   {
    "duration": 286,
    "start_time": "2021-10-15T09:00:49.430Z"
   },
   {
    "duration": 365,
    "start_time": "2021-10-15T09:02:07.136Z"
   },
   {
    "duration": 258,
    "start_time": "2021-10-15T09:02:13.054Z"
   },
   {
    "duration": 851,
    "start_time": "2021-10-15T09:33:07.177Z"
   },
   {
    "duration": 133,
    "start_time": "2021-10-15T09:33:08.030Z"
   },
   {
    "duration": 118,
    "start_time": "2021-10-15T09:33:08.166Z"
   },
   {
    "duration": 15,
    "start_time": "2021-10-15T09:33:08.286Z"
   },
   {
    "duration": 11,
    "start_time": "2021-10-15T09:33:08.304Z"
   },
   {
    "duration": 45,
    "start_time": "2021-10-15T09:33:08.317Z"
   },
   {
    "duration": 24,
    "start_time": "2021-10-15T09:33:08.364Z"
   },
   {
    "duration": 8,
    "start_time": "2021-10-15T09:33:08.391Z"
   },
   {
    "duration": 12,
    "start_time": "2021-10-15T09:33:08.402Z"
   },
   {
    "duration": 55,
    "start_time": "2021-10-15T09:33:08.416Z"
   },
   {
    "duration": 6,
    "start_time": "2021-10-15T09:33:08.473Z"
   },
   {
    "duration": 15,
    "start_time": "2021-10-15T09:33:08.481Z"
   },
   {
    "duration": 7,
    "start_time": "2021-10-15T09:33:08.498Z"
   },
   {
    "duration": 59,
    "start_time": "2021-10-15T09:33:08.507Z"
   },
   {
    "duration": 7,
    "start_time": "2021-10-15T09:33:08.568Z"
   },
   {
    "duration": 14,
    "start_time": "2021-10-15T09:33:08.577Z"
   },
   {
    "duration": 7,
    "start_time": "2021-10-15T09:33:08.593Z"
   },
   {
    "duration": 9,
    "start_time": "2021-10-15T09:33:08.602Z"
   },
   {
    "duration": 57,
    "start_time": "2021-10-15T09:33:08.613Z"
   },
   {
    "duration": 26,
    "start_time": "2021-10-15T09:33:08.672Z"
   },
   {
    "duration": 15,
    "start_time": "2021-10-15T09:33:08.701Z"
   },
   {
    "duration": 15,
    "start_time": "2021-10-15T09:33:08.719Z"
   },
   {
    "duration": 72,
    "start_time": "2021-10-15T09:33:08.740Z"
   },
   {
    "duration": 110,
    "start_time": "2021-10-15T09:33:08.816Z"
   },
   {
    "duration": 52,
    "start_time": "2021-10-15T09:33:08.928Z"
   },
   {
    "duration": 5,
    "start_time": "2021-10-15T09:33:08.982Z"
   },
   {
    "duration": 14,
    "start_time": "2021-10-15T09:33:08.989Z"
   },
   {
    "duration": 9,
    "start_time": "2021-10-15T09:33:09.005Z"
   },
   {
    "duration": 46,
    "start_time": "2021-10-15T09:33:09.016Z"
   },
   {
    "duration": 874,
    "start_time": "2021-10-15T09:33:09.064Z"
   },
   {
    "duration": 22,
    "start_time": "2021-10-15T09:33:09.941Z"
   },
   {
    "duration": 10,
    "start_time": "2021-10-15T09:33:09.966Z"
   },
   {
    "duration": 371,
    "start_time": "2021-10-15T09:33:09.978Z"
   },
   {
    "duration": 596,
    "start_time": "2021-10-15T09:33:10.352Z"
   },
   {
    "duration": 1098,
    "start_time": "2021-10-15T09:33:10.951Z"
   },
   {
    "duration": 520,
    "start_time": "2021-10-15T09:33:12.051Z"
   },
   {
    "duration": 780,
    "start_time": "2021-10-15T09:33:12.573Z"
   },
   {
    "duration": 22,
    "start_time": "2021-10-15T09:33:13.362Z"
   },
   {
    "duration": 778,
    "start_time": "2021-10-15T09:33:13.387Z"
   },
   {
    "duration": 325,
    "start_time": "2021-10-15T09:33:14.168Z"
   },
   {
    "duration": 23,
    "start_time": "2021-10-15T09:33:14.496Z"
   },
   {
    "duration": 234,
    "start_time": "2021-10-15T09:33:14.522Z"
   },
   {
    "duration": 10,
    "start_time": "2021-10-15T09:33:14.763Z"
   },
   {
    "duration": 17,
    "start_time": "2021-10-15T09:33:14.775Z"
   },
   {
    "duration": 347,
    "start_time": "2021-10-15T09:33:14.794Z"
   },
   {
    "duration": 7,
    "start_time": "2021-10-15T09:33:15.143Z"
   },
   {
    "duration": 6,
    "start_time": "2021-10-15T09:33:15.163Z"
   },
   {
    "duration": 8,
    "start_time": "2021-10-15T09:33:15.172Z"
   },
   {
    "duration": 285,
    "start_time": "2021-10-15T09:33:15.182Z"
   },
   {
    "duration": 291,
    "start_time": "2021-10-15T09:33:15.470Z"
   },
   {
    "duration": 315,
    "start_time": "2021-10-15T09:33:15.764Z"
   },
   {
    "duration": 292,
    "start_time": "2021-10-15T09:33:16.081Z"
   },
   {
    "duration": 15,
    "start_time": "2021-10-15T09:33:16.375Z"
   },
   {
    "duration": 49,
    "start_time": "2021-10-15T09:33:16.392Z"
   },
   {
    "duration": 21,
    "start_time": "2021-10-15T09:33:16.463Z"
   },
   {
    "duration": 26,
    "start_time": "2021-10-15T09:33:16.487Z"
   },
   {
    "duration": 522,
    "start_time": "2021-10-15T09:33:16.515Z"
   },
   {
    "duration": 663,
    "start_time": "2021-10-15T09:33:17.040Z"
   },
   {
    "duration": 805,
    "start_time": "2021-10-15T09:33:17.705Z"
   },
   {
    "duration": 572,
    "start_time": "2021-10-15T09:33:18.513Z"
   },
   {
    "duration": 603,
    "start_time": "2021-10-15T09:33:19.087Z"
   },
   {
    "duration": 7,
    "start_time": "2021-10-15T09:33:19.693Z"
   },
   {
    "duration": 7,
    "start_time": "2021-10-15T09:33:19.702Z"
   },
   {
    "duration": 512,
    "start_time": "2021-10-15T09:33:19.712Z"
   },
   {
    "duration": 758,
    "start_time": "2021-10-15T09:33:20.227Z"
   },
   {
    "duration": 676,
    "start_time": "2021-10-15T09:33:20.987Z"
   },
   {
    "duration": 639,
    "start_time": "2021-10-15T09:33:21.666Z"
   },
   {
    "duration": 577,
    "start_time": "2021-10-15T09:33:22.312Z"
   },
   {
    "duration": 8222,
    "start_time": "2021-10-15T09:34:47.840Z"
   },
   {
    "duration": 7745,
    "start_time": "2021-10-15T09:34:56.316Z"
   },
   {
    "duration": 586,
    "start_time": "2021-10-15T09:35:24.327Z"
   },
   {
    "duration": 328,
    "start_time": "2021-10-15T09:36:02.491Z"
   },
   {
    "duration": 301,
    "start_time": "2021-10-15T09:37:11.136Z"
   },
   {
    "duration": 408,
    "start_time": "2021-10-15T09:37:14.741Z"
   },
   {
    "duration": 291,
    "start_time": "2021-10-15T09:38:03.780Z"
   },
   {
    "duration": 901,
    "start_time": "2021-10-15T09:38:52.847Z"
   },
   {
    "duration": 280,
    "start_time": "2021-10-15T09:39:10.790Z"
   },
   {
    "duration": 769,
    "start_time": "2021-10-15T09:39:41.881Z"
   },
   {
    "duration": 7584,
    "start_time": "2021-10-15T09:40:03.431Z"
   },
   {
    "duration": 261,
    "start_time": "2021-10-15T09:40:38.576Z"
   },
   {
    "duration": 219,
    "start_time": "2021-10-15T09:40:55.654Z"
   },
   {
    "duration": 249,
    "start_time": "2021-10-15T09:41:06.615Z"
   },
   {
    "duration": 509,
    "start_time": "2021-10-15T09:42:40.870Z"
   },
   {
    "duration": 509,
    "start_time": "2021-10-15T09:44:31.961Z"
   },
   {
    "duration": 613,
    "start_time": "2021-10-15T09:46:08.009Z"
   },
   {
    "duration": 107,
    "start_time": "2021-10-15T09:46:23.261Z"
   },
   {
    "duration": 590,
    "start_time": "2021-10-15T09:46:28.587Z"
   },
   {
    "duration": 9187,
    "start_time": "2021-10-15T09:47:03.208Z"
   },
   {
    "duration": 615,
    "start_time": "2021-10-15T09:47:31.338Z"
   },
   {
    "duration": 562,
    "start_time": "2021-10-15T09:48:30.000Z"
   },
   {
    "duration": 518,
    "start_time": "2021-10-15T09:49:01.414Z"
   },
   {
    "duration": 599,
    "start_time": "2021-10-15T09:49:38.637Z"
   },
   {
    "duration": 600,
    "start_time": "2021-10-15T09:49:44.319Z"
   },
   {
    "duration": 639,
    "start_time": "2021-10-15T09:51:01.455Z"
   },
   {
    "duration": 585,
    "start_time": "2021-10-15T09:51:53.764Z"
   },
   {
    "duration": 630,
    "start_time": "2021-10-15T09:52:19.653Z"
   },
   {
    "duration": 14,
    "start_time": "2021-10-15T09:52:59.614Z"
   },
   {
    "duration": 42,
    "start_time": "2021-10-15T09:53:11.014Z"
   },
   {
    "duration": 22,
    "start_time": "2021-10-15T09:53:19.982Z"
   },
   {
    "duration": 324,
    "start_time": "2021-10-15T09:56:24.807Z"
   },
   {
    "duration": 381,
    "start_time": "2021-10-15T10:00:36.527Z"
   },
   {
    "duration": 5,
    "start_time": "2021-10-15T10:00:45.525Z"
   },
   {
    "duration": 11,
    "start_time": "2021-10-15T10:01:00.670Z"
   },
   {
    "duration": 22,
    "start_time": "2021-10-15T10:01:55.100Z"
   },
   {
    "duration": 497,
    "start_time": "2021-10-15T10:04:26.621Z"
   },
   {
    "duration": 560,
    "start_time": "2021-10-15T10:04:42.575Z"
   },
   {
    "duration": 863,
    "start_time": "2021-10-15T13:12:56.701Z"
   },
   {
    "duration": 124,
    "start_time": "2021-10-15T13:12:57.567Z"
   },
   {
    "duration": 122,
    "start_time": "2021-10-15T13:12:57.694Z"
   },
   {
    "duration": 17,
    "start_time": "2021-10-15T13:12:57.818Z"
   },
   {
    "duration": 28,
    "start_time": "2021-10-15T13:12:57.837Z"
   },
   {
    "duration": 11,
    "start_time": "2021-10-15T13:12:57.868Z"
   },
   {
    "duration": 24,
    "start_time": "2021-10-15T13:12:57.881Z"
   },
   {
    "duration": 7,
    "start_time": "2021-10-15T13:12:57.909Z"
   },
   {
    "duration": 56,
    "start_time": "2021-10-15T13:12:57.919Z"
   },
   {
    "duration": 14,
    "start_time": "2021-10-15T13:12:57.979Z"
   },
   {
    "duration": 7,
    "start_time": "2021-10-15T13:12:57.995Z"
   },
   {
    "duration": 18,
    "start_time": "2021-10-15T13:12:58.005Z"
   },
   {
    "duration": 40,
    "start_time": "2021-10-15T13:12:58.026Z"
   },
   {
    "duration": 22,
    "start_time": "2021-10-15T13:12:58.068Z"
   },
   {
    "duration": 6,
    "start_time": "2021-10-15T13:12:58.092Z"
   },
   {
    "duration": 13,
    "start_time": "2021-10-15T13:12:58.100Z"
   },
   {
    "duration": 46,
    "start_time": "2021-10-15T13:12:58.116Z"
   },
   {
    "duration": 9,
    "start_time": "2021-10-15T13:12:58.165Z"
   },
   {
    "duration": 19,
    "start_time": "2021-10-15T13:12:58.177Z"
   },
   {
    "duration": 28,
    "start_time": "2021-10-15T13:12:58.198Z"
   },
   {
    "duration": 41,
    "start_time": "2021-10-15T13:12:58.228Z"
   },
   {
    "duration": 11,
    "start_time": "2021-10-15T13:12:58.272Z"
   },
   {
    "duration": 78,
    "start_time": "2021-10-15T13:12:58.289Z"
   },
   {
    "duration": 106,
    "start_time": "2021-10-15T13:12:58.371Z"
   },
   {
    "duration": 41,
    "start_time": "2021-10-15T13:12:58.480Z"
   },
   {
    "duration": 6,
    "start_time": "2021-10-15T13:12:58.524Z"
   },
   {
    "duration": 31,
    "start_time": "2021-10-15T13:12:58.532Z"
   },
   {
    "duration": 8,
    "start_time": "2021-10-15T13:12:58.566Z"
   },
   {
    "duration": 20,
    "start_time": "2021-10-15T13:12:58.577Z"
   },
   {
    "duration": 830,
    "start_time": "2021-10-15T13:12:58.599Z"
   },
   {
    "duration": 11,
    "start_time": "2021-10-15T13:12:59.431Z"
   },
   {
    "duration": 10,
    "start_time": "2021-10-15T13:12:59.463Z"
   },
   {
    "duration": 360,
    "start_time": "2021-10-15T13:12:59.476Z"
   },
   {
    "duration": 603,
    "start_time": "2021-10-15T13:12:59.839Z"
   },
   {
    "duration": 938,
    "start_time": "2021-10-15T13:13:00.445Z"
   },
   {
    "duration": 340,
    "start_time": "2021-10-15T13:13:01.385Z"
   },
   {
    "duration": 630,
    "start_time": "2021-10-15T13:13:01.727Z"
   },
   {
    "duration": 22,
    "start_time": "2021-10-15T13:13:02.361Z"
   },
   {
    "duration": 779,
    "start_time": "2021-10-15T13:13:02.386Z"
   },
   {
    "duration": 323,
    "start_time": "2021-10-15T13:13:03.167Z"
   },
   {
    "duration": 21,
    "start_time": "2021-10-15T13:13:03.492Z"
   },
   {
    "duration": 233,
    "start_time": "2021-10-15T13:13:03.516Z"
   },
   {
    "duration": 12,
    "start_time": "2021-10-15T13:13:03.751Z"
   },
   {
    "duration": 18,
    "start_time": "2021-10-15T13:13:03.766Z"
   },
   {
    "duration": 335,
    "start_time": "2021-10-15T13:13:03.787Z"
   },
   {
    "duration": 7,
    "start_time": "2021-10-15T13:13:04.124Z"
   },
   {
    "duration": 29,
    "start_time": "2021-10-15T13:13:04.134Z"
   },
   {
    "duration": 8,
    "start_time": "2021-10-15T13:13:04.165Z"
   },
   {
    "duration": 531,
    "start_time": "2021-10-15T13:13:04.175Z"
   },
   {
    "duration": 564,
    "start_time": "2021-10-15T13:13:04.709Z"
   },
   {
    "duration": 644,
    "start_time": "2021-10-15T13:13:05.276Z"
   },
   {
    "duration": 590,
    "start_time": "2021-10-15T13:13:05.923Z"
   },
   {
    "duration": 14,
    "start_time": "2021-10-15T13:13:06.515Z"
   },
   {
    "duration": 67,
    "start_time": "2021-10-15T13:13:06.532Z"
   },
   {
    "duration": 111,
    "start_time": "2021-10-15T13:13:06.602Z"
   },
   {
    "duration": 13,
    "start_time": "2021-10-15T13:13:06.716Z"
   },
   {
    "duration": 46,
    "start_time": "2021-10-15T13:13:06.732Z"
   },
   {
    "duration": 562,
    "start_time": "2021-10-15T13:13:06.780Z"
   },
   {
    "duration": 676,
    "start_time": "2021-10-15T13:13:07.345Z"
   },
   {
    "duration": 741,
    "start_time": "2021-10-15T13:13:08.023Z"
   },
   {
    "duration": 598,
    "start_time": "2021-10-15T13:13:08.767Z"
   },
   {
    "duration": 682,
    "start_time": "2021-10-15T13:13:09.367Z"
   },
   {
    "duration": 13,
    "start_time": "2021-10-15T13:13:10.052Z"
   },
   {
    "duration": 8,
    "start_time": "2021-10-15T13:13:10.067Z"
   },
   {
    "duration": 586,
    "start_time": "2021-10-15T13:13:10.079Z"
   },
   {
    "duration": 769,
    "start_time": "2021-10-15T13:13:10.667Z"
   },
   {
    "duration": 584,
    "start_time": "2021-10-15T13:13:11.439Z"
   },
   {
    "duration": 655,
    "start_time": "2021-10-15T13:13:12.030Z"
   },
   {
    "duration": 611,
    "start_time": "2021-10-15T13:13:12.687Z"
   },
   {
    "duration": 19,
    "start_time": "2021-10-15T13:13:50.791Z"
   },
   {
    "duration": 658,
    "start_time": "2021-10-15T13:15:58.719Z"
   },
   {
    "duration": 1009,
    "start_time": "2021-10-15T13:16:24.294Z"
   },
   {
    "duration": 643,
    "start_time": "2021-10-15T13:18:08.748Z"
   },
   {
    "duration": 614,
    "start_time": "2021-10-15T13:20:12.723Z"
   },
   {
    "duration": 606,
    "start_time": "2021-10-15T13:20:40.250Z"
   },
   {
    "duration": 639,
    "start_time": "2021-10-15T13:20:54.553Z"
   },
   {
    "duration": 656,
    "start_time": "2021-10-15T13:21:24.200Z"
   },
   {
    "duration": 638,
    "start_time": "2021-10-15T13:22:05.125Z"
   },
   {
    "duration": 822,
    "start_time": "2021-10-15T13:22:50.940Z"
   },
   {
    "duration": 611,
    "start_time": "2021-10-15T13:23:18.106Z"
   },
   {
    "duration": 19,
    "start_time": "2021-10-15T13:23:46.475Z"
   },
   {
    "duration": 615,
    "start_time": "2021-10-15T13:24:37.682Z"
   },
   {
    "duration": 10,
    "start_time": "2021-10-15T13:24:43.262Z"
   },
   {
    "duration": 477,
    "start_time": "2021-10-15T13:27:55.435Z"
   },
   {
    "duration": 13,
    "start_time": "2021-10-15T13:28:18.110Z"
   },
   {
    "duration": 650,
    "start_time": "2021-10-15T13:31:37.567Z"
   },
   {
    "duration": 787,
    "start_time": "2021-10-15T13:33:39.621Z"
   },
   {
    "duration": 1331,
    "start_time": "2021-10-15T13:36:29.090Z"
   },
   {
    "duration": 1593,
    "start_time": "2021-10-15T13:36:57.189Z"
   },
   {
    "duration": 1843,
    "start_time": "2021-10-15T13:37:14.232Z"
   },
   {
    "duration": 1385,
    "start_time": "2021-10-15T13:37:40.151Z"
   },
   {
    "duration": 638,
    "start_time": "2021-10-15T13:38:09.378Z"
   },
   {
    "duration": 653,
    "start_time": "2021-10-15T13:39:42.358Z"
   },
   {
    "duration": 299,
    "start_time": "2021-10-15T13:43:33.183Z"
   },
   {
    "duration": 283,
    "start_time": "2021-10-15T13:43:48.967Z"
   },
   {
    "duration": 402,
    "start_time": "2021-10-15T13:44:10.517Z"
   },
   {
    "duration": 929,
    "start_time": "2021-10-15T13:44:23.191Z"
   },
   {
    "duration": 128,
    "start_time": "2021-10-15T13:44:24.123Z"
   },
   {
    "duration": 117,
    "start_time": "2021-10-15T13:44:24.254Z"
   },
   {
    "duration": 20,
    "start_time": "2021-10-15T13:44:24.374Z"
   },
   {
    "duration": 15,
    "start_time": "2021-10-15T13:44:24.396Z"
   },
   {
    "duration": 54,
    "start_time": "2021-10-15T13:44:24.414Z"
   },
   {
    "duration": 33,
    "start_time": "2021-10-15T13:44:24.471Z"
   },
   {
    "duration": 8,
    "start_time": "2021-10-15T13:44:24.508Z"
   },
   {
    "duration": 12,
    "start_time": "2021-10-15T13:44:24.519Z"
   },
   {
    "duration": 37,
    "start_time": "2021-10-15T13:44:24.533Z"
   },
   {
    "duration": 7,
    "start_time": "2021-10-15T13:44:24.573Z"
   },
   {
    "duration": 17,
    "start_time": "2021-10-15T13:44:24.583Z"
   },
   {
    "duration": 7,
    "start_time": "2021-10-15T13:44:24.603Z"
   },
   {
    "duration": 67,
    "start_time": "2021-10-15T13:44:24.613Z"
   },
   {
    "duration": 7,
    "start_time": "2021-10-15T13:44:24.683Z"
   },
   {
    "duration": 15,
    "start_time": "2021-10-15T13:44:24.693Z"
   },
   {
    "duration": 7,
    "start_time": "2021-10-15T13:44:24.711Z"
   },
   {
    "duration": 47,
    "start_time": "2021-10-15T13:44:24.721Z"
   },
   {
    "duration": 25,
    "start_time": "2021-10-15T13:44:24.770Z"
   },
   {
    "duration": 44,
    "start_time": "2021-10-15T13:44:24.798Z"
   },
   {
    "duration": 23,
    "start_time": "2021-10-15T13:44:24.844Z"
   },
   {
    "duration": 12,
    "start_time": "2021-10-15T13:44:24.873Z"
   },
   {
    "duration": 85,
    "start_time": "2021-10-15T13:44:24.892Z"
   },
   {
    "duration": 118,
    "start_time": "2021-10-15T13:44:24.981Z"
   },
   {
    "duration": 44,
    "start_time": "2021-10-15T13:44:25.102Z"
   },
   {
    "duration": 21,
    "start_time": "2021-10-15T13:44:25.148Z"
   },
   {
    "duration": 13,
    "start_time": "2021-10-15T13:44:25.171Z"
   },
   {
    "duration": 10,
    "start_time": "2021-10-15T13:44:25.187Z"
   },
   {
    "duration": 20,
    "start_time": "2021-10-15T13:44:25.199Z"
   },
   {
    "duration": 872,
    "start_time": "2021-10-15T13:44:25.221Z"
   },
   {
    "duration": 8,
    "start_time": "2021-10-15T13:44:26.095Z"
   },
   {
    "duration": 9,
    "start_time": "2021-10-15T13:44:26.106Z"
   },
   {
    "duration": 477,
    "start_time": "2021-10-15T13:44:26.117Z"
   },
   {
    "duration": 606,
    "start_time": "2021-10-15T13:44:26.597Z"
   },
   {
    "duration": 920,
    "start_time": "2021-10-15T13:44:27.205Z"
   },
   {
    "duration": 371,
    "start_time": "2021-10-15T13:44:28.127Z"
   },
   {
    "duration": 710,
    "start_time": "2021-10-15T13:44:28.501Z"
   },
   {
    "duration": 26,
    "start_time": "2021-10-15T13:44:29.213Z"
   },
   {
    "duration": 792,
    "start_time": "2021-10-15T13:44:29.242Z"
   },
   {
    "duration": 363,
    "start_time": "2021-10-15T13:44:30.037Z"
   },
   {
    "duration": 22,
    "start_time": "2021-10-15T13:44:30.403Z"
   },
   {
    "duration": 234,
    "start_time": "2021-10-15T13:44:30.428Z"
   },
   {
    "duration": 17,
    "start_time": "2021-10-15T13:44:30.665Z"
   },
   {
    "duration": 30,
    "start_time": "2021-10-15T13:44:30.685Z"
   },
   {
    "duration": 347,
    "start_time": "2021-10-15T13:44:30.717Z"
   },
   {
    "duration": 8,
    "start_time": "2021-10-15T13:44:31.067Z"
   },
   {
    "duration": 14,
    "start_time": "2021-10-15T13:44:31.078Z"
   },
   {
    "duration": 8,
    "start_time": "2021-10-15T13:44:31.094Z"
   },
   {
    "duration": 643,
    "start_time": "2021-10-15T13:44:31.105Z"
   },
   {
    "duration": 603,
    "start_time": "2021-10-15T13:44:31.751Z"
   },
   {
    "duration": 774,
    "start_time": "2021-10-15T13:44:32.361Z"
   },
   {
    "duration": 681,
    "start_time": "2021-10-15T13:44:33.139Z"
   },
   {
    "duration": 23,
    "start_time": "2021-10-15T13:44:33.823Z"
   },
   {
    "duration": 66,
    "start_time": "2021-10-15T13:44:33.869Z"
   },
   {
    "duration": 111,
    "start_time": "2021-10-15T13:44:33.937Z"
   },
   {
    "duration": 17,
    "start_time": "2021-10-15T13:44:34.050Z"
   },
   {
    "duration": 29,
    "start_time": "2021-10-15T13:44:34.070Z"
   },
   {
    "duration": 534,
    "start_time": "2021-10-15T13:44:34.102Z"
   },
   {
    "duration": 9,
    "start_time": "2021-10-15T13:44:34.639Z"
   },
   {
    "duration": 675,
    "start_time": "2021-10-15T13:44:34.650Z"
   },
   {
    "duration": 789,
    "start_time": "2021-10-15T13:44:35.327Z"
   },
   {
    "duration": 638,
    "start_time": "2021-10-15T13:44:36.118Z"
   },
   {
    "duration": 669,
    "start_time": "2021-10-15T13:44:36.762Z"
   },
   {
    "duration": 6,
    "start_time": "2021-10-15T13:44:37.433Z"
   },
   {
    "duration": 26,
    "start_time": "2021-10-15T13:44:37.442Z"
   },
   {
    "duration": 383,
    "start_time": "2021-10-15T13:44:37.472Z"
   },
   {
    "duration": 1262,
    "start_time": "2021-10-15T13:44:36.596Z"
   },
   {
    "duration": 1251,
    "start_time": "2021-10-15T13:44:36.609Z"
   },
   {
    "duration": 1233,
    "start_time": "2021-10-15T13:44:36.629Z"
   },
   {
    "duration": 1230,
    "start_time": "2021-10-15T13:44:36.634Z"
   },
   {
    "duration": 712,
    "start_time": "2021-10-15T13:45:29.236Z"
   },
   {
    "duration": 266,
    "start_time": "2021-10-15T13:45:44.452Z"
   },
   {
    "duration": 795,
    "start_time": "2021-10-15T13:46:35.043Z"
   },
   {
    "duration": 511,
    "start_time": "2021-10-15T13:46:50.112Z"
   },
   {
    "duration": 796,
    "start_time": "2021-10-15T13:48:41.023Z"
   },
   {
    "duration": 791,
    "start_time": "2021-10-15T13:49:43.928Z"
   },
   {
    "duration": 765,
    "start_time": "2021-10-15T13:50:53.859Z"
   },
   {
    "duration": 672,
    "start_time": "2021-10-15T13:51:27.007Z"
   },
   {
    "duration": 903,
    "start_time": "2021-10-15T13:51:41.999Z"
   },
   {
    "duration": 130,
    "start_time": "2021-10-15T13:51:42.904Z"
   },
   {
    "duration": 112,
    "start_time": "2021-10-15T13:51:43.038Z"
   },
   {
    "duration": 27,
    "start_time": "2021-10-15T13:51:43.153Z"
   },
   {
    "duration": 14,
    "start_time": "2021-10-15T13:51:43.183Z"
   },
   {
    "duration": 9,
    "start_time": "2021-10-15T13:51:43.199Z"
   },
   {
    "duration": 68,
    "start_time": "2021-10-15T13:51:43.210Z"
   },
   {
    "duration": 8,
    "start_time": "2021-10-15T13:51:43.282Z"
   },
   {
    "duration": 11,
    "start_time": "2021-10-15T13:51:43.294Z"
   },
   {
    "duration": 14,
    "start_time": "2021-10-15T13:51:43.307Z"
   },
   {
    "duration": 38,
    "start_time": "2021-10-15T13:51:43.324Z"
   },
   {
    "duration": 27,
    "start_time": "2021-10-15T13:51:43.372Z"
   },
   {
    "duration": 7,
    "start_time": "2021-10-15T13:51:43.402Z"
   },
   {
    "duration": 26,
    "start_time": "2021-10-15T13:51:43.412Z"
   },
   {
    "duration": 31,
    "start_time": "2021-10-15T13:51:43.440Z"
   },
   {
    "duration": 17,
    "start_time": "2021-10-15T13:51:43.474Z"
   },
   {
    "duration": 7,
    "start_time": "2021-10-15T13:51:43.494Z"
   },
   {
    "duration": 15,
    "start_time": "2021-10-15T13:51:43.503Z"
   },
   {
    "duration": 41,
    "start_time": "2021-10-15T13:51:43.521Z"
   },
   {
    "duration": 30,
    "start_time": "2021-10-15T13:51:43.565Z"
   },
   {
    "duration": 15,
    "start_time": "2021-10-15T13:51:43.597Z"
   },
   {
    "duration": 13,
    "start_time": "2021-10-15T13:51:43.614Z"
   },
   {
    "duration": 78,
    "start_time": "2021-10-15T13:51:43.635Z"
   },
   {
    "duration": 118,
    "start_time": "2021-10-15T13:51:43.717Z"
   },
   {
    "duration": 56,
    "start_time": "2021-10-15T13:51:43.837Z"
   },
   {
    "duration": 5,
    "start_time": "2021-10-15T13:51:43.895Z"
   },
   {
    "duration": 12,
    "start_time": "2021-10-15T13:51:43.903Z"
   },
   {
    "duration": 14,
    "start_time": "2021-10-15T13:51:43.918Z"
   },
   {
    "duration": 47,
    "start_time": "2021-10-15T13:51:43.934Z"
   },
   {
    "duration": 894,
    "start_time": "2021-10-15T13:51:43.986Z"
   },
   {
    "duration": 9,
    "start_time": "2021-10-15T13:51:44.882Z"
   },
   {
    "duration": 10,
    "start_time": "2021-10-15T13:51:44.894Z"
   },
   {
    "duration": 406,
    "start_time": "2021-10-15T13:51:44.907Z"
   },
   {
    "duration": 613,
    "start_time": "2021-10-15T13:51:45.316Z"
   },
   {
    "duration": 1059,
    "start_time": "2021-10-15T13:51:45.932Z"
   },
   {
    "duration": 347,
    "start_time": "2021-10-15T13:51:46.993Z"
   },
   {
    "duration": 642,
    "start_time": "2021-10-15T13:51:47.342Z"
   },
   {
    "duration": 27,
    "start_time": "2021-10-15T13:51:47.987Z"
   },
   {
    "duration": 795,
    "start_time": "2021-10-15T13:51:48.016Z"
   },
   {
    "duration": 323,
    "start_time": "2021-10-15T13:51:48.814Z"
   },
   {
    "duration": 37,
    "start_time": "2021-10-15T13:51:49.140Z"
   },
   {
    "duration": 222,
    "start_time": "2021-10-15T13:51:49.181Z"
   },
   {
    "duration": 9,
    "start_time": "2021-10-15T13:51:49.405Z"
   },
   {
    "duration": 23,
    "start_time": "2021-10-15T13:51:49.416Z"
   },
   {
    "duration": 327,
    "start_time": "2021-10-15T13:51:49.462Z"
   },
   {
    "duration": 6,
    "start_time": "2021-10-15T13:51:49.791Z"
   },
   {
    "duration": 14,
    "start_time": "2021-10-15T13:51:49.799Z"
   },
   {
    "duration": 7,
    "start_time": "2021-10-15T13:51:49.815Z"
   },
   {
    "duration": 564,
    "start_time": "2021-10-15T13:51:49.824Z"
   },
   {
    "duration": 594,
    "start_time": "2021-10-15T13:51:50.390Z"
   },
   {
    "duration": 644,
    "start_time": "2021-10-15T13:51:50.987Z"
   },
   {
    "duration": 625,
    "start_time": "2021-10-15T13:51:51.633Z"
   },
   {
    "duration": 18,
    "start_time": "2021-10-15T13:51:52.266Z"
   },
   {
    "duration": 43,
    "start_time": "2021-10-15T13:51:52.286Z"
   },
   {
    "duration": 114,
    "start_time": "2021-10-15T13:51:52.331Z"
   },
   {
    "duration": 27,
    "start_time": "2021-10-15T13:51:52.447Z"
   },
   {
    "duration": 27,
    "start_time": "2021-10-15T13:51:52.476Z"
   },
   {
    "duration": 645,
    "start_time": "2021-10-15T13:51:52.505Z"
   },
   {
    "duration": 16,
    "start_time": "2021-10-15T13:51:53.152Z"
   },
   {
    "duration": 662,
    "start_time": "2021-10-15T13:51:53.171Z"
   },
   {
    "duration": 792,
    "start_time": "2021-10-15T13:51:53.835Z"
   },
   {
    "duration": 657,
    "start_time": "2021-10-15T13:51:54.630Z"
   },
   {
    "duration": 731,
    "start_time": "2021-10-15T13:51:55.289Z"
   },
   {
    "duration": 7,
    "start_time": "2021-10-15T13:51:56.023Z"
   },
   {
    "duration": 39,
    "start_time": "2021-10-15T13:51:56.033Z"
   },
   {
    "duration": 627,
    "start_time": "2021-10-15T13:51:56.074Z"
   },
   {
    "duration": 820,
    "start_time": "2021-10-15T13:51:56.704Z"
   },
   {
    "duration": 608,
    "start_time": "2021-10-15T13:51:57.531Z"
   },
   {
    "duration": 761,
    "start_time": "2021-10-15T13:51:58.143Z"
   },
   {
    "duration": 620,
    "start_time": "2021-10-15T13:51:58.906Z"
   },
   {
    "duration": 8,
    "start_time": "2021-10-15T13:55:37.140Z"
   },
   {
    "duration": 977,
    "start_time": "2021-10-15T13:58:51.174Z"
   },
   {
    "duration": 915,
    "start_time": "2021-10-15T14:04:14.459Z"
   },
   {
    "duration": 906,
    "start_time": "2021-10-15T14:09:24.738Z"
   },
   {
    "duration": 971,
    "start_time": "2021-10-15T14:09:37.707Z"
   },
   {
    "duration": 900,
    "start_time": "2021-10-15T14:11:44.912Z"
   },
   {
    "duration": 781,
    "start_time": "2021-10-15T14:12:02.176Z"
   },
   {
    "duration": 1174,
    "start_time": "2021-10-15T14:12:44.596Z"
   },
   {
    "duration": 1013,
    "start_time": "2021-10-15T14:20:19.029Z"
   },
   {
    "duration": 166,
    "start_time": "2021-10-15T14:20:54.981Z"
   },
   {
    "duration": 915,
    "start_time": "2021-10-15T14:21:11.770Z"
   },
   {
    "duration": 900,
    "start_time": "2021-10-15T14:21:48.589Z"
   },
   {
    "duration": 8,
    "start_time": "2021-10-15T14:34:50.523Z"
   },
   {
    "duration": 909,
    "start_time": "2021-10-15T14:35:26.756Z"
   },
   {
    "duration": 121,
    "start_time": "2021-10-15T14:35:27.668Z"
   },
   {
    "duration": 112,
    "start_time": "2021-10-15T14:35:27.792Z"
   },
   {
    "duration": 15,
    "start_time": "2021-10-15T14:35:27.907Z"
   },
   {
    "duration": 11,
    "start_time": "2021-10-15T14:35:27.925Z"
   },
   {
    "duration": 30,
    "start_time": "2021-10-15T14:35:27.939Z"
   },
   {
    "duration": 22,
    "start_time": "2021-10-15T14:35:27.972Z"
   },
   {
    "duration": 8,
    "start_time": "2021-10-15T14:35:27.998Z"
   },
   {
    "duration": 56,
    "start_time": "2021-10-15T14:35:28.010Z"
   },
   {
    "duration": 15,
    "start_time": "2021-10-15T14:35:28.069Z"
   },
   {
    "duration": 8,
    "start_time": "2021-10-15T14:35:28.087Z"
   },
   {
    "duration": 15,
    "start_time": "2021-10-15T14:35:28.098Z"
   },
   {
    "duration": 48,
    "start_time": "2021-10-15T14:35:28.115Z"
   },
   {
    "duration": 23,
    "start_time": "2021-10-15T14:35:28.166Z"
   },
   {
    "duration": 8,
    "start_time": "2021-10-15T14:35:28.192Z"
   },
   {
    "duration": 16,
    "start_time": "2021-10-15T14:35:28.203Z"
   },
   {
    "duration": 10,
    "start_time": "2021-10-15T14:35:28.262Z"
   },
   {
    "duration": 12,
    "start_time": "2021-10-15T14:35:28.275Z"
   },
   {
    "duration": 25,
    "start_time": "2021-10-15T14:35:28.290Z"
   },
   {
    "duration": 53,
    "start_time": "2021-10-15T14:35:28.318Z"
   },
   {
    "duration": 12,
    "start_time": "2021-10-15T14:35:28.374Z"
   },
   {
    "duration": 58,
    "start_time": "2021-10-15T14:35:28.388Z"
   },
   {
    "duration": 103,
    "start_time": "2021-10-15T14:35:28.461Z"
   },
   {
    "duration": 40,
    "start_time": "2021-10-15T14:35:28.568Z"
   },
   {
    "duration": 9,
    "start_time": "2021-10-15T14:35:28.611Z"
   },
   {
    "duration": 6,
    "start_time": "2021-10-15T14:35:28.623Z"
   },
   {
    "duration": 9,
    "start_time": "2021-10-15T14:35:28.663Z"
   },
   {
    "duration": 9,
    "start_time": "2021-10-15T14:35:28.675Z"
   },
   {
    "duration": 20,
    "start_time": "2021-10-15T14:35:28.686Z"
   },
   {
    "duration": 875,
    "start_time": "2021-10-15T14:35:28.708Z"
   },
   {
    "duration": 8,
    "start_time": "2021-10-15T14:35:29.586Z"
   },
   {
    "duration": 12,
    "start_time": "2021-10-15T14:35:29.596Z"
   },
   {
    "duration": 473,
    "start_time": "2021-10-15T14:35:29.610Z"
   },
   {
    "duration": 741,
    "start_time": "2021-10-15T14:35:30.085Z"
   },
   {
    "duration": 1517,
    "start_time": "2021-10-15T14:35:30.829Z"
   },
   {
    "duration": 1421,
    "start_time": "2021-10-15T14:35:30.928Z"
   },
   {
    "duration": 1393,
    "start_time": "2021-10-15T14:35:30.957Z"
   },
   {
    "duration": 1383,
    "start_time": "2021-10-15T14:35:30.968Z"
   },
   {
    "duration": 1375,
    "start_time": "2021-10-15T14:35:30.978Z"
   },
   {
    "duration": 1366,
    "start_time": "2021-10-15T14:35:30.988Z"
   },
   {
    "duration": 1357,
    "start_time": "2021-10-15T14:35:30.998Z"
   },
   {
    "duration": 1350,
    "start_time": "2021-10-15T14:35:31.007Z"
   },
   {
    "duration": 1341,
    "start_time": "2021-10-15T14:35:31.018Z"
   },
   {
    "duration": 1328,
    "start_time": "2021-10-15T14:35:31.032Z"
   },
   {
    "duration": 1318,
    "start_time": "2021-10-15T14:35:31.043Z"
   },
   {
    "duration": 1293,
    "start_time": "2021-10-15T14:35:31.070Z"
   },
   {
    "duration": 1187,
    "start_time": "2021-10-15T14:35:31.177Z"
   },
   {
    "duration": 1180,
    "start_time": "2021-10-15T14:35:31.185Z"
   },
   {
    "duration": 1155,
    "start_time": "2021-10-15T14:35:31.211Z"
   },
   {
    "duration": 1148,
    "start_time": "2021-10-15T14:35:31.220Z"
   },
   {
    "duration": 1132,
    "start_time": "2021-10-15T14:35:31.237Z"
   },
   {
    "duration": 1127,
    "start_time": "2021-10-15T14:35:31.243Z"
   },
   {
    "duration": 1122,
    "start_time": "2021-10-15T14:35:31.249Z"
   },
   {
    "duration": 1118,
    "start_time": "2021-10-15T14:35:31.254Z"
   },
   {
    "duration": 1115,
    "start_time": "2021-10-15T14:35:31.259Z"
   },
   {
    "duration": 1111,
    "start_time": "2021-10-15T14:35:31.264Z"
   },
   {
    "duration": 1106,
    "start_time": "2021-10-15T14:35:31.270Z"
   },
   {
    "duration": 1083,
    "start_time": "2021-10-15T14:35:31.294Z"
   },
   {
    "duration": 1072,
    "start_time": "2021-10-15T14:35:31.307Z"
   },
   {
    "duration": 1063,
    "start_time": "2021-10-15T14:35:31.317Z"
   },
   {
    "duration": 1052,
    "start_time": "2021-10-15T14:35:31.329Z"
   },
   {
    "duration": 1043,
    "start_time": "2021-10-15T14:35:31.339Z"
   },
   {
    "duration": 964,
    "start_time": "2021-10-15T14:35:31.420Z"
   },
   {
    "duration": 932,
    "start_time": "2021-10-15T14:35:31.453Z"
   },
   {
    "duration": 907,
    "start_time": "2021-10-15T14:35:31.479Z"
   },
   {
    "duration": 892,
    "start_time": "2021-10-15T14:35:31.495Z"
   },
   {
    "duration": 878,
    "start_time": "2021-10-15T14:35:31.511Z"
   },
   {
    "duration": 871,
    "start_time": "2021-10-15T14:35:31.519Z"
   },
   {
    "duration": 846,
    "start_time": "2021-10-15T14:35:31.545Z"
   },
   {
    "duration": 842,
    "start_time": "2021-10-15T14:35:31.550Z"
   },
   {
    "duration": 891,
    "start_time": "2021-10-15T14:35:50.133Z"
   },
   {
    "duration": 959,
    "start_time": "2021-10-15T14:36:35.322Z"
   },
   {
    "duration": 154,
    "start_time": "2021-10-15T14:36:36.284Z"
   },
   {
    "duration": 148,
    "start_time": "2021-10-15T14:36:36.442Z"
   },
   {
    "duration": 23,
    "start_time": "2021-10-15T14:36:36.593Z"
   },
   {
    "duration": 46,
    "start_time": "2021-10-15T14:36:36.619Z"
   },
   {
    "duration": 11,
    "start_time": "2021-10-15T14:36:36.668Z"
   },
   {
    "duration": 28,
    "start_time": "2021-10-15T14:36:36.682Z"
   },
   {
    "duration": 51,
    "start_time": "2021-10-15T14:36:36.714Z"
   },
   {
    "duration": 14,
    "start_time": "2021-10-15T14:36:36.768Z"
   },
   {
    "duration": 17,
    "start_time": "2021-10-15T14:36:36.785Z"
   },
   {
    "duration": 8,
    "start_time": "2021-10-15T14:36:36.804Z"
   },
   {
    "duration": 57,
    "start_time": "2021-10-15T14:36:36.815Z"
   },
   {
    "duration": 7,
    "start_time": "2021-10-15T14:36:36.875Z"
   },
   {
    "duration": 29,
    "start_time": "2021-10-15T14:36:36.885Z"
   },
   {
    "duration": 46,
    "start_time": "2021-10-15T14:36:36.916Z"
   },
   {
    "duration": 14,
    "start_time": "2021-10-15T14:36:36.965Z"
   },
   {
    "duration": 7,
    "start_time": "2021-10-15T14:36:36.982Z"
   },
   {
    "duration": 10,
    "start_time": "2021-10-15T14:36:36.991Z"
   },
   {
    "duration": 62,
    "start_time": "2021-10-15T14:36:37.003Z"
   },
   {
    "duration": 26,
    "start_time": "2021-10-15T14:36:37.067Z"
   },
   {
    "duration": 12,
    "start_time": "2021-10-15T14:36:37.096Z"
   },
   {
    "duration": 82,
    "start_time": "2021-10-15T14:36:37.110Z"
   },
   {
    "duration": 115,
    "start_time": "2021-10-15T14:36:37.198Z"
   },
   {
    "duration": 55,
    "start_time": "2021-10-15T14:36:37.316Z"
   },
   {
    "duration": 8,
    "start_time": "2021-10-15T14:36:37.374Z"
   },
   {
    "duration": 17,
    "start_time": "2021-10-15T14:36:37.384Z"
   },
   {
    "duration": 17,
    "start_time": "2021-10-15T14:36:37.404Z"
   },
   {
    "duration": 7,
    "start_time": "2021-10-15T14:36:37.424Z"
   },
   {
    "duration": 48,
    "start_time": "2021-10-15T14:36:37.434Z"
   },
   {
    "duration": 907,
    "start_time": "2021-10-15T14:36:37.485Z"
   },
   {
    "duration": 9,
    "start_time": "2021-10-15T14:36:38.395Z"
   },
   {
    "duration": 10,
    "start_time": "2021-10-15T14:36:38.407Z"
   },
   {
    "duration": 343,
    "start_time": "2021-10-15T14:36:38.420Z"
   },
   {
    "duration": 630,
    "start_time": "2021-10-15T14:36:38.766Z"
   },
   {
    "duration": 986,
    "start_time": "2021-10-15T14:36:39.398Z"
   },
   {
    "duration": 348,
    "start_time": "2021-10-15T14:36:40.387Z"
   },
   {
    "duration": 691,
    "start_time": "2021-10-15T14:36:40.741Z"
   },
   {
    "duration": 35,
    "start_time": "2021-10-15T14:36:41.436Z"
   },
   {
    "duration": 845,
    "start_time": "2021-10-15T14:36:41.479Z"
   },
   {
    "duration": 274,
    "start_time": "2021-10-15T14:36:42.327Z"
   },
   {
    "duration": 23,
    "start_time": "2021-10-15T14:36:42.604Z"
   },
   {
    "duration": 339,
    "start_time": "2021-10-15T14:36:42.630Z"
   },
   {
    "duration": 9,
    "start_time": "2021-10-15T14:36:42.972Z"
   },
   {
    "duration": 20,
    "start_time": "2021-10-15T14:36:42.984Z"
   },
   {
    "duration": 371,
    "start_time": "2021-10-15T14:36:43.006Z"
   },
   {
    "duration": 7,
    "start_time": "2021-10-15T14:36:43.379Z"
   },
   {
    "duration": 7,
    "start_time": "2021-10-15T14:36:43.389Z"
   },
   {
    "duration": 9,
    "start_time": "2021-10-15T14:36:43.398Z"
   },
   {
    "duration": 553,
    "start_time": "2021-10-15T14:36:43.409Z"
   },
   {
    "duration": 567,
    "start_time": "2021-10-15T14:36:43.964Z"
   },
   {
    "duration": 632,
    "start_time": "2021-10-15T14:36:44.533Z"
   },
   {
    "duration": 605,
    "start_time": "2021-10-15T14:36:45.167Z"
   },
   {
    "duration": 14,
    "start_time": "2021-10-15T14:36:45.775Z"
   },
   {
    "duration": 44,
    "start_time": "2021-10-15T14:36:45.792Z"
   },
   {
    "duration": 22,
    "start_time": "2021-10-15T14:36:45.862Z"
   },
   {
    "duration": 11,
    "start_time": "2021-10-15T14:36:45.886Z"
   },
   {
    "duration": 27,
    "start_time": "2021-10-15T14:36:45.899Z"
   },
   {
    "duration": 620,
    "start_time": "2021-10-15T14:36:45.928Z"
   },
   {
    "duration": 18,
    "start_time": "2021-10-15T14:36:46.551Z"
   },
   {
    "duration": 833,
    "start_time": "2021-10-15T14:36:46.572Z"
   },
   {
    "duration": 774,
    "start_time": "2021-10-15T14:36:47.409Z"
   },
   {
    "duration": 698,
    "start_time": "2021-10-15T14:36:48.186Z"
   },
   {
    "duration": 698,
    "start_time": "2021-10-15T14:36:48.887Z"
   },
   {
    "duration": 7,
    "start_time": "2021-10-15T14:36:49.587Z"
   },
   {
    "duration": 14,
    "start_time": "2021-10-15T14:36:49.596Z"
   },
   {
    "duration": 742,
    "start_time": "2021-10-15T14:36:49.613Z"
   },
   {
    "duration": 1232,
    "start_time": "2021-10-15T14:36:50.358Z"
   },
   {
    "duration": 581,
    "start_time": "2021-10-15T14:36:51.594Z"
   },
   {
    "duration": 686,
    "start_time": "2021-10-15T14:36:52.178Z"
   },
   {
    "duration": 629,
    "start_time": "2021-10-15T14:36:52.866Z"
   },
   {
    "duration": 1151,
    "start_time": "2021-10-15T14:38:09.439Z"
   },
   {
    "duration": 1234,
    "start_time": "2021-10-15T14:40:09.796Z"
   },
   {
    "duration": 1227,
    "start_time": "2021-10-15T14:44:35.711Z"
   },
   {
    "duration": 879,
    "start_time": "2021-10-15T14:46:54.820Z"
   },
   {
    "duration": 406,
    "start_time": "2021-10-15T14:48:37.775Z"
   },
   {
    "duration": 598,
    "start_time": "2021-10-15T14:49:51.720Z"
   },
   {
    "duration": 17,
    "start_time": "2021-10-15T14:50:09.221Z"
   },
   {
    "duration": 8,
    "start_time": "2021-10-15T14:52:51.577Z"
   },
   {
    "duration": 18,
    "start_time": "2021-10-15T14:53:01.603Z"
   },
   {
    "duration": 322,
    "start_time": "2021-10-15T14:53:07.843Z"
   },
   {
    "duration": 1088,
    "start_time": "2021-10-15T14:53:15.068Z"
   },
   {
    "duration": 177,
    "start_time": "2021-10-15T14:53:16.163Z"
   },
   {
    "duration": 161,
    "start_time": "2021-10-15T14:53:16.344Z"
   },
   {
    "duration": 15,
    "start_time": "2021-10-15T14:53:16.508Z"
   },
   {
    "duration": 12,
    "start_time": "2021-10-15T14:53:16.525Z"
   },
   {
    "duration": 32,
    "start_time": "2021-10-15T14:53:16.539Z"
   },
   {
    "duration": 25,
    "start_time": "2021-10-15T14:53:16.573Z"
   },
   {
    "duration": 8,
    "start_time": "2021-10-15T14:53:16.601Z"
   },
   {
    "duration": 54,
    "start_time": "2021-10-15T14:53:16.612Z"
   },
   {
    "duration": 15,
    "start_time": "2021-10-15T14:53:16.668Z"
   },
   {
    "duration": 8,
    "start_time": "2021-10-15T14:53:16.686Z"
   },
   {
    "duration": 14,
    "start_time": "2021-10-15T14:53:16.696Z"
   },
   {
    "duration": 7,
    "start_time": "2021-10-15T14:53:16.712Z"
   },
   {
    "duration": 24,
    "start_time": "2021-10-15T14:53:16.762Z"
   },
   {
    "duration": 7,
    "start_time": "2021-10-15T14:53:16.789Z"
   },
   {
    "duration": 15,
    "start_time": "2021-10-15T14:53:16.798Z"
   },
   {
    "duration": 50,
    "start_time": "2021-10-15T14:53:16.815Z"
   },
   {
    "duration": 22,
    "start_time": "2021-10-15T14:53:16.867Z"
   },
   {
    "duration": 18,
    "start_time": "2021-10-15T14:53:16.892Z"
   },
   {
    "duration": 49,
    "start_time": "2021-10-15T14:53:16.913Z"
   },
   {
    "duration": 14,
    "start_time": "2021-10-15T14:53:16.965Z"
   },
   {
    "duration": 51,
    "start_time": "2021-10-15T14:53:16.981Z"
   },
   {
    "duration": 110,
    "start_time": "2021-10-15T14:53:17.038Z"
   },
   {
    "duration": 41,
    "start_time": "2021-10-15T14:53:17.165Z"
   },
   {
    "duration": 12,
    "start_time": "2021-10-15T14:53:17.208Z"
   },
   {
    "duration": 39,
    "start_time": "2021-10-15T14:53:17.223Z"
   },
   {
    "duration": 12,
    "start_time": "2021-10-15T14:53:17.265Z"
   },
   {
    "duration": 10,
    "start_time": "2021-10-15T14:53:17.280Z"
   },
   {
    "duration": 27,
    "start_time": "2021-10-15T14:53:17.293Z"
   },
   {
    "duration": 887,
    "start_time": "2021-10-15T14:53:17.323Z"
   },
   {
    "duration": 9,
    "start_time": "2021-10-15T14:53:18.212Z"
   },
   {
    "duration": 18,
    "start_time": "2021-10-15T14:53:18.224Z"
   },
   {
    "duration": 364,
    "start_time": "2021-10-15T14:53:18.244Z"
   },
   {
    "duration": 594,
    "start_time": "2021-10-15T14:53:18.611Z"
   },
   {
    "duration": 931,
    "start_time": "2021-10-15T14:53:19.207Z"
   },
   {
    "duration": 344,
    "start_time": "2021-10-15T14:53:20.141Z"
   },
   {
    "duration": 685,
    "start_time": "2021-10-15T14:53:20.487Z"
   },
   {
    "duration": 24,
    "start_time": "2021-10-15T14:53:21.174Z"
   },
   {
    "duration": 824,
    "start_time": "2021-10-15T14:53:21.200Z"
   },
   {
    "duration": 336,
    "start_time": "2021-10-15T14:53:22.026Z"
   },
   {
    "duration": 21,
    "start_time": "2021-10-15T14:53:22.364Z"
   },
   {
    "duration": 233,
    "start_time": "2021-10-15T14:53:22.388Z"
   },
   {
    "duration": 8,
    "start_time": "2021-10-15T14:53:22.624Z"
   },
   {
    "duration": 40,
    "start_time": "2021-10-15T14:53:22.635Z"
   },
   {
    "duration": 348,
    "start_time": "2021-10-15T14:53:22.678Z"
   },
   {
    "duration": 8,
    "start_time": "2021-10-15T14:53:23.029Z"
   },
   {
    "duration": 28,
    "start_time": "2021-10-15T14:53:23.039Z"
   },
   {
    "duration": 7,
    "start_time": "2021-10-15T14:53:23.070Z"
   },
   {
    "duration": 552,
    "start_time": "2021-10-15T14:53:23.080Z"
   },
   {
    "duration": 582,
    "start_time": "2021-10-15T14:53:23.635Z"
   },
   {
    "duration": 651,
    "start_time": "2021-10-15T14:53:24.219Z"
   },
   {
    "duration": 714,
    "start_time": "2021-10-15T14:53:24.873Z"
   },
   {
    "duration": 16,
    "start_time": "2021-10-15T14:53:25.590Z"
   },
   {
    "duration": 78,
    "start_time": "2021-10-15T14:53:25.609Z"
   },
   {
    "duration": 118,
    "start_time": "2021-10-15T14:53:25.690Z"
   },
   {
    "duration": 11,
    "start_time": "2021-10-15T14:53:25.811Z"
   },
   {
    "duration": 45,
    "start_time": "2021-10-15T14:53:25.825Z"
   },
   {
    "duration": 537,
    "start_time": "2021-10-15T14:53:25.873Z"
   },
   {
    "duration": 9,
    "start_time": "2021-10-15T14:53:26.413Z"
   },
   {
    "duration": 742,
    "start_time": "2021-10-15T14:53:26.424Z"
   },
   {
    "duration": 804,
    "start_time": "2021-10-15T14:53:27.169Z"
   },
   {
    "duration": 659,
    "start_time": "2021-10-15T14:53:27.976Z"
   },
   {
    "duration": 633,
    "start_time": "2021-10-15T14:53:28.637Z"
   },
   {
    "duration": 6,
    "start_time": "2021-10-15T14:53:29.272Z"
   },
   {
    "duration": 7,
    "start_time": "2021-10-15T14:53:29.281Z"
   },
   {
    "duration": 612,
    "start_time": "2021-10-15T14:53:29.290Z"
   },
   {
    "duration": 809,
    "start_time": "2021-10-15T14:53:29.905Z"
   },
   {
    "duration": 594,
    "start_time": "2021-10-15T14:53:30.721Z"
   },
   {
    "duration": 687,
    "start_time": "2021-10-15T14:53:31.318Z"
   },
   {
    "duration": 630,
    "start_time": "2021-10-15T14:53:32.007Z"
   },
   {
    "duration": 916,
    "start_time": "2021-10-15T15:02:29.246Z"
   },
   {
    "duration": 124,
    "start_time": "2021-10-15T15:02:30.165Z"
   },
   {
    "duration": 118,
    "start_time": "2021-10-15T15:02:30.292Z"
   },
   {
    "duration": 16,
    "start_time": "2021-10-15T15:02:30.412Z"
   },
   {
    "duration": 33,
    "start_time": "2021-10-15T15:02:30.431Z"
   },
   {
    "duration": 15,
    "start_time": "2021-10-15T15:02:30.467Z"
   },
   {
    "duration": 26,
    "start_time": "2021-10-15T15:02:30.486Z"
   },
   {
    "duration": 54,
    "start_time": "2021-10-15T15:02:30.518Z"
   },
   {
    "duration": 12,
    "start_time": "2021-10-15T15:02:30.575Z"
   },
   {
    "duration": 19,
    "start_time": "2021-10-15T15:02:30.590Z"
   },
   {
    "duration": 6,
    "start_time": "2021-10-15T15:02:30.611Z"
   },
   {
    "duration": 43,
    "start_time": "2021-10-15T15:02:30.620Z"
   },
   {
    "duration": 7,
    "start_time": "2021-10-15T15:02:30.666Z"
   },
   {
    "duration": 33,
    "start_time": "2021-10-15T15:02:30.676Z"
   },
   {
    "duration": 7,
    "start_time": "2021-10-15T15:02:30.712Z"
   },
   {
    "duration": 51,
    "start_time": "2021-10-15T15:02:30.722Z"
   },
   {
    "duration": 8,
    "start_time": "2021-10-15T15:02:30.775Z"
   },
   {
    "duration": 12,
    "start_time": "2021-10-15T15:02:30.786Z"
   },
   {
    "duration": 23,
    "start_time": "2021-10-15T15:02:30.801Z"
   },
   {
    "duration": 56,
    "start_time": "2021-10-15T15:02:30.826Z"
   },
   {
    "duration": 17,
    "start_time": "2021-10-15T15:02:30.885Z"
   },
   {
    "duration": 64,
    "start_time": "2021-10-15T15:02:30.920Z"
   },
   {
    "duration": 107,
    "start_time": "2021-10-15T15:02:30.990Z"
   },
   {
    "duration": 63,
    "start_time": "2021-10-15T15:02:31.101Z"
   },
   {
    "duration": 10,
    "start_time": "2021-10-15T15:02:31.166Z"
   },
   {
    "duration": 12,
    "start_time": "2021-10-15T15:02:31.178Z"
   },
   {
    "duration": 13,
    "start_time": "2021-10-15T15:02:31.193Z"
   },
   {
    "duration": 18,
    "start_time": "2021-10-15T15:02:31.209Z"
   },
   {
    "duration": 51,
    "start_time": "2021-10-15T15:02:31.229Z"
   },
   {
    "duration": 614,
    "start_time": "2021-10-15T15:21:51.732Z"
   },
   {
    "duration": 81,
    "start_time": "2021-10-15T15:21:52.348Z"
   },
   {
    "duration": 69,
    "start_time": "2021-10-15T15:21:52.431Z"
   },
   {
    "duration": 9,
    "start_time": "2021-10-15T15:21:52.502Z"
   },
   {
    "duration": 9,
    "start_time": "2021-10-15T15:21:52.512Z"
   },
   {
    "duration": 7,
    "start_time": "2021-10-15T15:21:52.522Z"
   },
   {
    "duration": 15,
    "start_time": "2021-10-15T15:21:52.531Z"
   },
   {
    "duration": 6,
    "start_time": "2021-10-15T15:21:52.549Z"
   },
   {
    "duration": 10,
    "start_time": "2021-10-15T15:21:52.592Z"
   },
   {
    "duration": 10,
    "start_time": "2021-10-15T15:21:52.604Z"
   },
   {
    "duration": 5,
    "start_time": "2021-10-15T15:21:52.616Z"
   },
   {
    "duration": 10,
    "start_time": "2021-10-15T15:21:52.622Z"
   },
   {
    "duration": 5,
    "start_time": "2021-10-15T15:21:52.633Z"
   },
   {
    "duration": 53,
    "start_time": "2021-10-15T15:21:52.640Z"
   },
   {
    "duration": 5,
    "start_time": "2021-10-15T15:21:52.695Z"
   },
   {
    "duration": 12,
    "start_time": "2021-10-15T15:21:52.701Z"
   },
   {
    "duration": 4,
    "start_time": "2021-10-15T15:21:52.714Z"
   },
   {
    "duration": 8,
    "start_time": "2021-10-15T15:21:52.720Z"
   },
   {
    "duration": 13,
    "start_time": "2021-10-15T15:21:52.730Z"
   },
   {
    "duration": 15,
    "start_time": "2021-10-15T15:21:52.744Z"
   },
   {
    "duration": 33,
    "start_time": "2021-10-15T15:21:52.760Z"
   },
   {
    "duration": 35,
    "start_time": "2021-10-15T15:21:52.794Z"
   },
   {
    "duration": 52,
    "start_time": "2021-10-15T15:21:52.832Z"
   },
   {
    "duration": 23,
    "start_time": "2021-10-15T15:21:52.891Z"
   },
   {
    "duration": 5,
    "start_time": "2021-10-15T15:21:52.916Z"
   },
   {
    "duration": 4,
    "start_time": "2021-10-15T15:21:52.923Z"
   },
   {
    "duration": 6,
    "start_time": "2021-10-15T15:21:52.928Z"
   },
   {
    "duration": 5,
    "start_time": "2021-10-15T15:21:52.936Z"
   },
   {
    "duration": 11,
    "start_time": "2021-10-15T15:21:52.942Z"
   },
   {
    "duration": 467,
    "start_time": "2021-10-15T15:21:52.954Z"
   },
   {
    "duration": 6,
    "start_time": "2021-10-15T15:21:53.423Z"
   },
   {
    "duration": 8,
    "start_time": "2021-10-15T15:21:53.430Z"
   },
   {
    "duration": 220,
    "start_time": "2021-10-15T15:21:53.440Z"
   },
   {
    "duration": 338,
    "start_time": "2021-10-15T15:21:53.661Z"
   },
   {
    "duration": 510,
    "start_time": "2021-10-15T15:21:54.000Z"
   },
   {
    "duration": 198,
    "start_time": "2021-10-15T15:21:54.512Z"
   },
   {
    "duration": 360,
    "start_time": "2021-10-15T15:21:54.711Z"
   },
   {
    "duration": 24,
    "start_time": "2021-10-15T15:21:55.073Z"
   },
   {
    "duration": 459,
    "start_time": "2021-10-15T15:21:55.098Z"
   },
   {
    "duration": 207,
    "start_time": "2021-10-15T15:21:55.559Z"
   },
   {
    "duration": 14,
    "start_time": "2021-10-15T15:21:55.767Z"
   },
   {
    "duration": 156,
    "start_time": "2021-10-15T15:21:55.782Z"
   },
   {
    "duration": 56,
    "start_time": "2021-10-15T15:21:55.939Z"
   },
   {
    "duration": 18,
    "start_time": "2021-10-15T15:21:55.996Z"
   },
   {
    "duration": 285,
    "start_time": "2021-10-15T15:21:56.016Z"
   },
   {
    "duration": 4,
    "start_time": "2021-10-15T15:21:56.303Z"
   },
   {
    "duration": 12,
    "start_time": "2021-10-15T15:21:56.309Z"
   },
   {
    "duration": 9,
    "start_time": "2021-10-15T15:21:56.322Z"
   },
   {
    "duration": 290,
    "start_time": "2021-10-15T15:21:56.332Z"
   },
   {
    "duration": 348,
    "start_time": "2021-10-15T15:21:56.624Z"
   },
   {
    "duration": 356,
    "start_time": "2021-10-15T15:21:56.974Z"
   },
   {
    "duration": 355,
    "start_time": "2021-10-15T15:21:57.332Z"
   },
   {
    "duration": 9,
    "start_time": "2021-10-15T15:21:57.689Z"
   },
   {
    "duration": 30,
    "start_time": "2021-10-15T15:21:57.700Z"
   },
   {
    "duration": 79,
    "start_time": "2021-10-15T15:21:57.731Z"
   },
   {
    "duration": 6,
    "start_time": "2021-10-15T15:21:57.812Z"
   },
   {
    "duration": 22,
    "start_time": "2021-10-15T15:21:57.820Z"
   },
   {
    "duration": 283,
    "start_time": "2021-10-15T15:21:57.844Z"
   },
   {
    "duration": 6,
    "start_time": "2021-10-15T15:21:58.129Z"
   },
   {
    "duration": 372,
    "start_time": "2021-10-15T15:21:58.137Z"
   },
   {
    "duration": 420,
    "start_time": "2021-10-15T15:21:58.511Z"
   },
   {
    "duration": 353,
    "start_time": "2021-10-15T15:21:58.932Z"
   },
   {
    "duration": 358,
    "start_time": "2021-10-15T15:21:59.287Z"
   },
   {
    "duration": 6,
    "start_time": "2021-10-15T15:21:59.647Z"
   },
   {
    "duration": 17,
    "start_time": "2021-10-15T15:21:59.654Z"
   },
   {
    "duration": 358,
    "start_time": "2021-10-15T15:21:59.673Z"
   },
   {
    "duration": 458,
    "start_time": "2021-10-15T15:22:00.033Z"
   },
   {
    "duration": 334,
    "start_time": "2021-10-15T15:22:00.496Z"
   },
   {
    "duration": 387,
    "start_time": "2021-10-15T15:22:00.832Z"
   },
   {
    "duration": 360,
    "start_time": "2021-10-15T15:22:01.220Z"
   }
  ],
  "kernelspec": {
   "display_name": "Python 3 (ipykernel)",
   "language": "python",
   "name": "python3"
  },
  "language_info": {
   "codemirror_mode": {
    "name": "ipython",
    "version": 3
   },
   "file_extension": ".py",
   "mimetype": "text/x-python",
   "name": "python",
   "nbconvert_exporter": "python",
   "pygments_lexer": "ipython3",
   "version": "3.9.7"
  },
  "toc": {
   "base_numbering": 1,
   "nav_menu": {},
   "number_sections": true,
   "sideBar": true,
   "skip_h1_title": true,
   "title_cell": "Содержание",
   "title_sidebar": "Contents",
   "toc_cell": true,
   "toc_position": {},
   "toc_section_display": true,
   "toc_window_display": false
  }
 },
 "nbformat": 4,
 "nbformat_minor": 2
}
